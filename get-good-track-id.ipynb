{
 "cells": [
  {
   "cell_type": "markdown",
   "id": "91063ad4",
   "metadata": {},
   "source": [
    "# Spotify Genre Classification "
   ]
  },
  {
   "cell_type": "markdown",
   "id": "f4582799",
   "metadata": {},
   "source": [
    "## Getting the Data - Scraping and Spotify API"
   ]
  },
  {
   "cell_type": "markdown",
   "id": "00507628",
   "metadata": {},
   "source": [
    "### explaining the functions of API:\n",
    "the target : to create a dataFrame that contains the information from the billabord charts and from spotify. the information from spotify is the id of each song that is in the billaboard chart.\n",
    "\n",
    "We get the id of the song,which is the connection between the billabord info and the spotify info (we take each song and artist name from the billabord chart and search for the specific song id in order to get the features that we want to check on each song, in order to classify which song is a hit or not , i.e. which song is popular and which isn't (by the popularity column, which we turned from numeric to catagorial (yes/no).\n",
    "\n",
    "In addition to getting the id - with get_id_of_songs() function, that uses other functions : get_key(val) and find_id(song,result), this function also returns the uri , the song features that we will use in the dataFrame and also info about the artist ( with find_artist_info(result) ) , which includes the 'popularity' feature , which is out target variable.  "
   ]
  },
  {
   "cell_type": "code",
   "execution_count": null,
   "id": "b4b78e76",
   "metadata": {},
   "outputs": [
    {
     "name": "stdout",
     "output_type": "stream",
     "text": [
      "Total tables: 2\n"
     ]
    }
   ],
   "source": [
    "import pandas as pd\n",
    "import numpy as np\n",
    "import matplotlib.pyplot as plt\n",
    "from unicodedata import normalize\n",
    "import requests \n",
    "import scipy.stats as stats\n",
    "import datetime\n",
    "import base64\n",
    "clientid = '4d7f3ed374354cbf848b72bc270abedd'\n",
    "secretid = '7c9935d59cbc417e8ac74ad8d7e06a6e'\n",
    "table_MN = pd.read_html('https://en.wikipedia.org/wiki/Billboard_Year-End_Hot_100_singles_of_2019')\n",
    "print(f'Total tables: {len(table_MN)}')\n",
    "df1 = table_MN[0]\n",
    "table_MN = pd.read_html('https://en.wikipedia.org/wiki/Billboard_Year-End_Hot_100_singles_of_2018')\n",
    "df2 = table_MN[0]\n",
    "table_MN = pd.read_html('https://en.wikipedia.org/wiki/Billboard_Year-End_Hot_100_singles_of_2017')\n",
    "df3 = table_MN[0]\n",
    "table_MN = pd.read_html('https://en.wikipedia.org/wiki/Billboard_Year-End_Hot_100_singles_of_2016')\n",
    "df4 = table_MN[0]\n",
    "table_MN = pd.read_html('https://en.wikipedia.org/wiki/Billboard_Year-End_Hot_100_singles_of_2015')\n",
    "df5 = table_MN[0]\n",
    "table_MN = pd.read_html('https://en.wikipedia.org/wiki/Billboard_Year-End_Hot_100_singles_of_2014')\n",
    "df6 = table_MN[0]\n",
    "table_MN = pd.read_html('https://en.wikipedia.org/wiki/Billboard_Year-End_Hot_100_singles_of_2013')\n",
    "df7 = table_MN[1]\n",
    "table_MN = pd.read_html('https://en.wikipedia.org/wiki/Billboard_Year-End_Hot_100_singles_of_2012')\n",
    "df8 = table_MN[1]\n",
    "table_MN = pd.read_html('https://en.wikipedia.org/wiki/Billboard_Year-End_Hot_100_singles_of_2011')\n",
    "df9 = table_MN[0]\n",
    "frames = [df1, df2, df3, df4, df5, df6, df7, df8, df9]\n",
    "frames = [df1]\n",
    "\n",
    "## todo: get more data, and really scrape this.\n",
    "all_songs_list = pd.concat(frames)"
   ]
  },
  {
   "cell_type": "code",
   "execution_count": null,
   "id": "b941b35e",
   "metadata": {},
   "outputs": [],
   "source": [
    "# print(all_songs_list)"
   ]
  },
  {
   "cell_type": "code",
   "execution_count": null,
   "id": "13ddf5ae",
   "metadata": {},
   "outputs": [],
   "source": [
    "# sp.search(\"lsdjlk asfklfafas\", limit=1,type='track')"
   ]
  },
  {
   "cell_type": "code",
   "execution_count": null,
   "id": "35efb46c",
   "metadata": {},
   "outputs": [],
   "source": [
    "import spotipy\n",
    "from spotipy.oauth2 import SpotifyClientCredentials"
   ]
  },
  {
   "cell_type": "code",
   "execution_count": null,
   "id": "2b9b7eef",
   "metadata": {},
   "outputs": [],
   "source": [
    "cid = \"3b41c863d85746899b1bd17a39149f8e\"\n",
    "secret = \"631b736a77d545e4a822bea470435cea\""
   ]
  },
  {
   "cell_type": "code",
   "execution_count": null,
   "id": "329c7a40",
   "metadata": {},
   "outputs": [],
   "source": [
    "client_credentials_manager = SpotifyClientCredentials(client_id=cid, client_secret=secret)\n",
    "sp = spotipy.Spotify(client_credentials_manager = client_credentials_manager)"
   ]
  },
  {
   "cell_type": "code",
   "execution_count": null,
   "id": "f65f9dcf",
   "metadata": {},
   "outputs": [],
   "source": [
    "import re\n",
    "\n",
    "song_results = []\n",
    "for index, row in all_songs_list.iterrows():\n",
    "    song_rank = row['No.']\n",
    "    artist_original_name = row['Artist(s)']\n",
    "    artist_names = re.split('featuring | and | ,',artist_original_name)\n",
    "    artist_names.append(artist_original_name)\n",
    "    for name in artist_names:\n",
    "        query = \"track:\"+row['Title']+\" artist:\"+name\n",
    "        query = query.replace('\"','')\n",
    "        search_result = sp.search(query, limit=1,type='track')\n",
    "        if len(search_result['tracks']['items']) != 0:\n",
    "            song_entity ={'rank':song_rank,'result':search_result}\n",
    "            song_results.append(song_entity)\n",
    "            break\n",
    "#         song_queries.append(query)"
   ]
  },
  {
   "cell_type": "markdown",
   "id": "8ac5006e",
   "metadata": {},
   "source": [
    "#### get the artist/band name , in order to search for the song title in the find_id() function"
   ]
  },
  {
   "cell_type": "code",
   "execution_count": null,
   "id": "9197d249",
   "metadata": {},
   "outputs": [],
   "source": [
    "# so we will get an additinal info about the artist and the song - genre , popularity and etc.\n",
    "def find_artist_info(result):\n",
    "    for data in result['tracks']['items']:\n",
    "        for key,value in data.items():\n",
    "                if (key=='artists'): \n",
    "                      return (value[0]['id'])  \n"
   ]
  },
  {
   "cell_type": "code",
   "execution_count": null,
   "id": "cc252f82",
   "metadata": {},
   "outputs": [],
   "source": [
    "#find_artist_info(result)"
   ]
  },
  {
   "cell_type": "code",
   "execution_count": null,
   "id": "3aaa6501",
   "metadata": {},
   "outputs": [],
   "source": [
    "def get_song_features(song_entity):\n",
    "    search_result = song_entity['result']\n",
    "    track_uri = search_result['tracks']['items'][0]['uri']\n",
    "    track_features = sp.audio_features(track_uri)[0]\n",
    "    artist_id = search_result['tracks']['items'][0]['artists'][0]['id']\n",
    "    artist_info = sp.artist(artist_id)\n",
    "    artist_popularity = artist_info['popularity']\n",
    "    artist_genre = artist_info['genres'][0]\n",
    "    \n",
    "    features = track_features\n",
    "    features['genre'] = artist_genre\n",
    "    features['popularity'] = artist_popularity\n",
    "    features['rank'] = song_entity['rank']\n",
    "\n",
    "    return features"
   ]
  },
  {
   "cell_type": "code",
   "execution_count": null,
   "id": "157b20bc",
   "metadata": {},
   "outputs": [],
   "source": [
    "# constant1 = \"track:Overshadows artist:Shredhead\"\n",
    "# get_song_features(constant1)\n",
    "\n",
    "def get_songs_df(song_entities):\n",
    "    song_list = []\n",
    "    for ent in song_entities:\n",
    "        try:\n",
    "            song_features = get_song_features(ent)\n",
    "            song_list.append(song_features)\n",
    "        except:\n",
    "            print(ent['result'])\n",
    "            print(\"song was not found!\")\n",
    "    \n",
    "    return pd.DataFrame(song_list)"
   ]
  },
  {
   "cell_type": "markdown",
   "id": "47769247",
   "metadata": {},
   "source": [
    "# Introduction to the problem"
   ]
  },
  {
   "cell_type": "markdown",
   "id": "fdcbfe26",
   "metadata": {},
   "source": [
    "### What is Classification?\n",
    "\n",
    "A classification algorithm takes a dataset of labelled examples as inputs to produce a model that can take unlabeled new data and automatically assign labels to the unlabeled example.\n",
    "\n",
    "If the classification problem has a set of two labels (for instance “spam” or “not spam”) then it is a binary classification problem. Multi-class classification is a problem where the number of labels within the set is three or greater. \n",
    "\n",
    "The problem that we are looking at is a multi-class as there are many genres within the set."
   ]
  },
  {
   "cell_type": "markdown",
   "id": "8aca060c",
   "metadata": {},
   "source": [
    "### our independent features/variables: \n",
    "\n",
    "#### A. from spotify API track info:\n",
    "\n",
    "#### B. from spotify API artist info:\n",
    "\n",
    "#### C. from billaboard charts' scraping: \n",
    "     rank- song position\n",
    "     "
   ]
  },
  {
   "cell_type": "markdown",
   "id": "1d73c946",
   "metadata": {},
   "source": [
    "## What is the target column?\n",
    "our target column (dependent feature): genre\n",
    "    \n",
    "genre is the music type which the song is accosiated to\n",
    "in the data aquisition process, we only took the rifst genre the song is accosiated to."
   ]
  },
  {
   "cell_type": "markdown",
   "id": "cce2012d",
   "metadata": {},
   "source": [
    "our aprior ideas:\n",
    "   \n",
    "   * the features 'danceability', 'energy', loudness ,instrumentalness ,speechiness, liveness', pop and tempo have high        correlation to the genre feature, so they are good features to use in order to classify the songs' genre.\n",
    "    this is due to the fact that those features are linked very strongl to specific genres.\n",
    "    \n",
    "for example, a pop song has a big likelihood to have high danceability, energy, loudness and pop (popularity), whereas a rock song has a big likelihood to have high loudness and instrumentalness, in comparison to a country song that is likely to have low loudness and high acousticness\t.\n",
    "\n",
    "* the rank feature may be helpful to classify the songs' genre since we know that most of the song that has high ranking are classified as pop songs or rap/hip hop songs.\n"
   ]
  },
  {
   "cell_type": "markdown",
   "id": "37b729e8",
   "metadata": {},
   "source": [
    "#  getting to know the data"
   ]
  },
  {
   "cell_type": "code",
   "execution_count": null,
   "id": "34d47f8e",
   "metadata": {},
   "outputs": [],
   "source": []
  },
  {
   "cell_type": "code",
   "execution_count": null,
   "id": "1dc4704c",
   "metadata": {},
   "outputs": [],
   "source": [
    "import matplotlib\n",
    "import seaborn as sns\n",
    "import matplotlib.pyplot as plt\n",
    "import plotly.express as px\n",
    "%matplotlib inline\n",
    "\n",
    "#for preprocessing part\n",
    "from scipy import stats"
   ]
  },
  {
   "cell_type": "code",
   "execution_count": null,
   "id": "a0a92598",
   "metadata": {},
   "outputs": [],
   "source": [
    "#DataFrame of all our songs\n",
    "songs_df = get_songs_df(song_results)"
   ]
  },
  {
   "cell_type": "code",
   "execution_count": null,
   "id": "bbc38632",
   "metadata": {
    "scrolled": true
   },
   "outputs": [],
   "source": [
    "songs_df"
   ]
  },
  {
   "cell_type": "markdown",
   "id": "5fcfc5b8",
   "metadata": {},
   "source": [
    "#  preprocessing of the data"
   ]
  },
  {
   "cell_type": "code",
   "execution_count": null,
   "id": "fb7a03d4",
   "metadata": {},
   "outputs": [],
   "source": [
    "songs_df.head()"
   ]
  },
  {
   "cell_type": "markdown",
   "id": "1a300f88",
   "metadata": {},
   "source": [
    "## dealing with null values"
   ]
  },
  {
   "cell_type": "code",
   "execution_count": null,
   "id": "d667eb80",
   "metadata": {},
   "outputs": [],
   "source": [
    "songs_df.isnull().any()"
   ]
  },
  {
   "cell_type": "code",
   "execution_count": null,
   "id": "7474179e",
   "metadata": {},
   "outputs": [],
   "source": [
    "# # import missingno as msno\n",
    "# # msno.bar(songs_df, color=\"dodgerblue\", sort=\"ascending\", figsize=(10,5), fontsize=12)\n",
    "# songs_df[\"genre\"].isnull().value_counts()\n",
    "# dropping NULL values\n",
    "songs_df = songs_df.dropna(axis=0)"
   ]
  },
  {
   "cell_type": "code",
   "execution_count": null,
   "id": "b2ff60e2",
   "metadata": {
    "scrolled": false
   },
   "outputs": [],
   "source": [
    "songs_df[\"genre\"].isnull().value_counts()"
   ]
  },
  {
   "cell_type": "markdown",
   "id": "9aafe783",
   "metadata": {},
   "source": [
    "we see that there are a lot of dirrerent genres, so we will reduce them: "
   ]
  },
  {
   "cell_type": "code",
   "execution_count": null,
   "id": "980fb823",
   "metadata": {},
   "outputs": [],
   "source": [
    "# coverting sub-genres to main genre\n",
    "def replace_genre(genre,song,index,songs_df):\n",
    "    if genre in song['genre']:\n",
    "        song['genre'] = genre\n",
    "        songs_df.iloc[index] = song"
   ]
  },
  {
   "cell_type": "code",
   "execution_count": null,
   "id": "91352084",
   "metadata": {},
   "outputs": [],
   "source": [
    "# calling replace_genre method\n",
    "for index, song in songs_df.iterrows():\n",
    "    replace_genre(\"hip hop\",song,index,songs_df)\n",
    "    replace_genre(\"rap\",song,index,songs_df)\n",
    "    replace_genre(\"pop\",song,index,songs_df)\n",
    "    replace_genre(\"rock\",song,index,songs_df)\n",
    "    replace_genre(\"country\",song,index,songs_df)\n"
   ]
  },
  {
   "cell_type": "code",
   "execution_count": null,
   "id": "e05116b9",
   "metadata": {},
   "outputs": [],
   "source": [
    "# to make sure we didn't miss any genre\n",
    "songs_df = songs_df.replace({'genre': {\"album rock\": \"rock\", \"glam rock\": \"rock\", \"dance rock\":\"rock\", \"art rock\":\"rock\",\n",
    "                                  \"soft rock\":\"rock\", \"country rock\": \"rock\", \"classic rock\":\"rock\", \"blues rock\":\"rock\", \"celtic rock\":\"rock\",\n",
    "                                  \"australian rock\":\"rock\", \"german alternative rock\":\"rock\", \"alternative rock\":\"rock\", \"dance pop\":\"pop\",\n",
    "                                \"brill building pop\": \"pop\", \"europop\": \"pop\", \"barbadian pop\": \"pop\", \"classic uk pop\":\"pop\", \n",
    "                                \"new wave pop\":\"pop\", \"canadian pop\":\"pop\", \"art pop\":\"pop\", \"belgian pop\": \"pop\", \"britpop\": \"pop\", \n",
    "                                \"italian pop\":\"pop\", \"classic danish pop\": \"pop\", \"bow pop\": \"pop\", \"baroque pop\": \"pop\", \"bubblegum pop\": \"pop\",\n",
    "                                \"afropop\":\"pop\", \"hip pop\":\"pop\", \"atl hip hop\": \"hip hop\", \"east coast hip hop\": \"hip hop\", \"detroit hip hop\":\"hip hop\", \n",
    "                                \"bronx hip hop\": \"hip hop\", \"bubblegum dance\": \"dance\", \"eurodance\":\"dance\", \"belgian dance\":\"dance\", \"german dance\": \"dance\",\n",
    "                                \"classic soul\": \"soul\", \"british soul\": \"soul\", \"chicago soul\": \"soul\", \"british folk\": \"folk\", \"american folk revival\":\"folk\",\n",
    "                                \"drone folk\":\"folk\",\"canadian folk\":\"folk\", \"deep adult standards\":\"adult standards\", \"glam metal\": \"metal\", \"alternative metal\": \"metal\",\n",
    "                                \"acoustic blues\":\"blues\", \"british blues\":\"blues\", \"louisiana blues\":\"blues\", \"g funk\":\"funk\", \"brit funk\":\"funk\",\n",
    "                                \"afrobeat\":\"dance\", \"british invasion\":\"rock\", \"doo-wop\":\"blues\", \"boy band\":\"pop\", \"merseybeat\":\"rock-and-roll\", \"blue\":\"blues\",\n",
    "                                                \"bebop\":\"jazz\", \"avant-garde jazz\":\"jazz\", \"boogaloo\": \"latin\", \"big room\": \"trance\", \"bubble trance\":\"trance\", \"glam punk\":\"rock\",\n",
    "                                                \"australian talent show\":\"pop\", \"mellow gold\":\"rock\", \"hi-nrg\": \"dance\", \"neo mellow\": \"pop\", \"yodeling\":\"folk\", \"classic girl group\":\"pop\",\n",
    "                                                \"british dance band\":\"jazz\", \"deep house\":\"dance\", \"uk garage\": \"dance\", \"chicago rap\":\"hip hop\",\n",
    "                                     \"lgbtq+ hip hop\":\"hip hop\", \"dfw rap\": \"hip hop\", \"contemporary country\":\"country\"}})"
   ]
  },
  {
   "cell_type": "code",
   "execution_count": null,
   "id": "dd9e033d",
   "metadata": {
    "scrolled": false
   },
   "outputs": [],
   "source": [
    "df_genre = songs_df['genre'].value_counts()[:20].sort_values(ascending=False) / len(songs_df)\n",
    "sizes = df_genre.values.tolist()\n",
    "labels = df_genre.index.values.tolist()\n",
    "# Pie chart for genre\n",
    "fig1, ax1 = plt.subplots(figsize=(10,10))\n",
    "ax1.pie(sizes, labels=labels, autopct='%1.1f%%', shadow=False, textprops={'fontsize': 14})\n",
    "ax1.axis('equal')\n",
    "plt.title(\"Most Popular Genres\\n\" + \"(limited to top 10 genres)\", bbox={'facecolor':'0.8', 'pad':5})\n",
    "plt.show()"
   ]
  },
  {
   "cell_type": "markdown",
   "id": "eecd2be2",
   "metadata": {},
   "source": [
    "# dealing with outliers - later on!"
   ]
  },
  {
   "cell_type": "code",
   "execution_count": null,
   "id": "f182a5e5",
   "metadata": {},
   "outputs": [],
   "source": [
    "songs_df[songs_df['genre']=='ccm']"
   ]
  },
  {
   "cell_type": "code",
   "execution_count": null,
   "id": "c68d820c",
   "metadata": {},
   "outputs": [],
   "source": []
  },
  {
   "cell_type": "markdown",
   "id": "ef08c77b",
   "metadata": {},
   "source": [
    "conclusion from the pie chart:\n",
    " pop, rap,hip hop and country are the most popular genres in the billaboard charts, by far from the other genres."
   ]
  },
  {
   "cell_type": "markdown",
   "id": "821a8223",
   "metadata": {},
   "source": [
    "# dropping unnecessary features"
   ]
  },
  {
   "cell_type": "code",
   "execution_count": null,
   "id": "9671e1ef",
   "metadata": {},
   "outputs": [],
   "source": [
    "songs_df.columns"
   ]
  },
  {
   "cell_type": "code",
   "execution_count": null,
   "id": "1a976885",
   "metadata": {},
   "outputs": [],
   "source": [
    "#type has  only one value -  audio features , so we will drop it\n",
    "songs_df['type']"
   ]
  },
  {
   "cell_type": "code",
   "execution_count": null,
   "id": "b301b0fe",
   "metadata": {},
   "outputs": [],
   "source": [
    "#'id', 'uri', 'track_href', 'analysis_url' aren't linked to the song genre at all, so we can drop them "
   ]
  },
  {
   "cell_type": "code",
   "execution_count": null,
   "id": "c3034360",
   "metadata": {
    "scrolled": true
   },
   "outputs": [],
   "source": [
    "songs_df=songs_df.drop(columns=['type','id', 'uri','track_href','analysis_url'])"
   ]
  },
  {
   "cell_type": "markdown",
   "id": "f9341ca5",
   "metadata": {},
   "source": [
    "# Dealing with Catagorials"
   ]
  },
  {
   "cell_type": "code",
   "execution_count": null,
   "id": "85391644",
   "metadata": {},
   "outputs": [],
   "source": [
    "#save a copy before we changed the catagorials\n",
    "songs_df_copy=songs_df.copy()"
   ]
  },
  {
   "cell_type": "code",
   "execution_count": null,
   "id": "ad8f536b",
   "metadata": {},
   "outputs": [],
   "source": [
    "songs_df.columns"
   ]
  },
  {
   "cell_type": "markdown",
   "id": "fb16cb3f",
   "metadata": {},
   "source": [
    "the only Catagorial feature is out target variable - genre"
   ]
  },
  {
   "cell_type": "markdown",
   "id": "597cf13f",
   "metadata": {},
   "source": [
    "since this is  Nominal , i.e there is no particular order between different values of genres and also this this is not a binary (yes/no) column, we will use  "
   ]
  },
  {
   "cell_type": "code",
   "execution_count": null,
   "id": "1a2cf44e",
   "metadata": {},
   "outputs": [],
   "source": [
    "from sklearn.preprocessing import OneHotEncoder\n",
    "\n",
    "ohe = OneHotEncoder(handle_unknown='ignore',sparse=False)"
   ]
  },
  {
   "cell_type": "code",
   "execution_count": null,
   "id": "00871475",
   "metadata": {},
   "outputs": [],
   "source": [
    "songs_df['genre'].unique()"
   ]
  },
  {
   "cell_type": "code",
   "execution_count": null,
   "id": "68bfc549",
   "metadata": {},
   "outputs": [],
   "source": [
    "# pd.get_dummies(songs_df,columns=['genre'])"
   ]
  },
  {
   "cell_type": "code",
   "execution_count": null,
   "id": "e1a80688",
   "metadata": {},
   "outputs": [],
   "source": [
    "# data_cols = pd.DataFrame(ohe.fit_transform(songs_df['genre']))\n",
    "\n",
    "# data_cols"
   ]
  },
  {
   "cell_type": "code",
   "execution_count": null,
   "id": "0ee9a3eb",
   "metadata": {},
   "outputs": [],
   "source": [
    "#! pip install category_encoders"
   ]
  },
  {
   "cell_type": "code",
   "execution_count": null,
   "id": "cacf7cd4",
   "metadata": {},
   "outputs": [],
   "source": [
    "#A set of scikit-learn-style transformers for encoding categorical variables into numeric with different techniques.\n",
    "import category_encoders as ce"
   ]
  },
  {
   "cell_type": "code",
   "execution_count": null,
   "id": "ea422e1e",
   "metadata": {},
   "outputs": [],
   "source": [
    "# # def target_encode_multiclass(X1,y1): #X1,y1 are pandas df and series    \n",
    "# X1=songs_df.drop(['genre'],axis=1)\n",
    "# y1=songs_df['genre'] \n",
    "\n",
    "# enc=ce.OneHotEncoder().fit(songs_df['genre'].astype(str))\n",
    "# y_onehot=enc.transform(songs_df['genre'].astype(str))\n",
    "# # print(y_onehot)\n",
    "# enc.get_feature_names()\n",
    "# # pd.concat([songs_df,y_onehot])\n",
    "# songs_df=songs_df.join(y_onehot)\n",
    "\n"
   ]
  },
  {
   "cell_type": "code",
   "execution_count": null,
   "id": "3074a2f7",
   "metadata": {},
   "outputs": [],
   "source": [
    "# from sklearn.preprocessing import OneHotEncoder\n",
    "# ohe = OneHotEncoder(sparse=False)\n",
    "# ohe.fit_transform(songs_df[['genre']])\n",
    "\n",
    "songs_df['genre']"
   ]
  },
  {
   "cell_type": "code",
   "execution_count": null,
   "id": "652d2280",
   "metadata": {},
   "outputs": [],
   "source": [
    "# onehot_encoder= OneHotEncoder(categories=songs_df['genre']) "
   ]
  },
  {
   "cell_type": "code",
   "execution_count": null,
   "id": "69f51ddb",
   "metadata": {},
   "outputs": [],
   "source": [
    "# dummies_summary = pd.get_dummies(weather['Summary'])\n",
    "# merged_summary = pd.concat([weather,dummies_summary],axis='columns')\n",
    "# weather = merged_summary.drop(['Summary'], axis='columns')\n",
    "# weather"
   ]
  },
  {
   "cell_type": "code",
   "execution_count": null,
   "id": "2e76199d",
   "metadata": {},
   "outputs": [],
   "source": [
    "from sklearn.preprocessing import OneHotEncoder\n",
    "\n",
    "dummies_genre=pd.get_dummies(songs_df['genre'])\n",
    "merged_genre = pd.concat([songs_df,dummies_genre],axis='columns')\n",
    "songs_df = merged_genre\n",
    "songs_df"
   ]
  },
  {
   "cell_type": "code",
   "execution_count": null,
   "id": "b4248a8f",
   "metadata": {},
   "outputs": [],
   "source": [
    "songs_df"
   ]
  },
  {
   "cell_type": "code",
   "execution_count": null,
   "id": "ac2aea71",
   "metadata": {},
   "outputs": [],
   "source": [
    "songs_df['genre']"
   ]
  },
  {
   "cell_type": "code",
   "execution_count": null,
   "id": "3a3adb1f",
   "metadata": {},
   "outputs": [],
   "source": [
    "# X1=songs_df.drop(['genre'],axis=1)\n",
    "# y1=songs_df['genre']                 \n",
    "# target_encode_multiclass(X1,y1)"
   ]
  },
  {
   "cell_type": "markdown",
   "id": "a19b7220",
   "metadata": {},
   "source": [
    "# train test split"
   ]
  },
  {
   "cell_type": "code",
   "execution_count": null,
   "id": "46986118",
   "metadata": {},
   "outputs": [],
   "source": [
    "X = songs_df.drop(['genre'],axis=1)\n",
    "Y = songs_df['genre']"
   ]
  },
  {
   "cell_type": "code",
   "execution_count": null,
   "id": "f893f0fa",
   "metadata": {},
   "outputs": [],
   "source": [
    "from sklearn.model_selection import train_test_split\n",
    "X_train,X_test,Y_train,Y_test = train_test_split(X,Y,test_size=0.20,random_state=42)"
   ]
  },
  {
   "cell_type": "code",
   "execution_count": null,
   "id": "9a322b85",
   "metadata": {},
   "outputs": [],
   "source": [
    "X"
   ]
  },
  {
   "cell_type": "markdown",
   "id": "0c708973",
   "metadata": {},
   "source": [
    "# Visualisation"
   ]
  },
  {
   "cell_type": "code",
   "execution_count": null,
   "id": "987ff033",
   "metadata": {},
   "outputs": [],
   "source": [
    "Y"
   ]
  },
  {
   "cell_type": "code",
   "execution_count": null,
   "id": "769f22fc",
   "metadata": {},
   "outputs": [],
   "source": [
    "X_train.columns"
   ]
  },
  {
   "cell_type": "code",
   "execution_count": null,
   "id": "12ac49a5",
   "metadata": {},
   "outputs": [],
   "source": [
    "numerical_features=['danceability','energy', 'key', 'loudness', 'mode', 'speechiness',\n",
    "       'acousticness', 'instrumentalness', 'liveness', 'valence', 'tempo',\n",
    "       'duration_ms', 'time_signature', 'popularity', 'rank']"
   ]
  },
  {
   "cell_type": "code",
   "execution_count": null,
   "id": "2c54f22d",
   "metadata": {},
   "outputs": [],
   "source": [
    "train_numeric=X_train[numerical_features]"
   ]
  },
  {
   "cell_type": "code",
   "execution_count": null,
   "id": "2485de56",
   "metadata": {},
   "outputs": [],
   "source": [
    "plt.figure(figsize=(20,10))\n",
    "sns.heatmap(X_train[columns=[numerical_features]].corr(),annot=True);"
   ]
  },
  {
   "cell_type": "markdown",
   "id": "16ac9a42",
   "metadata": {},
   "source": [
    "features that have high correlation:\n",
    "    \n",
    "    *loudness and energy  - the more a song is loud, it has more energy \n",
    "    \n",
    "    * pop and rank - the more the song is popular, the more its' rank is high\n",
    "    \n",
    "     * danceability  and speechiness - \n",
    "    \n",
    "    * acousticness and mode - \n",
    "    \n",
    "   * acousticness and danceability \n",
    "    \n",
    "   *acousticness and energy \n",
    "   \n",
    "   * loudness and valance - the more a song is loud, its' valance is high ( it is more happy and cheerful)\n",
    "   \n",
    "   some of these correlations are very intuitive"
   ]
  },
  {
   "cell_type": "code",
   "execution_count": null,
   "id": "db3917f3",
   "metadata": {},
   "outputs": [],
   "source": [
    "# corr_matrix = X_train.corr()\n",
    "# corralations = corr_matrix['genre'].sort_values(ascending = False) \n",
    "# high_corr = (corralations > 0.2)|(corralations < -0.2)\n",
    "# pd.DataFrame(corralations[high_corr])\n",
    "# corralations[high_corr].index"
   ]
  },
  {
   "cell_type": "markdown",
   "id": "aaf64995",
   "metadata": {},
   "source": [
    "#   מה 25.2 טיוטות"
   ]
  },
  {
   "cell_type": "code",
   "execution_count": null,
   "id": "3fcb1b2b",
   "metadata": {},
   "outputs": [],
   "source": []
  },
  {
   "cell_type": "code",
   "execution_count": null,
   "id": "f2eded13",
   "metadata": {},
   "outputs": [],
   "source": [
    "songs={'Alice in Chains':'Them Bones','Beyonce':'Crazy In Love (feat. Jay-Z)','Glass Animals':'Heat Waves','Ed Sheeran':'The Joker And The Queen (feat. Taylor Swift)'}\n",
    "song_names=songs.values()\n",
    "artists_names=songs.keys()\n",
    "song_names_list=list(song_names)"
   ]
  },
  {
   "cell_type": "code",
   "execution_count": null,
   "id": "9216a4f3",
   "metadata": {},
   "outputs": [],
   "source": [
    "#finding the id of the specific song with the song name and a dictionary that contains the artists info\n",
    "def find_id(song,result):\n",
    "    for data in result['tracks']['items']:\n",
    "        for key,value in data.items():\n",
    "            if (key=='name')&  (value==song):\n",
    "                print(data['id'])\n",
    "                print(data['uri'])\n",
    "                print(sp.audio_features(data['uri'])[0])\n",
    "                print(sp.artist(find_artist_info(result)))\n",
    "                return \n",
    "               "
   ]
  },
  {
   "cell_type": "code",
   "execution_count": null,
   "id": "eeed8400",
   "metadata": {},
   "outputs": [],
   "source": [
    "# unneccesary\n",
    "# def get_key(val):\n",
    "#     for key, value in songs.items():\n",
    "#          if val == value:\n",
    "#              return key\n",
    " \n",
    "#     return \"key doesn't exist\""
   ]
  },
  {
   "cell_type": "code",
   "execution_count": null,
   "id": "ed38b459",
   "metadata": {
    "scrolled": true
   },
   "outputs": [],
   "source": [
    "# unnessecay\n",
    "# def get_id_of_songs():\n",
    "\n",
    "#     # for song in song_names_list:\n",
    "\n",
    "#     for song in song_names_list:\n",
    "#         result = sp.search(get_key(song), limit=10)\n",
    "#      #   print(result)\n",
    "#         print(\"\\n\")\n",
    "#         find_id(song,result)\n",
    "\n"
   ]
  },
  {
   "cell_type": "code",
   "execution_count": null,
   "id": "29de6730",
   "metadata": {
    "scrolled": false
   },
   "outputs": [],
   "source": [
    "get_id_of_songs()"
   ]
  },
  {
   "cell_type": "markdown",
   "id": "49d46494",
   "metadata": {},
   "source": [
    "# טיוטות"
   ]
  },
  {
   "cell_type": "code",
   "execution_count": null,
   "id": "13178061",
   "metadata": {},
   "outputs": [],
   "source": [
    "# for artist in artists_names:\n",
    "#     art=sp.search(artist)"
   ]
  },
  {
   "cell_type": "code",
   "execution_count": null,
   "id": "2d2a4226",
   "metadata": {},
   "outputs": [],
   "source": [
    "#art"
   ]
  },
  {
   "cell_type": "code",
   "execution_count": null,
   "id": "67a65b8b",
   "metadata": {},
   "outputs": [],
   "source": [
    "#art['tracks']['items']"
   ]
  },
  {
   "cell_type": "code",
   "execution_count": null,
   "id": "a803cd2d",
   "metadata": {},
   "outputs": [],
   "source": [
    "#art['tracks']['items'][0]"
   ]
  },
  {
   "cell_type": "code",
   "execution_count": null,
   "id": "cdd82780",
   "metadata": {
    "scrolled": true
   },
   "outputs": [],
   "source": [
    "#art['tracks']['items']"
   ]
  },
  {
   "cell_type": "code",
   "execution_count": null,
   "id": "4130bee9",
   "metadata": {},
   "outputs": [],
   "source": [
    "# #finding the id of the specific song with the song name and a dictionary that contains the artists info\n",
    "# def find_id2(song,result):\n",
    "#     for data in result['tracks']['items']:\n",
    "#         for key,value in data.items():\n",
    "#             if (key=='name')&  (value==song):\n",
    "#                 print(data['id'])\n",
    "#                 print(data['uri'])\n",
    "#                 print(sp.audio_features(data['uri'])[0])\n",
    "#                 print(sp.artist(\"64tNsm6TnZe2zpcMVMOoHL\"))\n",
    "#                 return \n",
    "               "
   ]
  },
  {
   "cell_type": "code",
   "execution_count": null,
   "id": "828dd48e",
   "metadata": {},
   "outputs": [],
   "source": [
    "\n",
    "# find_id2('Them Bones',result)"
   ]
  },
  {
   "cell_type": "code",
   "execution_count": null,
   "id": "e29c7949",
   "metadata": {},
   "outputs": [],
   "source": [
    "#  print(sp.artist(find_artist_id()))"
   ]
  },
  {
   "cell_type": "code",
   "execution_count": null,
   "id": "6c9cbed6",
   "metadata": {},
   "outputs": [],
   "source": [
    "\n",
    "#  artists_names=songs.keys()\n",
    "# def find_artist_id():\n",
    "#         for key,value in art['tracks']['items'][0]['artists'][0].items():\n",
    "#             if(key=='id'):\n",
    "#                 print(value)\n",
    "                   "
   ]
  },
  {
   "cell_type": "code",
   "execution_count": null,
   "id": "af87b6da",
   "metadata": {
    "scrolled": true
   },
   "outputs": [],
   "source": [
    "# def find_features(song,result):\n",
    "#     for song in song_names_list:\n",
    "#         result = sp.search(get_key(song), limit=10)\n",
    "#         for data in result['tracks']['items']:\n",
    "#             print(sp.audio_features(\"spotify:track:4A065x9kJt955eGVqf813g\")[0])\n",
    "#sp.artist(\"spotify:artist:6eUKZXaKkcviH0Ku9w2n3V\")\n"
   ]
  },
  {
   "cell_type": "code",
   "execution_count": null,
   "id": "a32e6376",
   "metadata": {
    "scrolled": true
   },
   "outputs": [],
   "source": [
    "# get_id_of_songs()"
   ]
  },
  {
   "cell_type": "code",
   "execution_count": null,
   "id": "bbeaa890",
   "metadata": {},
   "outputs": [],
   "source": [
    "# art=sp.search(artist)"
   ]
  },
  {
   "cell_type": "markdown",
   "id": "8488581b",
   "metadata": {},
   "source": [
    "## כל מה שלמטה זה טיוטה"
   ]
  },
  {
   "cell_type": "code",
   "execution_count": null,
   "id": "6c4da402",
   "metadata": {},
   "outputs": [],
   "source": [
    "# tracks = []\n",
    "\n",
    "# playlist_link =\"spotify:track:4A065x9kJt955eGVqf813g\"\n",
    "# #playlist_URI = playlist_link.split(\"/\")[-1].split(\"?\")[0]\n",
    "# track_uris = [x[\"track\"][\"uri\"] for x in sp.playlist_tracks(playlist_URI)[\"items\"]]\n",
    "\n",
    "# track_uri = track[\"track\"][\"uri\"]\n",
    "\n",
    "# #Track name\n",
    "# track_name = track[\"track\"][\"name\"]\n",
    "    \n",
    "# #Main Artist\n",
    "# artist_uri = track[\"track\"][\"artists\"][0][\"uri\"]\n",
    "# artist_info = sp.artist(artist_uri)\n",
    "\n",
    "# #Name, popularity, genre\n",
    "# artist_name = track[\"track\"][\"artists\"][0][\"name\"]\n",
    "# artist_pop = artist_info[\"popularity\"]\n",
    "# artist_genres = artist_info[\"genres\"]\n",
    "\n",
    "# #Album\n",
    "# album = track[\"track\"][\"album\"][\"name\"]\n",
    "\n",
    "# #Popularity of the track\n",
    "# track_pop = track[\"track\"][\"popularity\"]\n",
    "\n",
    "# track_features = sp.audio_features(track_uri)[0]\n",
    "\n",
    "# track_genre = 'None'\n",
    "# if len(artist_genres)>0:\n",
    "#     track_genre = artist_genres[0]\n",
    "\n",
    "# track_features['genre'] = track_genre\n",
    "# track_features['pop'] = track_pop\n",
    "# track_features['name'] = track_name\n",
    "# track_features['artist'] = artist_name\n",
    "# tracks.append(track_features)"
   ]
  },
  {
   "cell_type": "code",
   "execution_count": null,
   "id": "160067c5",
   "metadata": {},
   "outputs": [],
   "source": [
    "# def find_artist_id0():\n",
    "#     for song in song_names_list:\n",
    "#         for data in art['tracks']['items']:\n",
    "#             for key,value in data.items():\n",
    "              \n",
    "#                 if ((key=='uri') & (str(value).contains('a'))) :\n",
    "#                     print(str(value))\n",
    "#                     print (data['uri'])\n",
    "#                     print('dgft')\n",
    "#                     return\n",
    "#                     #print(data['uri'])\n",
    "        "
   ]
  },
  {
   "cell_type": "code",
   "execution_count": null,
   "id": "17962407",
   "metadata": {},
   "outputs": [],
   "source": [
    "  #  print(result)\n",
    "# for track in song_names_list:\n",
    "#     #print(song_names_list[track])\n",
    "#     if(track==result['tracks']['items'][0]['name']):\n",
    "#         print(result['tracks']['items'][0]['name'])\n",
    "# for item in a_dict.items():\n",
    "# ...     print(item)"
   ]
  },
  {
   "cell_type": "code",
   "execution_count": null,
   "id": "c78dfe0c",
   "metadata": {},
   "outputs": [],
   "source": [
    "# song_names_list"
   ]
  },
  {
   "cell_type": "code",
   "execution_count": null,
   "id": "0c3b395a",
   "metadata": {},
   "outputs": [],
   "source": [
    "# data.items()"
   ]
  },
  {
   "cell_type": "code",
   "execution_count": null,
   "id": "07bd14cd",
   "metadata": {},
   "outputs": [],
   "source": [
    "# result['tracks']"
   ]
  },
  {
   "cell_type": "code",
   "execution_count": null,
   "id": "608ea726",
   "metadata": {},
   "outputs": [],
   "source": [
    "# for data in result['tracks']['items']:\n",
    "#     for key,value in data.items():\n",
    "#         if (key=='name')&  (value==song_names_list[0]):\n",
    "#             print(value)"
   ]
  },
  {
   "cell_type": "code",
   "execution_count": null,
   "id": "bec3f798",
   "metadata": {},
   "outputs": [],
   "source": [
    "# result = sp.search(songs, type='track')"
   ]
  },
  {
   "cell_type": "code",
   "execution_count": null,
   "id": "509da851",
   "metadata": {},
   "outputs": [],
   "source": [
    "# data.items()"
   ]
  },
  {
   "cell_type": "code",
   "execution_count": null,
   "id": "54a52bb2",
   "metadata": {},
   "outputs": [],
   "source": [
    "# song_names_list"
   ]
  },
  {
   "cell_type": "code",
   "execution_count": null,
   "id": "e463de7e",
   "metadata": {},
   "outputs": [],
   "source": [
    "# result"
   ]
  },
  {
   "cell_type": "code",
   "execution_count": null,
   "id": "32c0c30c",
   "metadata": {},
   "outputs": [],
   "source": [
    "#result['tracks']['items'] - a list of dicts"
   ]
  },
  {
   "cell_type": "code",
   "execution_count": null,
   "id": "30872339",
   "metadata": {},
   "outputs": [],
   "source": [
    "# result['tracks']['items']"
   ]
  },
  {
   "cell_type": "code",
   "execution_count": null,
   "id": "fe039d6f",
   "metadata": {},
   "outputs": [],
   "source": [
    "#print(result['tracks']['items'])"
   ]
  },
  {
   "cell_type": "code",
   "execution_count": null,
   "id": "e1909b20",
   "metadata": {},
   "outputs": [],
   "source": [
    "# for data in result['tracks']['items']:\n",
    "#     for key,value in data.items():\n",
    "#         if (key=='name')&  (value==song_names_list[0]):\n",
    "#             print(value)"
   ]
  },
  {
   "cell_type": "code",
   "execution_count": null,
   "id": "de9eceaf",
   "metadata": {},
   "outputs": [],
   "source": [
    "# for data in result['tracks']['items']:\n",
    "#      for key in data:\n",
    "#             if key=='name'& (value==song_names_list[0]):\n",
    "#                 print(value)\n",
    "   "
   ]
  },
  {
   "cell_type": "code",
   "execution_count": null,
   "id": "03228624",
   "metadata": {},
   "outputs": [],
   "source": [
    "# for data in result['tracks']['items']:\n",
    "#      for key in data.keys():\n",
    "#             if key=='name':\n",
    "#                 print(key)\n",
    "   "
   ]
  },
  {
   "cell_type": "code",
   "execution_count": null,
   "id": "382c61ed",
   "metadata": {},
   "outputs": [],
   "source": [
    "# for data in result['tracks']['items']:\n",
    "#     print (data)"
   ]
  }
 ],
 "metadata": {
  "kernelspec": {
   "display_name": "Python 3",
   "language": "python",
   "name": "python3"
  },
  "language_info": {
   "codemirror_mode": {
    "name": "ipython",
    "version": 3
   },
   "file_extension": ".py",
   "mimetype": "text/x-python",
   "name": "python",
   "nbconvert_exporter": "python",
   "pygments_lexer": "ipython3",
   "version": "3.8.8"
  }
 },
 "nbformat": 4,
 "nbformat_minor": 5
}
