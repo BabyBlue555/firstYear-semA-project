{
 "cells": [
  {
   "cell_type": "markdown",
   "id": "8c7ffd02",
   "metadata": {},
   "source": [
    "the target : to create a dataFrame that contains the information from the billabord charts and from spotify. the information from spotify is the id of each song that is in the billaboard chart.\n",
    "\n",
    "We get the id of the song,which is the connection between the billabord info and the spotify info (we take each song and artist name from the billabord chart and search for the specific song id in order to get the features that we want to check on each song, in order to classify which song is a hit or not , i.e. which song is popular and which isn't (by the popularity column, which we turned from numeric to catagorial (yes/no).\n",
    "\n",
    "In addition to getting the id - with get_id_of_songs() function, that uses other functions : get_key(val) and find_id(song,result), this function also returns the uri , the song features that we will use in the dataFrame and also info about the artist ( with find_artist_info(result) ) , which includes the 'popularity' feature , which is out target variable.  "
   ]
  },
  {
   "cell_type": "code",
   "execution_count": 94,
   "id": "668fcd94",
   "metadata": {},
   "outputs": [
    {
     "name": "stdout",
     "output_type": "stream",
     "text": [
      "Total tables: 2\n"
     ]
    }
   ],
   "source": [
    "import pandas as pd\n",
    "import numpy as np\n",
    "import matplotlib.pyplot as plt\n",
    "from unicodedata import normalize\n",
    "import requests \n",
    "import scipy.stats as stats\n",
    "import datetime\n",
    "import base64\n",
    "clientid = '4d7f3ed374354cbf848b72bc270abedd'\n",
    "secretid = '7c9935d59cbc417e8ac74ad8d7e06a6e'\n",
    "table_MN = pd.read_html('https://en.wikipedia.org/wiki/Billboard_Year-End_Hot_100_singles_of_2019')\n",
    "print(f'Total tables: {len(table_MN)}')\n",
    "df1 = table_MN[0]\n",
    "table_MN = pd.read_html('https://en.wikipedia.org/wiki/Billboard_Year-End_Hot_100_singles_of_2018')\n",
    "df2 = table_MN[0]\n",
    "table_MN = pd.read_html('https://en.wikipedia.org/wiki/Billboard_Year-End_Hot_100_singles_of_2017')\n",
    "df3 = table_MN[0]\n",
    "table_MN = pd.read_html('https://en.wikipedia.org/wiki/Billboard_Year-End_Hot_100_singles_of_2016')\n",
    "df4 = table_MN[0]\n",
    "table_MN = pd.read_html('https://en.wikipedia.org/wiki/Billboard_Year-End_Hot_100_singles_of_2015')\n",
    "df5 = table_MN[0]\n",
    "table_MN = pd.read_html('https://en.wikipedia.org/wiki/Billboard_Year-End_Hot_100_singles_of_2014')\n",
    "df6 = table_MN[0]\n",
    "table_MN = pd.read_html('https://en.wikipedia.org/wiki/Billboard_Year-End_Hot_100_singles_of_2013')\n",
    "df7 = table_MN[1]\n",
    "table_MN = pd.read_html('https://en.wikipedia.org/wiki/Billboard_Year-End_Hot_100_singles_of_2012')\n",
    "df8 = table_MN[1]\n",
    "table_MN = pd.read_html('https://en.wikipedia.org/wiki/Billboard_Year-End_Hot_100_singles_of_2011')\n",
    "df9 = table_MN[0]\n",
    "frames = [df1, df2, df3, df4, df5, df6, df7, df8, df9]\n",
    "frames = [df1]\n",
    "\n",
    "## todo: get more data, and really scrape this.\n",
    "all_songs_list = pd.concat(frames)"
   ]
  },
  {
   "cell_type": "code",
   "execution_count": 96,
   "id": "4bd3bcd8",
   "metadata": {},
   "outputs": [
    {
     "name": "stdout",
     "output_type": "stream",
     "text": [
      "    No.            Title                            Artist(s)\n",
      "0     1  \"Old Town Road\"  Lil Nas X featuring Billy Ray Cyrus\n",
      "1     2      \"Sunflower\"             Post Malone and Swae Lee\n",
      "2     3     \"Without Me\"                               Halsey\n",
      "3     4        \"Bad Guy\"                        Billie Eilish\n",
      "4     5            \"Wow\"                          Post Malone\n",
      "..  ...              ...                                  ...\n",
      "95   96    \"Eyes on You\"                           Chase Rice\n",
      "96   97  \"All to Myself\"                           Dan + Shay\n",
      "97   98      \"Boyfriend\"       Ariana Grande and Social House\n",
      "98   99   \"Walk Me Home\"                                 Pink\n",
      "99  100        \"Robbery\"                           Juice Wrld\n",
      "\n",
      "[100 rows x 3 columns]\n"
     ]
    }
   ],
   "source": [
    "print(all_songs_list)"
   ]
  },
  {
   "cell_type": "code",
   "execution_count": 108,
   "id": "6f668dca",
   "metadata": {},
   "outputs": [
    {
     "data": {
      "text/plain": [
       "{'tracks': {'href': 'https://api.spotify.com/v1/search?query=lsdjlk+asfklfafas&type=track&offset=0&limit=1',\n",
       "  'items': [],\n",
       "  'limit': 1,\n",
       "  'next': None,\n",
       "  'offset': 0,\n",
       "  'previous': None,\n",
       "  'total': 0}}"
      ]
     },
     "execution_count": 108,
     "metadata": {},
     "output_type": "execute_result"
    }
   ],
   "source": [
    "sp.search(\"lsdjlk asfklfafas\", limit=1,type='track')"
   ]
  },
  {
   "cell_type": "code",
   "execution_count": 127,
   "id": "37914c87",
   "metadata": {},
   "outputs": [],
   "source": [
    "import re\n",
    "\n",
    "song_results = []\n",
    "for index, row in all_songs_list.iterrows():\n",
    "    song_rank = row['No.']\n",
    "    artist_original_name = row['Artist(s)']\n",
    "    artist_names = re.split('featuring | and | ,',artist_original_name)\n",
    "    artist_names.append(artist_original_name)\n",
    "    for name in artist_names:\n",
    "        query = \"track:\"+row['Title']+\" artist:\"+name\n",
    "        query = query.replace('\"','')\n",
    "        search_result = sp.search(query, limit=1,type='track')\n",
    "        if len(search_result['tracks']['items']) != 0:\n",
    "            song_entity ={'rank':song_rank,'result':search_result}\n",
    "            song_results.append(song_entity)\n",
    "            break\n",
    "#         song_queries.append(query)"
   ]
  },
  {
   "cell_type": "code",
   "execution_count": 98,
   "id": "f60406a5",
   "metadata": {},
   "outputs": [],
   "source": [
    "import spotipy\n",
    "from spotipy.oauth2 import SpotifyClientCredentials"
   ]
  },
  {
   "cell_type": "code",
   "execution_count": 99,
   "id": "ccc64dc2",
   "metadata": {},
   "outputs": [],
   "source": [
    "cid = \"3b41c863d85746899b1bd17a39149f8e\"\n",
    "secret = \"631b736a77d545e4a822bea470435cea\""
   ]
  },
  {
   "cell_type": "code",
   "execution_count": 100,
   "id": "9e47bfb3",
   "metadata": {},
   "outputs": [],
   "source": [
    "client_credentials_manager = SpotifyClientCredentials(client_id=cid, client_secret=secret)\n",
    "sp = spotipy.Spotify(client_credentials_manager = client_credentials_manager)"
   ]
  },
  {
   "cell_type": "markdown",
   "id": "6fce2bb1",
   "metadata": {},
   "source": [
    "#### get the artist/band name , in order to search for the song title in the find_id() function"
   ]
  },
  {
   "cell_type": "code",
   "execution_count": 21,
   "id": "c684bf1a",
   "metadata": {},
   "outputs": [],
   "source": [
    "songs={'Alice in Chains':'Them Bones','Beyonce':'Crazy In Love (feat. Jay-Z)','Glass Animals':'Heat Waves','Ed Sheeran':'The Joker And The Queen (feat. Taylor Swift)'}\n",
    "song_names=songs.values()\n",
    "artists_names=songs.keys()\n",
    "song_names_list=list(song_names)"
   ]
  },
  {
   "cell_type": "code",
   "execution_count": 22,
   "id": "94cedfea",
   "metadata": {},
   "outputs": [],
   "source": [
    "def get_key(val):\n",
    "    for key, value in songs.items():\n",
    "         if val == value:\n",
    "             return key\n",
    " \n",
    "    return \"key doesn't exist\""
   ]
  },
  {
   "cell_type": "code",
   "execution_count": 23,
   "id": "330f5932",
   "metadata": {},
   "outputs": [],
   "source": [
    "#finding the id of the specific song with the song name and a dictionary that contains the artists info\n",
    "def find_id(song,result):\n",
    "    for data in result['tracks']['items']:\n",
    "        for key,value in data.items():\n",
    "            if (key=='name')&  (value==song):\n",
    "                print(data['id'])\n",
    "                print(data['uri'])\n",
    "                print(sp.audio_features(data['uri'])[0])\n",
    "                print(sp.artist(find_artist_info(result)))\n",
    "                return \n",
    "               "
   ]
  },
  {
   "cell_type": "code",
   "execution_count": 24,
   "id": "fd018cb9",
   "metadata": {},
   "outputs": [],
   "source": [
    "# so we will get an additinal info about the artist and the song - genre , popularity and etc.\n",
    "def find_artist_info(result):\n",
    "    for data in result['tracks']['items']:\n",
    "        for key,value in data.items():\n",
    "                if (key=='artists'): \n",
    "                      return (value[0]['id'])  \n"
   ]
  },
  {
   "cell_type": "code",
   "execution_count": 8,
   "id": "1e75a535",
   "metadata": {},
   "outputs": [],
   "source": [
    "#find_artist_info(result)"
   ]
  },
  {
   "cell_type": "code",
   "execution_count": 128,
   "id": "7b71b5db",
   "metadata": {},
   "outputs": [],
   "source": [
    "def get_song_features(song_entity):\n",
    "    search_result = song_entity['result']\n",
    "    track_uri = search_result['tracks']['items'][0]['uri']\n",
    "    track_features = sp.audio_features(track_uri)[0]\n",
    "    artist_id = search_result['tracks']['items'][0]['artists'][0]['id']\n",
    "    artist_info = sp.artist(artist_id)\n",
    "    artist_popularity = artist_info['popularity']\n",
    "    artist_genre = artist_info['genres'][0]\n",
    "    \n",
    "    features = track_features\n",
    "    features['genre'] = artist_genre\n",
    "    features['pop'] = artist_popularity\n",
    "    features['rank'] = song_entity['rank']\n",
    "\n",
    "    return features"
   ]
  },
  {
   "cell_type": "code",
   "execution_count": 132,
   "id": "f9e00918",
   "metadata": {},
   "outputs": [],
   "source": [
    "# constant1 = \"track:Overshadows artist:Shredhead\"\n",
    "# get_song_features(constant1)\n",
    "\n",
    "def get_songs_df(song_entities):\n",
    "    song_list = []\n",
    "    for ent in song_entities:\n",
    "        try:\n",
    "            song_features = get_song_features(ent)\n",
    "            song_list.append(song_features)\n",
    "        except:\n",
    "            print(ent['result'])\n",
    "            print(\"song was not found!\")\n",
    "    \n",
    "    return pd.DataFrame(song_list)"
   ]
  },
  {
   "cell_type": "code",
   "execution_count": 172,
   "id": "331ceac3",
   "metadata": {},
   "outputs": [],
   "source": [
    "songs_df = get_songs_df(song_results)"
   ]
  },
  {
   "cell_type": "code",
   "execution_count": 173,
   "id": "88de13e2",
   "metadata": {},
   "outputs": [],
   "source": [
    "def replace_genre(genre,song,index,songs_df):\n",
    "    if genre in song['genre']:\n",
    "        song['genre'] = genre\n",
    "        songs_df.iloc[index] = song"
   ]
  },
  {
   "cell_type": "code",
   "execution_count": 174,
   "id": "ba9bd6e4",
   "metadata": {},
   "outputs": [],
   "source": [
    "\n",
    "for index, song in songs_df.iterrows():\n",
    "    replace_genre(\"hip hop\",song,index,songs_df)\n",
    "    replace_genre(\"rap\",song,index,songs_df)\n",
    "    replace_genre(\"pop\",song,index,songs_df)\n",
    "    replace_genre(\"rock\",song,index,songs_df)\n",
    "    replace_genre(\"country\",song,index,songs_df)\n"
   ]
  },
  {
   "cell_type": "code",
   "execution_count": 177,
   "id": "005abe06",
   "metadata": {},
   "outputs": [],
   "source": [
    "songs_df = songs_df.replace({'genre': {\"album rock\": \"rock\", \"glam rock\": \"rock\", \"dance rock\":\"rock\", \"art rock\":\"rock\",\n",
    "                                  \"soft rock\":\"rock\", \"country rock\": \"rock\", \"classic rock\":\"rock\", \"blues rock\":\"rock\", \"celtic rock\":\"rock\",\n",
    "                                  \"australian rock\":\"rock\", \"german alternative rock\":\"rock\", \"alternative rock\":\"rock\", \"dance pop\":\"pop\",\n",
    "                                \"brill building pop\": \"pop\", \"europop\": \"pop\", \"barbadian pop\": \"pop\", \"classic uk pop\":\"pop\", \n",
    "                                \"new wave pop\":\"pop\", \"canadian pop\":\"pop\", \"art pop\":\"pop\", \"belgian pop\": \"pop\", \"britpop\": \"pop\", \n",
    "                                \"italian pop\":\"pop\", \"classic danish pop\": \"pop\", \"bow pop\": \"pop\", \"baroque pop\": \"pop\", \"bubblegum pop\": \"pop\",\n",
    "                                \"afropop\":\"pop\", \"hip pop\":\"pop\", \"atl hip hop\": \"hip hop\", \"east coast hip hop\": \"hip hop\", \"detroit hip hop\":\"hip hop\", \n",
    "                                \"bronx hip hop\": \"hip hop\", \"bubblegum dance\": \"dance\", \"eurodance\":\"dance\", \"belgian dance\":\"dance\", \"german dance\": \"dance\",\n",
    "                                \"classic soul\": \"soul\", \"british soul\": \"soul\", \"chicago soul\": \"soul\", \"british folk\": \"folk\", \"american folk revival\":\"folk\",\n",
    "                                \"drone folk\":\"folk\",\"canadian folk\":\"folk\", \"deep adult standards\":\"adult standards\", \"glam metal\": \"metal\", \"alternative metal\": \"metal\",\n",
    "                                \"acoustic blues\":\"blues\", \"british blues\":\"blues\", \"louisiana blues\":\"blues\", \"g funk\":\"funk\", \"brit funk\":\"funk\",\n",
    "                                \"afrobeat\":\"dance\", \"british invasion\":\"rock\", \"doo-wop\":\"blues\", \"boy band\":\"pop\", \"merseybeat\":\"rock-and-roll\", \"blue\":\"blues\",\n",
    "                                                \"bebop\":\"jazz\", \"avant-garde jazz\":\"jazz\", \"boogaloo\": \"latin\", \"big room\": \"trance\", \"bubble trance\":\"trance\", \"glam punk\":\"rock\",\n",
    "                                                \"australian talent show\":\"pop\", \"mellow gold\":\"rock\", \"hi-nrg\": \"dance\", \"neo mellow\": \"pop\", \"yodeling\":\"folk\", \"classic girl group\":\"pop\",\n",
    "                                                \"british dance band\":\"jazz\", \"deep house\":\"dance\", \"uk garage\": \"dance\", \"chicago rap\":\"hip hop\",\n",
    "                                     \"lgbtq+ hip hop\":\"hip hop\", \"dfw rap\": \"hip hop\", \"contemporary country\":\"country\"}})"
   ]
  },
  {
   "cell_type": "code",
   "execution_count": 178,
   "id": "0a8fad4f",
   "metadata": {},
   "outputs": [
    {
     "data": {
      "text/html": [
       "<div>\n",
       "<style scoped>\n",
       "    .dataframe tbody tr th:only-of-type {\n",
       "        vertical-align: middle;\n",
       "    }\n",
       "\n",
       "    .dataframe tbody tr th {\n",
       "        vertical-align: top;\n",
       "    }\n",
       "\n",
       "    .dataframe thead th {\n",
       "        text-align: right;\n",
       "    }\n",
       "</style>\n",
       "<table border=\"1\" class=\"dataframe\">\n",
       "  <thead>\n",
       "    <tr style=\"text-align: right;\">\n",
       "      <th></th>\n",
       "      <th>danceability</th>\n",
       "      <th>energy</th>\n",
       "      <th>key</th>\n",
       "      <th>loudness</th>\n",
       "      <th>mode</th>\n",
       "      <th>speechiness</th>\n",
       "      <th>acousticness</th>\n",
       "      <th>instrumentalness</th>\n",
       "      <th>liveness</th>\n",
       "      <th>valence</th>\n",
       "      <th>...</th>\n",
       "      <th>type</th>\n",
       "      <th>id</th>\n",
       "      <th>uri</th>\n",
       "      <th>track_href</th>\n",
       "      <th>analysis_url</th>\n",
       "      <th>duration_ms</th>\n",
       "      <th>time_signature</th>\n",
       "      <th>genre</th>\n",
       "      <th>pop</th>\n",
       "      <th>rank</th>\n",
       "    </tr>\n",
       "  </thead>\n",
       "  <tbody>\n",
       "    <tr>\n",
       "      <th>0</th>\n",
       "      <td>0.878</td>\n",
       "      <td>0.619</td>\n",
       "      <td>6</td>\n",
       "      <td>-5.560</td>\n",
       "      <td>1</td>\n",
       "      <td>0.1020</td>\n",
       "      <td>0.0533</td>\n",
       "      <td>0.000000</td>\n",
       "      <td>0.1130</td>\n",
       "      <td>0.639</td>\n",
       "      <td>...</td>\n",
       "      <td>audio_features</td>\n",
       "      <td>2YpeDb67231RjR0MgVLzsG</td>\n",
       "      <td>spotify:track:2YpeDb67231RjR0MgVLzsG</td>\n",
       "      <td>https://api.spotify.com/v1/tracks/2YpeDb67231R...</td>\n",
       "      <td>https://api.spotify.com/v1/audio-analysis/2Ype...</td>\n",
       "      <td>157067</td>\n",
       "      <td>4</td>\n",
       "      <td>hip hop</td>\n",
       "      <td>90</td>\n",
       "      <td>1</td>\n",
       "    </tr>\n",
       "    <tr>\n",
       "      <th>1</th>\n",
       "      <td>0.760</td>\n",
       "      <td>0.479</td>\n",
       "      <td>2</td>\n",
       "      <td>-5.574</td>\n",
       "      <td>1</td>\n",
       "      <td>0.0466</td>\n",
       "      <td>0.5560</td>\n",
       "      <td>0.000000</td>\n",
       "      <td>0.0703</td>\n",
       "      <td>0.913</td>\n",
       "      <td>...</td>\n",
       "      <td>audio_features</td>\n",
       "      <td>3KkXRkHbMCARz0aVfEt68P</td>\n",
       "      <td>spotify:track:3KkXRkHbMCARz0aVfEt68P</td>\n",
       "      <td>https://api.spotify.com/v1/tracks/3KkXRkHbMCAR...</td>\n",
       "      <td>https://api.spotify.com/v1/audio-analysis/3KkX...</td>\n",
       "      <td>158040</td>\n",
       "      <td>4</td>\n",
       "      <td>rap</td>\n",
       "      <td>91</td>\n",
       "      <td>2</td>\n",
       "    </tr>\n",
       "    <tr>\n",
       "      <th>2</th>\n",
       "      <td>0.752</td>\n",
       "      <td>0.488</td>\n",
       "      <td>6</td>\n",
       "      <td>-7.050</td>\n",
       "      <td>1</td>\n",
       "      <td>0.0705</td>\n",
       "      <td>0.2970</td>\n",
       "      <td>0.000009</td>\n",
       "      <td>0.0936</td>\n",
       "      <td>0.533</td>\n",
       "      <td>...</td>\n",
       "      <td>audio_features</td>\n",
       "      <td>5p7ujcrUXASCNwRaWNHR1C</td>\n",
       "      <td>spotify:track:5p7ujcrUXASCNwRaWNHR1C</td>\n",
       "      <td>https://api.spotify.com/v1/tracks/5p7ujcrUXASC...</td>\n",
       "      <td>https://api.spotify.com/v1/audio-analysis/5p7u...</td>\n",
       "      <td>201661</td>\n",
       "      <td>4</td>\n",
       "      <td>pop</td>\n",
       "      <td>87</td>\n",
       "      <td>3</td>\n",
       "    </tr>\n",
       "    <tr>\n",
       "      <th>3</th>\n",
       "      <td>0.701</td>\n",
       "      <td>0.425</td>\n",
       "      <td>7</td>\n",
       "      <td>-10.965</td>\n",
       "      <td>1</td>\n",
       "      <td>0.3750</td>\n",
       "      <td>0.3280</td>\n",
       "      <td>0.130000</td>\n",
       "      <td>0.1000</td>\n",
       "      <td>0.562</td>\n",
       "      <td>...</td>\n",
       "      <td>audio_features</td>\n",
       "      <td>2Fxmhks0bxGSBdJ92vM42m</td>\n",
       "      <td>spotify:track:2Fxmhks0bxGSBdJ92vM42m</td>\n",
       "      <td>https://api.spotify.com/v1/tracks/2Fxmhks0bxGS...</td>\n",
       "      <td>https://api.spotify.com/v1/audio-analysis/2Fxm...</td>\n",
       "      <td>194088</td>\n",
       "      <td>4</td>\n",
       "      <td>pop</td>\n",
       "      <td>92</td>\n",
       "      <td>4</td>\n",
       "    </tr>\n",
       "    <tr>\n",
       "      <th>4</th>\n",
       "      <td>0.829</td>\n",
       "      <td>0.539</td>\n",
       "      <td>11</td>\n",
       "      <td>-7.359</td>\n",
       "      <td>0</td>\n",
       "      <td>0.2080</td>\n",
       "      <td>0.1360</td>\n",
       "      <td>0.000002</td>\n",
       "      <td>0.1030</td>\n",
       "      <td>0.388</td>\n",
       "      <td>...</td>\n",
       "      <td>audio_features</td>\n",
       "      <td>7xQAfvXzm3AkraOtGPWIZg</td>\n",
       "      <td>spotify:track:7xQAfvXzm3AkraOtGPWIZg</td>\n",
       "      <td>https://api.spotify.com/v1/tracks/7xQAfvXzm3Ak...</td>\n",
       "      <td>https://api.spotify.com/v1/audio-analysis/7xQA...</td>\n",
       "      <td>149547</td>\n",
       "      <td>4</td>\n",
       "      <td>rap</td>\n",
       "      <td>91</td>\n",
       "      <td>5</td>\n",
       "    </tr>\n",
       "    <tr>\n",
       "      <th>...</th>\n",
       "      <td>...</td>\n",
       "      <td>...</td>\n",
       "      <td>...</td>\n",
       "      <td>...</td>\n",
       "      <td>...</td>\n",
       "      <td>...</td>\n",
       "      <td>...</td>\n",
       "      <td>...</td>\n",
       "      <td>...</td>\n",
       "      <td>...</td>\n",
       "      <td>...</td>\n",
       "      <td>...</td>\n",
       "      <td>...</td>\n",
       "      <td>...</td>\n",
       "      <td>...</td>\n",
       "      <td>...</td>\n",
       "      <td>...</td>\n",
       "      <td>...</td>\n",
       "      <td>...</td>\n",
       "      <td>...</td>\n",
       "      <td>...</td>\n",
       "    </tr>\n",
       "    <tr>\n",
       "      <th>94</th>\n",
       "      <td>0.638</td>\n",
       "      <td>0.717</td>\n",
       "      <td>2</td>\n",
       "      <td>-4.722</td>\n",
       "      <td>1</td>\n",
       "      <td>0.0337</td>\n",
       "      <td>0.3460</td>\n",
       "      <td>0.000000</td>\n",
       "      <td>0.1050</td>\n",
       "      <td>0.249</td>\n",
       "      <td>...</td>\n",
       "      <td>audio_features</td>\n",
       "      <td>4VUwkH455At9kENOfzTqmF</td>\n",
       "      <td>spotify:track:4VUwkH455At9kENOfzTqmF</td>\n",
       "      <td>https://api.spotify.com/v1/tracks/4VUwkH455At9...</td>\n",
       "      <td>https://api.spotify.com/v1/audio-analysis/4VUw...</td>\n",
       "      <td>180000</td>\n",
       "      <td>4</td>\n",
       "      <td>pop</td>\n",
       "      <td>78</td>\n",
       "      <td>95</td>\n",
       "    </tr>\n",
       "    <tr>\n",
       "      <th>95</th>\n",
       "      <td>0.606</td>\n",
       "      <td>0.652</td>\n",
       "      <td>9</td>\n",
       "      <td>-6.982</td>\n",
       "      <td>1</td>\n",
       "      <td>0.0281</td>\n",
       "      <td>0.3230</td>\n",
       "      <td>0.000000</td>\n",
       "      <td>0.2010</td>\n",
       "      <td>0.476</td>\n",
       "      <td>...</td>\n",
       "      <td>audio_features</td>\n",
       "      <td>5AnSllIrgGsCZzZJkVnApx</td>\n",
       "      <td>spotify:track:5AnSllIrgGsCZzZJkVnApx</td>\n",
       "      <td>https://api.spotify.com/v1/tracks/5AnSllIrgGsC...</td>\n",
       "      <td>https://api.spotify.com/v1/audio-analysis/5AnS...</td>\n",
       "      <td>182493</td>\n",
       "      <td>4</td>\n",
       "      <td>country</td>\n",
       "      <td>67</td>\n",
       "      <td>96</td>\n",
       "    </tr>\n",
       "    <tr>\n",
       "      <th>96</th>\n",
       "      <td>0.646</td>\n",
       "      <td>0.781</td>\n",
       "      <td>1</td>\n",
       "      <td>-4.616</td>\n",
       "      <td>1</td>\n",
       "      <td>0.0313</td>\n",
       "      <td>0.2080</td>\n",
       "      <td>0.000000</td>\n",
       "      <td>0.1250</td>\n",
       "      <td>0.565</td>\n",
       "      <td>...</td>\n",
       "      <td>audio_features</td>\n",
       "      <td>08tq1XcHwVt5PHXUo87i0D</td>\n",
       "      <td>spotify:track:08tq1XcHwVt5PHXUo87i0D</td>\n",
       "      <td>https://api.spotify.com/v1/tracks/08tq1XcHwVt5...</td>\n",
       "      <td>https://api.spotify.com/v1/audio-analysis/08tq...</td>\n",
       "      <td>169920</td>\n",
       "      <td>4</td>\n",
       "      <td>country</td>\n",
       "      <td>78</td>\n",
       "      <td>97</td>\n",
       "    </tr>\n",
       "    <tr>\n",
       "      <th>97</th>\n",
       "      <td>0.400</td>\n",
       "      <td>0.795</td>\n",
       "      <td>10</td>\n",
       "      <td>-3.731</td>\n",
       "      <td>0</td>\n",
       "      <td>0.4610</td>\n",
       "      <td>0.1190</td>\n",
       "      <td>0.000000</td>\n",
       "      <td>0.1590</td>\n",
       "      <td>0.702</td>\n",
       "      <td>...</td>\n",
       "      <td>audio_features</td>\n",
       "      <td>0Ryd8975WihbObpp5cPW1t</td>\n",
       "      <td>spotify:track:0Ryd8975WihbObpp5cPW1t</td>\n",
       "      <td>https://api.spotify.com/v1/tracks/0Ryd8975Wihb...</td>\n",
       "      <td>https://api.spotify.com/v1/audio-analysis/0Ryd...</td>\n",
       "      <td>186107</td>\n",
       "      <td>4</td>\n",
       "      <td>pop</td>\n",
       "      <td>93</td>\n",
       "      <td>98</td>\n",
       "    </tr>\n",
       "    <tr>\n",
       "      <th>98</th>\n",
       "      <td>0.623</td>\n",
       "      <td>0.692</td>\n",
       "      <td>2</td>\n",
       "      <td>-5.122</td>\n",
       "      <td>1</td>\n",
       "      <td>0.0504</td>\n",
       "      <td>0.3280</td>\n",
       "      <td>0.000000</td>\n",
       "      <td>0.1530</td>\n",
       "      <td>0.566</td>\n",
       "      <td>...</td>\n",
       "      <td>audio_features</td>\n",
       "      <td>6iaSML1PIYq936g62BDtBq</td>\n",
       "      <td>spotify:track:6iaSML1PIYq936g62BDtBq</td>\n",
       "      <td>https://api.spotify.com/v1/tracks/6iaSML1PIYq9...</td>\n",
       "      <td>https://api.spotify.com/v1/audio-analysis/6iaS...</td>\n",
       "      <td>240051</td>\n",
       "      <td>4</td>\n",
       "      <td>rap</td>\n",
       "      <td>95</td>\n",
       "      <td>100</td>\n",
       "    </tr>\n",
       "  </tbody>\n",
       "</table>\n",
       "<p>99 rows × 21 columns</p>\n",
       "</div>"
      ],
      "text/plain": [
       "    danceability  energy  key  loudness  mode  speechiness  acousticness  \\\n",
       "0          0.878   0.619    6    -5.560     1       0.1020        0.0533   \n",
       "1          0.760   0.479    2    -5.574     1       0.0466        0.5560   \n",
       "2          0.752   0.488    6    -7.050     1       0.0705        0.2970   \n",
       "3          0.701   0.425    7   -10.965     1       0.3750        0.3280   \n",
       "4          0.829   0.539   11    -7.359     0       0.2080        0.1360   \n",
       "..           ...     ...  ...       ...   ...          ...           ...   \n",
       "94         0.638   0.717    2    -4.722     1       0.0337        0.3460   \n",
       "95         0.606   0.652    9    -6.982     1       0.0281        0.3230   \n",
       "96         0.646   0.781    1    -4.616     1       0.0313        0.2080   \n",
       "97         0.400   0.795   10    -3.731     0       0.4610        0.1190   \n",
       "98         0.623   0.692    2    -5.122     1       0.0504        0.3280   \n",
       "\n",
       "    instrumentalness  liveness  valence  ...            type  \\\n",
       "0           0.000000    0.1130    0.639  ...  audio_features   \n",
       "1           0.000000    0.0703    0.913  ...  audio_features   \n",
       "2           0.000009    0.0936    0.533  ...  audio_features   \n",
       "3           0.130000    0.1000    0.562  ...  audio_features   \n",
       "4           0.000002    0.1030    0.388  ...  audio_features   \n",
       "..               ...       ...      ...  ...             ...   \n",
       "94          0.000000    0.1050    0.249  ...  audio_features   \n",
       "95          0.000000    0.2010    0.476  ...  audio_features   \n",
       "96          0.000000    0.1250    0.565  ...  audio_features   \n",
       "97          0.000000    0.1590    0.702  ...  audio_features   \n",
       "98          0.000000    0.1530    0.566  ...  audio_features   \n",
       "\n",
       "                        id                                   uri  \\\n",
       "0   2YpeDb67231RjR0MgVLzsG  spotify:track:2YpeDb67231RjR0MgVLzsG   \n",
       "1   3KkXRkHbMCARz0aVfEt68P  spotify:track:3KkXRkHbMCARz0aVfEt68P   \n",
       "2   5p7ujcrUXASCNwRaWNHR1C  spotify:track:5p7ujcrUXASCNwRaWNHR1C   \n",
       "3   2Fxmhks0bxGSBdJ92vM42m  spotify:track:2Fxmhks0bxGSBdJ92vM42m   \n",
       "4   7xQAfvXzm3AkraOtGPWIZg  spotify:track:7xQAfvXzm3AkraOtGPWIZg   \n",
       "..                     ...                                   ...   \n",
       "94  4VUwkH455At9kENOfzTqmF  spotify:track:4VUwkH455At9kENOfzTqmF   \n",
       "95  5AnSllIrgGsCZzZJkVnApx  spotify:track:5AnSllIrgGsCZzZJkVnApx   \n",
       "96  08tq1XcHwVt5PHXUo87i0D  spotify:track:08tq1XcHwVt5PHXUo87i0D   \n",
       "97  0Ryd8975WihbObpp5cPW1t  spotify:track:0Ryd8975WihbObpp5cPW1t   \n",
       "98  6iaSML1PIYq936g62BDtBq  spotify:track:6iaSML1PIYq936g62BDtBq   \n",
       "\n",
       "                                           track_href  \\\n",
       "0   https://api.spotify.com/v1/tracks/2YpeDb67231R...   \n",
       "1   https://api.spotify.com/v1/tracks/3KkXRkHbMCAR...   \n",
       "2   https://api.spotify.com/v1/tracks/5p7ujcrUXASC...   \n",
       "3   https://api.spotify.com/v1/tracks/2Fxmhks0bxGS...   \n",
       "4   https://api.spotify.com/v1/tracks/7xQAfvXzm3Ak...   \n",
       "..                                                ...   \n",
       "94  https://api.spotify.com/v1/tracks/4VUwkH455At9...   \n",
       "95  https://api.spotify.com/v1/tracks/5AnSllIrgGsC...   \n",
       "96  https://api.spotify.com/v1/tracks/08tq1XcHwVt5...   \n",
       "97  https://api.spotify.com/v1/tracks/0Ryd8975Wihb...   \n",
       "98  https://api.spotify.com/v1/tracks/6iaSML1PIYq9...   \n",
       "\n",
       "                                         analysis_url duration_ms  \\\n",
       "0   https://api.spotify.com/v1/audio-analysis/2Ype...      157067   \n",
       "1   https://api.spotify.com/v1/audio-analysis/3KkX...      158040   \n",
       "2   https://api.spotify.com/v1/audio-analysis/5p7u...      201661   \n",
       "3   https://api.spotify.com/v1/audio-analysis/2Fxm...      194088   \n",
       "4   https://api.spotify.com/v1/audio-analysis/7xQA...      149547   \n",
       "..                                                ...         ...   \n",
       "94  https://api.spotify.com/v1/audio-analysis/4VUw...      180000   \n",
       "95  https://api.spotify.com/v1/audio-analysis/5AnS...      182493   \n",
       "96  https://api.spotify.com/v1/audio-analysis/08tq...      169920   \n",
       "97  https://api.spotify.com/v1/audio-analysis/0Ryd...      186107   \n",
       "98  https://api.spotify.com/v1/audio-analysis/6iaS...      240051   \n",
       "\n",
       "    time_signature    genre pop  rank  \n",
       "0                4  hip hop  90     1  \n",
       "1                4      rap  91     2  \n",
       "2                4      pop  87     3  \n",
       "3                4      pop  92     4  \n",
       "4                4      rap  91     5  \n",
       "..             ...      ...  ..   ...  \n",
       "94               4      pop  78    95  \n",
       "95               4  country  67    96  \n",
       "96               4  country  78    97  \n",
       "97               4      pop  93    98  \n",
       "98               4      rap  95   100  \n",
       "\n",
       "[99 rows x 21 columns]"
      ]
     },
     "execution_count": 178,
     "metadata": {},
     "output_type": "execute_result"
    }
   ],
   "source": [
    "songs_df"
   ]
  },
  {
   "cell_type": "code",
   "execution_count": 179,
   "id": "e4fe7c7d",
   "metadata": {},
   "outputs": [
    {
     "data": {
      "image/png": "[encoded data removed]",
      "text/plain": [
       "<Figure size 720x720 with 1 Axes>"
      ]
     },
     "metadata": {},
     "output_type": "display_data"
    }
   ],
   "source": [
    "df_genre = songs_df['genre'].value_counts()[:20].sort_values(ascending=False) / len(songs_df)\n",
    "sizes = df_genre.values.tolist()\n",
    "labels = df_genre.index.values.tolist()\n",
    "# Pie chart for genre\n",
    "fig1, ax1 = plt.subplots(figsize=(10,10))\n",
    "ax1.pie(sizes, labels=labels, autopct='%1.1f%%', shadow=False, textprops={'fontsize': 14})\n",
    "ax1.axis('equal')\n",
    "plt.title(\"Most Popular Genres\\n\" + \"(limited to top 10 genres)\", bbox={'facecolor':'0.8', 'pad':5})\n",
    "plt.show()"
   ]
  },
  {
   "cell_type": "code",
   "execution_count": null,
   "id": "e0270b54",
   "metadata": {},
   "outputs": [],
   "source": []
  },
  {
   "cell_type": "code",
   "execution_count": null,
   "id": "a373bd56",
   "metadata": {},
   "outputs": [],
   "source": []
  },
  {
   "cell_type": "code",
   "execution_count": 78,
   "id": "ed38b459",
   "metadata": {
    "scrolled": true
   },
   "outputs": [],
   "source": [
    "def get_id_of_songs():\n",
    "\n",
    "    # for song in song_names_list:\n",
    "\n",
    "    for song in song_names_list:\n",
    "        result = sp.search(get_key(song), limit=10)\n",
    "     #   print(result)\n",
    "        print(\"\\n\")\n",
    "        find_id(song,result)\n",
    "\n"
   ]
  },
  {
   "cell_type": "code",
   "execution_count": 28,
   "id": "29de6730",
   "metadata": {
    "scrolled": false
   },
   "outputs": [
    {
     "name": "stdout",
     "output_type": "stream",
     "text": [
      "shit fuck: Alice in Chains\n",
      "\n",
      "\n",
      "4A065x9kJt955eGVqf813g\n",
      "spotify:track:4A065x9kJt955eGVqf813g\n",
      "{'danceability': 0.159, 'energy': 0.946, 'key': 9, 'loudness': -5.756, 'mode': 1, 'speechiness': 0.0629, 'acousticness': 0.0235, 'instrumentalness': 8.06e-06, 'liveness': 0.387, 'valence': 0.309, 'tempo': 165.014, 'type': 'audio_features', 'id': '4A065x9kJt955eGVqf813g', 'uri': 'spotify:track:4A065x9kJt955eGVqf813g', 'track_href': 'https://api.spotify.com/v1/tracks/4A065x9kJt955eGVqf813g', 'analysis_url': 'https://api.spotify.com/v1/audio-analysis/4A065x9kJt955eGVqf813g', 'duration_ms': 149467, 'time_signature': 1}\n",
      "{'external_urls': {'spotify': 'https://open.spotify.com/artist/64tNsm6TnZe2zpcMVMOoHL'}, 'followers': {'href': None, 'total': 3784843}, 'genres': ['alternative metal', 'alternative rock', 'grunge', 'hard rock', 'nu metal', 'rock'], 'href': 'https://api.spotify.com/v1/artists/64tNsm6TnZe2zpcMVMOoHL', 'id': '64tNsm6TnZe2zpcMVMOoHL', 'images': [{'height': 640, 'url': 'https://i.scdn.co/image/ab6761610000e5eb8700c1707846db313f6af46f', 'width': 640}, {'height': 320, 'url': 'https://i.scdn.co/image/ab676161000051748700c1707846db313f6af46f', 'width': 320}, {'height': 160, 'url': 'https://i.scdn.co/image/ab6761610000f1788700c1707846db313f6af46f', 'width': 160}], 'name': 'Alice In Chains', 'popularity': 74, 'type': 'artist', 'uri': 'spotify:artist:64tNsm6TnZe2zpcMVMOoHL'}\n",
      "shit fuck: Beyonce\n",
      "\n",
      "\n",
      "5IVuqXILoxVWvWEPm82Jxr\n",
      "spotify:track:5IVuqXILoxVWvWEPm82Jxr\n",
      "{'danceability': 0.646, 'energy': 0.77, 'key': 2, 'loudness': -6.596, 'mode': 0, 'speechiness': 0.226, 'acousticness': 0.00249, 'instrumentalness': 0, 'liveness': 0.0715, 'valence': 0.681, 'tempo': 99.165, 'type': 'audio_features', 'id': '5IVuqXILoxVWvWEPm82Jxr', 'uri': 'spotify:track:5IVuqXILoxVWvWEPm82Jxr', 'track_href': 'https://api.spotify.com/v1/tracks/5IVuqXILoxVWvWEPm82Jxr', 'analysis_url': 'https://api.spotify.com/v1/audio-analysis/5IVuqXILoxVWvWEPm82Jxr', 'duration_ms': 236133, 'time_signature': 4}\n",
      "{'external_urls': {'spotify': 'https://open.spotify.com/artist/6vWDO969PvNqNYHIOW5v0m'}, 'followers': {'href': None, 'total': 30449699}, 'genres': ['dance pop', 'pop', 'r&b'], 'href': 'https://api.spotify.com/v1/artists/6vWDO969PvNqNYHIOW5v0m', 'id': '6vWDO969PvNqNYHIOW5v0m', 'images': [{'height': 640, 'url': 'https://i.scdn.co/image/ab6761610000e5ebd3d058be8485c8583703b6d2', 'width': 640}, {'height': 320, 'url': 'https://i.scdn.co/image/ab67616100005174d3d058be8485c8583703b6d2', 'width': 320}, {'height': 160, 'url': 'https://i.scdn.co/image/ab6761610000f178d3d058be8485c8583703b6d2', 'width': 160}], 'name': 'Beyoncé', 'popularity': 87, 'type': 'artist', 'uri': 'spotify:artist:6vWDO969PvNqNYHIOW5v0m'}\n",
      "shit fuck: Glass Animals\n",
      "\n",
      "\n",
      "3USxtqRwSYz57Ewm6wWRMp\n",
      "spotify:track:3USxtqRwSYz57Ewm6wWRMp\n",
      "{'danceability': 0.761, 'energy': 0.525, 'key': 11, 'loudness': -6.9, 'mode': 1, 'speechiness': 0.0944, 'acousticness': 0.44, 'instrumentalness': 6.7e-06, 'liveness': 0.0921, 'valence': 0.531, 'tempo': 80.87, 'type': 'audio_features', 'id': '3USxtqRwSYz57Ewm6wWRMp', 'uri': 'spotify:track:3USxtqRwSYz57Ewm6wWRMp', 'track_href': 'https://api.spotify.com/v1/tracks/3USxtqRwSYz57Ewm6wWRMp', 'analysis_url': 'https://api.spotify.com/v1/audio-analysis/3USxtqRwSYz57Ewm6wWRMp', 'duration_ms': 238805, 'time_signature': 4}\n",
      "{'external_urls': {'spotify': 'https://open.spotify.com/artist/4yvcSjfu4PC0CYQyLy4wSq'}, 'followers': {'href': None, 'total': 2488185}, 'genres': ['gauze pop', 'indietronica', 'shiver pop'], 'href': 'https://api.spotify.com/v1/artists/4yvcSjfu4PC0CYQyLy4wSq', 'id': '4yvcSjfu4PC0CYQyLy4wSq', 'images': [{'height': 640, 'url': 'https://i.scdn.co/image/ab6761610000e5ebe113ca9b6bcd3d3cfc3ad784', 'width': 640}, {'height': 320, 'url': 'https://i.scdn.co/image/ab67616100005174e113ca9b6bcd3d3cfc3ad784', 'width': 320}, {'height': 160, 'url': 'https://i.scdn.co/image/ab6761610000f178e113ca9b6bcd3d3cfc3ad784', 'width': 160}], 'name': 'Glass Animals', 'popularity': 87, 'type': 'artist', 'uri': 'spotify:artist:4yvcSjfu4PC0CYQyLy4wSq'}\n",
      "shit fuck: Ed Sheeran\n",
      "\n",
      "\n",
      "6N1K5OVVCopBjGViHs2IvP\n",
      "spotify:track:6N1K5OVVCopBjGViHs2IvP\n",
      "{'danceability': 0.528, 'energy': 0.309, 'key': 0, 'loudness': -7.398, 'mode': 1, 'speechiness': 0.0329, 'acousticness': 0.924, 'instrumentalness': 2.1e-06, 'liveness': 0.282, 'valence': 0.307, 'tempo': 133.83, 'type': 'audio_features', 'id': '6N1K5OVVCopBjGViHs2IvP', 'uri': 'spotify:track:6N1K5OVVCopBjGViHs2IvP', 'track_href': 'https://api.spotify.com/v1/tracks/6N1K5OVVCopBjGViHs2IvP', 'analysis_url': 'https://api.spotify.com/v1/audio-analysis/6N1K5OVVCopBjGViHs2IvP', 'duration_ms': 185422, 'time_signature': 4}\n",
      "{'external_urls': {'spotify': 'https://open.spotify.com/artist/6eUKZXaKkcviH0Ku9w2n3V'}, 'followers': {'href': None, 'total': 93051373}, 'genres': ['pop', 'uk pop'], 'href': 'https://api.spotify.com/v1/artists/6eUKZXaKkcviH0Ku9w2n3V', 'id': '6eUKZXaKkcviH0Ku9w2n3V', 'images': [{'height': 640, 'url': 'https://i.scdn.co/image/ab6761610000e5eb12a2ef08d00dd7451a6dbed6', 'width': 640}, {'height': 320, 'url': 'https://i.scdn.co/image/ab6761610000517412a2ef08d00dd7451a6dbed6', 'width': 320}, {'height': 160, 'url': 'https://i.scdn.co/image/ab6761610000f17812a2ef08d00dd7451a6dbed6', 'width': 160}], 'name': 'Ed Sheeran', 'popularity': 95, 'type': 'artist', 'uri': 'spotify:artist:6eUKZXaKkcviH0Ku9w2n3V'}\n"
     ]
    }
   ],
   "source": [
    "get_id_of_songs()"
   ]
  },
  {
   "cell_type": "markdown",
   "id": "49d46494",
   "metadata": {},
   "source": [
    "# טיוטות"
   ]
  },
  {
   "cell_type": "code",
   "execution_count": 11,
   "id": "13178061",
   "metadata": {},
   "outputs": [],
   "source": [
    "# for artist in artists_names:\n",
    "#     art=sp.search(artist)"
   ]
  },
  {
   "cell_type": "code",
   "execution_count": 12,
   "id": "2d2a4226",
   "metadata": {},
   "outputs": [],
   "source": [
    "#art"
   ]
  },
  {
   "cell_type": "code",
   "execution_count": 13,
   "id": "67a65b8b",
   "metadata": {},
   "outputs": [],
   "source": [
    "#art['tracks']['items']"
   ]
  },
  {
   "cell_type": "code",
   "execution_count": 14,
   "id": "a803cd2d",
   "metadata": {},
   "outputs": [],
   "source": [
    "#art['tracks']['items'][0]"
   ]
  },
  {
   "cell_type": "code",
   "execution_count": 15,
   "id": "cdd82780",
   "metadata": {
    "scrolled": true
   },
   "outputs": [],
   "source": [
    "#art['tracks']['items']"
   ]
  },
  {
   "cell_type": "code",
   "execution_count": 16,
   "id": "4130bee9",
   "metadata": {},
   "outputs": [],
   "source": [
    "# #finding the id of the specific song with the song name and a dictionary that contains the artists info\n",
    "# def find_id2(song,result):\n",
    "#     for data in result['tracks']['items']:\n",
    "#         for key,value in data.items():\n",
    "#             if (key=='name')&  (value==song):\n",
    "#                 print(data['id'])\n",
    "#                 print(data['uri'])\n",
    "#                 print(sp.audio_features(data['uri'])[0])\n",
    "#                 print(sp.artist(\"64tNsm6TnZe2zpcMVMOoHL\"))\n",
    "#                 return \n",
    "               "
   ]
  },
  {
   "cell_type": "code",
   "execution_count": 17,
   "id": "828dd48e",
   "metadata": {},
   "outputs": [
    {
     "ename": "NameError",
     "evalue": "name 'result' is not defined",
     "output_type": "error",
     "traceback": [
      "\u001b[1;31m---------------------------------------------------------------------------\u001b[0m",
      "\u001b[1;31mNameError\u001b[0m                                 Traceback (most recent call last)",
      "\u001b[1;32m<ipython-input-17-d7c21093eea2>\u001b[0m in \u001b[0;36m<module>\u001b[1;34m\u001b[0m\n\u001b[1;32m----> 1\u001b[1;33m \u001b[0mfind_id2\u001b[0m\u001b[1;33m(\u001b[0m\u001b[1;34m'Them Bones'\u001b[0m\u001b[1;33m,\u001b[0m\u001b[0mresult\u001b[0m\u001b[1;33m)\u001b[0m\u001b[1;33m\u001b[0m\u001b[1;33m\u001b[0m\u001b[0m\n\u001b[0m",
      "\u001b[1;31mNameError\u001b[0m: name 'result' is not defined"
     ]
    }
   ],
   "source": [
    "\n",
    "# find_id2('Them Bones',result)"
   ]
  },
  {
   "cell_type": "code",
   "execution_count": null,
   "id": "e29c7949",
   "metadata": {},
   "outputs": [],
   "source": [
    "#  print(sp.artist(find_artist_id()))"
   ]
  },
  {
   "cell_type": "code",
   "execution_count": null,
   "id": "6c9cbed6",
   "metadata": {},
   "outputs": [],
   "source": [
    "\n",
    "#  artists_names=songs.keys()\n",
    "# def find_artist_id():\n",
    "#         for key,value in art['tracks']['items'][0]['artists'][0].items():\n",
    "#             if(key=='id'):\n",
    "#                 print(value)\n",
    "                   "
   ]
  },
  {
   "cell_type": "code",
   "execution_count": null,
   "id": "af87b6da",
   "metadata": {
    "scrolled": true
   },
   "outputs": [],
   "source": [
    "# def find_features(song,result):\n",
    "#     for song in song_names_list:\n",
    "#         result = sp.search(get_key(song), limit=10)\n",
    "#         for data in result['tracks']['items']:\n",
    "#             print(sp.audio_features(\"spotify:track:4A065x9kJt955eGVqf813g\")[0])\n",
    "#sp.artist(\"spotify:artist:6eUKZXaKkcviH0Ku9w2n3V\")\n"
   ]
  },
  {
   "cell_type": "code",
   "execution_count": null,
   "id": "a32e6376",
   "metadata": {
    "scrolled": true
   },
   "outputs": [],
   "source": [
    "# get_id_of_songs()"
   ]
  },
  {
   "cell_type": "code",
   "execution_count": null,
   "id": "bbeaa890",
   "metadata": {},
   "outputs": [],
   "source": [
    "# art=sp.search(artist)"
   ]
  },
  {
   "cell_type": "markdown",
   "id": "8488581b",
   "metadata": {},
   "source": [
    "## כל מה שלמטה זה טיוטה"
   ]
  },
  {
   "cell_type": "code",
   "execution_count": null,
   "id": "6c4da402",
   "metadata": {},
   "outputs": [],
   "source": [
    "# tracks = []\n",
    "\n",
    "# playlist_link =\"spotify:track:4A065x9kJt955eGVqf813g\"\n",
    "# #playlist_URI = playlist_link.split(\"/\")[-1].split(\"?\")[0]\n",
    "# track_uris = [x[\"track\"][\"uri\"] for x in sp.playlist_tracks(playlist_URI)[\"items\"]]\n",
    "\n",
    "# track_uri = track[\"track\"][\"uri\"]\n",
    "\n",
    "# #Track name\n",
    "# track_name = track[\"track\"][\"name\"]\n",
    "    \n",
    "# #Main Artist\n",
    "# artist_uri = track[\"track\"][\"artists\"][0][\"uri\"]\n",
    "# artist_info = sp.artist(artist_uri)\n",
    "\n",
    "# #Name, popularity, genre\n",
    "# artist_name = track[\"track\"][\"artists\"][0][\"name\"]\n",
    "# artist_pop = artist_info[\"popularity\"]\n",
    "# artist_genres = artist_info[\"genres\"]\n",
    "\n",
    "# #Album\n",
    "# album = track[\"track\"][\"album\"][\"name\"]\n",
    "\n",
    "# #Popularity of the track\n",
    "# track_pop = track[\"track\"][\"popularity\"]\n",
    "\n",
    "# track_features = sp.audio_features(track_uri)[0]\n",
    "\n",
    "# track_genre = 'None'\n",
    "# if len(artist_genres)>0:\n",
    "#     track_genre = artist_genres[0]\n",
    "\n",
    "# track_features['genre'] = track_genre\n",
    "# track_features['pop'] = track_pop\n",
    "# track_features['name'] = track_name\n",
    "# track_features['artist'] = artist_name\n",
    "# tracks.append(track_features)"
   ]
  },
  {
   "cell_type": "code",
   "execution_count": null,
   "id": "160067c5",
   "metadata": {},
   "outputs": [],
   "source": [
    "# def find_artist_id0():\n",
    "#     for song in song_names_list:\n",
    "#         for data in art['tracks']['items']:\n",
    "#             for key,value in data.items():\n",
    "              \n",
    "#                 if ((key=='uri') & (str(value).contains('a'))) :\n",
    "#                     print(str(value))\n",
    "#                     print (data['uri'])\n",
    "#                     print('dgft')\n",
    "#                     return\n",
    "#                     #print(data['uri'])\n",
    "        "
   ]
  },
  {
   "cell_type": "code",
   "execution_count": null,
   "id": "17962407",
   "metadata": {},
   "outputs": [],
   "source": [
    "  #  print(result)\n",
    "# for track in song_names_list:\n",
    "#     #print(song_names_list[track])\n",
    "#     if(track==result['tracks']['items'][0]['name']):\n",
    "#         print(result['tracks']['items'][0]['name'])\n",
    "# for item in a_dict.items():\n",
    "# ...     print(item)"
   ]
  },
  {
   "cell_type": "code",
   "execution_count": null,
   "id": "c78dfe0c",
   "metadata": {},
   "outputs": [],
   "source": [
    "# song_names_list"
   ]
  },
  {
   "cell_type": "code",
   "execution_count": null,
   "id": "0c3b395a",
   "metadata": {},
   "outputs": [],
   "source": [
    "# data.items()"
   ]
  },
  {
   "cell_type": "code",
   "execution_count": null,
   "id": "07bd14cd",
   "metadata": {},
   "outputs": [],
   "source": [
    "# result['tracks']"
   ]
  },
  {
   "cell_type": "code",
   "execution_count": null,
   "id": "608ea726",
   "metadata": {},
   "outputs": [],
   "source": [
    "# for data in result['tracks']['items']:\n",
    "#     for key,value in data.items():\n",
    "#         if (key=='name')&  (value==song_names_list[0]):\n",
    "#             print(value)"
   ]
  },
  {
   "cell_type": "code",
   "execution_count": null,
   "id": "bec3f798",
   "metadata": {},
   "outputs": [],
   "source": [
    "# result = sp.search(songs, type='track')"
   ]
  },
  {
   "cell_type": "code",
   "execution_count": null,
   "id": "509da851",
   "metadata": {},
   "outputs": [],
   "source": [
    "# data.items()"
   ]
  },
  {
   "cell_type": "code",
   "execution_count": null,
   "id": "54a52bb2",
   "metadata": {},
   "outputs": [],
   "source": [
    "# song_names_list"
   ]
  },
  {
   "cell_type": "code",
   "execution_count": null,
   "id": "e463de7e",
   "metadata": {},
   "outputs": [],
   "source": [
    "# result"
   ]
  },
  {
   "cell_type": "code",
   "execution_count": null,
   "id": "32c0c30c",
   "metadata": {},
   "outputs": [],
   "source": [
    "#result['tracks']['items'] - a list of dicts"
   ]
  },
  {
   "cell_type": "code",
   "execution_count": null,
   "id": "30872339",
   "metadata": {},
   "outputs": [],
   "source": [
    "# result['tracks']['items']"
   ]
  },
  {
   "cell_type": "code",
   "execution_count": null,
   "id": "fe039d6f",
   "metadata": {},
   "outputs": [],
   "source": [
    "#print(result['tracks']['items'])"
   ]
  },
  {
   "cell_type": "code",
   "execution_count": null,
   "id": "e1909b20",
   "metadata": {},
   "outputs": [],
   "source": [
    "# for data in result['tracks']['items']:\n",
    "#     for key,value in data.items():\n",
    "#         if (key=='name')&  (value==song_names_list[0]):\n",
    "#             print(value)"
   ]
  },
  {
   "cell_type": "code",
   "execution_count": null,
   "id": "de9eceaf",
   "metadata": {},
   "outputs": [],
   "source": [
    "# for data in result['tracks']['items']:\n",
    "#      for key in data:\n",
    "#             if key=='name'& (value==song_names_list[0]):\n",
    "#                 print(value)\n",
    "   "
   ]
  },
  {
   "cell_type": "code",
   "execution_count": null,
   "id": "03228624",
   "metadata": {},
   "outputs": [],
   "source": [
    "# for data in result['tracks']['items']:\n",
    "#      for key in data.keys():\n",
    "#             if key=='name':\n",
    "#                 print(key)\n",
    "   "
   ]
  },
  {
   "cell_type": "code",
   "execution_count": null,
   "id": "382c61ed",
   "metadata": {},
   "outputs": [],
   "source": [
    "# for data in result['tracks']['items']:\n",
    "#     print (data)"
   ]
  }
 ],
 "metadata": {
  "kernelspec": {
   "display_name": "Python 3",
   "language": "python",
   "name": "python3"
  },
  "language_info": {
   "codemirror_mode": {
    "name": "ipython",
    "version": 3
   },
   "file_extension": ".py",
   "mimetype": "text/x-python",
   "name": "python",
   "nbconvert_exporter": "python",
   "pygments_lexer": "ipython3",
   "version": "3.8.8"
  }
 },
 "nbformat": 4,
 "nbformat_minor": 5
}
