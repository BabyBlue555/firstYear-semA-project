{
 "cells": [
  {
   "cell_type": "markdown",
   "id": "a60c92c3",
   "metadata": {},
   "source": [
    "# Spotify Genre Classification "
   ]
  },
  {
   "cell_type": "markdown",
   "id": "63522b0f",
   "metadata": {},
   "source": [
    "## Getting the Data - Scraping and Spotify API"
   ]
  },
  {
   "cell_type": "markdown",
   "id": "be74d650",
   "metadata": {},
   "source": [
    "### explaining the functions of API:\n",
    "the target : to create a dataFrame that contains the information from the billabord charts and from spotify. the information from spotify is the id of each song that is in the billaboard chart.\n",
    "\n",
    "We get the id of the song,which is the connection between the billabord info and the spotify info (we take each song and artist name from the billabord chart and search for the specific song id in order to get the features that we want to check on each song, in order to classify which song is a hit or not , i.e. which song is popular and which isn't (by the popularity column, which we turned from numeric to catagorial (yes/no).\n",
    "\n",
    "In addition to getting the id - with get_id_of_songs() function, that uses other functions : get_key(val) and find_id(song,result), this function also returns the uri , the song features that we will use in the dataFrame and also info about the artist ( with find_artist_info(result) ) , which includes the 'popularity' feature , which is out target variable.  "
   ]
  },
  {
   "cell_type": "code",
   "execution_count": 1,
   "id": "0f8229ea",
   "metadata": {},
   "outputs": [
    {
     "name": "stdout",
     "output_type": "stream",
     "text": [
      "Total tables: 2\n"
     ]
    }
   ],
   "source": [
    "import pandas as pd\n",
    "import numpy as np\n",
    "import matplotlib.pyplot as plt\n",
    "from unicodedata import normalize\n",
    "import requests \n",
    "import scipy.stats as stats\n",
    "import datetime\n",
    "import base64\n",
    "clientid = '4d7f3ed374354cbf848b72bc270abedd'\n",
    "secretid = '7c9935d59cbc417e8ac74ad8d7e06a6e'\n",
    "table_MN = pd.read_html('https://en.wikipedia.org/wiki/Billboard_Year-End_Hot_100_singles_of_2019')\n",
    "print(f'Total tables: {len(table_MN)}')\n",
    "df1 = table_MN[0]\n",
    "table_MN = pd.read_html('https://en.wikipedia.org/wiki/Billboard_Year-End_Hot_100_singles_of_2018')\n",
    "df2 = table_MN[0]\n",
    "table_MN = pd.read_html('https://en.wikipedia.org/wiki/Billboard_Year-End_Hot_100_singles_of_2017')\n",
    "df3 = table_MN[0]\n",
    "table_MN = pd.read_html('https://en.wikipedia.org/wiki/Billboard_Year-End_Hot_100_singles_of_2016')\n",
    "df4 = table_MN[0]\n",
    "table_MN = pd.read_html('https://en.wikipedia.org/wiki/Billboard_Year-End_Hot_100_singles_of_2015')\n",
    "df5 = table_MN[0]\n",
    "table_MN = pd.read_html('https://en.wikipedia.org/wiki/Billboard_Year-End_Hot_100_singles_of_2014')\n",
    "df6 = table_MN[0]\n",
    "table_MN = pd.read_html('https://en.wikipedia.org/wiki/Billboard_Year-End_Hot_100_singles_of_2013')\n",
    "df7 = table_MN[1]\n",
    "table_MN = pd.read_html('https://en.wikipedia.org/wiki/Billboard_Year-End_Hot_100_singles_of_2012')\n",
    "df8 = table_MN[1]\n",
    "table_MN = pd.read_html('https://en.wikipedia.org/wiki/Billboard_Year-End_Hot_100_singles_of_2011')\n",
    "df9 = table_MN[0]\n",
    "# table_MN = pd.read_html('https://en.wikipedia.org/wiki/Billboard_Year-End_Hot_100_singles_of_2010')\n",
    "# df10 = table_MN[0]\n",
    "# table_MN = pd.read_html('https://en.wikipedia.org/wiki/Billboard_Year-End_Hot_100_singles_of_2009')\n",
    "# df11 = table_MN[0]\n",
    "# table_MN = pd.read_html('https://en.wikipedia.org/wiki/Billboard_Year-End_Hot_100_singles_of_2008')\n",
    "# df12 = table_MN[0]\n",
    "# table_MN = pd.read_html('https://en.wikipedia.org/wiki/Billboard_Year-End_Hot_100_singles_of_2007')\n",
    "# df13 = table_MN[0]\n",
    "# table_MN = pd.read_html('https://en.wikipedia.org/wiki/Billboard_Year-End_Hot_100_singles_of_2006')\n",
    "# df14 = table_MN[0]\n",
    "\n",
    "frames = [df1, df2, df3, df4, df5, df6, df7, df8, df9]\n",
    "#           ,df10 ,df11 ,df12 ,df13 ,df14]\n",
    "\n",
    "\n",
    "## todo: get more data, and really scrape this.\n",
    "all_songs_list = pd.concat(frames)"
   ]
  },
  {
   "cell_type": "code",
   "execution_count": 2,
   "id": "4ac31064",
   "metadata": {},
   "outputs": [],
   "source": [
    "# print(all_songs_list)"
   ]
  },
  {
   "cell_type": "code",
   "execution_count": 3,
   "id": "8d1c4813",
   "metadata": {},
   "outputs": [],
   "source": [
    "# sp.search(\"lsdjlk asfklfafas\", limit=1,type='track')"
   ]
  },
  {
   "cell_type": "code",
   "execution_count": 4,
   "id": "c8d5aa89",
   "metadata": {},
   "outputs": [],
   "source": [
    "import spotipy\n",
    "from spotipy.oauth2 import SpotifyClientCredentials"
   ]
  },
  {
   "cell_type": "code",
   "execution_count": 5,
   "id": "aaf31700",
   "metadata": {},
   "outputs": [],
   "source": [
    "cid = \"3b41c863d85746899b1bd17a39149f8e\"\n",
    "secret = \"631b736a77d545e4a822bea470435cea\""
   ]
  },
  {
   "cell_type": "code",
   "execution_count": 6,
   "id": "1f719b23",
   "metadata": {},
   "outputs": [],
   "source": [
    "client_credentials_manager = SpotifyClientCredentials(client_id=cid, client_secret=secret)\n",
    "sp = spotipy.Spotify(client_credentials_manager = client_credentials_manager)"
   ]
  },
  {
   "cell_type": "code",
   "execution_count": 7,
   "id": "b12d48ef",
   "metadata": {},
   "outputs": [],
   "source": [
    "import re\n",
    "\n",
    "song_results = []\n",
    "for index, row in all_songs_list.iterrows():\n",
    "    song_rank = row['No.']\n",
    "    artist_original_name = row['Artist(s)']\n",
    "    artist_names = re.split('featuring | and | ,',artist_original_name)\n",
    "    artist_names.append(artist_original_name)\n",
    "    for name in artist_names:\n",
    "        query = \"track:\"+row['Title']+\" artist:\"+name\n",
    "        query = query.replace('\"','')\n",
    "        search_result = sp.search(query, limit=1,type='track')\n",
    "        if len(search_result['tracks']['items']) != 0:\n",
    "            song_entity ={'rank':song_rank,'result':search_result}\n",
    "            song_results.append(song_entity)\n",
    "            break\n",
    "#         song_queries.append(query)"
   ]
  },
  {
   "cell_type": "markdown",
   "id": "f69e895a",
   "metadata": {},
   "source": [
    "#### get the artist/band name , in order to search for the song title in the find_id() function"
   ]
  },
  {
   "cell_type": "code",
   "execution_count": 8,
   "id": "e101e6ca",
   "metadata": {},
   "outputs": [],
   "source": [
    "# so we will get an additinal info about the artist and the song - genre , popularity and etc.\n",
    "def find_artist_info(result):\n",
    "    for data in result['tracks']['items']:\n",
    "        for key,value in data.items():\n",
    "                if (key=='artists'): \n",
    "                      return (value[0]['id'])  \n"
   ]
  },
  {
   "cell_type": "code",
   "execution_count": 9,
   "id": "ea0348ef",
   "metadata": {},
   "outputs": [],
   "source": [
    "#find_artist_info(result)"
   ]
  },
  {
   "cell_type": "code",
   "execution_count": 10,
   "id": "4fd5a71e",
   "metadata": {},
   "outputs": [],
   "source": [
    "def get_song_features(song_entity):\n",
    "    search_result = song_entity['result']\n",
    "    track_uri = search_result['tracks']['items'][0]['uri']\n",
    "    track_features = sp.audio_features(track_uri)[0]\n",
    "    artist_id = search_result['tracks']['items'][0]['artists'][0]['id']\n",
    "    artist_info = sp.artist(artist_id)\n",
    "    artist_popularity = artist_info['popularity']\n",
    "    artist_genre = artist_info['genres'][0]\n",
    "    \n",
    "    features = track_features\n",
    "    features['genre'] = artist_genre\n",
    "    features['popularity'] = artist_popularity\n",
    "    features['rank'] = song_entity['rank']\n",
    "\n",
    "    return features"
   ]
  },
  {
   "cell_type": "code",
   "execution_count": 11,
   "id": "612ce5ff",
   "metadata": {},
   "outputs": [],
   "source": [
    "# constant1 = \"track:Overshadows artist:Shredhead\"\n",
    "# get_song_features(constant1)\n",
    "\n",
    "def get_songs_df(song_entities):\n",
    "    song_list = []\n",
    "    for ent in song_entities:\n",
    "        try:\n",
    "            song_features = get_song_features(ent)\n",
    "            song_list.append(song_features)\n",
    "        except:\n",
    "            print(ent['result'])\n",
    "            print(\"song was not found!\")\n",
    "    \n",
    "    return pd.DataFrame(song_list)"
   ]
  },
  {
   "cell_type": "markdown",
   "id": "b6b23eb9",
   "metadata": {},
   "source": [
    "# Introduction to the problem"
   ]
  },
  {
   "cell_type": "markdown",
   "id": "b356c887",
   "metadata": {},
   "source": [
    "### What is Classification?\n",
    "\n",
    "A classification algorithm takes a dataset of labelled examples as inputs to produce a model that can take unlabeled new data and automatically assign labels to the unlabeled example.\n",
    "\n",
    "If the classification problem has a set of two labels (for instance “spam” or “not spam”) then it is a binary classification problem. Multi-class classification is a problem where the number of labels within the set is three or greater. \n",
    "\n",
    "The problem that we are looking at is a multi-class as there are many genres within the set."
   ]
  },
  {
   "cell_type": "markdown",
   "id": "75b25338",
   "metadata": {},
   "source": [
    "### our independent features/variables: \n",
    "\n",
    "#### A. from spotify API track info:\n",
    "\n",
    "#### B. from spotify API artist info:\n",
    "\n",
    "#### C. from billaboard charts' scraping: \n",
    "     rank- song position\n",
    "     "
   ]
  },
  {
   "cell_type": "code",
   "execution_count": null,
   "id": "a56b0331",
   "metadata": {},
   "outputs": [],
   "source": []
  },
  {
   "cell_type": "markdown",
   "id": "69214985",
   "metadata": {},
   "source": [
    "## What is the target column?\n",
    "our target column (dependent feature): genre\n",
    "    \n",
    "genre is the music type which the song is accosiated to\n",
    "in the data aquisition process, we only took the rifst genre the song is accosiated to."
   ]
  },
  {
   "cell_type": "markdown",
   "id": "670a13ee",
   "metadata": {},
   "source": [
    "our aprior ideas:\n",
    "   \n",
    "   * the features 'danceability', 'energy', loudness ,instrumentalness ,speechiness, liveness', pop and tempo have high        correlation to the genre feature, so they are good features to use in order to classify the songs' genre.\n",
    "    this is due to the fact that those features are linked very strongl to specific genres.\n",
    "    \n",
    "for example, a pop song has a big likelihood to have high danceability, energy, loudness and pop (popularity), whereas a rock song has a big likelihood to have high loudness and instrumentalness, in comparison to a country song that is likely to have low loudness and high acousticness\t.\n",
    "\n",
    "* the rank feature may be helpful to classify the songs' genre since we know that most of the song that has high ranking are classified as pop songs or rap/hip hop songs.\n"
   ]
  },
  {
   "cell_type": "markdown",
   "id": "65ac2a4c",
   "metadata": {},
   "source": [
    "#  getting to know the data"
   ]
  },
  {
   "cell_type": "code",
   "execution_count": null,
   "id": "02c5a7a4",
   "metadata": {},
   "outputs": [],
   "source": []
  },
  {
   "cell_type": "code",
   "execution_count": 12,
   "id": "935fdda1",
   "metadata": {},
   "outputs": [],
   "source": [
    "import matplotlib\n",
    "import seaborn as sns\n",
    "import matplotlib.pyplot as plt\n",
    "import plotly.express as px\n",
    "%matplotlib inline\n",
    "\n",
    "#for preprocessing part\n",
    "from scipy import stats"
   ]
  },
  {
   "cell_type": "code",
   "execution_count": 13,
   "id": "af7a40bf",
   "metadata": {},
   "outputs": [
    {
     "name": "stdout",
     "output_type": "stream",
     "text": [
      "{'tracks': {'href': 'https://api.spotify.com/v1/search?query=track%3AJuju+on+That+Beat+%28TZ+Anthem%29+artist%3AZay+Hilfigerrr+%26+Zayion+McCall&type=track&offset=0&limit=1', 'items': [{'album': {'album_type': 'compilation', 'artists': [{'external_urls': {'spotify': 'https://open.spotify.com/artist/0LyfQWJT6nXafLPZqxe9Of'}, 'href': 'https://api.spotify.com/v1/artists/0LyfQWJT6nXafLPZqxe9Of', 'id': '0LyfQWJT6nXafLPZqxe9Of', 'name': 'Various Artists', 'type': 'artist', 'uri': 'spotify:artist:0LyfQWJT6nXafLPZqxe9Of'}], 'available_markets': ['AD', 'AE', 'AG', 'AL', 'AM', 'AO', 'AR', 'AT', 'AU', 'AZ', 'BA', 'BB', 'BD', 'BE', 'BF', 'BG', 'BH', 'BI', 'BJ', 'BN', 'BO', 'BR', 'BS', 'BT', 'BW', 'BY', 'BZ', 'CA', 'CD', 'CG', 'CH', 'CI', 'CL', 'CM', 'CO', 'CR', 'CV', 'CW', 'CY', 'CZ', 'DE', 'DJ', 'DK', 'DM', 'DO', 'DZ', 'EC', 'EE', 'EG', 'ES', 'FI', 'FJ', 'FM', 'FR', 'GA', 'GB', 'GD', 'GE', 'GH', 'GM', 'GN', 'GQ', 'GR', 'GT', 'GW', 'GY', 'HK', 'HN', 'HR', 'HT', 'HU', 'ID', 'IE', 'IL', 'IN', 'IQ', 'IS', 'IT', 'JM', 'JO', 'JP', 'KE', 'KG', 'KH', 'KI', 'KM', 'KN', 'KR', 'KW', 'KZ', 'LA', 'LB', 'LC', 'LI', 'LK', 'LR', 'LS', 'LT', 'LU', 'LV', 'LY', 'MA', 'MC', 'MD', 'ME', 'MG', 'MH', 'MK', 'ML', 'MN', 'MO', 'MR', 'MT', 'MU', 'MV', 'MW', 'MX', 'MY', 'MZ', 'NA', 'NE', 'NG', 'NI', 'NL', 'NO', 'NP', 'NR', 'NZ', 'OM', 'PA', 'PE', 'PG', 'PH', 'PK', 'PL', 'PS', 'PT', 'PW', 'PY', 'QA', 'RO', 'RS', 'RU', 'RW', 'SA', 'SB', 'SC', 'SE', 'SG', 'SI', 'SK', 'SL', 'SM', 'SN', 'SR', 'ST', 'SV', 'SZ', 'TD', 'TG', 'TH', 'TJ', 'TL', 'TN', 'TO', 'TR', 'TT', 'TV', 'TW', 'TZ', 'UA', 'UG', 'US', 'UY', 'UZ', 'VC', 'VE', 'VN', 'VU', 'WS', 'XK', 'ZA', 'ZM', 'ZW'], 'external_urls': {'spotify': 'https://open.spotify.com/album/0ezkpFcE5jANBI2ZrmvhQY'}, 'href': 'https://api.spotify.com/v1/albums/0ezkpFcE5jANBI2ZrmvhQY', 'id': '0ezkpFcE5jANBI2ZrmvhQY', 'images': [{'height': 640, 'url': 'https://i.scdn.co/image/ab67616d0000b273b765afdf5f6a2bc83eb5f378', 'width': 640}, {'height': 300, 'url': 'https://i.scdn.co/image/ab67616d00001e02b765afdf5f6a2bc83eb5f378', 'width': 300}, {'height': 64, 'url': 'https://i.scdn.co/image/ab67616d00004851b765afdf5f6a2bc83eb5f378', 'width': 64}], 'name': 'This Is A Challenge', 'release_date': '2016-12-16', 'release_date_precision': 'day', 'total_tracks': 15, 'type': 'album', 'uri': 'spotify:album:0ezkpFcE5jANBI2ZrmvhQY'}, 'artists': [{'external_urls': {'spotify': 'https://open.spotify.com/artist/7nKeLE1toRtW4M279iS26h'}, 'href': 'https://api.spotify.com/v1/artists/7nKeLE1toRtW4M279iS26h', 'id': '7nKeLE1toRtW4M279iS26h', 'name': 'Zay Hilfigerrr', 'type': 'artist', 'uri': 'spotify:artist:7nKeLE1toRtW4M279iS26h'}, {'external_urls': {'spotify': 'https://open.spotify.com/artist/5AsWcQXw4RJFRWBbwa0ti0'}, 'href': 'https://api.spotify.com/v1/artists/5AsWcQXw4RJFRWBbwa0ti0', 'id': '5AsWcQXw4RJFRWBbwa0ti0', 'name': 'Zayion McCall', 'type': 'artist', 'uri': 'spotify:artist:5AsWcQXw4RJFRWBbwa0ti0'}, {'external_urls': {'spotify': 'https://open.spotify.com/artist/0lLwgTguLHBKx3qOD0Jyhj'}, 'href': 'https://api.spotify.com/v1/artists/0lLwgTguLHBKx3qOD0Jyhj', 'id': '0lLwgTguLHBKx3qOD0Jyhj', 'name': 'DJ Flex', 'type': 'artist', 'uri': 'spotify:artist:0lLwgTguLHBKx3qOD0Jyhj'}, {'external_urls': {'spotify': 'https://open.spotify.com/artist/2egHjluE0KIfSauYOvNvhG'}, 'href': 'https://api.spotify.com/v1/artists/2egHjluE0KIfSauYOvNvhG', 'id': '2egHjluE0KIfSauYOvNvhG', 'name': 'DJ Taj', 'type': 'artist', 'uri': 'spotify:artist:2egHjluE0KIfSauYOvNvhG'}], 'available_markets': ['AD', 'AE', 'AG', 'AL', 'AM', 'AO', 'AR', 'AT', 'AU', 'AZ', 'BA', 'BB', 'BD', 'BE', 'BF', 'BG', 'BH', 'BI', 'BJ', 'BN', 'BO', 'BR', 'BS', 'BT', 'BW', 'BY', 'BZ', 'CA', 'CD', 'CG', 'CH', 'CI', 'CL', 'CM', 'CO', 'CR', 'CV', 'CW', 'CY', 'CZ', 'DE', 'DJ', 'DK', 'DM', 'DO', 'DZ', 'EC', 'EE', 'EG', 'ES', 'FI', 'FJ', 'FM', 'FR', 'GA', 'GB', 'GD', 'GE', 'GH', 'GM', 'GN', 'GQ', 'GR', 'GT', 'GW', 'GY', 'HK', 'HN', 'HR', 'HT', 'HU', 'ID', 'IE', 'IL', 'IN', 'IQ', 'IS', 'IT', 'JM', 'JO', 'JP', 'KE', 'KG', 'KH', 'KI', 'KM', 'KN', 'KR', 'KW', 'KZ', 'LA', 'LB', 'LC', 'LI', 'LK', 'LR', 'LS', 'LT', 'LU', 'LV', 'LY', 'MA', 'MC', 'MD', 'ME', 'MG', 'MH', 'MK', 'ML', 'MN', 'MO', 'MR', 'MT', 'MU', 'MV', 'MW', 'MX', 'MY', 'MZ', 'NA', 'NE', 'NG', 'NI', 'NL', 'NO', 'NP', 'NR', 'NZ', 'OM', 'PA', 'PE', 'PG', 'PH', 'PK', 'PL', 'PS', 'PT', 'PW', 'PY', 'QA', 'RO', 'RS', 'RU', 'RW', 'SA', 'SB', 'SC', 'SE', 'SG', 'SI', 'SK', 'SL', 'SM', 'SN', 'SR', 'ST', 'SV', 'SZ', 'TD', 'TG', 'TH', 'TJ', 'TL', 'TN', 'TO', 'TR', 'TT', 'TV', 'TW', 'TZ', 'UA', 'UG', 'US', 'UY', 'UZ', 'VC', 'VE', 'VN', 'VU', 'WS', 'XK', 'ZA', 'ZM', 'ZW'], 'disc_number': 1, 'duration_ms': 102857, 'explicit': False, 'external_ids': {'isrc': 'USAT21603711'}, 'external_urls': {'spotify': 'https://open.spotify.com/track/6VQ1iGUwAyFugBI73h1iqs'}, 'href': 'https://api.spotify.com/v1/tracks/6VQ1iGUwAyFugBI73h1iqs', 'id': '6VQ1iGUwAyFugBI73h1iqs', 'is_local': False, 'name': 'Juju on That Beat (TZ Anthem) - DJ Taj and DJ Flex Remix; Challenge Version', 'popularity': 21, 'preview_url': 'https://p.scdn.co/mp3-preview/6a9dc91d6aeeb224aa1379a638de6ed1564bf41a?cid=3b41c863d85746899b1bd17a39149f8e', 'track_number': 15, 'type': 'track', 'uri': 'spotify:track:6VQ1iGUwAyFugBI73h1iqs'}], 'limit': 1, 'next': None, 'offset': 0, 'previous': None, 'total': 1}}\n",
      "song was not found!\n",
      "{'tracks': {'href': 'https://api.spotify.com/v1/search?query=track%3AWhat+About+Us+artist%3APink&type=track&offset=0&limit=1', 'items': [{'album': {'album_type': 'album', 'artists': [{'external_urls': {'spotify': 'https://open.spotify.com/artist/6P7WRF75IwcYANajwZGyfq'}, 'href': 'https://api.spotify.com/v1/artists/6P7WRF75IwcYANajwZGyfq', 'id': '6P7WRF75IwcYANajwZGyfq', 'name': 'The Pink Singers', 'type': 'artist', 'uri': 'spotify:artist:6P7WRF75IwcYANajwZGyfq'}], 'available_markets': ['AD', 'AE', 'AG', 'AL', 'AM', 'AO', 'AR', 'AT', 'AU', 'AZ', 'BA', 'BB', 'BD', 'BE', 'BF', 'BG', 'BH', 'BI', 'BJ', 'BN', 'BO', 'BR', 'BS', 'BT', 'BW', 'BY', 'BZ', 'CA', 'CD', 'CG', 'CH', 'CI', 'CL', 'CM', 'CO', 'CR', 'CV', 'CW', 'CY', 'CZ', 'DE', 'DJ', 'DK', 'DM', 'DO', 'DZ', 'EC', 'EE', 'EG', 'ES', 'FI', 'FJ', 'FM', 'FR', 'GA', 'GB', 'GD', 'GE', 'GH', 'GM', 'GN', 'GQ', 'GR', 'GT', 'GW', 'GY', 'HK', 'HN', 'HR', 'HT', 'HU', 'ID', 'IE', 'IL', 'IN', 'IQ', 'IS', 'IT', 'JM', 'JO', 'JP', 'KE', 'KG', 'KH', 'KI', 'KM', 'KN', 'KR', 'KW', 'KZ', 'LA', 'LB', 'LC', 'LI', 'LK', 'LR', 'LS', 'LT', 'LU', 'LV', 'LY', 'MA', 'MC', 'MD', 'ME', 'MG', 'MH', 'MK', 'ML', 'MN', 'MO', 'MR', 'MT', 'MU', 'MV', 'MW', 'MX', 'MY', 'MZ', 'NA', 'NE', 'NG', 'NI', 'NL', 'NO', 'NP', 'NR', 'NZ', 'OM', 'PA', 'PE', 'PG', 'PH', 'PK', 'PL', 'PS', 'PT', 'PW', 'PY', 'QA', 'RO', 'RS', 'RU', 'RW', 'SA', 'SB', 'SC', 'SE', 'SG', 'SI', 'SK', 'SL', 'SM', 'SN', 'SR', 'ST', 'SV', 'SZ', 'TD', 'TG', 'TH', 'TJ', 'TL', 'TN', 'TO', 'TR', 'TT', 'TV', 'TW', 'TZ', 'UA', 'UG', 'US', 'UY', 'UZ', 'VC', 'VE', 'VN', 'VU', 'WS', 'XK', 'ZA', 'ZM', 'ZW'], 'external_urls': {'spotify': 'https://open.spotify.com/album/1yzM9jv6S1zXamFgcEdi3W'}, 'href': 'https://api.spotify.com/v1/albums/1yzM9jv6S1zXamFgcEdi3W', 'id': '1yzM9jv6S1zXamFgcEdi3W', 'images': [{'height': 640, 'url': 'https://i.scdn.co/image/ab67616d0000b2731decc57dee153ee380eff7b1', 'width': 640}, {'height': 300, 'url': 'https://i.scdn.co/image/ab67616d00001e021decc57dee153ee380eff7b1', 'width': 300}, {'height': 64, 'url': 'https://i.scdn.co/image/ab67616d000048511decc57dee153ee380eff7b1', 'width': 64}], 'name': 'Live from Cadogan Hall', 'release_date': '2020-11-13', 'release_date_precision': 'day', 'total_tracks': 13, 'type': 'album', 'uri': 'spotify:album:1yzM9jv6S1zXamFgcEdi3W'}, 'artists': [{'external_urls': {'spotify': 'https://open.spotify.com/artist/6P7WRF75IwcYANajwZGyfq'}, 'href': 'https://api.spotify.com/v1/artists/6P7WRF75IwcYANajwZGyfq', 'id': '6P7WRF75IwcYANajwZGyfq', 'name': 'The Pink Singers', 'type': 'artist', 'uri': 'spotify:artist:6P7WRF75IwcYANajwZGyfq'}], 'available_markets': ['AD', 'AE', 'AG', 'AL', 'AM', 'AO', 'AR', 'AT', 'AU', 'AZ', 'BA', 'BB', 'BD', 'BE', 'BF', 'BG', 'BH', 'BI', 'BJ', 'BN', 'BO', 'BR', 'BS', 'BT', 'BW', 'BY', 'BZ', 'CA', 'CD', 'CG', 'CH', 'CI', 'CL', 'CM', 'CO', 'CR', 'CV', 'CW', 'CY', 'CZ', 'DE', 'DJ', 'DK', 'DM', 'DO', 'DZ', 'EC', 'EE', 'EG', 'ES', 'FI', 'FJ', 'FM', 'FR', 'GA', 'GB', 'GD', 'GE', 'GH', 'GM', 'GN', 'GQ', 'GR', 'GT', 'GW', 'GY', 'HK', 'HN', 'HR', 'HT', 'HU', 'ID', 'IE', 'IL', 'IN', 'IQ', 'IS', 'IT', 'JM', 'JO', 'JP', 'KE', 'KG', 'KH', 'KI', 'KM', 'KN', 'KR', 'KW', 'KZ', 'LA', 'LB', 'LC', 'LI', 'LK', 'LR', 'LS', 'LT', 'LU', 'LV', 'LY', 'MA', 'MC', 'MD', 'ME', 'MG', 'MH', 'MK', 'ML', 'MN', 'MO', 'MR', 'MT', 'MU', 'MV', 'MW', 'MX', 'MY', 'MZ', 'NA', 'NE', 'NG', 'NI', 'NL', 'NO', 'NP', 'NR', 'NZ', 'OM', 'PA', 'PE', 'PG', 'PH', 'PK', 'PL', 'PS', 'PT', 'PW', 'PY', 'QA', 'RO', 'RS', 'RU', 'RW', 'SA', 'SB', 'SC', 'SE', 'SG', 'SI', 'SK', 'SL', 'SM', 'SN', 'SR', 'ST', 'SV', 'SZ', 'TD', 'TG', 'TH', 'TJ', 'TL', 'TN', 'TO', 'TR', 'TT', 'TV', 'TW', 'TZ', 'UA', 'UG', 'US', 'UY', 'UZ', 'VC', 'VE', 'VN', 'VU', 'WS', 'XK', 'ZA', 'ZM', 'ZW'], 'disc_number': 1, 'duration_ms': 300559, 'explicit': False, 'external_ids': {'isrc': 'usl4r2003775'}, 'external_urls': {'spotify': 'https://open.spotify.com/track/5eYOelgk5UnmJgVokrPEkF'}, 'href': 'https://api.spotify.com/v1/tracks/5eYOelgk5UnmJgVokrPEkF', 'id': '5eYOelgk5UnmJgVokrPEkF', 'is_local': False, 'name': 'What About Us - Live', 'popularity': 24, 'preview_url': 'https://p.scdn.co/mp3-preview/b3983ada77f2f6fb5d46ac326f5743b691d775ce?cid=3b41c863d85746899b1bd17a39149f8e', 'track_number': 4, 'type': 'track', 'uri': 'spotify:track:5eYOelgk5UnmJgVokrPEkF'}], 'limit': 1, 'next': 'https://api.spotify.com/v1/search?query=track%3AWhat+About+Us+artist%3APink&type=track&offset=1&limit=1', 'offset': 0, 'previous': None, 'total': 2}}\n",
      "song was not found!\n"
     ]
    },
    {
     "name": "stdout",
     "output_type": "stream",
     "text": [
      "{'tracks': {'href': 'https://api.spotify.com/v1/search?query=track%3AI+Hate+U%2C+I+Love+U+artist%3AGnash+&type=track&offset=0&limit=1', 'items': [{'album': {'album_type': 'compilation', 'artists': [{'external_urls': {'spotify': 'https://open.spotify.com/artist/0LyfQWJT6nXafLPZqxe9Of'}, 'href': 'https://api.spotify.com/v1/artists/0LyfQWJT6nXafLPZqxe9Of', 'id': '0LyfQWJT6nXafLPZqxe9Of', 'name': 'Various Artists', 'type': 'artist', 'uri': 'spotify:artist:0LyfQWJT6nXafLPZqxe9Of'}], 'available_markets': ['AD', 'AE', 'AG', 'AL', 'AM', 'AO', 'AR', 'AT', 'AU', 'AZ', 'BA', 'BB', 'BD', 'BE', 'BF', 'BG', 'BH', 'BI', 'BJ', 'BN', 'BO', 'BR', 'BS', 'BT', 'BW', 'BY', 'BZ', 'CA', 'CD', 'CG', 'CH', 'CI', 'CL', 'CM', 'CO', 'CR', 'CV', 'CY', 'CZ', 'DE', 'DJ', 'DK', 'DM', 'DO', 'DZ', 'EC', 'EE', 'EG', 'ES', 'FI', 'FJ', 'FM', 'FR', 'GA', 'GB', 'GD', 'GE', 'GH', 'GM', 'GN', 'GQ', 'GR', 'GT', 'GW', 'GY', 'HK', 'HN', 'HR', 'HT', 'HU', 'ID', 'IE', 'IL', 'IN', 'IQ', 'IS', 'IT', 'JM', 'JO', 'JP', 'KE', 'KG', 'KH', 'KI', 'KM', 'KN', 'KR', 'KW', 'KZ', 'LA', 'LB', 'LC', 'LI', 'LK', 'LR', 'LS', 'LT', 'LU', 'LV', 'LY', 'MA', 'MC', 'MD', 'ME', 'MG', 'MH', 'MK', 'ML', 'MN', 'MO', 'MR', 'MT', 'MU', 'MV', 'MW', 'MX', 'MY', 'MZ', 'NA', 'NE', 'NG', 'NI', 'NL', 'NO', 'NP', 'NR', 'NZ', 'OM', 'PA', 'PE', 'PG', 'PH', 'PK', 'PL', 'PS', 'PT', 'PW', 'PY', 'QA', 'RO', 'RS', 'RU', 'RW', 'SA', 'SB', 'SC', 'SE', 'SG', 'SI', 'SK', 'SL', 'SM', 'SN', 'SR', 'ST', 'SV', 'SZ', 'TD', 'TG', 'TH', 'TJ', 'TL', 'TN', 'TO', 'TR', 'TT', 'TV', 'TW', 'TZ', 'UA', 'UG', 'US', 'UY', 'UZ', 'VC', 'VE', 'VN', 'VU', 'WS', 'XK', 'ZA', 'ZM', 'ZW'], 'external_urls': {'spotify': 'https://open.spotify.com/album/2AJZmh2RrgeNAWh6IPUlnf'}, 'href': 'https://api.spotify.com/v1/albums/2AJZmh2RrgeNAWh6IPUlnf', 'id': '2AJZmh2RrgeNAWh6IPUlnf', 'images': [{'height': 640, 'url': 'https://i.scdn.co/image/ab67616d0000b2739dfc19d7a709807ec75a6e16', 'width': 640}, {'height': 300, 'url': 'https://i.scdn.co/image/ab67616d00001e029dfc19d7a709807ec75a6e16', 'width': 300}, {'height': 64, 'url': 'https://i.scdn.co/image/ab67616d000048519dfc19d7a709807ec75a6e16', 'width': 64}], 'name': 'Perfect 10s', 'release_date': '2022-01-14', 'release_date_precision': 'day', 'total_tracks': 55, 'type': 'album', 'uri': 'spotify:album:2AJZmh2RrgeNAWh6IPUlnf'}, 'artists': [{'external_urls': {'spotify': 'https://open.spotify.com/artist/4Zrby3WXXPkfpjbA9vA7wq'}, 'href': 'https://api.spotify.com/v1/artists/4Zrby3WXXPkfpjbA9vA7wq', 'id': '4Zrby3WXXPkfpjbA9vA7wq', 'name': 'gnash', 'type': 'artist', 'uri': 'spotify:artist:4Zrby3WXXPkfpjbA9vA7wq'}, {'external_urls': {'spotify': 'https://open.spotify.com/artist/1QRj3hoop9Mv5VvHQkwPEp'}, 'href': 'https://api.spotify.com/v1/artists/1QRj3hoop9Mv5VvHQkwPEp', 'id': '1QRj3hoop9Mv5VvHQkwPEp', 'name': \"Olivia O'Brien\", 'type': 'artist', 'uri': 'spotify:artist:1QRj3hoop9Mv5VvHQkwPEp'}], 'available_markets': ['AD', 'AE', 'AG', 'AL', 'AM', 'AO', 'AR', 'AT', 'AU', 'AZ', 'BA', 'BB', 'BD', 'BE', 'BF', 'BG', 'BH', 'BI', 'BJ', 'BN', 'BO', 'BR', 'BS', 'BT', 'BW', 'BY', 'BZ', 'CA', 'CD', 'CG', 'CH', 'CI', 'CL', 'CM', 'CO', 'CR', 'CV', 'CY', 'CZ', 'DE', 'DJ', 'DK', 'DM', 'DO', 'DZ', 'EC', 'EE', 'EG', 'ES', 'FI', 'FJ', 'FM', 'FR', 'GA', 'GB', 'GD', 'GE', 'GH', 'GM', 'GN', 'GQ', 'GR', 'GT', 'GW', 'GY', 'HK', 'HN', 'HR', 'HT', 'HU', 'ID', 'IE', 'IL', 'IN', 'IQ', 'IS', 'IT', 'JM', 'JO', 'JP', 'KE', 'KG', 'KH', 'KI', 'KM', 'KN', 'KR', 'KW', 'KZ', 'LA', 'LB', 'LC', 'LI', 'LK', 'LR', 'LS', 'LT', 'LU', 'LV', 'LY', 'MA', 'MC', 'MD', 'ME', 'MG', 'MH', 'MK', 'ML', 'MN', 'MO', 'MR', 'MT', 'MU', 'MV', 'MW', 'MX', 'MY', 'MZ', 'NA', 'NE', 'NG', 'NI', 'NL', 'NO', 'NP', 'NR', 'NZ', 'OM', 'PA', 'PE', 'PG', 'PH', 'PK', 'PL', 'PS', 'PT', 'PW', 'PY', 'QA', 'RO', 'RS', 'RU', 'RW', 'SA', 'SB', 'SC', 'SE', 'SG', 'SI', 'SK', 'SL', 'SM', 'SN', 'SR', 'ST', 'SV', 'SZ', 'TD', 'TG', 'TH', 'TJ', 'TL', 'TN', 'TO', 'TR', 'TT', 'TV', 'TW', 'TZ', 'UA', 'UG', 'US', 'UY', 'UZ', 'VC', 'VE', 'VN', 'VU', 'WS', 'XK', 'ZA', 'ZM', 'ZW'], 'disc_number': 1, 'duration_ms': 251033, 'explicit': True, 'external_ids': {'isrc': 'USAT21601051'}, 'external_urls': {'spotify': 'https://open.spotify.com/track/7drwQpLojT2bltNbnjermg'}, 'href': 'https://api.spotify.com/v1/tracks/7drwQpLojT2bltNbnjermg', 'id': '7drwQpLojT2bltNbnjermg', 'is_local': False, 'name': 'i hate u, i love u', 'popularity': 21, 'preview_url': 'https://p.scdn.co/mp3-preview/562b411bff3530de9c85aad72dd2de062890ed73?cid=3b41c863d85746899b1bd17a39149f8e', 'track_number': 33, 'type': 'track', 'uri': 'spotify:track:7drwQpLojT2bltNbnjermg'}], 'limit': 1, 'next': 'https://api.spotify.com/v1/search?query=track%3AI+Hate+U%2C+I+Love+U+artist%3AGnash+&type=track&offset=1&limit=1', 'offset': 0, 'previous': None, 'total': 7}}\n",
      "song was not found!\n",
      "{'tracks': {'href': 'https://api.spotify.com/v1/search?query=track%3AI%27m+Not+the+Only+One+artist%3ASam+Smith&type=track&offset=0&limit=1', 'items': [{'album': {'album_type': 'compilation', 'artists': [{'external_urls': {'spotify': 'https://open.spotify.com/artist/0LyfQWJT6nXafLPZqxe9Of'}, 'href': 'https://api.spotify.com/v1/artists/0LyfQWJT6nXafLPZqxe9Of', 'id': '0LyfQWJT6nXafLPZqxe9Of', 'name': 'Various Artists', 'type': 'artist', 'uri': 'spotify:artist:0LyfQWJT6nXafLPZqxe9Of'}], 'available_markets': ['AD', 'AE', 'AG', 'AL', 'AM', 'AO', 'AR', 'AT', 'AU', 'AZ', 'BA', 'BB', 'BD', 'BE', 'BF', 'BG', 'BH', 'BI', 'BJ', 'BN', 'BO', 'BR', 'BS', 'BT', 'BW', 'BY', 'BZ', 'CA', 'CD', 'CG', 'CH', 'CI', 'CL', 'CM', 'CO', 'CR', 'CV', 'CW', 'CY', 'CZ', 'DE', 'DJ', 'DK', 'DM', 'DO', 'DZ', 'EC', 'EE', 'EG', 'ES', 'FI', 'FJ', 'FM', 'FR', 'GA', 'GB', 'GD', 'GE', 'GH', 'GM', 'GN', 'GQ', 'GR', 'GT', 'GW', 'GY', 'HK', 'HN', 'HR', 'HT', 'HU', 'ID', 'IE', 'IL', 'IN', 'IQ', 'IS', 'IT', 'JM', 'JO', 'JP', 'KE', 'KG', 'KH', 'KI', 'KM', 'KN', 'KR', 'KW', 'KZ', 'LA', 'LB', 'LC', 'LI', 'LK', 'LR', 'LS', 'LT', 'LU', 'LV', 'LY', 'MA', 'MC', 'MD', 'ME', 'MG', 'MH', 'MK', 'ML', 'MN', 'MO', 'MR', 'MT', 'MU', 'MV', 'MW', 'MX', 'MY', 'MZ', 'NA', 'NE', 'NG', 'NI', 'NL', 'NO', 'NP', 'NR', 'NZ', 'OM', 'PA', 'PE', 'PG', 'PH', 'PK', 'PL', 'PS', 'PT', 'PW', 'PY', 'QA', 'RO', 'RS', 'RU', 'RW', 'SA', 'SB', 'SC', 'SE', 'SG', 'SI', 'SK', 'SL', 'SM', 'SN', 'SR', 'ST', 'SV', 'SZ', 'TD', 'TG', 'TH', 'TJ', 'TL', 'TN', 'TO', 'TR', 'TT', 'TV', 'TW', 'TZ', 'UA', 'UG', 'US', 'UY', 'UZ', 'VC', 'VE', 'VN', 'VU', 'WS', 'XK', 'ZA', 'ZM', 'ZW'], 'external_urls': {'spotify': 'https://open.spotify.com/album/4iRPuSTCIq94QA4GU5TxHh'}, 'href': 'https://api.spotify.com/v1/albums/4iRPuSTCIq94QA4GU5TxHh', 'id': '4iRPuSTCIq94QA4GU5TxHh', 'images': [{'height': 640, 'url': 'https://i.scdn.co/image/ab67616d0000b27326f26a5def2cf364e71aba37', 'width': 640}, {'height': 300, 'url': 'https://i.scdn.co/image/ab67616d00001e0226f26a5def2cf364e71aba37', 'width': 300}, {'height': 64, 'url': 'https://i.scdn.co/image/ab67616d0000485126f26a5def2cf364e71aba37', 'width': 64}], 'name': 'Music for the Moment: Classic for Passion', 'release_date': '2019-04-23', 'release_date_precision': 'day', 'total_tracks': 10, 'type': 'album', 'uri': 'spotify:album:4iRPuSTCIq94QA4GU5TxHh'}, 'artists': [{'external_urls': {'spotify': 'https://open.spotify.com/artist/4kNHs1OvhTfdpGPt7QslOG'}, 'href': 'https://api.spotify.com/v1/artists/4kNHs1OvhTfdpGPt7QslOG', 'id': '4kNHs1OvhTfdpGPt7QslOG', 'name': 'Sam Smith', 'type': 'artist', 'uri': 'spotify:artist:4kNHs1OvhTfdpGPt7QslOG'}, {'external_urls': {'spotify': 'https://open.spotify.com/artist/3DNux72LAcJJF7APpZf0NY'}, 'href': 'https://api.spotify.com/v1/artists/3DNux72LAcJJF7APpZf0NY', 'id': '3DNux72LAcJJF7APpZf0NY', 'name': 'Dale Burbeck', 'type': 'artist', 'uri': 'spotify:artist:3DNux72LAcJJF7APpZf0NY'}], 'available_markets': ['AD', 'AE', 'AG', 'AL', 'AM', 'AO', 'AR', 'AT', 'AU', 'AZ', 'BA', 'BB', 'BD', 'BE', 'BF', 'BG', 'BH', 'BI', 'BJ', 'BN', 'BO', 'BR', 'BS', 'BT', 'BW', 'BY', 'BZ', 'CA', 'CD', 'CG', 'CH', 'CI', 'CL', 'CM', 'CO', 'CR', 'CV', 'CW', 'CY', 'CZ', 'DE', 'DJ', 'DK', 'DM', 'DO', 'DZ', 'EC', 'EE', 'EG', 'ES', 'FI', 'FJ', 'FM', 'FR', 'GA', 'GB', 'GD', 'GE', 'GH', 'GM', 'GN', 'GQ', 'GR', 'GT', 'GW', 'GY', 'HK', 'HN', 'HR', 'HT', 'HU', 'ID', 'IE', 'IL', 'IN', 'IQ', 'IS', 'IT', 'JM', 'JO', 'JP', 'KE', 'KG', 'KH', 'KI', 'KM', 'KN', 'KR', 'KW', 'KZ', 'LA', 'LB', 'LC', 'LI', 'LK', 'LR', 'LS', 'LT', 'LU', 'LV', 'LY', 'MA', 'MC', 'MD', 'ME', 'MG', 'MH', 'MK', 'ML', 'MN', 'MO', 'MR', 'MT', 'MU', 'MV', 'MW', 'MX', 'MY', 'MZ', 'NA', 'NE', 'NG', 'NI', 'NL', 'NO', 'NP', 'NR', 'NZ', 'OM', 'PA', 'PE', 'PG', 'PH', 'PK', 'PL', 'PS', 'PT', 'PW', 'PY', 'QA', 'RO', 'RS', 'RU', 'RW', 'SA', 'SB', 'SC', 'SE', 'SG', 'SI', 'SK', 'SL', 'SM', 'SN', 'SR', 'ST', 'SV', 'SZ', 'TD', 'TG', 'TH', 'TJ', 'TL', 'TN', 'TO', 'TR', 'TT', 'TV', 'TW', 'TZ', 'UA', 'UG', 'US', 'UY', 'UZ', 'VC', 'VE', 'VN', 'VU', 'WS', 'XK', 'ZA', 'ZM', 'ZW'], 'disc_number': 1, 'duration_ms': 181826, 'explicit': False, 'external_ids': {'isrc': 'PLS921748307'}, 'external_urls': {'spotify': 'https://open.spotify.com/track/5hO5U3Djps5hAUYHYlu56m'}, 'href': 'https://api.spotify.com/v1/tracks/5hO5U3Djps5hAUYHYlu56m', 'id': '5hO5U3Djps5hAUYHYlu56m', 'is_local': False, 'name': 'I’m Not the Only One - Acoustic Cover', 'popularity': 13, 'preview_url': 'https://p.scdn.co/mp3-preview/d881ae0e62ff69f9999a364cb4f7d510ec1e5833?cid=3b41c863d85746899b1bd17a39149f8e', 'track_number': 10, 'type': 'track', 'uri': 'spotify:track:5hO5U3Djps5hAUYHYlu56m'}], 'limit': 1, 'next': None, 'offset': 0, 'previous': None, 'total': 1}}\n",
      "song was not found!\n"
     ]
    },
    {
     "name": "stdout",
     "output_type": "stream",
     "text": [
      "{'tracks': {'href': 'https://api.spotify.com/v1/search?query=track%3ASomebody+artist%3ANatalie+La+Rose+&type=track&offset=0&limit=1', 'items': [{'album': {'album_type': 'single', 'artists': [{'external_urls': {'spotify': 'https://open.spotify.com/artist/2qdONMCoDngQk0eV4Avs1i'}, 'href': 'https://api.spotify.com/v1/artists/2qdONMCoDngQk0eV4Avs1i', 'id': '2qdONMCoDngQk0eV4Avs1i', 'name': 'Natalie La Rose', 'type': 'artist', 'uri': 'spotify:artist:2qdONMCoDngQk0eV4Avs1i'}], 'available_markets': ['AD', 'AE', 'AG', 'AL', 'AM', 'AO', 'AR', 'AT', 'AU', 'AZ', 'BA', 'BB', 'BD', 'BE', 'BF', 'BG', 'BH', 'BI', 'BJ', 'BN', 'BO', 'BR', 'BS', 'BT', 'BW', 'BY', 'BZ', 'CA', 'CD', 'CG', 'CH', 'CI', 'CL', 'CM', 'CO', 'CR', 'CV', 'CY', 'CZ', 'DE', 'DJ', 'DK', 'DM', 'DO', 'DZ', 'EC', 'EE', 'EG', 'ES', 'FI', 'FJ', 'FM', 'FR', 'GA', 'GB', 'GD', 'GE', 'GH', 'GM', 'GN', 'GQ', 'GR', 'GT', 'GW', 'GY', 'HK', 'HN', 'HR', 'HT', 'HU', 'ID', 'IE', 'IL', 'IN', 'IQ', 'IS', 'IT', 'JM', 'JO', 'JP', 'KE', 'KG', 'KH', 'KI', 'KM', 'KN', 'KR', 'KW', 'KZ', 'LA', 'LB', 'LC', 'LI', 'LK', 'LR', 'LS', 'LT', 'LU', 'LV', 'LY', 'MA', 'MC', 'MD', 'ME', 'MG', 'MH', 'MK', 'ML', 'MN', 'MO', 'MR', 'MT', 'MU', 'MV', 'MW', 'MX', 'MY', 'MZ', 'NA', 'NE', 'NG', 'NI', 'NL', 'NO', 'NP', 'NR', 'NZ', 'OM', 'PA', 'PE', 'PG', 'PH', 'PK', 'PL', 'PS', 'PT', 'PW', 'PY', 'QA', 'RO', 'RS', 'RU', 'RW', 'SA', 'SB', 'SC', 'SE', 'SG', 'SI', 'SK', 'SL', 'SM', 'SN', 'SR', 'ST', 'SV', 'SZ', 'TD', 'TG', 'TH', 'TJ', 'TL', 'TN', 'TO', 'TR', 'TT', 'TV', 'TW', 'TZ', 'UA', 'UG', 'US', 'UY', 'UZ', 'VC', 'VE', 'VN', 'VU', 'WS', 'XK', 'ZA', 'ZM', 'ZW'], 'external_urls': {'spotify': 'https://open.spotify.com/album/5gcn8qK6xElFNIP3mGed0M'}, 'href': 'https://api.spotify.com/v1/albums/5gcn8qK6xElFNIP3mGed0M', 'id': '5gcn8qK6xElFNIP3mGed0M', 'images': [{'height': 640, 'url': 'https://i.scdn.co/image/ab67616d0000b273684f901ac7d2ff872a079b8e', 'width': 640}, {'height': 300, 'url': 'https://i.scdn.co/image/ab67616d00001e02684f901ac7d2ff872a079b8e', 'width': 300}, {'height': 64, 'url': 'https://i.scdn.co/image/ab67616d00004851684f901ac7d2ff872a079b8e', 'width': 64}], 'name': 'Somebody', 'release_date': '2014-01-06', 'release_date_precision': 'day', 'total_tracks': 1, 'type': 'album', 'uri': 'spotify:album:5gcn8qK6xElFNIP3mGed0M'}, 'artists': [{'external_urls': {'spotify': 'https://open.spotify.com/artist/2qdONMCoDngQk0eV4Avs1i'}, 'href': 'https://api.spotify.com/v1/artists/2qdONMCoDngQk0eV4Avs1i', 'id': '2qdONMCoDngQk0eV4Avs1i', 'name': 'Natalie La Rose', 'type': 'artist', 'uri': 'spotify:artist:2qdONMCoDngQk0eV4Avs1i'}, {'external_urls': {'spotify': 'https://open.spotify.com/artist/3KV3p5EY4AvKxOlhGHORLg'}, 'href': 'https://api.spotify.com/v1/artists/3KV3p5EY4AvKxOlhGHORLg', 'id': '3KV3p5EY4AvKxOlhGHORLg', 'name': 'Jeremih', 'type': 'artist', 'uri': 'spotify:artist:3KV3p5EY4AvKxOlhGHORLg'}], 'available_markets': ['AD', 'AE', 'AG', 'AL', 'AM', 'AO', 'AR', 'AT', 'AU', 'AZ', 'BA', 'BB', 'BD', 'BE', 'BF', 'BG', 'BH', 'BI', 'BJ', 'BN', 'BO', 'BR', 'BS', 'BT', 'BW', 'BY', 'BZ', 'CA', 'CD', 'CG', 'CH', 'CI', 'CL', 'CM', 'CO', 'CR', 'CV', 'CY', 'CZ', 'DE', 'DJ', 'DK', 'DM', 'DO', 'DZ', 'EC', 'EE', 'EG', 'ES', 'FI', 'FJ', 'FM', 'FR', 'GA', 'GB', 'GD', 'GE', 'GH', 'GM', 'GN', 'GQ', 'GR', 'GT', 'GW', 'GY', 'HK', 'HN', 'HR', 'HT', 'HU', 'ID', 'IE', 'IL', 'IN', 'IQ', 'IS', 'IT', 'JM', 'JO', 'JP', 'KE', 'KG', 'KH', 'KI', 'KM', 'KN', 'KR', 'KW', 'KZ', 'LA', 'LB', 'LC', 'LI', 'LK', 'LR', 'LS', 'LT', 'LU', 'LV', 'LY', 'MA', 'MC', 'MD', 'ME', 'MG', 'MH', 'MK', 'ML', 'MN', 'MO', 'MR', 'MT', 'MU', 'MV', 'MW', 'MX', 'MY', 'MZ', 'NA', 'NE', 'NG', 'NI', 'NL', 'NO', 'NP', 'NR', 'NZ', 'OM', 'PA', 'PE', 'PG', 'PH', 'PK', 'PL', 'PS', 'PT', 'PW', 'PY', 'QA', 'RO', 'RS', 'RU', 'RW', 'SA', 'SB', 'SC', 'SE', 'SG', 'SI', 'SK', 'SL', 'SM', 'SN', 'SR', 'ST', 'SV', 'SZ', 'TD', 'TG', 'TH', 'TJ', 'TL', 'TN', 'TO', 'TR', 'TT', 'TV', 'TW', 'TZ', 'UA', 'UG', 'US', 'UY', 'UZ', 'VC', 'VE', 'VN', 'VU', 'WS', 'XK', 'ZA', 'ZM', 'ZW'], 'disc_number': 1, 'duration_ms': 189906, 'explicit': False, 'external_ids': {'isrc': 'USUM71417961'}, 'external_urls': {'spotify': 'https://open.spotify.com/track/7ioiB40H9xKs04QtIso2I3'}, 'href': 'https://api.spotify.com/v1/tracks/7ioiB40H9xKs04QtIso2I3', 'id': '7ioiB40H9xKs04QtIso2I3', 'is_local': False, 'name': 'Somebody', 'popularity': 67, 'preview_url': None, 'track_number': 1, 'type': 'track', 'uri': 'spotify:track:7ioiB40H9xKs04QtIso2I3'}], 'limit': 1, 'next': 'https://api.spotify.com/v1/search?query=track%3ASomebody+artist%3ANatalie+La+Rose+&type=track&offset=1&limit=1', 'offset': 0, 'previous': None, 'total': 21}}\n",
      "song was not found!\n",
      "{'tracks': {'href': 'https://api.spotify.com/v1/search?query=track%3AJust+Give+Me+a+Reason+artist%3APink+&type=track&offset=0&limit=1', 'items': [{'album': {'album_type': 'single', 'artists': [{'external_urls': {'spotify': 'https://open.spotify.com/artist/3DLBeeEyKKtxTtvEip8PrK'}, 'href': 'https://api.spotify.com/v1/artists/3DLBeeEyKKtxTtvEip8PrK', 'id': '3DLBeeEyKKtxTtvEip8PrK', 'name': 'Pinkdance', 'type': 'artist', 'uri': 'spotify:artist:3DLBeeEyKKtxTtvEip8PrK'}], 'available_markets': ['AD', 'AE', 'AG', 'AL', 'AM', 'AO', 'AR', 'AT', 'AU', 'AZ', 'BA', 'BB', 'BD', 'BE', 'BF', 'BG', 'BH', 'BI', 'BJ', 'BN', 'BO', 'BR', 'BS', 'BT', 'BW', 'BY', 'BZ', 'CA', 'CD', 'CG', 'CH', 'CI', 'CL', 'CM', 'CO', 'CR', 'CV', 'CW', 'CY', 'CZ', 'DE', 'DJ', 'DK', 'DM', 'DO', 'DZ', 'EC', 'EE', 'EG', 'ES', 'FI', 'FJ', 'FM', 'FR', 'GA', 'GB', 'GD', 'GE', 'GH', 'GM', 'GN', 'GQ', 'GR', 'GT', 'GW', 'GY', 'HK', 'HN', 'HR', 'HT', 'HU', 'ID', 'IE', 'IL', 'IN', 'IQ', 'IS', 'IT', 'JM', 'JO', 'JP', 'KE', 'KG', 'KH', 'KI', 'KM', 'KN', 'KR', 'KW', 'KZ', 'LA', 'LB', 'LC', 'LI', 'LK', 'LR', 'LS', 'LT', 'LU', 'LV', 'LY', 'MA', 'MC', 'MD', 'ME', 'MG', 'MH', 'MK', 'ML', 'MN', 'MO', 'MR', 'MT', 'MU', 'MV', 'MW', 'MX', 'MY', 'MZ', 'NA', 'NE', 'NG', 'NI', 'NL', 'NO', 'NP', 'NR', 'NZ', 'OM', 'PA', 'PE', 'PG', 'PH', 'PK', 'PL', 'PS', 'PT', 'PW', 'PY', 'QA', 'RO', 'RS', 'RU', 'RW', 'SA', 'SB', 'SC', 'SE', 'SG', 'SI', 'SK', 'SL', 'SM', 'SN', 'SR', 'ST', 'SV', 'SZ', 'TD', 'TG', 'TH', 'TJ', 'TL', 'TN', 'TO', 'TR', 'TT', 'TV', 'TW', 'TZ', 'UA', 'UG', 'US', 'UY', 'UZ', 'VC', 'VE', 'VN', 'VU', 'WS', 'XK', 'ZA', 'ZM', 'ZW'], 'external_urls': {'spotify': 'https://open.spotify.com/album/0qHuCvgqiU0Amh2FxFXHBY'}, 'href': 'https://api.spotify.com/v1/albums/0qHuCvgqiU0Amh2FxFXHBY', 'id': '0qHuCvgqiU0Amh2FxFXHBY', 'images': [{'height': 640, 'url': 'https://i.scdn.co/image/ab67616d0000b273b6a7a87180757501bc330a5b', 'width': 640}, {'height': 300, 'url': 'https://i.scdn.co/image/ab67616d00001e02b6a7a87180757501bc330a5b', 'width': 300}, {'height': 64, 'url': 'https://i.scdn.co/image/ab67616d00004851b6a7a87180757501bc330a5b', 'width': 64}], 'name': 'Just Give Me a Reason (Dance Remix)', 'release_date': '2013-05-31', 'release_date_precision': 'day', 'total_tracks': 1, 'type': 'album', 'uri': 'spotify:album:0qHuCvgqiU0Amh2FxFXHBY'}, 'artists': [{'external_urls': {'spotify': 'https://open.spotify.com/artist/3DLBeeEyKKtxTtvEip8PrK'}, 'href': 'https://api.spotify.com/v1/artists/3DLBeeEyKKtxTtvEip8PrK', 'id': '3DLBeeEyKKtxTtvEip8PrK', 'name': 'Pinkdance', 'type': 'artist', 'uri': 'spotify:artist:3DLBeeEyKKtxTtvEip8PrK'}], 'available_markets': ['AD', 'AE', 'AG', 'AL', 'AM', 'AO', 'AR', 'AT', 'AU', 'AZ', 'BA', 'BB', 'BD', 'BE', 'BF', 'BG', 'BH', 'BI', 'BJ', 'BN', 'BO', 'BR', 'BS', 'BT', 'BW', 'BY', 'BZ', 'CA', 'CD', 'CG', 'CH', 'CI', 'CL', 'CM', 'CO', 'CR', 'CV', 'CW', 'CY', 'CZ', 'DE', 'DJ', 'DK', 'DM', 'DO', 'DZ', 'EC', 'EE', 'EG', 'ES', 'FI', 'FJ', 'FM', 'FR', 'GA', 'GB', 'GD', 'GE', 'GH', 'GM', 'GN', 'GQ', 'GR', 'GT', 'GW', 'GY', 'HK', 'HN', 'HR', 'HT', 'HU', 'ID', 'IE', 'IL', 'IN', 'IQ', 'IS', 'IT', 'JM', 'JO', 'JP', 'KE', 'KG', 'KH', 'KI', 'KM', 'KN', 'KR', 'KW', 'KZ', 'LA', 'LB', 'LC', 'LI', 'LK', 'LR', 'LS', 'LT', 'LU', 'LV', 'LY', 'MA', 'MC', 'MD', 'ME', 'MG', 'MH', 'MK', 'ML', 'MN', 'MO', 'MR', 'MT', 'MU', 'MV', 'MW', 'MX', 'MY', 'MZ', 'NA', 'NE', 'NG', 'NI', 'NL', 'NO', 'NP', 'NR', 'NZ', 'OM', 'PA', 'PE', 'PG', 'PH', 'PK', 'PL', 'PS', 'PT', 'PW', 'PY', 'QA', 'RO', 'RS', 'RU', 'RW', 'SA', 'SB', 'SC', 'SE', 'SG', 'SI', 'SK', 'SL', 'SM', 'SN', 'SR', 'ST', 'SV', 'SZ', 'TD', 'TG', 'TH', 'TJ', 'TL', 'TN', 'TO', 'TR', 'TT', 'TV', 'TW', 'TZ', 'UA', 'UG', 'US', 'UY', 'UZ', 'VC', 'VE', 'VN', 'VU', 'WS', 'XK', 'ZA', 'ZM', 'ZW'], 'disc_number': 1, 'duration_ms': 235200, 'explicit': False, 'external_ids': {'isrc': 'FR6V81770716'}, 'external_urls': {'spotify': 'https://open.spotify.com/track/1SoXUDpHcBAJLFL6XIxlwo'}, 'href': 'https://api.spotify.com/v1/tracks/1SoXUDpHcBAJLFL6XIxlwo', 'id': '1SoXUDpHcBAJLFL6XIxlwo', 'is_local': False, 'name': 'Just Give Me a Reason - Dance Remix', 'popularity': 1, 'preview_url': 'https://p.scdn.co/mp3-preview/c280ec7267b635c387166bf9f2bf857d4f2f3759?cid=3b41c863d85746899b1bd17a39149f8e', 'track_number': 1, 'type': 'track', 'uri': 'spotify:track:1SoXUDpHcBAJLFL6XIxlwo'}], 'limit': 1, 'next': None, 'offset': 0, 'previous': None, 'total': 1}}\n",
      "song was not found!\n"
     ]
    },
    {
     "name": "stdout",
     "output_type": "stream",
     "text": [
      "{'tracks': {'href': 'https://api.spotify.com/v1/search?query=track%3ATry+artist%3APink&type=track&offset=0&limit=1', 'items': [{'album': {'album_type': 'single', 'artists': [{'external_urls': {'spotify': 'https://open.spotify.com/artist/0LyfQWJT6nXafLPZqxe9Of'}, 'href': 'https://api.spotify.com/v1/artists/0LyfQWJT6nXafLPZqxe9Of', 'id': '0LyfQWJT6nXafLPZqxe9Of', 'name': 'Various Artists', 'type': 'artist', 'uri': 'spotify:artist:0LyfQWJT6nXafLPZqxe9Of'}], 'available_markets': ['AD', 'AE', 'AG', 'AL', 'AM', 'AO', 'AR', 'AT', 'AU', 'AZ', 'BA', 'BB', 'BD', 'BE', 'BF', 'BG', 'BH', 'BI', 'BJ', 'BN', 'BO', 'BR', 'BS', 'BT', 'BW', 'BY', 'BZ', 'CA', 'CD', 'CG', 'CH', 'CI', 'CL', 'CM', 'CO', 'CR', 'CV', 'CW', 'CY', 'CZ', 'DE', 'DJ', 'DK', 'DM', 'DO', 'DZ', 'EC', 'EE', 'EG', 'ES', 'FI', 'FJ', 'FM', 'FR', 'GA', 'GB', 'GD', 'GE', 'GH', 'GM', 'GN', 'GQ', 'GR', 'GT', 'GW', 'GY', 'HK', 'HN', 'HR', 'HT', 'HU', 'ID', 'IE', 'IL', 'IN', 'IQ', 'IS', 'IT', 'JM', 'JO', 'JP', 'KE', 'KG', 'KH', 'KI', 'KM', 'KN', 'KR', 'KW', 'KZ', 'LA', 'LB', 'LC', 'LI', 'LK', 'LR', 'LS', 'LT', 'LU', 'LV', 'LY', 'MA', 'MC', 'MD', 'ME', 'MG', 'MH', 'MK', 'ML', 'MN', 'MO', 'MR', 'MT', 'MU', 'MV', 'MW', 'MX', 'MY', 'MZ', 'NA', 'NE', 'NG', 'NI', 'NL', 'NO', 'NP', 'NR', 'NZ', 'OM', 'PA', 'PE', 'PG', 'PH', 'PK', 'PL', 'PS', 'PT', 'PW', 'PY', 'QA', 'RO', 'RS', 'RU', 'RW', 'SA', 'SB', 'SC', 'SE', 'SG', 'SI', 'SK', 'SL', 'SM', 'SN', 'SR', 'ST', 'SV', 'SZ', 'TD', 'TG', 'TH', 'TJ', 'TL', 'TN', 'TO', 'TR', 'TT', 'TV', 'TW', 'TZ', 'UA', 'UG', 'US', 'UY', 'UZ', 'VC', 'VE', 'VN', 'VU', 'WS', 'XK', 'ZA', 'ZM', 'ZW'], 'external_urls': {'spotify': 'https://open.spotify.com/album/4cBlP0W14X5Jfe8kQw4xGB'}, 'href': 'https://api.spotify.com/v1/albums/4cBlP0W14X5Jfe8kQw4xGB', 'id': '4cBlP0W14X5Jfe8kQw4xGB', 'images': [{'height': 640, 'url': 'https://i.scdn.co/image/ab67616d0000b273a7ef4ba76aec5fbeddcacfb3', 'width': 640}, {'height': 300, 'url': 'https://i.scdn.co/image/ab67616d00001e02a7ef4ba76aec5fbeddcacfb3', 'width': 300}, {'height': 64, 'url': 'https://i.scdn.co/image/ab67616d00004851a7ef4ba76aec5fbeddcacfb3', 'width': 64}], 'name': 'Playful Kiss OST', 'release_date': '2014-08-18', 'release_date_precision': 'day', 'total_tracks': 6, 'type': 'album', 'uri': 'spotify:album:4cBlP0W14X5Jfe8kQw4xGB'}, 'artists': [{'external_urls': {'spotify': 'https://open.spotify.com/artist/5THB1CrI4wJCvybQhwglu1'}, 'href': 'https://api.spotify.com/v1/artists/5THB1CrI4wJCvybQhwglu1', 'id': '5THB1CrI4wJCvybQhwglu1', 'name': 'Pink ToniQ', 'type': 'artist', 'uri': 'spotify:artist:5THB1CrI4wJCvybQhwglu1'}], 'available_markets': ['AD', 'AE', 'AG', 'AL', 'AM', 'AO', 'AR', 'AT', 'AU', 'AZ', 'BA', 'BB', 'BD', 'BE', 'BF', 'BG', 'BH', 'BI', 'BJ', 'BN', 'BO', 'BR', 'BS', 'BT', 'BW', 'BY', 'BZ', 'CA', 'CD', 'CG', 'CH', 'CI', 'CL', 'CM', 'CO', 'CR', 'CV', 'CW', 'CY', 'CZ', 'DE', 'DJ', 'DK', 'DM', 'DO', 'DZ', 'EC', 'EE', 'EG', 'ES', 'FI', 'FJ', 'FM', 'FR', 'GA', 'GB', 'GD', 'GE', 'GH', 'GM', 'GN', 'GQ', 'GR', 'GT', 'GW', 'GY', 'HK', 'HN', 'HR', 'HT', 'HU', 'ID', 'IE', 'IL', 'IN', 'IQ', 'IS', 'IT', 'JM', 'JO', 'JP', 'KE', 'KG', 'KH', 'KI', 'KM', 'KN', 'KR', 'KW', 'KZ', 'LA', 'LB', 'LC', 'LI', 'LK', 'LR', 'LS', 'LT', 'LU', 'LV', 'LY', 'MA', 'MC', 'MD', 'ME', 'MG', 'MH', 'MK', 'ML', 'MN', 'MO', 'MR', 'MT', 'MU', 'MV', 'MW', 'MX', 'MY', 'MZ', 'NA', 'NE', 'NG', 'NI', 'NL', 'NO', 'NP', 'NR', 'NZ', 'OM', 'PA', 'PE', 'PG', 'PH', 'PK', 'PL', 'PS', 'PT', 'PW', 'PY', 'QA', 'RO', 'RS', 'RU', 'RW', 'SA', 'SB', 'SC', 'SE', 'SG', 'SI', 'SK', 'SL', 'SM', 'SN', 'SR', 'ST', 'SV', 'SZ', 'TD', 'TG', 'TH', 'TJ', 'TL', 'TN', 'TO', 'TR', 'TT', 'TV', 'TW', 'TZ', 'UA', 'UG', 'US', 'UY', 'UZ', 'VC', 'VE', 'VN', 'VU', 'WS', 'XK', 'ZA', 'ZM', 'ZW'], 'disc_number': 1, 'duration_ms': 229224, 'explicit': False, 'external_ids': {'isrc': 'SEYOK1417535'}, 'external_urls': {'spotify': 'https://open.spotify.com/track/6yL8vmNnWrD1VdcV5VhXTt'}, 'href': 'https://api.spotify.com/v1/tracks/6yL8vmNnWrD1VdcV5VhXTt', 'id': '6yL8vmNnWrD1VdcV5VhXTt', 'is_local': False, 'name': 'Try Again', 'popularity': 31, 'preview_url': 'https://p.scdn.co/mp3-preview/1aff8e88dfb58f76cd6bd9c1b3d35cfbf2b56194?cid=3b41c863d85746899b1bd17a39149f8e', 'track_number': 5, 'type': 'track', 'uri': 'spotify:track:6yL8vmNnWrD1VdcV5VhXTt'}], 'limit': 1, 'next': 'https://api.spotify.com/v1/search?query=track%3ATry+artist%3APink&type=track&offset=1&limit=1', 'offset': 0, 'previous': None, 'total': 105}}\n",
      "song was not found!\n",
      "{'tracks': {'href': 'https://api.spotify.com/v1/search?query=track%3ACashin%27+Out+artist%3ACash+Out&type=track&offset=0&limit=1', 'items': [{'album': {'album_type': 'album', 'artists': [{'external_urls': {'spotify': 'https://open.spotify.com/artist/30uMhb5zdrnYXiNIXHpjTD'}, 'href': 'https://api.spotify.com/v1/artists/30uMhb5zdrnYXiNIXHpjTD', 'id': '30uMhb5zdrnYXiNIXHpjTD', 'name': 'Nisha Cash', 'type': 'artist', 'uri': 'spotify:artist:30uMhb5zdrnYXiNIXHpjTD'}], 'available_markets': ['AD', 'AE', 'AG', 'AL', 'AM', 'AO', 'AR', 'AT', 'AU', 'AZ', 'BA', 'BB', 'BD', 'BE', 'BF', 'BG', 'BH', 'BI', 'BJ', 'BN', 'BO', 'BR', 'BS', 'BT', 'BW', 'BY', 'BZ', 'CA', 'CD', 'CG', 'CH', 'CI', 'CL', 'CM', 'CO', 'CR', 'CV', 'CW', 'CY', 'CZ', 'DE', 'DJ', 'DK', 'DM', 'DO', 'DZ', 'EC', 'EE', 'EG', 'ES', 'FI', 'FJ', 'FM', 'FR', 'GA', 'GB', 'GD', 'GE', 'GH', 'GM', 'GN', 'GQ', 'GR', 'GT', 'GW', 'GY', 'HK', 'HN', 'HR', 'HT', 'HU', 'ID', 'IE', 'IL', 'IN', 'IQ', 'IS', 'IT', 'JM', 'JO', 'JP', 'KE', 'KG', 'KH', 'KI', 'KM', 'KN', 'KR', 'KW', 'KZ', 'LA', 'LB', 'LC', 'LI', 'LK', 'LR', 'LS', 'LT', 'LU', 'LV', 'LY', 'MA', 'MC', 'MD', 'ME', 'MG', 'MH', 'MK', 'ML', 'MN', 'MO', 'MR', 'MT', 'MU', 'MV', 'MW', 'MX', 'MY', 'MZ', 'NA', 'NE', 'NG', 'NI', 'NL', 'NO', 'NP', 'NR', 'NZ', 'OM', 'PA', 'PE', 'PG', 'PH', 'PK', 'PL', 'PS', 'PT', 'PW', 'PY', 'QA', 'RO', 'RS', 'RU', 'RW', 'SA', 'SB', 'SC', 'SE', 'SG', 'SI', 'SK', 'SL', 'SM', 'SN', 'SR', 'ST', 'SV', 'SZ', 'TD', 'TG', 'TH', 'TJ', 'TL', 'TN', 'TO', 'TR', 'TT', 'TV', 'TW', 'TZ', 'UA', 'UG', 'US', 'UY', 'UZ', 'VC', 'VE', 'VN', 'VU', 'WS', 'XK', 'ZA', 'ZM', 'ZW'], 'external_urls': {'spotify': 'https://open.spotify.com/album/7blcY62zbtB6fZ84jnzEYe'}, 'href': 'https://api.spotify.com/v1/albums/7blcY62zbtB6fZ84jnzEYe', 'id': '7blcY62zbtB6fZ84jnzEYe', 'images': [{'height': 640, 'url': 'https://i.scdn.co/image/ab67616d0000b273a4792aae3b949aee57a08bcb', 'width': 640}, {'height': 300, 'url': 'https://i.scdn.co/image/ab67616d00001e02a4792aae3b949aee57a08bcb', 'width': 300}, {'height': 64, 'url': 'https://i.scdn.co/image/ab67616d00004851a4792aae3b949aee57a08bcb', 'width': 64}], 'name': 'Ca$h Flow 2', 'release_date': '2021-07-09', 'release_date_precision': 'day', 'total_tracks': 13, 'type': 'album', 'uri': 'spotify:album:7blcY62zbtB6fZ84jnzEYe'}, 'artists': [{'external_urls': {'spotify': 'https://open.spotify.com/artist/30uMhb5zdrnYXiNIXHpjTD'}, 'href': 'https://api.spotify.com/v1/artists/30uMhb5zdrnYXiNIXHpjTD', 'id': '30uMhb5zdrnYXiNIXHpjTD', 'name': 'Nisha Cash', 'type': 'artist', 'uri': 'spotify:artist:30uMhb5zdrnYXiNIXHpjTD'}], 'available_markets': ['AD', 'AE', 'AG', 'AL', 'AM', 'AO', 'AR', 'AT', 'AU', 'AZ', 'BA', 'BB', 'BD', 'BE', 'BF', 'BG', 'BH', 'BI', 'BJ', 'BN', 'BO', 'BR', 'BS', 'BT', 'BW', 'BY', 'BZ', 'CA', 'CD', 'CG', 'CH', 'CI', 'CL', 'CM', 'CO', 'CR', 'CV', 'CW', 'CY', 'CZ', 'DE', 'DJ', 'DK', 'DM', 'DO', 'DZ', 'EC', 'EE', 'EG', 'ES', 'FI', 'FJ', 'FM', 'FR', 'GA', 'GB', 'GD', 'GE', 'GH', 'GM', 'GN', 'GQ', 'GR', 'GT', 'GW', 'GY', 'HK', 'HN', 'HR', 'HT', 'HU', 'ID', 'IE', 'IL', 'IN', 'IQ', 'IS', 'IT', 'JM', 'JO', 'JP', 'KE', 'KG', 'KH', 'KI', 'KM', 'KN', 'KR', 'KW', 'KZ', 'LA', 'LB', 'LC', 'LI', 'LK', 'LR', 'LS', 'LT', 'LU', 'LV', 'LY', 'MA', 'MC', 'MD', 'ME', 'MG', 'MH', 'MK', 'ML', 'MN', 'MO', 'MR', 'MT', 'MU', 'MV', 'MW', 'MX', 'MY', 'MZ', 'NA', 'NE', 'NG', 'NI', 'NL', 'NO', 'NP', 'NR', 'NZ', 'OM', 'PA', 'PE', 'PG', 'PH', 'PK', 'PL', 'PS', 'PT', 'PW', 'PY', 'QA', 'RO', 'RS', 'RU', 'RW', 'SA', 'SB', 'SC', 'SE', 'SG', 'SI', 'SK', 'SL', 'SM', 'SN', 'SR', 'ST', 'SV', 'SZ', 'TD', 'TG', 'TH', 'TJ', 'TL', 'TN', 'TO', 'TR', 'TT', 'TV', 'TW', 'TZ', 'UA', 'UG', 'US', 'UY', 'UZ', 'VC', 'VE', 'VN', 'VU', 'WS', 'XK', 'ZA', 'ZM', 'ZW'], 'disc_number': 1, 'duration_ms': 178860, 'explicit': True, 'external_ids': {'isrc': 'QZNMT2189934'}, 'external_urls': {'spotify': 'https://open.spotify.com/track/1RzwXjz13I8gbfNdOnTUCV'}, 'href': 'https://api.spotify.com/v1/tracks/1RzwXjz13I8gbfNdOnTUCV', 'id': '1RzwXjz13I8gbfNdOnTUCV', 'is_local': False, 'name': 'Cashin Out', 'popularity': 0, 'preview_url': 'https://p.scdn.co/mp3-preview/eb8a559e84497de484c2f54d603c2a4b4889fa9e?cid=3b41c863d85746899b1bd17a39149f8e', 'track_number': 12, 'type': 'track', 'uri': 'spotify:track:1RzwXjz13I8gbfNdOnTUCV'}], 'limit': 1, 'next': 'https://api.spotify.com/v1/search?query=track%3ACashin%27+Out+artist%3ACash+Out&type=track&offset=1&limit=1', 'offset': 0, 'previous': None, 'total': 5}}\n",
      "song was not found!\n"
     ]
    },
    {
     "name": "stdout",
     "output_type": "stream",
     "text": [
      "{'tracks': {'href': 'https://api.spotify.com/v1/search?query=track%3AJust+Can%27t+Get+Enough+artist%3AThe+Black+Eyed+Peas&type=track&offset=0&limit=1', 'items': [{'album': {'album_type': 'album', 'artists': [{'external_urls': {'spotify': 'https://open.spotify.com/artist/2sRLpduglJUzDQNnrsJudx'}, 'href': 'https://api.spotify.com/v1/artists/2sRLpduglJUzDQNnrsJudx', 'id': '2sRLpduglJUzDQNnrsJudx', 'name': 'The Singles', 'type': 'artist', 'uri': 'spotify:artist:2sRLpduglJUzDQNnrsJudx'}], 'available_markets': ['AD', 'AE', 'AG', 'AL', 'AM', 'AO', 'AR', 'AT', 'AU', 'AZ', 'BA', 'BB', 'BD', 'BE', 'BF', 'BG', 'BH', 'BI', 'BJ', 'BN', 'BO', 'BR', 'BS', 'BT', 'BW', 'BY', 'BZ', 'CA', 'CD', 'CG', 'CH', 'CI', 'CL', 'CM', 'CO', 'CR', 'CV', 'CY', 'CZ', 'DE', 'DJ', 'DK', 'DM', 'DO', 'DZ', 'EC', 'EE', 'EG', 'ES', 'FI', 'FJ', 'FM', 'FR', 'GA', 'GB', 'GD', 'GE', 'GH', 'GM', 'GN', 'GQ', 'GR', 'GT', 'GW', 'GY', 'HK', 'HN', 'HR', 'HT', 'HU', 'ID', 'IE', 'IL', 'IN', 'IQ', 'IS', 'IT', 'JM', 'JO', 'JP', 'KE', 'KG', 'KH', 'KI', 'KM', 'KN', 'KR', 'KW', 'KZ', 'LA', 'LB', 'LC', 'LI', 'LK', 'LR', 'LS', 'LT', 'LU', 'LV', 'LY', 'MA', 'MC', 'MD', 'MG', 'MH', 'MK', 'ML', 'MN', 'MO', 'MR', 'MT', 'MU', 'MV', 'MW', 'MX', 'MY', 'MZ', 'NA', 'NE', 'NG', 'NI', 'NL', 'NO', 'NP', 'NR', 'NZ', 'OM', 'PA', 'PE', 'PG', 'PH', 'PK', 'PL', 'PS', 'PT', 'PW', 'PY', 'QA', 'RO', 'RU', 'RW', 'SA', 'SB', 'SC', 'SE', 'SG', 'SI', 'SK', 'SL', 'SM', 'SN', 'SR', 'ST', 'SV', 'SZ', 'TD', 'TG', 'TH', 'TJ', 'TL', 'TN', 'TO', 'TR', 'TT', 'TV', 'TW', 'TZ', 'UA', 'UG', 'US', 'UY', 'UZ', 'VC', 'VE', 'VN', 'VU', 'WS', 'ZA', 'ZM', 'ZW'], 'external_urls': {'spotify': 'https://open.spotify.com/album/2o5NrRycDE5Cn0uHiHsIeJ'}, 'href': 'https://api.spotify.com/v1/albums/2o5NrRycDE5Cn0uHiHsIeJ', 'id': '2o5NrRycDE5Cn0uHiHsIeJ', 'images': [{'height': 640, 'url': 'https://i.scdn.co/image/ab67616d0000b2734d1525c9bf25c41ee11c8a25', 'width': 640}, {'height': 300, 'url': 'https://i.scdn.co/image/ab67616d00001e024d1525c9bf25c41ee11c8a25', 'width': 300}, {'height': 64, 'url': 'https://i.scdn.co/image/ab67616d000048514d1525c9bf25c41ee11c8a25', 'width': 64}], 'name': 'Ultimate Instrumentals 2011', 'release_date': '2011-05-03', 'release_date_precision': 'day', 'total_tracks': 13, 'type': 'album', 'uri': 'spotify:album:2o5NrRycDE5Cn0uHiHsIeJ'}, 'artists': [{'external_urls': {'spotify': 'https://open.spotify.com/artist/2sRLpduglJUzDQNnrsJudx'}, 'href': 'https://api.spotify.com/v1/artists/2sRLpduglJUzDQNnrsJudx', 'id': '2sRLpduglJUzDQNnrsJudx', 'name': 'The Singles', 'type': 'artist', 'uri': 'spotify:artist:2sRLpduglJUzDQNnrsJudx'}], 'available_markets': ['AD', 'AE', 'AG', 'AL', 'AM', 'AO', 'AR', 'AT', 'AU', 'AZ', 'BA', 'BB', 'BD', 'BE', 'BF', 'BG', 'BH', 'BI', 'BJ', 'BN', 'BO', 'BR', 'BS', 'BT', 'BW', 'BY', 'BZ', 'CA', 'CD', 'CG', 'CH', 'CI', 'CL', 'CM', 'CO', 'CR', 'CV', 'CY', 'CZ', 'DE', 'DJ', 'DK', 'DM', 'DO', 'DZ', 'EC', 'EE', 'EG', 'ES', 'FI', 'FJ', 'FM', 'FR', 'GA', 'GB', 'GD', 'GE', 'GH', 'GM', 'GN', 'GQ', 'GR', 'GT', 'GW', 'GY', 'HK', 'HN', 'HR', 'HT', 'HU', 'ID', 'IE', 'IL', 'IN', 'IQ', 'IS', 'IT', 'JM', 'JO', 'JP', 'KE', 'KG', 'KH', 'KI', 'KM', 'KN', 'KR', 'KW', 'KZ', 'LA', 'LB', 'LC', 'LI', 'LK', 'LR', 'LS', 'LT', 'LU', 'LV', 'LY', 'MA', 'MC', 'MD', 'MG', 'MH', 'MK', 'ML', 'MN', 'MO', 'MR', 'MT', 'MU', 'MV', 'MW', 'MX', 'MY', 'MZ', 'NA', 'NE', 'NG', 'NI', 'NL', 'NO', 'NP', 'NR', 'NZ', 'OM', 'PA', 'PE', 'PG', 'PH', 'PK', 'PL', 'PS', 'PT', 'PW', 'PY', 'QA', 'RO', 'RU', 'RW', 'SA', 'SB', 'SC', 'SE', 'SG', 'SI', 'SK', 'SL', 'SM', 'SN', 'SR', 'ST', 'SV', 'SZ', 'TD', 'TG', 'TH', 'TJ', 'TL', 'TN', 'TO', 'TR', 'TT', 'TV', 'TW', 'TZ', 'UA', 'UG', 'US', 'UY', 'UZ', 'VC', 'VE', 'VN', 'VU', 'WS', 'ZA', 'ZM', 'ZW'], 'disc_number': 1, 'duration_ms': 222014, 'explicit': False, 'external_ids': {'isrc': 'USA371239300'}, 'external_urls': {'spotify': 'https://open.spotify.com/track/19jd1ffgFMwGpafuoqImry'}, 'href': 'https://api.spotify.com/v1/tracks/19jd1ffgFMwGpafuoqImry', 'id': '19jd1ffgFMwGpafuoqImry', 'is_local': False, 'name': \"Just Can't Get Enough (The Black Eyed Peas Remake) - Instrumental\", 'popularity': 15, 'preview_url': 'https://p.scdn.co/mp3-preview/6b56124ee110af9b45b88ae5bd23d3e16dbb2ab9?cid=3b41c863d85746899b1bd17a39149f8e', 'track_number': 7, 'type': 'track', 'uri': 'spotify:track:19jd1ffgFMwGpafuoqImry'}], 'limit': 1, 'next': 'https://api.spotify.com/v1/search?query=track%3AJust+Can%27t+Get+Enough+artist%3AThe+Black+Eyed+Peas&type=track&offset=1&limit=1', 'offset': 0, 'previous': None, 'total': 38}}\n",
      "song was not found!\n",
      "{'tracks': {'href': 'https://api.spotify.com/v1/search?query=track%3ATonight+%28I%27m+Lovin%27+You%29+artist%3AEnrique+Iglesias+&type=track&offset=0&limit=1', 'items': [{'album': {'album_type': 'compilation', 'artists': [{'external_urls': {'spotify': 'https://open.spotify.com/artist/0LyfQWJT6nXafLPZqxe9Of'}, 'href': 'https://api.spotify.com/v1/artists/0LyfQWJT6nXafLPZqxe9Of', 'id': '0LyfQWJT6nXafLPZqxe9Of', 'name': 'Various Artists', 'type': 'artist', 'uri': 'spotify:artist:0LyfQWJT6nXafLPZqxe9Of'}], 'available_markets': ['AD', 'AE', 'AG', 'AL', 'AM', 'AO', 'AR', 'AT', 'AU', 'AZ', 'BA', 'BB', 'BD', 'BE', 'BF', 'BG', 'BH', 'BI', 'BJ', 'BN', 'BO', 'BR', 'BS', 'BT', 'BW', 'BY', 'BZ', 'CA', 'CD', 'CG', 'CH', 'CI', 'CL', 'CM', 'CO', 'CR', 'CV', 'CY', 'CZ', 'DE', 'DJ', 'DK', 'DM', 'DO', 'DZ', 'EC', 'EE', 'EG', 'ES', 'FI', 'FJ', 'FM', 'FR', 'GA', 'GB', 'GD', 'GE', 'GH', 'GM', 'GN', 'GQ', 'GR', 'GT', 'GW', 'GY', 'HK', 'HN', 'HR', 'HT', 'HU', 'ID', 'IE', 'IL', 'IN', 'IQ', 'IS', 'IT', 'JM', 'JO', 'JP', 'KE', 'KG', 'KH', 'KI', 'KM', 'KN', 'KR', 'KW', 'KZ', 'LA', 'LB', 'LC', 'LI', 'LK', 'LR', 'LS', 'LT', 'LU', 'LV', 'LY', 'MA', 'MC', 'MD', 'ME', 'MG', 'MH', 'MK', 'ML', 'MN', 'MO', 'MR', 'MT', 'MU', 'MV', 'MW', 'MX', 'MY', 'MZ', 'NA', 'NE', 'NG', 'NI', 'NL', 'NO', 'NP', 'NR', 'NZ', 'OM', 'PA', 'PE', 'PG', 'PH', 'PK', 'PL', 'PS', 'PT', 'PW', 'PY', 'QA', 'RO', 'RS', 'RU', 'RW', 'SA', 'SB', 'SC', 'SE', 'SG', 'SI', 'SK', 'SL', 'SM', 'SN', 'SR', 'ST', 'SV', 'SZ', 'TD', 'TG', 'TH', 'TJ', 'TL', 'TN', 'TO', 'TR', 'TT', 'TV', 'TW', 'TZ', 'UA', 'UG', 'US', 'UY', 'UZ', 'VC', 'VE', 'VN', 'VU', 'WS', 'XK', 'ZA', 'ZM', 'ZW'], 'external_urls': {'spotify': 'https://open.spotify.com/album/3wzyRxMa8QxXDENzxpXZTO'}, 'href': 'https://api.spotify.com/v1/albums/3wzyRxMa8QxXDENzxpXZTO', 'id': '3wzyRxMa8QxXDENzxpXZTO', 'images': [{'height': 640, 'url': 'https://i.scdn.co/image/ab67616d0000b273685f3d77751901643aa1f80f', 'width': 640}, {'height': 300, 'url': 'https://i.scdn.co/image/ab67616d00001e02685f3d77751901643aa1f80f', 'width': 300}, {'height': 64, 'url': 'https://i.scdn.co/image/ab67616d00004851685f3d77751901643aa1f80f', 'width': 64}], 'name': 'Ultimate Pop Hits 2010', 'release_date': '2011-03-04', 'release_date_precision': 'day', 'total_tracks': 25, 'type': 'album', 'uri': 'spotify:album:3wzyRxMa8QxXDENzxpXZTO'}, 'artists': [{'external_urls': {'spotify': 'https://open.spotify.com/artist/3VV11sLubWH879vwobGtmL'}, 'href': 'https://api.spotify.com/v1/artists/3VV11sLubWH879vwobGtmL', 'id': '3VV11sLubWH879vwobGtmL', 'name': 'Made famous by Enrique Iglesias', 'type': 'artist', 'uri': 'spotify:artist:3VV11sLubWH879vwobGtmL'}], 'available_markets': ['AD', 'AE', 'AG', 'AL', 'AM', 'AO', 'AR', 'AT', 'AU', 'AZ', 'BA', 'BB', 'BD', 'BE', 'BF', 'BG', 'BH', 'BI', 'BJ', 'BN', 'BO', 'BR', 'BS', 'BT', 'BW', 'BY', 'BZ', 'CA', 'CD', 'CG', 'CH', 'CI', 'CL', 'CM', 'CO', 'CR', 'CV', 'CY', 'CZ', 'DE', 'DJ', 'DK', 'DM', 'DO', 'DZ', 'EC', 'EE', 'EG', 'ES', 'FI', 'FJ', 'FM', 'FR', 'GA', 'GB', 'GD', 'GE', 'GH', 'GM', 'GN', 'GQ', 'GR', 'GT', 'GW', 'GY', 'HK', 'HN', 'HR', 'HT', 'HU', 'ID', 'IE', 'IL', 'IN', 'IQ', 'IS', 'IT', 'JM', 'JO', 'JP', 'KE', 'KG', 'KH', 'KI', 'KM', 'KN', 'KR', 'KW', 'KZ', 'LA', 'LB', 'LC', 'LI', 'LK', 'LR', 'LS', 'LT', 'LU', 'LV', 'LY', 'MA', 'MC', 'MD', 'ME', 'MG', 'MH', 'MK', 'ML', 'MN', 'MO', 'MR', 'MT', 'MU', 'MV', 'MW', 'MX', 'MY', 'MZ', 'NA', 'NE', 'NG', 'NI', 'NL', 'NO', 'NP', 'NR', 'NZ', 'OM', 'PA', 'PE', 'PG', 'PH', 'PK', 'PL', 'PS', 'PT', 'PW', 'PY', 'QA', 'RO', 'RS', 'RU', 'RW', 'SA', 'SB', 'SC', 'SE', 'SG', 'SI', 'SK', 'SL', 'SM', 'SN', 'SR', 'ST', 'SV', 'SZ', 'TD', 'TG', 'TH', 'TJ', 'TL', 'TN', 'TO', 'TR', 'TT', 'TV', 'TW', 'TZ', 'UA', 'UG', 'US', 'UY', 'UZ', 'VC', 'VE', 'VN', 'VU', 'WS', 'XK', 'ZA', 'ZM', 'ZW'], 'disc_number': 1, 'duration_ms': 228023, 'explicit': False, 'external_ids': {'isrc': 'TCAAW1149310'}, 'external_urls': {'spotify': 'https://open.spotify.com/track/1CCNGAP0mtPwN32RmbFWPP'}, 'href': 'https://api.spotify.com/v1/tracks/1CCNGAP0mtPwN32RmbFWPP', 'id': '1CCNGAP0mtPwN32RmbFWPP', 'is_local': False, 'name': \"Tonight (I'm Lovin' You)\", 'popularity': 20, 'preview_url': 'https://p.scdn.co/mp3-preview/7a084b6d611fc0c0984d0c23469317736fbe3493?cid=3b41c863d85746899b1bd17a39149f8e', 'track_number': 12, 'type': 'track', 'uri': 'spotify:track:1CCNGAP0mtPwN32RmbFWPP'}], 'limit': 1, 'next': None, 'offset': 0, 'previous': None, 'total': 1}}\n",
      "song was not found!\n",
      "{'tracks': {'href': 'https://api.spotify.com/v1/search?query=track%3ARaise+Your+Glass+artist%3APink&type=track&offset=0&limit=1', 'items': [{'album': {'album_type': 'compilation', 'artists': [{'external_urls': {'spotify': 'https://open.spotify.com/artist/0LyfQWJT6nXafLPZqxe9Of'}, 'href': 'https://api.spotify.com/v1/artists/0LyfQWJT6nXafLPZqxe9Of', 'id': '0LyfQWJT6nXafLPZqxe9Of', 'name': 'Various Artists', 'type': 'artist', 'uri': 'spotify:artist:0LyfQWJT6nXafLPZqxe9Of'}], 'available_markets': ['AD', 'AE', 'AG', 'AL', 'AM', 'AO', 'AR', 'AT', 'AU', 'AZ', 'BA', 'BB', 'BD', 'BE', 'BF', 'BG', 'BH', 'BI', 'BJ', 'BN', 'BO', 'BR', 'BS', 'BT', 'BW', 'BY', 'BZ', 'CA', 'CD', 'CG', 'CH', 'CI', 'CL', 'CM', 'CO', 'CR', 'CV', 'CW', 'CY', 'CZ', 'DE', 'DJ', 'DK', 'DM', 'DO', 'DZ', 'EC', 'EE', 'EG', 'ES', 'FI', 'FJ', 'FM', 'FR', 'GA', 'GB', 'GD', 'GE', 'GH', 'GM', 'GN', 'GQ', 'GR', 'GT', 'GW', 'GY', 'HK', 'HN', 'HR', 'HT', 'HU', 'ID', 'IE', 'IL', 'IN', 'IQ', 'IS', 'IT', 'JM', 'JO', 'JP', 'KE', 'KG', 'KH', 'KI', 'KM', 'KN', 'KR', 'KW', 'KZ', 'LA', 'LB', 'LC', 'LI', 'LK', 'LR', 'LS', 'LT', 'LU', 'LV', 'LY', 'MA', 'MC', 'MD', 'ME', 'MG', 'MH', 'MK', 'ML', 'MN', 'MO', 'MR', 'MT', 'MU', 'MV', 'MW', 'MX', 'MY', 'MZ', 'NA', 'NE', 'NG', 'NI', 'NL', 'NO', 'NP', 'NR', 'NZ', 'OM', 'PA', 'PE', 'PG', 'PH', 'PK', 'PL', 'PS', 'PT', 'PW', 'PY', 'QA', 'RO', 'RS', 'RU', 'RW', 'SA', 'SB', 'SC', 'SE', 'SG', 'SI', 'SK', 'SL', 'SM', 'SN', 'SR', 'ST', 'SV', 'SZ', 'TD', 'TG', 'TH', 'TJ', 'TL', 'TN', 'TO', 'TR', 'TT', 'TV', 'TW', 'TZ', 'UA', 'UG', 'US', 'UY', 'UZ', 'VC', 'VE', 'VN', 'VU', 'WS', 'XK', 'ZA', 'ZM', 'ZW'], 'external_urls': {'spotify': 'https://open.spotify.com/album/1Bmb2UdmgcW8MehuSmbR81'}, 'href': 'https://api.spotify.com/v1/albums/1Bmb2UdmgcW8MehuSmbR81', 'id': '1Bmb2UdmgcW8MehuSmbR81', 'images': [{'height': 640, 'url': 'https://i.scdn.co/image/ab67616d0000b2735648e1ff7c40f8f18c0905b3', 'width': 640}, {'height': 300, 'url': 'https://i.scdn.co/image/ab67616d00001e025648e1ff7c40f8f18c0905b3', 'width': 300}, {'height': 64, 'url': 'https://i.scdn.co/image/ab67616d000048515648e1ff7c40f8f18c0905b3', 'width': 64}], 'name': \"Right Now! Today's Hits Remixed\", 'release_date': '2013-11-01', 'release_date_precision': 'day', 'total_tracks': 14, 'type': 'album', 'uri': 'spotify:album:1Bmb2UdmgcW8MehuSmbR81'}, 'artists': [{'external_urls': {'spotify': 'https://open.spotify.com/artist/7D0HNEvLVsb8ooQmC2MIbD'}, 'href': 'https://api.spotify.com/v1/artists/7D0HNEvLVsb8ooQmC2MIbD', 'id': '7D0HNEvLVsb8ooQmC2MIbD', 'name': 'Pinky', 'type': 'artist', 'uri': 'spotify:artist:7D0HNEvLVsb8ooQmC2MIbD'}], 'available_markets': ['AD', 'AE', 'AG', 'AL', 'AM', 'AO', 'AR', 'AT', 'AU', 'AZ', 'BA', 'BB', 'BD', 'BE', 'BF', 'BG', 'BH', 'BI', 'BJ', 'BN', 'BO', 'BR', 'BS', 'BT', 'BW', 'BY', 'BZ', 'CA', 'CD', 'CG', 'CH', 'CI', 'CL', 'CM', 'CO', 'CR', 'CV', 'CW', 'CY', 'CZ', 'DE', 'DJ', 'DK', 'DM', 'DO', 'DZ', 'EC', 'EE', 'EG', 'ES', 'FI', 'FJ', 'FM', 'FR', 'GA', 'GB', 'GD', 'GE', 'GH', 'GM', 'GN', 'GQ', 'GR', 'GT', 'GW', 'GY', 'HK', 'HN', 'HR', 'HT', 'HU', 'ID', 'IE', 'IL', 'IN', 'IQ', 'IS', 'IT', 'JM', 'JO', 'JP', 'KE', 'KG', 'KH', 'KI', 'KM', 'KN', 'KR', 'KW', 'KZ', 'LA', 'LB', 'LC', 'LI', 'LK', 'LR', 'LS', 'LT', 'LU', 'LV', 'LY', 'MA', 'MC', 'MD', 'ME', 'MG', 'MH', 'MK', 'ML', 'MN', 'MO', 'MR', 'MT', 'MU', 'MV', 'MW', 'MX', 'MY', 'MZ', 'NA', 'NE', 'NG', 'NI', 'NL', 'NO', 'NP', 'NR', 'NZ', 'OM', 'PA', 'PE', 'PG', 'PH', 'PK', 'PL', 'PS', 'PT', 'PW', 'PY', 'QA', 'RO', 'RS', 'RU', 'RW', 'SA', 'SB', 'SC', 'SE', 'SG', 'SI', 'SK', 'SL', 'SM', 'SN', 'SR', 'ST', 'SV', 'SZ', 'TD', 'TG', 'TH', 'TJ', 'TL', 'TN', 'TO', 'TR', 'TT', 'TV', 'TW', 'TZ', 'UA', 'UG', 'US', 'UY', 'UZ', 'VC', 'VE', 'VN', 'VU', 'WS', 'XK', 'ZA', 'ZM', 'ZW'], 'disc_number': 1, 'duration_ms': 199426, 'explicit': False, 'external_ids': {'isrc': 'US89R1112952'}, 'external_urls': {'spotify': 'https://open.spotify.com/track/0pHYH21o5nbgtrfULWIHzE'}, 'href': 'https://api.spotify.com/v1/tracks/0pHYH21o5nbgtrfULWIHzE', 'id': '0pHYH21o5nbgtrfULWIHzE', 'is_local': False, 'name': 'Raise Your Glass', 'popularity': 23, 'preview_url': 'https://p.scdn.co/mp3-preview/a1b7625110ade22dc7fecfa13aa87e3580d18de0?cid=3b41c863d85746899b1bd17a39149f8e', 'track_number': 2, 'type': 'track', 'uri': 'spotify:track:0pHYH21o5nbgtrfULWIHzE'}], 'limit': 1, 'next': 'https://api.spotify.com/v1/search?query=track%3ARaise+Your+Glass+artist%3APink&type=track&offset=1&limit=1', 'offset': 0, 'previous': None, 'total': 7}}\n",
      "song was not found!\n"
     ]
    },
    {
     "name": "stdout",
     "output_type": "stream",
     "text": [
      "{'tracks': {'href': 'https://api.spotify.com/v1/search?query=track%3AThe+Time+%28Dirty+Bit%29+artist%3AThe+Black+Eyed+Peas&type=track&offset=0&limit=1', 'items': [{'album': {'album_type': 'album', 'artists': [{'external_urls': {'spotify': 'https://open.spotify.com/artist/4gOdU6Z2qCcy7x63Fcpt2C'}, 'href': 'https://api.spotify.com/v1/artists/4gOdU6Z2qCcy7x63Fcpt2C', 'id': '4gOdU6Z2qCcy7x63Fcpt2C', 'name': 'The Great Pop Crew', 'type': 'artist', 'uri': 'spotify:artist:4gOdU6Z2qCcy7x63Fcpt2C'}], 'available_markets': ['AD', 'AE', 'AG', 'AL', 'AM', 'AO', 'AR', 'AT', 'AU', 'AZ', 'BA', 'BB', 'BD', 'BE', 'BF', 'BG', 'BH', 'BI', 'BJ', 'BN', 'BO', 'BR', 'BS', 'BT', 'BW', 'BY', 'BZ', 'CA', 'CD', 'CG', 'CH', 'CI', 'CL', 'CM', 'CO', 'CR', 'CV', 'CW', 'CY', 'CZ', 'DE', 'DJ', 'DK', 'DM', 'DO', 'DZ', 'EC', 'EE', 'EG', 'ES', 'FI', 'FJ', 'FM', 'FR', 'GA', 'GB', 'GD', 'GE', 'GH', 'GM', 'GN', 'GQ', 'GR', 'GT', 'GW', 'GY', 'HK', 'HN', 'HR', 'HT', 'HU', 'ID', 'IE', 'IL', 'IN', 'IQ', 'IS', 'IT', 'JM', 'JO', 'JP', 'KE', 'KG', 'KH', 'KI', 'KM', 'KN', 'KR', 'KW', 'KZ', 'LA', 'LB', 'LC', 'LI', 'LK', 'LR', 'LS', 'LT', 'LU', 'LV', 'LY', 'MA', 'MC', 'MD', 'ME', 'MG', 'MH', 'MK', 'ML', 'MN', 'MO', 'MR', 'MT', 'MU', 'MV', 'MW', 'MX', 'MY', 'MZ', 'NA', 'NE', 'NG', 'NI', 'NL', 'NO', 'NP', 'NR', 'NZ', 'OM', 'PA', 'PE', 'PG', 'PH', 'PK', 'PL', 'PS', 'PT', 'PW', 'PY', 'QA', 'RO', 'RS', 'RU', 'RW', 'SA', 'SB', 'SC', 'SE', 'SG', 'SI', 'SK', 'SL', 'SM', 'SN', 'SR', 'ST', 'SV', 'SZ', 'TD', 'TG', 'TH', 'TJ', 'TL', 'TN', 'TO', 'TR', 'TT', 'TV', 'TW', 'TZ', 'UA', 'UG', 'US', 'UY', 'UZ', 'VC', 'VE', 'VN', 'VU', 'WS', 'XK', 'ZA', 'ZM', 'ZW'], 'external_urls': {'spotify': 'https://open.spotify.com/album/56XvV4Z8jMOKZXs6nasgcb'}, 'href': 'https://api.spotify.com/v1/albums/56XvV4Z8jMOKZXs6nasgcb', 'id': '56XvV4Z8jMOKZXs6nasgcb', 'images': [{'height': 640, 'url': 'https://i.scdn.co/image/ab67616d0000b2730113c32eb7d84a47bfa6bb30', 'width': 640}, {'height': 300, 'url': 'https://i.scdn.co/image/ab67616d00001e020113c32eb7d84a47bfa6bb30', 'width': 300}, {'height': 64, 'url': 'https://i.scdn.co/image/ab67616d000048510113c32eb7d84a47bfa6bb30', 'width': 64}], 'name': '2010 #1 Pop Hits', 'release_date': '2006-12-13', 'release_date_precision': 'day', 'total_tracks': 21, 'type': 'album', 'uri': 'spotify:album:56XvV4Z8jMOKZXs6nasgcb'}, 'artists': [{'external_urls': {'spotify': 'https://open.spotify.com/artist/4gOdU6Z2qCcy7x63Fcpt2C'}, 'href': 'https://api.spotify.com/v1/artists/4gOdU6Z2qCcy7x63Fcpt2C', 'id': '4gOdU6Z2qCcy7x63Fcpt2C', 'name': 'The Great Pop Crew', 'type': 'artist', 'uri': 'spotify:artist:4gOdU6Z2qCcy7x63Fcpt2C'}], 'available_markets': ['AD', 'AE', 'AG', 'AL', 'AM', 'AO', 'AR', 'AT', 'AU', 'AZ', 'BA', 'BB', 'BD', 'BE', 'BF', 'BG', 'BH', 'BI', 'BJ', 'BN', 'BO', 'BR', 'BS', 'BT', 'BW', 'BY', 'BZ', 'CA', 'CD', 'CG', 'CH', 'CI', 'CL', 'CM', 'CO', 'CR', 'CV', 'CW', 'CY', 'CZ', 'DE', 'DJ', 'DK', 'DM', 'DO', 'DZ', 'EC', 'EE', 'EG', 'ES', 'FI', 'FJ', 'FM', 'FR', 'GA', 'GB', 'GD', 'GE', 'GH', 'GM', 'GN', 'GQ', 'GR', 'GT', 'GW', 'GY', 'HK', 'HN', 'HR', 'HT', 'HU', 'ID', 'IE', 'IL', 'IN', 'IQ', 'IS', 'IT', 'JM', 'JO', 'JP', 'KE', 'KG', 'KH', 'KI', 'KM', 'KN', 'KR', 'KW', 'KZ', 'LA', 'LB', 'LC', 'LI', 'LK', 'LR', 'LS', 'LT', 'LU', 'LV', 'LY', 'MA', 'MC', 'MD', 'ME', 'MG', 'MH', 'MK', 'ML', 'MN', 'MO', 'MR', 'MT', 'MU', 'MV', 'MW', 'MX', 'MY', 'MZ', 'NA', 'NE', 'NG', 'NI', 'NL', 'NO', 'NP', 'NR', 'NZ', 'OM', 'PA', 'PE', 'PG', 'PH', 'PK', 'PL', 'PS', 'PT', 'PW', 'PY', 'QA', 'RO', 'RS', 'RU', 'RW', 'SA', 'SB', 'SC', 'SE', 'SG', 'SI', 'SK', 'SL', 'SM', 'SN', 'SR', 'ST', 'SV', 'SZ', 'TD', 'TG', 'TH', 'TJ', 'TL', 'TN', 'TO', 'TR', 'TT', 'TV', 'TW', 'TZ', 'UA', 'UG', 'US', 'UY', 'UZ', 'VC', 'VE', 'VN', 'VU', 'WS', 'XK', 'ZA', 'ZM', 'ZW'], 'disc_number': 1, 'duration_ms': 294191, 'explicit': False, 'external_ids': {'isrc': 'US9VH1040719'}, 'external_urls': {'spotify': 'https://open.spotify.com/track/3TyIWEX7dDQI5tsKLEJtKA'}, 'href': 'https://api.spotify.com/v1/tracks/3TyIWEX7dDQI5tsKLEJtKA', 'id': '3TyIWEX7dDQI5tsKLEJtKA', 'is_local': False, 'name': 'The Time (Dirty Bit) - Black Eyed Peas Tribute Mix', 'popularity': 0, 'preview_url': 'https://p.scdn.co/mp3-preview/c184ec6d3772573d715fa2afa9fb5dfecb469050?cid=3b41c863d85746899b1bd17a39149f8e', 'track_number': 16, 'type': 'track', 'uri': 'spotify:track:3TyIWEX7dDQI5tsKLEJtKA'}], 'limit': 1, 'next': None, 'offset': 0, 'previous': None, 'total': 1}}\n",
      "song was not found!\n"
     ]
    }
   ],
   "source": [
    "#DataFrame of all our songs\n",
    "songs_df = get_songs_df(song_results)"
   ]
  },
  {
   "cell_type": "code",
   "execution_count": 14,
   "id": "378644bb",
   "metadata": {
    "scrolled": true
   },
   "outputs": [
    {
     "data": {
      "text/html": [
       "<div>\n",
       "<style scoped>\n",
       "    .dataframe tbody tr th:only-of-type {\n",
       "        vertical-align: middle;\n",
       "    }\n",
       "\n",
       "    .dataframe tbody tr th {\n",
       "        vertical-align: top;\n",
       "    }\n",
       "\n",
       "    .dataframe thead th {\n",
       "        text-align: right;\n",
       "    }\n",
       "</style>\n",
       "<table border=\"1\" class=\"dataframe\">\n",
       "  <thead>\n",
       "    <tr style=\"text-align: right;\">\n",
       "      <th></th>\n",
       "      <th>danceability</th>\n",
       "      <th>energy</th>\n",
       "      <th>key</th>\n",
       "      <th>loudness</th>\n",
       "      <th>mode</th>\n",
       "      <th>speechiness</th>\n",
       "      <th>acousticness</th>\n",
       "      <th>instrumentalness</th>\n",
       "      <th>liveness</th>\n",
       "      <th>valence</th>\n",
       "      <th>...</th>\n",
       "      <th>type</th>\n",
       "      <th>id</th>\n",
       "      <th>uri</th>\n",
       "      <th>track_href</th>\n",
       "      <th>analysis_url</th>\n",
       "      <th>duration_ms</th>\n",
       "      <th>time_signature</th>\n",
       "      <th>genre</th>\n",
       "      <th>popularity</th>\n",
       "      <th>rank</th>\n",
       "    </tr>\n",
       "  </thead>\n",
       "  <tbody>\n",
       "    <tr>\n",
       "      <th>0</th>\n",
       "      <td>0.878</td>\n",
       "      <td>0.619</td>\n",
       "      <td>6</td>\n",
       "      <td>-5.560</td>\n",
       "      <td>1</td>\n",
       "      <td>0.1020</td>\n",
       "      <td>0.053300</td>\n",
       "      <td>0.000000</td>\n",
       "      <td>0.1130</td>\n",
       "      <td>0.639</td>\n",
       "      <td>...</td>\n",
       "      <td>audio_features</td>\n",
       "      <td>2YpeDb67231RjR0MgVLzsG</td>\n",
       "      <td>spotify:track:2YpeDb67231RjR0MgVLzsG</td>\n",
       "      <td>https://api.spotify.com/v1/tracks/2YpeDb67231R...</td>\n",
       "      <td>https://api.spotify.com/v1/audio-analysis/2Ype...</td>\n",
       "      <td>157067</td>\n",
       "      <td>4</td>\n",
       "      <td>lgbtq+ hip hop</td>\n",
       "      <td>90</td>\n",
       "      <td>1</td>\n",
       "    </tr>\n",
       "    <tr>\n",
       "      <th>1</th>\n",
       "      <td>0.760</td>\n",
       "      <td>0.479</td>\n",
       "      <td>2</td>\n",
       "      <td>-5.574</td>\n",
       "      <td>1</td>\n",
       "      <td>0.0466</td>\n",
       "      <td>0.556000</td>\n",
       "      <td>0.000000</td>\n",
       "      <td>0.0703</td>\n",
       "      <td>0.913</td>\n",
       "      <td>...</td>\n",
       "      <td>audio_features</td>\n",
       "      <td>3KkXRkHbMCARz0aVfEt68P</td>\n",
       "      <td>spotify:track:3KkXRkHbMCARz0aVfEt68P</td>\n",
       "      <td>https://api.spotify.com/v1/tracks/3KkXRkHbMCAR...</td>\n",
       "      <td>https://api.spotify.com/v1/audio-analysis/3KkX...</td>\n",
       "      <td>158040</td>\n",
       "      <td>4</td>\n",
       "      <td>dfw rap</td>\n",
       "      <td>91</td>\n",
       "      <td>2</td>\n",
       "    </tr>\n",
       "    <tr>\n",
       "      <th>2</th>\n",
       "      <td>0.752</td>\n",
       "      <td>0.488</td>\n",
       "      <td>6</td>\n",
       "      <td>-7.050</td>\n",
       "      <td>1</td>\n",
       "      <td>0.0705</td>\n",
       "      <td>0.297000</td>\n",
       "      <td>0.000009</td>\n",
       "      <td>0.0936</td>\n",
       "      <td>0.533</td>\n",
       "      <td>...</td>\n",
       "      <td>audio_features</td>\n",
       "      <td>5p7ujcrUXASCNwRaWNHR1C</td>\n",
       "      <td>spotify:track:5p7ujcrUXASCNwRaWNHR1C</td>\n",
       "      <td>https://api.spotify.com/v1/tracks/5p7ujcrUXASC...</td>\n",
       "      <td>https://api.spotify.com/v1/audio-analysis/5p7u...</td>\n",
       "      <td>201661</td>\n",
       "      <td>4</td>\n",
       "      <td>dance pop</td>\n",
       "      <td>87</td>\n",
       "      <td>3</td>\n",
       "    </tr>\n",
       "    <tr>\n",
       "      <th>3</th>\n",
       "      <td>0.701</td>\n",
       "      <td>0.425</td>\n",
       "      <td>7</td>\n",
       "      <td>-10.965</td>\n",
       "      <td>1</td>\n",
       "      <td>0.3750</td>\n",
       "      <td>0.328000</td>\n",
       "      <td>0.130000</td>\n",
       "      <td>0.1000</td>\n",
       "      <td>0.562</td>\n",
       "      <td>...</td>\n",
       "      <td>audio_features</td>\n",
       "      <td>2Fxmhks0bxGSBdJ92vM42m</td>\n",
       "      <td>spotify:track:2Fxmhks0bxGSBdJ92vM42m</td>\n",
       "      <td>https://api.spotify.com/v1/tracks/2Fxmhks0bxGS...</td>\n",
       "      <td>https://api.spotify.com/v1/audio-analysis/2Fxm...</td>\n",
       "      <td>194088</td>\n",
       "      <td>4</td>\n",
       "      <td>art pop</td>\n",
       "      <td>92</td>\n",
       "      <td>4</td>\n",
       "    </tr>\n",
       "    <tr>\n",
       "      <th>4</th>\n",
       "      <td>0.829</td>\n",
       "      <td>0.539</td>\n",
       "      <td>11</td>\n",
       "      <td>-7.359</td>\n",
       "      <td>0</td>\n",
       "      <td>0.2080</td>\n",
       "      <td>0.136000</td>\n",
       "      <td>0.000002</td>\n",
       "      <td>0.1030</td>\n",
       "      <td>0.388</td>\n",
       "      <td>...</td>\n",
       "      <td>audio_features</td>\n",
       "      <td>7xQAfvXzm3AkraOtGPWIZg</td>\n",
       "      <td>spotify:track:7xQAfvXzm3AkraOtGPWIZg</td>\n",
       "      <td>https://api.spotify.com/v1/tracks/7xQAfvXzm3Ak...</td>\n",
       "      <td>https://api.spotify.com/v1/audio-analysis/7xQA...</td>\n",
       "      <td>149547</td>\n",
       "      <td>4</td>\n",
       "      <td>dfw rap</td>\n",
       "      <td>91</td>\n",
       "      <td>5</td>\n",
       "    </tr>\n",
       "    <tr>\n",
       "      <th>...</th>\n",
       "      <td>...</td>\n",
       "      <td>...</td>\n",
       "      <td>...</td>\n",
       "      <td>...</td>\n",
       "      <td>...</td>\n",
       "      <td>...</td>\n",
       "      <td>...</td>\n",
       "      <td>...</td>\n",
       "      <td>...</td>\n",
       "      <td>...</td>\n",
       "      <td>...</td>\n",
       "      <td>...</td>\n",
       "      <td>...</td>\n",
       "      <td>...</td>\n",
       "      <td>...</td>\n",
       "      <td>...</td>\n",
       "      <td>...</td>\n",
       "      <td>...</td>\n",
       "      <td>...</td>\n",
       "      <td>...</td>\n",
       "      <td>...</td>\n",
       "    </tr>\n",
       "    <tr>\n",
       "      <th>855</th>\n",
       "      <td>0.485</td>\n",
       "      <td>0.701</td>\n",
       "      <td>8</td>\n",
       "      <td>-3.807</td>\n",
       "      <td>1</td>\n",
       "      <td>0.0288</td>\n",
       "      <td>0.039000</td>\n",
       "      <td>0.000000</td>\n",
       "      <td>0.0977</td>\n",
       "      <td>0.613</td>\n",
       "      <td>...</td>\n",
       "      <td>audio_features</td>\n",
       "      <td>2TAcwD5KcV9uY3O1tLGV15</td>\n",
       "      <td>spotify:track:2TAcwD5KcV9uY3O1tLGV15</td>\n",
       "      <td>https://api.spotify.com/v1/tracks/2TAcwD5KcV9u...</td>\n",
       "      <td>https://api.spotify.com/v1/audio-analysis/2TAc...</td>\n",
       "      <td>184920</td>\n",
       "      <td>4</td>\n",
       "      <td>contemporary country</td>\n",
       "      <td>53</td>\n",
       "      <td>96</td>\n",
       "    </tr>\n",
       "    <tr>\n",
       "      <th>856</th>\n",
       "      <td>0.482</td>\n",
       "      <td>0.833</td>\n",
       "      <td>5</td>\n",
       "      <td>-5.611</td>\n",
       "      <td>1</td>\n",
       "      <td>0.0449</td>\n",
       "      <td>0.000346</td>\n",
       "      <td>0.000000</td>\n",
       "      <td>0.3650</td>\n",
       "      <td>0.740</td>\n",
       "      <td>...</td>\n",
       "      <td>audio_features</td>\n",
       "      <td>1fBl642IhJOE5U319Gy2Go</td>\n",
       "      <td>spotify:track:1fBl642IhJOE5U319Gy2Go</td>\n",
       "      <td>https://api.spotify.com/v1/tracks/1fBl642IhJOE...</td>\n",
       "      <td>https://api.spotify.com/v1/audio-analysis/1fBl...</td>\n",
       "      <td>212293</td>\n",
       "      <td>4</td>\n",
       "      <td>modern alternative rock</td>\n",
       "      <td>72</td>\n",
       "      <td>97</td>\n",
       "    </tr>\n",
       "    <tr>\n",
       "      <th>857</th>\n",
       "      <td>0.691</td>\n",
       "      <td>0.454</td>\n",
       "      <td>6</td>\n",
       "      <td>-9.130</td>\n",
       "      <td>1</td>\n",
       "      <td>0.0256</td>\n",
       "      <td>0.437000</td>\n",
       "      <td>0.002270</td>\n",
       "      <td>0.0783</td>\n",
       "      <td>0.350</td>\n",
       "      <td>...</td>\n",
       "      <td>audio_features</td>\n",
       "      <td>1t2hJFgJyUPD2crOafMUEk</td>\n",
       "      <td>spotify:track:1t2hJFgJyUPD2crOafMUEk</td>\n",
       "      <td>https://api.spotify.com/v1/tracks/1t2hJFgJyUPD...</td>\n",
       "      <td>https://api.spotify.com/v1/audio-analysis/1t2h...</td>\n",
       "      <td>242840</td>\n",
       "      <td>4</td>\n",
       "      <td>contemporary country</td>\n",
       "      <td>74</td>\n",
       "      <td>98</td>\n",
       "    </tr>\n",
       "    <tr>\n",
       "      <th>858</th>\n",
       "      <td>0.667</td>\n",
       "      <td>0.381</td>\n",
       "      <td>3</td>\n",
       "      <td>-7.494</td>\n",
       "      <td>1</td>\n",
       "      <td>0.0294</td>\n",
       "      <td>0.455000</td>\n",
       "      <td>0.000000</td>\n",
       "      <td>0.1160</td>\n",
       "      <td>0.199</td>\n",
       "      <td>...</td>\n",
       "      <td>audio_features</td>\n",
       "      <td>3U8dHeggJ8IBe0UCb1gbyB</td>\n",
       "      <td>spotify:track:3U8dHeggJ8IBe0UCb1gbyB</td>\n",
       "      <td>https://api.spotify.com/v1/tracks/3U8dHeggJ8IB...</td>\n",
       "      <td>https://api.spotify.com/v1/audio-analysis/3U8d...</td>\n",
       "      <td>273893</td>\n",
       "      <td>4</td>\n",
       "      <td>contemporary country</td>\n",
       "      <td>75</td>\n",
       "      <td>99</td>\n",
       "    </tr>\n",
       "    <tr>\n",
       "      <th>859</th>\n",
       "      <td>0.387</td>\n",
       "      <td>0.773</td>\n",
       "      <td>8</td>\n",
       "      <td>-5.685</td>\n",
       "      <td>1</td>\n",
       "      <td>0.1700</td>\n",
       "      <td>0.098000</td>\n",
       "      <td>0.000000</td>\n",
       "      <td>0.2090</td>\n",
       "      <td>0.368</td>\n",
       "      <td>...</td>\n",
       "      <td>audio_features</td>\n",
       "      <td>70tFuqBcduJv15bEnOPRTh</td>\n",
       "      <td>spotify:track:70tFuqBcduJv15bEnOPRTh</td>\n",
       "      <td>https://api.spotify.com/v1/tracks/70tFuqBcduJv...</td>\n",
       "      <td>https://api.spotify.com/v1/audio-analysis/70tF...</td>\n",
       "      <td>254120</td>\n",
       "      <td>4</td>\n",
       "      <td>detroit hip hop</td>\n",
       "      <td>84</td>\n",
       "      <td>100</td>\n",
       "    </tr>\n",
       "  </tbody>\n",
       "</table>\n",
       "<p>860 rows × 21 columns</p>\n",
       "</div>"
      ],
      "text/plain": [
       "     danceability  energy  key  loudness  mode  speechiness  acousticness  \\\n",
       "0           0.878   0.619    6    -5.560     1       0.1020      0.053300   \n",
       "1           0.760   0.479    2    -5.574     1       0.0466      0.556000   \n",
       "2           0.752   0.488    6    -7.050     1       0.0705      0.297000   \n",
       "3           0.701   0.425    7   -10.965     1       0.3750      0.328000   \n",
       "4           0.829   0.539   11    -7.359     0       0.2080      0.136000   \n",
       "..            ...     ...  ...       ...   ...          ...           ...   \n",
       "855         0.485   0.701    8    -3.807     1       0.0288      0.039000   \n",
       "856         0.482   0.833    5    -5.611     1       0.0449      0.000346   \n",
       "857         0.691   0.454    6    -9.130     1       0.0256      0.437000   \n",
       "858         0.667   0.381    3    -7.494     1       0.0294      0.455000   \n",
       "859         0.387   0.773    8    -5.685     1       0.1700      0.098000   \n",
       "\n",
       "     instrumentalness  liveness  valence  ...            type  \\\n",
       "0            0.000000    0.1130    0.639  ...  audio_features   \n",
       "1            0.000000    0.0703    0.913  ...  audio_features   \n",
       "2            0.000009    0.0936    0.533  ...  audio_features   \n",
       "3            0.130000    0.1000    0.562  ...  audio_features   \n",
       "4            0.000002    0.1030    0.388  ...  audio_features   \n",
       "..                ...       ...      ...  ...             ...   \n",
       "855          0.000000    0.0977    0.613  ...  audio_features   \n",
       "856          0.000000    0.3650    0.740  ...  audio_features   \n",
       "857          0.002270    0.0783    0.350  ...  audio_features   \n",
       "858          0.000000    0.1160    0.199  ...  audio_features   \n",
       "859          0.000000    0.2090    0.368  ...  audio_features   \n",
       "\n",
       "                         id                                   uri  \\\n",
       "0    2YpeDb67231RjR0MgVLzsG  spotify:track:2YpeDb67231RjR0MgVLzsG   \n",
       "1    3KkXRkHbMCARz0aVfEt68P  spotify:track:3KkXRkHbMCARz0aVfEt68P   \n",
       "2    5p7ujcrUXASCNwRaWNHR1C  spotify:track:5p7ujcrUXASCNwRaWNHR1C   \n",
       "3    2Fxmhks0bxGSBdJ92vM42m  spotify:track:2Fxmhks0bxGSBdJ92vM42m   \n",
       "4    7xQAfvXzm3AkraOtGPWIZg  spotify:track:7xQAfvXzm3AkraOtGPWIZg   \n",
       "..                      ...                                   ...   \n",
       "855  2TAcwD5KcV9uY3O1tLGV15  spotify:track:2TAcwD5KcV9uY3O1tLGV15   \n",
       "856  1fBl642IhJOE5U319Gy2Go  spotify:track:1fBl642IhJOE5U319Gy2Go   \n",
       "857  1t2hJFgJyUPD2crOafMUEk  spotify:track:1t2hJFgJyUPD2crOafMUEk   \n",
       "858  3U8dHeggJ8IBe0UCb1gbyB  spotify:track:3U8dHeggJ8IBe0UCb1gbyB   \n",
       "859  70tFuqBcduJv15bEnOPRTh  spotify:track:70tFuqBcduJv15bEnOPRTh   \n",
       "\n",
       "                                            track_href  \\\n",
       "0    https://api.spotify.com/v1/tracks/2YpeDb67231R...   \n",
       "1    https://api.spotify.com/v1/tracks/3KkXRkHbMCAR...   \n",
       "2    https://api.spotify.com/v1/tracks/5p7ujcrUXASC...   \n",
       "3    https://api.spotify.com/v1/tracks/2Fxmhks0bxGS...   \n",
       "4    https://api.spotify.com/v1/tracks/7xQAfvXzm3Ak...   \n",
       "..                                                 ...   \n",
       "855  https://api.spotify.com/v1/tracks/2TAcwD5KcV9u...   \n",
       "856  https://api.spotify.com/v1/tracks/1fBl642IhJOE...   \n",
       "857  https://api.spotify.com/v1/tracks/1t2hJFgJyUPD...   \n",
       "858  https://api.spotify.com/v1/tracks/3U8dHeggJ8IB...   \n",
       "859  https://api.spotify.com/v1/tracks/70tFuqBcduJv...   \n",
       "\n",
       "                                          analysis_url duration_ms  \\\n",
       "0    https://api.spotify.com/v1/audio-analysis/2Ype...      157067   \n",
       "1    https://api.spotify.com/v1/audio-analysis/3KkX...      158040   \n",
       "2    https://api.spotify.com/v1/audio-analysis/5p7u...      201661   \n",
       "3    https://api.spotify.com/v1/audio-analysis/2Fxm...      194088   \n",
       "4    https://api.spotify.com/v1/audio-analysis/7xQA...      149547   \n",
       "..                                                 ...         ...   \n",
       "855  https://api.spotify.com/v1/audio-analysis/2TAc...      184920   \n",
       "856  https://api.spotify.com/v1/audio-analysis/1fBl...      212293   \n",
       "857  https://api.spotify.com/v1/audio-analysis/1t2h...      242840   \n",
       "858  https://api.spotify.com/v1/audio-analysis/3U8d...      273893   \n",
       "859  https://api.spotify.com/v1/audio-analysis/70tF...      254120   \n",
       "\n",
       "     time_signature                    genre popularity  rank  \n",
       "0                 4           lgbtq+ hip hop         90     1  \n",
       "1                 4                  dfw rap         91     2  \n",
       "2                 4                dance pop         87     3  \n",
       "3                 4                  art pop         92     4  \n",
       "4                 4                  dfw rap         91     5  \n",
       "..              ...                      ...        ...   ...  \n",
       "855               4     contemporary country         53    96  \n",
       "856               4  modern alternative rock         72    97  \n",
       "857               4     contemporary country         74    98  \n",
       "858               4     contemporary country         75    99  \n",
       "859               4          detroit hip hop         84   100  \n",
       "\n",
       "[860 rows x 21 columns]"
      ]
     },
     "execution_count": 14,
     "metadata": {},
     "output_type": "execute_result"
    }
   ],
   "source": [
    "songs_df"
   ]
  },
  {
   "cell_type": "markdown",
   "id": "b481d749",
   "metadata": {},
   "source": [
    "#  preprocessing of the data"
   ]
  },
  {
   "cell_type": "code",
   "execution_count": 15,
   "id": "37d897ab",
   "metadata": {
    "scrolled": true
   },
   "outputs": [
    {
     "data": {
      "text/html": [
       "<div>\n",
       "<style scoped>\n",
       "    .dataframe tbody tr th:only-of-type {\n",
       "        vertical-align: middle;\n",
       "    }\n",
       "\n",
       "    .dataframe tbody tr th {\n",
       "        vertical-align: top;\n",
       "    }\n",
       "\n",
       "    .dataframe thead th {\n",
       "        text-align: right;\n",
       "    }\n",
       "</style>\n",
       "<table border=\"1\" class=\"dataframe\">\n",
       "  <thead>\n",
       "    <tr style=\"text-align: right;\">\n",
       "      <th></th>\n",
       "      <th>danceability</th>\n",
       "      <th>energy</th>\n",
       "      <th>key</th>\n",
       "      <th>loudness</th>\n",
       "      <th>mode</th>\n",
       "      <th>speechiness</th>\n",
       "      <th>acousticness</th>\n",
       "      <th>instrumentalness</th>\n",
       "      <th>liveness</th>\n",
       "      <th>valence</th>\n",
       "      <th>...</th>\n",
       "      <th>type</th>\n",
       "      <th>id</th>\n",
       "      <th>uri</th>\n",
       "      <th>track_href</th>\n",
       "      <th>analysis_url</th>\n",
       "      <th>duration_ms</th>\n",
       "      <th>time_signature</th>\n",
       "      <th>genre</th>\n",
       "      <th>popularity</th>\n",
       "      <th>rank</th>\n",
       "    </tr>\n",
       "  </thead>\n",
       "  <tbody>\n",
       "    <tr>\n",
       "      <th>0</th>\n",
       "      <td>0.878</td>\n",
       "      <td>0.619</td>\n",
       "      <td>6</td>\n",
       "      <td>-5.560</td>\n",
       "      <td>1</td>\n",
       "      <td>0.1020</td>\n",
       "      <td>0.0533</td>\n",
       "      <td>0.000000</td>\n",
       "      <td>0.1130</td>\n",
       "      <td>0.639</td>\n",
       "      <td>...</td>\n",
       "      <td>audio_features</td>\n",
       "      <td>2YpeDb67231RjR0MgVLzsG</td>\n",
       "      <td>spotify:track:2YpeDb67231RjR0MgVLzsG</td>\n",
       "      <td>https://api.spotify.com/v1/tracks/2YpeDb67231R...</td>\n",
       "      <td>https://api.spotify.com/v1/audio-analysis/2Ype...</td>\n",
       "      <td>157067</td>\n",
       "      <td>4</td>\n",
       "      <td>lgbtq+ hip hop</td>\n",
       "      <td>90</td>\n",
       "      <td>1</td>\n",
       "    </tr>\n",
       "    <tr>\n",
       "      <th>1</th>\n",
       "      <td>0.760</td>\n",
       "      <td>0.479</td>\n",
       "      <td>2</td>\n",
       "      <td>-5.574</td>\n",
       "      <td>1</td>\n",
       "      <td>0.0466</td>\n",
       "      <td>0.5560</td>\n",
       "      <td>0.000000</td>\n",
       "      <td>0.0703</td>\n",
       "      <td>0.913</td>\n",
       "      <td>...</td>\n",
       "      <td>audio_features</td>\n",
       "      <td>3KkXRkHbMCARz0aVfEt68P</td>\n",
       "      <td>spotify:track:3KkXRkHbMCARz0aVfEt68P</td>\n",
       "      <td>https://api.spotify.com/v1/tracks/3KkXRkHbMCAR...</td>\n",
       "      <td>https://api.spotify.com/v1/audio-analysis/3KkX...</td>\n",
       "      <td>158040</td>\n",
       "      <td>4</td>\n",
       "      <td>dfw rap</td>\n",
       "      <td>91</td>\n",
       "      <td>2</td>\n",
       "    </tr>\n",
       "    <tr>\n",
       "      <th>2</th>\n",
       "      <td>0.752</td>\n",
       "      <td>0.488</td>\n",
       "      <td>6</td>\n",
       "      <td>-7.050</td>\n",
       "      <td>1</td>\n",
       "      <td>0.0705</td>\n",
       "      <td>0.2970</td>\n",
       "      <td>0.000009</td>\n",
       "      <td>0.0936</td>\n",
       "      <td>0.533</td>\n",
       "      <td>...</td>\n",
       "      <td>audio_features</td>\n",
       "      <td>5p7ujcrUXASCNwRaWNHR1C</td>\n",
       "      <td>spotify:track:5p7ujcrUXASCNwRaWNHR1C</td>\n",
       "      <td>https://api.spotify.com/v1/tracks/5p7ujcrUXASC...</td>\n",
       "      <td>https://api.spotify.com/v1/audio-analysis/5p7u...</td>\n",
       "      <td>201661</td>\n",
       "      <td>4</td>\n",
       "      <td>dance pop</td>\n",
       "      <td>87</td>\n",
       "      <td>3</td>\n",
       "    </tr>\n",
       "    <tr>\n",
       "      <th>3</th>\n",
       "      <td>0.701</td>\n",
       "      <td>0.425</td>\n",
       "      <td>7</td>\n",
       "      <td>-10.965</td>\n",
       "      <td>1</td>\n",
       "      <td>0.3750</td>\n",
       "      <td>0.3280</td>\n",
       "      <td>0.130000</td>\n",
       "      <td>0.1000</td>\n",
       "      <td>0.562</td>\n",
       "      <td>...</td>\n",
       "      <td>audio_features</td>\n",
       "      <td>2Fxmhks0bxGSBdJ92vM42m</td>\n",
       "      <td>spotify:track:2Fxmhks0bxGSBdJ92vM42m</td>\n",
       "      <td>https://api.spotify.com/v1/tracks/2Fxmhks0bxGS...</td>\n",
       "      <td>https://api.spotify.com/v1/audio-analysis/2Fxm...</td>\n",
       "      <td>194088</td>\n",
       "      <td>4</td>\n",
       "      <td>art pop</td>\n",
       "      <td>92</td>\n",
       "      <td>4</td>\n",
       "    </tr>\n",
       "    <tr>\n",
       "      <th>4</th>\n",
       "      <td>0.829</td>\n",
       "      <td>0.539</td>\n",
       "      <td>11</td>\n",
       "      <td>-7.359</td>\n",
       "      <td>0</td>\n",
       "      <td>0.2080</td>\n",
       "      <td>0.1360</td>\n",
       "      <td>0.000002</td>\n",
       "      <td>0.1030</td>\n",
       "      <td>0.388</td>\n",
       "      <td>...</td>\n",
       "      <td>audio_features</td>\n",
       "      <td>7xQAfvXzm3AkraOtGPWIZg</td>\n",
       "      <td>spotify:track:7xQAfvXzm3AkraOtGPWIZg</td>\n",
       "      <td>https://api.spotify.com/v1/tracks/7xQAfvXzm3Ak...</td>\n",
       "      <td>https://api.spotify.com/v1/audio-analysis/7xQA...</td>\n",
       "      <td>149547</td>\n",
       "      <td>4</td>\n",
       "      <td>dfw rap</td>\n",
       "      <td>91</td>\n",
       "      <td>5</td>\n",
       "    </tr>\n",
       "  </tbody>\n",
       "</table>\n",
       "<p>5 rows × 21 columns</p>\n",
       "</div>"
      ],
      "text/plain": [
       "   danceability  energy  key  loudness  mode  speechiness  acousticness  \\\n",
       "0         0.878   0.619    6    -5.560     1       0.1020        0.0533   \n",
       "1         0.760   0.479    2    -5.574     1       0.0466        0.5560   \n",
       "2         0.752   0.488    6    -7.050     1       0.0705        0.2970   \n",
       "3         0.701   0.425    7   -10.965     1       0.3750        0.3280   \n",
       "4         0.829   0.539   11    -7.359     0       0.2080        0.1360   \n",
       "\n",
       "   instrumentalness  liveness  valence  ...            type  \\\n",
       "0          0.000000    0.1130    0.639  ...  audio_features   \n",
       "1          0.000000    0.0703    0.913  ...  audio_features   \n",
       "2          0.000009    0.0936    0.533  ...  audio_features   \n",
       "3          0.130000    0.1000    0.562  ...  audio_features   \n",
       "4          0.000002    0.1030    0.388  ...  audio_features   \n",
       "\n",
       "                       id                                   uri  \\\n",
       "0  2YpeDb67231RjR0MgVLzsG  spotify:track:2YpeDb67231RjR0MgVLzsG   \n",
       "1  3KkXRkHbMCARz0aVfEt68P  spotify:track:3KkXRkHbMCARz0aVfEt68P   \n",
       "2  5p7ujcrUXASCNwRaWNHR1C  spotify:track:5p7ujcrUXASCNwRaWNHR1C   \n",
       "3  2Fxmhks0bxGSBdJ92vM42m  spotify:track:2Fxmhks0bxGSBdJ92vM42m   \n",
       "4  7xQAfvXzm3AkraOtGPWIZg  spotify:track:7xQAfvXzm3AkraOtGPWIZg   \n",
       "\n",
       "                                          track_href  \\\n",
       "0  https://api.spotify.com/v1/tracks/2YpeDb67231R...   \n",
       "1  https://api.spotify.com/v1/tracks/3KkXRkHbMCAR...   \n",
       "2  https://api.spotify.com/v1/tracks/5p7ujcrUXASC...   \n",
       "3  https://api.spotify.com/v1/tracks/2Fxmhks0bxGS...   \n",
       "4  https://api.spotify.com/v1/tracks/7xQAfvXzm3Ak...   \n",
       "\n",
       "                                        analysis_url duration_ms  \\\n",
       "0  https://api.spotify.com/v1/audio-analysis/2Ype...      157067   \n",
       "1  https://api.spotify.com/v1/audio-analysis/3KkX...      158040   \n",
       "2  https://api.spotify.com/v1/audio-analysis/5p7u...      201661   \n",
       "3  https://api.spotify.com/v1/audio-analysis/2Fxm...      194088   \n",
       "4  https://api.spotify.com/v1/audio-analysis/7xQA...      149547   \n",
       "\n",
       "   time_signature           genre popularity  rank  \n",
       "0               4  lgbtq+ hip hop         90     1  \n",
       "1               4         dfw rap         91     2  \n",
       "2               4       dance pop         87     3  \n",
       "3               4         art pop         92     4  \n",
       "4               4         dfw rap         91     5  \n",
       "\n",
       "[5 rows x 21 columns]"
      ]
     },
     "execution_count": 15,
     "metadata": {},
     "output_type": "execute_result"
    }
   ],
   "source": [
    "songs_df.head()"
   ]
  },
  {
   "cell_type": "code",
   "execution_count": 16,
   "id": "9d12955a",
   "metadata": {},
   "outputs": [
    {
     "data": {
      "text/html": [
       "<div>\n",
       "<style scoped>\n",
       "    .dataframe tbody tr th:only-of-type {\n",
       "        vertical-align: middle;\n",
       "    }\n",
       "\n",
       "    .dataframe tbody tr th {\n",
       "        vertical-align: top;\n",
       "    }\n",
       "\n",
       "    .dataframe thead th {\n",
       "        text-align: right;\n",
       "    }\n",
       "</style>\n",
       "<table border=\"1\" class=\"dataframe\">\n",
       "  <thead>\n",
       "    <tr style=\"text-align: right;\">\n",
       "      <th></th>\n",
       "      <th>features</th>\n",
       "    </tr>\n",
       "  </thead>\n",
       "  <tbody>\n",
       "    <tr>\n",
       "      <th>0</th>\n",
       "      <td>danceability</td>\n",
       "    </tr>\n",
       "    <tr>\n",
       "      <th>1</th>\n",
       "      <td>energy</td>\n",
       "    </tr>\n",
       "    <tr>\n",
       "      <th>2</th>\n",
       "      <td>key</td>\n",
       "    </tr>\n",
       "    <tr>\n",
       "      <th>3</th>\n",
       "      <td>loudness</td>\n",
       "    </tr>\n",
       "    <tr>\n",
       "      <th>4</th>\n",
       "      <td>mode</td>\n",
       "    </tr>\n",
       "    <tr>\n",
       "      <th>5</th>\n",
       "      <td>speechiness</td>\n",
       "    </tr>\n",
       "    <tr>\n",
       "      <th>6</th>\n",
       "      <td>acousticness</td>\n",
       "    </tr>\n",
       "    <tr>\n",
       "      <th>7</th>\n",
       "      <td>instrumentalness</td>\n",
       "    </tr>\n",
       "    <tr>\n",
       "      <th>8</th>\n",
       "      <td>liveness</td>\n",
       "    </tr>\n",
       "    <tr>\n",
       "      <th>9</th>\n",
       "      <td>valence</td>\n",
       "    </tr>\n",
       "    <tr>\n",
       "      <th>10</th>\n",
       "      <td>tempo</td>\n",
       "    </tr>\n",
       "    <tr>\n",
       "      <th>11</th>\n",
       "      <td>type</td>\n",
       "    </tr>\n",
       "    <tr>\n",
       "      <th>12</th>\n",
       "      <td>id</td>\n",
       "    </tr>\n",
       "    <tr>\n",
       "      <th>13</th>\n",
       "      <td>uri</td>\n",
       "    </tr>\n",
       "    <tr>\n",
       "      <th>14</th>\n",
       "      <td>track_href</td>\n",
       "    </tr>\n",
       "    <tr>\n",
       "      <th>15</th>\n",
       "      <td>analysis_url</td>\n",
       "    </tr>\n",
       "    <tr>\n",
       "      <th>16</th>\n",
       "      <td>duration_ms</td>\n",
       "    </tr>\n",
       "    <tr>\n",
       "      <th>17</th>\n",
       "      <td>time_signature</td>\n",
       "    </tr>\n",
       "    <tr>\n",
       "      <th>18</th>\n",
       "      <td>genre</td>\n",
       "    </tr>\n",
       "    <tr>\n",
       "      <th>19</th>\n",
       "      <td>popularity</td>\n",
       "    </tr>\n",
       "    <tr>\n",
       "      <th>20</th>\n",
       "      <td>rank</td>\n",
       "    </tr>\n",
       "  </tbody>\n",
       "</table>\n",
       "</div>"
      ],
      "text/plain": [
       "            features\n",
       "0       danceability\n",
       "1             energy\n",
       "2                key\n",
       "3           loudness\n",
       "4               mode\n",
       "5        speechiness\n",
       "6       acousticness\n",
       "7   instrumentalness\n",
       "8           liveness\n",
       "9            valence\n",
       "10             tempo\n",
       "11              type\n",
       "12                id\n",
       "13               uri\n",
       "14        track_href\n",
       "15      analysis_url\n",
       "16       duration_ms\n",
       "17    time_signature\n",
       "18             genre\n",
       "19        popularity\n",
       "20              rank"
      ]
     },
     "execution_count": 16,
     "metadata": {},
     "output_type": "execute_result"
    }
   ],
   "source": [
    "pd.DataFrame(data={'features': songs_df.columns})"
   ]
  },
  {
   "cell_type": "markdown",
   "id": "edc99375",
   "metadata": {},
   "source": [
    "## dealing with null values"
   ]
  },
  {
   "cell_type": "code",
   "execution_count": 17,
   "id": "d5604865",
   "metadata": {},
   "outputs": [
    {
     "data": {
      "text/plain": [
       "danceability        False\n",
       "energy              False\n",
       "key                 False\n",
       "loudness            False\n",
       "mode                False\n",
       "speechiness         False\n",
       "acousticness        False\n",
       "instrumentalness    False\n",
       "liveness            False\n",
       "valence             False\n",
       "tempo               False\n",
       "type                False\n",
       "id                  False\n",
       "uri                 False\n",
       "track_href          False\n",
       "analysis_url        False\n",
       "duration_ms         False\n",
       "time_signature      False\n",
       "genre               False\n",
       "popularity          False\n",
       "rank                False\n",
       "dtype: bool"
      ]
     },
     "execution_count": 17,
     "metadata": {},
     "output_type": "execute_result"
    }
   ],
   "source": [
    "songs_df.isnull().any()"
   ]
  },
  {
   "cell_type": "code",
   "execution_count": 18,
   "id": "7c56bd8b",
   "metadata": {},
   "outputs": [],
   "source": [
    "# # import missingno as msno\n",
    "# # msno.bar(songs_df, color=\"dodgerblue\", sort=\"ascending\", figsize=(10,5), fontsize=12)\n",
    "# songs_df[\"genre\"].isnull().value_counts()\n",
    "# dropping NULL values\n",
    "songs_df = songs_df.dropna(axis=0)"
   ]
  },
  {
   "cell_type": "code",
   "execution_count": 19,
   "id": "20e4026c",
   "metadata": {
    "scrolled": false
   },
   "outputs": [
    {
     "data": {
      "text/plain": [
       "False    860\n",
       "Name: genre, dtype: int64"
      ]
     },
     "execution_count": 19,
     "metadata": {},
     "output_type": "execute_result"
    }
   ],
   "source": [
    "songs_df[\"genre\"].isnull().value_counts()"
   ]
  },
  {
   "cell_type": "markdown",
   "id": "832d9b66",
   "metadata": {},
   "source": [
    "we see that there are a lot of dirrerent genres, so we will reduce them: "
   ]
  },
  {
   "cell_type": "code",
   "execution_count": 20,
   "id": "71634885",
   "metadata": {},
   "outputs": [],
   "source": [
    "# coverting sub-genres to main genre\n",
    "def replace_genre(genre,song,index,songs_df):\n",
    "    if genre in song['genre']:\n",
    "        song['genre'] = genre\n",
    "        songs_df.loc[index] = song"
   ]
  },
  {
   "cell_type": "code",
   "execution_count": 21,
   "id": "50f98994",
   "metadata": {},
   "outputs": [],
   "source": [
    "# calling replace_genre method\n",
    "for index, song in songs_df.iterrows():\n",
    "    replace_genre(\"hip hop\",song,index,songs_df)\n",
    "    replace_genre(\"rap\",song,index,songs_df)\n",
    "    replace_genre(\"pop\",song,index,songs_df)\n",
    "    replace_genre(\"rock\",song,index,songs_df)\n",
    "    replace_genre(\"country\",song,index,songs_df)\n"
   ]
  },
  {
   "cell_type": "code",
   "execution_count": 22,
   "id": "0815231f",
   "metadata": {},
   "outputs": [],
   "source": [
    "# to make sure we didn't miss any genre\n",
    "songs_df = songs_df.replace({'genre': {\"album rock\": \"rock\", \"glam rock\": \"rock\", \"dance rock\":\"rock\", \"art rock\":\"rock\",\n",
    "                                  \"soft rock\":\"rock\", \"country rock\": \"rock\", \"classic rock\":\"rock\", \"blues rock\":\"rock\", \"celtic rock\":\"rock\",\n",
    "                                  \"australian rock\":\"rock\", \"german alternative rock\":\"rock\", \"alternative rock\":\"rock\", \"dance pop\":\"pop\",\n",
    "                                \"brill building pop\": \"pop\", \"europop\": \"pop\", \"barbadian pop\": \"pop\", \"classic uk pop\":\"pop\", \n",
    "                                \"new wave pop\":\"pop\", \"canadian pop\":\"pop\", \"art pop\":\"pop\", \"belgian pop\": \"pop\", \"britpop\": \"pop\", \n",
    "                                \"italian pop\":\"pop\", \"classic danish pop\": \"pop\", \"bow pop\": \"pop\", \"baroque pop\": \"pop\", \"bubblegum pop\": \"pop\",\n",
    "                                \"afropop\":\"pop\", \"hip pop\":\"pop\", \"atl hip hop\": \"hip hop\", \"east coast hip hop\": \"hip hop\", \"detroit hip hop\":\"hip hop\", \n",
    "                                \"bronx hip hop\": \"hip hop\", \"bubblegum dance\": \"dance\", \"eurodance\":\"dance\", \"belgian dance\":\"dance\", \"german dance\": \"dance\",\n",
    "                                \"classic soul\": \"soul\", \"british soul\": \"soul\", \"chicago soul\": \"soul\", \"british folk\": \"folk\", \"american folk revival\":\"folk\",\n",
    "                                \"drone folk\":\"folk\",\"canadian folk\":\"folk\", \"deep adult standards\":\"adult standards\", \"glam metal\": \"metal\", \"alternative metal\": \"metal\",\n",
    "                                \"acoustic blues\":\"blues\", \"british blues\":\"blues\", \"louisiana blues\":\"blues\", \"g funk\":\"funk\", \"brit funk\":\"funk\",\n",
    "                                \"afrobeat\":\"dance\", \"british invasion\":\"rock\", \"doo-wop\":\"blues\", \"boy band\":\"pop\", \"merseybeat\":\"rock-and-roll\", \"blue\":\"blues\",\n",
    "                                                \"bebop\":\"jazz\", \"avant-garde jazz\":\"jazz\", \"boogaloo\": \"latin\", \"big room\": \"trance\", \"bubble trance\":\"trance\", \"glam punk\":\"rock\",\n",
    "                                                \"australian talent show\":\"pop\", \"mellow gold\":\"rock\", \"hi-nrg\": \"dance\", \"neo mellow\": \"pop\", \"yodeling\":\"folk\", \"classic girl group\":\"pop\",\n",
    "                                                \"british dance band\":\"jazz\", \"deep house\":\"dance\", \"uk garage\": \"dance\", \"chicago rap\":\"hip hop\",\n",
    "                                     \"lgbtq+ hip hop\":\"hip hop\", \"dfw rap\": \"hip hop\", \"contemporary country\":\"country\",\"canadian contemporary r&b\":\"contemporary r&b\",\"alternative r&b\":\"contemporary r&b\",\"neo soul\":\"soul\",\"uk dance\":\"dance\",\"australian dance\":\"dance\",\"alternative dance\":\"dance\",\"romanian house\":\"house\",\"german house\":\"house\",\"tropical house\":\"house\"}})"
   ]
  },
  {
   "cell_type": "code",
   "execution_count": 23,
   "id": "22b65ef6",
   "metadata": {
    "scrolled": false
   },
   "outputs": [
    {
     "name": "stderr",
     "output_type": "stream",
     "text": [
      "<ipython-input-23-1aaf4cea79fc>:6: MatplotlibDeprecationWarning: normalize=None does not normalize if the sum is less than 1 but this behavior is deprecated since 3.3 until two minor releases later. After the deprecation period the default value will be normalize=True. To prevent normalization pass normalize=False \n",
      "  ax1.pie(sizes, labels=labels, autopct='%1.1f%%', shadow=False, textprops={'fontsize': 14})\n"
     ]
    },
    {
     "data": {
      "image/png": "[encoded data removed]",
      "text/plain": [
       "<Figure size 720x720 with 1 Axes>"
      ]
     },
     "metadata": {},
     "output_type": "display_data"
    }
   ],
   "source": [
    "df_genre = songs_df['genre'].value_counts()[:20].sort_values(ascending=False) / len(songs_df)\n",
    "sizes = df_genre.values.tolist()\n",
    "labels = df_genre.index.values.tolist()\n",
    "# Pie chart for genre\n",
    "fig1, ax1 = plt.subplots(figsize=(10,10))\n",
    "ax1.pie(sizes, labels=labels, autopct='%1.1f%%', shadow=False, textprops={'fontsize': 14})\n",
    "ax1.axis('equal')\n",
    "# plt.title(\"Most Popular Genres\\n\" , bbox={'facecolor':'0.8', 'pad':0})\n",
    "plt.show()"
   ]
  },
  {
   "cell_type": "markdown",
   "id": "a2c7b874",
   "metadata": {},
   "source": [
    "conclusion from the pie chart:\n",
    " pop, rap,hip hop and country are the most popular genres in the billaboard charts, by far from the other genres."
   ]
  },
  {
   "cell_type": "markdown",
   "id": "8899b106",
   "metadata": {},
   "source": [
    "# dealing with outliers - later on!"
   ]
  },
  {
   "cell_type": "code",
   "execution_count": 24,
   "id": "c67fac4f",
   "metadata": {},
   "outputs": [
    {
     "data": {
      "text/plain": [
       "0      hip hop\n",
       "1          rap\n",
       "2          pop\n",
       "3          pop\n",
       "4          rap\n",
       "        ...   \n",
       "855    country\n",
       "856       rock\n",
       "857    country\n",
       "858    country\n",
       "859    hip hop\n",
       "Name: genre, Length: 860, dtype: object"
      ]
     },
     "execution_count": 24,
     "metadata": {},
     "output_type": "execute_result"
    }
   ],
   "source": [
    "songs_df['genre']"
   ]
  },
  {
   "cell_type": "code",
   "execution_count": 25,
   "id": "85d74e59",
   "metadata": {},
   "outputs": [],
   "source": [
    "# ser=songs_df['genre']\n",
    "# for genre in ser:\n",
    "# #     if (songs_df['genre']==songs_df['genre'].all())\n",
    "# #         songs_df.drop(label=genre)\n",
    "#     if bool([ser.value_counts()<3]):\n",
    "#             print(genre)\n",
    "#             ser.drop(labels=genre)\n",
    "        "
   ]
  },
  {
   "cell_type": "code",
   "execution_count": 26,
   "id": "a0085ed1",
   "metadata": {},
   "outputs": [
    {
     "data": {
      "text/plain": [
       "array(['hip hop', 'rap', 'pop', 'brostep', 'rock', 'country', 'latin',\n",
       "       'black americana', 'ccm', 'cartoon', 'complextro',\n",
       "       'contemporary r&b', 'edm', 'alt z', 'soul', 'lullaby', 'dance',\n",
       "       'permanent wave', 'chicago bop', 'irish singer-songwriter',\n",
       "       'trance', 'reggae fusion', 'emo', 'orchestral soundtrack',\n",
       "       'hollywood', 'house', 'electro', 'la indie', 'comic', 'funk',\n",
       "       'indietronica', 'metal'], dtype=object)"
      ]
     },
     "execution_count": 26,
     "metadata": {},
     "output_type": "execute_result"
    }
   ],
   "source": [
    "songs_df['genre'].unique()"
   ]
  },
  {
   "cell_type": "code",
   "execution_count": 27,
   "id": "b77eea8c",
   "metadata": {
    "scrolled": true
   },
   "outputs": [
    {
     "data": {
      "text/plain": [
       "pop                        445\n",
       "hip hop                    117\n",
       "country                     84\n",
       "rap                         78\n",
       "rock                        35\n",
       "contemporary r&b            17\n",
       "soul                        12\n",
       "latin                        9\n",
       "dance                        7\n",
       "trance                       6\n",
       "black americana              5\n",
       "brostep                      5\n",
       "alt z                        5\n",
       "permanent wave               4\n",
       "complextro                   4\n",
       "chicago bop                  3\n",
       "emo                          3\n",
       "hollywood                    2\n",
       "indietronica                 2\n",
       "funk                         2\n",
       "reggae fusion                2\n",
       "house                        2\n",
       "edm                          2\n",
       "lullaby                      1\n",
       "electro                      1\n",
       "orchestral soundtrack        1\n",
       "irish singer-songwriter      1\n",
       "la indie                     1\n",
       "comic                        1\n",
       "metal                        1\n",
       "cartoon                      1\n",
       "ccm                          1\n",
       "Name: genre, dtype: int64"
      ]
     },
     "execution_count": 27,
     "metadata": {},
     "output_type": "execute_result"
    }
   ],
   "source": [
    "songs_df['genre'].value_counts()"
   ]
  },
  {
   "cell_type": "markdown",
   "id": "ab26a81c",
   "metadata": {},
   "source": [
    "# check if its good later"
   ]
  },
  {
   "cell_type": "code",
   "execution_count": 52,
   "id": "b17d9d68",
   "metadata": {},
   "outputs": [],
   "source": [
    "def find_position(specific_genre):\n",
    "    for key,genre in songs_df['genre'].iteritems():\n",
    "        if(genre==specific_genre):\n",
    "            return(key) "
   ]
  },
  {
   "cell_type": "code",
   "execution_count": 54,
   "id": "f9009911",
   "metadata": {
    "scrolled": true
   },
   "outputs": [],
   "source": [
    "# find all the outliers of genre feature, i.e the genres that belongs to less than 3 songs\n",
    "list=[]\n",
    "for i in range (0,2):\n",
    "    for genre,count in songs_df['genre'].value_counts().iteritems():\n",
    "        pos=find_position(genre)\n",
    "        if bool(count<3):\n",
    "    #         list.append(genre)\n",
    "              list.append(pos)\n"
   ]
  },
  {
   "cell_type": "code",
   "execution_count": null,
   "id": "703deebd",
   "metadata": {},
   "outputs": [],
   "source": []
  },
  {
   "cell_type": "code",
   "execution_count": 55,
   "id": "640939e6",
   "metadata": {
    "scrolled": true
   },
   "outputs": [
    {
     "data": {
      "text/plain": [
       "[595, 812, 778, 487, 815, 508, 595, 812, 778, 487, 815, 508]"
      ]
     },
     "execution_count": 55,
     "metadata": {},
     "output_type": "execute_result"
    }
   ],
   "source": [
    "list"
   ]
  },
  {
   "cell_type": "code",
   "execution_count": 56,
   "id": "82f3cf63",
   "metadata": {},
   "outputs": [],
   "source": [
    "# songs_df=songs_df.drop(labels=list,axis=1)"
   ]
  },
  {
   "cell_type": "code",
   "execution_count": 58,
   "id": "2638aded",
   "metadata": {},
   "outputs": [
    {
     "data": {
      "text/plain": [
       "'edm'"
      ]
     },
     "execution_count": 58,
     "metadata": {},
     "output_type": "execute_result"
    }
   ],
   "source": [
    "songs_df['genre'][508]"
   ]
  },
  {
   "cell_type": "code",
   "execution_count": 48,
   "id": "644f3566",
   "metadata": {},
   "outputs": [],
   "source": [
    "# songs_df['genre'].drop(labels=0)"
   ]
  },
  {
   "cell_type": "code",
   "execution_count": 59,
   "id": "1200d3fe",
   "metadata": {},
   "outputs": [],
   "source": [
    "songs_df['genre']=songs_df['genre'].drop(labels=list)"
   ]
  },
  {
   "cell_type": "code",
   "execution_count": 60,
   "id": "ec1a9ef3",
   "metadata": {},
   "outputs": [
    {
     "data": {
      "text/plain": [
       "pop                 445\n",
       "hip hop             117\n",
       "country              84\n",
       "rap                  78\n",
       "rock                 35\n",
       "contemporary r&b     17\n",
       "soul                 12\n",
       "latin                 9\n",
       "dance                 7\n",
       "trance                6\n",
       "brostep               5\n",
       "black americana       5\n",
       "alt z                 5\n",
       "complextro            4\n",
       "permanent wave        4\n",
       "chicago bop           3\n",
       "emo                   3\n",
       "Name: genre, dtype: int64"
      ]
     },
     "execution_count": 60,
     "metadata": {},
     "output_type": "execute_result"
    }
   ],
   "source": [
    "songs_df['genre'].value_counts()"
   ]
  },
  {
   "cell_type": "code",
   "execution_count": 61,
   "id": "1d15755b",
   "metadata": {},
   "outputs": [],
   "source": [
    "# now , we need do drop all the rows with the null values. this accured because we deleted the outliers in the genres\n",
    "songs_df=songs_df.dropna()"
   ]
  },
  {
   "cell_type": "code",
   "execution_count": 62,
   "id": "7fb59a34",
   "metadata": {},
   "outputs": [
    {
     "data": {
      "text/html": [
       "<div>\n",
       "<style scoped>\n",
       "    .dataframe tbody tr th:only-of-type {\n",
       "        vertical-align: middle;\n",
       "    }\n",
       "\n",
       "    .dataframe tbody tr th {\n",
       "        vertical-align: top;\n",
       "    }\n",
       "\n",
       "    .dataframe thead th {\n",
       "        text-align: right;\n",
       "    }\n",
       "</style>\n",
       "<table border=\"1\" class=\"dataframe\">\n",
       "  <thead>\n",
       "    <tr style=\"text-align: right;\">\n",
       "      <th></th>\n",
       "      <th>danceability</th>\n",
       "      <th>energy</th>\n",
       "      <th>key</th>\n",
       "      <th>loudness</th>\n",
       "      <th>mode</th>\n",
       "      <th>speechiness</th>\n",
       "      <th>acousticness</th>\n",
       "      <th>instrumentalness</th>\n",
       "      <th>liveness</th>\n",
       "      <th>valence</th>\n",
       "      <th>...</th>\n",
       "      <th>type</th>\n",
       "      <th>id</th>\n",
       "      <th>uri</th>\n",
       "      <th>track_href</th>\n",
       "      <th>analysis_url</th>\n",
       "      <th>duration_ms</th>\n",
       "      <th>time_signature</th>\n",
       "      <th>genre</th>\n",
       "      <th>popularity</th>\n",
       "      <th>rank</th>\n",
       "    </tr>\n",
       "  </thead>\n",
       "  <tbody>\n",
       "    <tr>\n",
       "      <th>0</th>\n",
       "      <td>0.878</td>\n",
       "      <td>0.619</td>\n",
       "      <td>6</td>\n",
       "      <td>-5.560</td>\n",
       "      <td>1</td>\n",
       "      <td>0.1020</td>\n",
       "      <td>0.053300</td>\n",
       "      <td>0.000000</td>\n",
       "      <td>0.1130</td>\n",
       "      <td>0.639</td>\n",
       "      <td>...</td>\n",
       "      <td>audio_features</td>\n",
       "      <td>2YpeDb67231RjR0MgVLzsG</td>\n",
       "      <td>spotify:track:2YpeDb67231RjR0MgVLzsG</td>\n",
       "      <td>https://api.spotify.com/v1/tracks/2YpeDb67231R...</td>\n",
       "      <td>https://api.spotify.com/v1/audio-analysis/2Ype...</td>\n",
       "      <td>157067</td>\n",
       "      <td>4</td>\n",
       "      <td>hip hop</td>\n",
       "      <td>90</td>\n",
       "      <td>1</td>\n",
       "    </tr>\n",
       "    <tr>\n",
       "      <th>1</th>\n",
       "      <td>0.760</td>\n",
       "      <td>0.479</td>\n",
       "      <td>2</td>\n",
       "      <td>-5.574</td>\n",
       "      <td>1</td>\n",
       "      <td>0.0466</td>\n",
       "      <td>0.556000</td>\n",
       "      <td>0.000000</td>\n",
       "      <td>0.0703</td>\n",
       "      <td>0.913</td>\n",
       "      <td>...</td>\n",
       "      <td>audio_features</td>\n",
       "      <td>3KkXRkHbMCARz0aVfEt68P</td>\n",
       "      <td>spotify:track:3KkXRkHbMCARz0aVfEt68P</td>\n",
       "      <td>https://api.spotify.com/v1/tracks/3KkXRkHbMCAR...</td>\n",
       "      <td>https://api.spotify.com/v1/audio-analysis/3KkX...</td>\n",
       "      <td>158040</td>\n",
       "      <td>4</td>\n",
       "      <td>rap</td>\n",
       "      <td>91</td>\n",
       "      <td>2</td>\n",
       "    </tr>\n",
       "    <tr>\n",
       "      <th>2</th>\n",
       "      <td>0.752</td>\n",
       "      <td>0.488</td>\n",
       "      <td>6</td>\n",
       "      <td>-7.050</td>\n",
       "      <td>1</td>\n",
       "      <td>0.0705</td>\n",
       "      <td>0.297000</td>\n",
       "      <td>0.000009</td>\n",
       "      <td>0.0936</td>\n",
       "      <td>0.533</td>\n",
       "      <td>...</td>\n",
       "      <td>audio_features</td>\n",
       "      <td>5p7ujcrUXASCNwRaWNHR1C</td>\n",
       "      <td>spotify:track:5p7ujcrUXASCNwRaWNHR1C</td>\n",
       "      <td>https://api.spotify.com/v1/tracks/5p7ujcrUXASC...</td>\n",
       "      <td>https://api.spotify.com/v1/audio-analysis/5p7u...</td>\n",
       "      <td>201661</td>\n",
       "      <td>4</td>\n",
       "      <td>pop</td>\n",
       "      <td>87</td>\n",
       "      <td>3</td>\n",
       "    </tr>\n",
       "    <tr>\n",
       "      <th>3</th>\n",
       "      <td>0.701</td>\n",
       "      <td>0.425</td>\n",
       "      <td>7</td>\n",
       "      <td>-10.965</td>\n",
       "      <td>1</td>\n",
       "      <td>0.3750</td>\n",
       "      <td>0.328000</td>\n",
       "      <td>0.130000</td>\n",
       "      <td>0.1000</td>\n",
       "      <td>0.562</td>\n",
       "      <td>...</td>\n",
       "      <td>audio_features</td>\n",
       "      <td>2Fxmhks0bxGSBdJ92vM42m</td>\n",
       "      <td>spotify:track:2Fxmhks0bxGSBdJ92vM42m</td>\n",
       "      <td>https://api.spotify.com/v1/tracks/2Fxmhks0bxGS...</td>\n",
       "      <td>https://api.spotify.com/v1/audio-analysis/2Fxm...</td>\n",
       "      <td>194088</td>\n",
       "      <td>4</td>\n",
       "      <td>pop</td>\n",
       "      <td>92</td>\n",
       "      <td>4</td>\n",
       "    </tr>\n",
       "    <tr>\n",
       "      <th>4</th>\n",
       "      <td>0.829</td>\n",
       "      <td>0.539</td>\n",
       "      <td>11</td>\n",
       "      <td>-7.359</td>\n",
       "      <td>0</td>\n",
       "      <td>0.2080</td>\n",
       "      <td>0.136000</td>\n",
       "      <td>0.000002</td>\n",
       "      <td>0.1030</td>\n",
       "      <td>0.388</td>\n",
       "      <td>...</td>\n",
       "      <td>audio_features</td>\n",
       "      <td>7xQAfvXzm3AkraOtGPWIZg</td>\n",
       "      <td>spotify:track:7xQAfvXzm3AkraOtGPWIZg</td>\n",
       "      <td>https://api.spotify.com/v1/tracks/7xQAfvXzm3Ak...</td>\n",
       "      <td>https://api.spotify.com/v1/audio-analysis/7xQA...</td>\n",
       "      <td>149547</td>\n",
       "      <td>4</td>\n",
       "      <td>rap</td>\n",
       "      <td>91</td>\n",
       "      <td>5</td>\n",
       "    </tr>\n",
       "    <tr>\n",
       "      <th>...</th>\n",
       "      <td>...</td>\n",
       "      <td>...</td>\n",
       "      <td>...</td>\n",
       "      <td>...</td>\n",
       "      <td>...</td>\n",
       "      <td>...</td>\n",
       "      <td>...</td>\n",
       "      <td>...</td>\n",
       "      <td>...</td>\n",
       "      <td>...</td>\n",
       "      <td>...</td>\n",
       "      <td>...</td>\n",
       "      <td>...</td>\n",
       "      <td>...</td>\n",
       "      <td>...</td>\n",
       "      <td>...</td>\n",
       "      <td>...</td>\n",
       "      <td>...</td>\n",
       "      <td>...</td>\n",
       "      <td>...</td>\n",
       "      <td>...</td>\n",
       "    </tr>\n",
       "    <tr>\n",
       "      <th>855</th>\n",
       "      <td>0.485</td>\n",
       "      <td>0.701</td>\n",
       "      <td>8</td>\n",
       "      <td>-3.807</td>\n",
       "      <td>1</td>\n",
       "      <td>0.0288</td>\n",
       "      <td>0.039000</td>\n",
       "      <td>0.000000</td>\n",
       "      <td>0.0977</td>\n",
       "      <td>0.613</td>\n",
       "      <td>...</td>\n",
       "      <td>audio_features</td>\n",
       "      <td>2TAcwD5KcV9uY3O1tLGV15</td>\n",
       "      <td>spotify:track:2TAcwD5KcV9uY3O1tLGV15</td>\n",
       "      <td>https://api.spotify.com/v1/tracks/2TAcwD5KcV9u...</td>\n",
       "      <td>https://api.spotify.com/v1/audio-analysis/2TAc...</td>\n",
       "      <td>184920</td>\n",
       "      <td>4</td>\n",
       "      <td>country</td>\n",
       "      <td>53</td>\n",
       "      <td>96</td>\n",
       "    </tr>\n",
       "    <tr>\n",
       "      <th>856</th>\n",
       "      <td>0.482</td>\n",
       "      <td>0.833</td>\n",
       "      <td>5</td>\n",
       "      <td>-5.611</td>\n",
       "      <td>1</td>\n",
       "      <td>0.0449</td>\n",
       "      <td>0.000346</td>\n",
       "      <td>0.000000</td>\n",
       "      <td>0.3650</td>\n",
       "      <td>0.740</td>\n",
       "      <td>...</td>\n",
       "      <td>audio_features</td>\n",
       "      <td>1fBl642IhJOE5U319Gy2Go</td>\n",
       "      <td>spotify:track:1fBl642IhJOE5U319Gy2Go</td>\n",
       "      <td>https://api.spotify.com/v1/tracks/1fBl642IhJOE...</td>\n",
       "      <td>https://api.spotify.com/v1/audio-analysis/1fBl...</td>\n",
       "      <td>212293</td>\n",
       "      <td>4</td>\n",
       "      <td>rock</td>\n",
       "      <td>72</td>\n",
       "      <td>97</td>\n",
       "    </tr>\n",
       "    <tr>\n",
       "      <th>857</th>\n",
       "      <td>0.691</td>\n",
       "      <td>0.454</td>\n",
       "      <td>6</td>\n",
       "      <td>-9.130</td>\n",
       "      <td>1</td>\n",
       "      <td>0.0256</td>\n",
       "      <td>0.437000</td>\n",
       "      <td>0.002270</td>\n",
       "      <td>0.0783</td>\n",
       "      <td>0.350</td>\n",
       "      <td>...</td>\n",
       "      <td>audio_features</td>\n",
       "      <td>1t2hJFgJyUPD2crOafMUEk</td>\n",
       "      <td>spotify:track:1t2hJFgJyUPD2crOafMUEk</td>\n",
       "      <td>https://api.spotify.com/v1/tracks/1t2hJFgJyUPD...</td>\n",
       "      <td>https://api.spotify.com/v1/audio-analysis/1t2h...</td>\n",
       "      <td>242840</td>\n",
       "      <td>4</td>\n",
       "      <td>country</td>\n",
       "      <td>74</td>\n",
       "      <td>98</td>\n",
       "    </tr>\n",
       "    <tr>\n",
       "      <th>858</th>\n",
       "      <td>0.667</td>\n",
       "      <td>0.381</td>\n",
       "      <td>3</td>\n",
       "      <td>-7.494</td>\n",
       "      <td>1</td>\n",
       "      <td>0.0294</td>\n",
       "      <td>0.455000</td>\n",
       "      <td>0.000000</td>\n",
       "      <td>0.1160</td>\n",
       "      <td>0.199</td>\n",
       "      <td>...</td>\n",
       "      <td>audio_features</td>\n",
       "      <td>3U8dHeggJ8IBe0UCb1gbyB</td>\n",
       "      <td>spotify:track:3U8dHeggJ8IBe0UCb1gbyB</td>\n",
       "      <td>https://api.spotify.com/v1/tracks/3U8dHeggJ8IB...</td>\n",
       "      <td>https://api.spotify.com/v1/audio-analysis/3U8d...</td>\n",
       "      <td>273893</td>\n",
       "      <td>4</td>\n",
       "      <td>country</td>\n",
       "      <td>75</td>\n",
       "      <td>99</td>\n",
       "    </tr>\n",
       "    <tr>\n",
       "      <th>859</th>\n",
       "      <td>0.387</td>\n",
       "      <td>0.773</td>\n",
       "      <td>8</td>\n",
       "      <td>-5.685</td>\n",
       "      <td>1</td>\n",
       "      <td>0.1700</td>\n",
       "      <td>0.098000</td>\n",
       "      <td>0.000000</td>\n",
       "      <td>0.2090</td>\n",
       "      <td>0.368</td>\n",
       "      <td>...</td>\n",
       "      <td>audio_features</td>\n",
       "      <td>70tFuqBcduJv15bEnOPRTh</td>\n",
       "      <td>spotify:track:70tFuqBcduJv15bEnOPRTh</td>\n",
       "      <td>https://api.spotify.com/v1/tracks/70tFuqBcduJv...</td>\n",
       "      <td>https://api.spotify.com/v1/audio-analysis/70tF...</td>\n",
       "      <td>254120</td>\n",
       "      <td>4</td>\n",
       "      <td>hip hop</td>\n",
       "      <td>84</td>\n",
       "      <td>100</td>\n",
       "    </tr>\n",
       "  </tbody>\n",
       "</table>\n",
       "<p>839 rows × 21 columns</p>\n",
       "</div>"
      ],
      "text/plain": [
       "     danceability  energy  key  loudness  mode  speechiness  acousticness  \\\n",
       "0           0.878   0.619    6    -5.560     1       0.1020      0.053300   \n",
       "1           0.760   0.479    2    -5.574     1       0.0466      0.556000   \n",
       "2           0.752   0.488    6    -7.050     1       0.0705      0.297000   \n",
       "3           0.701   0.425    7   -10.965     1       0.3750      0.328000   \n",
       "4           0.829   0.539   11    -7.359     0       0.2080      0.136000   \n",
       "..            ...     ...  ...       ...   ...          ...           ...   \n",
       "855         0.485   0.701    8    -3.807     1       0.0288      0.039000   \n",
       "856         0.482   0.833    5    -5.611     1       0.0449      0.000346   \n",
       "857         0.691   0.454    6    -9.130     1       0.0256      0.437000   \n",
       "858         0.667   0.381    3    -7.494     1       0.0294      0.455000   \n",
       "859         0.387   0.773    8    -5.685     1       0.1700      0.098000   \n",
       "\n",
       "     instrumentalness  liveness  valence  ...            type  \\\n",
       "0            0.000000    0.1130    0.639  ...  audio_features   \n",
       "1            0.000000    0.0703    0.913  ...  audio_features   \n",
       "2            0.000009    0.0936    0.533  ...  audio_features   \n",
       "3            0.130000    0.1000    0.562  ...  audio_features   \n",
       "4            0.000002    0.1030    0.388  ...  audio_features   \n",
       "..                ...       ...      ...  ...             ...   \n",
       "855          0.000000    0.0977    0.613  ...  audio_features   \n",
       "856          0.000000    0.3650    0.740  ...  audio_features   \n",
       "857          0.002270    0.0783    0.350  ...  audio_features   \n",
       "858          0.000000    0.1160    0.199  ...  audio_features   \n",
       "859          0.000000    0.2090    0.368  ...  audio_features   \n",
       "\n",
       "                         id                                   uri  \\\n",
       "0    2YpeDb67231RjR0MgVLzsG  spotify:track:2YpeDb67231RjR0MgVLzsG   \n",
       "1    3KkXRkHbMCARz0aVfEt68P  spotify:track:3KkXRkHbMCARz0aVfEt68P   \n",
       "2    5p7ujcrUXASCNwRaWNHR1C  spotify:track:5p7ujcrUXASCNwRaWNHR1C   \n",
       "3    2Fxmhks0bxGSBdJ92vM42m  spotify:track:2Fxmhks0bxGSBdJ92vM42m   \n",
       "4    7xQAfvXzm3AkraOtGPWIZg  spotify:track:7xQAfvXzm3AkraOtGPWIZg   \n",
       "..                      ...                                   ...   \n",
       "855  2TAcwD5KcV9uY3O1tLGV15  spotify:track:2TAcwD5KcV9uY3O1tLGV15   \n",
       "856  1fBl642IhJOE5U319Gy2Go  spotify:track:1fBl642IhJOE5U319Gy2Go   \n",
       "857  1t2hJFgJyUPD2crOafMUEk  spotify:track:1t2hJFgJyUPD2crOafMUEk   \n",
       "858  3U8dHeggJ8IBe0UCb1gbyB  spotify:track:3U8dHeggJ8IBe0UCb1gbyB   \n",
       "859  70tFuqBcduJv15bEnOPRTh  spotify:track:70tFuqBcduJv15bEnOPRTh   \n",
       "\n",
       "                                            track_href  \\\n",
       "0    https://api.spotify.com/v1/tracks/2YpeDb67231R...   \n",
       "1    https://api.spotify.com/v1/tracks/3KkXRkHbMCAR...   \n",
       "2    https://api.spotify.com/v1/tracks/5p7ujcrUXASC...   \n",
       "3    https://api.spotify.com/v1/tracks/2Fxmhks0bxGS...   \n",
       "4    https://api.spotify.com/v1/tracks/7xQAfvXzm3Ak...   \n",
       "..                                                 ...   \n",
       "855  https://api.spotify.com/v1/tracks/2TAcwD5KcV9u...   \n",
       "856  https://api.spotify.com/v1/tracks/1fBl642IhJOE...   \n",
       "857  https://api.spotify.com/v1/tracks/1t2hJFgJyUPD...   \n",
       "858  https://api.spotify.com/v1/tracks/3U8dHeggJ8IB...   \n",
       "859  https://api.spotify.com/v1/tracks/70tFuqBcduJv...   \n",
       "\n",
       "                                          analysis_url duration_ms  \\\n",
       "0    https://api.spotify.com/v1/audio-analysis/2Ype...      157067   \n",
       "1    https://api.spotify.com/v1/audio-analysis/3KkX...      158040   \n",
       "2    https://api.spotify.com/v1/audio-analysis/5p7u...      201661   \n",
       "3    https://api.spotify.com/v1/audio-analysis/2Fxm...      194088   \n",
       "4    https://api.spotify.com/v1/audio-analysis/7xQA...      149547   \n",
       "..                                                 ...         ...   \n",
       "855  https://api.spotify.com/v1/audio-analysis/2TAc...      184920   \n",
       "856  https://api.spotify.com/v1/audio-analysis/1fBl...      212293   \n",
       "857  https://api.spotify.com/v1/audio-analysis/1t2h...      242840   \n",
       "858  https://api.spotify.com/v1/audio-analysis/3U8d...      273893   \n",
       "859  https://api.spotify.com/v1/audio-analysis/70tF...      254120   \n",
       "\n",
       "     time_signature    genre popularity  rank  \n",
       "0                 4  hip hop         90     1  \n",
       "1                 4      rap         91     2  \n",
       "2                 4      pop         87     3  \n",
       "3                 4      pop         92     4  \n",
       "4                 4      rap         91     5  \n",
       "..              ...      ...        ...   ...  \n",
       "855               4  country         53    96  \n",
       "856               4     rock         72    97  \n",
       "857               4  country         74    98  \n",
       "858               4  country         75    99  \n",
       "859               4  hip hop         84   100  \n",
       "\n",
       "[839 rows x 21 columns]"
      ]
     },
     "execution_count": 62,
     "metadata": {},
     "output_type": "execute_result"
    }
   ],
   "source": [
    "songs_df"
   ]
  },
  {
   "cell_type": "markdown",
   "id": "ddece2a0",
   "metadata": {},
   "source": [
    "# dropping unnecessary features"
   ]
  },
  {
   "cell_type": "code",
   "execution_count": 63,
   "id": "b468ef61",
   "metadata": {},
   "outputs": [
    {
     "data": {
      "text/plain": [
       "Index(['danceability', 'energy', 'key', 'loudness', 'mode', 'speechiness',\n",
       "       'acousticness', 'instrumentalness', 'liveness', 'valence', 'tempo',\n",
       "       'type', 'id', 'uri', 'track_href', 'analysis_url', 'duration_ms',\n",
       "       'time_signature', 'genre', 'popularity', 'rank'],\n",
       "      dtype='object')"
      ]
     },
     "execution_count": 63,
     "metadata": {},
     "output_type": "execute_result"
    }
   ],
   "source": [
    "songs_df.columns"
   ]
  },
  {
   "cell_type": "code",
   "execution_count": 64,
   "id": "7907f6db",
   "metadata": {},
   "outputs": [
    {
     "data": {
      "text/plain": [
       "0      audio_features\n",
       "1      audio_features\n",
       "2      audio_features\n",
       "3      audio_features\n",
       "4      audio_features\n",
       "            ...      \n",
       "855    audio_features\n",
       "856    audio_features\n",
       "857    audio_features\n",
       "858    audio_features\n",
       "859    audio_features\n",
       "Name: type, Length: 839, dtype: object"
      ]
     },
     "execution_count": 64,
     "metadata": {},
     "output_type": "execute_result"
    }
   ],
   "source": [
    "#type has  only one value -  audio features , so we will drop it\n",
    "songs_df['type']"
   ]
  },
  {
   "cell_type": "code",
   "execution_count": 65,
   "id": "2fa7d0a6",
   "metadata": {},
   "outputs": [],
   "source": [
    "#'id', 'uri', 'track_href', 'analysis_url' aren't linked to the song genre at all, so we can drop them "
   ]
  },
  {
   "cell_type": "code",
   "execution_count": 66,
   "id": "3ddb77f3",
   "metadata": {
    "scrolled": true
   },
   "outputs": [],
   "source": [
    "songs_df=songs_df.drop(columns=['type','id', 'uri','track_href','analysis_url'])"
   ]
  },
  {
   "cell_type": "markdown",
   "id": "75b494e7",
   "metadata": {},
   "source": [
    "# Dealing with Catagorials"
   ]
  },
  {
   "cell_type": "code",
   "execution_count": 67,
   "id": "3151f029",
   "metadata": {},
   "outputs": [],
   "source": [
    "#save a copy before we changed the catagorials\n",
    "songs_df_copy=songs_df.copy()"
   ]
  },
  {
   "cell_type": "code",
   "execution_count": 68,
   "id": "33bf45f9",
   "metadata": {},
   "outputs": [
    {
     "data": {
      "text/plain": [
       "Index(['danceability', 'energy', 'key', 'loudness', 'mode', 'speechiness',\n",
       "       'acousticness', 'instrumentalness', 'liveness', 'valence', 'tempo',\n",
       "       'duration_ms', 'time_signature', 'genre', 'popularity', 'rank'],\n",
       "      dtype='object')"
      ]
     },
     "execution_count": 68,
     "metadata": {},
     "output_type": "execute_result"
    }
   ],
   "source": [
    "songs_df.columns"
   ]
  },
  {
   "cell_type": "markdown",
   "id": "d7bf0ec5",
   "metadata": {},
   "source": [
    "the only Catagorial feature is out target variable - genre"
   ]
  },
  {
   "cell_type": "markdown",
   "id": "3bd50336",
   "metadata": {},
   "source": [
    "since this is  Nominal , i.e there is no particular order between different values of genres and also this this is not a binary (yes/no) column, we will use getDummies"
   ]
  },
  {
   "cell_type": "code",
   "execution_count": 69,
   "id": "7c169b60",
   "metadata": {},
   "outputs": [
    {
     "data": {
      "text/plain": [
       "0      hip hop\n",
       "1          rap\n",
       "2          pop\n",
       "3          pop\n",
       "4          rap\n",
       "        ...   \n",
       "855    country\n",
       "856       rock\n",
       "857    country\n",
       "858    country\n",
       "859    hip hop\n",
       "Name: genre, Length: 839, dtype: object"
      ]
     },
     "execution_count": 69,
     "metadata": {},
     "output_type": "execute_result"
    }
   ],
   "source": [
    "# from sklearn.preprocessing import OneHotEncoder\n",
    "# ohe = OneHotEncoder(sparse=False)\n",
    "# ohe.fit_transform(songs_df[['genre']])\n",
    "\n",
    "songs_df['genre']"
   ]
  },
  {
   "cell_type": "code",
   "execution_count": 70,
   "id": "def38e62",
   "metadata": {},
   "outputs": [
    {
     "data": {
      "text/html": [
       "<div>\n",
       "<style scoped>\n",
       "    .dataframe tbody tr th:only-of-type {\n",
       "        vertical-align: middle;\n",
       "    }\n",
       "\n",
       "    .dataframe tbody tr th {\n",
       "        vertical-align: top;\n",
       "    }\n",
       "\n",
       "    .dataframe thead th {\n",
       "        text-align: right;\n",
       "    }\n",
       "</style>\n",
       "<table border=\"1\" class=\"dataframe\">\n",
       "  <thead>\n",
       "    <tr style=\"text-align: right;\">\n",
       "      <th></th>\n",
       "      <th>danceability</th>\n",
       "      <th>energy</th>\n",
       "      <th>key</th>\n",
       "      <th>loudness</th>\n",
       "      <th>mode</th>\n",
       "      <th>speechiness</th>\n",
       "      <th>acousticness</th>\n",
       "      <th>instrumentalness</th>\n",
       "      <th>liveness</th>\n",
       "      <th>valence</th>\n",
       "      <th>...</th>\n",
       "      <th>dance</th>\n",
       "      <th>emo</th>\n",
       "      <th>hip hop</th>\n",
       "      <th>latin</th>\n",
       "      <th>permanent wave</th>\n",
       "      <th>pop</th>\n",
       "      <th>rap</th>\n",
       "      <th>rock</th>\n",
       "      <th>soul</th>\n",
       "      <th>trance</th>\n",
       "    </tr>\n",
       "  </thead>\n",
       "  <tbody>\n",
       "    <tr>\n",
       "      <th>0</th>\n",
       "      <td>0.878</td>\n",
       "      <td>0.619</td>\n",
       "      <td>6</td>\n",
       "      <td>-5.560</td>\n",
       "      <td>1</td>\n",
       "      <td>0.1020</td>\n",
       "      <td>0.053300</td>\n",
       "      <td>0.000000</td>\n",
       "      <td>0.1130</td>\n",
       "      <td>0.639</td>\n",
       "      <td>...</td>\n",
       "      <td>0</td>\n",
       "      <td>0</td>\n",
       "      <td>1</td>\n",
       "      <td>0</td>\n",
       "      <td>0</td>\n",
       "      <td>0</td>\n",
       "      <td>0</td>\n",
       "      <td>0</td>\n",
       "      <td>0</td>\n",
       "      <td>0</td>\n",
       "    </tr>\n",
       "    <tr>\n",
       "      <th>1</th>\n",
       "      <td>0.760</td>\n",
       "      <td>0.479</td>\n",
       "      <td>2</td>\n",
       "      <td>-5.574</td>\n",
       "      <td>1</td>\n",
       "      <td>0.0466</td>\n",
       "      <td>0.556000</td>\n",
       "      <td>0.000000</td>\n",
       "      <td>0.0703</td>\n",
       "      <td>0.913</td>\n",
       "      <td>...</td>\n",
       "      <td>0</td>\n",
       "      <td>0</td>\n",
       "      <td>0</td>\n",
       "      <td>0</td>\n",
       "      <td>0</td>\n",
       "      <td>0</td>\n",
       "      <td>1</td>\n",
       "      <td>0</td>\n",
       "      <td>0</td>\n",
       "      <td>0</td>\n",
       "    </tr>\n",
       "    <tr>\n",
       "      <th>2</th>\n",
       "      <td>0.752</td>\n",
       "      <td>0.488</td>\n",
       "      <td>6</td>\n",
       "      <td>-7.050</td>\n",
       "      <td>1</td>\n",
       "      <td>0.0705</td>\n",
       "      <td>0.297000</td>\n",
       "      <td>0.000009</td>\n",
       "      <td>0.0936</td>\n",
       "      <td>0.533</td>\n",
       "      <td>...</td>\n",
       "      <td>0</td>\n",
       "      <td>0</td>\n",
       "      <td>0</td>\n",
       "      <td>0</td>\n",
       "      <td>0</td>\n",
       "      <td>1</td>\n",
       "      <td>0</td>\n",
       "      <td>0</td>\n",
       "      <td>0</td>\n",
       "      <td>0</td>\n",
       "    </tr>\n",
       "    <tr>\n",
       "      <th>3</th>\n",
       "      <td>0.701</td>\n",
       "      <td>0.425</td>\n",
       "      <td>7</td>\n",
       "      <td>-10.965</td>\n",
       "      <td>1</td>\n",
       "      <td>0.3750</td>\n",
       "      <td>0.328000</td>\n",
       "      <td>0.130000</td>\n",
       "      <td>0.1000</td>\n",
       "      <td>0.562</td>\n",
       "      <td>...</td>\n",
       "      <td>0</td>\n",
       "      <td>0</td>\n",
       "      <td>0</td>\n",
       "      <td>0</td>\n",
       "      <td>0</td>\n",
       "      <td>1</td>\n",
       "      <td>0</td>\n",
       "      <td>0</td>\n",
       "      <td>0</td>\n",
       "      <td>0</td>\n",
       "    </tr>\n",
       "    <tr>\n",
       "      <th>4</th>\n",
       "      <td>0.829</td>\n",
       "      <td>0.539</td>\n",
       "      <td>11</td>\n",
       "      <td>-7.359</td>\n",
       "      <td>0</td>\n",
       "      <td>0.2080</td>\n",
       "      <td>0.136000</td>\n",
       "      <td>0.000002</td>\n",
       "      <td>0.1030</td>\n",
       "      <td>0.388</td>\n",
       "      <td>...</td>\n",
       "      <td>0</td>\n",
       "      <td>0</td>\n",
       "      <td>0</td>\n",
       "      <td>0</td>\n",
       "      <td>0</td>\n",
       "      <td>0</td>\n",
       "      <td>1</td>\n",
       "      <td>0</td>\n",
       "      <td>0</td>\n",
       "      <td>0</td>\n",
       "    </tr>\n",
       "    <tr>\n",
       "      <th>...</th>\n",
       "      <td>...</td>\n",
       "      <td>...</td>\n",
       "      <td>...</td>\n",
       "      <td>...</td>\n",
       "      <td>...</td>\n",
       "      <td>...</td>\n",
       "      <td>...</td>\n",
       "      <td>...</td>\n",
       "      <td>...</td>\n",
       "      <td>...</td>\n",
       "      <td>...</td>\n",
       "      <td>...</td>\n",
       "      <td>...</td>\n",
       "      <td>...</td>\n",
       "      <td>...</td>\n",
       "      <td>...</td>\n",
       "      <td>...</td>\n",
       "      <td>...</td>\n",
       "      <td>...</td>\n",
       "      <td>...</td>\n",
       "      <td>...</td>\n",
       "    </tr>\n",
       "    <tr>\n",
       "      <th>855</th>\n",
       "      <td>0.485</td>\n",
       "      <td>0.701</td>\n",
       "      <td>8</td>\n",
       "      <td>-3.807</td>\n",
       "      <td>1</td>\n",
       "      <td>0.0288</td>\n",
       "      <td>0.039000</td>\n",
       "      <td>0.000000</td>\n",
       "      <td>0.0977</td>\n",
       "      <td>0.613</td>\n",
       "      <td>...</td>\n",
       "      <td>0</td>\n",
       "      <td>0</td>\n",
       "      <td>0</td>\n",
       "      <td>0</td>\n",
       "      <td>0</td>\n",
       "      <td>0</td>\n",
       "      <td>0</td>\n",
       "      <td>0</td>\n",
       "      <td>0</td>\n",
       "      <td>0</td>\n",
       "    </tr>\n",
       "    <tr>\n",
       "      <th>856</th>\n",
       "      <td>0.482</td>\n",
       "      <td>0.833</td>\n",
       "      <td>5</td>\n",
       "      <td>-5.611</td>\n",
       "      <td>1</td>\n",
       "      <td>0.0449</td>\n",
       "      <td>0.000346</td>\n",
       "      <td>0.000000</td>\n",
       "      <td>0.3650</td>\n",
       "      <td>0.740</td>\n",
       "      <td>...</td>\n",
       "      <td>0</td>\n",
       "      <td>0</td>\n",
       "      <td>0</td>\n",
       "      <td>0</td>\n",
       "      <td>0</td>\n",
       "      <td>0</td>\n",
       "      <td>0</td>\n",
       "      <td>1</td>\n",
       "      <td>0</td>\n",
       "      <td>0</td>\n",
       "    </tr>\n",
       "    <tr>\n",
       "      <th>857</th>\n",
       "      <td>0.691</td>\n",
       "      <td>0.454</td>\n",
       "      <td>6</td>\n",
       "      <td>-9.130</td>\n",
       "      <td>1</td>\n",
       "      <td>0.0256</td>\n",
       "      <td>0.437000</td>\n",
       "      <td>0.002270</td>\n",
       "      <td>0.0783</td>\n",
       "      <td>0.350</td>\n",
       "      <td>...</td>\n",
       "      <td>0</td>\n",
       "      <td>0</td>\n",
       "      <td>0</td>\n",
       "      <td>0</td>\n",
       "      <td>0</td>\n",
       "      <td>0</td>\n",
       "      <td>0</td>\n",
       "      <td>0</td>\n",
       "      <td>0</td>\n",
       "      <td>0</td>\n",
       "    </tr>\n",
       "    <tr>\n",
       "      <th>858</th>\n",
       "      <td>0.667</td>\n",
       "      <td>0.381</td>\n",
       "      <td>3</td>\n",
       "      <td>-7.494</td>\n",
       "      <td>1</td>\n",
       "      <td>0.0294</td>\n",
       "      <td>0.455000</td>\n",
       "      <td>0.000000</td>\n",
       "      <td>0.1160</td>\n",
       "      <td>0.199</td>\n",
       "      <td>...</td>\n",
       "      <td>0</td>\n",
       "      <td>0</td>\n",
       "      <td>0</td>\n",
       "      <td>0</td>\n",
       "      <td>0</td>\n",
       "      <td>0</td>\n",
       "      <td>0</td>\n",
       "      <td>0</td>\n",
       "      <td>0</td>\n",
       "      <td>0</td>\n",
       "    </tr>\n",
       "    <tr>\n",
       "      <th>859</th>\n",
       "      <td>0.387</td>\n",
       "      <td>0.773</td>\n",
       "      <td>8</td>\n",
       "      <td>-5.685</td>\n",
       "      <td>1</td>\n",
       "      <td>0.1700</td>\n",
       "      <td>0.098000</td>\n",
       "      <td>0.000000</td>\n",
       "      <td>0.2090</td>\n",
       "      <td>0.368</td>\n",
       "      <td>...</td>\n",
       "      <td>0</td>\n",
       "      <td>0</td>\n",
       "      <td>1</td>\n",
       "      <td>0</td>\n",
       "      <td>0</td>\n",
       "      <td>0</td>\n",
       "      <td>0</td>\n",
       "      <td>0</td>\n",
       "      <td>0</td>\n",
       "      <td>0</td>\n",
       "    </tr>\n",
       "  </tbody>\n",
       "</table>\n",
       "<p>839 rows × 33 columns</p>\n",
       "</div>"
      ],
      "text/plain": [
       "     danceability  energy  key  loudness  mode  speechiness  acousticness  \\\n",
       "0           0.878   0.619    6    -5.560     1       0.1020      0.053300   \n",
       "1           0.760   0.479    2    -5.574     1       0.0466      0.556000   \n",
       "2           0.752   0.488    6    -7.050     1       0.0705      0.297000   \n",
       "3           0.701   0.425    7   -10.965     1       0.3750      0.328000   \n",
       "4           0.829   0.539   11    -7.359     0       0.2080      0.136000   \n",
       "..            ...     ...  ...       ...   ...          ...           ...   \n",
       "855         0.485   0.701    8    -3.807     1       0.0288      0.039000   \n",
       "856         0.482   0.833    5    -5.611     1       0.0449      0.000346   \n",
       "857         0.691   0.454    6    -9.130     1       0.0256      0.437000   \n",
       "858         0.667   0.381    3    -7.494     1       0.0294      0.455000   \n",
       "859         0.387   0.773    8    -5.685     1       0.1700      0.098000   \n",
       "\n",
       "     instrumentalness  liveness  valence  ...  dance  emo  hip hop latin  \\\n",
       "0            0.000000    0.1130    0.639  ...      0    0        1     0   \n",
       "1            0.000000    0.0703    0.913  ...      0    0        0     0   \n",
       "2            0.000009    0.0936    0.533  ...      0    0        0     0   \n",
       "3            0.130000    0.1000    0.562  ...      0    0        0     0   \n",
       "4            0.000002    0.1030    0.388  ...      0    0        0     0   \n",
       "..                ...       ...      ...  ...    ...  ...      ...   ...   \n",
       "855          0.000000    0.0977    0.613  ...      0    0        0     0   \n",
       "856          0.000000    0.3650    0.740  ...      0    0        0     0   \n",
       "857          0.002270    0.0783    0.350  ...      0    0        0     0   \n",
       "858          0.000000    0.1160    0.199  ...      0    0        0     0   \n",
       "859          0.000000    0.2090    0.368  ...      0    0        1     0   \n",
       "\n",
       "     permanent wave  pop  rap  rock  soul  trance  \n",
       "0                 0    0    0     0     0       0  \n",
       "1                 0    0    1     0     0       0  \n",
       "2                 0    1    0     0     0       0  \n",
       "3                 0    1    0     0     0       0  \n",
       "4                 0    0    1     0     0       0  \n",
       "..              ...  ...  ...   ...   ...     ...  \n",
       "855               0    0    0     0     0       0  \n",
       "856               0    0    0     1     0       0  \n",
       "857               0    0    0     0     0       0  \n",
       "858               0    0    0     0     0       0  \n",
       "859               0    0    0     0     0       0  \n",
       "\n",
       "[839 rows x 33 columns]"
      ]
     },
     "execution_count": 70,
     "metadata": {},
     "output_type": "execute_result"
    }
   ],
   "source": [
    "dummies_genre=pd.get_dummies(songs_df['genre'])\n",
    "merged_genre = pd.concat([songs_df,dummies_genre],axis='columns')\n",
    "songs_df = merged_genre\n",
    "songs_df"
   ]
  },
  {
   "cell_type": "code",
   "execution_count": 71,
   "id": "21f92087",
   "metadata": {},
   "outputs": [
    {
     "data": {
      "text/html": [
       "<div>\n",
       "<style scoped>\n",
       "    .dataframe tbody tr th:only-of-type {\n",
       "        vertical-align: middle;\n",
       "    }\n",
       "\n",
       "    .dataframe tbody tr th {\n",
       "        vertical-align: top;\n",
       "    }\n",
       "\n",
       "    .dataframe thead th {\n",
       "        text-align: right;\n",
       "    }\n",
       "</style>\n",
       "<table border=\"1\" class=\"dataframe\">\n",
       "  <thead>\n",
       "    <tr style=\"text-align: right;\">\n",
       "      <th></th>\n",
       "      <th>danceability</th>\n",
       "      <th>energy</th>\n",
       "      <th>key</th>\n",
       "      <th>loudness</th>\n",
       "      <th>mode</th>\n",
       "      <th>speechiness</th>\n",
       "      <th>acousticness</th>\n",
       "      <th>instrumentalness</th>\n",
       "      <th>liveness</th>\n",
       "      <th>valence</th>\n",
       "      <th>...</th>\n",
       "      <th>dance</th>\n",
       "      <th>emo</th>\n",
       "      <th>hip hop</th>\n",
       "      <th>latin</th>\n",
       "      <th>permanent wave</th>\n",
       "      <th>pop</th>\n",
       "      <th>rap</th>\n",
       "      <th>rock</th>\n",
       "      <th>soul</th>\n",
       "      <th>trance</th>\n",
       "    </tr>\n",
       "  </thead>\n",
       "  <tbody>\n",
       "    <tr>\n",
       "      <th>0</th>\n",
       "      <td>0.878</td>\n",
       "      <td>0.619</td>\n",
       "      <td>6</td>\n",
       "      <td>-5.560</td>\n",
       "      <td>1</td>\n",
       "      <td>0.1020</td>\n",
       "      <td>0.053300</td>\n",
       "      <td>0.000000</td>\n",
       "      <td>0.1130</td>\n",
       "      <td>0.639</td>\n",
       "      <td>...</td>\n",
       "      <td>0</td>\n",
       "      <td>0</td>\n",
       "      <td>1</td>\n",
       "      <td>0</td>\n",
       "      <td>0</td>\n",
       "      <td>0</td>\n",
       "      <td>0</td>\n",
       "      <td>0</td>\n",
       "      <td>0</td>\n",
       "      <td>0</td>\n",
       "    </tr>\n",
       "    <tr>\n",
       "      <th>1</th>\n",
       "      <td>0.760</td>\n",
       "      <td>0.479</td>\n",
       "      <td>2</td>\n",
       "      <td>-5.574</td>\n",
       "      <td>1</td>\n",
       "      <td>0.0466</td>\n",
       "      <td>0.556000</td>\n",
       "      <td>0.000000</td>\n",
       "      <td>0.0703</td>\n",
       "      <td>0.913</td>\n",
       "      <td>...</td>\n",
       "      <td>0</td>\n",
       "      <td>0</td>\n",
       "      <td>0</td>\n",
       "      <td>0</td>\n",
       "      <td>0</td>\n",
       "      <td>0</td>\n",
       "      <td>1</td>\n",
       "      <td>0</td>\n",
       "      <td>0</td>\n",
       "      <td>0</td>\n",
       "    </tr>\n",
       "    <tr>\n",
       "      <th>2</th>\n",
       "      <td>0.752</td>\n",
       "      <td>0.488</td>\n",
       "      <td>6</td>\n",
       "      <td>-7.050</td>\n",
       "      <td>1</td>\n",
       "      <td>0.0705</td>\n",
       "      <td>0.297000</td>\n",
       "      <td>0.000009</td>\n",
       "      <td>0.0936</td>\n",
       "      <td>0.533</td>\n",
       "      <td>...</td>\n",
       "      <td>0</td>\n",
       "      <td>0</td>\n",
       "      <td>0</td>\n",
       "      <td>0</td>\n",
       "      <td>0</td>\n",
       "      <td>1</td>\n",
       "      <td>0</td>\n",
       "      <td>0</td>\n",
       "      <td>0</td>\n",
       "      <td>0</td>\n",
       "    </tr>\n",
       "    <tr>\n",
       "      <th>3</th>\n",
       "      <td>0.701</td>\n",
       "      <td>0.425</td>\n",
       "      <td>7</td>\n",
       "      <td>-10.965</td>\n",
       "      <td>1</td>\n",
       "      <td>0.3750</td>\n",
       "      <td>0.328000</td>\n",
       "      <td>0.130000</td>\n",
       "      <td>0.1000</td>\n",
       "      <td>0.562</td>\n",
       "      <td>...</td>\n",
       "      <td>0</td>\n",
       "      <td>0</td>\n",
       "      <td>0</td>\n",
       "      <td>0</td>\n",
       "      <td>0</td>\n",
       "      <td>1</td>\n",
       "      <td>0</td>\n",
       "      <td>0</td>\n",
       "      <td>0</td>\n",
       "      <td>0</td>\n",
       "    </tr>\n",
       "    <tr>\n",
       "      <th>4</th>\n",
       "      <td>0.829</td>\n",
       "      <td>0.539</td>\n",
       "      <td>11</td>\n",
       "      <td>-7.359</td>\n",
       "      <td>0</td>\n",
       "      <td>0.2080</td>\n",
       "      <td>0.136000</td>\n",
       "      <td>0.000002</td>\n",
       "      <td>0.1030</td>\n",
       "      <td>0.388</td>\n",
       "      <td>...</td>\n",
       "      <td>0</td>\n",
       "      <td>0</td>\n",
       "      <td>0</td>\n",
       "      <td>0</td>\n",
       "      <td>0</td>\n",
       "      <td>0</td>\n",
       "      <td>1</td>\n",
       "      <td>0</td>\n",
       "      <td>0</td>\n",
       "      <td>0</td>\n",
       "    </tr>\n",
       "    <tr>\n",
       "      <th>...</th>\n",
       "      <td>...</td>\n",
       "      <td>...</td>\n",
       "      <td>...</td>\n",
       "      <td>...</td>\n",
       "      <td>...</td>\n",
       "      <td>...</td>\n",
       "      <td>...</td>\n",
       "      <td>...</td>\n",
       "      <td>...</td>\n",
       "      <td>...</td>\n",
       "      <td>...</td>\n",
       "      <td>...</td>\n",
       "      <td>...</td>\n",
       "      <td>...</td>\n",
       "      <td>...</td>\n",
       "      <td>...</td>\n",
       "      <td>...</td>\n",
       "      <td>...</td>\n",
       "      <td>...</td>\n",
       "      <td>...</td>\n",
       "      <td>...</td>\n",
       "    </tr>\n",
       "    <tr>\n",
       "      <th>855</th>\n",
       "      <td>0.485</td>\n",
       "      <td>0.701</td>\n",
       "      <td>8</td>\n",
       "      <td>-3.807</td>\n",
       "      <td>1</td>\n",
       "      <td>0.0288</td>\n",
       "      <td>0.039000</td>\n",
       "      <td>0.000000</td>\n",
       "      <td>0.0977</td>\n",
       "      <td>0.613</td>\n",
       "      <td>...</td>\n",
       "      <td>0</td>\n",
       "      <td>0</td>\n",
       "      <td>0</td>\n",
       "      <td>0</td>\n",
       "      <td>0</td>\n",
       "      <td>0</td>\n",
       "      <td>0</td>\n",
       "      <td>0</td>\n",
       "      <td>0</td>\n",
       "      <td>0</td>\n",
       "    </tr>\n",
       "    <tr>\n",
       "      <th>856</th>\n",
       "      <td>0.482</td>\n",
       "      <td>0.833</td>\n",
       "      <td>5</td>\n",
       "      <td>-5.611</td>\n",
       "      <td>1</td>\n",
       "      <td>0.0449</td>\n",
       "      <td>0.000346</td>\n",
       "      <td>0.000000</td>\n",
       "      <td>0.3650</td>\n",
       "      <td>0.740</td>\n",
       "      <td>...</td>\n",
       "      <td>0</td>\n",
       "      <td>0</td>\n",
       "      <td>0</td>\n",
       "      <td>0</td>\n",
       "      <td>0</td>\n",
       "      <td>0</td>\n",
       "      <td>0</td>\n",
       "      <td>1</td>\n",
       "      <td>0</td>\n",
       "      <td>0</td>\n",
       "    </tr>\n",
       "    <tr>\n",
       "      <th>857</th>\n",
       "      <td>0.691</td>\n",
       "      <td>0.454</td>\n",
       "      <td>6</td>\n",
       "      <td>-9.130</td>\n",
       "      <td>1</td>\n",
       "      <td>0.0256</td>\n",
       "      <td>0.437000</td>\n",
       "      <td>0.002270</td>\n",
       "      <td>0.0783</td>\n",
       "      <td>0.350</td>\n",
       "      <td>...</td>\n",
       "      <td>0</td>\n",
       "      <td>0</td>\n",
       "      <td>0</td>\n",
       "      <td>0</td>\n",
       "      <td>0</td>\n",
       "      <td>0</td>\n",
       "      <td>0</td>\n",
       "      <td>0</td>\n",
       "      <td>0</td>\n",
       "      <td>0</td>\n",
       "    </tr>\n",
       "    <tr>\n",
       "      <th>858</th>\n",
       "      <td>0.667</td>\n",
       "      <td>0.381</td>\n",
       "      <td>3</td>\n",
       "      <td>-7.494</td>\n",
       "      <td>1</td>\n",
       "      <td>0.0294</td>\n",
       "      <td>0.455000</td>\n",
       "      <td>0.000000</td>\n",
       "      <td>0.1160</td>\n",
       "      <td>0.199</td>\n",
       "      <td>...</td>\n",
       "      <td>0</td>\n",
       "      <td>0</td>\n",
       "      <td>0</td>\n",
       "      <td>0</td>\n",
       "      <td>0</td>\n",
       "      <td>0</td>\n",
       "      <td>0</td>\n",
       "      <td>0</td>\n",
       "      <td>0</td>\n",
       "      <td>0</td>\n",
       "    </tr>\n",
       "    <tr>\n",
       "      <th>859</th>\n",
       "      <td>0.387</td>\n",
       "      <td>0.773</td>\n",
       "      <td>8</td>\n",
       "      <td>-5.685</td>\n",
       "      <td>1</td>\n",
       "      <td>0.1700</td>\n",
       "      <td>0.098000</td>\n",
       "      <td>0.000000</td>\n",
       "      <td>0.2090</td>\n",
       "      <td>0.368</td>\n",
       "      <td>...</td>\n",
       "      <td>0</td>\n",
       "      <td>0</td>\n",
       "      <td>1</td>\n",
       "      <td>0</td>\n",
       "      <td>0</td>\n",
       "      <td>0</td>\n",
       "      <td>0</td>\n",
       "      <td>0</td>\n",
       "      <td>0</td>\n",
       "      <td>0</td>\n",
       "    </tr>\n",
       "  </tbody>\n",
       "</table>\n",
       "<p>839 rows × 33 columns</p>\n",
       "</div>"
      ],
      "text/plain": [
       "     danceability  energy  key  loudness  mode  speechiness  acousticness  \\\n",
       "0           0.878   0.619    6    -5.560     1       0.1020      0.053300   \n",
       "1           0.760   0.479    2    -5.574     1       0.0466      0.556000   \n",
       "2           0.752   0.488    6    -7.050     1       0.0705      0.297000   \n",
       "3           0.701   0.425    7   -10.965     1       0.3750      0.328000   \n",
       "4           0.829   0.539   11    -7.359     0       0.2080      0.136000   \n",
       "..            ...     ...  ...       ...   ...          ...           ...   \n",
       "855         0.485   0.701    8    -3.807     1       0.0288      0.039000   \n",
       "856         0.482   0.833    5    -5.611     1       0.0449      0.000346   \n",
       "857         0.691   0.454    6    -9.130     1       0.0256      0.437000   \n",
       "858         0.667   0.381    3    -7.494     1       0.0294      0.455000   \n",
       "859         0.387   0.773    8    -5.685     1       0.1700      0.098000   \n",
       "\n",
       "     instrumentalness  liveness  valence  ...  dance  emo  hip hop latin  \\\n",
       "0            0.000000    0.1130    0.639  ...      0    0        1     0   \n",
       "1            0.000000    0.0703    0.913  ...      0    0        0     0   \n",
       "2            0.000009    0.0936    0.533  ...      0    0        0     0   \n",
       "3            0.130000    0.1000    0.562  ...      0    0        0     0   \n",
       "4            0.000002    0.1030    0.388  ...      0    0        0     0   \n",
       "..                ...       ...      ...  ...    ...  ...      ...   ...   \n",
       "855          0.000000    0.0977    0.613  ...      0    0        0     0   \n",
       "856          0.000000    0.3650    0.740  ...      0    0        0     0   \n",
       "857          0.002270    0.0783    0.350  ...      0    0        0     0   \n",
       "858          0.000000    0.1160    0.199  ...      0    0        0     0   \n",
       "859          0.000000    0.2090    0.368  ...      0    0        1     0   \n",
       "\n",
       "     permanent wave  pop  rap  rock  soul  trance  \n",
       "0                 0    0    0     0     0       0  \n",
       "1                 0    0    1     0     0       0  \n",
       "2                 0    1    0     0     0       0  \n",
       "3                 0    1    0     0     0       0  \n",
       "4                 0    0    1     0     0       0  \n",
       "..              ...  ...  ...   ...   ...     ...  \n",
       "855               0    0    0     0     0       0  \n",
       "856               0    0    0     1     0       0  \n",
       "857               0    0    0     0     0       0  \n",
       "858               0    0    0     0     0       0  \n",
       "859               0    0    0     0     0       0  \n",
       "\n",
       "[839 rows x 33 columns]"
      ]
     },
     "execution_count": 71,
     "metadata": {},
     "output_type": "execute_result"
    }
   ],
   "source": [
    "songs_df"
   ]
  },
  {
   "cell_type": "code",
   "execution_count": 72,
   "id": "deaf5f39",
   "metadata": {},
   "outputs": [
    {
     "data": {
      "text/plain": [
       "0      hip hop\n",
       "1          rap\n",
       "2          pop\n",
       "3          pop\n",
       "4          rap\n",
       "        ...   \n",
       "855    country\n",
       "856       rock\n",
       "857    country\n",
       "858    country\n",
       "859    hip hop\n",
       "Name: genre, Length: 839, dtype: object"
      ]
     },
     "execution_count": 72,
     "metadata": {},
     "output_type": "execute_result"
    }
   ],
   "source": [
    "songs_df['genre']"
   ]
  },
  {
   "cell_type": "code",
   "execution_count": 73,
   "id": "35ff716c",
   "metadata": {},
   "outputs": [],
   "source": [
    "# X1=songs_df.drop(['genre'],axis=1)\n",
    "# y1=songs_df['genre']                 \n",
    "# target_encode_multiclass(X1,y1)"
   ]
  },
  {
   "cell_type": "markdown",
   "id": "5c99b0d5",
   "metadata": {},
   "source": [
    "# train test split"
   ]
  },
  {
   "cell_type": "code",
   "execution_count": 74,
   "id": "c06dbe44",
   "metadata": {},
   "outputs": [],
   "source": [
    "X = songs_df.drop(['genre'],axis=1)\n",
    "Y = songs_df['genre']"
   ]
  },
  {
   "cell_type": "code",
   "execution_count": 77,
   "id": "3fe7ed89",
   "metadata": {},
   "outputs": [],
   "source": [
    "from sklearn.model_selection import train_test_split\n",
    "X_train,X_test,Y_train,Y_test = train_test_split(X,Y,test_size=0.25,random_state=42)"
   ]
  },
  {
   "cell_type": "code",
   "execution_count": 80,
   "id": "56aea41e",
   "metadata": {
    "scrolled": true
   },
   "outputs": [
    {
     "data": {
      "text/html": [
       "<div>\n",
       "<style scoped>\n",
       "    .dataframe tbody tr th:only-of-type {\n",
       "        vertical-align: middle;\n",
       "    }\n",
       "\n",
       "    .dataframe tbody tr th {\n",
       "        vertical-align: top;\n",
       "    }\n",
       "\n",
       "    .dataframe thead th {\n",
       "        text-align: right;\n",
       "    }\n",
       "</style>\n",
       "<table border=\"1\" class=\"dataframe\">\n",
       "  <thead>\n",
       "    <tr style=\"text-align: right;\">\n",
       "      <th></th>\n",
       "      <th>danceability</th>\n",
       "      <th>energy</th>\n",
       "      <th>key</th>\n",
       "      <th>loudness</th>\n",
       "      <th>mode</th>\n",
       "      <th>speechiness</th>\n",
       "      <th>acousticness</th>\n",
       "      <th>instrumentalness</th>\n",
       "      <th>liveness</th>\n",
       "      <th>valence</th>\n",
       "      <th>...</th>\n",
       "      <th>dance</th>\n",
       "      <th>emo</th>\n",
       "      <th>hip hop</th>\n",
       "      <th>latin</th>\n",
       "      <th>permanent wave</th>\n",
       "      <th>pop</th>\n",
       "      <th>rap</th>\n",
       "      <th>rock</th>\n",
       "      <th>soul</th>\n",
       "      <th>trance</th>\n",
       "    </tr>\n",
       "  </thead>\n",
       "  <tbody>\n",
       "    <tr>\n",
       "      <th>213</th>\n",
       "      <td>0.794</td>\n",
       "      <td>0.632</td>\n",
       "      <td>0</td>\n",
       "      <td>-6.163</td>\n",
       "      <td>1</td>\n",
       "      <td>0.0649</td>\n",
       "      <td>0.14200</td>\n",
       "      <td>0.000000</td>\n",
       "      <td>0.1280</td>\n",
       "      <td>0.355</td>\n",
       "      <td>...</td>\n",
       "      <td>0</td>\n",
       "      <td>0</td>\n",
       "      <td>1</td>\n",
       "      <td>0</td>\n",
       "      <td>0</td>\n",
       "      <td>0</td>\n",
       "      <td>0</td>\n",
       "      <td>0</td>\n",
       "      <td>0</td>\n",
       "      <td>0</td>\n",
       "    </tr>\n",
       "    <tr>\n",
       "      <th>846</th>\n",
       "      <td>0.545</td>\n",
       "      <td>0.649</td>\n",
       "      <td>6</td>\n",
       "      <td>-4.062</td>\n",
       "      <td>1</td>\n",
       "      <td>0.0324</td>\n",
       "      <td>0.14300</td>\n",
       "      <td>0.000016</td>\n",
       "      <td>0.0894</td>\n",
       "      <td>0.297</td>\n",
       "      <td>...</td>\n",
       "      <td>0</td>\n",
       "      <td>0</td>\n",
       "      <td>0</td>\n",
       "      <td>0</td>\n",
       "      <td>0</td>\n",
       "      <td>1</td>\n",
       "      <td>0</td>\n",
       "      <td>0</td>\n",
       "      <td>0</td>\n",
       "      <td>0</td>\n",
       "    </tr>\n",
       "    <tr>\n",
       "      <th>80</th>\n",
       "      <td>0.655</td>\n",
       "      <td>0.560</td>\n",
       "      <td>9</td>\n",
       "      <td>-6.857</td>\n",
       "      <td>1</td>\n",
       "      <td>0.0486</td>\n",
       "      <td>0.74900</td>\n",
       "      <td>0.000000</td>\n",
       "      <td>0.1150</td>\n",
       "      <td>0.599</td>\n",
       "      <td>...</td>\n",
       "      <td>0</td>\n",
       "      <td>0</td>\n",
       "      <td>0</td>\n",
       "      <td>0</td>\n",
       "      <td>0</td>\n",
       "      <td>0</td>\n",
       "      <td>0</td>\n",
       "      <td>0</td>\n",
       "      <td>0</td>\n",
       "      <td>0</td>\n",
       "    </tr>\n",
       "    <tr>\n",
       "      <th>68</th>\n",
       "      <td>0.816</td>\n",
       "      <td>0.726</td>\n",
       "      <td>5</td>\n",
       "      <td>-3.998</td>\n",
       "      <td>0</td>\n",
       "      <td>0.1290</td>\n",
       "      <td>0.09900</td>\n",
       "      <td>0.000000</td>\n",
       "      <td>0.3720</td>\n",
       "      <td>0.650</td>\n",
       "      <td>...</td>\n",
       "      <td>0</td>\n",
       "      <td>0</td>\n",
       "      <td>0</td>\n",
       "      <td>0</td>\n",
       "      <td>0</td>\n",
       "      <td>1</td>\n",
       "      <td>0</td>\n",
       "      <td>0</td>\n",
       "      <td>0</td>\n",
       "      <td>0</td>\n",
       "    </tr>\n",
       "    <tr>\n",
       "      <th>811</th>\n",
       "      <td>0.475</td>\n",
       "      <td>0.882</td>\n",
       "      <td>11</td>\n",
       "      <td>-3.883</td>\n",
       "      <td>1</td>\n",
       "      <td>0.3510</td>\n",
       "      <td>0.40600</td>\n",
       "      <td>0.000000</td>\n",
       "      <td>0.2410</td>\n",
       "      <td>0.369</td>\n",
       "      <td>...</td>\n",
       "      <td>0</td>\n",
       "      <td>0</td>\n",
       "      <td>0</td>\n",
       "      <td>0</td>\n",
       "      <td>0</td>\n",
       "      <td>1</td>\n",
       "      <td>0</td>\n",
       "      <td>0</td>\n",
       "      <td>0</td>\n",
       "      <td>0</td>\n",
       "    </tr>\n",
       "    <tr>\n",
       "      <th>...</th>\n",
       "      <td>...</td>\n",
       "      <td>...</td>\n",
       "      <td>...</td>\n",
       "      <td>...</td>\n",
       "      <td>...</td>\n",
       "      <td>...</td>\n",
       "      <td>...</td>\n",
       "      <td>...</td>\n",
       "      <td>...</td>\n",
       "      <td>...</td>\n",
       "      <td>...</td>\n",
       "      <td>...</td>\n",
       "      <td>...</td>\n",
       "      <td>...</td>\n",
       "      <td>...</td>\n",
       "      <td>...</td>\n",
       "      <td>...</td>\n",
       "      <td>...</td>\n",
       "      <td>...</td>\n",
       "      <td>...</td>\n",
       "      <td>...</td>\n",
       "    </tr>\n",
       "    <tr>\n",
       "      <th>687</th>\n",
       "      <td>0.747</td>\n",
       "      <td>0.937</td>\n",
       "      <td>0</td>\n",
       "      <td>-5.746</td>\n",
       "      <td>1</td>\n",
       "      <td>0.0453</td>\n",
       "      <td>0.02080</td>\n",
       "      <td>0.000000</td>\n",
       "      <td>0.2900</td>\n",
       "      <td>0.739</td>\n",
       "      <td>...</td>\n",
       "      <td>0</td>\n",
       "      <td>0</td>\n",
       "      <td>0</td>\n",
       "      <td>0</td>\n",
       "      <td>0</td>\n",
       "      <td>1</td>\n",
       "      <td>0</td>\n",
       "      <td>0</td>\n",
       "      <td>0</td>\n",
       "      <td>0</td>\n",
       "    </tr>\n",
       "    <tr>\n",
       "      <th>777</th>\n",
       "      <td>0.769</td>\n",
       "      <td>0.684</td>\n",
       "      <td>1</td>\n",
       "      <td>-5.019</td>\n",
       "      <td>1</td>\n",
       "      <td>0.0411</td>\n",
       "      <td>0.01050</td>\n",
       "      <td>0.000125</td>\n",
       "      <td>0.0887</td>\n",
       "      <td>0.835</td>\n",
       "      <td>...</td>\n",
       "      <td>0</td>\n",
       "      <td>0</td>\n",
       "      <td>0</td>\n",
       "      <td>0</td>\n",
       "      <td>0</td>\n",
       "      <td>1</td>\n",
       "      <td>0</td>\n",
       "      <td>0</td>\n",
       "      <td>0</td>\n",
       "      <td>0</td>\n",
       "    </tr>\n",
       "    <tr>\n",
       "      <th>268</th>\n",
       "      <td>0.681</td>\n",
       "      <td>0.372</td>\n",
       "      <td>5</td>\n",
       "      <td>-8.237</td>\n",
       "      <td>1</td>\n",
       "      <td>0.0432</td>\n",
       "      <td>0.64000</td>\n",
       "      <td>0.000000</td>\n",
       "      <td>0.1690</td>\n",
       "      <td>0.476</td>\n",
       "      <td>...</td>\n",
       "      <td>0</td>\n",
       "      <td>0</td>\n",
       "      <td>0</td>\n",
       "      <td>0</td>\n",
       "      <td>0</td>\n",
       "      <td>1</td>\n",
       "      <td>0</td>\n",
       "      <td>0</td>\n",
       "      <td>0</td>\n",
       "      <td>0</td>\n",
       "    </tr>\n",
       "    <tr>\n",
       "      <th>263</th>\n",
       "      <td>0.612</td>\n",
       "      <td>0.799</td>\n",
       "      <td>10</td>\n",
       "      <td>-4.603</td>\n",
       "      <td>1</td>\n",
       "      <td>0.0275</td>\n",
       "      <td>0.00898</td>\n",
       "      <td>0.000000</td>\n",
       "      <td>0.1720</td>\n",
       "      <td>0.687</td>\n",
       "      <td>...</td>\n",
       "      <td>0</td>\n",
       "      <td>0</td>\n",
       "      <td>0</td>\n",
       "      <td>0</td>\n",
       "      <td>0</td>\n",
       "      <td>0</td>\n",
       "      <td>0</td>\n",
       "      <td>0</td>\n",
       "      <td>0</td>\n",
       "      <td>0</td>\n",
       "    </tr>\n",
       "    <tr>\n",
       "      <th>318</th>\n",
       "      <td>0.794</td>\n",
       "      <td>0.653</td>\n",
       "      <td>7</td>\n",
       "      <td>-7.839</td>\n",
       "      <td>1</td>\n",
       "      <td>0.1040</td>\n",
       "      <td>0.04890</td>\n",
       "      <td>0.000049</td>\n",
       "      <td>0.1000</td>\n",
       "      <td>0.397</td>\n",
       "      <td>...</td>\n",
       "      <td>0</td>\n",
       "      <td>0</td>\n",
       "      <td>1</td>\n",
       "      <td>0</td>\n",
       "      <td>0</td>\n",
       "      <td>0</td>\n",
       "      <td>0</td>\n",
       "      <td>0</td>\n",
       "      <td>0</td>\n",
       "      <td>0</td>\n",
       "    </tr>\n",
       "  </tbody>\n",
       "</table>\n",
       "<p>210 rows × 32 columns</p>\n",
       "</div>"
      ],
      "text/plain": [
       "     danceability  energy  key  loudness  mode  speechiness  acousticness  \\\n",
       "213         0.794   0.632    0    -6.163     1       0.0649       0.14200   \n",
       "846         0.545   0.649    6    -4.062     1       0.0324       0.14300   \n",
       "80          0.655   0.560    9    -6.857     1       0.0486       0.74900   \n",
       "68          0.816   0.726    5    -3.998     0       0.1290       0.09900   \n",
       "811         0.475   0.882   11    -3.883     1       0.3510       0.40600   \n",
       "..            ...     ...  ...       ...   ...          ...           ...   \n",
       "687         0.747   0.937    0    -5.746     1       0.0453       0.02080   \n",
       "777         0.769   0.684    1    -5.019     1       0.0411       0.01050   \n",
       "268         0.681   0.372    5    -8.237     1       0.0432       0.64000   \n",
       "263         0.612   0.799   10    -4.603     1       0.0275       0.00898   \n",
       "318         0.794   0.653    7    -7.839     1       0.1040       0.04890   \n",
       "\n",
       "     instrumentalness  liveness  valence  ...  dance  emo  hip hop  latin  \\\n",
       "213          0.000000    0.1280    0.355  ...      0    0        1      0   \n",
       "846          0.000016    0.0894    0.297  ...      0    0        0      0   \n",
       "80           0.000000    0.1150    0.599  ...      0    0        0      0   \n",
       "68           0.000000    0.3720    0.650  ...      0    0        0      0   \n",
       "811          0.000000    0.2410    0.369  ...      0    0        0      0   \n",
       "..                ...       ...      ...  ...    ...  ...      ...    ...   \n",
       "687          0.000000    0.2900    0.739  ...      0    0        0      0   \n",
       "777          0.000125    0.0887    0.835  ...      0    0        0      0   \n",
       "268          0.000000    0.1690    0.476  ...      0    0        0      0   \n",
       "263          0.000000    0.1720    0.687  ...      0    0        0      0   \n",
       "318          0.000049    0.1000    0.397  ...      0    0        1      0   \n",
       "\n",
       "     permanent wave  pop  rap  rock  soul  trance  \n",
       "213               0    0    0     0     0       0  \n",
       "846               0    1    0     0     0       0  \n",
       "80                0    0    0     0     0       0  \n",
       "68                0    1    0     0     0       0  \n",
       "811               0    1    0     0     0       0  \n",
       "..              ...  ...  ...   ...   ...     ...  \n",
       "687               0    1    0     0     0       0  \n",
       "777               0    1    0     0     0       0  \n",
       "268               0    1    0     0     0       0  \n",
       "263               0    0    0     0     0       0  \n",
       "318               0    0    0     0     0       0  \n",
       "\n",
       "[210 rows x 32 columns]"
      ]
     },
     "execution_count": 80,
     "metadata": {},
     "output_type": "execute_result"
    }
   ],
   "source": [
    "X_test"
   ]
  },
  {
   "cell_type": "markdown",
   "id": "4853a208",
   "metadata": {},
   "source": [
    "# Scaling"
   ]
  },
  {
   "cell_type": "markdown",
   "id": "6c71f6f1",
   "metadata": {},
   "source": [
    "The most common techniques of feature scaling are Normalization and Standardization. Normalization is used when we want to bound our values between two numbers, typically, between [0,1] or [-1,1]. While Standardization transforms the data to have zero mean and a variance of 1, they make our data unitless."
   ]
  },
  {
   "cell_type": "code",
   "execution_count": 102,
   "id": "72a6af82",
   "metadata": {},
   "outputs": [],
   "source": [
    "from sklearn.preprocessing import MinMaxScaler\n",
    "from sklearn.preprocessing import StandardScaler"
   ]
  },
  {
   "cell_type": "code",
   "execution_count": 103,
   "id": "197fa765",
   "metadata": {},
   "outputs": [],
   "source": [
    "X_train_standardized = X_train.copy()\n",
    "X_test_standardized = X_test.copy()\n",
    "X_train_normalized = X_train.copy()\n",
    "X_test_normalized = X_test.copy()"
   ]
  },
  {
   "cell_type": "code",
   "execution_count": 104,
   "id": "a7f0647a",
   "metadata": {},
   "outputs": [],
   "source": [
    "scaler_standard = StandardScaler()\n",
    "scaler_MinMax = MinMaxScaler()"
   ]
  },
  {
   "cell_type": "code",
   "execution_count": 105,
   "id": "cb70b3d2",
   "metadata": {},
   "outputs": [],
   "source": [
    "numerical_features=['danceability','energy', 'key', 'loudness', 'mode', 'speechiness',\n",
    "       'acousticness', 'instrumentalness', 'liveness', 'valence', 'tempo',\n",
    "       'duration_ms', 'time_signature', 'popularity', 'rank']"
   ]
  },
  {
   "cell_type": "code",
   "execution_count": 106,
   "id": "b584314f",
   "metadata": {},
   "outputs": [],
   "source": [
    "# Standardization:\n",
    "scaler_standard.fit(X_train[numerical_features])\n",
    "X_train_standardized[numerical_features] = scaler_standard.transform(X_train_standardized[numerical_features])\n",
    "\n",
    "# the scaling is with the the same fitted scaler (by the train data)\n",
    "#only transform on the test data\n",
    "X_test_standardized[numerical_features] = scaler_standard.transform(X_test_standardized[numerical_features])\n",
    "\n",
    "# Normalization:\n",
    "scaler_MinMax.fit(X_train[numerical_features])\n",
    "X_train_normalized[numerical_features] = scaler_MinMax.transform(X_train_normalized[numerical_features])\n",
    "\n",
    "# the scaling is with the the same fitted scaler (by the train data)\n",
    "#only transform on the test data\n",
    "X_test_normalized[numerical_features] = scaler_MinMax.transform(X_test_normalized[numerical_features])"
   ]
  },
  {
   "cell_type": "code",
   "execution_count": 107,
   "id": "9dd9c846",
   "metadata": {},
   "outputs": [
    {
     "name": "stdout",
     "output_type": "stream",
     "text": [
      "note: the mean is 0 and std is 1\n"
     ]
    },
    {
     "data": {
      "text/html": [
       "<div>\n",
       "<style scoped>\n",
       "    .dataframe tbody tr th:only-of-type {\n",
       "        vertical-align: middle;\n",
       "    }\n",
       "\n",
       "    .dataframe tbody tr th {\n",
       "        vertical-align: top;\n",
       "    }\n",
       "\n",
       "    .dataframe thead th {\n",
       "        text-align: right;\n",
       "    }\n",
       "</style>\n",
       "<table border=\"1\" class=\"dataframe\">\n",
       "  <thead>\n",
       "    <tr style=\"text-align: right;\">\n",
       "      <th></th>\n",
       "      <th>danceability</th>\n",
       "      <th>energy</th>\n",
       "      <th>key</th>\n",
       "      <th>loudness</th>\n",
       "      <th>mode</th>\n",
       "      <th>speechiness</th>\n",
       "      <th>acousticness</th>\n",
       "      <th>instrumentalness</th>\n",
       "      <th>liveness</th>\n",
       "      <th>valence</th>\n",
       "      <th>tempo</th>\n",
       "      <th>duration_ms</th>\n",
       "      <th>time_signature</th>\n",
       "      <th>popularity</th>\n",
       "      <th>rank</th>\n",
       "    </tr>\n",
       "  </thead>\n",
       "  <tbody>\n",
       "    <tr>\n",
       "      <th>mean</th>\n",
       "      <td>-1.719169e-16</td>\n",
       "      <td>5.307537e-16</td>\n",
       "      <td>4.271446e-17</td>\n",
       "      <td>-3.692506e-16</td>\n",
       "      <td>1.525012e-16</td>\n",
       "      <td>1.131404e-16</td>\n",
       "      <td>1.147289e-16</td>\n",
       "      <td>-1.153026e-16</td>\n",
       "      <td>1.164940e-17</td>\n",
       "      <td>-3.044729e-17</td>\n",
       "      <td>-2.118073e-16</td>\n",
       "      <td>3.079369e-16</td>\n",
       "      <td>4.108619e-16</td>\n",
       "      <td>3.653675e-17</td>\n",
       "      <td>2.682892e-17</td>\n",
       "    </tr>\n",
       "    <tr>\n",
       "      <th>std</th>\n",
       "      <td>1.000796e+00</td>\n",
       "      <td>1.000796e+00</td>\n",
       "      <td>1.000796e+00</td>\n",
       "      <td>1.000796e+00</td>\n",
       "      <td>1.000796e+00</td>\n",
       "      <td>1.000796e+00</td>\n",
       "      <td>1.000796e+00</td>\n",
       "      <td>1.000796e+00</td>\n",
       "      <td>1.000796e+00</td>\n",
       "      <td>1.000796e+00</td>\n",
       "      <td>1.000796e+00</td>\n",
       "      <td>1.000796e+00</td>\n",
       "      <td>1.000796e+00</td>\n",
       "      <td>1.000796e+00</td>\n",
       "      <td>1.000796e+00</td>\n",
       "    </tr>\n",
       "  </tbody>\n",
       "</table>\n",
       "</div>"
      ],
      "text/plain": [
       "      danceability        energy           key      loudness          mode  \\\n",
       "mean -1.719169e-16  5.307537e-16  4.271446e-17 -3.692506e-16  1.525012e-16   \n",
       "std   1.000796e+00  1.000796e+00  1.000796e+00  1.000796e+00  1.000796e+00   \n",
       "\n",
       "       speechiness  acousticness  instrumentalness      liveness  \\\n",
       "mean  1.131404e-16  1.147289e-16     -1.153026e-16  1.164940e-17   \n",
       "std   1.000796e+00  1.000796e+00      1.000796e+00  1.000796e+00   \n",
       "\n",
       "           valence         tempo   duration_ms  time_signature    popularity  \\\n",
       "mean -3.044729e-17 -2.118073e-16  3.079369e-16    4.108619e-16  3.653675e-17   \n",
       "std   1.000796e+00  1.000796e+00  1.000796e+00    1.000796e+00  1.000796e+00   \n",
       "\n",
       "              rank  \n",
       "mean  2.682892e-17  \n",
       "std   1.000796e+00  "
      ]
     },
     "execution_count": 107,
     "metadata": {},
     "output_type": "execute_result"
    }
   ],
   "source": [
    "print('note: the mean is 0 and std is 1')\n",
    "X_train_standardized.describe()[numerical_features].iloc[[1, 2]]"
   ]
  },
  {
   "cell_type": "code",
   "execution_count": 108,
   "id": "7a6ebb46",
   "metadata": {},
   "outputs": [
    {
     "name": "stdout",
     "output_type": "stream",
     "text": [
      "note: the mean is 0 and std is 1\n"
     ]
    },
    {
     "data": {
      "text/html": [
       "<div>\n",
       "<style scoped>\n",
       "    .dataframe tbody tr th:only-of-type {\n",
       "        vertical-align: middle;\n",
       "    }\n",
       "\n",
       "    .dataframe tbody tr th {\n",
       "        vertical-align: top;\n",
       "    }\n",
       "\n",
       "    .dataframe thead th {\n",
       "        text-align: right;\n",
       "    }\n",
       "</style>\n",
       "<table border=\"1\" class=\"dataframe\">\n",
       "  <thead>\n",
       "    <tr style=\"text-align: right;\">\n",
       "      <th></th>\n",
       "      <th>danceability</th>\n",
       "      <th>energy</th>\n",
       "      <th>key</th>\n",
       "      <th>loudness</th>\n",
       "      <th>mode</th>\n",
       "      <th>speechiness</th>\n",
       "      <th>acousticness</th>\n",
       "      <th>instrumentalness</th>\n",
       "      <th>liveness</th>\n",
       "      <th>valence</th>\n",
       "      <th>tempo</th>\n",
       "      <th>duration_ms</th>\n",
       "      <th>time_signature</th>\n",
       "      <th>popularity</th>\n",
       "      <th>rank</th>\n",
       "    </tr>\n",
       "  </thead>\n",
       "  <tbody>\n",
       "    <tr>\n",
       "      <th>mean</th>\n",
       "      <td>0.582723</td>\n",
       "      <td>0.678361</td>\n",
       "      <td>0.489088</td>\n",
       "      <td>0.728551</td>\n",
       "      <td>0.624801</td>\n",
       "      <td>0.136625</td>\n",
       "      <td>0.158875</td>\n",
       "      <td>0.009095</td>\n",
       "      <td>0.202404</td>\n",
       "      <td>0.490294</td>\n",
       "      <td>0.422151</td>\n",
       "      <td>0.349579</td>\n",
       "      <td>0.493641</td>\n",
       "      <td>0.646085</td>\n",
       "      <td>0.510800</td>\n",
       "    </tr>\n",
       "    <tr>\n",
       "      <th>std</th>\n",
       "      <td>0.183759</td>\n",
       "      <td>0.170740</td>\n",
       "      <td>0.327460</td>\n",
       "      <td>0.149634</td>\n",
       "      <td>0.484560</td>\n",
       "      <td>0.168792</td>\n",
       "      <td>0.203877</td>\n",
       "      <td>0.067830</td>\n",
       "      <td>0.164418</td>\n",
       "      <td>0.236086</td>\n",
       "      <td>0.193596</td>\n",
       "      <td>0.090943</td>\n",
       "      <td>0.097538</td>\n",
       "      <td>0.190134</td>\n",
       "      <td>0.291724</td>\n",
       "    </tr>\n",
       "  </tbody>\n",
       "</table>\n",
       "</div>"
      ],
      "text/plain": [
       "      danceability    energy       key  loudness      mode  speechiness  \\\n",
       "mean      0.582723  0.678361  0.489088  0.728551  0.624801     0.136625   \n",
       "std       0.183759  0.170740  0.327460  0.149634  0.484560     0.168792   \n",
       "\n",
       "      acousticness  instrumentalness  liveness   valence     tempo  \\\n",
       "mean      0.158875          0.009095  0.202404  0.490294  0.422151   \n",
       "std       0.203877          0.067830  0.164418  0.236086  0.193596   \n",
       "\n",
       "      duration_ms  time_signature  popularity      rank  \n",
       "mean     0.349579        0.493641    0.646085  0.510800  \n",
       "std      0.090943        0.097538    0.190134  0.291724  "
      ]
     },
     "execution_count": 108,
     "metadata": {},
     "output_type": "execute_result"
    }
   ],
   "source": [
    "print('note: the mean is 0 and std is 1')\n",
    "X_train_normalized.describe()[numerical_features].iloc[[1, 2]]"
   ]
  },
  {
   "cell_type": "markdown",
   "id": "39c789d9",
   "metadata": {},
   "source": [
    "# Visualisation"
   ]
  },
  {
   "cell_type": "code",
   "execution_count": null,
   "id": "e8a622cc",
   "metadata": {
    "scrolled": true
   },
   "outputs": [],
   "source": [
    "#let's take a look at the numeric attributes histograma:\n",
    "atttibutes_hist = songs_df[[\"danceability\", 'energy', 'loudness', 'valence','acousticness','speechiness']].hist(bins=50, figsize=(20,15))\n",
    "atttibutes_hist"
   ]
  },
  {
   "cell_type": "code",
   "execution_count": null,
   "id": "90c35eab",
   "metadata": {},
   "outputs": [],
   "source": [
    "# #Finding out the skew for each attribute\n",
    "# skew=train_numeric.skew()\n",
    "# print(skew)"
   ]
  },
  {
   "cell_type": "code",
   "execution_count": null,
   "id": "c35afd47",
   "metadata": {},
   "outputs": [],
   "source": [
    "Y"
   ]
  },
  {
   "cell_type": "code",
   "execution_count": null,
   "id": "7db96073",
   "metadata": {},
   "outputs": [],
   "source": [
    "X_train.columns"
   ]
  },
  {
   "cell_type": "code",
   "execution_count": null,
   "id": "7ec69123",
   "metadata": {},
   "outputs": [],
   "source": [
    "train_numeric=X_train[numerical_features]"
   ]
  },
  {
   "cell_type": "code",
   "execution_count": null,
   "id": "8bf52c63",
   "metadata": {},
   "outputs": [],
   "source": [
    "#checking correlation between numericals\n",
    "plt.figure(figsize=(20,10))\n",
    "sns.heatmap(train_numeric.corr(),annot=True);"
   ]
  },
  {
   "cell_type": "markdown",
   "id": "4757b0dc",
   "metadata": {},
   "source": [
    "features that have high correlation:\n",
    "    \n",
    "    *loudness and energy  - the more a song is loud, it has more energy \n",
    "    \n",
    "    * popularity and rank - the more the song is popular, the more its' rank is high\n",
    "    \n",
    "     * danceability  and speechiness - \n",
    "    \n",
    "    * acousticness and mode - \n",
    "    \n",
    "   * acousticness and danceability \n",
    "    \n",
    "   *acousticness and energy \n",
    "   \n",
    "   * loudness and valance - the more a song is loud, its' valance is high ( it is more happy and cheerful)\n",
    "   \n",
    "   some of these correlations are very intuitive"
   ]
  },
  {
   "cell_type": "code",
   "execution_count": null,
   "id": "1a0b00bb",
   "metadata": {},
   "outputs": [],
   "source": [
    "# #checking correlation between numericals\n",
    "# plt.figure(figsize=(20,10))\n",
    "# sns.heatmap((corr_matrix > 0.2)|(corr_matrix< -0.2),annot=True);"
   ]
  },
  {
   "cell_type": "code",
   "execution_count": null,
   "id": "0d6c6b82",
   "metadata": {},
   "outputs": [],
   "source": [
    "train=train_numeric.copy()"
   ]
  },
  {
   "cell_type": "code",
   "execution_count": null,
   "id": "be9b1d29",
   "metadata": {
    "scrolled": true
   },
   "outputs": [],
   "source": [
    "train_numeric"
   ]
  },
  {
   "cell_type": "code",
   "execution_count": null,
   "id": "48c98880",
   "metadata": {
    "scrolled": true
   },
   "outputs": [],
   "source": [
    "songs_df"
   ]
  },
  {
   "cell_type": "code",
   "execution_count": null,
   "id": "16fe4e96",
   "metadata": {
    "scrolled": true
   },
   "outputs": [],
   "source": [
    "high_corr_add[high_corr_add==True]"
   ]
  },
  {
   "cell_type": "code",
   "execution_count": null,
   "id": "14939b80",
   "metadata": {
    "scrolled": true
   },
   "outputs": [],
   "source": [
    "df=high_corr_add.iloc[15:60,0:15]"
   ]
  },
  {
   "cell_type": "code",
   "execution_count": null,
   "id": "fe9a1baf",
   "metadata": {},
   "outputs": [],
   "source": [
    "df[df['danceability']==True]"
   ]
  },
  {
   "cell_type": "code",
   "execution_count": null,
   "id": "5f03b04a",
   "metadata": {},
   "outputs": [],
   "source": [
    "df"
   ]
  },
  {
   "cell_type": "markdown",
   "id": "d027db96",
   "metadata": {},
   "source": [
    "highly correlated genres (to other features that are not genres):\n",
    "country - speechiness\n",
    "country, hip hop - danceability\n",
    "country, hip hop-loudness\n",
    "country - popularity"
   ]
  },
  {
   "cell_type": "code",
   "execution_count": null,
   "id": "3da51516",
   "metadata": {},
   "outputs": [],
   "source": [
    "the genres with the highest energy,loudness,speechiness and acousticness are:  "
   ]
  },
  {
   "cell_type": "code",
   "execution_count": null,
   "id": "316a2e83",
   "metadata": {},
   "outputs": [],
   "source": [
    "this can help us in classifying out songs."
   ]
  },
  {
   "cell_type": "code",
   "execution_count": null,
   "id": "2244b754",
   "metadata": {},
   "outputs": [],
   "source": [
    "conclusion: country, hip hop are highly correlated to a couple of features, "
   ]
  },
  {
   "cell_type": "code",
   "execution_count": null,
   "id": "203a7878",
   "metadata": {
    "scrolled": true
   },
   "outputs": [],
   "source": [
    "# fig, ax = plt.subplots(figsize=(12,12))\n",
    "# sns.heatmap(high_corr.corr(),annot=True)\n",
    "# sns.set(font_scale=1)"
   ]
  },
  {
   "cell_type": "code",
   "execution_count": null,
   "id": "71eb1421",
   "metadata": {},
   "outputs": [],
   "source": [
    "# looking at the most numeric correlated features\n",
    "sns.pairplot(songs_df[[\"danceability\", 'energy', 'loudness', 'valence','acousticness','speechiness']])"
   ]
  },
  {
   "cell_type": "markdown",
   "id": "81e363a4",
   "metadata": {},
   "source": [
    "highly correlated and linear features: \n",
    "   * acousticness and energy\n",
    "   * loudness and energy\n",
    "   * energy and valance \n",
    " \n",
    " less:\n",
    "   * acousticness and loudness\n",
    "   * energy and dancability\n",
    "\n",
    "conclusion: energy is an important feature, we should keep it and might concider removing features that are highly correlated to it but less important.\n"
   ]
  },
  {
   "cell_type": "markdown",
   "id": "424ea8ee",
   "metadata": {},
   "source": [
    "'loudness' and 'acousticness' are highly correlated to 'energy', so we will drop them."
   ]
  },
  {
   "cell_type": "markdown",
   "id": "61b026e4",
   "metadata": {},
   "source": [
    "feature selection"
   ]
  },
  {
   "cell_type": "code",
   "execution_count": null,
   "id": "1281c157",
   "metadata": {},
   "outputs": [],
   "source": [
    "# from sklearn.feature_selection import VarianceThreshold"
   ]
  },
  {
   "cell_type": "code",
   "execution_count": null,
   "id": "a0c725a0",
   "metadata": {},
   "outputs": [],
   "source": [
    "# numeric_df=songs_df[numerical_features]"
   ]
  },
  {
   "cell_type": "code",
   "execution_count": null,
   "id": "8d9b7c83",
   "metadata": {},
   "outputs": [],
   "source": [
    "# numeric_df"
   ]
  },
  {
   "cell_type": "code",
   "execution_count": null,
   "id": "c2113626",
   "metadata": {},
   "outputs": [],
   "source": [
    "# correlated_features = set()\n",
    "# correlation_matrix = numeric_df.corr()"
   ]
  },
  {
   "cell_type": "code",
   "execution_count": null,
   "id": "05ddfa54",
   "metadata": {},
   "outputs": [],
   "source": [
    "# for i in range(len(correlation_matrix .columns)):\n",
    "#     for j in range(i):\n",
    "#         if abs(correlation_matrix.iloc[i, j]) > 0.4:\n",
    "#             colname = correlation_matrix.columns[i]\n",
    "#             correlated_features.add(colname)"
   ]
  },
  {
   "cell_type": "markdown",
   "id": "cd05cb5c",
   "metadata": {},
   "source": [
    "# dealing with unbalanced data"
   ]
  },
  {
   "cell_type": "code",
   "execution_count": null,
   "id": "cbd70d41",
   "metadata": {
    "scrolled": true
   },
   "outputs": [],
   "source": [
    "sns.catplot(x=\"genre\", kind=\"count\", palette=\"ch:.25\", data=songs_df)"
   ]
  },
  {
   "cell_type": "markdown",
   "id": "81a80b98",
   "metadata": {},
   "source": [
    "# Dummy model"
   ]
  },
  {
   "cell_type": "code",
   "execution_count": 81,
   "id": "3c4d35c3",
   "metadata": {},
   "outputs": [
    {
     "data": {
      "text/plain": [
       "0.31319554848966613"
      ]
     },
     "execution_count": 81,
     "metadata": {},
     "output_type": "execute_result"
    }
   ],
   "source": [
    "from sklearn.dummy import DummyClassifier\n",
    "# defining the strategy\n",
    "# dummy_clf = DummyClassifier(strategy=\"most_frequent\")\n",
    "dummy_clf = DummyClassifier(strategy=\"stratified\")\n",
    "\n",
    "dummy_clf.fit(X_train, Y_train)\n",
    "#dummy_clf.score(X_train, Y_train)\n",
    "dummy_clf.predict(X_test)\n",
    "\n",
    "#accuracy\n",
    "dummy_clf.score(X_train, Y_train)\n",
    "\n"
   ]
  },
  {
   "cell_type": "markdown",
   "id": "c33ae99e",
   "metadata": {},
   "source": [
    "# choosing models"
   ]
  },
  {
   "cell_type": "code",
   "execution_count": 109,
   "id": "0261bd14",
   "metadata": {},
   "outputs": [],
   "source": [
    "# for the models evaluation\n",
    "def cf_matrix_show(cf_matrix, beta = 4):\n",
    "\n",
    "    group_names = ['True Neg','False Pos','False Neg','True Pos']\n",
    "    group_counts = [\"{0:0.0f}\".format(value) for value in\n",
    "                    cf_matrix.flatten()]\n",
    "    group_percentages = [\"{0:.2%}\".format(value) for value in\n",
    "                         cf_matrix.flatten()/np.sum(cf_matrix)]\n",
    "    labels = [f\"{v1}\\n{v2}\\n{v3}\" for v1, v2, v3 in\n",
    "              zip(group_names,group_counts,group_percentages)]\n",
    "    labels = np.asarray(labels).reshape(2,2)\n",
    "    sns.heatmap(cf_matrix, annot=labels, fmt='', cmap='Blues')\n",
    "\n",
    "    accuracy  = np.trace(cf_matrix) / float(np.sum(cf_matrix))\n",
    "    precision = cf_matrix[1,1] / sum(cf_matrix[:,1])\n",
    "    recall    = cf_matrix[1,1] / sum(cf_matrix[1,:])\n",
    "    f1_score  = 2*precision*recall / (precision + recall)\n",
    "    fb_score  = (1+beta**2)*precision*recall / ((beta**2)*precision + recall)\n",
    "    stats_text = \"\\n\\nAccuracy={:0.3f}\\nPrecision={:0.3f}\\nRecall={:0.3f}\\nF1 Score={:0.3f}\\nFb Score={:0.3f}\".format(\n",
    "                    accuracy,precision,recall,f1_score, fb_score)\n",
    "\n",
    "    plt.ylabel('True label')\n",
    "    plt.xlabel('Predicted label' + stats_text)"
   ]
  },
  {
   "cell_type": "markdown",
   "id": "a9f59ceb",
   "metadata": {},
   "source": [
    "## knn"
   ]
  },
  {
   "cell_type": "code",
   "execution_count": 190,
   "id": "b42f5e11",
   "metadata": {},
   "outputs": [],
   "source": [
    "from sklearn.neighbors import KNeighborsClassifier as knn\n",
    "from sklearn.model_selection import cross_val_score\n",
    "from sklearn.metrics import accuracy_score\n",
    "from sklearn import metrics\n",
    "from sklearn.metrics import roc_auc_score\n",
    "from sklearn.metrics import precision_recall_curve\n",
    "from sklearn.metrics import confusion_matrix\n",
    "from sklearn.metrics import fbeta_score"
   ]
  },
  {
   "cell_type": "code",
   "execution_count": 166,
   "id": "d8dbfdf2",
   "metadata": {},
   "outputs": [],
   "source": [
    "k_mean_scores = []\n",
    "k_std_scores = []"
   ]
  },
  {
   "cell_type": "code",
   "execution_count": 167,
   "id": "75f1bd87",
   "metadata": {},
   "outputs": [
    {
     "data": {
      "text/plain": [
       "KNeighborsClassifier(algorithm='brute', n_neighbors=3)"
      ]
     },
     "execution_count": 167,
     "metadata": {},
     "output_type": "execute_result"
    }
   ],
   "source": [
    "#specify tuning parameters\n",
    "# we chose brute force, since our data is small: For small data sets ( less than 30 or so),  is comparable to , and brute force algorithms can be more efficient than a tree-based approach. \n",
    "knn = KNeighborsClassifier(n_neighbors=3,algorithm=\"brute\")\n",
    "\n",
    "# Fit the model with data (aka \"model training\")\n",
    "knn.fit(X_train_standardized,Y_train)"
   ]
  },
  {
   "cell_type": "code",
   "execution_count": 168,
   "id": "5585c8fe",
   "metadata": {},
   "outputs": [
    {
     "data": {
      "text/plain": [
       "pop                 336\n",
       "hip hop              91\n",
       "country              68\n",
       "rap                  61\n",
       "rock                 22\n",
       "contemporary r&b     11\n",
       "soul                  8\n",
       "latin                 6\n",
       "trance                5\n",
       "dance                 4\n",
       "permanent wave        4\n",
       "alt z                 3\n",
       "complextro            3\n",
       "black americana       2\n",
       "chicago bop           2\n",
       "emo                   2\n",
       "brostep               1\n",
       "Name: genre, dtype: int64"
      ]
     },
     "execution_count": 168,
     "metadata": {},
     "output_type": "execute_result"
    }
   ],
   "source": [
    "Y_train.value_counts()"
   ]
  },
  {
   "cell_type": "code",
   "execution_count": 169,
   "id": "814bc46f",
   "metadata": {},
   "outputs": [
    {
     "name": "stderr",
     "output_type": "stream",
     "text": [
      "C:\\Users\\User\\anaconda3\\lib\\site-packages\\sklearn\\model_selection\\_split.py:676: UserWarning: The least populated class in y has only 1 members, which is less than n_splits=2.\n",
      "  warnings.warn(\n"
     ]
    }
   ],
   "source": [
    "scores = cross_val_score(knn, X_train_standardized, Y_train,cv=2, scoring='accuracy')\n",
    "# , cv=5\n",
    "k_mean_scores.append(scores.mean())\n",
    "k_std_scores.append(scores.std())\n",
    "\n",
    "d = {'k_mean': k_mean_scores, 'k_std': k_std_scores}\n",
    "# Ks = pd.DataFrame(data = d, index=k_range)"
   ]
  },
  {
   "cell_type": "code",
   "execution_count": 170,
   "id": "57d766d7",
   "metadata": {},
   "outputs": [
    {
     "data": {
      "text/plain": [
       "array([0.67936508, 0.71656051])"
      ]
     },
     "execution_count": 170,
     "metadata": {},
     "output_type": "execute_result"
    }
   ],
   "source": [
    "#accuracy\n",
    "scores"
   ]
  },
  {
   "cell_type": "markdown",
   "id": "26c4a5a7",
   "metadata": {},
   "source": [
    "## |Using a different value for K"
   ]
  },
  {
   "cell_type": "code",
   "execution_count": 160,
   "id": "26488f3a",
   "metadata": {},
   "outputs": [
    {
     "data": {
      "text/plain": [
       "KNeighborsClassifier(algorithm='brute')"
      ]
     },
     "execution_count": 160,
     "metadata": {},
     "output_type": "execute_result"
    }
   ],
   "source": [
    "#specify tuning parameters\n",
    "# we chose brute force, since our data is small: For small data sets ( less than 30 or so),  is comparable to , and brute force algorithms can be more efficient than a tree-based approach. \n",
    "knn = KNeighborsClassifier(n_neighbors=5,algorithm=\"brute\")\n",
    "\n",
    "# Fit the model with data (aka \"model training\")\n",
    "knn.fit(X_train_standardized,Y_train)"
   ]
  },
  {
   "cell_type": "code",
   "execution_count": null,
   "id": "7a8ee657",
   "metadata": {},
   "outputs": [],
   "source": [
    "del list"
   ]
  },
  {
   "cell_type": "code",
   "execution_count": 191,
   "id": "37a78c6b",
   "metadata": {},
   "outputs": [
    {
     "data": {
      "text/plain": [
       "Text(0, 0.5, 'Testing Accuracy')"
      ]
     },
     "execution_count": 191,
     "metadata": {},
     "output_type": "execute_result"
    },
    {
     "data": {
      "image/png": "[encoded data removed]",
      "text/plain": [
       "<Figure size 432x288 with 1 Axes>"
      ]
     },
     "metadata": {
      "needs_background": "light"
     },
     "output_type": "display_data"
    }
   ],
   "source": [
    "# try K=1 through K=30 and plot testing accuracy\n",
    "k_range = list(range(1, 5))\n",
    "scores = []\n",
    "for k in k_range:\n",
    "    knn = KNeighborsClassifier(n_neighbors=k)\n",
    "    knn.fit(X_train_standardized, Y_train)\n",
    "    y_pred = knn.predict(X_train_standardized)\n",
    "    scores.append(metrics.accuracy_score(Y_train, y_pred))\n",
    "    \n",
    "plt.plot(k_range, scores)\n",
    "plt.xlabel('Value of K for KNN')\n",
    "plt.ylabel('Testing Accuracy')"
   ]
  },
  {
   "cell_type": "code",
   "execution_count": 194,
   "id": "c690979d",
   "metadata": {},
   "outputs": [
    {
     "ename": "AttributeError",
     "evalue": "'numpy.ndarray' object has no attribute 'index'",
     "output_type": "error",
     "traceback": [
      "\u001b[1;31m---------------------------------------------------------------------------\u001b[0m",
      "\u001b[1;31mAttributeError\u001b[0m                            Traceback (most recent call last)",
      "\u001b[1;32m<ipython-input-194-c49cb356b9d3>\u001b[0m in \u001b[0;36m<module>\u001b[1;34m\u001b[0m\n\u001b[0;32m      1\u001b[0m \u001b[0mmax_score\u001b[0m \u001b[1;33m=\u001b[0m \u001b[0mmax\u001b[0m\u001b[1;33m(\u001b[0m\u001b[0mscores\u001b[0m\u001b[1;33m)\u001b[0m\u001b[1;33m\u001b[0m\u001b[1;33m\u001b[0m\u001b[0m\n\u001b[1;32m----> 2\u001b[1;33m \u001b[0mbest_K\u001b[0m \u001b[1;33m=\u001b[0m \u001b[0mscores\u001b[0m\u001b[1;33m.\u001b[0m\u001b[0mindex\u001b[0m\u001b[1;33m(\u001b[0m\u001b[0mmax\u001b[0m\u001b[1;33m(\u001b[0m\u001b[0mscores\u001b[0m\u001b[1;33m)\u001b[0m\u001b[1;33m)\u001b[0m\u001b[1;33m+\u001b[0m\u001b[1;36m1\u001b[0m\u001b[1;33m\u001b[0m\u001b[1;33m\u001b[0m\u001b[0m\n\u001b[0m\u001b[0;32m      3\u001b[0m \u001b[1;33m\u001b[0m\u001b[0m\n\u001b[0;32m      4\u001b[0m \u001b[0mprint\u001b[0m\u001b[1;33m(\u001b[0m\u001b[1;34m\"the first k value with best score is \"\u001b[0m \u001b[1;33m+\u001b[0m \u001b[0mstr\u001b[0m\u001b[1;33m(\u001b[0m\u001b[0mbest_K\u001b[0m\u001b[1;33m)\u001b[0m \u001b[1;33m+\u001b[0m \u001b[1;34m\" with accuracy of \"\u001b[0m \u001b[1;33m+\u001b[0m \u001b[0mstr\u001b[0m\u001b[1;33m(\u001b[0m\u001b[0mmax_score\u001b[0m\u001b[1;33m)\u001b[0m\u001b[1;33m)\u001b[0m\u001b[1;33m\u001b[0m\u001b[1;33m\u001b[0m\u001b[0m\n",
      "\u001b[1;31mAttributeError\u001b[0m: 'numpy.ndarray' object has no attribute 'index'"
     ]
    }
   ],
   "source": [
    "max_score = max(scores)\n",
    "best_K = scores.index(max(scores))+1\n",
    "\n",
    "print(\"the first k value with best score is \" + str(best_K) + \" with accuracy of \" + str(max_score))"
   ]
  },
  {
   "cell_type": "code",
   "execution_count": 207,
   "id": "b3a22426",
   "metadata": {},
   "outputs": [
    {
     "data": {
      "text/plain": [
       "[0.018597715094530343,\n",
       " 0.024560430662880953,\n",
       " 0.024560430662880953,\n",
       " 0.024560430662880953,\n",
       " 0.024560430662880953,\n",
       " 0.024560430662880953,\n",
       " 0.024560430662880953,\n",
       " 0.007252383557931366,\n",
       " 0.007252383557931366,\n",
       " 0.009096149816886426,\n",
       " 0.01883201955347098,\n",
       " 0.01883201955347098,\n",
       " 0.01883201955347098,\n",
       " 0.039672649904672286,\n",
       " 0.013820645030836076,\n",
       " 0.013820645030836076]"
      ]
     },
     "execution_count": 207,
     "metadata": {},
     "output_type": "execute_result"
    }
   ],
   "source": [
    "k_std_scores"
   ]
  },
  {
   "cell_type": "code",
   "execution_count": 205,
   "id": "e2286a81",
   "metadata": {},
   "outputs": [
    {
     "name": "stderr",
     "output_type": "stream",
     "text": [
      "C:\\Users\\User\\anaconda3\\lib\\site-packages\\sklearn\\model_selection\\_split.py:676: UserWarning: The least populated class in y has only 1 members, which is less than n_splits=2.\n",
      "  warnings.warn(\n"
     ]
    }
   ],
   "source": [
    "scores = cross_val_score(knn, X_train_standardized, Y_train,cv=2, scoring='accuracy')\n",
    "\n",
    "# k_range=list(range(1, 10))\n",
    "k_mean_scores.append(scores.mean())\n",
    "k_std_scores.append(scores.std())\n",
    "\n",
    "d = {'k_mean': k_mean_scores, 'k_std': k_std_scores}\n",
    "# Ks = pd.DataFrame(data = d, index=k_range)"
   ]
  },
  {
   "cell_type": "code",
   "execution_count": 206,
   "id": "d21943d1",
   "metadata": {},
   "outputs": [
    {
     "data": {
      "text/plain": [
       "array([0.67936508, 0.70700637])"
      ]
     },
     "execution_count": 206,
     "metadata": {},
     "output_type": "execute_result"
    }
   ],
   "source": [
    "scores"
   ]
  },
  {
   "cell_type": "code",
   "execution_count": null,
   "id": "a905c5fe",
   "metadata": {},
   "outputs": [],
   "source": [
    "k_range = list(range(1, 31))\n",
    "k_mean_scores = []\n",
    "k_std_scores = []\n",
    "\n",
    "features = list(X_train_scaled.columns.values)\n",
    "for feature in features:\n",
    "    knn = KNeighborsClassifier(n_neighbors= min(best_Ks['k_mean'].index))\n",
    "    scores = cross_val_score(knn, X_train_scaled.drop(columns=feature), y_train, cv=10, scoring='accuracy')\n",
    "    k_mean_scores.append(scores.mean())\n",
    "    k_std_scores.append(scores.std())"
   ]
  },
  {
   "cell_type": "markdown",
   "id": "6c318f3c",
   "metadata": {},
   "source": [
    "LogisticRegression"
   ]
  },
  {
   "cell_type": "code",
   "execution_count": null,
   "id": "0a747d97",
   "metadata": {},
   "outputs": [],
   "source": [
    "# import the class\n",
    "from sklearn.linear_model import LogisticRegression\n",
    "\n",
    "# instantiate the model\n",
    "logreg = LogisticRegression(solver='liblinear')\n",
    "\n",
    "# fit the model with data\n",
    "logreg.fit(X, y)\n",
    "\n",
    "# predict the response for new observations\n",
    "logreg.predict(X_new)"
   ]
  },
  {
   "cell_type": "markdown",
   "id": "678be2f1",
   "metadata": {},
   "source": [
    "DecisionTreeClassifier"
   ]
  },
  {
   "cell_type": "code",
   "execution_count": null,
   "id": "0ad62117",
   "metadata": {},
   "outputs": [],
   "source": [
    "from sklearn.tree import DecisionTreeClassifier\n",
    "from sklearn.model_selection import RepeatedStratifiedKFold\n",
    "from sklearn.model_selection import cross_val_score"
   ]
  },
  {
   "cell_type": "code",
   "execution_count": null,
   "id": "4b75feb1",
   "metadata": {},
   "outputs": [],
   "source": [
    "# define model\n",
    "model = DecisionTreeClassifier()\n",
    "# evaluate pipeline\n",
    "cv = RepeatedStratifiedKFold(n_splits=10, n_repeats=3, random_state=1)\n",
    "scores = cross_val_score(model,X_train,Y_train, scoring='roc_auc', cv=cv, n_jobs=-1)"
   ]
  },
  {
   "cell_type": "code",
   "execution_count": null,
   "id": "7f1deaa3",
   "metadata": {},
   "outputs": [],
   "source": [
    "Y_train.value_counts()"
   ]
  },
  {
   "cell_type": "code",
   "execution_count": null,
   "id": "c5618a6a",
   "metadata": {},
   "outputs": [],
   "source": [
    "# Oversample with SMOTE and random undersample for imbalanced dataset\n",
    "from collections import Counter\n",
    "from imblearn.over_sampling import SMOTE\n",
    "from imblearn.under_sampling import RandomUnderSampler\n",
    "from imblearn.pipeline import Pipeline\n",
    "from matplotlib import pyplot\n",
    "from numpy import where\n"
   ]
  },
  {
   "cell_type": "code",
   "execution_count": null,
   "id": "125598f3",
   "metadata": {},
   "outputs": [],
   "source": [
    "# summarize class distribution\n",
    "counter = Counter(y)\n",
    "print(counter)\n"
   ]
  },
  {
   "cell_type": "code",
   "execution_count": null,
   "id": "be6eee35",
   "metadata": {},
   "outputs": [],
   "source": [
    "# define pipeline\n",
    "over = SMOTE(sampling_strategy=0.1)\n",
    "under = RandomUnderSampler(sampling_strategy=0.5)"
   ]
  },
  {
   "cell_type": "markdown",
   "id": "b22dfb5c",
   "metadata": {},
   "source": [
    "#   מה 25.2 טיוטות"
   ]
  },
  {
   "cell_type": "code",
   "execution_count": null,
   "id": "f21eb032",
   "metadata": {},
   "outputs": [],
   "source": []
  },
  {
   "cell_type": "code",
   "execution_count": null,
   "id": "dce420d9",
   "metadata": {},
   "outputs": [],
   "source": [
    "songs={'Alice in Chains':'Them Bones','Beyonce':'Crazy In Love (feat. Jay-Z)','Glass Animals':'Heat Waves','Ed Sheeran':'The Joker And The Queen (feat. Taylor Swift)'}\n",
    "song_names=songs.values()\n",
    "artists_names=songs.keys()\n",
    "song_names_list=list(song_names)"
   ]
  },
  {
   "cell_type": "code",
   "execution_count": null,
   "id": "eb1edd88",
   "metadata": {},
   "outputs": [],
   "source": [
    "#finding the id of the specific song with the song name and a dictionary that contains the artists info\n",
    "def find_id(song,result):\n",
    "    for data in result['tracks']['items']:\n",
    "        for key,value in data.items():\n",
    "            if (key=='name')&  (value==song):\n",
    "                print(data['id'])\n",
    "                print(data['uri'])\n",
    "                print(sp.audio_features(data['uri'])[0])\n",
    "                print(sp.artist(find_artist_info(result)))\n",
    "                return \n",
    "               "
   ]
  },
  {
   "cell_type": "code",
   "execution_count": null,
   "id": "3137bca4",
   "metadata": {},
   "outputs": [],
   "source": [
    "# unneccesary\n",
    "# def get_key(val):\n",
    "#     for key, value in songs.items():\n",
    "#          if val == value:\n",
    "#              return key\n",
    " \n",
    "#     return \"key doesn't exist\""
   ]
  },
  {
   "cell_type": "code",
   "execution_count": null,
   "id": "ed38b459",
   "metadata": {
    "scrolled": true
   },
   "outputs": [],
   "source": [
    "# unnessecay\n",
    "# def get_id_of_songs():\n",
    "\n",
    "#     # for song in song_names_list:\n",
    "\n",
    "#     for song in song_names_list:\n",
    "#         result = sp.search(get_key(song), limit=10)\n",
    "#      #   print(result)\n",
    "#         print(\"\\n\")\n",
    "#         find_id(song,result)\n",
    "\n"
   ]
  },
  {
   "cell_type": "code",
   "execution_count": null,
   "id": "29de6730",
   "metadata": {
    "scrolled": false
   },
   "outputs": [],
   "source": [
    "get_id_of_songs()"
   ]
  },
  {
   "cell_type": "markdown",
   "id": "49d46494",
   "metadata": {},
   "source": [
    "# טיוטות"
   ]
  },
  {
   "cell_type": "code",
   "execution_count": null,
   "id": "13178061",
   "metadata": {},
   "outputs": [],
   "source": [
    "# for artist in artists_names:\n",
    "#     art=sp.search(artist)"
   ]
  },
  {
   "cell_type": "code",
   "execution_count": null,
   "id": "2d2a4226",
   "metadata": {},
   "outputs": [],
   "source": [
    "#art"
   ]
  },
  {
   "cell_type": "code",
   "execution_count": null,
   "id": "67a65b8b",
   "metadata": {},
   "outputs": [],
   "source": [
    "#art['tracks']['items']"
   ]
  },
  {
   "cell_type": "code",
   "execution_count": null,
   "id": "a803cd2d",
   "metadata": {},
   "outputs": [],
   "source": [
    "#art['tracks']['items'][0]"
   ]
  },
  {
   "cell_type": "code",
   "execution_count": null,
   "id": "cdd82780",
   "metadata": {
    "scrolled": true
   },
   "outputs": [],
   "source": [
    "#art['tracks']['items']"
   ]
  },
  {
   "cell_type": "code",
   "execution_count": null,
   "id": "4130bee9",
   "metadata": {},
   "outputs": [],
   "source": [
    "# #finding the id of the specific song with the song name and a dictionary that contains the artists info\n",
    "# def find_id2(song,result):\n",
    "#     for data in result['tracks']['items']:\n",
    "#         for key,value in data.items():\n",
    "#             if (key=='name')&  (value==song):\n",
    "#                 print(data['id'])\n",
    "#                 print(data['uri'])\n",
    "#                 print(sp.audio_features(data['uri'])[0])\n",
    "#                 print(sp.artist(\"64tNsm6TnZe2zpcMVMOoHL\"))\n",
    "#                 return \n",
    "               "
   ]
  },
  {
   "cell_type": "code",
   "execution_count": null,
   "id": "828dd48e",
   "metadata": {},
   "outputs": [],
   "source": [
    "\n",
    "# find_id2('Them Bones',result)"
   ]
  },
  {
   "cell_type": "code",
   "execution_count": null,
   "id": "e29c7949",
   "metadata": {},
   "outputs": [],
   "source": [
    "#  print(sp.artist(find_artist_id()))"
   ]
  },
  {
   "cell_type": "code",
   "execution_count": null,
   "id": "6c9cbed6",
   "metadata": {},
   "outputs": [],
   "source": [
    "\n",
    "#  artists_names=songs.keys()\n",
    "# def find_artist_id():\n",
    "#         for key,value in art['tracks']['items'][0]['artists'][0].items():\n",
    "#             if(key=='id'):\n",
    "#                 print(value)\n",
    "                   "
   ]
  },
  {
   "cell_type": "code",
   "execution_count": null,
   "id": "af87b6da",
   "metadata": {
    "scrolled": true
   },
   "outputs": [],
   "source": [
    "# def find_features(song,result):\n",
    "#     for song in song_names_list:\n",
    "#         result = sp.search(get_key(song), limit=10)\n",
    "#         for data in result['tracks']['items']:\n",
    "#             print(sp.audio_features(\"spotify:track:4A065x9kJt955eGVqf813g\")[0])\n",
    "#sp.artist(\"spotify:artist:6eUKZXaKkcviH0Ku9w2n3V\")\n"
   ]
  },
  {
   "cell_type": "code",
   "execution_count": null,
   "id": "a32e6376",
   "metadata": {
    "scrolled": true
   },
   "outputs": [],
   "source": [
    "# get_id_of_songs()"
   ]
  },
  {
   "cell_type": "code",
   "execution_count": null,
   "id": "bbeaa890",
   "metadata": {},
   "outputs": [],
   "source": [
    "# art=sp.search(artist)"
   ]
  },
  {
   "cell_type": "markdown",
   "id": "8488581b",
   "metadata": {},
   "source": [
    "## כל מה שלמטה זה טיוטה"
   ]
  },
  {
   "cell_type": "code",
   "execution_count": null,
   "id": "6c4da402",
   "metadata": {},
   "outputs": [],
   "source": [
    "# tracks = []\n",
    "\n",
    "# playlist_link =\"spotify:track:4A065x9kJt955eGVqf813g\"\n",
    "# #playlist_URI = playlist_link.split(\"/\")[-1].split(\"?\")[0]\n",
    "# track_uris = [x[\"track\"][\"uri\"] for x in sp.playlist_tracks(playlist_URI)[\"items\"]]\n",
    "\n",
    "# track_uri = track[\"track\"][\"uri\"]\n",
    "\n",
    "# #Track name\n",
    "# track_name = track[\"track\"][\"name\"]\n",
    "    \n",
    "# #Main Artist\n",
    "# artist_uri = track[\"track\"][\"artists\"][0][\"uri\"]\n",
    "# artist_info = sp.artist(artist_uri)\n",
    "\n",
    "# #Name, popularity, genre\n",
    "# artist_name = track[\"track\"][\"artists\"][0][\"name\"]\n",
    "# artist_pop = artist_info[\"popularity\"]\n",
    "# artist_genres = artist_info[\"genres\"]\n",
    "\n",
    "# #Album\n",
    "# album = track[\"track\"][\"album\"][\"name\"]\n",
    "\n",
    "# #Popularity of the track\n",
    "# track_pop = track[\"track\"][\"popularity\"]\n",
    "\n",
    "# track_features = sp.audio_features(track_uri)[0]\n",
    "\n",
    "# track_genre = 'None'\n",
    "# if len(artist_genres)>0:\n",
    "#     track_genre = artist_genres[0]\n",
    "\n",
    "# track_features['genre'] = track_genre\n",
    "# track_features['pop'] = track_pop\n",
    "# track_features['name'] = track_name\n",
    "# track_features['artist'] = artist_name\n",
    "# tracks.append(track_features)"
   ]
  },
  {
   "cell_type": "code",
   "execution_count": null,
   "id": "160067c5",
   "metadata": {},
   "outputs": [],
   "source": [
    "# def find_artist_id0():\n",
    "#     for song in song_names_list:\n",
    "#         for data in art['tracks']['items']:\n",
    "#             for key,value in data.items():\n",
    "              \n",
    "#                 if ((key=='uri') & (str(value).contains('a'))) :\n",
    "#                     print(str(value))\n",
    "#                     print (data['uri'])\n",
    "#                     print('dgft')\n",
    "#                     return\n",
    "#                     #print(data['uri'])\n",
    "        "
   ]
  },
  {
   "cell_type": "code",
   "execution_count": null,
   "id": "17962407",
   "metadata": {},
   "outputs": [],
   "source": [
    "  #  print(result)\n",
    "# for track in song_names_list:\n",
    "#     #print(song_names_list[track])\n",
    "#     if(track==result['tracks']['items'][0]['name']):\n",
    "#         print(result['tracks']['items'][0]['name'])\n",
    "# for item in a_dict.items():\n",
    "# ...     print(item)"
   ]
  },
  {
   "cell_type": "code",
   "execution_count": null,
   "id": "c78dfe0c",
   "metadata": {},
   "outputs": [],
   "source": [
    "# song_names_list"
   ]
  },
  {
   "cell_type": "code",
   "execution_count": null,
   "id": "0c3b395a",
   "metadata": {},
   "outputs": [],
   "source": [
    "# data.items()"
   ]
  },
  {
   "cell_type": "code",
   "execution_count": null,
   "id": "07bd14cd",
   "metadata": {},
   "outputs": [],
   "source": [
    "# result['tracks']"
   ]
  },
  {
   "cell_type": "code",
   "execution_count": null,
   "id": "608ea726",
   "metadata": {},
   "outputs": [],
   "source": [
    "# for data in result['tracks']['items']:\n",
    "#     for key,value in data.items():\n",
    "#         if (key=='name')&  (value==song_names_list[0]):\n",
    "#             print(value)"
   ]
  },
  {
   "cell_type": "code",
   "execution_count": null,
   "id": "bec3f798",
   "metadata": {},
   "outputs": [],
   "source": [
    "# result = sp.search(songs, type='track')"
   ]
  },
  {
   "cell_type": "code",
   "execution_count": null,
   "id": "509da851",
   "metadata": {},
   "outputs": [],
   "source": [
    "# data.items()"
   ]
  },
  {
   "cell_type": "code",
   "execution_count": null,
   "id": "54a52bb2",
   "metadata": {},
   "outputs": [],
   "source": [
    "# song_names_list"
   ]
  },
  {
   "cell_type": "code",
   "execution_count": null,
   "id": "e463de7e",
   "metadata": {},
   "outputs": [],
   "source": [
    "# result"
   ]
  },
  {
   "cell_type": "code",
   "execution_count": null,
   "id": "32c0c30c",
   "metadata": {},
   "outputs": [],
   "source": [
    "#result['tracks']['items'] - a list of dicts"
   ]
  },
  {
   "cell_type": "code",
   "execution_count": null,
   "id": "30872339",
   "metadata": {},
   "outputs": [],
   "source": [
    "# result['tracks']['items']"
   ]
  },
  {
   "cell_type": "code",
   "execution_count": null,
   "id": "fe039d6f",
   "metadata": {},
   "outputs": [],
   "source": [
    "#print(result['tracks']['items'])"
   ]
  },
  {
   "cell_type": "code",
   "execution_count": null,
   "id": "e1909b20",
   "metadata": {},
   "outputs": [],
   "source": [
    "# for data in result['tracks']['items']:\n",
    "#     for key,value in data.items():\n",
    "#         if (key=='name')&  (value==song_names_list[0]):\n",
    "#             print(value)"
   ]
  },
  {
   "cell_type": "code",
   "execution_count": null,
   "id": "de9eceaf",
   "metadata": {},
   "outputs": [],
   "source": [
    "# for data in result['tracks']['items']:\n",
    "#      for key in data:\n",
    "#             if key=='name'& (value==song_names_list[0]):\n",
    "#                 print(value)\n",
    "   "
   ]
  },
  {
   "cell_type": "code",
   "execution_count": null,
   "id": "03228624",
   "metadata": {},
   "outputs": [],
   "source": [
    "# for data in result['tracks']['items']:\n",
    "#      for key in data.keys():\n",
    "#             if key=='name':\n",
    "#                 print(key)\n",
    "   "
   ]
  },
  {
   "cell_type": "code",
   "execution_count": null,
   "id": "382c61ed",
   "metadata": {},
   "outputs": [],
   "source": [
    "# for data in result['tracks']['items']:\n",
    "#     print (data)"
   ]
  }
 ],
 "metadata": {
  "kernelspec": {
   "display_name": "Python 3",
   "language": "python",
   "name": "python3"
  },
  "language_info": {
   "codemirror_mode": {
    "name": "ipython",
    "version": 3
   },
   "file_extension": ".py",
   "mimetype": "text/x-python",
   "name": "python",
   "nbconvert_exporter": "python",
   "pygments_lexer": "ipython3",
   "version": "3.8.8"
  }
 },
 "nbformat": 4,
 "nbformat_minor": 5
}
