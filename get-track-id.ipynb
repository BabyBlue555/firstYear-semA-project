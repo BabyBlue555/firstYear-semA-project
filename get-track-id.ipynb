{
 "cells": [
  {
   "cell_type": "markdown",
   "id": "8c7ffd02",
   "metadata": {},
   "source": [
    "the target : to create a dataFrame that contains the information from the billabord charts and from spotify. the information from spotify is the id of each song that is in the billaboard chart.\n",
    "\n",
    "We get the id of the song,which is the connection between the billabord info and the spotify info (we take each song and artist name from the billabord chart and search for the specific song id in order to get the features that we want to check on each song, in order to classify which song is a hit or not , i.e. which song is popular and which isn't (by the popularity column, which we turned from numeric to catagorial (yes/no).\n",
    "\n",
    "In addition to getting the id - with get_id_of_songs() function, that uses other functions : get_key(val) and find_id(song,result), this function also returns the uri , the song features that we will use in the dataFrame and also info about the artist ( with find_artist_info(result) ) , which includes the 'popularity' feature , which is out target variable.  "
   ]
  },
  {
   "cell_type": "code",
   "execution_count": 1,
   "id": "f60406a5",
   "metadata": {},
   "outputs": [],
   "source": [
    "import spotipy\n",
    "from spotipy.oauth2 import SpotifyClientCredentials"
   ]
  },
  {
   "cell_type": "code",
   "execution_count": 2,
   "id": "ccc64dc2",
   "metadata": {},
   "outputs": [],
   "source": [
    "cid = \"3b41c863d85746899b1bd17a39149f8e\"\n",
    "secret = \"631b736a77d545e4a822bea470435cea\""
   ]
  },
  {
   "cell_type": "code",
   "execution_count": 3,
   "id": "9e47bfb3",
   "metadata": {},
   "outputs": [],
   "source": [
    "client_credentials_manager = SpotifyClientCredentials(client_id=cid, client_secret=secret)\n",
    "sp = spotipy.Spotify(client_credentials_manager = client_credentials_manager)"
   ]
  },
  {
   "cell_type": "markdown",
   "id": "6fce2bb1",
   "metadata": {},
   "source": [
    "#### get the artist/band name , in order to search for the song title in the find_id() function"
   ]
  },
  {
   "cell_type": "code",
   "execution_count": 4,
   "id": "c684bf1a",
   "metadata": {},
   "outputs": [],
   "source": [
    "songs={'Alice in Chains':'Them Bones','Beyonce':'Crazy In Love (feat. Jay-Z)','Glass Animals':'Heat Waves','Ed Sheeran':'The Joker And The Queen (feat. Taylor Swift)'}\n",
    "song_names=songs.values()\n",
    "artists_names=songs.keys()\n",
    "song_names_list=list(song_names)"
   ]
  },
  {
   "cell_type": "code",
   "execution_count": 5,
   "id": "94cedfea",
   "metadata": {},
   "outputs": [],
   "source": [
    "def get_key(val):\n",
    "    for key, value in songs.items():\n",
    "         if val == value:\n",
    "             return key\n",
    " \n",
    "    return \"key doesn't exist\""
   ]
  },
  {
   "cell_type": "code",
   "execution_count": 6,
   "id": "330f5932",
   "metadata": {},
   "outputs": [],
   "source": [
    "#finding the id of the specific song with the song name and a dictionary that contains the artists info\n",
    "def find_id(song,result):\n",
    "    for data in result['tracks']['items']:\n",
    "        for key,value in data.items():\n",
    "            if (key=='name')&  (value==song):\n",
    "                print(data['id'])\n",
    "                print(data['uri'])\n",
    "                print(sp.audio_features(data['uri'])[0])\n",
    "                print(sp.artist(find_artist_info(result)))\n",
    "                return \n",
    "               "
   ]
  },
  {
   "cell_type": "code",
   "execution_count": 7,
   "id": "fd018cb9",
   "metadata": {},
   "outputs": [],
   "source": [
    "# so we will get an additinal info about the artist and the song - genre , popularity and etc.\n",
    "def find_artist_info(result):\n",
    "    for data in result['tracks']['items']:\n",
    "        for key,value in data.items():\n",
    "                if (key=='artists'): \n",
    "                      return (value[0]['id'])  \n"
   ]
  },
  {
   "cell_type": "code",
   "execution_count": 8,
   "id": "1e75a535",
   "metadata": {},
   "outputs": [],
   "source": [
    "#find_artist_info(result)"
   ]
  },
  {
   "cell_type": "code",
   "execution_count": 9,
   "id": "ed38b459",
   "metadata": {
    "scrolled": true
   },
   "outputs": [],
   "source": [
    "def get_id_of_songs():\n",
    "\n",
    "    # for song in song_names_list:\n",
    "\n",
    "    for song in song_names_list:\n",
    "        result = sp.search(get_key(song), limit=10)\n",
    "     #   print(result)\n",
    "        print(\"\\n\")\n",
    "        find_id(song,result)\n",
    "\n"
   ]
  },
  {
   "cell_type": "code",
   "execution_count": 10,
   "id": "29de6730",
   "metadata": {
    "scrolled": false
   },
   "outputs": [
    {
     "name": "stdout",
     "output_type": "stream",
     "text": [
      "\n",
      "\n",
      "4A065x9kJt955eGVqf813g\n",
      "spotify:track:4A065x9kJt955eGVqf813g\n",
      "{'danceability': 0.159, 'energy': 0.946, 'key': 9, 'loudness': -5.756, 'mode': 1, 'speechiness': 0.0629, 'acousticness': 0.0235, 'instrumentalness': 8.06e-06, 'liveness': 0.387, 'valence': 0.309, 'tempo': 165.014, 'type': 'audio_features', 'id': '4A065x9kJt955eGVqf813g', 'uri': 'spotify:track:4A065x9kJt955eGVqf813g', 'track_href': 'https://api.spotify.com/v1/tracks/4A065x9kJt955eGVqf813g', 'analysis_url': 'https://api.spotify.com/v1/audio-analysis/4A065x9kJt955eGVqf813g', 'duration_ms': 149467, 'time_signature': 1}\n",
      "{'external_urls': {'spotify': 'https://open.spotify.com/artist/64tNsm6TnZe2zpcMVMOoHL'}, 'followers': {'href': None, 'total': 3780180}, 'genres': ['alternative metal', 'alternative rock', 'grunge', 'hard rock', 'nu metal', 'rock'], 'href': 'https://api.spotify.com/v1/artists/64tNsm6TnZe2zpcMVMOoHL', 'id': '64tNsm6TnZe2zpcMVMOoHL', 'images': [{'height': 640, 'url': 'https://i.scdn.co/image/ab6761610000e5eb8700c1707846db313f6af46f', 'width': 640}, {'height': 320, 'url': 'https://i.scdn.co/image/ab676161000051748700c1707846db313f6af46f', 'width': 320}, {'height': 160, 'url': 'https://i.scdn.co/image/ab6761610000f1788700c1707846db313f6af46f', 'width': 160}], 'name': 'Alice In Chains', 'popularity': 74, 'type': 'artist', 'uri': 'spotify:artist:64tNsm6TnZe2zpcMVMOoHL'}\n",
      "\n",
      "\n",
      "5IVuqXILoxVWvWEPm82Jxr\n",
      "spotify:track:5IVuqXILoxVWvWEPm82Jxr\n",
      "{'danceability': 0.646, 'energy': 0.77, 'key': 2, 'loudness': -6.596, 'mode': 0, 'speechiness': 0.226, 'acousticness': 0.00249, 'instrumentalness': 0, 'liveness': 0.0715, 'valence': 0.681, 'tempo': 99.165, 'type': 'audio_features', 'id': '5IVuqXILoxVWvWEPm82Jxr', 'uri': 'spotify:track:5IVuqXILoxVWvWEPm82Jxr', 'track_href': 'https://api.spotify.com/v1/tracks/5IVuqXILoxVWvWEPm82Jxr', 'analysis_url': 'https://api.spotify.com/v1/audio-analysis/5IVuqXILoxVWvWEPm82Jxr', 'duration_ms': 236133, 'time_signature': 4}\n",
      "{'external_urls': {'spotify': 'https://open.spotify.com/artist/6vWDO969PvNqNYHIOW5v0m'}, 'followers': {'href': None, 'total': 30424418}, 'genres': ['dance pop', 'pop', 'r&b'], 'href': 'https://api.spotify.com/v1/artists/6vWDO969PvNqNYHIOW5v0m', 'id': '6vWDO969PvNqNYHIOW5v0m', 'images': [{'height': 640, 'url': 'https://i.scdn.co/image/ab6761610000e5ebd3d058be8485c8583703b6d2', 'width': 640}, {'height': 320, 'url': 'https://i.scdn.co/image/ab67616100005174d3d058be8485c8583703b6d2', 'width': 320}, {'height': 160, 'url': 'https://i.scdn.co/image/ab6761610000f178d3d058be8485c8583703b6d2', 'width': 160}], 'name': 'Beyoncé', 'popularity': 87, 'type': 'artist', 'uri': 'spotify:artist:6vWDO969PvNqNYHIOW5v0m'}\n",
      "\n",
      "\n",
      "3USxtqRwSYz57Ewm6wWRMp\n",
      "spotify:track:3USxtqRwSYz57Ewm6wWRMp\n",
      "{'danceability': 0.761, 'energy': 0.525, 'key': 11, 'loudness': -6.9, 'mode': 1, 'speechiness': 0.0944, 'acousticness': 0.44, 'instrumentalness': 6.7e-06, 'liveness': 0.0921, 'valence': 0.531, 'tempo': 80.87, 'type': 'audio_features', 'id': '3USxtqRwSYz57Ewm6wWRMp', 'uri': 'spotify:track:3USxtqRwSYz57Ewm6wWRMp', 'track_href': 'https://api.spotify.com/v1/tracks/3USxtqRwSYz57Ewm6wWRMp', 'analysis_url': 'https://api.spotify.com/v1/audio-analysis/3USxtqRwSYz57Ewm6wWRMp', 'duration_ms': 238805, 'time_signature': 4}\n",
      "{'external_urls': {'spotify': 'https://open.spotify.com/artist/4yvcSjfu4PC0CYQyLy4wSq'}, 'followers': {'href': None, 'total': 2478357}, 'genres': ['gauze pop', 'indietronica', 'shiver pop'], 'href': 'https://api.spotify.com/v1/artists/4yvcSjfu4PC0CYQyLy4wSq', 'id': '4yvcSjfu4PC0CYQyLy4wSq', 'images': [{'height': 640, 'url': 'https://i.scdn.co/image/ab6761610000e5ebe113ca9b6bcd3d3cfc3ad784', 'width': 640}, {'height': 320, 'url': 'https://i.scdn.co/image/ab67616100005174e113ca9b6bcd3d3cfc3ad784', 'width': 320}, {'height': 160, 'url': 'https://i.scdn.co/image/ab6761610000f178e113ca9b6bcd3d3cfc3ad784', 'width': 160}], 'name': 'Glass Animals', 'popularity': 87, 'type': 'artist', 'uri': 'spotify:artist:4yvcSjfu4PC0CYQyLy4wSq'}\n",
      "\n",
      "\n",
      "6N1K5OVVCopBjGViHs2IvP\n",
      "spotify:track:6N1K5OVVCopBjGViHs2IvP\n",
      "{'danceability': 0.528, 'energy': 0.309, 'key': 0, 'loudness': -7.398, 'mode': 1, 'speechiness': 0.0329, 'acousticness': 0.924, 'instrumentalness': 2.1e-06, 'liveness': 0.282, 'valence': 0.307, 'tempo': 133.83, 'type': 'audio_features', 'id': '6N1K5OVVCopBjGViHs2IvP', 'uri': 'spotify:track:6N1K5OVVCopBjGViHs2IvP', 'track_href': 'https://api.spotify.com/v1/tracks/6N1K5OVVCopBjGViHs2IvP', 'analysis_url': 'https://api.spotify.com/v1/audio-analysis/6N1K5OVVCopBjGViHs2IvP', 'duration_ms': 185422, 'time_signature': 4}\n",
      "{'external_urls': {'spotify': 'https://open.spotify.com/artist/6eUKZXaKkcviH0Ku9w2n3V'}, 'followers': {'href': None, 'total': 92936635}, 'genres': ['pop', 'uk pop'], 'href': 'https://api.spotify.com/v1/artists/6eUKZXaKkcviH0Ku9w2n3V', 'id': '6eUKZXaKkcviH0Ku9w2n3V', 'images': [{'height': 640, 'url': 'https://i.scdn.co/image/ab6761610000e5eb12a2ef08d00dd7451a6dbed6', 'width': 640}, {'height': 320, 'url': 'https://i.scdn.co/image/ab6761610000517412a2ef08d00dd7451a6dbed6', 'width': 320}, {'height': 160, 'url': 'https://i.scdn.co/image/ab6761610000f17812a2ef08d00dd7451a6dbed6', 'width': 160}], 'name': 'Ed Sheeran', 'popularity': 96, 'type': 'artist', 'uri': 'spotify:artist:6eUKZXaKkcviH0Ku9w2n3V'}\n"
     ]
    }
   ],
   "source": [
    "get_id_of_songs()"
   ]
  },
  {
   "cell_type": "markdown",
   "id": "49d46494",
   "metadata": {},
   "source": [
    "# טיוטות"
   ]
  },
  {
   "cell_type": "code",
   "execution_count": 11,
   "id": "13178061",
   "metadata": {},
   "outputs": [],
   "source": [
    "# for artist in artists_names:\n",
    "#     art=sp.search(artist)"
   ]
  },
  {
   "cell_type": "code",
   "execution_count": 12,
   "id": "2d2a4226",
   "metadata": {},
   "outputs": [],
   "source": [
    "#art"
   ]
  },
  {
   "cell_type": "code",
   "execution_count": 13,
   "id": "67a65b8b",
   "metadata": {},
   "outputs": [],
   "source": [
    "#art['tracks']['items']"
   ]
  },
  {
   "cell_type": "code",
   "execution_count": 14,
   "id": "a803cd2d",
   "metadata": {},
   "outputs": [],
   "source": [
    "#art['tracks']['items'][0]"
   ]
  },
  {
   "cell_type": "code",
   "execution_count": 15,
   "id": "cdd82780",
   "metadata": {
    "scrolled": true
   },
   "outputs": [],
   "source": [
    "#art['tracks']['items']"
   ]
  },
  {
   "cell_type": "code",
   "execution_count": 16,
   "id": "4130bee9",
   "metadata": {},
   "outputs": [],
   "source": [
    "# #finding the id of the specific song with the song name and a dictionary that contains the artists info\n",
    "# def find_id2(song,result):\n",
    "#     for data in result['tracks']['items']:\n",
    "#         for key,value in data.items():\n",
    "#             if (key=='name')&  (value==song):\n",
    "#                 print(data['id'])\n",
    "#                 print(data['uri'])\n",
    "#                 print(sp.audio_features(data['uri'])[0])\n",
    "#                 print(sp.artist(\"64tNsm6TnZe2zpcMVMOoHL\"))\n",
    "#                 return \n",
    "               "
   ]
  },
  {
   "cell_type": "code",
   "execution_count": 17,
   "id": "828dd48e",
   "metadata": {},
   "outputs": [
    {
     "ename": "NameError",
     "evalue": "name 'result' is not defined",
     "output_type": "error",
     "traceback": [
      "\u001b[1;31m---------------------------------------------------------------------------\u001b[0m",
      "\u001b[1;31mNameError\u001b[0m                                 Traceback (most recent call last)",
      "\u001b[1;32m<ipython-input-17-d7c21093eea2>\u001b[0m in \u001b[0;36m<module>\u001b[1;34m\u001b[0m\n\u001b[1;32m----> 1\u001b[1;33m \u001b[0mfind_id2\u001b[0m\u001b[1;33m(\u001b[0m\u001b[1;34m'Them Bones'\u001b[0m\u001b[1;33m,\u001b[0m\u001b[0mresult\u001b[0m\u001b[1;33m)\u001b[0m\u001b[1;33m\u001b[0m\u001b[1;33m\u001b[0m\u001b[0m\n\u001b[0m",
      "\u001b[1;31mNameError\u001b[0m: name 'result' is not defined"
     ]
    }
   ],
   "source": [
    "\n",
    "# find_id2('Them Bones',result)"
   ]
  },
  {
   "cell_type": "code",
   "execution_count": null,
   "id": "e29c7949",
   "metadata": {},
   "outputs": [],
   "source": [
    "#  print(sp.artist(find_artist_id()))"
   ]
  },
  {
   "cell_type": "code",
   "execution_count": null,
   "id": "6c9cbed6",
   "metadata": {},
   "outputs": [],
   "source": [
    "\n",
    "#  artists_names=songs.keys()\n",
    "# def find_artist_id():\n",
    "#         for key,value in art['tracks']['items'][0]['artists'][0].items():\n",
    "#             if(key=='id'):\n",
    "#                 print(value)\n",
    "                   "
   ]
  },
  {
   "cell_type": "code",
   "execution_count": null,
   "id": "af87b6da",
   "metadata": {
    "scrolled": true
   },
   "outputs": [],
   "source": [
    "# def find_features(song,result):\n",
    "#     for song in song_names_list:\n",
    "#         result = sp.search(get_key(song), limit=10)\n",
    "#         for data in result['tracks']['items']:\n",
    "#             print(sp.audio_features(\"spotify:track:4A065x9kJt955eGVqf813g\")[0])\n",
    "#sp.artist(\"spotify:artist:6eUKZXaKkcviH0Ku9w2n3V\")\n"
   ]
  },
  {
   "cell_type": "code",
   "execution_count": null,
   "id": "a32e6376",
   "metadata": {
    "scrolled": true
   },
   "outputs": [],
   "source": [
    "# get_id_of_songs()"
   ]
  },
  {
   "cell_type": "code",
   "execution_count": null,
   "id": "bbeaa890",
   "metadata": {},
   "outputs": [],
   "source": [
    "# art=sp.search(artist)"
   ]
  },
  {
   "cell_type": "markdown",
   "id": "8488581b",
   "metadata": {},
   "source": [
    "## כל מה שלמטה זה טיוטה"
   ]
  },
  {
   "cell_type": "code",
   "execution_count": null,
   "id": "6c4da402",
   "metadata": {},
   "outputs": [],
   "source": [
    "# tracks = []\n",
    "\n",
    "# playlist_link =\"spotify:track:4A065x9kJt955eGVqf813g\"\n",
    "# #playlist_URI = playlist_link.split(\"/\")[-1].split(\"?\")[0]\n",
    "# track_uris = [x[\"track\"][\"uri\"] for x in sp.playlist_tracks(playlist_URI)[\"items\"]]\n",
    "\n",
    "# track_uri = track[\"track\"][\"uri\"]\n",
    "\n",
    "# #Track name\n",
    "# track_name = track[\"track\"][\"name\"]\n",
    "    \n",
    "# #Main Artist\n",
    "# artist_uri = track[\"track\"][\"artists\"][0][\"uri\"]\n",
    "# artist_info = sp.artist(artist_uri)\n",
    "\n",
    "# #Name, popularity, genre\n",
    "# artist_name = track[\"track\"][\"artists\"][0][\"name\"]\n",
    "# artist_pop = artist_info[\"popularity\"]\n",
    "# artist_genres = artist_info[\"genres\"]\n",
    "\n",
    "# #Album\n",
    "# album = track[\"track\"][\"album\"][\"name\"]\n",
    "\n",
    "# #Popularity of the track\n",
    "# track_pop = track[\"track\"][\"popularity\"]\n",
    "\n",
    "# track_features = sp.audio_features(track_uri)[0]\n",
    "\n",
    "# track_genre = 'None'\n",
    "# if len(artist_genres)>0:\n",
    "#     track_genre = artist_genres[0]\n",
    "\n",
    "# track_features['genre'] = track_genre\n",
    "# track_features['pop'] = track_pop\n",
    "# track_features['name'] = track_name\n",
    "# track_features['artist'] = artist_name\n",
    "# tracks.append(track_features)"
   ]
  },
  {
   "cell_type": "code",
   "execution_count": null,
   "id": "160067c5",
   "metadata": {},
   "outputs": [],
   "source": [
    "# def find_artist_id0():\n",
    "#     for song in song_names_list:\n",
    "#         for data in art['tracks']['items']:\n",
    "#             for key,value in data.items():\n",
    "              \n",
    "#                 if ((key=='uri') & (str(value).contains('a'))) :\n",
    "#                     print(str(value))\n",
    "#                     print (data['uri'])\n",
    "#                     print('dgft')\n",
    "#                     return\n",
    "#                     #print(data['uri'])\n",
    "        "
   ]
  },
  {
   "cell_type": "code",
   "execution_count": null,
   "id": "17962407",
   "metadata": {},
   "outputs": [],
   "source": [
    "  #  print(result)\n",
    "# for track in song_names_list:\n",
    "#     #print(song_names_list[track])\n",
    "#     if(track==result['tracks']['items'][0]['name']):\n",
    "#         print(result['tracks']['items'][0]['name'])\n",
    "# for item in a_dict.items():\n",
    "# ...     print(item)"
   ]
  },
  {
   "cell_type": "code",
   "execution_count": null,
   "id": "c78dfe0c",
   "metadata": {},
   "outputs": [],
   "source": [
    "# song_names_list"
   ]
  },
  {
   "cell_type": "code",
   "execution_count": null,
   "id": "0c3b395a",
   "metadata": {},
   "outputs": [],
   "source": [
    "# data.items()"
   ]
  },
  {
   "cell_type": "code",
   "execution_count": null,
   "id": "07bd14cd",
   "metadata": {},
   "outputs": [],
   "source": [
    "# result['tracks']"
   ]
  },
  {
   "cell_type": "code",
   "execution_count": null,
   "id": "608ea726",
   "metadata": {},
   "outputs": [],
   "source": [
    "# for data in result['tracks']['items']:\n",
    "#     for key,value in data.items():\n",
    "#         if (key=='name')&  (value==song_names_list[0]):\n",
    "#             print(value)"
   ]
  },
  {
   "cell_type": "code",
   "execution_count": null,
   "id": "bec3f798",
   "metadata": {},
   "outputs": [],
   "source": [
    "# result = sp.search(songs, type='track')"
   ]
  },
  {
   "cell_type": "code",
   "execution_count": null,
   "id": "509da851",
   "metadata": {},
   "outputs": [],
   "source": [
    "# data.items()"
   ]
  },
  {
   "cell_type": "code",
   "execution_count": null,
   "id": "54a52bb2",
   "metadata": {},
   "outputs": [],
   "source": [
    "# song_names_list"
   ]
  },
  {
   "cell_type": "code",
   "execution_count": null,
   "id": "e463de7e",
   "metadata": {},
   "outputs": [],
   "source": [
    "# result"
   ]
  },
  {
   "cell_type": "code",
   "execution_count": null,
   "id": "32c0c30c",
   "metadata": {},
   "outputs": [],
   "source": [
    "#result['tracks']['items'] - a list of dicts"
   ]
  },
  {
   "cell_type": "code",
   "execution_count": null,
   "id": "30872339",
   "metadata": {},
   "outputs": [],
   "source": [
    "# result['tracks']['items']"
   ]
  },
  {
   "cell_type": "code",
   "execution_count": null,
   "id": "fe039d6f",
   "metadata": {},
   "outputs": [],
   "source": [
    "#print(result['tracks']['items'])"
   ]
  },
  {
   "cell_type": "code",
   "execution_count": null,
   "id": "e1909b20",
   "metadata": {},
   "outputs": [],
   "source": [
    "# for data in result['tracks']['items']:\n",
    "#     for key,value in data.items():\n",
    "#         if (key=='name')&  (value==song_names_list[0]):\n",
    "#             print(value)"
   ]
  },
  {
   "cell_type": "code",
   "execution_count": null,
   "id": "de9eceaf",
   "metadata": {},
   "outputs": [],
   "source": [
    "# for data in result['tracks']['items']:\n",
    "#      for key in data:\n",
    "#             if key=='name'& (value==song_names_list[0]):\n",
    "#                 print(value)\n",
    "   "
   ]
  },
  {
   "cell_type": "code",
   "execution_count": null,
   "id": "03228624",
   "metadata": {},
   "outputs": [],
   "source": [
    "# for data in result['tracks']['items']:\n",
    "#      for key in data.keys():\n",
    "#             if key=='name':\n",
    "#                 print(key)\n",
    "   "
   ]
  },
  {
   "cell_type": "code",
   "execution_count": null,
   "id": "382c61ed",
   "metadata": {},
   "outputs": [],
   "source": [
    "# for data in result['tracks']['items']:\n",
    "#     print (data)"
   ]
  }
 ],
 "metadata": {
  "kernelspec": {
   "display_name": "Python 3",
   "language": "python",
   "name": "python3"
  },
  "language_info": {
   "codemirror_mode": {
    "name": "ipython",
    "version": 3
   },
   "file_extension": ".py",
   "mimetype": "text/x-python",
   "name": "python",
   "nbconvert_exporter": "python",
   "pygments_lexer": "ipython3",
   "version": "3.8.8"
  }
 },
 "nbformat": 4,
 "nbformat_minor": 5
}
