{
 "cells": [
  {
   "cell_type": "markdown",
   "id": "7167f3c2",
   "metadata": {},
   "source": [
    "# Regression Problem - Predicting the Apparent Temperature"
   ]
  },
  {
   "cell_type": "markdown",
   "id": "38320441",
   "metadata": {},
   "source": [
    "*data leakage is going to be prevented by using a large amount of data (weather reports) in the train and test sets"
   ]
  },
  {
   "cell_type": "markdown",
   "id": "237ba109",
   "metadata": {},
   "source": [
    "our dummy model - ?"
   ]
  },
  {
   "cell_type": "code",
   "execution_count": 105,
   "id": "3818cd2a",
   "metadata": {},
   "outputs": [],
   "source": [
    "import pandas as pd\n",
    "import numpy as np"
   ]
  },
  {
   "cell_type": "code",
   "execution_count": 106,
   "id": "542f6a12",
   "metadata": {},
   "outputs": [],
   "source": [
    "import matplotlib\n",
    "import seaborn as sns\n",
    "import matplotlib.pyplot as plt\n",
    "import plotly.express as px\n",
    "%matplotlib inline\n"
   ]
  },
  {
   "cell_type": "code",
   "execution_count": 107,
   "id": "a84d45a9",
   "metadata": {},
   "outputs": [],
   "source": [
    "# read the dataset \n",
    "weather =pd.read_csv(\"weatherHistory[1].csv\")"
   ]
  },
  {
   "cell_type": "code",
   "execution_count": 108,
   "id": "13785ad1",
   "metadata": {},
   "outputs": [
    {
     "data": {
      "text/html": [
       "<div>\n",
       "<style scoped>\n",
       "    .dataframe tbody tr th:only-of-type {\n",
       "        vertical-align: middle;\n",
       "    }\n",
       "\n",
       "    .dataframe tbody tr th {\n",
       "        vertical-align: top;\n",
       "    }\n",
       "\n",
       "    .dataframe thead th {\n",
       "        text-align: right;\n",
       "    }\n",
       "</style>\n",
       "<table border=\"1\" class=\"dataframe\">\n",
       "  <thead>\n",
       "    <tr style=\"text-align: right;\">\n",
       "      <th></th>\n",
       "      <th>Formatted Date</th>\n",
       "      <th>Summary</th>\n",
       "      <th>Precip Type</th>\n",
       "      <th>Temperature (C)</th>\n",
       "      <th>Apparent Temperature (C)</th>\n",
       "      <th>Humidity</th>\n",
       "      <th>Wind Speed (km/h)</th>\n",
       "      <th>Wind Bearing (degrees)</th>\n",
       "      <th>Visibility (km)</th>\n",
       "      <th>Loud Cover</th>\n",
       "      <th>Pressure (millibars)</th>\n",
       "      <th>Daily Summary</th>\n",
       "    </tr>\n",
       "  </thead>\n",
       "  <tbody>\n",
       "    <tr>\n",
       "      <th>0</th>\n",
       "      <td>2006-04-01 00:00:00.000 +0200</td>\n",
       "      <td>Partly Cloudy</td>\n",
       "      <td>rain</td>\n",
       "      <td>9.472222</td>\n",
       "      <td>7.388889</td>\n",
       "      <td>0.89</td>\n",
       "      <td>14.1197</td>\n",
       "      <td>251.0</td>\n",
       "      <td>15.8263</td>\n",
       "      <td>0.0</td>\n",
       "      <td>1015.13</td>\n",
       "      <td>Partly cloudy throughout the day.</td>\n",
       "    </tr>\n",
       "    <tr>\n",
       "      <th>1</th>\n",
       "      <td>2006-04-01 01:00:00.000 +0200</td>\n",
       "      <td>Partly Cloudy</td>\n",
       "      <td>rain</td>\n",
       "      <td>9.355556</td>\n",
       "      <td>7.227778</td>\n",
       "      <td>0.86</td>\n",
       "      <td>14.2646</td>\n",
       "      <td>259.0</td>\n",
       "      <td>15.8263</td>\n",
       "      <td>0.0</td>\n",
       "      <td>1015.63</td>\n",
       "      <td>Partly cloudy throughout the day.</td>\n",
       "    </tr>\n",
       "    <tr>\n",
       "      <th>2</th>\n",
       "      <td>2006-04-01 02:00:00.000 +0200</td>\n",
       "      <td>Mostly Cloudy</td>\n",
       "      <td>rain</td>\n",
       "      <td>9.377778</td>\n",
       "      <td>9.377778</td>\n",
       "      <td>0.89</td>\n",
       "      <td>3.9284</td>\n",
       "      <td>204.0</td>\n",
       "      <td>14.9569</td>\n",
       "      <td>0.0</td>\n",
       "      <td>1015.94</td>\n",
       "      <td>Partly cloudy throughout the day.</td>\n",
       "    </tr>\n",
       "    <tr>\n",
       "      <th>3</th>\n",
       "      <td>2006-04-01 03:00:00.000 +0200</td>\n",
       "      <td>Partly Cloudy</td>\n",
       "      <td>rain</td>\n",
       "      <td>8.288889</td>\n",
       "      <td>5.944444</td>\n",
       "      <td>0.83</td>\n",
       "      <td>14.1036</td>\n",
       "      <td>269.0</td>\n",
       "      <td>15.8263</td>\n",
       "      <td>0.0</td>\n",
       "      <td>1016.41</td>\n",
       "      <td>Partly cloudy throughout the day.</td>\n",
       "    </tr>\n",
       "    <tr>\n",
       "      <th>4</th>\n",
       "      <td>2006-04-01 04:00:00.000 +0200</td>\n",
       "      <td>Mostly Cloudy</td>\n",
       "      <td>rain</td>\n",
       "      <td>8.755556</td>\n",
       "      <td>6.977778</td>\n",
       "      <td>0.83</td>\n",
       "      <td>11.0446</td>\n",
       "      <td>259.0</td>\n",
       "      <td>15.8263</td>\n",
       "      <td>0.0</td>\n",
       "      <td>1016.51</td>\n",
       "      <td>Partly cloudy throughout the day.</td>\n",
       "    </tr>\n",
       "    <tr>\n",
       "      <th>...</th>\n",
       "      <td>...</td>\n",
       "      <td>...</td>\n",
       "      <td>...</td>\n",
       "      <td>...</td>\n",
       "      <td>...</td>\n",
       "      <td>...</td>\n",
       "      <td>...</td>\n",
       "      <td>...</td>\n",
       "      <td>...</td>\n",
       "      <td>...</td>\n",
       "      <td>...</td>\n",
       "      <td>...</td>\n",
       "    </tr>\n",
       "    <tr>\n",
       "      <th>96448</th>\n",
       "      <td>2016-09-09 19:00:00.000 +0200</td>\n",
       "      <td>Partly Cloudy</td>\n",
       "      <td>rain</td>\n",
       "      <td>26.016667</td>\n",
       "      <td>26.016667</td>\n",
       "      <td>0.43</td>\n",
       "      <td>10.9963</td>\n",
       "      <td>31.0</td>\n",
       "      <td>16.1000</td>\n",
       "      <td>0.0</td>\n",
       "      <td>1014.36</td>\n",
       "      <td>Partly cloudy starting in the morning.</td>\n",
       "    </tr>\n",
       "    <tr>\n",
       "      <th>96449</th>\n",
       "      <td>2016-09-09 20:00:00.000 +0200</td>\n",
       "      <td>Partly Cloudy</td>\n",
       "      <td>rain</td>\n",
       "      <td>24.583333</td>\n",
       "      <td>24.583333</td>\n",
       "      <td>0.48</td>\n",
       "      <td>10.0947</td>\n",
       "      <td>20.0</td>\n",
       "      <td>15.5526</td>\n",
       "      <td>0.0</td>\n",
       "      <td>1015.16</td>\n",
       "      <td>Partly cloudy starting in the morning.</td>\n",
       "    </tr>\n",
       "    <tr>\n",
       "      <th>96450</th>\n",
       "      <td>2016-09-09 21:00:00.000 +0200</td>\n",
       "      <td>Partly Cloudy</td>\n",
       "      <td>rain</td>\n",
       "      <td>22.038889</td>\n",
       "      <td>22.038889</td>\n",
       "      <td>0.56</td>\n",
       "      <td>8.9838</td>\n",
       "      <td>30.0</td>\n",
       "      <td>16.1000</td>\n",
       "      <td>0.0</td>\n",
       "      <td>1015.66</td>\n",
       "      <td>Partly cloudy starting in the morning.</td>\n",
       "    </tr>\n",
       "    <tr>\n",
       "      <th>96451</th>\n",
       "      <td>2016-09-09 22:00:00.000 +0200</td>\n",
       "      <td>Partly Cloudy</td>\n",
       "      <td>rain</td>\n",
       "      <td>21.522222</td>\n",
       "      <td>21.522222</td>\n",
       "      <td>0.60</td>\n",
       "      <td>10.5294</td>\n",
       "      <td>20.0</td>\n",
       "      <td>16.1000</td>\n",
       "      <td>0.0</td>\n",
       "      <td>1015.95</td>\n",
       "      <td>Partly cloudy starting in the morning.</td>\n",
       "    </tr>\n",
       "    <tr>\n",
       "      <th>96452</th>\n",
       "      <td>2016-09-09 23:00:00.000 +0200</td>\n",
       "      <td>Partly Cloudy</td>\n",
       "      <td>rain</td>\n",
       "      <td>20.438889</td>\n",
       "      <td>20.438889</td>\n",
       "      <td>0.61</td>\n",
       "      <td>5.8765</td>\n",
       "      <td>39.0</td>\n",
       "      <td>15.5204</td>\n",
       "      <td>0.0</td>\n",
       "      <td>1016.16</td>\n",
       "      <td>Partly cloudy starting in the morning.</td>\n",
       "    </tr>\n",
       "  </tbody>\n",
       "</table>\n",
       "<p>96453 rows × 12 columns</p>\n",
       "</div>"
      ],
      "text/plain": [
       "                      Formatted Date        Summary Precip Type  \\\n",
       "0      2006-04-01 00:00:00.000 +0200  Partly Cloudy        rain   \n",
       "1      2006-04-01 01:00:00.000 +0200  Partly Cloudy        rain   \n",
       "2      2006-04-01 02:00:00.000 +0200  Mostly Cloudy        rain   \n",
       "3      2006-04-01 03:00:00.000 +0200  Partly Cloudy        rain   \n",
       "4      2006-04-01 04:00:00.000 +0200  Mostly Cloudy        rain   \n",
       "...                              ...            ...         ...   \n",
       "96448  2016-09-09 19:00:00.000 +0200  Partly Cloudy        rain   \n",
       "96449  2016-09-09 20:00:00.000 +0200  Partly Cloudy        rain   \n",
       "96450  2016-09-09 21:00:00.000 +0200  Partly Cloudy        rain   \n",
       "96451  2016-09-09 22:00:00.000 +0200  Partly Cloudy        rain   \n",
       "96452  2016-09-09 23:00:00.000 +0200  Partly Cloudy        rain   \n",
       "\n",
       "       Temperature (C)  Apparent Temperature (C)  Humidity  Wind Speed (km/h)  \\\n",
       "0             9.472222                  7.388889      0.89            14.1197   \n",
       "1             9.355556                  7.227778      0.86            14.2646   \n",
       "2             9.377778                  9.377778      0.89             3.9284   \n",
       "3             8.288889                  5.944444      0.83            14.1036   \n",
       "4             8.755556                  6.977778      0.83            11.0446   \n",
       "...                ...                       ...       ...                ...   \n",
       "96448        26.016667                 26.016667      0.43            10.9963   \n",
       "96449        24.583333                 24.583333      0.48            10.0947   \n",
       "96450        22.038889                 22.038889      0.56             8.9838   \n",
       "96451        21.522222                 21.522222      0.60            10.5294   \n",
       "96452        20.438889                 20.438889      0.61             5.8765   \n",
       "\n",
       "       Wind Bearing (degrees)  Visibility (km)  Loud Cover  \\\n",
       "0                       251.0          15.8263         0.0   \n",
       "1                       259.0          15.8263         0.0   \n",
       "2                       204.0          14.9569         0.0   \n",
       "3                       269.0          15.8263         0.0   \n",
       "4                       259.0          15.8263         0.0   \n",
       "...                       ...              ...         ...   \n",
       "96448                    31.0          16.1000         0.0   \n",
       "96449                    20.0          15.5526         0.0   \n",
       "96450                    30.0          16.1000         0.0   \n",
       "96451                    20.0          16.1000         0.0   \n",
       "96452                    39.0          15.5204         0.0   \n",
       "\n",
       "       Pressure (millibars)                           Daily Summary  \n",
       "0                   1015.13       Partly cloudy throughout the day.  \n",
       "1                   1015.63       Partly cloudy throughout the day.  \n",
       "2                   1015.94       Partly cloudy throughout the day.  \n",
       "3                   1016.41       Partly cloudy throughout the day.  \n",
       "4                   1016.51       Partly cloudy throughout the day.  \n",
       "...                     ...                                     ...  \n",
       "96448               1014.36  Partly cloudy starting in the morning.  \n",
       "96449               1015.16  Partly cloudy starting in the morning.  \n",
       "96450               1015.66  Partly cloudy starting in the morning.  \n",
       "96451               1015.95  Partly cloudy starting in the morning.  \n",
       "96452               1016.16  Partly cloudy starting in the morning.  \n",
       "\n",
       "[96453 rows x 12 columns]"
      ]
     },
     "execution_count": 108,
     "metadata": {},
     "output_type": "execute_result"
    }
   ],
   "source": [
    "weather"
   ]
  },
  {
   "cell_type": "code",
   "execution_count": 109,
   "id": "6df9613b",
   "metadata": {},
   "outputs": [],
   "source": [
    "#change misprint\n",
    "weather=weather.rename(columns={'Loud Cover': 'Cloud Cover'})"
   ]
  },
  {
   "cell_type": "markdown",
   "id": "db3c52b8",
   "metadata": {},
   "source": [
    "# 1. getting to know the data"
   ]
  },
  {
   "cell_type": "code",
   "execution_count": 110,
   "id": "38324a4b",
   "metadata": {},
   "outputs": [
    {
     "data": {
      "text/html": [
       "<div>\n",
       "<style scoped>\n",
       "    .dataframe tbody tr th:only-of-type {\n",
       "        vertical-align: middle;\n",
       "    }\n",
       "\n",
       "    .dataframe tbody tr th {\n",
       "        vertical-align: top;\n",
       "    }\n",
       "\n",
       "    .dataframe thead th {\n",
       "        text-align: right;\n",
       "    }\n",
       "</style>\n",
       "<table border=\"1\" class=\"dataframe\">\n",
       "  <thead>\n",
       "    <tr style=\"text-align: right;\">\n",
       "      <th></th>\n",
       "      <th>Temperature (C)</th>\n",
       "      <th>Apparent Temperature (C)</th>\n",
       "      <th>Humidity</th>\n",
       "      <th>Wind Speed (km/h)</th>\n",
       "      <th>Wind Bearing (degrees)</th>\n",
       "      <th>Visibility (km)</th>\n",
       "      <th>Cloud Cover</th>\n",
       "      <th>Pressure (millibars)</th>\n",
       "    </tr>\n",
       "  </thead>\n",
       "  <tbody>\n",
       "    <tr>\n",
       "      <th>count</th>\n",
       "      <td>96453.000000</td>\n",
       "      <td>96453.000000</td>\n",
       "      <td>96453.000000</td>\n",
       "      <td>96453.000000</td>\n",
       "      <td>96453.000000</td>\n",
       "      <td>96453.000000</td>\n",
       "      <td>96453.0</td>\n",
       "      <td>96453.000000</td>\n",
       "    </tr>\n",
       "    <tr>\n",
       "      <th>mean</th>\n",
       "      <td>11.932678</td>\n",
       "      <td>10.855029</td>\n",
       "      <td>0.734899</td>\n",
       "      <td>10.810640</td>\n",
       "      <td>187.509232</td>\n",
       "      <td>10.347325</td>\n",
       "      <td>0.0</td>\n",
       "      <td>1003.235956</td>\n",
       "    </tr>\n",
       "    <tr>\n",
       "      <th>std</th>\n",
       "      <td>9.551546</td>\n",
       "      <td>10.696847</td>\n",
       "      <td>0.195473</td>\n",
       "      <td>6.913571</td>\n",
       "      <td>107.383428</td>\n",
       "      <td>4.192123</td>\n",
       "      <td>0.0</td>\n",
       "      <td>116.969906</td>\n",
       "    </tr>\n",
       "    <tr>\n",
       "      <th>min</th>\n",
       "      <td>-21.822222</td>\n",
       "      <td>-27.716667</td>\n",
       "      <td>0.000000</td>\n",
       "      <td>0.000000</td>\n",
       "      <td>0.000000</td>\n",
       "      <td>0.000000</td>\n",
       "      <td>0.0</td>\n",
       "      <td>0.000000</td>\n",
       "    </tr>\n",
       "    <tr>\n",
       "      <th>25%</th>\n",
       "      <td>4.688889</td>\n",
       "      <td>2.311111</td>\n",
       "      <td>0.600000</td>\n",
       "      <td>5.828200</td>\n",
       "      <td>116.000000</td>\n",
       "      <td>8.339800</td>\n",
       "      <td>0.0</td>\n",
       "      <td>1011.900000</td>\n",
       "    </tr>\n",
       "    <tr>\n",
       "      <th>50%</th>\n",
       "      <td>12.000000</td>\n",
       "      <td>12.000000</td>\n",
       "      <td>0.780000</td>\n",
       "      <td>9.965900</td>\n",
       "      <td>180.000000</td>\n",
       "      <td>10.046400</td>\n",
       "      <td>0.0</td>\n",
       "      <td>1016.450000</td>\n",
       "    </tr>\n",
       "    <tr>\n",
       "      <th>75%</th>\n",
       "      <td>18.838889</td>\n",
       "      <td>18.838889</td>\n",
       "      <td>0.890000</td>\n",
       "      <td>14.135800</td>\n",
       "      <td>290.000000</td>\n",
       "      <td>14.812000</td>\n",
       "      <td>0.0</td>\n",
       "      <td>1021.090000</td>\n",
       "    </tr>\n",
       "    <tr>\n",
       "      <th>max</th>\n",
       "      <td>39.905556</td>\n",
       "      <td>39.344444</td>\n",
       "      <td>1.000000</td>\n",
       "      <td>63.852600</td>\n",
       "      <td>359.000000</td>\n",
       "      <td>16.100000</td>\n",
       "      <td>0.0</td>\n",
       "      <td>1046.380000</td>\n",
       "    </tr>\n",
       "  </tbody>\n",
       "</table>\n",
       "</div>"
      ],
      "text/plain": [
       "       Temperature (C)  Apparent Temperature (C)      Humidity  \\\n",
       "count     96453.000000              96453.000000  96453.000000   \n",
       "mean         11.932678                 10.855029      0.734899   \n",
       "std           9.551546                 10.696847      0.195473   \n",
       "min         -21.822222                -27.716667      0.000000   \n",
       "25%           4.688889                  2.311111      0.600000   \n",
       "50%          12.000000                 12.000000      0.780000   \n",
       "75%          18.838889                 18.838889      0.890000   \n",
       "max          39.905556                 39.344444      1.000000   \n",
       "\n",
       "       Wind Speed (km/h)  Wind Bearing (degrees)  Visibility (km)  \\\n",
       "count       96453.000000            96453.000000     96453.000000   \n",
       "mean           10.810640              187.509232        10.347325   \n",
       "std             6.913571              107.383428         4.192123   \n",
       "min             0.000000                0.000000         0.000000   \n",
       "25%             5.828200              116.000000         8.339800   \n",
       "50%             9.965900              180.000000        10.046400   \n",
       "75%            14.135800              290.000000        14.812000   \n",
       "max            63.852600              359.000000        16.100000   \n",
       "\n",
       "       Cloud Cover  Pressure (millibars)  \n",
       "count      96453.0          96453.000000  \n",
       "mean           0.0           1003.235956  \n",
       "std            0.0            116.969906  \n",
       "min            0.0              0.000000  \n",
       "25%            0.0           1011.900000  \n",
       "50%            0.0           1016.450000  \n",
       "75%            0.0           1021.090000  \n",
       "max            0.0           1046.380000  "
      ]
     },
     "execution_count": 110,
     "metadata": {},
     "output_type": "execute_result"
    }
   ],
   "source": [
    "weather.describe()"
   ]
  },
  {
   "cell_type": "markdown",
   "id": "31dad687",
   "metadata": {},
   "source": [
    "### the numeric variables histogramas:"
   ]
  },
  {
   "cell_type": "code",
   "execution_count": 111,
   "id": "ce3a3dc0",
   "metadata": {},
   "outputs": [
    {
     "data": {
      "text/plain": [
       "array([[<AxesSubplot:title={'center':'Temperature (C)'}>,\n",
       "        <AxesSubplot:title={'center':'Apparent Temperature (C)'}>],\n",
       "       [<AxesSubplot:title={'center':'Wind Speed (km/h)'}>,\n",
       "        <AxesSubplot:title={'center':'Pressure (millibars)'}>],\n",
       "       [<AxesSubplot:title={'center':'Cloud Cover'}>, <AxesSubplot:>]],\n",
       "      dtype=object)"
      ]
     },
     "execution_count": 111,
     "metadata": {},
     "output_type": "execute_result"
    },
    {
     "data": {
      "image/png": "[encoded data removed]",
      "text/plain": [
       "<Figure size 1440x1080 with 6 Axes>"
      ]
     },
     "metadata": {
      "needs_background": "light"
     },
     "output_type": "display_data"
    }
   ],
   "source": [
    "atttibutes_hist = weather[[\"Temperature (C)\", \"Apparent Temperature (C)\", \"Wind Speed (km/h)\", \"Pressure (millibars)\",'Cloud Cover']].hist(bins=50, figsize=(20,15))\n",
    "atttibutes_hist"
   ]
  },
  {
   "cell_type": "markdown",
   "id": "11ce7618",
   "metadata": {},
   "source": [
    "as we can see, cloud cover has only values of 0 , so we should delete it "
   ]
  },
  {
   "cell_type": "code",
   "execution_count": 112,
   "id": "3d6ec9a0",
   "metadata": {},
   "outputs": [],
   "source": [
    "del weather['Cloud Cover']"
   ]
  },
  {
   "cell_type": "markdown",
   "id": "ee0eb50f",
   "metadata": {},
   "source": [
    "### What are the features?\n",
    "*Formatted Date - includes day, week , month, year\n",
    "\n",
    "*Summary - sum up of the weather\n",
    "\n",
    "*Precip Type - which type of raindrops \n",
    "\n",
    "*Temperature (C)\n",
    "\n",
    "*Humidity - Humidity depends on the temperature and pressure .\n",
    "\n",
    "*Wind Speed (km/h)\t\n",
    "\n",
    "*Wind Bearing (degrees)\t- direction of the wind\n",
    "\n",
    "*Visibility (km) - visibility is a measure of the distance at which an object or light can be clearly discerned.\t\n",
    "\n",
    "*Cloud Cover\t(loud cover- misprint)\n",
    "\n",
    "*Pressure (millibars) - High pressure means the air is heavy . Under high pressure you can generally expect sunny skies and calm weather , whereas Low pressure systems lead to active weather like wind and rain, and also severe weather.\n",
    "\n",
    "*Daily Summary - daily sum up of the weather\n",
    "\n",
    "\n",
    "## What is the target variable?\n",
    "\n",
    "Apparent Temperature : in simple words, Apparent Temperature is the temperature humans percieve, mostly outdoors, as a combination or the actual air temperature, humidity and wind. \n",
    "\n",
    "What else do we know?\n",
    "\n",
    "\n",
    "*we are starting with 12 variables (including the dependent)\n",
    "\n",
    "\n",
    "\n",
    "<!-- is The perceived temperature in degrees Fahrenheit derived from either a combination of temperature and wind (Wind Chill) or temperature and humidity (Heat Index) for the indicated hour. -\n",
    "->\n",
    "\n",
    "\n",
    "\n",
    "\n",
    "<!-- 1. Because the response variable is continuous, this is a regression problem.\n",
    "2.There are 96453 observations (represented by the rows), and each observation is a weather report from a different date.\n",
    " -->"
   ]
  },
  {
   "cell_type": "markdown",
   "id": "f9f27c2a",
   "metadata": {},
   "source": [
    "# 2. preprocessing of the data"
   ]
  },
  {
   "cell_type": "code",
   "execution_count": 113,
   "id": "65e9d058",
   "metadata": {},
   "outputs": [
    {
     "data": {
      "text/html": [
       "<div>\n",
       "<style scoped>\n",
       "    .dataframe tbody tr th:only-of-type {\n",
       "        vertical-align: middle;\n",
       "    }\n",
       "\n",
       "    .dataframe tbody tr th {\n",
       "        vertical-align: top;\n",
       "    }\n",
       "\n",
       "    .dataframe thead th {\n",
       "        text-align: right;\n",
       "    }\n",
       "</style>\n",
       "<table border=\"1\" class=\"dataframe\">\n",
       "  <thead>\n",
       "    <tr style=\"text-align: right;\">\n",
       "      <th></th>\n",
       "      <th>Formatted Date</th>\n",
       "      <th>Summary</th>\n",
       "      <th>Precip Type</th>\n",
       "      <th>Temperature (C)</th>\n",
       "      <th>Apparent Temperature (C)</th>\n",
       "      <th>Humidity</th>\n",
       "      <th>Wind Speed (km/h)</th>\n",
       "      <th>Wind Bearing (degrees)</th>\n",
       "      <th>Visibility (km)</th>\n",
       "      <th>Pressure (millibars)</th>\n",
       "      <th>Daily Summary</th>\n",
       "    </tr>\n",
       "  </thead>\n",
       "  <tbody>\n",
       "    <tr>\n",
       "      <th>0</th>\n",
       "      <td>2006-04-01 00:00:00.000 +0200</td>\n",
       "      <td>Partly Cloudy</td>\n",
       "      <td>rain</td>\n",
       "      <td>9.472222</td>\n",
       "      <td>7.388889</td>\n",
       "      <td>0.89</td>\n",
       "      <td>14.1197</td>\n",
       "      <td>251.0</td>\n",
       "      <td>15.8263</td>\n",
       "      <td>1015.13</td>\n",
       "      <td>Partly cloudy throughout the day.</td>\n",
       "    </tr>\n",
       "    <tr>\n",
       "      <th>1</th>\n",
       "      <td>2006-04-01 01:00:00.000 +0200</td>\n",
       "      <td>Partly Cloudy</td>\n",
       "      <td>rain</td>\n",
       "      <td>9.355556</td>\n",
       "      <td>7.227778</td>\n",
       "      <td>0.86</td>\n",
       "      <td>14.2646</td>\n",
       "      <td>259.0</td>\n",
       "      <td>15.8263</td>\n",
       "      <td>1015.63</td>\n",
       "      <td>Partly cloudy throughout the day.</td>\n",
       "    </tr>\n",
       "    <tr>\n",
       "      <th>2</th>\n",
       "      <td>2006-04-01 02:00:00.000 +0200</td>\n",
       "      <td>Mostly Cloudy</td>\n",
       "      <td>rain</td>\n",
       "      <td>9.377778</td>\n",
       "      <td>9.377778</td>\n",
       "      <td>0.89</td>\n",
       "      <td>3.9284</td>\n",
       "      <td>204.0</td>\n",
       "      <td>14.9569</td>\n",
       "      <td>1015.94</td>\n",
       "      <td>Partly cloudy throughout the day.</td>\n",
       "    </tr>\n",
       "    <tr>\n",
       "      <th>3</th>\n",
       "      <td>2006-04-01 03:00:00.000 +0200</td>\n",
       "      <td>Partly Cloudy</td>\n",
       "      <td>rain</td>\n",
       "      <td>8.288889</td>\n",
       "      <td>5.944444</td>\n",
       "      <td>0.83</td>\n",
       "      <td>14.1036</td>\n",
       "      <td>269.0</td>\n",
       "      <td>15.8263</td>\n",
       "      <td>1016.41</td>\n",
       "      <td>Partly cloudy throughout the day.</td>\n",
       "    </tr>\n",
       "    <tr>\n",
       "      <th>4</th>\n",
       "      <td>2006-04-01 04:00:00.000 +0200</td>\n",
       "      <td>Mostly Cloudy</td>\n",
       "      <td>rain</td>\n",
       "      <td>8.755556</td>\n",
       "      <td>6.977778</td>\n",
       "      <td>0.83</td>\n",
       "      <td>11.0446</td>\n",
       "      <td>259.0</td>\n",
       "      <td>15.8263</td>\n",
       "      <td>1016.51</td>\n",
       "      <td>Partly cloudy throughout the day.</td>\n",
       "    </tr>\n",
       "    <tr>\n",
       "      <th>...</th>\n",
       "      <td>...</td>\n",
       "      <td>...</td>\n",
       "      <td>...</td>\n",
       "      <td>...</td>\n",
       "      <td>...</td>\n",
       "      <td>...</td>\n",
       "      <td>...</td>\n",
       "      <td>...</td>\n",
       "      <td>...</td>\n",
       "      <td>...</td>\n",
       "      <td>...</td>\n",
       "    </tr>\n",
       "    <tr>\n",
       "      <th>96448</th>\n",
       "      <td>2016-09-09 19:00:00.000 +0200</td>\n",
       "      <td>Partly Cloudy</td>\n",
       "      <td>rain</td>\n",
       "      <td>26.016667</td>\n",
       "      <td>26.016667</td>\n",
       "      <td>0.43</td>\n",
       "      <td>10.9963</td>\n",
       "      <td>31.0</td>\n",
       "      <td>16.1000</td>\n",
       "      <td>1014.36</td>\n",
       "      <td>Partly cloudy starting in the morning.</td>\n",
       "    </tr>\n",
       "    <tr>\n",
       "      <th>96449</th>\n",
       "      <td>2016-09-09 20:00:00.000 +0200</td>\n",
       "      <td>Partly Cloudy</td>\n",
       "      <td>rain</td>\n",
       "      <td>24.583333</td>\n",
       "      <td>24.583333</td>\n",
       "      <td>0.48</td>\n",
       "      <td>10.0947</td>\n",
       "      <td>20.0</td>\n",
       "      <td>15.5526</td>\n",
       "      <td>1015.16</td>\n",
       "      <td>Partly cloudy starting in the morning.</td>\n",
       "    </tr>\n",
       "    <tr>\n",
       "      <th>96450</th>\n",
       "      <td>2016-09-09 21:00:00.000 +0200</td>\n",
       "      <td>Partly Cloudy</td>\n",
       "      <td>rain</td>\n",
       "      <td>22.038889</td>\n",
       "      <td>22.038889</td>\n",
       "      <td>0.56</td>\n",
       "      <td>8.9838</td>\n",
       "      <td>30.0</td>\n",
       "      <td>16.1000</td>\n",
       "      <td>1015.66</td>\n",
       "      <td>Partly cloudy starting in the morning.</td>\n",
       "    </tr>\n",
       "    <tr>\n",
       "      <th>96451</th>\n",
       "      <td>2016-09-09 22:00:00.000 +0200</td>\n",
       "      <td>Partly Cloudy</td>\n",
       "      <td>rain</td>\n",
       "      <td>21.522222</td>\n",
       "      <td>21.522222</td>\n",
       "      <td>0.60</td>\n",
       "      <td>10.5294</td>\n",
       "      <td>20.0</td>\n",
       "      <td>16.1000</td>\n",
       "      <td>1015.95</td>\n",
       "      <td>Partly cloudy starting in the morning.</td>\n",
       "    </tr>\n",
       "    <tr>\n",
       "      <th>96452</th>\n",
       "      <td>2016-09-09 23:00:00.000 +0200</td>\n",
       "      <td>Partly Cloudy</td>\n",
       "      <td>rain</td>\n",
       "      <td>20.438889</td>\n",
       "      <td>20.438889</td>\n",
       "      <td>0.61</td>\n",
       "      <td>5.8765</td>\n",
       "      <td>39.0</td>\n",
       "      <td>15.5204</td>\n",
       "      <td>1016.16</td>\n",
       "      <td>Partly cloudy starting in the morning.</td>\n",
       "    </tr>\n",
       "  </tbody>\n",
       "</table>\n",
       "<p>95936 rows × 11 columns</p>\n",
       "</div>"
      ],
      "text/plain": [
       "                      Formatted Date        Summary Precip Type  \\\n",
       "0      2006-04-01 00:00:00.000 +0200  Partly Cloudy        rain   \n",
       "1      2006-04-01 01:00:00.000 +0200  Partly Cloudy        rain   \n",
       "2      2006-04-01 02:00:00.000 +0200  Mostly Cloudy        rain   \n",
       "3      2006-04-01 03:00:00.000 +0200  Partly Cloudy        rain   \n",
       "4      2006-04-01 04:00:00.000 +0200  Mostly Cloudy        rain   \n",
       "...                              ...            ...         ...   \n",
       "96448  2016-09-09 19:00:00.000 +0200  Partly Cloudy        rain   \n",
       "96449  2016-09-09 20:00:00.000 +0200  Partly Cloudy        rain   \n",
       "96450  2016-09-09 21:00:00.000 +0200  Partly Cloudy        rain   \n",
       "96451  2016-09-09 22:00:00.000 +0200  Partly Cloudy        rain   \n",
       "96452  2016-09-09 23:00:00.000 +0200  Partly Cloudy        rain   \n",
       "\n",
       "       Temperature (C)  Apparent Temperature (C)  Humidity  Wind Speed (km/h)  \\\n",
       "0             9.472222                  7.388889      0.89            14.1197   \n",
       "1             9.355556                  7.227778      0.86            14.2646   \n",
       "2             9.377778                  9.377778      0.89             3.9284   \n",
       "3             8.288889                  5.944444      0.83            14.1036   \n",
       "4             8.755556                  6.977778      0.83            11.0446   \n",
       "...                ...                       ...       ...                ...   \n",
       "96448        26.016667                 26.016667      0.43            10.9963   \n",
       "96449        24.583333                 24.583333      0.48            10.0947   \n",
       "96450        22.038889                 22.038889      0.56             8.9838   \n",
       "96451        21.522222                 21.522222      0.60            10.5294   \n",
       "96452        20.438889                 20.438889      0.61             5.8765   \n",
       "\n",
       "       Wind Bearing (degrees)  Visibility (km)  Pressure (millibars)  \\\n",
       "0                       251.0          15.8263               1015.13   \n",
       "1                       259.0          15.8263               1015.63   \n",
       "2                       204.0          14.9569               1015.94   \n",
       "3                       269.0          15.8263               1016.41   \n",
       "4                       259.0          15.8263               1016.51   \n",
       "...                       ...              ...                   ...   \n",
       "96448                    31.0          16.1000               1014.36   \n",
       "96449                    20.0          15.5526               1015.16   \n",
       "96450                    30.0          16.1000               1015.66   \n",
       "96451                    20.0          16.1000               1015.95   \n",
       "96452                    39.0          15.5204               1016.16   \n",
       "\n",
       "                                Daily Summary  \n",
       "0           Partly cloudy throughout the day.  \n",
       "1           Partly cloudy throughout the day.  \n",
       "2           Partly cloudy throughout the day.  \n",
       "3           Partly cloudy throughout the day.  \n",
       "4           Partly cloudy throughout the day.  \n",
       "...                                       ...  \n",
       "96448  Partly cloudy starting in the morning.  \n",
       "96449  Partly cloudy starting in the morning.  \n",
       "96450  Partly cloudy starting in the morning.  \n",
       "96451  Partly cloudy starting in the morning.  \n",
       "96452  Partly cloudy starting in the morning.  \n",
       "\n",
       "[95936 rows x 11 columns]"
      ]
     },
     "execution_count": 113,
     "metadata": {},
     "output_type": "execute_result"
    }
   ],
   "source": [
    "weather.dropna()"
   ]
  },
  {
   "cell_type": "code",
   "execution_count": 114,
   "id": "af7a53f2",
   "metadata": {},
   "outputs": [
    {
     "data": {
      "text/plain": [
       "Formatted Date              False\n",
       "Summary                     False\n",
       "Precip Type                  True\n",
       "Temperature (C)             False\n",
       "Apparent Temperature (C)    False\n",
       "Humidity                    False\n",
       "Wind Speed (km/h)           False\n",
       "Wind Bearing (degrees)      False\n",
       "Visibility (km)             False\n",
       "Pressure (millibars)        False\n",
       "Daily Summary               False\n",
       "dtype: bool"
      ]
     },
     "execution_count": 114,
     "metadata": {},
     "output_type": "execute_result"
    }
   ],
   "source": [
    "weather.isnull().any()"
   ]
  },
  {
   "cell_type": "markdown",
   "id": "e22fd1ca",
   "metadata": {},
   "source": [
    "as we can see, there is still nan values in the Precip Type column.\n",
    "\n",
    "we will handle this by fill in the most common catagory of this feature (rain) instead of the nan values "
   ]
  },
  {
   "cell_type": "code",
   "execution_count": 115,
   "id": "e30fea49",
   "metadata": {},
   "outputs": [
    {
     "name": "stdout",
     "output_type": "stream",
     "text": [
      "rain    85224\n",
      "snow    10712\n",
      "Name: Precip Type, dtype: int64\n"
     ]
    }
   ],
   "source": [
    "print(weather['Precip Type'].value_counts())"
   ]
  },
  {
   "cell_type": "code",
   "execution_count": 116,
   "id": "7e4563cd",
   "metadata": {},
   "outputs": [],
   "source": [
    "import pandas as pd\n",
    "pd.options.mode.chained_assignment = None  # default='warn'\n",
    "weather['Precip Type'] = weather['Precip Type'].fillna(\"rain\")"
   ]
  },
  {
   "cell_type": "markdown",
   "id": "6be4d79f",
   "metadata": {},
   "source": [
    "\n",
    "#### Precip Type, Temperature, wind speed , Wind Bearing, pressure are features that supposed to be  linked very strongly with the Apparent Temperature (according to the information we read), they are crucial for the prediction of the Apparent Temperature. \n",
    "\n",
    "on the other hand, daily summary is not that beneficial,  since we have the column Precip Type and also Summary.\n",
    "\n",
    "*The term \"wind direction\" is defined as the compass heading FROM which the wind is blowing"
   ]
  },
  {
   "cell_type": "code",
   "execution_count": 117,
   "id": "4ed19638",
   "metadata": {},
   "outputs": [],
   "source": [
    "del weather['Daily Summary']"
   ]
  },
  {
   "cell_type": "code",
   "execution_count": 118,
   "id": "8457b61e",
   "metadata": {},
   "outputs": [
    {
     "data": {
      "text/html": [
       "<div>\n",
       "<style scoped>\n",
       "    .dataframe tbody tr th:only-of-type {\n",
       "        vertical-align: middle;\n",
       "    }\n",
       "\n",
       "    .dataframe tbody tr th {\n",
       "        vertical-align: top;\n",
       "    }\n",
       "\n",
       "    .dataframe thead th {\n",
       "        text-align: right;\n",
       "    }\n",
       "</style>\n",
       "<table border=\"1\" class=\"dataframe\">\n",
       "  <thead>\n",
       "    <tr style=\"text-align: right;\">\n",
       "      <th></th>\n",
       "      <th>Formatted Date</th>\n",
       "      <th>Summary</th>\n",
       "      <th>Precip Type</th>\n",
       "      <th>Temperature (C)</th>\n",
       "      <th>Apparent Temperature (C)</th>\n",
       "      <th>Humidity</th>\n",
       "      <th>Wind Speed (km/h)</th>\n",
       "      <th>Wind Bearing (degrees)</th>\n",
       "      <th>Visibility (km)</th>\n",
       "      <th>Pressure (millibars)</th>\n",
       "    </tr>\n",
       "  </thead>\n",
       "  <tbody>\n",
       "    <tr>\n",
       "      <th>0</th>\n",
       "      <td>2006-04-01 00:00:00.000 +0200</td>\n",
       "      <td>Partly Cloudy</td>\n",
       "      <td>rain</td>\n",
       "      <td>9.472222</td>\n",
       "      <td>7.388889</td>\n",
       "      <td>0.89</td>\n",
       "      <td>14.1197</td>\n",
       "      <td>251.0</td>\n",
       "      <td>15.8263</td>\n",
       "      <td>1015.13</td>\n",
       "    </tr>\n",
       "    <tr>\n",
       "      <th>1</th>\n",
       "      <td>2006-04-01 01:00:00.000 +0200</td>\n",
       "      <td>Partly Cloudy</td>\n",
       "      <td>rain</td>\n",
       "      <td>9.355556</td>\n",
       "      <td>7.227778</td>\n",
       "      <td>0.86</td>\n",
       "      <td>14.2646</td>\n",
       "      <td>259.0</td>\n",
       "      <td>15.8263</td>\n",
       "      <td>1015.63</td>\n",
       "    </tr>\n",
       "    <tr>\n",
       "      <th>2</th>\n",
       "      <td>2006-04-01 02:00:00.000 +0200</td>\n",
       "      <td>Mostly Cloudy</td>\n",
       "      <td>rain</td>\n",
       "      <td>9.377778</td>\n",
       "      <td>9.377778</td>\n",
       "      <td>0.89</td>\n",
       "      <td>3.9284</td>\n",
       "      <td>204.0</td>\n",
       "      <td>14.9569</td>\n",
       "      <td>1015.94</td>\n",
       "    </tr>\n",
       "    <tr>\n",
       "      <th>3</th>\n",
       "      <td>2006-04-01 03:00:00.000 +0200</td>\n",
       "      <td>Partly Cloudy</td>\n",
       "      <td>rain</td>\n",
       "      <td>8.288889</td>\n",
       "      <td>5.944444</td>\n",
       "      <td>0.83</td>\n",
       "      <td>14.1036</td>\n",
       "      <td>269.0</td>\n",
       "      <td>15.8263</td>\n",
       "      <td>1016.41</td>\n",
       "    </tr>\n",
       "    <tr>\n",
       "      <th>4</th>\n",
       "      <td>2006-04-01 04:00:00.000 +0200</td>\n",
       "      <td>Mostly Cloudy</td>\n",
       "      <td>rain</td>\n",
       "      <td>8.755556</td>\n",
       "      <td>6.977778</td>\n",
       "      <td>0.83</td>\n",
       "      <td>11.0446</td>\n",
       "      <td>259.0</td>\n",
       "      <td>15.8263</td>\n",
       "      <td>1016.51</td>\n",
       "    </tr>\n",
       "    <tr>\n",
       "      <th>...</th>\n",
       "      <td>...</td>\n",
       "      <td>...</td>\n",
       "      <td>...</td>\n",
       "      <td>...</td>\n",
       "      <td>...</td>\n",
       "      <td>...</td>\n",
       "      <td>...</td>\n",
       "      <td>...</td>\n",
       "      <td>...</td>\n",
       "      <td>...</td>\n",
       "    </tr>\n",
       "    <tr>\n",
       "      <th>96448</th>\n",
       "      <td>2016-09-09 19:00:00.000 +0200</td>\n",
       "      <td>Partly Cloudy</td>\n",
       "      <td>rain</td>\n",
       "      <td>26.016667</td>\n",
       "      <td>26.016667</td>\n",
       "      <td>0.43</td>\n",
       "      <td>10.9963</td>\n",
       "      <td>31.0</td>\n",
       "      <td>16.1000</td>\n",
       "      <td>1014.36</td>\n",
       "    </tr>\n",
       "    <tr>\n",
       "      <th>96449</th>\n",
       "      <td>2016-09-09 20:00:00.000 +0200</td>\n",
       "      <td>Partly Cloudy</td>\n",
       "      <td>rain</td>\n",
       "      <td>24.583333</td>\n",
       "      <td>24.583333</td>\n",
       "      <td>0.48</td>\n",
       "      <td>10.0947</td>\n",
       "      <td>20.0</td>\n",
       "      <td>15.5526</td>\n",
       "      <td>1015.16</td>\n",
       "    </tr>\n",
       "    <tr>\n",
       "      <th>96450</th>\n",
       "      <td>2016-09-09 21:00:00.000 +0200</td>\n",
       "      <td>Partly Cloudy</td>\n",
       "      <td>rain</td>\n",
       "      <td>22.038889</td>\n",
       "      <td>22.038889</td>\n",
       "      <td>0.56</td>\n",
       "      <td>8.9838</td>\n",
       "      <td>30.0</td>\n",
       "      <td>16.1000</td>\n",
       "      <td>1015.66</td>\n",
       "    </tr>\n",
       "    <tr>\n",
       "      <th>96451</th>\n",
       "      <td>2016-09-09 22:00:00.000 +0200</td>\n",
       "      <td>Partly Cloudy</td>\n",
       "      <td>rain</td>\n",
       "      <td>21.522222</td>\n",
       "      <td>21.522222</td>\n",
       "      <td>0.60</td>\n",
       "      <td>10.5294</td>\n",
       "      <td>20.0</td>\n",
       "      <td>16.1000</td>\n",
       "      <td>1015.95</td>\n",
       "    </tr>\n",
       "    <tr>\n",
       "      <th>96452</th>\n",
       "      <td>2016-09-09 23:00:00.000 +0200</td>\n",
       "      <td>Partly Cloudy</td>\n",
       "      <td>rain</td>\n",
       "      <td>20.438889</td>\n",
       "      <td>20.438889</td>\n",
       "      <td>0.61</td>\n",
       "      <td>5.8765</td>\n",
       "      <td>39.0</td>\n",
       "      <td>15.5204</td>\n",
       "      <td>1016.16</td>\n",
       "    </tr>\n",
       "  </tbody>\n",
       "</table>\n",
       "<p>96453 rows × 10 columns</p>\n",
       "</div>"
      ],
      "text/plain": [
       "                      Formatted Date        Summary Precip Type  \\\n",
       "0      2006-04-01 00:00:00.000 +0200  Partly Cloudy        rain   \n",
       "1      2006-04-01 01:00:00.000 +0200  Partly Cloudy        rain   \n",
       "2      2006-04-01 02:00:00.000 +0200  Mostly Cloudy        rain   \n",
       "3      2006-04-01 03:00:00.000 +0200  Partly Cloudy        rain   \n",
       "4      2006-04-01 04:00:00.000 +0200  Mostly Cloudy        rain   \n",
       "...                              ...            ...         ...   \n",
       "96448  2016-09-09 19:00:00.000 +0200  Partly Cloudy        rain   \n",
       "96449  2016-09-09 20:00:00.000 +0200  Partly Cloudy        rain   \n",
       "96450  2016-09-09 21:00:00.000 +0200  Partly Cloudy        rain   \n",
       "96451  2016-09-09 22:00:00.000 +0200  Partly Cloudy        rain   \n",
       "96452  2016-09-09 23:00:00.000 +0200  Partly Cloudy        rain   \n",
       "\n",
       "       Temperature (C)  Apparent Temperature (C)  Humidity  Wind Speed (km/h)  \\\n",
       "0             9.472222                  7.388889      0.89            14.1197   \n",
       "1             9.355556                  7.227778      0.86            14.2646   \n",
       "2             9.377778                  9.377778      0.89             3.9284   \n",
       "3             8.288889                  5.944444      0.83            14.1036   \n",
       "4             8.755556                  6.977778      0.83            11.0446   \n",
       "...                ...                       ...       ...                ...   \n",
       "96448        26.016667                 26.016667      0.43            10.9963   \n",
       "96449        24.583333                 24.583333      0.48            10.0947   \n",
       "96450        22.038889                 22.038889      0.56             8.9838   \n",
       "96451        21.522222                 21.522222      0.60            10.5294   \n",
       "96452        20.438889                 20.438889      0.61             5.8765   \n",
       "\n",
       "       Wind Bearing (degrees)  Visibility (km)  Pressure (millibars)  \n",
       "0                       251.0          15.8263               1015.13  \n",
       "1                       259.0          15.8263               1015.63  \n",
       "2                       204.0          14.9569               1015.94  \n",
       "3                       269.0          15.8263               1016.41  \n",
       "4                       259.0          15.8263               1016.51  \n",
       "...                       ...              ...                   ...  \n",
       "96448                    31.0          16.1000               1014.36  \n",
       "96449                    20.0          15.5526               1015.16  \n",
       "96450                    30.0          16.1000               1015.66  \n",
       "96451                    20.0          16.1000               1015.95  \n",
       "96452                    39.0          15.5204               1016.16  \n",
       "\n",
       "[96453 rows x 10 columns]"
      ]
     },
     "execution_count": 118,
     "metadata": {},
     "output_type": "execute_result"
    }
   ],
   "source": [
    "weather"
   ]
  },
  {
   "cell_type": "markdown",
   "id": "896d511c",
   "metadata": {},
   "source": [
    "now , we will split the 'Formatted Date' feature to 4 different numeric attributes in order to get a better understanding of the data  "
   ]
  },
  {
   "cell_type": "code",
   "execution_count": 119,
   "id": "2756cfbe",
   "metadata": {},
   "outputs": [],
   "source": [
    "import datetime"
   ]
  },
  {
   "cell_type": "code",
   "execution_count": 120,
   "id": "038cb71c",
   "metadata": {},
   "outputs": [],
   "source": [
    "weather['Formatted Date'] = pd.to_datetime(weather['Formatted Date'],utc=True)"
   ]
  },
  {
   "cell_type": "code",
   "execution_count": 121,
   "id": "33a529a4",
   "metadata": {},
   "outputs": [],
   "source": [
    "weather['year'] = weather['Formatted Date'].dt.year\n",
    "weather['month'] = weather['Formatted Date'].dt.month\n",
    "weather['day'] = weather['Formatted Date'].dt.day\n",
    "weather['weekday'] = weather['Formatted Date'].dt.weekday"
   ]
  },
  {
   "cell_type": "code",
   "execution_count": 122,
   "id": "972fecfe",
   "metadata": {},
   "outputs": [],
   "source": [
    "del weather['Formatted Date']"
   ]
  },
  {
   "cell_type": "code",
   "execution_count": 123,
   "id": "6f42d124",
   "metadata": {},
   "outputs": [
    {
     "data": {
      "text/html": [
       "<div>\n",
       "<style scoped>\n",
       "    .dataframe tbody tr th:only-of-type {\n",
       "        vertical-align: middle;\n",
       "    }\n",
       "\n",
       "    .dataframe tbody tr th {\n",
       "        vertical-align: top;\n",
       "    }\n",
       "\n",
       "    .dataframe thead th {\n",
       "        text-align: right;\n",
       "    }\n",
       "</style>\n",
       "<table border=\"1\" class=\"dataframe\">\n",
       "  <thead>\n",
       "    <tr style=\"text-align: right;\">\n",
       "      <th></th>\n",
       "      <th>Summary</th>\n",
       "      <th>Precip Type</th>\n",
       "      <th>Temperature (C)</th>\n",
       "      <th>Apparent Temperature (C)</th>\n",
       "      <th>Humidity</th>\n",
       "      <th>Wind Speed (km/h)</th>\n",
       "      <th>Wind Bearing (degrees)</th>\n",
       "      <th>Visibility (km)</th>\n",
       "      <th>Pressure (millibars)</th>\n",
       "      <th>year</th>\n",
       "      <th>month</th>\n",
       "      <th>day</th>\n",
       "      <th>weekday</th>\n",
       "    </tr>\n",
       "  </thead>\n",
       "  <tbody>\n",
       "    <tr>\n",
       "      <th>0</th>\n",
       "      <td>Partly Cloudy</td>\n",
       "      <td>rain</td>\n",
       "      <td>9.472222</td>\n",
       "      <td>7.388889</td>\n",
       "      <td>0.89</td>\n",
       "      <td>14.1197</td>\n",
       "      <td>251.0</td>\n",
       "      <td>15.8263</td>\n",
       "      <td>1015.13</td>\n",
       "      <td>2006</td>\n",
       "      <td>3</td>\n",
       "      <td>31</td>\n",
       "      <td>4</td>\n",
       "    </tr>\n",
       "    <tr>\n",
       "      <th>1</th>\n",
       "      <td>Partly Cloudy</td>\n",
       "      <td>rain</td>\n",
       "      <td>9.355556</td>\n",
       "      <td>7.227778</td>\n",
       "      <td>0.86</td>\n",
       "      <td>14.2646</td>\n",
       "      <td>259.0</td>\n",
       "      <td>15.8263</td>\n",
       "      <td>1015.63</td>\n",
       "      <td>2006</td>\n",
       "      <td>3</td>\n",
       "      <td>31</td>\n",
       "      <td>4</td>\n",
       "    </tr>\n",
       "    <tr>\n",
       "      <th>2</th>\n",
       "      <td>Mostly Cloudy</td>\n",
       "      <td>rain</td>\n",
       "      <td>9.377778</td>\n",
       "      <td>9.377778</td>\n",
       "      <td>0.89</td>\n",
       "      <td>3.9284</td>\n",
       "      <td>204.0</td>\n",
       "      <td>14.9569</td>\n",
       "      <td>1015.94</td>\n",
       "      <td>2006</td>\n",
       "      <td>4</td>\n",
       "      <td>1</td>\n",
       "      <td>5</td>\n",
       "    </tr>\n",
       "    <tr>\n",
       "      <th>3</th>\n",
       "      <td>Partly Cloudy</td>\n",
       "      <td>rain</td>\n",
       "      <td>8.288889</td>\n",
       "      <td>5.944444</td>\n",
       "      <td>0.83</td>\n",
       "      <td>14.1036</td>\n",
       "      <td>269.0</td>\n",
       "      <td>15.8263</td>\n",
       "      <td>1016.41</td>\n",
       "      <td>2006</td>\n",
       "      <td>4</td>\n",
       "      <td>1</td>\n",
       "      <td>5</td>\n",
       "    </tr>\n",
       "    <tr>\n",
       "      <th>4</th>\n",
       "      <td>Mostly Cloudy</td>\n",
       "      <td>rain</td>\n",
       "      <td>8.755556</td>\n",
       "      <td>6.977778</td>\n",
       "      <td>0.83</td>\n",
       "      <td>11.0446</td>\n",
       "      <td>259.0</td>\n",
       "      <td>15.8263</td>\n",
       "      <td>1016.51</td>\n",
       "      <td>2006</td>\n",
       "      <td>4</td>\n",
       "      <td>1</td>\n",
       "      <td>5</td>\n",
       "    </tr>\n",
       "    <tr>\n",
       "      <th>...</th>\n",
       "      <td>...</td>\n",
       "      <td>...</td>\n",
       "      <td>...</td>\n",
       "      <td>...</td>\n",
       "      <td>...</td>\n",
       "      <td>...</td>\n",
       "      <td>...</td>\n",
       "      <td>...</td>\n",
       "      <td>...</td>\n",
       "      <td>...</td>\n",
       "      <td>...</td>\n",
       "      <td>...</td>\n",
       "      <td>...</td>\n",
       "    </tr>\n",
       "    <tr>\n",
       "      <th>96448</th>\n",
       "      <td>Partly Cloudy</td>\n",
       "      <td>rain</td>\n",
       "      <td>26.016667</td>\n",
       "      <td>26.016667</td>\n",
       "      <td>0.43</td>\n",
       "      <td>10.9963</td>\n",
       "      <td>31.0</td>\n",
       "      <td>16.1000</td>\n",
       "      <td>1014.36</td>\n",
       "      <td>2016</td>\n",
       "      <td>9</td>\n",
       "      <td>9</td>\n",
       "      <td>4</td>\n",
       "    </tr>\n",
       "    <tr>\n",
       "      <th>96449</th>\n",
       "      <td>Partly Cloudy</td>\n",
       "      <td>rain</td>\n",
       "      <td>24.583333</td>\n",
       "      <td>24.583333</td>\n",
       "      <td>0.48</td>\n",
       "      <td>10.0947</td>\n",
       "      <td>20.0</td>\n",
       "      <td>15.5526</td>\n",
       "      <td>1015.16</td>\n",
       "      <td>2016</td>\n",
       "      <td>9</td>\n",
       "      <td>9</td>\n",
       "      <td>4</td>\n",
       "    </tr>\n",
       "    <tr>\n",
       "      <th>96450</th>\n",
       "      <td>Partly Cloudy</td>\n",
       "      <td>rain</td>\n",
       "      <td>22.038889</td>\n",
       "      <td>22.038889</td>\n",
       "      <td>0.56</td>\n",
       "      <td>8.9838</td>\n",
       "      <td>30.0</td>\n",
       "      <td>16.1000</td>\n",
       "      <td>1015.66</td>\n",
       "      <td>2016</td>\n",
       "      <td>9</td>\n",
       "      <td>9</td>\n",
       "      <td>4</td>\n",
       "    </tr>\n",
       "    <tr>\n",
       "      <th>96451</th>\n",
       "      <td>Partly Cloudy</td>\n",
       "      <td>rain</td>\n",
       "      <td>21.522222</td>\n",
       "      <td>21.522222</td>\n",
       "      <td>0.60</td>\n",
       "      <td>10.5294</td>\n",
       "      <td>20.0</td>\n",
       "      <td>16.1000</td>\n",
       "      <td>1015.95</td>\n",
       "      <td>2016</td>\n",
       "      <td>9</td>\n",
       "      <td>9</td>\n",
       "      <td>4</td>\n",
       "    </tr>\n",
       "    <tr>\n",
       "      <th>96452</th>\n",
       "      <td>Partly Cloudy</td>\n",
       "      <td>rain</td>\n",
       "      <td>20.438889</td>\n",
       "      <td>20.438889</td>\n",
       "      <td>0.61</td>\n",
       "      <td>5.8765</td>\n",
       "      <td>39.0</td>\n",
       "      <td>15.5204</td>\n",
       "      <td>1016.16</td>\n",
       "      <td>2016</td>\n",
       "      <td>9</td>\n",
       "      <td>9</td>\n",
       "      <td>4</td>\n",
       "    </tr>\n",
       "  </tbody>\n",
       "</table>\n",
       "<p>96453 rows × 13 columns</p>\n",
       "</div>"
      ],
      "text/plain": [
       "             Summary Precip Type  Temperature (C)  Apparent Temperature (C)  \\\n",
       "0      Partly Cloudy        rain         9.472222                  7.388889   \n",
       "1      Partly Cloudy        rain         9.355556                  7.227778   \n",
       "2      Mostly Cloudy        rain         9.377778                  9.377778   \n",
       "3      Partly Cloudy        rain         8.288889                  5.944444   \n",
       "4      Mostly Cloudy        rain         8.755556                  6.977778   \n",
       "...              ...         ...              ...                       ...   \n",
       "96448  Partly Cloudy        rain        26.016667                 26.016667   \n",
       "96449  Partly Cloudy        rain        24.583333                 24.583333   \n",
       "96450  Partly Cloudy        rain        22.038889                 22.038889   \n",
       "96451  Partly Cloudy        rain        21.522222                 21.522222   \n",
       "96452  Partly Cloudy        rain        20.438889                 20.438889   \n",
       "\n",
       "       Humidity  Wind Speed (km/h)  Wind Bearing (degrees)  Visibility (km)  \\\n",
       "0          0.89            14.1197                   251.0          15.8263   \n",
       "1          0.86            14.2646                   259.0          15.8263   \n",
       "2          0.89             3.9284                   204.0          14.9569   \n",
       "3          0.83            14.1036                   269.0          15.8263   \n",
       "4          0.83            11.0446                   259.0          15.8263   \n",
       "...         ...                ...                     ...              ...   \n",
       "96448      0.43            10.9963                    31.0          16.1000   \n",
       "96449      0.48            10.0947                    20.0          15.5526   \n",
       "96450      0.56             8.9838                    30.0          16.1000   \n",
       "96451      0.60            10.5294                    20.0          16.1000   \n",
       "96452      0.61             5.8765                    39.0          15.5204   \n",
       "\n",
       "       Pressure (millibars)  year  month  day  weekday  \n",
       "0                   1015.13  2006      3   31        4  \n",
       "1                   1015.63  2006      3   31        4  \n",
       "2                   1015.94  2006      4    1        5  \n",
       "3                   1016.41  2006      4    1        5  \n",
       "4                   1016.51  2006      4    1        5  \n",
       "...                     ...   ...    ...  ...      ...  \n",
       "96448               1014.36  2016      9    9        4  \n",
       "96449               1015.16  2016      9    9        4  \n",
       "96450               1015.66  2016      9    9        4  \n",
       "96451               1015.95  2016      9    9        4  \n",
       "96452               1016.16  2016      9    9        4  \n",
       "\n",
       "[96453 rows x 13 columns]"
      ]
     },
     "execution_count": 123,
     "metadata": {},
     "output_type": "execute_result"
    }
   ],
   "source": [
    "weather"
   ]
  },
  {
   "cell_type": "markdown",
   "id": "7d222ea1",
   "metadata": {},
   "source": [
    "getting rid of outliers:\n"
   ]
  },
  {
   "cell_type": "code",
   "execution_count": 124,
   "id": "44023cd0",
   "metadata": {},
   "outputs": [
    {
     "name": "stdout",
     "output_type": "stream",
     "text": [
      "Partly Cloudy                          31733\n",
      "Mostly Cloudy                          28094\n",
      "Overcast                               16597\n",
      "Clear                                  10890\n",
      "Foggy                                   7148\n",
      "Breezy and Overcast                      528\n",
      "Breezy and Mostly Cloudy                 516\n",
      "Breezy and Partly Cloudy                 386\n",
      "Dry and Partly Cloudy                     86\n",
      "Windy and Partly Cloudy                   67\n",
      "Light Rain                                63\n",
      "Breezy                                    54\n",
      "Windy and Overcast                        45\n",
      "Humid and Mostly Cloudy                   40\n",
      "Drizzle                                   39\n",
      "Windy and Mostly Cloudy                   35\n",
      "Breezy and Foggy                          35\n",
      "Dry                                       34\n",
      "Humid and Partly Cloudy                   17\n",
      "Dry and Mostly Cloudy                     14\n",
      "Rain                                      10\n",
      "Windy                                      8\n",
      "Humid and Overcast                         7\n",
      "Windy and Foggy                            4\n",
      "Dangerously Windy and Partly Cloudy        1\n",
      "Breezy and Dry                             1\n",
      "Windy and Dry                              1\n",
      "Name: Summary, dtype: int64\n"
     ]
    }
   ],
   "source": [
    "print(weather['Summary'].value_counts())"
   ]
  },
  {
   "cell_type": "code",
   "execution_count": 125,
   "id": "229f8840",
   "metadata": {},
   "outputs": [
    {
     "name": "stdout",
     "output_type": "stream",
     "text": [
      "Partly Cloudy               31733\n",
      "Mostly Cloudy               28094\n",
      "Overcast                    16597\n",
      "Clear                       10890\n",
      "Foggy                        7148\n",
      "Breezy and Overcast           528\n",
      "Breezy and Mostly Cloudy      516\n",
      "Breezy and Partly Cloudy      386\n",
      "Dry and Partly Cloudy          86\n",
      "Windy and Partly Cloudy        67\n",
      "Light Rain                     63\n",
      "Breezy                         54\n",
      "Windy and Overcast             45\n",
      "Humid and Mostly Cloudy        40\n",
      "Drizzle                        39\n",
      "Windy and Mostly Cloudy        35\n",
      "Breezy and Foggy               35\n",
      "Dry                            34\n",
      "Humid and Partly Cloudy        17\n",
      "Dry and Mostly Cloudy          14\n",
      "Rain                           10\n",
      "Windy                           8\n",
      "Humid and Overcast              7\n",
      "Windy and Foggy                 4\n",
      "Name: Summary, dtype: int64\n"
     ]
    }
   ],
   "source": [
    "weather = weather[(weather['Summary'] != \"Dangerously Windy and Partly Cloudy\") &( weather['Summary'] != \"Breezy and Dry\") & (weather['Summary']!=\"Windy and Dry\") ]\n",
    "print(weather['Summary'].value_counts())"
   ]
  },
  {
   "cell_type": "code",
   "execution_count": 126,
   "id": "248cedc6",
   "metadata": {},
   "outputs": [
    {
     "data": {
      "text/plain": [
       "0        False\n",
       "1        False\n",
       "2        False\n",
       "3        False\n",
       "4        False\n",
       "         ...  \n",
       "96448    False\n",
       "96449    False\n",
       "96450    False\n",
       "96451    False\n",
       "96452    False\n",
       "Name: Summary, Length: 96450, dtype: bool"
      ]
     },
     "execution_count": 126,
     "metadata": {},
     "output_type": "execute_result"
    }
   ],
   "source": [
    "weather['Summary']=='Foggy'"
   ]
  },
  {
   "cell_type": "markdown",
   "id": "67e7ecb7",
   "metadata": {},
   "source": [
    "### replacing a feature with a better one"
   ]
  },
  {
   "cell_type": "code",
   "execution_count": 127,
   "id": "72a07536",
   "metadata": {},
   "outputs": [
    {
     "data": {
      "text/plain": [
       "array([[<AxesSubplot:title={'center':'Temperature (C)'}>,\n",
       "        <AxesSubplot:title={'center':'month'}>]], dtype=object)"
      ]
     },
     "execution_count": 127,
     "metadata": {},
     "output_type": "execute_result"
    },
    {
     "data": {
      "image/png": "[encoded data removed]",
      "text/plain": [
       "<Figure size 1440x1080 with 2 Axes>"
      ]
     },
     "metadata": {
      "needs_background": "light"
     },
     "output_type": "display_data"
    }
   ],
   "source": [
    "atttibutes_hist = weather[[\"Temperature (C)\",\"month\"]].hist(bins=50, figsize=(20,15))\n",
    "atttibutes_hist"
   ]
  },
  {
   "cell_type": "code",
   "execution_count": 128,
   "id": "7569efca",
   "metadata": {
    "scrolled": true
   },
   "outputs": [
    {
     "data": {
      "text/plain": [
       "<seaborn.axisgrid.PairGrid at 0x19ad0f39610>"
      ]
     },
     "execution_count": 128,
     "metadata": {},
     "output_type": "execute_result"
    },
    {
     "data": {
      "image/png": "[encoded data removed]",
      "text/plain": [
       "<Figure size 352.8x504 with 1 Axes>"
      ]
     },
     "metadata": {
      "needs_background": "light"
     },
     "output_type": "display_data"
    }
   ],
   "source": [
    "sns.pairplot(weather, x_vars=['month'], y_vars='Apparent Temperature (C)', height=7, aspect=0.7, kind='reg')"
   ]
  },
  {
   "cell_type": "code",
   "execution_count": 129,
   "id": "2ba97a22",
   "metadata": {
    "scrolled": true
   },
   "outputs": [],
   "source": [
    "#(weather['month']>5) & (weather['month']<9)"
   ]
  },
  {
   "cell_type": "markdown",
   "id": "8dc68b81",
   "metadata": {},
   "source": [
    "#### as we can see above, the Apparent Temperature  is higher in the months that are in the middle of the year.\n",
    "\n",
    "####  so, we can create a feature that checks if the month is in the middle of the year , or the beggining or the end - we will set the beggining of the middle to be the 5th month, and the end of the middle to be the 9th month\n",
    "\n",
    "#### this feature will be called: \"middle of year\" and will have yes/no values.\n",
    "\n",
    "#### this is a good idea to replace this feature with the \"month\" feature , since it's giving us a more intuitive relation with the Apparent Temperature, and it probably has a  stronger correlation to it."
   ]
  },
  {
   "cell_type": "code",
   "execution_count": 130,
   "id": "2caa95a9",
   "metadata": {},
   "outputs": [],
   "source": [
    "weather['middle of year']=(weather['month']>5) & (weather['month']<9)"
   ]
  },
  {
   "cell_type": "code",
   "execution_count": 131,
   "id": "4753891a",
   "metadata": {
    "scrolled": true
   },
   "outputs": [
    {
     "data": {
      "text/plain": [
       "<seaborn.axisgrid.PairGrid at 0x19ac623dfd0>"
      ]
     },
     "execution_count": 131,
     "metadata": {},
     "output_type": "execute_result"
    },
    {
     "data": {
      "image/png": "[encoded data removed]",
      "text/plain": [
       "<Figure size 352.8x504 with 1 Axes>"
      ]
     },
     "metadata": {
      "needs_background": "light"
     },
     "output_type": "display_data"
    }
   ],
   "source": [
    "sns.pairplot(weather, x_vars=['middle of year'], y_vars='Apparent Temperature (C)', height=7, aspect=0.7, kind='reg')"
   ]
  },
  {
   "cell_type": "code",
   "execution_count": 132,
   "id": "1fda2e1c",
   "metadata": {},
   "outputs": [],
   "source": [
    "#del weather['month']"
   ]
  },
  {
   "cell_type": "markdown",
   "id": "ba4c758c",
   "metadata": {},
   "source": [
    "as we can see in the correlation below:"
   ]
  },
  {
   "cell_type": "code",
   "execution_count": 133,
   "id": "b4a290f7",
   "metadata": {
    "scrolled": true
   },
   "outputs": [
    {
     "data": {
      "text/plain": [
       "Apparent Temperature (C)    1.000000\n",
       "Temperature (C)             0.992629\n",
       "middle of year              0.605518\n",
       "Visibility (km)             0.381730\n",
       "month                       0.158002\n",
       "Wind Bearing (degrees)      0.029040\n",
       "year                        0.017155\n",
       "day                         0.001729\n",
       "weekday                     0.000391\n",
       "Pressure (millibars)       -0.000222\n",
       "Wind Speed (km/h)          -0.056719\n",
       "Humidity                   -0.602572\n",
       "Name: Apparent Temperature (C), dtype: float64"
      ]
     },
     "execution_count": 133,
     "metadata": {},
     "output_type": "execute_result"
    }
   ],
   "source": [
    "corr_matrix = weather.corr()\n",
    "corr_matrix['Apparent Temperature (C)'].sort_values(ascending=False)"
   ]
  },
  {
   "cell_type": "markdown",
   "id": "235f90af",
   "metadata": {},
   "source": [
    "## 1.2 encoding catagorial data"
   ]
  },
  {
   "cell_type": "markdown",
   "id": "bf19594c",
   "metadata": {},
   "source": [
    "we need to encode Summary, Precip Type and middle of year to numeric columns"
   ]
  },
  {
   "cell_type": "code",
   "execution_count": 134,
   "id": "54e76a61",
   "metadata": {},
   "outputs": [
    {
     "data": {
      "text/plain": [
       "array(['rain', 'snow'], dtype=object)"
      ]
     },
     "execution_count": 134,
     "metadata": {},
     "output_type": "execute_result"
    }
   ],
   "source": [
    "weather['Precip Type'].unique()"
   ]
  },
  {
   "cell_type": "code",
   "execution_count": 135,
   "id": "c9460baa",
   "metadata": {},
   "outputs": [
    {
     "name": "stdout",
     "output_type": "stream",
     "text": [
      "False    72141\n",
      "True     24309\n",
      "Name: middle of year, dtype: int64\n"
     ]
    }
   ],
   "source": [
    "print(weather['middle of year'].value_counts())"
   ]
  },
  {
   "cell_type": "code",
   "execution_count": 136,
   "id": "1eff03c7",
   "metadata": {},
   "outputs": [
    {
     "name": "stdout",
     "output_type": "stream",
     "text": [
      "rain    85738\n",
      "snow    10712\n",
      "Name: Precip Type, dtype: int64\n"
     ]
    }
   ],
   "source": [
    "# or \n",
    "print(weather['Precip Type'].value_counts())"
   ]
  },
  {
   "cell_type": "markdown",
   "id": "dc5cb65b",
   "metadata": {},
   "source": [
    "If a categorical column has just two categories (it's called a binary category), then we can replace their values with 0 and 1. and because the 'Precip Type' column has only 2 catagoreis:"
   ]
  },
  {
   "cell_type": "code",
   "execution_count": 137,
   "id": "7743cc9d",
   "metadata": {},
   "outputs": [],
   "source": [
    "precip_types = {'rain':0,'snow':1}\n",
    "weather['precip_type']= weather['Precip Type'].map(precip_types)"
   ]
  },
  {
   "cell_type": "code",
   "execution_count": 138,
   "id": "ec4c8dab",
   "metadata": {},
   "outputs": [
    {
     "data": {
      "text/plain": [
       "array(['Partly Cloudy', 'Mostly Cloudy', 'Overcast', 'Foggy',\n",
       "       'Breezy and Mostly Cloudy', 'Clear', 'Breezy and Partly Cloudy',\n",
       "       'Breezy and Overcast', 'Humid and Mostly Cloudy',\n",
       "       'Humid and Partly Cloudy', 'Windy and Foggy', 'Windy and Overcast',\n",
       "       'Breezy and Foggy', 'Windy and Partly Cloudy', 'Breezy',\n",
       "       'Dry and Partly Cloudy', 'Windy and Mostly Cloudy', 'Dry', 'Windy',\n",
       "       'Humid and Overcast', 'Light Rain', 'Drizzle',\n",
       "       'Dry and Mostly Cloudy', 'Rain'], dtype=object)"
      ]
     },
     "execution_count": 138,
     "metadata": {},
     "output_type": "execute_result"
    }
   ],
   "source": [
    "weather['Summary'].unique()"
   ]
  },
  {
   "cell_type": "markdown",
   "id": "a62db4e3",
   "metadata": {},
   "source": [
    "In contrast to the 'precip_type' column , the Summary column has a lot of catagories, so we will use labelEncoder in order to transform the non-numerical labels to numerical labels  \n"
   ]
  },
  {
   "cell_type": "code",
   "execution_count": 139,
   "id": "d802416e",
   "metadata": {},
   "outputs": [
    {
     "data": {
      "text/plain": [
       "array([17, 15, 16, 10,  2,  5,  4,  3, 11, 13, 20, 22,  1, 23,  0,  9, 21,\n",
       "        7, 19, 12, 14,  6,  8, 18])"
      ]
     },
     "execution_count": 139,
     "metadata": {},
     "output_type": "execute_result"
    }
   ],
   "source": [
    "from sklearn import preprocessing\n",
    "lbl_encoder=preprocessing.LabelEncoder()\n",
    "weather['summary'] = lbl_encoder.fit_transform(weather['Summary'])\n",
    "weather['summary'].unique()"
   ]
  },
  {
   "cell_type": "markdown",
   "id": "3e37beb5",
   "metadata": {},
   "source": [
    "now, after we encoded these values, we need to handle another problem:\n",
    "the machine learning model may assume that there is some correlation between these variables, which will produce the wrong output. So to remove this issue, we will use dummy encoding."
   ]
  },
  {
   "cell_type": "markdown",
   "id": "880e8195",
   "metadata": {},
   "source": [
    "For Dummy Encoding, we will use OneHotEncoder class of preprocessing library."
   ]
  },
  {
   "cell_type": "code",
   "execution_count": 140,
   "id": "500e9e88",
   "metadata": {},
   "outputs": [],
   "source": [
    "# #for Country Variable  \n",
    "# from sklearn.preprocessing import LabelEncoder, OneHotEncoder  \n",
    "# label_encoder_x= LabelEncoder()  \n",
    "# weather['Precip Type']= label_encoder_x.fit_transform(weather['Precip Type'])  \n",
    "# #Encoding for dummy variables  \n",
    "# onehot_encoder= OneHotEncoder(categories=weather['Precip Type'])    \n",
    "\n",
    "\n",
    "# pre= onehot_encoder.fit_transform(pre).toarray()  "
   ]
  },
  {
   "cell_type": "code",
   "execution_count": 141,
   "id": "705436a0",
   "metadata": {},
   "outputs": [],
   "source": [
    "# dummy encoding of categorical features\n",
    "from sklearn.preprocessing import OneHotEncoder\n",
    "ohe = OneHotEncoder(sparse=False)\n"
   ]
  },
  {
   "cell_type": "code",
   "execution_count": 142,
   "id": "ec8da2cf",
   "metadata": {},
   "outputs": [
    {
     "data": {
      "text/plain": [
       "array([[0., 0., 0., ..., 0., 0., 0.],\n",
       "       [0., 0., 0., ..., 0., 0., 0.],\n",
       "       [0., 0., 0., ..., 0., 0., 0.],\n",
       "       ...,\n",
       "       [0., 0., 0., ..., 0., 0., 0.],\n",
       "       [0., 0., 0., ..., 0., 0., 0.],\n",
       "       [0., 0., 0., ..., 0., 0., 0.]])"
      ]
     },
     "execution_count": 142,
     "metadata": {},
     "output_type": "execute_result"
    }
   ],
   "source": [
    "ohe.fit_transform(weather[['summary']])"
   ]
  },
  {
   "cell_type": "code",
   "execution_count": 143,
   "id": "2ce612f1",
   "metadata": {},
   "outputs": [
    {
     "data": {
      "text/plain": [
       "[array([ 0,  1,  2,  3,  4,  5,  6,  7,  8,  9, 10, 11, 12, 13, 14, 15, 16,\n",
       "        17, 18, 19, 20, 21, 22, 23])]"
      ]
     },
     "execution_count": 143,
     "metadata": {},
     "output_type": "execute_result"
    }
   ],
   "source": [
    "ohe.categories_"
   ]
  },
  {
   "cell_type": "code",
   "execution_count": 144,
   "id": "5c67846d",
   "metadata": {},
   "outputs": [
    {
     "data": {
      "text/plain": [
       "array([[1., 0.],\n",
       "       [1., 0.],\n",
       "       [1., 0.],\n",
       "       ...,\n",
       "       [1., 0.],\n",
       "       [1., 0.],\n",
       "       [1., 0.]])"
      ]
     },
     "execution_count": 144,
     "metadata": {},
     "output_type": "execute_result"
    }
   ],
   "source": [
    "ohe.fit_transform(weather[['precip_type']])"
   ]
  },
  {
   "cell_type": "code",
   "execution_count": 145,
   "id": "7f91ef12",
   "metadata": {},
   "outputs": [
    {
     "data": {
      "text/plain": [
       "array([[1., 0.],\n",
       "       [1., 0.],\n",
       "       [1., 0.],\n",
       "       ...,\n",
       "       [1., 0.],\n",
       "       [1., 0.],\n",
       "       [1., 0.]])"
      ]
     },
     "execution_count": 145,
     "metadata": {},
     "output_type": "execute_result"
    }
   ],
   "source": [
    "ohe.fit_transform(weather[['middle of year']])"
   ]
  },
  {
   "cell_type": "code",
   "execution_count": 146,
   "id": "44dceaf6",
   "metadata": {},
   "outputs": [
    {
     "data": {
      "text/plain": [
       "precip_type    96450\n",
       "dtype: int64"
      ]
     },
     "execution_count": 146,
     "metadata": {},
     "output_type": "execute_result"
    }
   ],
   "source": [
    "(weather[['precip_type']]==1.).count()"
   ]
  },
  {
   "cell_type": "code",
   "execution_count": 147,
   "id": "01b2b5c8",
   "metadata": {
    "scrolled": true
   },
   "outputs": [
    {
     "data": {
      "text/html": [
       "<div>\n",
       "<style scoped>\n",
       "    .dataframe tbody tr th:only-of-type {\n",
       "        vertical-align: middle;\n",
       "    }\n",
       "\n",
       "    .dataframe tbody tr th {\n",
       "        vertical-align: top;\n",
       "    }\n",
       "\n",
       "    .dataframe thead th {\n",
       "        text-align: right;\n",
       "    }\n",
       "</style>\n",
       "<table border=\"1\" class=\"dataframe\">\n",
       "  <thead>\n",
       "    <tr style=\"text-align: right;\">\n",
       "      <th></th>\n",
       "      <th>Summary</th>\n",
       "      <th>Precip Type</th>\n",
       "      <th>Temperature (C)</th>\n",
       "      <th>Apparent Temperature (C)</th>\n",
       "      <th>Humidity</th>\n",
       "      <th>Wind Speed (km/h)</th>\n",
       "      <th>Wind Bearing (degrees)</th>\n",
       "      <th>Visibility (km)</th>\n",
       "      <th>Pressure (millibars)</th>\n",
       "      <th>year</th>\n",
       "      <th>month</th>\n",
       "      <th>day</th>\n",
       "      <th>weekday</th>\n",
       "      <th>middle of year</th>\n",
       "      <th>precip_type</th>\n",
       "      <th>summary</th>\n",
       "    </tr>\n",
       "  </thead>\n",
       "  <tbody>\n",
       "    <tr>\n",
       "      <th>0</th>\n",
       "      <td>Partly Cloudy</td>\n",
       "      <td>rain</td>\n",
       "      <td>9.472222</td>\n",
       "      <td>7.388889</td>\n",
       "      <td>0.89</td>\n",
       "      <td>14.1197</td>\n",
       "      <td>251.0</td>\n",
       "      <td>15.8263</td>\n",
       "      <td>1015.13</td>\n",
       "      <td>2006</td>\n",
       "      <td>3</td>\n",
       "      <td>31</td>\n",
       "      <td>4</td>\n",
       "      <td>False</td>\n",
       "      <td>0</td>\n",
       "      <td>17</td>\n",
       "    </tr>\n",
       "    <tr>\n",
       "      <th>1</th>\n",
       "      <td>Partly Cloudy</td>\n",
       "      <td>rain</td>\n",
       "      <td>9.355556</td>\n",
       "      <td>7.227778</td>\n",
       "      <td>0.86</td>\n",
       "      <td>14.2646</td>\n",
       "      <td>259.0</td>\n",
       "      <td>15.8263</td>\n",
       "      <td>1015.63</td>\n",
       "      <td>2006</td>\n",
       "      <td>3</td>\n",
       "      <td>31</td>\n",
       "      <td>4</td>\n",
       "      <td>False</td>\n",
       "      <td>0</td>\n",
       "      <td>17</td>\n",
       "    </tr>\n",
       "    <tr>\n",
       "      <th>2</th>\n",
       "      <td>Mostly Cloudy</td>\n",
       "      <td>rain</td>\n",
       "      <td>9.377778</td>\n",
       "      <td>9.377778</td>\n",
       "      <td>0.89</td>\n",
       "      <td>3.9284</td>\n",
       "      <td>204.0</td>\n",
       "      <td>14.9569</td>\n",
       "      <td>1015.94</td>\n",
       "      <td>2006</td>\n",
       "      <td>4</td>\n",
       "      <td>1</td>\n",
       "      <td>5</td>\n",
       "      <td>False</td>\n",
       "      <td>0</td>\n",
       "      <td>15</td>\n",
       "    </tr>\n",
       "    <tr>\n",
       "      <th>3</th>\n",
       "      <td>Partly Cloudy</td>\n",
       "      <td>rain</td>\n",
       "      <td>8.288889</td>\n",
       "      <td>5.944444</td>\n",
       "      <td>0.83</td>\n",
       "      <td>14.1036</td>\n",
       "      <td>269.0</td>\n",
       "      <td>15.8263</td>\n",
       "      <td>1016.41</td>\n",
       "      <td>2006</td>\n",
       "      <td>4</td>\n",
       "      <td>1</td>\n",
       "      <td>5</td>\n",
       "      <td>False</td>\n",
       "      <td>0</td>\n",
       "      <td>17</td>\n",
       "    </tr>\n",
       "    <tr>\n",
       "      <th>4</th>\n",
       "      <td>Mostly Cloudy</td>\n",
       "      <td>rain</td>\n",
       "      <td>8.755556</td>\n",
       "      <td>6.977778</td>\n",
       "      <td>0.83</td>\n",
       "      <td>11.0446</td>\n",
       "      <td>259.0</td>\n",
       "      <td>15.8263</td>\n",
       "      <td>1016.51</td>\n",
       "      <td>2006</td>\n",
       "      <td>4</td>\n",
       "      <td>1</td>\n",
       "      <td>5</td>\n",
       "      <td>False</td>\n",
       "      <td>0</td>\n",
       "      <td>15</td>\n",
       "    </tr>\n",
       "    <tr>\n",
       "      <th>...</th>\n",
       "      <td>...</td>\n",
       "      <td>...</td>\n",
       "      <td>...</td>\n",
       "      <td>...</td>\n",
       "      <td>...</td>\n",
       "      <td>...</td>\n",
       "      <td>...</td>\n",
       "      <td>...</td>\n",
       "      <td>...</td>\n",
       "      <td>...</td>\n",
       "      <td>...</td>\n",
       "      <td>...</td>\n",
       "      <td>...</td>\n",
       "      <td>...</td>\n",
       "      <td>...</td>\n",
       "      <td>...</td>\n",
       "    </tr>\n",
       "    <tr>\n",
       "      <th>96448</th>\n",
       "      <td>Partly Cloudy</td>\n",
       "      <td>rain</td>\n",
       "      <td>26.016667</td>\n",
       "      <td>26.016667</td>\n",
       "      <td>0.43</td>\n",
       "      <td>10.9963</td>\n",
       "      <td>31.0</td>\n",
       "      <td>16.1000</td>\n",
       "      <td>1014.36</td>\n",
       "      <td>2016</td>\n",
       "      <td>9</td>\n",
       "      <td>9</td>\n",
       "      <td>4</td>\n",
       "      <td>False</td>\n",
       "      <td>0</td>\n",
       "      <td>17</td>\n",
       "    </tr>\n",
       "    <tr>\n",
       "      <th>96449</th>\n",
       "      <td>Partly Cloudy</td>\n",
       "      <td>rain</td>\n",
       "      <td>24.583333</td>\n",
       "      <td>24.583333</td>\n",
       "      <td>0.48</td>\n",
       "      <td>10.0947</td>\n",
       "      <td>20.0</td>\n",
       "      <td>15.5526</td>\n",
       "      <td>1015.16</td>\n",
       "      <td>2016</td>\n",
       "      <td>9</td>\n",
       "      <td>9</td>\n",
       "      <td>4</td>\n",
       "      <td>False</td>\n",
       "      <td>0</td>\n",
       "      <td>17</td>\n",
       "    </tr>\n",
       "    <tr>\n",
       "      <th>96450</th>\n",
       "      <td>Partly Cloudy</td>\n",
       "      <td>rain</td>\n",
       "      <td>22.038889</td>\n",
       "      <td>22.038889</td>\n",
       "      <td>0.56</td>\n",
       "      <td>8.9838</td>\n",
       "      <td>30.0</td>\n",
       "      <td>16.1000</td>\n",
       "      <td>1015.66</td>\n",
       "      <td>2016</td>\n",
       "      <td>9</td>\n",
       "      <td>9</td>\n",
       "      <td>4</td>\n",
       "      <td>False</td>\n",
       "      <td>0</td>\n",
       "      <td>17</td>\n",
       "    </tr>\n",
       "    <tr>\n",
       "      <th>96451</th>\n",
       "      <td>Partly Cloudy</td>\n",
       "      <td>rain</td>\n",
       "      <td>21.522222</td>\n",
       "      <td>21.522222</td>\n",
       "      <td>0.60</td>\n",
       "      <td>10.5294</td>\n",
       "      <td>20.0</td>\n",
       "      <td>16.1000</td>\n",
       "      <td>1015.95</td>\n",
       "      <td>2016</td>\n",
       "      <td>9</td>\n",
       "      <td>9</td>\n",
       "      <td>4</td>\n",
       "      <td>False</td>\n",
       "      <td>0</td>\n",
       "      <td>17</td>\n",
       "    </tr>\n",
       "    <tr>\n",
       "      <th>96452</th>\n",
       "      <td>Partly Cloudy</td>\n",
       "      <td>rain</td>\n",
       "      <td>20.438889</td>\n",
       "      <td>20.438889</td>\n",
       "      <td>0.61</td>\n",
       "      <td>5.8765</td>\n",
       "      <td>39.0</td>\n",
       "      <td>15.5204</td>\n",
       "      <td>1016.16</td>\n",
       "      <td>2016</td>\n",
       "      <td>9</td>\n",
       "      <td>9</td>\n",
       "      <td>4</td>\n",
       "      <td>False</td>\n",
       "      <td>0</td>\n",
       "      <td>17</td>\n",
       "    </tr>\n",
       "  </tbody>\n",
       "</table>\n",
       "<p>96450 rows × 16 columns</p>\n",
       "</div>"
      ],
      "text/plain": [
       "             Summary Precip Type  Temperature (C)  Apparent Temperature (C)  \\\n",
       "0      Partly Cloudy        rain         9.472222                  7.388889   \n",
       "1      Partly Cloudy        rain         9.355556                  7.227778   \n",
       "2      Mostly Cloudy        rain         9.377778                  9.377778   \n",
       "3      Partly Cloudy        rain         8.288889                  5.944444   \n",
       "4      Mostly Cloudy        rain         8.755556                  6.977778   \n",
       "...              ...         ...              ...                       ...   \n",
       "96448  Partly Cloudy        rain        26.016667                 26.016667   \n",
       "96449  Partly Cloudy        rain        24.583333                 24.583333   \n",
       "96450  Partly Cloudy        rain        22.038889                 22.038889   \n",
       "96451  Partly Cloudy        rain        21.522222                 21.522222   \n",
       "96452  Partly Cloudy        rain        20.438889                 20.438889   \n",
       "\n",
       "       Humidity  Wind Speed (km/h)  Wind Bearing (degrees)  Visibility (km)  \\\n",
       "0          0.89            14.1197                   251.0          15.8263   \n",
       "1          0.86            14.2646                   259.0          15.8263   \n",
       "2          0.89             3.9284                   204.0          14.9569   \n",
       "3          0.83            14.1036                   269.0          15.8263   \n",
       "4          0.83            11.0446                   259.0          15.8263   \n",
       "...         ...                ...                     ...              ...   \n",
       "96448      0.43            10.9963                    31.0          16.1000   \n",
       "96449      0.48            10.0947                    20.0          15.5526   \n",
       "96450      0.56             8.9838                    30.0          16.1000   \n",
       "96451      0.60            10.5294                    20.0          16.1000   \n",
       "96452      0.61             5.8765                    39.0          15.5204   \n",
       "\n",
       "       Pressure (millibars)  year  month  day  weekday  middle of year  \\\n",
       "0                   1015.13  2006      3   31        4           False   \n",
       "1                   1015.63  2006      3   31        4           False   \n",
       "2                   1015.94  2006      4    1        5           False   \n",
       "3                   1016.41  2006      4    1        5           False   \n",
       "4                   1016.51  2006      4    1        5           False   \n",
       "...                     ...   ...    ...  ...      ...             ...   \n",
       "96448               1014.36  2016      9    9        4           False   \n",
       "96449               1015.16  2016      9    9        4           False   \n",
       "96450               1015.66  2016      9    9        4           False   \n",
       "96451               1015.95  2016      9    9        4           False   \n",
       "96452               1016.16  2016      9    9        4           False   \n",
       "\n",
       "       precip_type  summary  \n",
       "0                0       17  \n",
       "1                0       17  \n",
       "2                0       15  \n",
       "3                0       17  \n",
       "4                0       15  \n",
       "...            ...      ...  \n",
       "96448            0       17  \n",
       "96449            0       17  \n",
       "96450            0       17  \n",
       "96451            0       17  \n",
       "96452            0       17  \n",
       "\n",
       "[96450 rows x 16 columns]"
      ]
     },
     "execution_count": 147,
     "metadata": {},
     "output_type": "execute_result"
    }
   ],
   "source": [
    "weather"
   ]
  },
  {
   "cell_type": "markdown",
   "id": "700f6033",
   "metadata": {},
   "source": [
    "## 1.3 doing onehotencoding at the same time on both of the categorial columns\n"
   ]
  },
  {
   "cell_type": "code",
   "execution_count": 148,
   "id": "d43535fc",
   "metadata": {},
   "outputs": [],
   "source": [
    "X= weather.loc[:, ['summary','precip_type','middle of year'] ]"
   ]
  },
  {
   "cell_type": "code",
   "execution_count": 149,
   "id": "f9a2665f",
   "metadata": {},
   "outputs": [
    {
     "data": {
      "text/html": [
       "<div>\n",
       "<style scoped>\n",
       "    .dataframe tbody tr th:only-of-type {\n",
       "        vertical-align: middle;\n",
       "    }\n",
       "\n",
       "    .dataframe tbody tr th {\n",
       "        vertical-align: top;\n",
       "    }\n",
       "\n",
       "    .dataframe thead th {\n",
       "        text-align: right;\n",
       "    }\n",
       "</style>\n",
       "<table border=\"1\" class=\"dataframe\">\n",
       "  <thead>\n",
       "    <tr style=\"text-align: right;\">\n",
       "      <th></th>\n",
       "      <th>summary</th>\n",
       "      <th>precip_type</th>\n",
       "      <th>middle of year</th>\n",
       "    </tr>\n",
       "  </thead>\n",
       "  <tbody>\n",
       "    <tr>\n",
       "      <th>0</th>\n",
       "      <td>17</td>\n",
       "      <td>0</td>\n",
       "      <td>False</td>\n",
       "    </tr>\n",
       "    <tr>\n",
       "      <th>1</th>\n",
       "      <td>17</td>\n",
       "      <td>0</td>\n",
       "      <td>False</td>\n",
       "    </tr>\n",
       "    <tr>\n",
       "      <th>2</th>\n",
       "      <td>15</td>\n",
       "      <td>0</td>\n",
       "      <td>False</td>\n",
       "    </tr>\n",
       "    <tr>\n",
       "      <th>3</th>\n",
       "      <td>17</td>\n",
       "      <td>0</td>\n",
       "      <td>False</td>\n",
       "    </tr>\n",
       "    <tr>\n",
       "      <th>4</th>\n",
       "      <td>15</td>\n",
       "      <td>0</td>\n",
       "      <td>False</td>\n",
       "    </tr>\n",
       "    <tr>\n",
       "      <th>...</th>\n",
       "      <td>...</td>\n",
       "      <td>...</td>\n",
       "      <td>...</td>\n",
       "    </tr>\n",
       "    <tr>\n",
       "      <th>96448</th>\n",
       "      <td>17</td>\n",
       "      <td>0</td>\n",
       "      <td>False</td>\n",
       "    </tr>\n",
       "    <tr>\n",
       "      <th>96449</th>\n",
       "      <td>17</td>\n",
       "      <td>0</td>\n",
       "      <td>False</td>\n",
       "    </tr>\n",
       "    <tr>\n",
       "      <th>96450</th>\n",
       "      <td>17</td>\n",
       "      <td>0</td>\n",
       "      <td>False</td>\n",
       "    </tr>\n",
       "    <tr>\n",
       "      <th>96451</th>\n",
       "      <td>17</td>\n",
       "      <td>0</td>\n",
       "      <td>False</td>\n",
       "    </tr>\n",
       "    <tr>\n",
       "      <th>96452</th>\n",
       "      <td>17</td>\n",
       "      <td>0</td>\n",
       "      <td>False</td>\n",
       "    </tr>\n",
       "  </tbody>\n",
       "</table>\n",
       "<p>96450 rows × 3 columns</p>\n",
       "</div>"
      ],
      "text/plain": [
       "       summary  precip_type  middle of year\n",
       "0           17            0           False\n",
       "1           17            0           False\n",
       "2           15            0           False\n",
       "3           17            0           False\n",
       "4           15            0           False\n",
       "...        ...          ...             ...\n",
       "96448       17            0           False\n",
       "96449       17            0           False\n",
       "96450       17            0           False\n",
       "96451       17            0           False\n",
       "96452       17            0           False\n",
       "\n",
       "[96450 rows x 3 columns]"
      ]
     },
     "execution_count": 149,
     "metadata": {},
     "output_type": "execute_result"
    }
   ],
   "source": [
    "X"
   ]
  },
  {
   "cell_type": "code",
   "execution_count": 150,
   "id": "744ea2be",
   "metadata": {},
   "outputs": [],
   "source": [
    "# use when different features need different preprocessing\n",
    "from sklearn.compose import make_column_transformer\n",
    "\n"
   ]
  },
  {
   "cell_type": "code",
   "execution_count": 151,
   "id": "805b2565",
   "metadata": {},
   "outputs": [],
   "source": [
    "column_trans = make_column_transformer(\n",
    "    (OneHotEncoder(), ['summary', 'precip_type','middle of year']),\n",
    "    remainder='passthrough')"
   ]
  },
  {
   "cell_type": "code",
   "execution_count": 152,
   "id": "2ab2a5d0",
   "metadata": {},
   "outputs": [],
   "source": [
    "X=column_trans.fit_transform(X)"
   ]
  },
  {
   "cell_type": "code",
   "execution_count": 153,
   "id": "43beeeec",
   "metadata": {},
   "outputs": [
    {
     "data": {
      "text/html": [
       "<div>\n",
       "<style scoped>\n",
       "    .dataframe tbody tr th:only-of-type {\n",
       "        vertical-align: middle;\n",
       "    }\n",
       "\n",
       "    .dataframe tbody tr th {\n",
       "        vertical-align: top;\n",
       "    }\n",
       "\n",
       "    .dataframe thead th {\n",
       "        text-align: right;\n",
       "    }\n",
       "</style>\n",
       "<table border=\"1\" class=\"dataframe\">\n",
       "  <thead>\n",
       "    <tr style=\"text-align: right;\">\n",
       "      <th></th>\n",
       "      <th>Summary</th>\n",
       "      <th>Precip Type</th>\n",
       "      <th>Temperature (C)</th>\n",
       "      <th>Apparent Temperature (C)</th>\n",
       "      <th>Humidity</th>\n",
       "      <th>Wind Speed (km/h)</th>\n",
       "      <th>Wind Bearing (degrees)</th>\n",
       "      <th>Visibility (km)</th>\n",
       "      <th>Pressure (millibars)</th>\n",
       "      <th>year</th>\n",
       "      <th>month</th>\n",
       "      <th>day</th>\n",
       "      <th>weekday</th>\n",
       "      <th>middle of year</th>\n",
       "      <th>precip_type</th>\n",
       "      <th>summary</th>\n",
       "    </tr>\n",
       "  </thead>\n",
       "  <tbody>\n",
       "    <tr>\n",
       "      <th>0</th>\n",
       "      <td>Partly Cloudy</td>\n",
       "      <td>rain</td>\n",
       "      <td>9.472222</td>\n",
       "      <td>7.388889</td>\n",
       "      <td>0.89</td>\n",
       "      <td>14.1197</td>\n",
       "      <td>251.0</td>\n",
       "      <td>15.8263</td>\n",
       "      <td>1015.13</td>\n",
       "      <td>2006</td>\n",
       "      <td>3</td>\n",
       "      <td>31</td>\n",
       "      <td>4</td>\n",
       "      <td>False</td>\n",
       "      <td>0</td>\n",
       "      <td>17</td>\n",
       "    </tr>\n",
       "    <tr>\n",
       "      <th>1</th>\n",
       "      <td>Partly Cloudy</td>\n",
       "      <td>rain</td>\n",
       "      <td>9.355556</td>\n",
       "      <td>7.227778</td>\n",
       "      <td>0.86</td>\n",
       "      <td>14.2646</td>\n",
       "      <td>259.0</td>\n",
       "      <td>15.8263</td>\n",
       "      <td>1015.63</td>\n",
       "      <td>2006</td>\n",
       "      <td>3</td>\n",
       "      <td>31</td>\n",
       "      <td>4</td>\n",
       "      <td>False</td>\n",
       "      <td>0</td>\n",
       "      <td>17</td>\n",
       "    </tr>\n",
       "    <tr>\n",
       "      <th>2</th>\n",
       "      <td>Mostly Cloudy</td>\n",
       "      <td>rain</td>\n",
       "      <td>9.377778</td>\n",
       "      <td>9.377778</td>\n",
       "      <td>0.89</td>\n",
       "      <td>3.9284</td>\n",
       "      <td>204.0</td>\n",
       "      <td>14.9569</td>\n",
       "      <td>1015.94</td>\n",
       "      <td>2006</td>\n",
       "      <td>4</td>\n",
       "      <td>1</td>\n",
       "      <td>5</td>\n",
       "      <td>False</td>\n",
       "      <td>0</td>\n",
       "      <td>15</td>\n",
       "    </tr>\n",
       "    <tr>\n",
       "      <th>3</th>\n",
       "      <td>Partly Cloudy</td>\n",
       "      <td>rain</td>\n",
       "      <td>8.288889</td>\n",
       "      <td>5.944444</td>\n",
       "      <td>0.83</td>\n",
       "      <td>14.1036</td>\n",
       "      <td>269.0</td>\n",
       "      <td>15.8263</td>\n",
       "      <td>1016.41</td>\n",
       "      <td>2006</td>\n",
       "      <td>4</td>\n",
       "      <td>1</td>\n",
       "      <td>5</td>\n",
       "      <td>False</td>\n",
       "      <td>0</td>\n",
       "      <td>17</td>\n",
       "    </tr>\n",
       "    <tr>\n",
       "      <th>4</th>\n",
       "      <td>Mostly Cloudy</td>\n",
       "      <td>rain</td>\n",
       "      <td>8.755556</td>\n",
       "      <td>6.977778</td>\n",
       "      <td>0.83</td>\n",
       "      <td>11.0446</td>\n",
       "      <td>259.0</td>\n",
       "      <td>15.8263</td>\n",
       "      <td>1016.51</td>\n",
       "      <td>2006</td>\n",
       "      <td>4</td>\n",
       "      <td>1</td>\n",
       "      <td>5</td>\n",
       "      <td>False</td>\n",
       "      <td>0</td>\n",
       "      <td>15</td>\n",
       "    </tr>\n",
       "    <tr>\n",
       "      <th>...</th>\n",
       "      <td>...</td>\n",
       "      <td>...</td>\n",
       "      <td>...</td>\n",
       "      <td>...</td>\n",
       "      <td>...</td>\n",
       "      <td>...</td>\n",
       "      <td>...</td>\n",
       "      <td>...</td>\n",
       "      <td>...</td>\n",
       "      <td>...</td>\n",
       "      <td>...</td>\n",
       "      <td>...</td>\n",
       "      <td>...</td>\n",
       "      <td>...</td>\n",
       "      <td>...</td>\n",
       "      <td>...</td>\n",
       "    </tr>\n",
       "    <tr>\n",
       "      <th>96448</th>\n",
       "      <td>Partly Cloudy</td>\n",
       "      <td>rain</td>\n",
       "      <td>26.016667</td>\n",
       "      <td>26.016667</td>\n",
       "      <td>0.43</td>\n",
       "      <td>10.9963</td>\n",
       "      <td>31.0</td>\n",
       "      <td>16.1000</td>\n",
       "      <td>1014.36</td>\n",
       "      <td>2016</td>\n",
       "      <td>9</td>\n",
       "      <td>9</td>\n",
       "      <td>4</td>\n",
       "      <td>False</td>\n",
       "      <td>0</td>\n",
       "      <td>17</td>\n",
       "    </tr>\n",
       "    <tr>\n",
       "      <th>96449</th>\n",
       "      <td>Partly Cloudy</td>\n",
       "      <td>rain</td>\n",
       "      <td>24.583333</td>\n",
       "      <td>24.583333</td>\n",
       "      <td>0.48</td>\n",
       "      <td>10.0947</td>\n",
       "      <td>20.0</td>\n",
       "      <td>15.5526</td>\n",
       "      <td>1015.16</td>\n",
       "      <td>2016</td>\n",
       "      <td>9</td>\n",
       "      <td>9</td>\n",
       "      <td>4</td>\n",
       "      <td>False</td>\n",
       "      <td>0</td>\n",
       "      <td>17</td>\n",
       "    </tr>\n",
       "    <tr>\n",
       "      <th>96450</th>\n",
       "      <td>Partly Cloudy</td>\n",
       "      <td>rain</td>\n",
       "      <td>22.038889</td>\n",
       "      <td>22.038889</td>\n",
       "      <td>0.56</td>\n",
       "      <td>8.9838</td>\n",
       "      <td>30.0</td>\n",
       "      <td>16.1000</td>\n",
       "      <td>1015.66</td>\n",
       "      <td>2016</td>\n",
       "      <td>9</td>\n",
       "      <td>9</td>\n",
       "      <td>4</td>\n",
       "      <td>False</td>\n",
       "      <td>0</td>\n",
       "      <td>17</td>\n",
       "    </tr>\n",
       "    <tr>\n",
       "      <th>96451</th>\n",
       "      <td>Partly Cloudy</td>\n",
       "      <td>rain</td>\n",
       "      <td>21.522222</td>\n",
       "      <td>21.522222</td>\n",
       "      <td>0.60</td>\n",
       "      <td>10.5294</td>\n",
       "      <td>20.0</td>\n",
       "      <td>16.1000</td>\n",
       "      <td>1015.95</td>\n",
       "      <td>2016</td>\n",
       "      <td>9</td>\n",
       "      <td>9</td>\n",
       "      <td>4</td>\n",
       "      <td>False</td>\n",
       "      <td>0</td>\n",
       "      <td>17</td>\n",
       "    </tr>\n",
       "    <tr>\n",
       "      <th>96452</th>\n",
       "      <td>Partly Cloudy</td>\n",
       "      <td>rain</td>\n",
       "      <td>20.438889</td>\n",
       "      <td>20.438889</td>\n",
       "      <td>0.61</td>\n",
       "      <td>5.8765</td>\n",
       "      <td>39.0</td>\n",
       "      <td>15.5204</td>\n",
       "      <td>1016.16</td>\n",
       "      <td>2016</td>\n",
       "      <td>9</td>\n",
       "      <td>9</td>\n",
       "      <td>4</td>\n",
       "      <td>False</td>\n",
       "      <td>0</td>\n",
       "      <td>17</td>\n",
       "    </tr>\n",
       "  </tbody>\n",
       "</table>\n",
       "<p>96450 rows × 16 columns</p>\n",
       "</div>"
      ],
      "text/plain": [
       "             Summary Precip Type  Temperature (C)  Apparent Temperature (C)  \\\n",
       "0      Partly Cloudy        rain         9.472222                  7.388889   \n",
       "1      Partly Cloudy        rain         9.355556                  7.227778   \n",
       "2      Mostly Cloudy        rain         9.377778                  9.377778   \n",
       "3      Partly Cloudy        rain         8.288889                  5.944444   \n",
       "4      Mostly Cloudy        rain         8.755556                  6.977778   \n",
       "...              ...         ...              ...                       ...   \n",
       "96448  Partly Cloudy        rain        26.016667                 26.016667   \n",
       "96449  Partly Cloudy        rain        24.583333                 24.583333   \n",
       "96450  Partly Cloudy        rain        22.038889                 22.038889   \n",
       "96451  Partly Cloudy        rain        21.522222                 21.522222   \n",
       "96452  Partly Cloudy        rain        20.438889                 20.438889   \n",
       "\n",
       "       Humidity  Wind Speed (km/h)  Wind Bearing (degrees)  Visibility (km)  \\\n",
       "0          0.89            14.1197                   251.0          15.8263   \n",
       "1          0.86            14.2646                   259.0          15.8263   \n",
       "2          0.89             3.9284                   204.0          14.9569   \n",
       "3          0.83            14.1036                   269.0          15.8263   \n",
       "4          0.83            11.0446                   259.0          15.8263   \n",
       "...         ...                ...                     ...              ...   \n",
       "96448      0.43            10.9963                    31.0          16.1000   \n",
       "96449      0.48            10.0947                    20.0          15.5526   \n",
       "96450      0.56             8.9838                    30.0          16.1000   \n",
       "96451      0.60            10.5294                    20.0          16.1000   \n",
       "96452      0.61             5.8765                    39.0          15.5204   \n",
       "\n",
       "       Pressure (millibars)  year  month  day  weekday  middle of year  \\\n",
       "0                   1015.13  2006      3   31        4           False   \n",
       "1                   1015.63  2006      3   31        4           False   \n",
       "2                   1015.94  2006      4    1        5           False   \n",
       "3                   1016.41  2006      4    1        5           False   \n",
       "4                   1016.51  2006      4    1        5           False   \n",
       "...                     ...   ...    ...  ...      ...             ...   \n",
       "96448               1014.36  2016      9    9        4           False   \n",
       "96449               1015.16  2016      9    9        4           False   \n",
       "96450               1015.66  2016      9    9        4           False   \n",
       "96451               1015.95  2016      9    9        4           False   \n",
       "96452               1016.16  2016      9    9        4           False   \n",
       "\n",
       "       precip_type  summary  \n",
       "0                0       17  \n",
       "1                0       17  \n",
       "2                0       15  \n",
       "3                0       17  \n",
       "4                0       15  \n",
       "...            ...      ...  \n",
       "96448            0       17  \n",
       "96449            0       17  \n",
       "96450            0       17  \n",
       "96451            0       17  \n",
       "96452            0       17  \n",
       "\n",
       "[96450 rows x 16 columns]"
      ]
     },
     "execution_count": 153,
     "metadata": {},
     "output_type": "execute_result"
    }
   ],
   "source": [
    "weather"
   ]
  },
  {
   "cell_type": "markdown",
   "id": "90680647",
   "metadata": {},
   "source": [
    "now, we will remove Summary and Precip Type columns, cause we alredy made the numeric version of them(summary,precip_type)"
   ]
  },
  {
   "cell_type": "code",
   "execution_count": 154,
   "id": "55d8de82",
   "metadata": {},
   "outputs": [],
   "source": [
    "del weather['Summary']\n",
    "del weather['Precip Type']"
   ]
  },
  {
   "cell_type": "code",
   "execution_count": 155,
   "id": "6e5d8b2d",
   "metadata": {
    "scrolled": true
   },
   "outputs": [
    {
     "data": {
      "text/html": [
       "<div>\n",
       "<style scoped>\n",
       "    .dataframe tbody tr th:only-of-type {\n",
       "        vertical-align: middle;\n",
       "    }\n",
       "\n",
       "    .dataframe tbody tr th {\n",
       "        vertical-align: top;\n",
       "    }\n",
       "\n",
       "    .dataframe thead th {\n",
       "        text-align: right;\n",
       "    }\n",
       "</style>\n",
       "<table border=\"1\" class=\"dataframe\">\n",
       "  <thead>\n",
       "    <tr style=\"text-align: right;\">\n",
       "      <th></th>\n",
       "      <th>Temperature (C)</th>\n",
       "      <th>Apparent Temperature (C)</th>\n",
       "      <th>Humidity</th>\n",
       "      <th>Wind Speed (km/h)</th>\n",
       "      <th>Wind Bearing (degrees)</th>\n",
       "      <th>Visibility (km)</th>\n",
       "      <th>Pressure (millibars)</th>\n",
       "      <th>year</th>\n",
       "      <th>month</th>\n",
       "      <th>day</th>\n",
       "      <th>weekday</th>\n",
       "      <th>middle of year</th>\n",
       "      <th>precip_type</th>\n",
       "      <th>summary</th>\n",
       "    </tr>\n",
       "  </thead>\n",
       "  <tbody>\n",
       "    <tr>\n",
       "      <th>0</th>\n",
       "      <td>9.472222</td>\n",
       "      <td>7.388889</td>\n",
       "      <td>0.89</td>\n",
       "      <td>14.1197</td>\n",
       "      <td>251.0</td>\n",
       "      <td>15.8263</td>\n",
       "      <td>1015.13</td>\n",
       "      <td>2006</td>\n",
       "      <td>3</td>\n",
       "      <td>31</td>\n",
       "      <td>4</td>\n",
       "      <td>False</td>\n",
       "      <td>0</td>\n",
       "      <td>17</td>\n",
       "    </tr>\n",
       "    <tr>\n",
       "      <th>1</th>\n",
       "      <td>9.355556</td>\n",
       "      <td>7.227778</td>\n",
       "      <td>0.86</td>\n",
       "      <td>14.2646</td>\n",
       "      <td>259.0</td>\n",
       "      <td>15.8263</td>\n",
       "      <td>1015.63</td>\n",
       "      <td>2006</td>\n",
       "      <td>3</td>\n",
       "      <td>31</td>\n",
       "      <td>4</td>\n",
       "      <td>False</td>\n",
       "      <td>0</td>\n",
       "      <td>17</td>\n",
       "    </tr>\n",
       "    <tr>\n",
       "      <th>2</th>\n",
       "      <td>9.377778</td>\n",
       "      <td>9.377778</td>\n",
       "      <td>0.89</td>\n",
       "      <td>3.9284</td>\n",
       "      <td>204.0</td>\n",
       "      <td>14.9569</td>\n",
       "      <td>1015.94</td>\n",
       "      <td>2006</td>\n",
       "      <td>4</td>\n",
       "      <td>1</td>\n",
       "      <td>5</td>\n",
       "      <td>False</td>\n",
       "      <td>0</td>\n",
       "      <td>15</td>\n",
       "    </tr>\n",
       "    <tr>\n",
       "      <th>3</th>\n",
       "      <td>8.288889</td>\n",
       "      <td>5.944444</td>\n",
       "      <td>0.83</td>\n",
       "      <td>14.1036</td>\n",
       "      <td>269.0</td>\n",
       "      <td>15.8263</td>\n",
       "      <td>1016.41</td>\n",
       "      <td>2006</td>\n",
       "      <td>4</td>\n",
       "      <td>1</td>\n",
       "      <td>5</td>\n",
       "      <td>False</td>\n",
       "      <td>0</td>\n",
       "      <td>17</td>\n",
       "    </tr>\n",
       "    <tr>\n",
       "      <th>4</th>\n",
       "      <td>8.755556</td>\n",
       "      <td>6.977778</td>\n",
       "      <td>0.83</td>\n",
       "      <td>11.0446</td>\n",
       "      <td>259.0</td>\n",
       "      <td>15.8263</td>\n",
       "      <td>1016.51</td>\n",
       "      <td>2006</td>\n",
       "      <td>4</td>\n",
       "      <td>1</td>\n",
       "      <td>5</td>\n",
       "      <td>False</td>\n",
       "      <td>0</td>\n",
       "      <td>15</td>\n",
       "    </tr>\n",
       "    <tr>\n",
       "      <th>...</th>\n",
       "      <td>...</td>\n",
       "      <td>...</td>\n",
       "      <td>...</td>\n",
       "      <td>...</td>\n",
       "      <td>...</td>\n",
       "      <td>...</td>\n",
       "      <td>...</td>\n",
       "      <td>...</td>\n",
       "      <td>...</td>\n",
       "      <td>...</td>\n",
       "      <td>...</td>\n",
       "      <td>...</td>\n",
       "      <td>...</td>\n",
       "      <td>...</td>\n",
       "    </tr>\n",
       "    <tr>\n",
       "      <th>96448</th>\n",
       "      <td>26.016667</td>\n",
       "      <td>26.016667</td>\n",
       "      <td>0.43</td>\n",
       "      <td>10.9963</td>\n",
       "      <td>31.0</td>\n",
       "      <td>16.1000</td>\n",
       "      <td>1014.36</td>\n",
       "      <td>2016</td>\n",
       "      <td>9</td>\n",
       "      <td>9</td>\n",
       "      <td>4</td>\n",
       "      <td>False</td>\n",
       "      <td>0</td>\n",
       "      <td>17</td>\n",
       "    </tr>\n",
       "    <tr>\n",
       "      <th>96449</th>\n",
       "      <td>24.583333</td>\n",
       "      <td>24.583333</td>\n",
       "      <td>0.48</td>\n",
       "      <td>10.0947</td>\n",
       "      <td>20.0</td>\n",
       "      <td>15.5526</td>\n",
       "      <td>1015.16</td>\n",
       "      <td>2016</td>\n",
       "      <td>9</td>\n",
       "      <td>9</td>\n",
       "      <td>4</td>\n",
       "      <td>False</td>\n",
       "      <td>0</td>\n",
       "      <td>17</td>\n",
       "    </tr>\n",
       "    <tr>\n",
       "      <th>96450</th>\n",
       "      <td>22.038889</td>\n",
       "      <td>22.038889</td>\n",
       "      <td>0.56</td>\n",
       "      <td>8.9838</td>\n",
       "      <td>30.0</td>\n",
       "      <td>16.1000</td>\n",
       "      <td>1015.66</td>\n",
       "      <td>2016</td>\n",
       "      <td>9</td>\n",
       "      <td>9</td>\n",
       "      <td>4</td>\n",
       "      <td>False</td>\n",
       "      <td>0</td>\n",
       "      <td>17</td>\n",
       "    </tr>\n",
       "    <tr>\n",
       "      <th>96451</th>\n",
       "      <td>21.522222</td>\n",
       "      <td>21.522222</td>\n",
       "      <td>0.60</td>\n",
       "      <td>10.5294</td>\n",
       "      <td>20.0</td>\n",
       "      <td>16.1000</td>\n",
       "      <td>1015.95</td>\n",
       "      <td>2016</td>\n",
       "      <td>9</td>\n",
       "      <td>9</td>\n",
       "      <td>4</td>\n",
       "      <td>False</td>\n",
       "      <td>0</td>\n",
       "      <td>17</td>\n",
       "    </tr>\n",
       "    <tr>\n",
       "      <th>96452</th>\n",
       "      <td>20.438889</td>\n",
       "      <td>20.438889</td>\n",
       "      <td>0.61</td>\n",
       "      <td>5.8765</td>\n",
       "      <td>39.0</td>\n",
       "      <td>15.5204</td>\n",
       "      <td>1016.16</td>\n",
       "      <td>2016</td>\n",
       "      <td>9</td>\n",
       "      <td>9</td>\n",
       "      <td>4</td>\n",
       "      <td>False</td>\n",
       "      <td>0</td>\n",
       "      <td>17</td>\n",
       "    </tr>\n",
       "  </tbody>\n",
       "</table>\n",
       "<p>96450 rows × 14 columns</p>\n",
       "</div>"
      ],
      "text/plain": [
       "       Temperature (C)  Apparent Temperature (C)  Humidity  Wind Speed (km/h)  \\\n",
       "0             9.472222                  7.388889      0.89            14.1197   \n",
       "1             9.355556                  7.227778      0.86            14.2646   \n",
       "2             9.377778                  9.377778      0.89             3.9284   \n",
       "3             8.288889                  5.944444      0.83            14.1036   \n",
       "4             8.755556                  6.977778      0.83            11.0446   \n",
       "...                ...                       ...       ...                ...   \n",
       "96448        26.016667                 26.016667      0.43            10.9963   \n",
       "96449        24.583333                 24.583333      0.48            10.0947   \n",
       "96450        22.038889                 22.038889      0.56             8.9838   \n",
       "96451        21.522222                 21.522222      0.60            10.5294   \n",
       "96452        20.438889                 20.438889      0.61             5.8765   \n",
       "\n",
       "       Wind Bearing (degrees)  Visibility (km)  Pressure (millibars)  year  \\\n",
       "0                       251.0          15.8263               1015.13  2006   \n",
       "1                       259.0          15.8263               1015.63  2006   \n",
       "2                       204.0          14.9569               1015.94  2006   \n",
       "3                       269.0          15.8263               1016.41  2006   \n",
       "4                       259.0          15.8263               1016.51  2006   \n",
       "...                       ...              ...                   ...   ...   \n",
       "96448                    31.0          16.1000               1014.36  2016   \n",
       "96449                    20.0          15.5526               1015.16  2016   \n",
       "96450                    30.0          16.1000               1015.66  2016   \n",
       "96451                    20.0          16.1000               1015.95  2016   \n",
       "96452                    39.0          15.5204               1016.16  2016   \n",
       "\n",
       "       month  day  weekday  middle of year  precip_type  summary  \n",
       "0          3   31        4           False            0       17  \n",
       "1          3   31        4           False            0       17  \n",
       "2          4    1        5           False            0       15  \n",
       "3          4    1        5           False            0       17  \n",
       "4          4    1        5           False            0       15  \n",
       "...      ...  ...      ...             ...          ...      ...  \n",
       "96448      9    9        4           False            0       17  \n",
       "96449      9    9        4           False            0       17  \n",
       "96450      9    9        4           False            0       17  \n",
       "96451      9    9        4           False            0       17  \n",
       "96452      9    9        4           False            0       17  \n",
       "\n",
       "[96450 rows x 14 columns]"
      ]
     },
     "execution_count": 155,
     "metadata": {},
     "output_type": "execute_result"
    }
   ],
   "source": [
    "weather"
   ]
  },
  {
   "cell_type": "code",
   "execution_count": 156,
   "id": "dbb4b0ef",
   "metadata": {},
   "outputs": [
    {
     "data": {
      "text/html": [
       "<div>\n",
       "<style scoped>\n",
       "    .dataframe tbody tr th:only-of-type {\n",
       "        vertical-align: middle;\n",
       "    }\n",
       "\n",
       "    .dataframe tbody tr th {\n",
       "        vertical-align: top;\n",
       "    }\n",
       "\n",
       "    .dataframe thead th {\n",
       "        text-align: right;\n",
       "    }\n",
       "</style>\n",
       "<table border=\"1\" class=\"dataframe\">\n",
       "  <thead>\n",
       "    <tr style=\"text-align: right;\">\n",
       "      <th></th>\n",
       "      <th>features</th>\n",
       "    </tr>\n",
       "  </thead>\n",
       "  <tbody>\n",
       "    <tr>\n",
       "      <th>0</th>\n",
       "      <td>Temperature (C)</td>\n",
       "    </tr>\n",
       "    <tr>\n",
       "      <th>1</th>\n",
       "      <td>Apparent Temperature (C)</td>\n",
       "    </tr>\n",
       "    <tr>\n",
       "      <th>2</th>\n",
       "      <td>Humidity</td>\n",
       "    </tr>\n",
       "    <tr>\n",
       "      <th>3</th>\n",
       "      <td>Wind Speed (km/h)</td>\n",
       "    </tr>\n",
       "    <tr>\n",
       "      <th>4</th>\n",
       "      <td>Wind Bearing (degrees)</td>\n",
       "    </tr>\n",
       "    <tr>\n",
       "      <th>5</th>\n",
       "      <td>Visibility (km)</td>\n",
       "    </tr>\n",
       "    <tr>\n",
       "      <th>6</th>\n",
       "      <td>Pressure (millibars)</td>\n",
       "    </tr>\n",
       "    <tr>\n",
       "      <th>7</th>\n",
       "      <td>year</td>\n",
       "    </tr>\n",
       "    <tr>\n",
       "      <th>8</th>\n",
       "      <td>month</td>\n",
       "    </tr>\n",
       "    <tr>\n",
       "      <th>9</th>\n",
       "      <td>day</td>\n",
       "    </tr>\n",
       "    <tr>\n",
       "      <th>10</th>\n",
       "      <td>weekday</td>\n",
       "    </tr>\n",
       "    <tr>\n",
       "      <th>11</th>\n",
       "      <td>middle of year</td>\n",
       "    </tr>\n",
       "    <tr>\n",
       "      <th>12</th>\n",
       "      <td>precip_type</td>\n",
       "    </tr>\n",
       "    <tr>\n",
       "      <th>13</th>\n",
       "      <td>summary</td>\n",
       "    </tr>\n",
       "  </tbody>\n",
       "</table>\n",
       "</div>"
      ],
      "text/plain": [
       "                    features\n",
       "0            Temperature (C)\n",
       "1   Apparent Temperature (C)\n",
       "2                   Humidity\n",
       "3          Wind Speed (km/h)\n",
       "4     Wind Bearing (degrees)\n",
       "5            Visibility (km)\n",
       "6       Pressure (millibars)\n",
       "7                       year\n",
       "8                      month\n",
       "9                        day\n",
       "10                   weekday\n",
       "11            middle of year\n",
       "12               precip_type\n",
       "13                   summary"
      ]
     },
     "execution_count": 156,
     "metadata": {},
     "output_type": "execute_result"
    }
   ],
   "source": [
    "pd.DataFrame(data={'features': weather.columns})"
   ]
  },
  {
   "cell_type": "code",
   "execution_count": 157,
   "id": "1412a17e",
   "metadata": {},
   "outputs": [
    {
     "data": {
      "text/html": [
       "<div>\n",
       "<style scoped>\n",
       "    .dataframe tbody tr th:only-of-type {\n",
       "        vertical-align: middle;\n",
       "    }\n",
       "\n",
       "    .dataframe tbody tr th {\n",
       "        vertical-align: top;\n",
       "    }\n",
       "\n",
       "    .dataframe thead th {\n",
       "        text-align: right;\n",
       "    }\n",
       "</style>\n",
       "<table border=\"1\" class=\"dataframe\">\n",
       "  <thead>\n",
       "    <tr style=\"text-align: right;\">\n",
       "      <th></th>\n",
       "      <th>Temperature (C)</th>\n",
       "      <th>Apparent Temperature (C)</th>\n",
       "      <th>Humidity</th>\n",
       "      <th>Wind Speed (km/h)</th>\n",
       "      <th>Wind Bearing (degrees)</th>\n",
       "      <th>Visibility (km)</th>\n",
       "      <th>Pressure (millibars)</th>\n",
       "      <th>year</th>\n",
       "      <th>month</th>\n",
       "      <th>day</th>\n",
       "      <th>weekday</th>\n",
       "      <th>middle of year</th>\n",
       "      <th>precip_type</th>\n",
       "      <th>summary</th>\n",
       "    </tr>\n",
       "  </thead>\n",
       "  <tbody>\n",
       "    <tr>\n",
       "      <th>0</th>\n",
       "      <td>9.472222</td>\n",
       "      <td>7.388889</td>\n",
       "      <td>0.89</td>\n",
       "      <td>14.1197</td>\n",
       "      <td>251.0</td>\n",
       "      <td>15.8263</td>\n",
       "      <td>1015.13</td>\n",
       "      <td>2006</td>\n",
       "      <td>3</td>\n",
       "      <td>31</td>\n",
       "      <td>4</td>\n",
       "      <td>False</td>\n",
       "      <td>0</td>\n",
       "      <td>17</td>\n",
       "    </tr>\n",
       "    <tr>\n",
       "      <th>1</th>\n",
       "      <td>9.355556</td>\n",
       "      <td>7.227778</td>\n",
       "      <td>0.86</td>\n",
       "      <td>14.2646</td>\n",
       "      <td>259.0</td>\n",
       "      <td>15.8263</td>\n",
       "      <td>1015.63</td>\n",
       "      <td>2006</td>\n",
       "      <td>3</td>\n",
       "      <td>31</td>\n",
       "      <td>4</td>\n",
       "      <td>False</td>\n",
       "      <td>0</td>\n",
       "      <td>17</td>\n",
       "    </tr>\n",
       "    <tr>\n",
       "      <th>2</th>\n",
       "      <td>9.377778</td>\n",
       "      <td>9.377778</td>\n",
       "      <td>0.89</td>\n",
       "      <td>3.9284</td>\n",
       "      <td>204.0</td>\n",
       "      <td>14.9569</td>\n",
       "      <td>1015.94</td>\n",
       "      <td>2006</td>\n",
       "      <td>4</td>\n",
       "      <td>1</td>\n",
       "      <td>5</td>\n",
       "      <td>False</td>\n",
       "      <td>0</td>\n",
       "      <td>15</td>\n",
       "    </tr>\n",
       "    <tr>\n",
       "      <th>3</th>\n",
       "      <td>8.288889</td>\n",
       "      <td>5.944444</td>\n",
       "      <td>0.83</td>\n",
       "      <td>14.1036</td>\n",
       "      <td>269.0</td>\n",
       "      <td>15.8263</td>\n",
       "      <td>1016.41</td>\n",
       "      <td>2006</td>\n",
       "      <td>4</td>\n",
       "      <td>1</td>\n",
       "      <td>5</td>\n",
       "      <td>False</td>\n",
       "      <td>0</td>\n",
       "      <td>17</td>\n",
       "    </tr>\n",
       "    <tr>\n",
       "      <th>4</th>\n",
       "      <td>8.755556</td>\n",
       "      <td>6.977778</td>\n",
       "      <td>0.83</td>\n",
       "      <td>11.0446</td>\n",
       "      <td>259.0</td>\n",
       "      <td>15.8263</td>\n",
       "      <td>1016.51</td>\n",
       "      <td>2006</td>\n",
       "      <td>4</td>\n",
       "      <td>1</td>\n",
       "      <td>5</td>\n",
       "      <td>False</td>\n",
       "      <td>0</td>\n",
       "      <td>15</td>\n",
       "    </tr>\n",
       "    <tr>\n",
       "      <th>...</th>\n",
       "      <td>...</td>\n",
       "      <td>...</td>\n",
       "      <td>...</td>\n",
       "      <td>...</td>\n",
       "      <td>...</td>\n",
       "      <td>...</td>\n",
       "      <td>...</td>\n",
       "      <td>...</td>\n",
       "      <td>...</td>\n",
       "      <td>...</td>\n",
       "      <td>...</td>\n",
       "      <td>...</td>\n",
       "      <td>...</td>\n",
       "      <td>...</td>\n",
       "    </tr>\n",
       "    <tr>\n",
       "      <th>96448</th>\n",
       "      <td>26.016667</td>\n",
       "      <td>26.016667</td>\n",
       "      <td>0.43</td>\n",
       "      <td>10.9963</td>\n",
       "      <td>31.0</td>\n",
       "      <td>16.1000</td>\n",
       "      <td>1014.36</td>\n",
       "      <td>2016</td>\n",
       "      <td>9</td>\n",
       "      <td>9</td>\n",
       "      <td>4</td>\n",
       "      <td>False</td>\n",
       "      <td>0</td>\n",
       "      <td>17</td>\n",
       "    </tr>\n",
       "    <tr>\n",
       "      <th>96449</th>\n",
       "      <td>24.583333</td>\n",
       "      <td>24.583333</td>\n",
       "      <td>0.48</td>\n",
       "      <td>10.0947</td>\n",
       "      <td>20.0</td>\n",
       "      <td>15.5526</td>\n",
       "      <td>1015.16</td>\n",
       "      <td>2016</td>\n",
       "      <td>9</td>\n",
       "      <td>9</td>\n",
       "      <td>4</td>\n",
       "      <td>False</td>\n",
       "      <td>0</td>\n",
       "      <td>17</td>\n",
       "    </tr>\n",
       "    <tr>\n",
       "      <th>96450</th>\n",
       "      <td>22.038889</td>\n",
       "      <td>22.038889</td>\n",
       "      <td>0.56</td>\n",
       "      <td>8.9838</td>\n",
       "      <td>30.0</td>\n",
       "      <td>16.1000</td>\n",
       "      <td>1015.66</td>\n",
       "      <td>2016</td>\n",
       "      <td>9</td>\n",
       "      <td>9</td>\n",
       "      <td>4</td>\n",
       "      <td>False</td>\n",
       "      <td>0</td>\n",
       "      <td>17</td>\n",
       "    </tr>\n",
       "    <tr>\n",
       "      <th>96451</th>\n",
       "      <td>21.522222</td>\n",
       "      <td>21.522222</td>\n",
       "      <td>0.60</td>\n",
       "      <td>10.5294</td>\n",
       "      <td>20.0</td>\n",
       "      <td>16.1000</td>\n",
       "      <td>1015.95</td>\n",
       "      <td>2016</td>\n",
       "      <td>9</td>\n",
       "      <td>9</td>\n",
       "      <td>4</td>\n",
       "      <td>False</td>\n",
       "      <td>0</td>\n",
       "      <td>17</td>\n",
       "    </tr>\n",
       "    <tr>\n",
       "      <th>96452</th>\n",
       "      <td>20.438889</td>\n",
       "      <td>20.438889</td>\n",
       "      <td>0.61</td>\n",
       "      <td>5.8765</td>\n",
       "      <td>39.0</td>\n",
       "      <td>15.5204</td>\n",
       "      <td>1016.16</td>\n",
       "      <td>2016</td>\n",
       "      <td>9</td>\n",
       "      <td>9</td>\n",
       "      <td>4</td>\n",
       "      <td>False</td>\n",
       "      <td>0</td>\n",
       "      <td>17</td>\n",
       "    </tr>\n",
       "  </tbody>\n",
       "</table>\n",
       "<p>96450 rows × 14 columns</p>\n",
       "</div>"
      ],
      "text/plain": [
       "       Temperature (C)  Apparent Temperature (C)  Humidity  Wind Speed (km/h)  \\\n",
       "0             9.472222                  7.388889      0.89            14.1197   \n",
       "1             9.355556                  7.227778      0.86            14.2646   \n",
       "2             9.377778                  9.377778      0.89             3.9284   \n",
       "3             8.288889                  5.944444      0.83            14.1036   \n",
       "4             8.755556                  6.977778      0.83            11.0446   \n",
       "...                ...                       ...       ...                ...   \n",
       "96448        26.016667                 26.016667      0.43            10.9963   \n",
       "96449        24.583333                 24.583333      0.48            10.0947   \n",
       "96450        22.038889                 22.038889      0.56             8.9838   \n",
       "96451        21.522222                 21.522222      0.60            10.5294   \n",
       "96452        20.438889                 20.438889      0.61             5.8765   \n",
       "\n",
       "       Wind Bearing (degrees)  Visibility (km)  Pressure (millibars)  year  \\\n",
       "0                       251.0          15.8263               1015.13  2006   \n",
       "1                       259.0          15.8263               1015.63  2006   \n",
       "2                       204.0          14.9569               1015.94  2006   \n",
       "3                       269.0          15.8263               1016.41  2006   \n",
       "4                       259.0          15.8263               1016.51  2006   \n",
       "...                       ...              ...                   ...   ...   \n",
       "96448                    31.0          16.1000               1014.36  2016   \n",
       "96449                    20.0          15.5526               1015.16  2016   \n",
       "96450                    30.0          16.1000               1015.66  2016   \n",
       "96451                    20.0          16.1000               1015.95  2016   \n",
       "96452                    39.0          15.5204               1016.16  2016   \n",
       "\n",
       "       month  day  weekday  middle of year  precip_type  summary  \n",
       "0          3   31        4           False            0       17  \n",
       "1          3   31        4           False            0       17  \n",
       "2          4    1        5           False            0       15  \n",
       "3          4    1        5           False            0       17  \n",
       "4          4    1        5           False            0       15  \n",
       "...      ...  ...      ...             ...          ...      ...  \n",
       "96448      9    9        4           False            0       17  \n",
       "96449      9    9        4           False            0       17  \n",
       "96450      9    9        4           False            0       17  \n",
       "96451      9    9        4           False            0       17  \n",
       "96452      9    9        4           False            0       17  \n",
       "\n",
       "[96450 rows x 14 columns]"
      ]
     },
     "execution_count": 157,
     "metadata": {},
     "output_type": "execute_result"
    }
   ],
   "source": [
    "weather"
   ]
  },
  {
   "cell_type": "markdown",
   "id": "7ea8a2af",
   "metadata": {},
   "source": [
    "# 3. data visualization"
   ]
  },
  {
   "cell_type": "markdown",
   "id": "e8eea100",
   "metadata": {},
   "source": [
    " using the preproccessed dataFrame, before scaling, \n",
    "in order to get meaningful and clear picture of the data"
   ]
  },
  {
   "cell_type": "code",
   "execution_count": 158,
   "id": "b97cda03",
   "metadata": {},
   "outputs": [],
   "source": [
    "# import matplotlib.pyplot as plt\n",
    "# weather.plot(x='Apparent Temperature (C)', y=[\"precip_type\"])\n",
    "# plt.show()"
   ]
  },
  {
   "cell_type": "code",
   "execution_count": 159,
   "id": "b04001f6",
   "metadata": {},
   "outputs": [],
   "source": [
    "AT_column = weather['Apparent Temperature (C)']"
   ]
  },
  {
   "cell_type": "code",
   "execution_count": 160,
   "id": "fbdafd20",
   "metadata": {
    "scrolled": true
   },
   "outputs": [
    {
     "data": {
      "image/png": "[encoded data removed]",
      "text/plain": [
       "<Figure size 432x288 with 1 Axes>"
      ]
     },
     "metadata": {
      "needs_background": "light"
     },
     "output_type": "display_data"
    }
   ],
   "source": [
    "AT_column.plot(kind=\"hist\")\n",
    "AxesSubplot='Frequency'"
   ]
  },
  {
   "cell_type": "markdown",
   "id": "2d4d4f56",
   "metadata": {},
   "source": [
    "##### this means that the most frequent Apparent Temperature is in the range between 10 to 20 celcius"
   ]
  },
  {
   "cell_type": "code",
   "execution_count": 161,
   "id": "16b852ce",
   "metadata": {},
   "outputs": [],
   "source": [
    "# import matplotlib\n",
    "# import seaborn as sns\n",
    "# import matplotlib.pyplot as plt\n",
    "# import plotly.express as px\n",
    "# %matplotlib inline\n"
   ]
  },
  {
   "cell_type": "code",
   "execution_count": 162,
   "id": "2f861a8f",
   "metadata": {},
   "outputs": [],
   "source": [
    "# import matplotlib\n",
    "# import seaborn as sns\n",
    "# import matplotlib.pyplot as plt\n",
    "# import plotly.express as px\n",
    "# %matplotlib inline\n",
    "\n",
    "# fig , axs = plt.subplots(ncols=7,nrows=2, figsize=(20,10))\n",
    "# index=0\n",
    "# axs= axs.flatten()\n",
    "# for k ,v in weather.items():\n",
    "#     sns.boxplot(y=k, data=weather , ax=axs[index])\n",
    "#     index +=1\n",
    "# plt.tight_layout(pad=0.4, w_pad=0.5, h_pad=5.0)"
   ]
  },
  {
   "cell_type": "code",
   "execution_count": null,
   "id": "0a270809",
   "metadata": {},
   "outputs": [],
   "source": []
  },
  {
   "cell_type": "code",
   "execution_count": 163,
   "id": "5e804978",
   "metadata": {},
   "outputs": [],
   "source": [
    "# fig , axs = plt.subplots(ncols=7,nrows=2, figsize=(20,10))\n",
    "# index=0\n",
    "# axs= axs.flatten()\n",
    "# for k ,v in weather.items():\n",
    "#     sns.boxplot(y=k, data=weather , ax=axs[index])\n",
    "#     index +=1\n",
    "# plt.tight_layout(pad=0.4, w_pad=0.5, h_pad=5.0)"
   ]
  },
  {
   "cell_type": "markdown",
   "id": "04f4f331",
   "metadata": {},
   "source": [
    "# correlations"
   ]
  },
  {
   "cell_type": "markdown",
   "id": "3004e893",
   "metadata": {},
   "source": [
    "### correlation matrix"
   ]
  },
  {
   "cell_type": "code",
   "execution_count": 164,
   "id": "1f9bff10",
   "metadata": {
    "scrolled": false
   },
   "outputs": [
    {
     "data": {
      "image/png": "[encoded data removed]",
      "text/plain": [
       "<Figure size 1440x720 with 2 Axes>"
      ]
     },
     "metadata": {
      "needs_background": "light"
     },
     "output_type": "display_data"
    }
   ],
   "source": [
    "plt.figure(figsize=(20,10))\n",
    "sns.heatmap(weather.corr(),annot=True);"
   ]
  },
  {
   "cell_type": "code",
   "execution_count": 165,
   "id": "28b73ab8",
   "metadata": {},
   "outputs": [],
   "source": [
    "### see if i can get rid of the temperature var, since he is very simillar to the var we are trying to predict\n",
    "### or combine between the two"
   ]
  },
  {
   "cell_type": "code",
   "execution_count": 166,
   "id": "bfbfb098",
   "metadata": {
    "scrolled": true
   },
   "outputs": [],
   "source": [
    "#del weather['Temperature (C)']"
   ]
  },
  {
   "cell_type": "markdown",
   "id": "b6bc1e80",
   "metadata": {},
   "source": [
    "as we can see from the heatmap above, the correlation between the Apparent Temperature to the pressure is very low"
   ]
  },
  {
   "cell_type": "code",
   "execution_count": 167,
   "id": "4e6d0c1a",
   "metadata": {},
   "outputs": [],
   "source": [
    "# del weather['Pressure (millibars)']\n",
    "del weather['weekday']\n",
    "del weather['day']"
   ]
  },
  {
   "cell_type": "code",
   "execution_count": 168,
   "id": "f1f740ea",
   "metadata": {
    "scrolled": true
   },
   "outputs": [
    {
     "data": {
      "text/plain": [
       "<seaborn.axisgrid.PairGrid at 0x19ad230feb0>"
      ]
     },
     "execution_count": 168,
     "metadata": {},
     "output_type": "execute_result"
    },
    {
     "data": {
      "image/png": "[encoded data removed]",
      "text/plain": [
       "<Figure size 1764x504 with 5 Axes>"
      ]
     },
     "metadata": {
      "needs_background": "light"
     },
     "output_type": "display_data"
    }
   ],
   "source": [
    "# visualize the relationship between the features and the response using scatterplots\n",
    "sns.pairplot(weather, x_vars=['Temperature (C)','Humidity','Wind Speed (km/h)','Wind Bearing (degrees)','Visibility (km)'], y_vars='Apparent Temperature (C)', height=7, aspect=0.7, kind='reg')"
   ]
  },
  {
   "cell_type": "markdown",
   "id": "6baf9981",
   "metadata": {},
   "source": [
    "# 4. choosing a regression metric -"
   ]
  },
  {
   "cell_type": "markdown",
   "id": "8621df5e",
   "metadata": {},
   "source": [
    "##### Mean Squared Error (MSE)"
   ]
  },
  {
   "cell_type": "markdown",
   "id": "817a35e7",
   "metadata": {},
   "source": [
    "The MSE is calculated as the mean or average of the squared differences between predicted and expected target values in a dataset\n",
    "\n",
    "when MSE is used as a loos function (regression metric), a lot of weight is given to larger errors because of the square\n",
    "The units of the MSE are squared units.\n",
    "\n",
    "## It is a good idea to first establish a baseline MSE for your dataset using a naive predictive model, such as predicting the mean target value from the training dataset.\n",
    "\n",
    "A model that achieves an MSE better than the MSE for the naive model has skill."
   ]
  },
  {
   "cell_type": "code",
   "execution_count": 169,
   "id": "3b9c92dd",
   "metadata": {},
   "outputs": [],
   "source": [
    "from matplotlib import pyplot\n",
    "from sklearn.metrics import mean_squared_error"
   ]
  },
  {
   "cell_type": "code",
   "execution_count": 170,
   "id": "3db6ec4c",
   "metadata": {},
   "outputs": [
    {
     "name": "stdout",
     "output_type": "stream",
     "text": [
      "0.35000000000000003\n"
     ]
    }
   ],
   "source": [
    "# example of calculate the mean squared error\n",
    "# real value\n",
    "expected = [1.0, 1.0, 1.0, 1.0, 1.0, 1.0, 1.0, 1.0, 1.0, 1.0, 1.0]\n",
    "# predicted value\n",
    "predicted = [1.0, 0.9, 0.8, 0.7, 0.6, 0.5, 0.4, 0.3, 0.2, 0.1, 0.0]\n",
    "# calculate errors\n",
    "errors = mean_squared_error(expected, predicted)\n",
    "# report error\n",
    "print(errors)"
   ]
  },
  {
   "cell_type": "markdown",
   "id": "81127412",
   "metadata": {},
   "source": [
    "##### Root Mean Squared Error"
   ]
  },
  {
   "cell_type": "markdown",
   "id": "9ba0ef9b",
   "metadata": {},
   "source": [
    "the units of the RMSE are the same as the original units of the target value that is being predicted, in contrast to MSE.\n",
    "this is the advantage comapring to MSE."
   ]
  },
  {
   "cell_type": "markdown",
   "id": "e8a9815e",
   "metadata": {},
   "source": [
    "#### Mean abs error"
   ]
  },
  {
   "cell_type": "markdown",
   "id": "a17a377f",
   "metadata": {},
   "source": [
    "like RMSE, the units of the error score match the units of the target value that is being predicted.\n",
    "\n",
    "Unlike the RMSE, the changes in MAE are linear and therefore intuitive."
   ]
  },
  {
   "cell_type": "code",
   "execution_count": 171,
   "id": "c3f008be",
   "metadata": {},
   "outputs": [
    {
     "name": "stdout",
     "output_type": "stream",
     "text": [
      "0.5\n"
     ]
    }
   ],
   "source": [
    "# example of calculate the mean absolute error\n",
    "from sklearn.metrics import mean_absolute_error\n",
    "# real value\n",
    "expected = [1.0, 1.0, 1.0, 1.0, 1.0, 1.0, 1.0, 1.0, 1.0, 1.0, 1.0]\n",
    "# predicted value\n",
    "predicted = [1.0, 0.9, 0.8, 0.7, 0.6, 0.5, 0.4, 0.3, 0.2, 0.1, 0.0]\n",
    "# calculate errors\n",
    "errors = mean_absolute_error(expected, predicted)\n",
    "# report error\n",
    "print(errors)"
   ]
  },
  {
   "cell_type": "markdown",
   "id": "9e71ba03",
   "metadata": {},
   "source": [
    "# 5. Split the data to train and test"
   ]
  },
  {
   "cell_type": "code",
   "execution_count": 172,
   "id": "791723b9",
   "metadata": {},
   "outputs": [],
   "source": [
    "X = weather.drop(['Apparent Temperature (C)'],axis=1)\n",
    "y = weather['Apparent Temperature (C)']"
   ]
  },
  {
   "cell_type": "code",
   "execution_count": 173,
   "id": "8a382909",
   "metadata": {},
   "outputs": [],
   "source": [
    "from sklearn.model_selection import train_test_split\n",
    "\n",
    "\n",
    "X_train,X_test,y_train,y_test = train_test_split(X,y,test_size=0.20,random_state=42)"
   ]
  },
  {
   "cell_type": "code",
   "execution_count": 174,
   "id": "5cd6a3c9",
   "metadata": {},
   "outputs": [],
   "source": [
    "#train=X_train"
   ]
  },
  {
   "cell_type": "code",
   "execution_count": 175,
   "id": "f5d98e55",
   "metadata": {},
   "outputs": [
    {
     "data": {
      "text/html": [
       "<div>\n",
       "<style scoped>\n",
       "    .dataframe tbody tr th:only-of-type {\n",
       "        vertical-align: middle;\n",
       "    }\n",
       "\n",
       "    .dataframe tbody tr th {\n",
       "        vertical-align: top;\n",
       "    }\n",
       "\n",
       "    .dataframe thead th {\n",
       "        text-align: right;\n",
       "    }\n",
       "</style>\n",
       "<table border=\"1\" class=\"dataframe\">\n",
       "  <thead>\n",
       "    <tr style=\"text-align: right;\">\n",
       "      <th></th>\n",
       "      <th>Temperature (C)</th>\n",
       "      <th>Humidity</th>\n",
       "      <th>Wind Speed (km/h)</th>\n",
       "      <th>Wind Bearing (degrees)</th>\n",
       "      <th>Visibility (km)</th>\n",
       "      <th>Pressure (millibars)</th>\n",
       "      <th>year</th>\n",
       "      <th>month</th>\n",
       "      <th>middle of year</th>\n",
       "      <th>precip_type</th>\n",
       "      <th>summary</th>\n",
       "    </tr>\n",
       "  </thead>\n",
       "  <tbody>\n",
       "    <tr>\n",
       "      <th>43343</th>\n",
       "      <td>16.138889</td>\n",
       "      <td>0.99</td>\n",
       "      <td>13.2020</td>\n",
       "      <td>341.0</td>\n",
       "      <td>5.0715</td>\n",
       "      <td>1014.81</td>\n",
       "      <td>2010</td>\n",
       "      <td>9</td>\n",
       "      <td>False</td>\n",
       "      <td>0</td>\n",
       "      <td>16</td>\n",
       "    </tr>\n",
       "    <tr>\n",
       "      <th>73217</th>\n",
       "      <td>3.883333</td>\n",
       "      <td>0.82</td>\n",
       "      <td>14.0070</td>\n",
       "      <td>131.0</td>\n",
       "      <td>14.8120</td>\n",
       "      <td>1015.93</td>\n",
       "      <td>2014</td>\n",
       "      <td>1</td>\n",
       "      <td>False</td>\n",
       "      <td>0</td>\n",
       "      <td>15</td>\n",
       "    </tr>\n",
       "    <tr>\n",
       "      <th>68219</th>\n",
       "      <td>12.105556</td>\n",
       "      <td>0.62</td>\n",
       "      <td>25.1160</td>\n",
       "      <td>139.0</td>\n",
       "      <td>15.8263</td>\n",
       "      <td>1013.59</td>\n",
       "      <td>2013</td>\n",
       "      <td>11</td>\n",
       "      <td>False</td>\n",
       "      <td>0</td>\n",
       "      <td>17</td>\n",
       "    </tr>\n",
       "    <tr>\n",
       "      <th>33460</th>\n",
       "      <td>5.000000</td>\n",
       "      <td>0.86</td>\n",
       "      <td>22.5400</td>\n",
       "      <td>150.0</td>\n",
       "      <td>9.9820</td>\n",
       "      <td>1013.20</td>\n",
       "      <td>2009</td>\n",
       "      <td>11</td>\n",
       "      <td>False</td>\n",
       "      <td>0</td>\n",
       "      <td>17</td>\n",
       "    </tr>\n",
       "    <tr>\n",
       "      <th>35371</th>\n",
       "      <td>9.977778</td>\n",
       "      <td>0.66</td>\n",
       "      <td>19.9479</td>\n",
       "      <td>300.0</td>\n",
       "      <td>11.2056</td>\n",
       "      <td>1016.30</td>\n",
       "      <td>2010</td>\n",
       "      <td>4</td>\n",
       "      <td>False</td>\n",
       "      <td>0</td>\n",
       "      <td>15</td>\n",
       "    </tr>\n",
       "    <tr>\n",
       "      <th>...</th>\n",
       "      <td>...</td>\n",
       "      <td>...</td>\n",
       "      <td>...</td>\n",
       "      <td>...</td>\n",
       "      <td>...</td>\n",
       "      <td>...</td>\n",
       "      <td>...</td>\n",
       "      <td>...</td>\n",
       "      <td>...</td>\n",
       "      <td>...</td>\n",
       "      <td>...</td>\n",
       "    </tr>\n",
       "    <tr>\n",
       "      <th>6265</th>\n",
       "      <td>14.511111</td>\n",
       "      <td>0.84</td>\n",
       "      <td>5.1198</td>\n",
       "      <td>137.0</td>\n",
       "      <td>14.5866</td>\n",
       "      <td>1018.20</td>\n",
       "      <td>2006</td>\n",
       "      <td>5</td>\n",
       "      <td>False</td>\n",
       "      <td>0</td>\n",
       "      <td>15</td>\n",
       "    </tr>\n",
       "    <tr>\n",
       "      <th>54888</th>\n",
       "      <td>-9.444444</td>\n",
       "      <td>0.80</td>\n",
       "      <td>3.2200</td>\n",
       "      <td>340.0</td>\n",
       "      <td>6.1180</td>\n",
       "      <td>1030.00</td>\n",
       "      <td>2012</td>\n",
       "      <td>2</td>\n",
       "      <td>False</td>\n",
       "      <td>1</td>\n",
       "      <td>16</td>\n",
       "    </tr>\n",
       "    <tr>\n",
       "      <th>76823</th>\n",
       "      <td>7.800000</td>\n",
       "      <td>0.87</td>\n",
       "      <td>10.9319</td>\n",
       "      <td>90.0</td>\n",
       "      <td>7.9695</td>\n",
       "      <td>1010.18</td>\n",
       "      <td>2014</td>\n",
       "      <td>11</td>\n",
       "      <td>False</td>\n",
       "      <td>0</td>\n",
       "      <td>17</td>\n",
       "    </tr>\n",
       "    <tr>\n",
       "      <th>860</th>\n",
       "      <td>19.161111</td>\n",
       "      <td>0.82</td>\n",
       "      <td>0.7728</td>\n",
       "      <td>121.0</td>\n",
       "      <td>9.9820</td>\n",
       "      <td>1012.44</td>\n",
       "      <td>2006</td>\n",
       "      <td>8</td>\n",
       "      <td>True</td>\n",
       "      <td>0</td>\n",
       "      <td>15</td>\n",
       "    </tr>\n",
       "    <tr>\n",
       "      <th>15796</th>\n",
       "      <td>4.977778</td>\n",
       "      <td>0.83</td>\n",
       "      <td>11.3988</td>\n",
       "      <td>220.0</td>\n",
       "      <td>11.1251</td>\n",
       "      <td>1014.90</td>\n",
       "      <td>2007</td>\n",
       "      <td>11</td>\n",
       "      <td>False</td>\n",
       "      <td>0</td>\n",
       "      <td>16</td>\n",
       "    </tr>\n",
       "  </tbody>\n",
       "</table>\n",
       "<p>77160 rows × 11 columns</p>\n",
       "</div>"
      ],
      "text/plain": [
       "       Temperature (C)  Humidity  Wind Speed (km/h)  Wind Bearing (degrees)  \\\n",
       "43343        16.138889      0.99            13.2020                   341.0   \n",
       "73217         3.883333      0.82            14.0070                   131.0   \n",
       "68219        12.105556      0.62            25.1160                   139.0   \n",
       "33460         5.000000      0.86            22.5400                   150.0   \n",
       "35371         9.977778      0.66            19.9479                   300.0   \n",
       "...                ...       ...                ...                     ...   \n",
       "6265         14.511111      0.84             5.1198                   137.0   \n",
       "54888        -9.444444      0.80             3.2200                   340.0   \n",
       "76823         7.800000      0.87            10.9319                    90.0   \n",
       "860          19.161111      0.82             0.7728                   121.0   \n",
       "15796         4.977778      0.83            11.3988                   220.0   \n",
       "\n",
       "       Visibility (km)  Pressure (millibars)  year  month  middle of year  \\\n",
       "43343           5.0715               1014.81  2010      9           False   \n",
       "73217          14.8120               1015.93  2014      1           False   \n",
       "68219          15.8263               1013.59  2013     11           False   \n",
       "33460           9.9820               1013.20  2009     11           False   \n",
       "35371          11.2056               1016.30  2010      4           False   \n",
       "...                ...                   ...   ...    ...             ...   \n",
       "6265           14.5866               1018.20  2006      5           False   \n",
       "54888           6.1180               1030.00  2012      2           False   \n",
       "76823           7.9695               1010.18  2014     11           False   \n",
       "860             9.9820               1012.44  2006      8            True   \n",
       "15796          11.1251               1014.90  2007     11           False   \n",
       "\n",
       "       precip_type  summary  \n",
       "43343            0       16  \n",
       "73217            0       15  \n",
       "68219            0       17  \n",
       "33460            0       17  \n",
       "35371            0       15  \n",
       "...            ...      ...  \n",
       "6265             0       15  \n",
       "54888            1       16  \n",
       "76823            0       17  \n",
       "860              0       15  \n",
       "15796            0       16  \n",
       "\n",
       "[77160 rows x 11 columns]"
      ]
     },
     "execution_count": 175,
     "metadata": {},
     "output_type": "execute_result"
    }
   ],
   "source": [
    "X_train"
   ]
  },
  {
   "cell_type": "code",
   "execution_count": 176,
   "id": "f8c84cb7",
   "metadata": {},
   "outputs": [
    {
     "data": {
      "text/plain": [
       "(19290, 11)"
      ]
     },
     "execution_count": 176,
     "metadata": {},
     "output_type": "execute_result"
    }
   ],
   "source": [
    "X_test.shape"
   ]
  },
  {
   "cell_type": "code",
   "execution_count": 177,
   "id": "81325a27",
   "metadata": {},
   "outputs": [
    {
     "data": {
      "text/plain": [
       "43343    16.138889\n",
       "73217     0.555556\n",
       "68219    12.105556\n",
       "33460     0.794444\n",
       "35371     7.366667\n",
       "           ...    \n",
       "6265     14.511111\n",
       "54888    -9.444444\n",
       "76823     5.844444\n",
       "860      19.161111\n",
       "15796     2.361111\n",
       "Name: Apparent Temperature (C), Length: 77160, dtype: float64"
      ]
     },
     "execution_count": 177,
     "metadata": {},
     "output_type": "execute_result"
    }
   ],
   "source": [
    "y_train"
   ]
  },
  {
   "cell_type": "markdown",
   "id": "5dccd8c6",
   "metadata": {},
   "source": [
    "## Scaling\n"
   ]
  },
  {
   "cell_type": "markdown",
   "id": "76879f22",
   "metadata": {},
   "source": [
    "את הנירמול לא נעשה על משתנים קטגרויאליים ושמיים שעשינו עליהם כבר encoding  \n",
    ",כי אין אפשרות להשוות\n",
    "ניצור גאטא פריים חדש מנורמל\n",
    "את הויזואליצזיה של הדאטא נעשה על הדאטא פריים המקורי, הלא מנורמל, כדי שנראה את המידע בצורה ברורה ונראה מה המספרים מייצגים"
   ]
  },
  {
   "cell_type": "markdown",
   "id": "9636f0a5",
   "metadata": {},
   "source": [
    "we will do the scaling only on numeric variables i.e not on the categorial . \n",
    "we will creaze a normalized dataFrame "
   ]
  },
  {
   "cell_type": "code",
   "execution_count": 178,
   "id": "98d95db0",
   "metadata": {
    "scrolled": true
   },
   "outputs": [
    {
     "data": {
      "text/html": [
       "<div>\n",
       "<style scoped>\n",
       "    .dataframe tbody tr th:only-of-type {\n",
       "        vertical-align: middle;\n",
       "    }\n",
       "\n",
       "    .dataframe tbody tr th {\n",
       "        vertical-align: top;\n",
       "    }\n",
       "\n",
       "    .dataframe thead th {\n",
       "        text-align: right;\n",
       "    }\n",
       "</style>\n",
       "<table border=\"1\" class=\"dataframe\">\n",
       "  <thead>\n",
       "    <tr style=\"text-align: right;\">\n",
       "      <th></th>\n",
       "      <th>Temperature (C)</th>\n",
       "      <th>Humidity</th>\n",
       "      <th>Wind Speed (km/h)</th>\n",
       "      <th>Wind Bearing (degrees)</th>\n",
       "      <th>Visibility (km)</th>\n",
       "      <th>Pressure (millibars)</th>\n",
       "      <th>year</th>\n",
       "      <th>month</th>\n",
       "      <th>middle of year</th>\n",
       "      <th>precip_type</th>\n",
       "      <th>summary</th>\n",
       "    </tr>\n",
       "  </thead>\n",
       "  <tbody>\n",
       "    <tr>\n",
       "      <th>43343</th>\n",
       "      <td>16.138889</td>\n",
       "      <td>0.99</td>\n",
       "      <td>13.2020</td>\n",
       "      <td>341.0</td>\n",
       "      <td>5.0715</td>\n",
       "      <td>1014.81</td>\n",
       "      <td>2010</td>\n",
       "      <td>9</td>\n",
       "      <td>False</td>\n",
       "      <td>0</td>\n",
       "      <td>16</td>\n",
       "    </tr>\n",
       "    <tr>\n",
       "      <th>73217</th>\n",
       "      <td>3.883333</td>\n",
       "      <td>0.82</td>\n",
       "      <td>14.0070</td>\n",
       "      <td>131.0</td>\n",
       "      <td>14.8120</td>\n",
       "      <td>1015.93</td>\n",
       "      <td>2014</td>\n",
       "      <td>1</td>\n",
       "      <td>False</td>\n",
       "      <td>0</td>\n",
       "      <td>15</td>\n",
       "    </tr>\n",
       "    <tr>\n",
       "      <th>68219</th>\n",
       "      <td>12.105556</td>\n",
       "      <td>0.62</td>\n",
       "      <td>25.1160</td>\n",
       "      <td>139.0</td>\n",
       "      <td>15.8263</td>\n",
       "      <td>1013.59</td>\n",
       "      <td>2013</td>\n",
       "      <td>11</td>\n",
       "      <td>False</td>\n",
       "      <td>0</td>\n",
       "      <td>17</td>\n",
       "    </tr>\n",
       "    <tr>\n",
       "      <th>33460</th>\n",
       "      <td>5.000000</td>\n",
       "      <td>0.86</td>\n",
       "      <td>22.5400</td>\n",
       "      <td>150.0</td>\n",
       "      <td>9.9820</td>\n",
       "      <td>1013.20</td>\n",
       "      <td>2009</td>\n",
       "      <td>11</td>\n",
       "      <td>False</td>\n",
       "      <td>0</td>\n",
       "      <td>17</td>\n",
       "    </tr>\n",
       "    <tr>\n",
       "      <th>35371</th>\n",
       "      <td>9.977778</td>\n",
       "      <td>0.66</td>\n",
       "      <td>19.9479</td>\n",
       "      <td>300.0</td>\n",
       "      <td>11.2056</td>\n",
       "      <td>1016.30</td>\n",
       "      <td>2010</td>\n",
       "      <td>4</td>\n",
       "      <td>False</td>\n",
       "      <td>0</td>\n",
       "      <td>15</td>\n",
       "    </tr>\n",
       "  </tbody>\n",
       "</table>\n",
       "</div>"
      ],
      "text/plain": [
       "       Temperature (C)  Humidity  Wind Speed (km/h)  Wind Bearing (degrees)  \\\n",
       "43343        16.138889      0.99            13.2020                   341.0   \n",
       "73217         3.883333      0.82            14.0070                   131.0   \n",
       "68219        12.105556      0.62            25.1160                   139.0   \n",
       "33460         5.000000      0.86            22.5400                   150.0   \n",
       "35371         9.977778      0.66            19.9479                   300.0   \n",
       "\n",
       "       Visibility (km)  Pressure (millibars)  year  month  middle of year  \\\n",
       "43343           5.0715               1014.81  2010      9           False   \n",
       "73217          14.8120               1015.93  2014      1           False   \n",
       "68219          15.8263               1013.59  2013     11           False   \n",
       "33460           9.9820               1013.20  2009     11           False   \n",
       "35371          11.2056               1016.30  2010      4           False   \n",
       "\n",
       "       precip_type  summary  \n",
       "43343            0       16  \n",
       "73217            0       15  \n",
       "68219            0       17  \n",
       "33460            0       17  \n",
       "35371            0       15  "
      ]
     },
     "execution_count": 178,
     "metadata": {},
     "output_type": "execute_result"
    }
   ],
   "source": [
    "X_train.head()\n",
    "# delete presure , day month weekday ...\n",
    "#percip type and summary are catagorials"
   ]
  },
  {
   "cell_type": "markdown",
   "id": "c0f3fd45",
   "metadata": {},
   "source": [
    "*we are scaling only the numrical features, i.e , the features we didn't encoded"
   ]
  },
  {
   "cell_type": "code",
   "execution_count": 179,
   "id": "b2048347",
   "metadata": {},
   "outputs": [],
   "source": [
    "from sklearn.preprocessing import StandardScaler\n",
    "from sklearn.preprocessing import MinMaxScaler"
   ]
  },
  {
   "cell_type": "code",
   "execution_count": 180,
   "id": "e4da1724",
   "metadata": {},
   "outputs": [],
   "source": [
    "scaler_standard = StandardScaler()\n",
    "scaler_MinMax = MinMaxScaler()"
   ]
  },
  {
   "cell_type": "code",
   "execution_count": 181,
   "id": "14740b51",
   "metadata": {},
   "outputs": [],
   "source": [
    "X_train_standardized = X_train.copy()\n",
    "X_test_standardized = X_test.copy()\n",
    "X_train_normalized = X_train.copy()\n",
    "X_test_normalized = X_test.copy()"
   ]
  },
  {
   "cell_type": "code",
   "execution_count": 182,
   "id": "f664a940",
   "metadata": {},
   "outputs": [],
   "source": [
    "numerical_features = [\"Temperature (C)\",\"Humidity\",\"Wind Speed (km/h)\",\"Visibility (km)\",\"month\"]"
   ]
  },
  {
   "cell_type": "code",
   "execution_count": 183,
   "id": "2741d90d",
   "metadata": {},
   "outputs": [],
   "source": [
    "# Standardization:\n",
    "scaler_standard.fit(X_train[numerical_features])\n",
    "X_train_standardized[numerical_features] = scaler_standard.transform(X_train_standardized[numerical_features])\n",
    "\n",
    "# the scaling is with the the same fitted scaler (by the train data)\n",
    "#only transform on the test data\n",
    "X_test_standardized[numerical_features] = scaler_standard.transform(X_test_standardized[numerical_features])"
   ]
  },
  {
   "cell_type": "code",
   "execution_count": 184,
   "id": "833de946",
   "metadata": {},
   "outputs": [
    {
     "name": "stdout",
     "output_type": "stream",
     "text": [
      "note: the mean is 0 and std is 1\n"
     ]
    },
    {
     "data": {
      "text/html": [
       "<div>\n",
       "<style scoped>\n",
       "    .dataframe tbody tr th:only-of-type {\n",
       "        vertical-align: middle;\n",
       "    }\n",
       "\n",
       "    .dataframe tbody tr th {\n",
       "        vertical-align: top;\n",
       "    }\n",
       "\n",
       "    .dataframe thead th {\n",
       "        text-align: right;\n",
       "    }\n",
       "</style>\n",
       "<table border=\"1\" class=\"dataframe\">\n",
       "  <thead>\n",
       "    <tr style=\"text-align: right;\">\n",
       "      <th></th>\n",
       "      <th>Temperature (C)</th>\n",
       "      <th>Humidity</th>\n",
       "      <th>Wind Speed (km/h)</th>\n",
       "      <th>Visibility (km)</th>\n",
       "      <th>month</th>\n",
       "    </tr>\n",
       "  </thead>\n",
       "  <tbody>\n",
       "    <tr>\n",
       "      <th>mean</th>\n",
       "      <td>-1.368915e-16</td>\n",
       "      <td>2.460030e-16</td>\n",
       "      <td>-4.782567e-17</td>\n",
       "      <td>3.196121e-16</td>\n",
       "      <td>-4.968262e-16</td>\n",
       "    </tr>\n",
       "    <tr>\n",
       "      <th>std</th>\n",
       "      <td>1.000006e+00</td>\n",
       "      <td>1.000006e+00</td>\n",
       "      <td>1.000006e+00</td>\n",
       "      <td>1.000006e+00</td>\n",
       "      <td>1.000006e+00</td>\n",
       "    </tr>\n",
       "  </tbody>\n",
       "</table>\n",
       "</div>"
      ],
      "text/plain": [
       "      Temperature (C)      Humidity  Wind Speed (km/h)  Visibility (km)  \\\n",
       "mean    -1.368915e-16  2.460030e-16      -4.782567e-17     3.196121e-16   \n",
       "std      1.000006e+00  1.000006e+00       1.000006e+00     1.000006e+00   \n",
       "\n",
       "             month  \n",
       "mean -4.968262e-16  \n",
       "std   1.000006e+00  "
      ]
     },
     "execution_count": 184,
     "metadata": {},
     "output_type": "execute_result"
    }
   ],
   "source": [
    "print('note: the mean is 0 and std is 1')\n",
    "X_train_standardized.describe()[numerical_features].iloc[[1, 2]]"
   ]
  },
  {
   "cell_type": "code",
   "execution_count": 185,
   "id": "bce6ca61",
   "metadata": {},
   "outputs": [],
   "source": [
    "# Normalization:\n",
    "scaler_MinMax.fit(X_train[numerical_features])\n",
    "X_train_normalized[numerical_features] = scaler_MinMax.transform(X_train_normalized[numerical_features])\n",
    "\n",
    "# the scaling is with the the same fitted scaler (by the train data)\n",
    "#only transform on the test data\n",
    "X_test_normalized[numerical_features] = scaler_MinMax.transform(X_test_normalized[numerical_features])"
   ]
  },
  {
   "cell_type": "code",
   "execution_count": 186,
   "id": "65643176",
   "metadata": {},
   "outputs": [
    {
     "name": "stdout",
     "output_type": "stream",
     "text": [
      "note: the mean is 0 and std is 1\n"
     ]
    },
    {
     "data": {
      "text/html": [
       "<div>\n",
       "<style scoped>\n",
       "    .dataframe tbody tr th:only-of-type {\n",
       "        vertical-align: middle;\n",
       "    }\n",
       "\n",
       "    .dataframe tbody tr th {\n",
       "        vertical-align: top;\n",
       "    }\n",
       "\n",
       "    .dataframe thead th {\n",
       "        text-align: right;\n",
       "    }\n",
       "</style>\n",
       "<table border=\"1\" class=\"dataframe\">\n",
       "  <thead>\n",
       "    <tr style=\"text-align: right;\">\n",
       "      <th></th>\n",
       "      <th>Temperature (C)</th>\n",
       "      <th>Humidity</th>\n",
       "      <th>Wind Speed (km/h)</th>\n",
       "      <th>Visibility (km)</th>\n",
       "      <th>month</th>\n",
       "    </tr>\n",
       "  </thead>\n",
       "  <tbody>\n",
       "    <tr>\n",
       "      <th>mean</th>\n",
       "      <td>-1.368915e-16</td>\n",
       "      <td>2.460030e-16</td>\n",
       "      <td>-4.782567e-17</td>\n",
       "      <td>3.196121e-16</td>\n",
       "      <td>-4.968262e-16</td>\n",
       "    </tr>\n",
       "    <tr>\n",
       "      <th>std</th>\n",
       "      <td>1.000006e+00</td>\n",
       "      <td>1.000006e+00</td>\n",
       "      <td>1.000006e+00</td>\n",
       "      <td>1.000006e+00</td>\n",
       "      <td>1.000006e+00</td>\n",
       "    </tr>\n",
       "  </tbody>\n",
       "</table>\n",
       "</div>"
      ],
      "text/plain": [
       "      Temperature (C)      Humidity  Wind Speed (km/h)  Visibility (km)  \\\n",
       "mean    -1.368915e-16  2.460030e-16      -4.782567e-17     3.196121e-16   \n",
       "std      1.000006e+00  1.000006e+00       1.000006e+00     1.000006e+00   \n",
       "\n",
       "             month  \n",
       "mean -4.968262e-16  \n",
       "std   1.000006e+00  "
      ]
     },
     "execution_count": 186,
     "metadata": {},
     "output_type": "execute_result"
    }
   ],
   "source": [
    "print('note: the mean is 0 and std is 1')\n",
    "X_train_standardized.describe()[numerical_features].iloc[[1, 2]]"
   ]
  },
  {
   "cell_type": "code",
   "execution_count": 187,
   "id": "789db6a9",
   "metadata": {},
   "outputs": [],
   "source": [
    "X_train_scale=X_train.copy()\n",
    "y_train_scale=y_train.copy()"
   ]
  },
  {
   "cell_type": "markdown",
   "id": "d7f7d4b4",
   "metadata": {},
   "source": [
    "deleting the encoded variables (categorials)"
   ]
  },
  {
   "cell_type": "code",
   "execution_count": 188,
   "id": "39cb6ec5",
   "metadata": {},
   "outputs": [],
   "source": [
    "# del X_train_scale['summary']\n",
    "# del X_train_scale['precip_type']"
   ]
  },
  {
   "cell_type": "code",
   "execution_count": 189,
   "id": "d0dbaa06",
   "metadata": {},
   "outputs": [],
   "source": [
    "# from sklearn.preprocessing import MinMaxScaler"
   ]
  },
  {
   "cell_type": "code",
   "execution_count": 190,
   "id": "7eb5e7a1",
   "metadata": {},
   "outputs": [],
   "source": [
    "# scaling= MinMaxScaler()"
   ]
  },
  {
   "cell_type": "markdown",
   "id": "070122ef",
   "metadata": {},
   "source": [
    "*on the train set -fit and transform "
   ]
  },
  {
   "cell_type": "code",
   "execution_count": 191,
   "id": "82a271b4",
   "metadata": {
    "scrolled": true
   },
   "outputs": [],
   "source": [
    "#scaling.fit_transform(X_train_scale)"
   ]
  },
  {
   "cell_type": "code",
   "execution_count": 192,
   "id": "a245d60e",
   "metadata": {},
   "outputs": [],
   "source": [
    "#arr_y_train=np.array(y_train_scale)"
   ]
  },
  {
   "cell_type": "code",
   "execution_count": 193,
   "id": "ae2ef504",
   "metadata": {},
   "outputs": [],
   "source": [
    "#scaling.fit_transform(arr_y_train.reshape(-1,1))"
   ]
  },
  {
   "cell_type": "code",
   "execution_count": 194,
   "id": "e70d4c92",
   "metadata": {},
   "outputs": [],
   "source": [
    "#arr_x_test=np.array(X_train_scale)"
   ]
  },
  {
   "cell_type": "markdown",
   "id": "5c647d0a",
   "metadata": {},
   "source": [
    "*on the test set -transform only "
   ]
  },
  {
   "cell_type": "code",
   "execution_count": 195,
   "id": "6f2f967d",
   "metadata": {
    "scrolled": true
   },
   "outputs": [],
   "source": [
    "#scaling.transform(arr_x_test.reshape(-1,1))"
   ]
  },
  {
   "cell_type": "code",
   "execution_count": 196,
   "id": "1c7d4b47",
   "metadata": {},
   "outputs": [],
   "source": [
    "#arr_y_test=np.array(y_train_scale)"
   ]
  },
  {
   "cell_type": "code",
   "execution_count": 197,
   "id": "f4eca243",
   "metadata": {
    "scrolled": true
   },
   "outputs": [],
   "source": [
    "#scaling.transform(arr_y_test.reshape(-1,1))"
   ]
  },
  {
   "cell_type": "markdown",
   "id": "45e4e705",
   "metadata": {},
   "source": [
    "## dealing with imbalanced data"
   ]
  },
  {
   "cell_type": "markdown",
   "id": "fc5806a2",
   "metadata": {},
   "source": [
    "*** in this part we do not touch the test set!\n",
    " \n",
    " \n",
    " we will only use the test set for the dummy model , and after the cross validation"
   ]
  },
  {
   "cell_type": "markdown",
   "id": "08c2c479",
   "metadata": {},
   "source": [
    "the data is imbalanced as we can see from the histogram below"
   ]
  },
  {
   "cell_type": "code",
   "execution_count": 216,
   "id": "118ef48e",
   "metadata": {},
   "outputs": [
    {
     "data": {
      "text/html": [
       "<div>\n",
       "<style scoped>\n",
       "    .dataframe tbody tr th:only-of-type {\n",
       "        vertical-align: middle;\n",
       "    }\n",
       "\n",
       "    .dataframe tbody tr th {\n",
       "        vertical-align: top;\n",
       "    }\n",
       "\n",
       "    .dataframe thead th {\n",
       "        text-align: right;\n",
       "    }\n",
       "</style>\n",
       "<table border=\"1\" class=\"dataframe\">\n",
       "  <thead>\n",
       "    <tr style=\"text-align: right;\">\n",
       "      <th></th>\n",
       "      <th>Temperature (C)</th>\n",
       "      <th>Humidity</th>\n",
       "      <th>Wind Speed (km/h)</th>\n",
       "      <th>Wind Bearing (degrees)</th>\n",
       "      <th>Visibility (km)</th>\n",
       "      <th>Pressure (millibars)</th>\n",
       "      <th>year</th>\n",
       "      <th>month</th>\n",
       "      <th>middle of year</th>\n",
       "      <th>precip_type</th>\n",
       "      <th>summary</th>\n",
       "    </tr>\n",
       "  </thead>\n",
       "  <tbody>\n",
       "    <tr>\n",
       "      <th>43343</th>\n",
       "      <td>16.138889</td>\n",
       "      <td>0.99</td>\n",
       "      <td>13.2020</td>\n",
       "      <td>341.0</td>\n",
       "      <td>5.0715</td>\n",
       "      <td>1014.81</td>\n",
       "      <td>2010</td>\n",
       "      <td>9</td>\n",
       "      <td>False</td>\n",
       "      <td>0</td>\n",
       "      <td>16</td>\n",
       "    </tr>\n",
       "    <tr>\n",
       "      <th>73217</th>\n",
       "      <td>3.883333</td>\n",
       "      <td>0.82</td>\n",
       "      <td>14.0070</td>\n",
       "      <td>131.0</td>\n",
       "      <td>14.8120</td>\n",
       "      <td>1015.93</td>\n",
       "      <td>2014</td>\n",
       "      <td>1</td>\n",
       "      <td>False</td>\n",
       "      <td>0</td>\n",
       "      <td>15</td>\n",
       "    </tr>\n",
       "    <tr>\n",
       "      <th>68219</th>\n",
       "      <td>12.105556</td>\n",
       "      <td>0.62</td>\n",
       "      <td>25.1160</td>\n",
       "      <td>139.0</td>\n",
       "      <td>15.8263</td>\n",
       "      <td>1013.59</td>\n",
       "      <td>2013</td>\n",
       "      <td>11</td>\n",
       "      <td>False</td>\n",
       "      <td>0</td>\n",
       "      <td>17</td>\n",
       "    </tr>\n",
       "    <tr>\n",
       "      <th>33460</th>\n",
       "      <td>5.000000</td>\n",
       "      <td>0.86</td>\n",
       "      <td>22.5400</td>\n",
       "      <td>150.0</td>\n",
       "      <td>9.9820</td>\n",
       "      <td>1013.20</td>\n",
       "      <td>2009</td>\n",
       "      <td>11</td>\n",
       "      <td>False</td>\n",
       "      <td>0</td>\n",
       "      <td>17</td>\n",
       "    </tr>\n",
       "    <tr>\n",
       "      <th>35371</th>\n",
       "      <td>9.977778</td>\n",
       "      <td>0.66</td>\n",
       "      <td>19.9479</td>\n",
       "      <td>300.0</td>\n",
       "      <td>11.2056</td>\n",
       "      <td>1016.30</td>\n",
       "      <td>2010</td>\n",
       "      <td>4</td>\n",
       "      <td>False</td>\n",
       "      <td>0</td>\n",
       "      <td>15</td>\n",
       "    </tr>\n",
       "    <tr>\n",
       "      <th>...</th>\n",
       "      <td>...</td>\n",
       "      <td>...</td>\n",
       "      <td>...</td>\n",
       "      <td>...</td>\n",
       "      <td>...</td>\n",
       "      <td>...</td>\n",
       "      <td>...</td>\n",
       "      <td>...</td>\n",
       "      <td>...</td>\n",
       "      <td>...</td>\n",
       "      <td>...</td>\n",
       "    </tr>\n",
       "    <tr>\n",
       "      <th>6265</th>\n",
       "      <td>14.511111</td>\n",
       "      <td>0.84</td>\n",
       "      <td>5.1198</td>\n",
       "      <td>137.0</td>\n",
       "      <td>14.5866</td>\n",
       "      <td>1018.20</td>\n",
       "      <td>2006</td>\n",
       "      <td>5</td>\n",
       "      <td>False</td>\n",
       "      <td>0</td>\n",
       "      <td>15</td>\n",
       "    </tr>\n",
       "    <tr>\n",
       "      <th>54888</th>\n",
       "      <td>-9.444444</td>\n",
       "      <td>0.80</td>\n",
       "      <td>3.2200</td>\n",
       "      <td>340.0</td>\n",
       "      <td>6.1180</td>\n",
       "      <td>1030.00</td>\n",
       "      <td>2012</td>\n",
       "      <td>2</td>\n",
       "      <td>False</td>\n",
       "      <td>1</td>\n",
       "      <td>16</td>\n",
       "    </tr>\n",
       "    <tr>\n",
       "      <th>76823</th>\n",
       "      <td>7.800000</td>\n",
       "      <td>0.87</td>\n",
       "      <td>10.9319</td>\n",
       "      <td>90.0</td>\n",
       "      <td>7.9695</td>\n",
       "      <td>1010.18</td>\n",
       "      <td>2014</td>\n",
       "      <td>11</td>\n",
       "      <td>False</td>\n",
       "      <td>0</td>\n",
       "      <td>17</td>\n",
       "    </tr>\n",
       "    <tr>\n",
       "      <th>860</th>\n",
       "      <td>19.161111</td>\n",
       "      <td>0.82</td>\n",
       "      <td>0.7728</td>\n",
       "      <td>121.0</td>\n",
       "      <td>9.9820</td>\n",
       "      <td>1012.44</td>\n",
       "      <td>2006</td>\n",
       "      <td>8</td>\n",
       "      <td>True</td>\n",
       "      <td>0</td>\n",
       "      <td>15</td>\n",
       "    </tr>\n",
       "    <tr>\n",
       "      <th>15796</th>\n",
       "      <td>4.977778</td>\n",
       "      <td>0.83</td>\n",
       "      <td>11.3988</td>\n",
       "      <td>220.0</td>\n",
       "      <td>11.1251</td>\n",
       "      <td>1014.90</td>\n",
       "      <td>2007</td>\n",
       "      <td>11</td>\n",
       "      <td>False</td>\n",
       "      <td>0</td>\n",
       "      <td>16</td>\n",
       "    </tr>\n",
       "  </tbody>\n",
       "</table>\n",
       "<p>77160 rows × 11 columns</p>\n",
       "</div>"
      ],
      "text/plain": [
       "       Temperature (C)  Humidity  Wind Speed (km/h)  Wind Bearing (degrees)  \\\n",
       "43343        16.138889      0.99            13.2020                   341.0   \n",
       "73217         3.883333      0.82            14.0070                   131.0   \n",
       "68219        12.105556      0.62            25.1160                   139.0   \n",
       "33460         5.000000      0.86            22.5400                   150.0   \n",
       "35371         9.977778      0.66            19.9479                   300.0   \n",
       "...                ...       ...                ...                     ...   \n",
       "6265         14.511111      0.84             5.1198                   137.0   \n",
       "54888        -9.444444      0.80             3.2200                   340.0   \n",
       "76823         7.800000      0.87            10.9319                    90.0   \n",
       "860          19.161111      0.82             0.7728                   121.0   \n",
       "15796         4.977778      0.83            11.3988                   220.0   \n",
       "\n",
       "       Visibility (km)  Pressure (millibars)  year  month  middle of year  \\\n",
       "43343           5.0715               1014.81  2010      9           False   \n",
       "73217          14.8120               1015.93  2014      1           False   \n",
       "68219          15.8263               1013.59  2013     11           False   \n",
       "33460           9.9820               1013.20  2009     11           False   \n",
       "35371          11.2056               1016.30  2010      4           False   \n",
       "...                ...                   ...   ...    ...             ...   \n",
       "6265           14.5866               1018.20  2006      5           False   \n",
       "54888           6.1180               1030.00  2012      2           False   \n",
       "76823           7.9695               1010.18  2014     11           False   \n",
       "860             9.9820               1012.44  2006      8            True   \n",
       "15796          11.1251               1014.90  2007     11           False   \n",
       "\n",
       "       precip_type  summary  \n",
       "43343            0       16  \n",
       "73217            0       15  \n",
       "68219            0       17  \n",
       "33460            0       17  \n",
       "35371            0       15  \n",
       "...            ...      ...  \n",
       "6265             0       15  \n",
       "54888            1       16  \n",
       "76823            0       17  \n",
       "860              0       15  \n",
       "15796            0       16  \n",
       "\n",
       "[77160 rows x 11 columns]"
      ]
     },
     "execution_count": 216,
     "metadata": {},
     "output_type": "execute_result"
    }
   ],
   "source": [
    "X_train"
   ]
  },
  {
   "cell_type": "code",
   "execution_count": 198,
   "id": "39791e77",
   "metadata": {},
   "outputs": [
    {
     "data": {
      "text/plain": [
       "(array([[3.2021e+04, 3.2658e+04, 1.6592e+04, 2.4200e+03, 0.0000e+00,\n",
       "         0.0000e+00, 0.0000e+00, 0.0000e+00, 0.0000e+00, 0.0000e+00],\n",
       "        [2.4213e+04, 3.2658e+04, 1.6891e+04, 2.1210e+03, 0.0000e+00,\n",
       "         0.0000e+00, 0.0000e+00, 0.0000e+00, 0.0000e+00, 0.0000e+00],\n",
       "        [2.8900e+03, 0.0000e+00, 0.0000e+00, 0.0000e+00, 0.0000e+00,\n",
       "         0.0000e+00, 0.0000e+00, 0.0000e+00, 0.0000e+00, 0.0000e+00],\n",
       "        [5.2214e+04, 3.2946e+04, 7.5970e+03, 1.2430e+03, 1.3000e+02,\n",
       "         9.0000e+00, 0.0000e+00, 0.0000e+00, 0.0000e+00, 0.0000e+00],\n",
       "        [3.3010e+03, 3.1260e+03, 2.9440e+03, 2.4200e+03, 1.9660e+03,\n",
       "         1.4760e+03, 1.2390e+03, 1.0530e+03, 1.0370e+03, 1.1220e+03],\n",
       "        [5.3873e+04, 3.9489e+04, 0.0000e+00, 0.0000e+00, 0.0000e+00,\n",
       "         0.0000e+00, 0.0000e+00, 0.0000e+00, 0.0000e+00, 0.0000e+00],\n",
       "        [0.0000e+00, 0.0000e+00, 0.0000e+00, 0.0000e+00, 0.0000e+00,\n",
       "         0.0000e+00, 0.0000e+00, 0.0000e+00, 0.0000e+00, 0.0000e+00],\n",
       "        [0.0000e+00, 0.0000e+00, 0.0000e+00, 0.0000e+00, 0.0000e+00,\n",
       "         0.0000e+00, 0.0000e+00, 0.0000e+00, 0.0000e+00, 0.0000e+00],\n",
       "        [8.0346e+04, 1.6104e+04, 0.0000e+00, 0.0000e+00, 0.0000e+00,\n",
       "         0.0000e+00, 0.0000e+00, 0.0000e+00, 0.0000e+00, 0.0000e+00],\n",
       "        [2.4309e+04, 0.0000e+00, 0.0000e+00, 0.0000e+00, 0.0000e+00,\n",
       "         0.0000e+00, 0.0000e+00, 0.0000e+00, 0.0000e+00, 0.0000e+00],\n",
       "        [1.0712e+04, 0.0000e+00, 0.0000e+00, 0.0000e+00, 0.0000e+00,\n",
       "         0.0000e+00, 0.0000e+00, 0.0000e+00, 0.0000e+00, 0.0000e+00],\n",
       "        [1.9676e+04, 7.6573e+04, 1.4700e+02, 0.0000e+00, 0.0000e+00,\n",
       "         0.0000e+00, 0.0000e+00, 0.0000e+00, 0.0000e+00, 0.0000e+00]]),\n",
       " array([1.0, 10.9, 20.8, 30.700000000000003, 40.6, 50.5,\n",
       "        60.400000000000006, 70.3, 80.2, 90.10000000000001, 100.0],\n",
       "       dtype=object),\n",
       " <a list of 12 BarContainer objects>)"
      ]
     },
     "execution_count": 198,
     "metadata": {},
     "output_type": "execute_result"
    },
    {
     "data": {
      "image/png": "[encoded data removed]",
      "text/plain": [
       "<Figure size 432x288 with 1 Axes>"
      ]
     },
     "metadata": {
      "needs_background": "light"
     },
     "output_type": "display_data"
    }
   ],
   "source": [
    "plt.hist(weather, range=(1,100))"
   ]
  },
  {
   "cell_type": "code",
   "execution_count": 199,
   "id": "c571e471",
   "metadata": {},
   "outputs": [
    {
     "ename": "NameError",
     "evalue": "name 'train' is not defined",
     "output_type": "error",
     "traceback": [
      "\u001b[1;31m---------------------------------------------------------------------------\u001b[0m",
      "\u001b[1;31mNameError\u001b[0m                                 Traceback (most recent call last)",
      "\u001b[1;32m<ipython-input-199-45d3e202638a>\u001b[0m in \u001b[0;36m<module>\u001b[1;34m\u001b[0m\n\u001b[0;32m      2\u001b[0m \u001b[1;31m# from random import sample\u001b[0m\u001b[1;33m\u001b[0m\u001b[1;33m\u001b[0m\u001b[1;33m\u001b[0m\u001b[0m\n\u001b[0;32m      3\u001b[0m \u001b[1;31m# data = sample(range(1, 1000), 100)\u001b[0m\u001b[1;33m\u001b[0m\u001b[1;33m\u001b[0m\u001b[1;33m\u001b[0m\u001b[0m\n\u001b[1;32m----> 4\u001b[1;33m \u001b[0mplt\u001b[0m\u001b[1;33m.\u001b[0m\u001b[0mhist\u001b[0m\u001b[1;33m(\u001b[0m\u001b[0mtrain\u001b[0m\u001b[1;33m)\u001b[0m \u001b[1;31m# see if i can change\u001b[0m\u001b[1;33m\u001b[0m\u001b[1;33m\u001b[0m\u001b[0m\n\u001b[0m",
      "\u001b[1;31mNameError\u001b[0m: name 'train' is not defined"
     ]
    }
   ],
   "source": [
    "# Histogram \n",
    "# from random import sample\n",
    "# data = sample(range(1, 1000), 100)\n",
    "plt.hist(train) # see if i can change "
   ]
  },
  {
   "cell_type": "code",
   "execution_count": null,
   "id": "803fe03e",
   "metadata": {},
   "outputs": [],
   "source": [
    "# Histogram \n",
    "plt.hist(X_train)"
   ]
  },
  {
   "cell_type": "code",
   "execution_count": 200,
   "id": "844a1f34",
   "metadata": {},
   "outputs": [],
   "source": [
    "X_train_scale= X_train_standardized"
   ]
  },
  {
   "cell_type": "code",
   "execution_count": 201,
   "id": "c620aa7c",
   "metadata": {},
   "outputs": [],
   "source": [
    "y_train_scale = y_train"
   ]
  },
  {
   "cell_type": "code",
   "execution_count": null,
   "id": "9fbd3766",
   "metadata": {},
   "outputs": [],
   "source": []
  },
  {
   "cell_type": "code",
   "execution_count": 202,
   "id": "092740b9",
   "metadata": {},
   "outputs": [],
   "source": [
    "from imblearn.over_sampling import SMOTE"
   ]
  },
  {
   "cell_type": "code",
   "execution_count": 207,
   "id": "c232b316",
   "metadata": {},
   "outputs": [
    {
     "name": "stdout",
     "output_type": "stream",
     "text": [
      "Counter({17.77777777777778: 306, 12.77777777777778: 299, 13.88888888888889: 277, 17.22222222222222: 272, 12.22222222222222: 242, 15.0: 239, 16.11111111111111: 235, 22.77777777777778: 229, 18.88888888888889: 216, 11.11111111111111: 214, 20.0: 214, 22.22222222222222: 190, 21.11111111111111: 182, 25.0: 180, 23.88888888888889: 177, 26.11111111111111: 129, 12.755555555555556: 118, 17.755555555555556: 99, 17.200000000000003: 94, 7.222222222222222: 92, 10.555555555555555: 92, 17.15: 91, 17.711111111111112: 89, 17.68888888888889: 88, 15.555555555555555: 88, 12.2: 87, 12.733333333333334: 86, 17.733333333333334: 84, 10.050000000000002: 84, 17.17777777777778: 84, 16.08888888888889: 82, 12.711111111111112: 82, 13.333333333333334: 81, 11.666666666666666: 81, 16.666666666666668: 81, 14.905555555555551: 78, 22.800000000000004: 78, 17.105555555555554: 75, 17.244444444444444: 75, 22.75555555555555: 73, 3.888888888888889: 73, 23.83888888888889: 73, 14.444444444444445: 73, 13.838888888888889: 72, 14.97777777777778: 70, 17.800000000000004: 70, 12.105555555555554: 69, 18.81666666666667: 69, 14.883333333333333: 69, 11.066666666666668: 68, 16.038888888888888: 68, 18.86666666666666: 67, 12.244444444444444: 66, 12.8: 66, 12.17222222222222: 66, 11.06111111111111: 65, 16.06666666666667: 65, 11.161111111111111: 64, 13.91111111111111: 64, 11.08888888888889: 64, 13.866666666666667: 63, 18.83888888888889: 63, 6.111111111111111: 63, 12.17777777777778: 63, 17.82777777777778: 62, 13.816666666666666: 62, 21.03888888888889: 62, 22.2: 62, 13.93888888888889: 61, 17.17222222222222: 61, 24.95: 61, 26.06111111111111: 61, 12.15: 61, 16.016666666666666: 60, 12.82777777777778: 60, 11.038888888888888: 60, 10.02222222222222: 59, 12.127777777777776: 59, 15.994444444444444: 59, 10.994444444444444: 59, 19.95: 59, 12.266666666666666: 58, 11.016666666666666: 58, 22.10555555555556: 58, 10.97222222222222: 58, 15.02777777777778: 58, 7.777777777777778: 58, 13.794444444444444: 57, 22.24444444444445: 57, 5.0: 57, 17.127777777777776: 57, 14.86111111111111: 56, 14.955555555555556: 56, 22.73333333333333: 56, 18.79444444444444: 56, 11.044444444444444: 56, 21.06111111111111: 56, 19.92777777777778: 56, 16.183333333333334: 56, 22.266666666666666: 56, 17.266666666666666: 56, 23.86111111111111: 55, 19.86111111111111: 55, 14.949999999999998: 55, 18.772222222222226: 55, 16.06111111111111: 54, 23.79444444444444: 54, 10.027777777777777: 54, 14.927777777777775: 54, 22.71111111111111: 53, 12.68888888888889: 53, 19.88333333333334: 53, 16.16111111111111: 53, 17.666666666666668: 53, 2.7777777777777777: 52, 0.0: 52, 23.81666666666667: 52, 13.844444444444443: 52, 19.90555555555555: 52, 18.8: 51, 15.97222222222222: 51, 22.17777777777778: 51, 12.894444444444446: 51, 18.86111111111111: 50, 26.03888888888889: 50, 12.82222222222222: 50, 13.961111111111112: 50, 20.99444444444445: 50, 18.33333333333333: 50, 17.82222222222222: 50, 20.022222222222226: 50, 22.127777777777776: 50, 16.13888888888889: 49, 21.06666666666667: 49, 15.072222222222225: 49, 18.75: 49, -1.1111111111111112: 49, 17.849999999999998: 49, 18.911111111111115: 49, 11.183333333333334: 49, 17.083333333333332: 47, 11.138888888888888: 47, 24.88333333333334: 47, 22.15: 47, 21.016666666666666: 47, 13.77222222222222: 47, 16.116666666666664: 47, 18.84444444444445: 46, 20.07222222222222: 46, 16.094444444444445: 46, 15.050000000000002: 46, 12.288888888888888: 46, 16.044444444444444: 46, 11.133333333333333: 46, 16.083333333333332: 46, 26.088888888888885: 46, 16.133333333333333: 46, 14.97222222222222: 45, 19.97777777777777: 45, 12.083333333333334: 45, 17.155555555555555: 45, 22.17222222222222: 44, 17.288888888888888: 44, -2.2222222222222223: 44, 17.84444444444445: 44, 13.933333333333332: 44, 18.82222222222222: 44, 15.02222222222222: 44, 4.444444444444445: 43, 19.93333333333333: 43, 16.15555555555555: 43, 1.072222222222222: 43, 14.933333333333334: 43, 17.805555555555557: 42, -2.7333333333333343: 42, 12.155555555555557: 42, 17.194444444444443: 42, 24.92777777777778: 42, 18.96111111111111: 42, 21.13333333333334: 42, -5.0: 41, 13.916666666666664: 41, 5.761111111111109: 41, 14.422222222222224: 41, 15.044444444444444: 41, 21.20555555555556: 40, 16.022222222222226: 40, 10.072222222222225: 40, 24.97222222222222: 40, 20.05: 40, 23.911111111111115: 40, 24.90555555555555: 40, 21.08333333333333: 40, 12.66111111111111: 40, 3.75: 39, 11.083333333333336: 39, 12.805555555555554: 39, 1.1111111111111112: 39, -2.7777777777777777: 39, 21.16111111111111: 39, 2.2222222222222223: 39, 21.18333333333333: 39, 19.00555555555555: 38, 15.094444444444449: 38, 13.75: 38, 13.861111111111112: 38, 10.0: 38, 19.97222222222222: 38, 23.86666666666666: 38, 17.872222222222224: 38, 17.66111111111111: 37, 11.644444444444446: 37, 23.772222222222226: 37, 16.177777777777777: 37, 15.116666666666667: 37, 23.75: 37, 15.511111111111113: 37, 26.016666666666666: 37, 11.094444444444443: 37, 8.88888888888889: 37, 17.31111111111111: 36, 10.044444444444444: 36, 19.95555555555556: 36, 22.194444444444443: 36, 18.916666666666668: 36, 7.755555555555556: 36, 12.066666666666666: 36, 12.194444444444446: 36, 25.022222222222226: 36, 12.85: 36, 2.411111111111113: 36, 22.08333333333333: 35, 0.7611111111111097: 35, 22.15555555555555: 35, 17.061111111111114: 35, 4.355555555555558: 35, 13.883333333333336: 35, 17.89444444444444: 35, 13.955555555555556: 35, 22.066666666666663: 35, 12.666666666666664: 35, 22.68888888888889: 35, 25.99444444444445: 35, 6.627777777777777: 35, 21.088888888888885: 35, 7.799999999999999: 35, 22.82222222222222: 34, 15.933333333333334: 34, 11.116666666666664: 34, 14.005555555555556: 34, 11.022222222222224: 34, 12.844444444444443: 34, 14.983333333333333: 34, 4.15: 34, 10.116666666666667: 34, 10.094444444444443: 33, 19.444444444444443: 33, 3.466666666666668: 33, -3.611111111111111: 33, 16.688888888888886: 33, 16.644444444444446: 33, 20.95555555555556: 33, 20.97222222222222: 33, -3.888888888888889: 33, -0.0222222222222217: 32, -2.272222222222222: 32, 13.894444444444442: 32, 11.155555555555557: 32, 17.75: 32, 20.55555555555556: 32, 11.205555555555556: 32, 5.26111111111111: 32, 24.97777777777777: 32, 15.95: 32, 12.761111111111113: 32, 20.04444444444444: 32, 3.866666666666667: 32, 16.227777777777778: 32, 10.999999999999998: 32, 25.04444444444444: 32, 20.11666666666666: 32, 19.91111111111111: 32, 17.705555555555556: 32, 12.133333333333336: 32, 12.916666666666666: 32, 16.20555555555556: 31, 12.249999999999998: 31, 5.466666666666669: 31, -0.5944444444444446: 31, 26.13333333333334: 31, 1.161111111111113: 31, 0.4777777777777774: 31, 21.04444444444444: 31, 18.93333333333333: 31, 14.844444444444443: 31, 14.02777777777778: 31, 22.82777777777778: 31, 26.08333333333333: 31, 6.0555555555555545: 31, -0.0944444444444453: 30, 10.066666666666666: 30, 18.28888888888889: 30, 1.6000000000000014: 30, -6.111111111111111: 30, 3.838888888888887: 30, 21.15555555555555: 30, 10.533333333333337: 30, 21.094444444444445: 30, 15.955555555555556: 30, -3.938888888888889: 30, 5.088888888888887: 30, 6.805555555555555: 30, 12.783333333333331: 30, 18.93888888888889: 30, 12.03888888888889: 30, 17.066666666666666: 30, 17.25: 29, 13.261111111111113: 29, -0.2666666666666669: 29, 0.9722222222222222: 29, 2.116666666666668: 29, 12.727777777777776: 29, 16.072222222222223: 29, 16.0: 29, 17.727777777777774: 29, 24.86111111111111: 29, 17.133333333333336: 29, 1.0888888888888897: 29, 12.872222222222224: 29, 7.1000000000000005: 29, 17.044444444444444: 29, 20.09444444444445: 29, 18.72777777777777: 29, 12.061111111111112: 29, 13.872222222222222: 29, 17.783333333333335: 28, 23.95555555555556: 28, 15.533333333333337: 28, -1.5666666666666669: 28, 7.15: 28, 3.938888888888891: 28, 17.016666666666666: 28, -1.0888888888888897: 28, -2.244444444444444: 28, 21.25: 28, 18.883333333333333: 28, 5.394444444444445: 28, 11.105555555555558: 28, 13.983333333333334: 28, 1.8444444444444448: 28, 4.488888888888888: 28, 10.511111111111113: 28, 20.08888888888889: 27, 22.84444444444445: 27, 22.85: 27, 13.311111111111112: 27, 17.6: 27, -1.161111111111111: 27, -0.9333333333333332: 27, 14.911111111111111: 27, 18.97777777777777: 27, 5.750000000000001: 27, 14.88888888888889: 27, 22.64444444444445: 27, 16.6: 27, 23.96111111111111: 27, 5.994444444444444: 27, 4.577777777777779: 27, 5.022222222222222: 27, 19.838888888888885: 27, 19.4: 27, 10.13888888888889: 27, 0.2222222222222214: 27, 16.105555555555558: 27, 14.83888888888889: 27, 2.7333333333333343: 27, 22.28888888888889: 27, 11.688888888888888: 27, 15.005555555555553: 27, 25.97222222222222: 27, 13.800000000000002: 27, 18.98333333333333: 26, 22.31111111111111: 26, -0.8833333333333333: 26, 4.877777777777778: 26, 17.644444444444442: 26, 19.994444444444444: 26, 12.272222222222224: 26, 21.13888888888889: 26, 4.927777777777776: 26, 6.644444444444445: 26, 22.11111111111111: 26, -7.777777777777778: 26, 6.161111111111113: 26, 7.200000000000001: 26, 12.683333333333332: 26, 12.63888888888889: 26, 23.883333333333333: 26, 18.311111111111103: 26, 16.622222222222224: 26, 3.083333333333332: 26, 18.89444444444445: 26, 19.88888888888889: 26, 22.72777777777777: 26, 25.07222222222222: 26, -2.094444444444444: 26, 24.00555555555555: 25, 16.25: 25, 8.705555555555556: 25, 4.072222222222221: 25, 22.133333333333336: 25, 13.28888888888889: 25, 15.977777777777776: 25, 1.0277777777777786: 25, 17.59444444444445: 25, -2.933333333333334: 25, 12.333333333333336: 25, 5.438888888888888: 25, 17.63888888888889: 25, 12.13888888888889: 25, -4.949999999999999: 25, 20.02777777777778: 25, -1.183333333333333: 25, 23.93888888888889: 25, -2.822222222222221: 25, 21.022222222222226: 25, 0.6222222222222208: 25, 11.22777777777778: 25, 4.844444444444444: 25, 23.98333333333333: 25, 26.977777777777774: 25, 22.061111111111103: 25, 20.13888888888889: 25, 1.833333333333332: 25, 1.888888888888888: 24, 4.9833333333333325: 24, 1.427777777777778: 24, -3.972222222222221: 24, 14.349999999999998: 24, -0.5555555555555556: 24, 2.155555555555557: 24, 18.71111111111112: 24, 14.466666666666663: 24, 7.305555555555555: 24, 26.15555555555555: 24, 2.766666666666665: 24, 2.177777777777779: 24, 14.961111111111112: 24, 24.838888888888885: 24, 27.077777777777776: 24, 12.705555555555556: 24, 10.577777777777776: 24, 18.77777777777778: 24, 12.611111111111112: 24, 2.76111111111111: 24, 7.733333333333334: 24, 13.244444444444447: 24, 21.17777777777778: 24, 1.0666666666666675: 24, 19.81666666666667: 24, -3.866666666666667: 24, 19.98333333333333: 24, 6.038888888888888: 24, 13.905555555555557: 24, -1.6055555555555558: 24, 6.016666666666666: 24, 1.6722222222222212: 24, -1.2055555555555566: 23, 11.71111111111111: 23, 6.400000000000002: 23, 4.905555555555555: 23, 15.13888888888889: 23, 7.127777777777776: 23, 17.616666666666667: 23, 21.22777777777777: 23, 8.438888888888888: 23, 15.488888888888887: 23, 14.355555555555558: 23, 0.5277777777777793: 23, 2.727777777777776: 23, 15.088888888888889: 23, 3.7722222222222217: 23, 13.355555555555554: 23, 6.0888888888888895: 23, -1.6666666666666667: 23, 20.00555555555556: 23, 15.577777777777776: 23, 13.733333333333333: 23, 14.377777777777778: 23, 12.31111111111111: 23, 2.2000000000000006: 23, 14.994444444444447: 23, 17.11111111111111: 23, -0.2055555555555561: 23, 26.20555555555556: 23, 14.81666666666667: 23, 5.488888888888891: 23, 10.005555555555553: 23, 20.933333333333337: 23, 5.044444444444443: 23, 18.95555555555556: 23, 12.866666666666664: 23, -1.3999999999999997: 23, 18.72222222222222: 22, -1.4833333333333345: 22, -2.883333333333334: 22, 6.183333333333335: 22, 12.644444444444442: 22, 14.8: 22, -2.85: 22, 11.177777777777775: 22, 17.272222222222226: 22, 0.1055555555555542: 22, 2.205555555555555: 22, -0.0499999999999999: 22, 1.0388888888888874: 22, 22.70555555555556: 22, 17.62222222222222: 22, 2.244444444444444: 22, 18.766666666666666: 22, 10.016666666666667: 22, 7.98888888888889: 22, 18.87222222222222: 22, 1.0444444444444458: 22, -1.1555555555555546: 22, -0.255555555555556: 22, 21.0: 22, 11.25: 22, 1.6666666666666667: 22, -2.938888888888888: 22, -2.7111111111111104: 22, 6.849999999999999: 22, 3.122222222222221: 22, 5.4944444444444445: 22, -1.5388888888888888: 22, 0.5388888888888883: 22, -0.0722222222222216: 22, 20.016666666666666: 22, 22.666666666666668: 22, 12.111111111111107: 22, 17.21666666666667: 22, 7.105555555555555: 21, 22.600000000000005: 21, -1.6888888888888884: 21, 0.4055555555555538: 21, 6.2333333333333325: 21, -0.5333333333333338: 21, 10.088888888888889: 21, -3.838888888888889: 21, -2.894444444444445: 21, 7.622222222222222: 21, 11.57777777777778: 21, -0.9722222222222222: 21, 14.400000000000002: 21, -2.2000000000000006: 21, 6.127777777777778: 21, 18.73333333333333: 21, 17.76111111111111: 21, 15.016666666666667: 21, 25.06666666666667: 21, 13.822222222222225: 21, -2.177777777777779: 21, -1.0388888888888894: 21, 5.211111111111112: 21, 26.04444444444444: 21, 18.905555555555555: 21, -1.2666666666666673: 21, 10.92777777777778: 21, 19.844444444444445: 21, 22.76111111111111: 21, 7.444444444444445: 21, 6.105555555555557: 21, 22.80555555555556: 21, 12.022222222222222: 21, 19.81111111111111: 21, 7.311111111111109: 21, 19.822222222222223: 21, 12.044444444444444: 21, 1.377777777777776: 21, 2.82777777777778: 21, 17.572222222222223: 21, 17.916666666666668: 21, 12.938888888888888: 21, 2.7111111111111126: 21, 23.93333333333333: 21, 5.744444444444446: 21, -2.2666666666666657: 21, 1.183333333333335: 21, -2.1500000000000004: 21, 6.061111111111109: 21, 20.95: 21, 10.488888888888887: 21, 17.03888888888889: 21, 3.711111111111111: 21, 2.844444444444443: 21, 0.5555555555555556: 20, 17.655555555555555: 20, -3.2055555555555557: 20, 2.755555555555556: 20, 2.5277777777777763: 20, 6.227777777777778: 20, -1.1333333333333329: 20, 12.750000000000002: 20, 3.894444444444444: 20, 5.094444444444445: 20, 17.16111111111111: 20, -2.9444444444444446: 20, 16.994444444444447: 20, 5.599999999999999: 20, 30.050000000000004: 20, -7.222222222222222: 20, 4.516666666666668: 20, 14.494444444444447: 20, 22.044444444444448: 20, 4.005555555555556: 20, -2.622222222222222: 20, -2.127777777777777: 20, 26.872222222222224: 20, -0.1055555555555562: 20, -1.6166666666666667: 20, 12.161111111111111: 20, 17.08888888888889: 20, 12.738888888888887: 20, 4.961111111111111: 20, 6.666666666666667: 20, 15.92777777777778: 20, 7.705555555555555: 20, 5.538888888888888: 20, 10.905555555555557: 20, 11.199999999999998: 20, 0.0944444444444453: 20, 21.116666666666667: 20, 7.083333333333333: 20, 7.172222222222221: 20, 7.711111111111112: 20, 3.199999999999999: 20, 6.411111111111111: 20, 14.772222222222224: 20, 3.622222222222224: 20, 13.755555555555553: 20, 4.949999999999998: 20, 19.78888888888889: 20, 15.627777777777778: 20, 4.977777777777778: 20, 10.911111111111111: 20, -4.866666666666668: 20, 6.600000000000001: 20, 25.09444444444445: 20, 18.75555555555556: 20, 6.116666666666665: 20, 19.83333333333333: 20, 3.788888888888889: 20, 2.8500000000000014: 20, 5.82222222222222: 20, 18.7: 20, -5.072222222222221: 20, 23.84444444444445: 19, 9.927777777777775: 19, 13.266666666666667: 19, 18.850000000000005: 19, 5.972222222222222: 19, 12.016666666666667: 19, 12.088888888888889: 19, 12.383333333333333: 19, 11.605555555555556: 19, 12.7: 19, 14.81111111111111: 19, 17.866666666666664: 19, 17.52777777777778: 19, 12.33888888888889: 19, 20.85555555555556: 19, 20.90555555555555: 19, 22.872222222222224: 19, 22.0: 19, 4.372222222222221: 19, 1.0833333333333348: 19, 2.377777777777778: 19, 16.049999999999997: 19, -0.2111111111111105: 19, -0.3055555555555559: 19, -0.5777777777777773: 19, 5.283333333333332: 19, 7.244444444444444: 19, 4.283333333333334: 19, 21.105555555555554: 19, -2.105555555555555: 19, 20.9: 19, 12.355555555555558: 19, 4.588888888888888: 19, 3.333333333333333: 19, -0.8611111111111115: 19, -1.8833333333333335: 19, 2.9777777777777774: 19, -2.9166666666666665: 19, 10.95: 19, 24.93333333333333: 19, -0.4333333333333339: 19, 23.71111111111112: 19, 15.066666666666666: 19, -4.105555555555556: 19, -1.427777777777778: 19, 19.377777777777776: 19, 13.216666666666663: 19, 0.3722222222222232: 19, -4.038888888888888: 19, 4.583333333333333: 19, 2.311111111111109: 19, 1.1333333333333329: 19, 2.1722222222222203: 19, 4.000000000000002: 19, 12.622222222222222: 19, 20.92777777777778: 19, 4.088888888888889: 19, 3.9000000000000017: 19, 17.577777777777776: 19, 17.23888888888889: 19, 3.6444444444444457: 19, 5.583333333333332: 18, 17.73888888888889: 18, 22.016666666666666: 18, 6.322222222222224: 18, 10.627777777777778: 18, 2.872222222222223: 18, -3.9166666666666665: 18, 8.205555555555557: 18, 2.2666666666666657: 18, 22.16111111111111: 18, 22.68333333333333: 18, 17.383333333333333: 18, 1.6055555555555558: 18, 6.55: 18, 20.977777777777774: 18, 17.933333333333334: 18, 5.966666666666668: 18, 6.138888888888888: 18, 17.938888888888894: 18, 9.372222222222222: 18, 15.394444444444446: 18, 6.177777777777776: 18, 5.555555555555555: 18, 10.955555555555556: 18, 12.055555555555555: 18, 26.98333333333333: 18, 5.855555555555555: 18, 21.666666666666668: 18, 2.7500000000000018: 18, 5.027777777777776: 18, 25.90555555555555: 18, 3.85: 18, -3.333333333333333: 18, 3.7944444444444434: 18, 4.122222222222224: 18, 17.0: 18, -2.0388888888888896: 18, 7.177777777777779: 18, -1.1388888888888893: 18, -5.666666666666667: 18, 4.466666666666666: 18, 4.288888888888888: 18, 22.61666666666666: 18, 7.383333333333332: 18, 5.78888888888889: 18, 4.3277777777777775: 18, 2.105555555555555: 18, -0.561111111111112: 18, 1.0166666666666655: 18, 11.02777777777778: 18, 12.888888888888893: 18, 4.41111111111111: 18, 4.9: 18, 6.044444444444446: 18, 19.8: 18, 4.955555555555557: 18, 18.35555555555556: 18, 13.977777777777776: 18, 11.622222222222224: 18, -1.4111111111111103: 18, 17.68333333333333: 18, 5.477777777777778: 18, 4.261111111111112: 18, 3.955555555555554: 18, 2.7999999999999994: 18, 7.766666666666664: 18, 17.788888888888884: 18, 20.533333333333328: 18, -0.0111111111111108: 18, 0.5777777777777773: 18, -3.7944444444444434: 18, 5.516666666666667: 18, 5.894444444444444: 17, 5.877777777777776: 17, 2.2277777777777765: 17, 21.05: 17, 5.1: 17, 6.527777777777778: 17, 5.7222222222222205: 17, 7.327777777777777: 17, 1.9833333333333332: 17, 5.3: 17, 0.0166666666666672: 17, 20.92222222222222: 17, 4.305555555555555: 17, -0.8944444444444442: 17, -0.3722222222222232: 17, 7.155555555555556: 17, 25.016666666666666: 17, 6.65: 17, 5.511111111111112: 17, 17.01111111111111: 17, -0.5833333333333337: 17, -10.0: 17, 11.072222222222225: 17, 5.422222222222221: 17, 3.861111111111113: 17, 22.12222222222222: 17, 5.277777777777778: 17, 3.266666666666668: 17, 2.9166666666666665: 17, 4.883333333333333: 17, 24.02777777777778: 17, 0.0722222222222236: 17, 1.0055555555555569: 17, 22.03888888888889: 17, 11.005555555555556: 17, 5.116666666666667: 17, -1.838888888888888: 17, 4.777777777777779: 17, -1.0611111111111111: 17, -5.027777777777778: 17, 6.622222222222224: 17, 21.994444444444447: 17, 6.672222222222221: 17, 25.95: 17, 11.127777777777778: 17, 12.550000000000002: 17, 3.18888888888889: 17, -8.3: 17, 6.133333333333333: 17, 2.127777777777777: 17, 13.699999999999998: 17, 5.872222222222223: 17, 12.3: 17, 19.422222222222217: 17, 26.18333333333333: 17, 0.5111111111111121: 17, 8.816666666666666: 17, 11.6: 17, 4.033333333333332: 17, 22.33333333333333: 17, 5.794444444444444: 17, 19.899999999999995: 17, 0.038888888888889: 17, -0.127777777777778: 17, -0.1111111111111107: 17, 28.68333333333333: 17, 17.33888888888889: 17, 20.06666666666667: 17, 22.89444444444444: 17, 7.266666666666666: 17, 0.7222222222222207: 17, 5.072222222222224: 17, 5.344444444444443: 17, 3.099999999999999: 17, 3.250000000000001: 17, -1.25: 17, 1.8166666666666684: 17, -6.51111111111111: 17, 3.011111111111112: 17, -1.961111111111112: 17, -2.572222222222221: 17, 0.3333333333333341: 17, 3.3611111111111094: 17, -2.5444444444444434: 17, 17.294444444444444: 17, -3.95: 17, 22.56666666666667: 17, 7.272222222222224: 17, 0.0500000000000019: 17, -3.9833333333333343: 17, 12.86111111111111: 17, 4.916666666666668: 17, 3.1555555555555554: 17, 3.816666666666665: 17, 21.2: 17, -1.0777777777777784: 17, 6.427777777777778: 17, 5.58888888888889: 17, 2.8999999999999995: 17, 15.18333333333333: 17, -1.7555555555555555: 17, 0.7944444444444443: 16, 7.066666666666666: 16, -1.8166666666666664: 16, 7.822222222222221: 16, 3.1944444444444446: 16, 3.911111111111111: 16, 4.494444444444446: 16, -0.944444444444444: 16, 1.6944444444444429: 16, 4.855555555555557: 16, 13.238888888888887: 16, 12.183333333333334: 16, 26.06666666666667: 16, 11.994444444444447: 16, 5.922222222222221: 16, -0.0444444444444434: 16, -0.0888888888888889: 16, -0.7055555555555553: 16, 0.6833333333333316: 16, 2.361111111111111: 16, 5.499999999999999: 16, 25.00555555555556: 16, 3.150000000000001: 16, 2.694444444444445: 16, 24.922222222222224: 16, 0.2055555555555541: 16, 2.838888888888889: 16, -4.927777777777779: 16, 5.227777777777776: 16, 2.2499999999999982: 16, -1.3444444444444454: 16, 5.522222222222221: 16, -2.305555555555555: 16, -1.0166666666666655: 16, -2.6888888888888887: 16, 29.077777777777783: 16, 4.822222222222222: 16, 26.13888888888889: 16, -0.3222222222222213: 16, 7.322222222222223: 16, 10.038888888888888: 16, 4.866666666666665: 16, 19.79444444444444: 16, -4.299999999999999: 16, 3.905555555555556: 16, 17.87777777777778: 16, 12.122222222222222: 16, 2.688888888888891: 16, 12.716666666666669: 16, 4.422222222222223: 16, 22.116666666666667: 16, 5.1944444444444455: 16, 17.31666666666667: 16, 5.0666666666666655: 16, 24.994444444444444: 16, 3.594444444444444: 16, 13.68888888888889: 16, 4.027777777777778: 16, 1.1388888888888873: 16, -2.7999999999999994: 16, 5.377777777777777: 16, -1.083333333333333: 16, 3.916666666666665: 16, 5.183333333333333: 16, 12.322222222222225: 16, 6.605555555555556: 16, 20.883333333333336: 16, 2.3277777777777766: 16, 2.272222222222224: 16, 4.73888888888889: 16, 5.52777777777778: 16, 2.1499999999999986: 16, 14.866666666666664: 16, 19.02777777777778: 16, -4.444444444444445: 16, 18.238888888888887: 16, 15.905555555555557: 16, -2.855555555555556: 16, -11.11111111111111: 16, 1.094444444444444: 16, -4.372222222222224: 16, 12.694444444444445: 16, 24.844444444444445: 16, 3.311111111111112: 16, -3.483333333333333: 16, 1.988888888888888: 16, 14.822222222222225: 16, 6.188888888888889: 16, 12.216666666666669: 16, 0.3888888888888904: 16, 1.7166666666666686: 16, -4.05: 16, 7.288888888888888: 16, 8.838888888888887: 16, 17.650000000000002: 16, 13.827777777777778: 16, -0.8500000000000006: 16, 5.944444444444446: 16, 2.955555555555556: 16, -1.316666666666667: 16, -0.6500000000000009: 16, -0.2722222222222213: 16, 3.177777777777777: 16, -1.188888888888889: 16, 5.405555555555554: 16, 15.444444444444445: 16, 13.683333333333334: 16, 1.6777777777777796: 16, -1.6444444444444448: 16, 12.316666666666668: 16, 1.81111111111111: 16, -2.000000000000001: 16, 17.227777777777774: 16, 2.92777777777778: 16, 16.12777777777778: 16, 23.8: 16, 0.9999999999999984: 16, 4.066666666666666: 16, 0.9222222222222204: 16, 5.977777777777777: 16, 2.922222222222221: 16, 3.877777777777776: 16, 10.944444444444446: 16, -4.527777777777777: 16, -1.533333333333334: 16, 6.4444444444444455: 16, -0.1611111111111106: 16, 10.583333333333332: 16, -1.277777777777778: 16, 13.788888888888888: 16, 9.011111111111113: 16, 20.83333333333333: 16, 6.083333333333335: 16, 2.005555555555555: 16, 5.3666666666666645: 16, 19.855555555555554: 16, 2.638888888888889: 16, 17.55: 16, -0.9555555555555548: 16, 7.805555555555554: 16, 25.05: 16, 5.783333333333331: 16, 25.11666666666666: 16, 4.800000000000001: 16, 14.044444444444444: 16, 19.1: 16, 22.672222222222224: 15, -0.3611111111111103: 15, -0.5999999999999991: 15, -1.9444444444444444: 15, 4.4555555555555575: 15, 4.300000000000001: 15, 17.26111111111111: 15, 18.244444444444447: 15, 3.138888888888888: 15, 3.822222222222224: 15, 23.905555555555555: 15, 12.0: 15, 19.850000000000005: 15, 17.233333333333334: 15, -2.5: 15, 4.255555555555554: 15, 19.261111111111116: 15, 22.75: 15, 2.794444444444445: 15, 17.27777777777778: 15, -7.838888888888889: 15, -3.444444444444444: 15, 8.194444444444445: 15, -0.4055555555555558: 15, 7.688888888888891: 15, 19.01111111111111: 15, 2.0222222222222226: 15, 17.07222222222222: 15, 6.67777777777778: 15, 25.02777777777778: 15, 14.416666666666666: 15, 0.4555555555555557: 15, 8.77222222222222: 15, -6.0888888888888895: 15, 5.166666666666665: 15, 7.788888888888891: 15, 12.1: 15, 13.900000000000002: 15, 1.8000000000000012: 15, 7.000000000000001: 15, -2.166666666666666: 15, 15.494444444444444: 15, 5.98888888888889: 15, 1.900000000000001: 15, 24.95555555555556: 15, 5.050000000000002: 15, 3.377777777777777: 15, 21.072222222222223: 15, 3.583333333333335: 15, 5.416666666666667: 15, -3.861111111111111: 15, 22.866666666666664: 15, 4.922222222222222: 15, 2.7722222222222235: 15, 7.022222222222222: 15, 15.32777777777778: 15, 6.383333333333335: 15, 19.938888888888886: 15, 0.7388888888888879: 15, 7.85: 15, 19.966666666666665: 15, 12.227777777777776: 15, 6.338888888888887: 15, 17.566666666666666: 15, 0.1555555555555562: 15, 4.511111111111109: 15, 2.0111111111111097: 15, 10.055555555555555: 15, -2.7888888888888888: 15, -2.155555555555555: 15, 13.85: 15, 14.872222222222224: 15, 1.3222222222222235: 15, 22.661111111111115: 15, 2.233333333333335: 15, 10.105555555555554: 15, 15.055555555555555: 15, 4.172222222222221: 15, 5.8500000000000005: 15, 18.811111111111117: 15, 7.255555555555556: 15, 4.816666666666667: 15, 5.038888888888889: 15, 6.633333333333332: 15, 3.366666666666668: 15, 10.933333333333334: 15, 5.933333333333334: 15, 15.438888888888888: 15, 2.9055555555555537: 15, 18.65555555555555: 15, 12.744444444444444: 15, 5.955555555555555: 15, 26.17777777777778: 15, 15.105555555555554: 15, 23.7: 15, 0.994444444444444: 15, 0.8833333333333352: 15, 18.216666666666672: 15, -4.027777777777778: 15, 1.0611111111111091: 15, 7.427777777777777: 15, 18.266666666666666: 15, 3.2166666666666663: 15, 18.788888888888884: 15, 18.927777777777774: 15, 11.144444444444446: 15, 12.094444444444449: 15, 2.6444444444444435: 15, 0.9833333333333352: 15, 5.338888888888889: 15, 26.25: 15, -1.2277777777777783: 15, 17.116666666666667: 15, 17.96111111111111: 15, 23.72777777777777: 15, 15.583333333333334: 15, 3.800000000000002: 15, 5.811111111111112: 15, 14.938888888888888: 15, 4.083333333333334: 15, 8.333333333333334: 15, 19.30555555555556: 15, -4.322222222222223: 15, -3.583333333333333: 15, 12.566666666666666: 15, 5.305555555555554: 15, 3.183333333333332: 15, 3.2444444444444462: 15, 17.022222222222222: 15, 7.183333333333334: 15, 0.4111111111111122: 15, 5.677777777777777: 15, -0.6055555555555555: 15, 13.4: 15, -5.977777777777779: 15, 26.105555555555554: 15, 21.25555555555556: 15, 5.205555555555554: 15, 18.827777777777776: 15, 16.43888888888889: 14, 14.922222222222224: 14, 22.655555555555555: 14, 10.9: 14, 5.133333333333335: 14, 17.883333333333333: 14, 3.827777777777778: 14, 16.144444444444446: 14, 22.272222222222226: 14, 11.805555555555555: 14, 19.916666666666664: 14, 3.0166666666666666: 14, -5.972222222222222: 14, 11.52777777777778: 14, -1.7166666666666666: 14, 15.605555555555558: 14, 22.338888888888885: 14, -1.7666666666666666: 14, -2.1722222222222225: 14, 2.983333333333332: 14, 16.977777777777778: 14, -2.783333333333334: 14, 2.488888888888887: 14, -5.355555555555556: 14, -1.4611111111111106: 14, 4.144444444444445: 14, 6.900000000000001: 14, 5.144444444444443: 14, -2.76111111111111: 14, 0.0277777777777761: 14, -0.8555555555555551: 14, 14.75: 14, -2.827777777777777: 14, 13.638888888888888: 14, 13.666666666666666: 14, -8.61111111111111: 14, -1.3277777777777782: 14, 3.744444444444445: 14, -0.8055555555555551: 14, 10.883333333333336: 14, -4.861111111111111: 14, -3.4611111111111112: 14, 16.549999999999997: 14, 12.011111111111113: 14, 17.555555555555557: 14, 14.305555555555555: 14, 23.744444444444444: 14, 7.23888888888889: 14, 17.255555555555556: 14, -2.2277777777777787: 14, -1.7055555555555555: 14, 1.1444444444444457: 14, 12.933333333333334: 14, 10.861111111111107: 14, 20.88888888888889: 14, 5.938888888888887: 14, -0.2277777777777778: 14, 6.83888888888889: 14, 12.616666666666667: 14, 15.944444444444445: 14, 6.394444444444443: 14, 4.227777777777778: 14, 4.888888888888888: 14, 24.87777777777778: 14, 24.8: 14, 2.966666666666669: 14, 2.5333333333333345: 14, 0.6277777777777792: 14, 7.505555555555554: 14, 27.183333333333337: 14, -3.7722222222222217: 14, 17.188888888888886: 14, 2.077777777777779: 14, 16.95: 14, 17.12222222222222: 14, 5.255555555555556: 14, 3.5777777777777766: 14, 1.9277777777777767: 14, 3.0277777777777795: 14, -1.2444444444444436: 14, 12.594444444444443: 14, 0.5944444444444446: 14, 11.761111111111113: 14, 14.283333333333337: 14, 17.333333333333332: 14, -3.4722222222222223: 14, 4.155555555555554: 14, 5.905555555555557: 14, 4.01111111111111: 14, -8.88888888888889: 14, 4.016666666666665: 14, 14.17222222222222: 14, -0.0055555555555564: 14, 17.61111111111111: 14, 3.8333333333333326: 14, -3.616666666666668: 14, 28.122222222222224: 14, 6.244444444444445: 14, 2.5444444444444434: 14, -1.1444444444444437: 14, 14.327777777777776: 14, 2.627777777777776: 14, 3.544444444444446: 14, 1.022222222222224: 14, 17.38888888888889: 14, -3.9611111111111104: 14, -2.083333333333333: 14, 31.072222222222223: 14, 22.87777777777778: 14, 4.966666666666665: 14, -1.35: 14, 3.7277777777777774: 14, 7.744444444444444: 14, 1.1944444444444438: 14, 3.988888888888889: 14, 4.27777777777778: 14, 16.73888888888889: 14, 12.116666666666667: 14, 18.67777777777778: 14, 10.155555555555557: 14, 27.438888888888886: 14, 7.194444444444446: 14, -0.4777777777777774: 14, 1.6499999999999997: 14, 12.05: 14, 5.433333333333334: 14, 3.3222222222222206: 14, 17.716666666666665: 14, 3.677777777777776: 14, -1.8444444444444448: 14, 12.838888888888889: 14, -0.0277777777777781: 14, 11.988888888888887: 14, 16.733333333333334: 14, -3.355555555555555: 14, 8.733333333333333: 14, 26.12777777777778: 14, 11.05: 14, 26.48333333333333: 14, 5.899999999999999: 14, 5.011111111111113: 14, 5.999999999999998: 14, 5.533333333333334: 14, 0.4444444444444428: 14, 0.5444444444444427: 14, 4.416666666666668: 14, 22.916666666666668: 14, 4.627777777777776: 14, -0.6777777777777771: 14, 7.405555555555555: 14, 5.244444444444444: 14, 0.905555555555557: 14, 4.238888888888891: 14, -1.416666666666667: 14, 22.25: 14, 4.400000000000001: 14, 2.855555555555556: 14, 19.98888888888889: 14, -0.472222222222223: 14, 5.56111111111111: 14, 10.605555555555558: 14, 19.283333333333328: 14, 14.511111111111113: 14, 15.599999999999998: 14, 27.922222222222224: 14, 30.15555555555555: 14, 11.738888888888887: 14, 14.31111111111111: 14, 6.705555555555556: 14, 17.672222222222224: 14, 18.855555555555554: 14, 5.86111111111111: 14, 3.0444444444444425: 14, 5.911111111111111: 14, 5.122222222222222: 14, 3.9611111111111126: 14, -4.744444444444444: 14, 7.6: 14, 19.35: 14, 10.1: 14, 17.855555555555554: 14, 4.938888888888889: 14, 3.4722222222222223: 14, 3.211111111111112: 14, 5.216666666666667: 14, 20.46666666666667: 14, 13.177777777777775: 14, 7.727777777777776: 14, 4.427777777777777: 14, 0.2722222222222233: 14, -2.333333333333333: 14, -3.9555555555555566: 14, 15.16111111111111: 14, 22.05: 14, 14.261111111111113: 14, 2.0388888888888896: 14, 0.472222222222223: 14, 6.172222222222222: 14, 1.1555555555555546: 14, 11.505555555555556: 14, 7.138888888888889: 14, 4.483333333333333: 14, -2.905555555555556: 14, 5.238888888888889: 14, 5.655555555555555: 14, -1.5888888888888886: 14, 18.177777777777777: 14, 6.977777777777779: 14, -2.5222222222222217: 14, 13.855555555555554: 14, 5.716666666666666: 14, 1.7000000000000013: 14, 18.666666666666664: 14, 6.199999999999998: 14, 6.422222222222223: 14, 4.861111111111111: 14, -2.755555555555556: 14, 28.827777777777776: 14, 0.6166666666666664: 13, 7.188888888888887: 13, 0.9500000000000004: 13, 5.827777777777779: 13, 12.36111111111111: 13, 26.16111111111111: 13, -3.827777777777778: 13, -1.466666666666667: 13, 3.766666666666668: 13, -3.9777777777777774: 13, 2.422222222222222: 13, -9.63888888888889: 13, 2.9611111111111104: 13, 7.827777777777779: 13, 17.694444444444443: 13, 27.950000000000003: 13, -3.816666666666668: 13, 2.049999999999999: 13, 27.25555555555556: 13, 6.894444444444442: 13, 4.4722222222222205: 13, 6.688888888888888: 13, 3.733333333333333: 13, 5.005555555555555: 13, 5.172222222222223: 13, 2.8888888888888906: 13, 4.500000000000001: 13, 5.372222222222224: 13, -1.2555555555555564: 13, 5.333333333333334: 13, 8.822222222222223: 13, -2.066666666666666: 13, 20.511111111111116: 13, 15.91111111111111: 13, 17.811111111111114: 13, -5.555555555555555: 13, 0.0055555555555544: 13, 12.772222222222224: 13, 20.100000000000005: 13, -0.038888888888889: 13, -3.844444444444445: 13, 6.561111111111113: 13, 0.8444444444444462: 13, 6.51111111111111: 13, -0.6555555555555554: 13, 4.53888888888889: 13, 7.916666666666667: 13, -2.805555555555556: 13, 16.67222222222222: 13, 3.616666666666666: 13, 15.9: 13, 16.005555555555556: 13, 14.77777777777778: 13, 1.583333333333334: 13, 1.222222222222224: 13, 26.64444444444444: 13, -0.8722222222222223: 13, 3.2222222222222205: 13, 2.683333333333332: 13, 2.594444444444445: 13, -3.75: 13, 6.050000000000001: 13, -0.1388888888888889: 13, 23.89444444444445: 13, -2.194444444444444: 13, -2.1333333333333333: 13, 19.050000000000004: 13, 3.9833333333333343: 13, 0.2444444444444432: 13, -6.0: 13, 25.9: 13, 5.250000000000002: 13, 17.183333333333334: 13, 1.1777777777777765: 13, -1.2722222222222217: 13, -2.7: 13, 0.3944444444444449: 13, 5.138888888888889: 13, 16.555555555555557: 13, 4.761111111111111: 13, 0.3833333333333321: 13, 1.83888888888889: 13, 22.29444444444444: 13, 19.044444444444444: 13, 6.25: 13, 12.655555555555557: 13, 0.9611111111111094: 13, 22.23888888888889: 13, 1.2055555555555566: 13, -0.7444444444444444: 13, 10.966666666666669: 13, 6.544444444444445: 13, 6.094444444444444: 13, 2.316666666666668: 13, 5.666666666666668: 13, 22.022222222222226: 13, 4.944444444444444: 13, 4.17777777777778: 13, 28.46111111111112: 13, -2.055555555555556: 13, 3.933333333333332: 13, 27.061111111111103: 13, -1.7388888888888885: 13, 15.672222222222224: 13, 5.883333333333336: 13, 15.144444444444442: 13, 22.78333333333333: 13, 13.22222222222222: 13, 4.694444444444446: 13, 0.2277777777777758: 13, 13.72777777777778: 13, 4.394444444444442: 13, 19.35555555555556: 13, 14.061111111111112: 13, -0.5111111111111121: 13, -1.5611111111111104: 13, 22.63888888888889: 13, 4.911111111111113: 13, -4.550000000000001: 13, 5.505555555555554: 13, 23.67777777777778: 13, 12.261111111111113: 13, 4.7: 13, 10.988888888888887: 13, -0.2777777777777778: 13, 24.444444444444443: 13, 4.161111111111112: 13, -2.605555555555556: 13, 22.633333333333333: 13, 12.6: 13, 1.0111111111111113: 13, 1.9722222222222203: 13, 2.1611111111111114: 13, 17.700000000000003: 13, 2.4055555555555546: 13, 7.899999999999999: 13, 5.766666666666668: 13, -4.083333333333334: 13, 6.661111111111112: 13, 6.072222222222222: 13, 4.638888888888889: 13, -0.0833333333333325: 13, 6.63888888888889: 13, -2.55: 13, 10.394444444444446: 13, -0.7833333333333334: 13, 20.96111111111112: 13, 20.98888888888889: 13, 6.327777777777778: 13, 6.144444444444446: 13, -5.588888888888889: 13, -1.71111111111111: 13, -1.2833333333333323: 13, 6.916666666666668: 13, 28.172222222222217: 13, 4.8388888888888895: 13, -1.3722222222222216: 13, 22.62222222222222: 13, 3.4222222222222203: 13, 3.8555555555555534: 13, -0.9111111111111114: 13, 23.82222222222222: 13, 7.26111111111111: 13, 6.944444444444445: 13, 24.83333333333333: 13, 2.449999999999998: 13, -5.322222222222221: 13, 20.011111111111106: 13, 4.166666666666667: 13, 13.722222222222223: 13, 13.922222222222224: 13, 7.877777777777778: 13, 0.1444444444444433: 13, 4.449999999999999: 13, -1.3333333333333326: 13, 8.08888888888889: 13, -4.172222222222223: 13, 0.7888888888888899: 13, 3.638888888888888: 13, 7.316666666666667: 13, 4.594444444444446: 13, 12.877777777777778: 13, -4.177777777777777: 13, 15.92222222222222: 13, 7.227777777777776: 13, 10.16111111111111: 13, -1.5499999999999996: 13, 1.4833333333333345: 13, 0.0444444444444434: 13, 14.988888888888887: 13, 4.249999999999999: 13, 23.78333333333333: 13, -5.327777777777778: 13, 10.977777777777776: 13, 5.888888888888889: 13, 27.672222222222224: 13, 19.766666666666666: 13, 19.866666666666667: 13, 2.0722222222222206: 13, 12.72222222222222: 13, 5.127777777777776: 13, 7.094444444444446: 13, 2.305555555555555: 13, 13.038888888888888: 13, 4.344444444444445: 13, 5.4: 13, -3.905555555555556: 13, 21.32222222222222: 13, 0.8388888888888878: 13, 17.09444444444445: 13, 5.638888888888888: 13, 13.777777777777777: 13, 15.466666666666669: 13, 13.744444444444447: 13, 26.966666666666672: 13, 4.933333333333335: 13, 1.1277777777777784: 13, 2.883333333333332: 13, -1.2999999999999998: 13, 0.8222222222222205: 13, -1.094444444444444: 13, 5.694444444444445: 13, 0.0222222222222217: 13, 17.36111111111111: 13, 5.177777777777778: 13, 4.022222222222223: 13, 14.333333333333334: 13, 19.772222222222226: 13, 4.105555555555556: 13, 0.8111111111111116: 13, 21.977777777777774: 13, 0.1166666666666671: 13, 17.144444444444446: 13, 17.922222222222224: 13, -2.2388888888888894: 13, -1.555555555555556: 13, -1.072222222222222: 13, 7.872222222222224: 13, 11.011111111111113: 13, 6.3166666666666655: 13, 14.1: 13, 7.161111111111111: 13, -4.005555555555556: 13, 2.194444444444446: 13, -4.977777777777778: 13, 7.07222222222222: 13, 2.822222222222221: 13, 4.322222222222223: 13, 3.0888888888888903: 12, 0.3555555555555558: 12, 0.5833333333333317: 12, 20.34444444444445: 12, 7.477777777777779: 12, 13.15: 12, 4.233333333333332: 12, 11.18888888888889: 12, 5.361111111111111: 12, 7.472222222222224: 12, 3.227777777777779: 12, 7.683333333333333: 12, -4.272222222222222: 12, 22.96111111111111: 12, 9.466666666666663: 12, 0.7444444444444464: 12, 4.894444444444446: 12, -2.6444444444444453: 12, 12.255555555555556: 12, 18.28333333333333: 12, 6.588888888888889: 12, 1.3055555555555562: 12, 5.805555555555557: 12, 22.59444444444445: 12, 5.838888888888888: 12, 2.6055555555555543: 12, 12.811111111111112: 12, -0.4888888888888883: 12, 1.744444444444445: 12, 17.41111111111111: 12, 2.722222222222221: 12, 11.555555555555554: 12, 3.533333333333333: 12, 7.666666666666665: 12, 1.71111111111111: 12, -5.911111111111111: 12, 1.6277777777777775: 12, -1.783333333333334: 12, 15.127777777777776: 12, -1.761111111111112: 12, -3.883333333333332: 12, 16.927777777777777: 12, -2.561111111111111: 12, 6.461111111111112: 12, -2.383333333333333: 12, 7.044444444444444: 12, 18.78333333333333: 12, 12.977777777777778: 12, 5.033333333333335: 12, 0.0999999999999998: 12, 0.294444444444445: 12, 22.57222222222222: 12, 11.099999999999998: 12, 20.91111111111111: 12, 4.044444444444445: 12, 23.916666666666668: 12, 1.8222222222222229: 12, 0.9777777777777766: 12, 15.88888888888889: 12, 0.0555555555555563: 12, 6.099999999999998: 12, 5.061111111111111: 12, 23.75555555555556: 12, 6.888888888888888: 12, 13.783333333333337: 12, -1.405555555555556: 12, -0.1722222222222215: 12, -4.666666666666666: 12, 22.03333333333333: 12, 17.13888888888889: 12, 1.9555555555555573: 12, -6.138888888888889: 12, -2.5055555555555564: 12, 1.5166666666666648: 12, 3.95: 12, -6.761111111111112: 12, 2.538888888888889: 12, 5.777777777777777: 12, 2.283333333333333: 12, -0.2222222222222214: 12, 2.466666666666665: 12, -8.594444444444443: 12, -0.3333333333333341: 12, -6.255555555555556: 12, -2.9499999999999997: 12, -1.1277777777777784: 12, -4.905555555555555: 12, 11.122222222222224: 12, -6.061111111111111: 12, 22.700000000000003: 12, -7.244444444444444: 12, 15.833333333333334: 12, -2.0722222222222224: 12, 2.255555555555557: 12, 13.711111111111112: 12, 19.89444444444445: 12, 19.87777777777778: 12, -2.872222222222223: 12, 18.805555555555557: 12, 2.261111111111111: 12, 5.605555555555558: 12, 5.683333333333332: 12, 4.555555555555557: 12, 6.272222222222222: 12, 7.5166666666666675: 12, -1.1000000000000003: 12, 22.188888888888886: 12, 0.7055555555555573: 12, -1.633333333333334: 12, 15.56111111111111: 12, 14.916666666666666: 12, 1.1055555555555567: 12, 12.794444444444444: 12, -2.594444444444445: 12, 14.066666666666666: 12, 27.83888888888889: 12, 8.93888888888889: 12, 7.233333333333336: 12, 17.744444444444444: 12, -2.2500000000000004: 12, 0.1777777777777779: 12, 25.92777777777778: 12, 1.7277777777777774: 12, -3.4000000000000004: 12, 1.3000000000000018: 12, 15.538888888888888: 12, -1.0277777777777786: 12, 2.9888888888888903: 12, 4.405555555555555: 12, 4.6000000000000005: 12, -2.077777777777777: 12, -1.3666666666666671: 12, 4.833333333333335: 12, 21.12777777777778: 12, 1.6611111111111123: 12, 2.3944444444444457: 12, 23.77777777777778: 12, 11.266666666666667: 12, -2.9888888888888885: 12, 1.4111111111111103: 12, 12.294444444444444: 12, -1.805555555555556: 12, 5.083333333333332: 12, 14.7: 12, -1.683333333333334: 12, -2.016666666666666: 12, 2.738888888888889: 12, 12.166666666666666: 12, 20.811111111111103: 12, 24.81666666666667: 12, -1.6944444444444449: 12, 13.505555555555556: 12, 3.205555555555557: 12, 3.4500000000000006: 12, 6.438888888888891: 12, -4.3277777777777775: 12, 1.7055555555555555: 12, 7.033333333333331: 12, -0.2888888888888886: 12, 11.416666666666664: 12, 7.249999999999998: 12, 16.97222222222222: 12, -0.9611111111111114: 12, -2.8888888888888884: 12, 22.08888888888889: 12, 3.883333333333335: 12, 3.072222222222223: 12, 12.238888888888887: 12, 16.272222222222222: 12, 22.577777777777776: 12, 0.5666666666666684: 12, 22.216666666666665: 12, 12.983333333333333: 12, -2.261111111111111: 12, 1.9111111111111097: 12, -0.7222222222222227: 12, 3.416666666666666: 12, 2.6611111111111105: 12, 14.07222222222222: 12, 16.477777777777774: 12, 4.433333333333332: 12, 2.950000000000001: 12, 18.688888888888886: 12, 0.3055555555555539: 12, 3.338888888888888: 12, -3.0333333333333337: 12, 3.4777777777777765: 12, 7.783333333333331: 12, 6.433333333333333: 12, 13.805555555555555: 12, 19.327777777777783: 12, 1.5888888888888886: 12, 28.09444444444444: 12, 5.161111111111111: 12, -1.122222222222222: 12, 1.7944444444444427: 12, 19.07222222222222: 12, 5.844444444444446: 12, -2.999999999999999: 12, 5.016666666666668: 12, -0.3277777777777777: 12, -0.0166666666666672: 12, 12.344444444444443: 12, 11.233333333333333: 12, 22.344444444444445: 12, 3.7166666666666655: 12, 6.216666666666665: 12, -3.2888888888888896: 12, 5.222222222222221: 12, 4.477777777777779: 12, 4.872222222222224: 12, -4.888888888888889: 12, -4.022222222222221: 12, 29.36111111111111: 12, 1.8944444444444424: 12, -0.3166666666666668: 12, 7.211111111111109: 12, 19.188888888888894: 12, 27.62777777777778: 12, 8.916666666666664: 12, 5.644444444444442: 12, 20.416666666666668: 12, 4.366666666666666: 12, 8.955555555555556: 12, 21.00555555555556: 12, 7.277777777777778: 12, 3.238888888888888: 12, 20.86111111111111: 12, 6.949999999999999: 12, 9.444444444444445: 12, 5.350000000000001: 12, 18.272222222222226: 12, 17.205555555555556: 12, 17.299999999999997: 12, 1.5611111111111124: 12, -6.03888888888889: 12, 7.950000000000001: 12, 6.516666666666665: 12, 3.1333333333333337: 12, -2.3000000000000003: 12, -1.0000000000000004: 12, 6.022222222222224: 12, 16.2: 12, 3.277777777777777: 12, -2.527777777777778: 12, 6.533333333333332: 12, 21.64444444444444: 12, 17.505555555555553: 12, 0.4277777777777795: 12, -2.7444444444444454: 12, 4.383333333333334: 12, 4.377777777777779: 12, -0.5055555555555556: 12, -8.966666666666667: 12, 8.28888888888889: 12, 7.355555555555558: 12, 23.72222222222222: 12, 4.216666666666669: 12, 7.76111111111111: 12, -2.4777777777777783: 12, -1.4333333333333325: 12, 4.200000000000001: 12, 13.81111111111111: 12, 10.88888888888889: 12, 0.0888888888888869: 12, 4.05: 12, 6.749999999999999: 12, 28.25: 12, 20.161111111111115: 12, 14.833333333333334: 12, -3.4222222222222225: 12, 7.366666666666664: 11, 10.083333333333334: 11, 18.22222222222222: 11, 14.516666666666667: 11, 7.061111111111112: 11, -4.222222222222223: 11, -0.1222222222222216: 11, -0.1833333333333323: 11, 26.988888888888887: 11, -0.5222222222222229: 11, 11.322222222222225: 11, 20.038888888888884: 11, -1.7888888888888883: 11, 18.833333333333336: 11, 2.994444444444445: 11, -3.8944444444444457: 11, 12.527777777777777: 11, 24.91111111111111: 11, 6.772222222222221: 11, 3.1444444444444426: 11, 6.611111111111111: 11, 22.73888888888889: 11, 5.816666666666666: 11, -3.877777777777778: 11, -0.1166666666666671: 11, 19.77777777777777: 11, -4.061111111111111: 11, 3.844444444444445: 11, 12.205555555555556: 11, 16.71666666666667: 11, 13.194444444444445: 11, -0.383333333333334: 11, -6.961111111111112: 11, 0.4833333333333319: 11, 3.5500000000000003: 11, 10.65: 11, 5.272222222222223: 11, 15.877777777777776: 11, 4.57222222222222: 11, 22.861111111111114: 11, 17.533333333333335: 11, 19.116666666666664: 11, 2.372222222222224: 11, 3.077777777777777: 11, -1.9277777777777767: 11, 1.7333333333333318: 11, 14.561111111111112: 11, 12.944444444444445: 11, 17.322222222222223: 11, -4.355555555555556: 11, 3.5277777777777786: 11, 5.95: 11, 2.633333333333334: 11, -2.3555555555555547: 11, 14.755555555555556: 11, -3.911111111111111: 11, 15.011111111111113: 11, 13.661111111111111: 11, 5.383333333333332: 11, -4.78888888888889: 11, 18.194444444444443: 11, 7.399999999999999: 11, -1.1666666666666674: 11, 23.97777777777777: 11, -4.511111111111112: 11, -2.4055555555555546: 11, 16.966666666666665: 11, 14.372222222222222: 11, 0.5500000000000012: 11, -7.644444444444446: 11, 27.700000000000003: 11, -6.077777777777778: 11, 3.738888888888887: 11, 4.055555555555554: 11, -1.211111111111111: 11, 12.788888888888891: 11, -4.033333333333335: 11, 3.688888888888889: 11, 3.805555555555556: 11, 3.316666666666666: 11, 1.633333333333332: 11, 2.2388888888888894: 11, 4.188888888888888: 11, 2.188888888888888: 11, 24.79444444444444: 11, 15.622222222222222: 11, -1.288888888888889: 11, 22.55: 11, 19.74444444444445: 11, -4.077777777777778: 11, 11.166666666666666: 11, 19.488888888888887: 11, -0.2499999999999996: 11, 10.27777777777778: 11, 11.97222222222222: 11, 6.3611111111111125: 11, -1.7999999999999992: 11, -12.316666666666668: 11, 6.555555555555554: 11, 15.966666666666669: 11, 21.9: 11, 1.3833333333333344: 11, 10.283333333333331: 11, 1.2444444444444456: 11, 28.49444444444445: 11, 5.311111111111113: 11, 6.522222222222223: 11, 2.338888888888889: 11, -3.4111111111111114: 11, 27.816666666666663: 11, 7.016666666666668: 11, 18.744444444444444: 11, 6.255555555555555: 11, 13.97222222222222: 11, 2.083333333333333: 11, 5.699999999999999: 11, 3.383333333333335: 11, -2.6: 11, 4.972222222222224: 11, -2.666666666666667: 11, 26.73333333333333: 11, 13.766666666666667: 11, 12.033333333333331: 11, 2.5222222222222217: 11, 1.9444444444444444: 11, -3.394444444444444: 11, -4.955555555555557: 11, -2.5333333333333328: 11, -1.033333333333333: 11, 18.072222222222223: 11, 21.05555555555556: 11, 7.088888888888888: 11, 15.18888888888889: 11, 3.555555555555555: 11, -9.911111111111111: 11, -5.994444444444444: 11, 12.555555555555555: 11, -0.4499999999999993: 11, 0.916666666666666: 11, 6.71111111111111: 11, 0.8555555555555551: 11, 1.861111111111112: 11, -2.294444444444444: 11, 5.077777777777778: 11, 8.850000000000001: 11, 17.772222222222226: 11, 23.73333333333333: 11, 19.87222222222222: 11, 3.1166666666666663: 11, -6.022222222222222: 11, 1.966666666666666: 11, 15.52777777777778: 11, 20.98333333333333: 11, 1.877777777777779: 11, 0.9888888888888896: 11, 7.533333333333335: 11, 6.266666666666668: 11, 10.92222222222222: 11, 3.761111111111113: 11, 2.4777777777777783: 11, 5.150000000000002: 11, -2.3277777777777784: 11, 10.52777777777778: 11, 14.216666666666669: 11, -3.2611111111111115: 11, 13.583333333333336: 11, 26.094444444444445: 11, 2.016666666666668: 11, 11.55: 11, 23.850000000000005: 11, 16.233333333333334: 11, -1.0444444444444438: 11, 7.116666666666668: 11, 6.7444444444444445: 11, 6.494444444444444: 11, 0.8888888888888897: 11, 8.711111111111112: 11, -0.2333333333333342: 11, 4.222222222222223: 11, 1.1166666666666656: 11, 6.005555555555556: 11, -4.377777777777776: 11, 22.16666666666667: 11, -1.4444444444444453: 11, -2.116666666666666: 11, -0.8444444444444442: 11, 2.2777777777777786: 11, -2.766666666666667: 11, -2.9277777777777776: 11, 23.194444444444443: 11, 6.844444444444445: 11, 4.755555555555556: 11, -6.050000000000001: 11, 2.6555555555555563: 11, -0.9222222222222224: 11, 1.2277777777777783: 11, 13.538888888888888: 11, 12.388888888888888: 11, 11.583333333333334: 11, -4.9833333333333325: 11, -0.994444444444444: 11, 1.1666666666666674: 11, 11.694444444444445: 11, 10.316666666666666: 11, 27.861111111111114: 11, 26.85: 11, 21.02777777777777: 11, 2.4000000000000004: 11, -7.311111111111111: 11, 23.666666666666664: 11, 18.63888888888889: 11, 15.083333333333334: 11, 17.633333333333336: 11, 15.38888888888889: 11, 1.6222222222222231: 11, 1.5333333333333323: 11, 5.616666666666666: 11, -1.0555555555555547: 11, 24.772222222222226: 11, 18.87777777777778: 11, 7.027777777777777: 11, 7.655555555555556: 11, -0.905555555555555: 11, 4.1166666666666645: 11, 26.522222222222226: 11, 16.505555555555556: 11, 17.37777777777778: 11, 18.14444444444444: 11, 16.988888888888887: 11, 24.81111111111111: 11, 11.194444444444445: 11, 4.988888888888887: 11, 14.788888888888888: 11, 27.016666666666666: 11, -2.322222222222222: 11, 2.8777777777777778: 11, -0.0611111111111108: 11, -4.466666666666666: 11, 0.4611111111111101: 11, 0.9666666666666678: 11, 6.833333333333332: 11, -5.505555555555556: 11, 22.61111111111111: 11, -2.2111111111111112: 11, 17.677777777777777: 11, -0.6666666666666663: 11, 27.47222222222222: 11, 16.211111111111112: 11, 18.038888888888888: 11, 5.266666666666665: 11, -3.0055555555555555: 11, 27.350000000000005: 11, 21.944444444444443: 11, 1.6166666666666647: 11, 5.450000000000001: 11, 16.594444444444445: 11, -4.233333333333334: 11, 18.011111111111113: 11, -1.477777777777778: 11, 4.100000000000001: 11, 2.6111111111111125: 11, -3.872222222222222: 11, 10.011111111111113: 11, 5.633333333333334: 11, 13.199999999999998: 11, 9.97777777777778: 11, 2.894444444444445: 11, 5.7055555555555575: 11, 15.938888888888888: 11, -1.594444444444445: 11, 2.461111111111111: 11, -2.4277777777777785: 11, 15.294444444444444: 11, 20.944444444444443: 11, 16.761111111111113: 11, 5.188888888888891: 11, 7.11111111111111: 11, -13.177777777777775: 11, 26.811111111111117: 11, 0.6777777777777771: 11, 2.811111111111112: 11, 2.3888888888888875: 11, 16.57777777777778: 11, 10.78888888888889: 11, 22.36111111111111: 11, 13.677777777777775: 11, 4.727777777777777: 11, 1.7499999999999991: 11, 16.5: 11, -5.094444444444445: 11, 27.31666666666667: 11, 10.983333333333336: 11, 5.2888888888888905: 11, -1.6111111111111105: 11, -0.3888888888888885: 11, -4.283333333333334: 11, 2.5833333333333326: 11, -4.594444444444444: 11, -1.5277777777777777: 11, 12.650000000000002: 11, 19.466666666666672: 11, 4.2444444444444445: 11, 6.727777777777778: 11, 21.50555555555555: 11, 3.299999999999999: 11, -2.922222222222223: 11, -3.511111111111111: 11, 2.5166666666666675: 11, 8.894444444444442: 11, 6.477777777777776: 11, 28.05555555555556: 11, 4.788888888888888: 11, 19.0: 11, 4.272222222222221: 11, 5.622222222222221: 11, 19.75: 11, -5.800000000000001: 11, -0.5722222222222229: 11, 2.0444444444444443: 11, 2.344444444444444: 11, 13.705555555555556: 11, 22.58888888888889: 11, 5.294444444444445: 11, 2.144444444444444: 11, 6.011111111111111: 11, 6.238888888888887: 11, -0.916666666666666: 11, 4.333333333333332: 11, -7.205555555555555: 11, 4.644444444444444: 11, 22.938888888888894: 11, 1.25: 11, -1.5444444444444452: 11, -2.577777777777778: 11, 14.488888888888887: 11, 28.127777777777776: 11, 2.438888888888889: 11, 18.022222222222226: 11, -3.2166666666666663: 11, 27.11111111111111: 10, 16.01111111111111: 10, 5.66111111111111: 10, 18.922222222222224: 10, -3.2944444444444443: 10, -3.6555555555555546: 10, 15.961111111111109: 10, 0.5222222222222209: 10, -2.255555555555554: 10, 8.861111111111112: 10, 0.9555555555555548: 10, 3.050000000000001: 10, 5.727777777777779: 10, -0.1333333333333324: 10, -4.555555555555555: 10, 6.449999999999999: 10, 10.06111111111111: 10, 9.883333333333333: 10, -1.377777777777778: 10, -5.927777777777779: 10, 12.27777777777778: 10, 21.622222222222224: 10, 2.166666666666666: 10, 13.994444444444444: 10, -4.922222222222222: 10, 20.32777777777778: 10, 16.455555555555556: 10, 1.4611111111111126: 10, 22.1: 10, 16.95555555555556: 10, 8.872222222222222: 10, 14.61111111111111: 10, -3.927777777777778: 10, 7.438888888888889: 10, 5.483333333333332: 10, 3.094444444444445: 10, 5.1111111111111125: 10, 0.0333333333333345: 10, 16.15: 10, 0.3388888888888886: 10, -1.772222222222223: 10, 7.866666666666664: 10, 25.92222222222222: 10, 7.344444444444444: 10, 5.866666666666668: 10, 7.894444444444446: 10, 19.07777777777778: 10, -3.644444444444444: 10, 4.811111111111109: 10, -4.127777777777777: 10, 1.4222222222222234: 10, 19.022222222222226: 10, 9.972222222222223: 10, 12.5: 10, 7.816666666666666: 10, 23.827777777777776: 10, -4.766666666666666: 10, 18.433333333333337: 10, 6.572222222222221: 10, 20.083333333333336: 10, 4.749999999999998: 10, -1.0055555555555549: 10, 27.76666666666667: 10, 5.322222222222221: 10, -3.3833333333333333: 10, -6.2333333333333325: 10, 1.3444444444444454: 10, 15.205555555555556: 10, 19.73888888888889: 10, -3.33888888888889: 10, -7.027777777777777: 10, 7.294444444444445: 10, 4.994444444444445: 10, 22.072222222222223: 10, 1.5111111111111104: 10, -3.3222222222222224: 10, 24.87222222222222: 10, 16.02777777777778: 10, 27.96111111111111: 10, 1.7777777777777797: 10, 26.3: 10, 17.96666666666667: 10, -4.894444444444444: 10, 2.505555555555554: 10, 0.1833333333333323: 10, 3.722222222222224: 10, 0.2333333333333342: 10, 4.266666666666667: 10, 27.972222222222214: 10, 4.349999999999999: 10, 11.733333333333333: 10, -6.288888888888889: 10, 1.9055555555555557: 10, 6.683333333333334: 10, -1.4388888888888889: 10, -1.911111111111112: 10, 6.583333333333334: 10, -4.4944444444444445: 10, 7.483333333333332: 10, 1.8555555555555572: 10, 15.85: 10, 21.97222222222222: 10, 1.5388888888888903: 10, 1.5722222222222213: 10, 15.883333333333336: 10, 5.327777777777779: 10, 20.577777777777783: 10, 27.03888888888889: 10, 20.488888888888887: 10, 6.155555555555555: 10, 25.95555555555556: 10, 1.761111111111112: 10, -2.033333333333333: 10, -4.488888888888888: 10, 1.277777777777776: 10, 14.47222222222222: 10, 13.366666666666667: 10, 4.655555555555557: 10, 19.944444444444446: 10, 27.116666666666667: 10, 2.972222222222223: 10, 3.455555555555555: 10, 3.5388888888888874: 10, 18.261111111111116: 10, -5.050000000000001: 10, 5.472222222222223: 10, 5.916666666666666: 10, 0.3611111111111103: 10, -0.3999999999999993: 10, -3.283333333333333: 10, 8.338888888888887: 10, 1.3666666666666671: 10, 3.566666666666668: 10, 17.955555555555552: 10, -1.2333333333333327: 10, 17.461111111111112: 10, 6.311111111111111: 10, 7.633333333333335: 10, 16.65: 10, -2.5166666666666675: 10, 14.144444444444446: 10, -6.199999999999999: 10, 17.766666666666666: 10, -2.91111111111111: 10, 15.372222222222224: 10, -3.099999999999999: 10, 4.8055555555555545: 10, 0.3777777777777776: 10, 14.966666666666663: 10, 16.077777777777776: 10, -8.711111111111112: 10, 0.0611111111111108: 10, 15.233333333333336: 10, 6.81111111111111: 10, 0.7833333333333314: 10, -3.533333333333333: 10, 16.033333333333335: 10, 22.744444444444444: 10, 6.761111111111112: 10, 21.988888888888887: 10, 6.211111111111111: 10, 8.22777777777778: 10, 16.288888888888888: 10, 25.08888888888889: 10, 27.422222222222224: 10, 7.977777777777778: 10, 21.100000000000005: 10, -3.638888888888889: 10, 0.2166666666666669: 10, 6.033333333333333: 10, 15.366666666666664: 10, 10.56111111111111: 10, 3.394444444444444: 10, -2.8111111111111104: 10, -1.3944444444444453: 10, 2.2888888888888874: 10, 17.950000000000003: 10, 27.561111111111117: 10, 6.205555555555557: 10, 15.155555555555557: 10, 0.4388888888888884: 10, 23.688888888888886: 10, 18.70555555555556: 10, -0.9777777777777786: 10, 2.4555555555555566: 10, 18.73888888888889: 10, 21.011111111111106: 10, 20.438888888888894: 10, 27.85: 10, 11.561111111111112: 10, 1.5222222222222233: 10, -5.388888888888889: 10, 4.111111111111111: 10, 15.983333333333336: 10, 2.0333333333333314: 10, 0.7555555555555552: 10, -5.900000000000001: 10, -5.344444444444445: 10, 17.988888888888887: 10, 27.08333333333333: 10, 5.755555555555556: 10, -3.744444444444443: 10, -3.4777777777777787: 10, 7.650000000000002: 10, 14.21111111111111: 10, 10.438888888888888: 10, 16.188888888888886: 10, 8.18888888888889: 10, -1.4222222222222216: 10, 0.3166666666666668: 10, -5.566666666666666: 10, 3.927777777777778: 10, 5.550000000000001: 10, 14.194444444444445: 10, 12.905555555555551: 10, -2.216666666666666: 10, 0.8611111111111095: 10, 0.9277777777777788: 10, -0.1999999999999996: 10, -5.655555555555555: 10, 17.433333333333334: 10, 15.038888888888888: 10, -5.738888888888888: 10, -1.8222222222222229: 10, 11.244444444444447: 10, -1.722222222222223: 10, 18.000000000000004: 10, 12.211111111111109: 10, 4.077777777777779: 10, -2.205555555555555: 10, -2.5833333333333326: 10, 4.21111111111111: 10, 1.9166666666666683: 10, -0.5277777777777773: 10, 12.449999999999998: 10, 0.816666666666666: 10, 5.42777777777778: 10, 2.000000000000001: 10, 27.88888888888889: 10, 5.772222222222222: 10, 14.738888888888887: 10, -2.2888888888888896: 10, 1.9499999999999988: 10, 5.672222222222223: 10, 11.43888888888889: 10, 2.1111111111111094: 10, 17.45555555555556: 10, 25.966666666666665: 10, -1.5999999999999994: 10, 25.877777777777776: 10, -1.2000000000000002: 10, 4.544444444444444: 10, -1.6388888888888884: 10, -4.361111111111112: 10, 0.2500000000000015: 10, 8.794444444444444: 10, 5.650000000000001: 10, 12.349999999999998: 10, 12.966666666666669: 10, 12.505555555555553: 10, 17.355555555555558: 10, 1.6444444444444448: 10, 14.9: 10, -2.444444444444444: 10, -1.9500000000000008: 10, -3.2722222222222226: 10, -4.505555555555556: 10, 20.077777777777776: 10, 4.127777777777777: 10, 7.527777777777776: 10, -3.711111111111111: 10, 21.966666666666672: 10, 11.927777777777775: 10, 27.68888888888889: 10, 12.633333333333336: 10, 3.0055555555555538: 10, 4.316666666666668: 10, -5.01111111111111: 10, -6.0555555555555545: 10, 15.166666666666666: 10, 27.75: 10, 16.944444444444443: 10, 2.4277777777777763: 10, 16.694444444444443: 10, -0.6222222222222228: 10, 7.572222222222223: 10, 16.266666666666666: 10, 3.2611111111111097: 10, 8.305555555555557: 10, 28.572222222222223: 10, -2.316666666666668: 10, 1.5444444444444452: 10, 12.4: 10, -5.922222222222222: 10, 12.455555555555556: 10, 4.794444444444446: 10, 3.0388888888888883: 10, 6.877777777777779: 10, -1.8555555555555556: 10, 11.316666666666666: 10, 10.35: 10, 1.8277777777777773: 10, 16.52777777777778: 10, -0.1499999999999997: 10, -0.688888888888888: 10, -4.972222222222222: 10, 6.994444444444446: 10, 17.03333333333333: 10, -4.094444444444445: 10, 7.672222222222223: 10, 27.916666666666668: 10, 0.1888888888888907: 10, -6.950000000000001: 10, 5.46111111111111: 10, 8.933333333333332: 10, -2.6555555555555563: 10, 7.361111111111111: 10, 13.005555555555553: 10, 0.5333333333333338: 10, -4.294444444444445: 10, -2.2777777777777786: 10, 0.4166666666666667: 10, 13.344444444444449: 10, 7.049999999999999: 10, 10.416666666666666: 10, 17.1: 10, 6.655555555555554: 10, 6.733333333333332: 10, -2.8666666666666667: 10, 29.32222222222222: 10, 13.033333333333337: 10, 0.6055555555555574: 10, 11.033333333333331: 10, 26.22777777777777: 10, -3.094444444444445: 10, -1.6777777777777776: 10, -4.433333333333334: 10, 22.883333333333333: 10, -4.422222222222223: 10, 29.75555555555556: 10, 5.199999999999999: 10, 25.077777777777776: 10, 1.6111111111111105: 10, 14.094444444444443: 10, 3.777777777777776: 10, 22.05555555555556: 10, 12.572222222222225: 10, 7.144444444444444: 10, 24.98333333333333: 10, 2.0944444444444463: 10, -5.472222222222223: 10, 7.594444444444445: 10, 0.1388888888888889: 10, 7.938888888888887: 10, 1.555555555555554: 10, 13.566666666666668: 10, 12.283333333333331: 10, 17.055555555555557: 10, -2.722222222222221: 10, 0.7333333333333335: 10, 6.77777777777778: 10, 4.827777777777777: 10, 15.1: 10, -0.4555555555555557: 10, -4.366666666666666: 10, 4.094444444444443: 10, -0.4166666666666667: 10, 11.455555555555556: 10, 16.055555555555557: 10, 0.1222222222222216: 10, -2.1611111111111114: 10, -1.7333333333333338: 10, 8.044444444444443: 10, -4.138888888888889: 9, 0.6333333333333336: 9, -4.933333333333333: 9, 0.6999999999999988: 9, 28.22222222222222: 9, -0.3944444444444449: 9, 3.433333333333333: 9, 7.333333333333335: 9, -2.8777777777777778: 9, -4.727777777777779: 9, 21.55555555555556: 9, 12.988888888888887: 9, 10.122222222222222: 9, 1.5000000000000016: 9, -2.833333333333334: 9, 28.72777777777777: 9, 3.977777777777776: 9, 14.944444444444445: 9, 6.816666666666668: 9, 3.588888888888889: 9, 13.988888888888887: 9, 3.5166666666666657: 9, 10.694444444444445: 9, 3.483333333333335: 9, -0.6277777777777772: 9, -3.855555555555556: 9, 0.344444444444443: 9, 10.46111111111111: 9, 13.011111111111113: 9, -1.2944444444444434: 9, 1.15: 9, 10.211111111111112: 9, 20.422222222222224: 9, 5.105555555555554: 9, 10.672222222222224: 9, 9.35: 9, 3.2888888888888896: 9, -3.166666666666666: 9, -3.255555555555555: 9, 4.505555555555556: 9, 14.238888888888887: 9, 12.07777777777778: 9, 2.472222222222224: 9, 21.688888888888894: 9, -6.15: 9, -2.972222222222223: 9, -1.1055555555555547: 9, -1.2166666666666677: 9, 30.061111111111117: 9, 2.666666666666665: 9, -5.166666666666667: 9, 1.4000000000000017: 9, -10.483333333333333: 9, 10.644444444444442: 9, 3.2722222222222226: 9, -4.705555555555555: 9, 19.577777777777776: 9, 14.449999999999998: 9, 18.899999999999995: 9, 27.80555555555556: 9, 2.938888888888888: 9, 7.96111111111111: 9, -5.466666666666667: 9, 3.022222222222221: 9, -2.616666666666667: 9, 8.005555555555553: 9, 19.75555555555556: 9, 27.54444444444444: 9, 22.327777777777776: 9, 3.4888888888888894: 9, 24.0: 9, 7.616666666666668: 9, 17.40555555555555: 9, 28.444444444444443: 9, 3.783333333333335: 9, 6.500000000000002: 9, -4.416666666666667: 9, -3.1277777777777773: 9, 1.3888888888888888: 9, 6.372222222222222: 9, -2.683333333333332: 9, -4.388888888888888: 9, -1.0500000000000005: 9, 2.805555555555554: 9, 4.783333333333333: 9, -3.327777777777777: 9, 1.505555555555556: 9, 7.550000000000002: 9, -4.261111111111112: 9, -4.199999999999999: 9, 5.355555555555556: 9, -1.7944444444444447: 9, -6.322222222222221: 9, 13.594444444444443: 9, -5.2444444444444445: 9, 0.6500000000000009: 9, -0.4388888888888884: 9, -0.8222222222222224: 9, 7.772222222222224: 9, 10.811111111111112: 9, 27.21111111111112: 9, -2.794444444444445: 9, 27.58888888888889: 9, 12.855555555555556: 9, 17.90555555555556: 9, 15.744444444444447: 9, 27.855555555555554: 9, -4.288888888888888: 9, 6.194444444444444: 9, 21.955555555555552: 9, 17.88888888888889: 9, 13.944444444444445: 9, 20.877777777777776: 9, 1.3944444444444433: 9, 28.65555555555555: 9, -0.0555555555555563: 9, -2.555555555555556: 9, -4.133333333333334: 9, 7.677777777777777: 9, 20.177777777777774: 9, 19.01666666666667: 9, 7.372222222222224: 9, 14.055555555555554: 9, 17.511111111111113: 9, 0.0111111111111128: 9, -2.994444444444445: 9, 17.049999999999997: 9, -2.6111111111111107: 9, 8.199999999999998: 9, 6.066666666666667: 9, 10.716666666666663: 9, -0.0333333333333326: 9, 4.649999999999999: 9, 2.433333333333335: 9, 15.866666666666667: 9, 10.877777777777776: 9, 16.805555555555557: 9, 25.100000000000005: 9, 12.377777777777778: 9, 7.833333333333333: 9, 27.800000000000004: 9, 11.15: 9, 23.616666666666667: 9, -4.605555555555555: 9, -4.811111111111111: 9, -4.800000000000001: 9, 11.077777777777776: 9, 10.144444444444442: 9, 5.733333333333333: 9, 10.4: 9, 17.344444444444445: 9, -3.377777777777777: 9, 20.966666666666665: 9, 28.244444444444447: 9, -7.033333333333333: 9, 14.855555555555558: 9, -0.4833333333333339: 9, -1.655555555555556: 9, -2.0111111111111115: 9, 6.966666666666666: 9, 2.6: 9, 17.83888888888889: 9, 7.449999999999998: 9, -0.8777777777777769: 9, 11.97777777777778: 9, 15.988888888888887: 9, 2.027777777777777: 9, 4.677777777777779: 9, 3.994444444444443: 9, 20.372222222222224: 9, 27.39444444444445: 9, -0.9666666666666658: 9, -6.133333333333333: 9, 1.805555555555556: 9, 6.277777777777776: 9, 3.972222222222221: 9, 20.155555555555555: 9, 14.705555555555556: 9, 28.98888888888889: 9, -2.366666666666668: 9, 6.961111111111112: 9, 27.91111111111111: 9, -0.5444444444444447: 9, 10.477777777777778: 9, 5.738888888888888: 9, 7.455555555555557: 9, 17.794444444444444: 9, 20.25: 9, -5.1: 9, 6.15: 9, 13.305555555555555: 9, 6.766666666666667: 9, -1.5722222222222213: 9, -1.6222222222222231: 9, 8.299999999999999: 9, -7.955555555555555: 9, 13.405555555555557: 9, 2.3000000000000003: 9, 20.46111111111111: 9, 26.85555555555556: 9, -1.811111111111112: 9, 2.866666666666665: 9, 1.6388888888888904: 9, -0.0999999999999998: 9, 18.383333333333336: 9, 24.78888888888889: 9, 18.761111111111106: 9, 5.983333333333335: 9, 22.20555555555556: 9, 1.288888888888889: 9, 17.327777777777776: 9, 14.538888888888891: 9, -5.438888888888888: 9, 7.561111111111111: 9, 19.383333333333333: 9, 7.205555555555555: 9, 27.72777777777777: 9, 3.6555555555555546: 9, 0.5888888888888901: 9, 0.2888888888888906: 9, 4.705555555555555: 9, 27.066666666666663: 9, 20.65: 9, 3.4999999999999982: 9, 10.444444444444445: 9, 7.583333333333333: 9, -1.7499999999999991: 9, 2.744444444444443: 9, 17.627777777777776: 9, -3.7055555555555566: 9, -0.6944444444444444: 9, 27.46111111111112: 9, 13.966666666666669: 9, 15.461111111111109: 9, 29.1: 9, 15.855555555555554: 9, 1.722222222222223: 9, 0.6388888888888881: 9, 6.5388888888888905: 9, 22.54444444444444: 9, -1.8944444444444448: 9, 3.3999999999999986: 9, 15.077777777777776: 9, 28.033333333333328: 9, 1.6888888888888884: 9, 22.45555555555556: 9, 5.566666666666668: 9, -2.5666666666666678: 9, 11.67222222222222: 9, -3.85: 9, 11.716666666666669: 9, 14.794444444444444: 9, 12.672222222222224: 9, 22.38333333333334: 9, 12.533333333333337: 9, 10.177777777777775: 9, -4.21111111111111: 9, 4.849999999999998: 9, 14.166666666666666: 9, 27.23333333333333: 9, -2.233333333333333: 9, 1.849999999999999: 9, -1.583333333333334: 9, 17.5: 9, 10.855555555555554: 9, -4.066666666666666: 9, 27.33333333333333: 9, 0.5055555555555536: 9, 28.766666666666666: 9, 3.872222222222222: 9, 4.688888888888887: 9, 29.061111111111117: 9, 26.744444444444444: 9, -3.427777777777779: 9, 5.572222222222223: 9, 24.044444444444444: 9, -4.266666666666667: 9, 1.311111111111111: 9, 17.394444444444446: 9, 28.15555555555556: 9, -3.3000000000000007: 9, 1.4722222222222214: 9, 16.755555555555553: 9, 15.305555555555555: 9, 11.894444444444442: 9, 13.877777777777776: 9, -12.988888888888887: 9, -3.561111111111111: 9, 3.1722222222222225: 9, 20.18888888888889: 9, -3.305555555555556: 9, 12.588888888888889: 9, 7.005555555555556: 9, -0.8888888888888897: 9, 6.294444444444443: 9, -1.7277777777777774: 9, 2.066666666666666: 9, 1.8833333333333335: 9, 0.4500000000000013: 9, 1.7388888888888905: 9, -3.049999999999999: 9, 6.222222222222224: 9, 19.53888888888889: 9, 7.283333333333333: 9, -4.9: 9, 27.37777777777778: 9, 5.611111111111112: 9, 15.650000000000002: 9, -2.588888888888889: 9, 10.483333333333333: 9, 11.394444444444442: 9, 16.35: 9, -0.6444444444444445: 9, 5.711111111111112: 9, 26.05: 9, 27.12222222222222: 9, -2.727777777777778: 9, 16.316666666666666: 9, 0.7722222222222226: 9, 4.672222222222221: 9, 5.68888888888889: 9, 8.961111111111112: 9, 24.75555555555556: 9, 17.366666666666664: 9, 13.761111111111113: 9, -3.433333333333333: 9, 26.411111111111115: 9, -6.988888888888888: 9, 7.66111111111111: 9, -5.783333333333333: 9, 8.866666666666667: 9, 30.03333333333333: 9, -2.1000000000000005: 9, -0.7277777777777771: 9, 10.85: 9, 0.8500000000000006: 9, 7.122222222222222: 9, 4.772222222222224: 9, 26.611111111111114: 9, 2.216666666666668: 9, 20.444444444444443: 9, 11.483333333333334: 9, -2.472222222222222: 9, 27.133333333333336: 9, 12.605555555555554: 9, -5.133333333333332: 9, 1.4388888888888909: 9, -5.605555555555556: 9, -7.28888888888889: 9, 10.516666666666667: 9, -5.8500000000000005: 9, 26.672222222222224: 9, 21.37777777777778: 9, 12.92222222222222: 9, 2.7833333333333323: 9, -2.65: 9, 6.9555555555555575: 9, 0.7999999999999987: 9, -5.138888888888889: 9, 14.383333333333333: 9, 16.53333333333333: 9, 29.066666666666663: 9, 19.80555555555556: 9, 22.98333333333333: 9, -1.744444444444445: 9, 2.7888888888888905: 9, 6.577777777777779: 9, 2.705555555555554: 9, -5.4944444444444445: 9, 10.783333333333331: 9, -2.716666666666667: 9, 18.62222222222222: 9, 16.905555555555555: 9, 1.4888888888888887: 9, -3.688888888888889: 9, 14.11111111111111: 9, 24.4: 9, -3.072222222222223: 9, -3.788888888888889: 9, 3.661111111111113: 9, 27.63888888888889: 9, 7.905555555555553: 9, 27.955555555555552: 9, 9.355555555555558: 9, 2.3499999999999983: 9, 17.944444444444443: 9, 7.716666666666667: 9, -3.3500000000000005: 9, 0.0833333333333325: 9, 28.177777777777777: 9, 11.966666666666663: 9, 28.077777777777783: 9, 4.205555555555556: 9, 0.2611111111111104: 9, -3.1166666666666663: 9, 10.183333333333332: 9, -4.116666666666666: 9, 7.544444444444443: 9, 2.133333333333335: 9, -0.2999999999999995: 9, -5.405555555555556: 9, 29.61111111111111: 9, 15.75: 9, 22.794444444444444: 9, -4.644444444444444: 9, 22.53333333333333: 9, 16.605555555555554: 9, 1.4499999999999995: 9, 4.13888888888889: 9, 19.922222222222224: 9, -1.9833333333333332: 9, 8.027777777777779: 9, 29.08888888888889: 9, 17.427777777777777: 9, 2.088888888888888: 9, 5.5444444444444425: 9, 0.766666666666668: 9, -2.005555555555555: 9, 22.00555555555556: 9, 3.2944444444444443: 9, -2.027777777777777: 9, 2.294444444444446: 9, 4.661111111111111: 9, 2.588888888888887: 9, 14.033333333333331: 9, -0.9888888888888896: 8, 10.816666666666666: 8, 2.211111111111109: 8, 4.061111111111113: 8, -3.65: 8, 13.577777777777776: 8, 24.822222222222223: 8, 23.33333333333333: 8, 27.538888888888884: 8, -0.294444444444445: 8, -7.805555555555555: 8, 20.055555555555557: 8, 7.522222222222221: 8, 0.4944444444444447: 8, -0.166666666666667: 8, 24.944444444444446: 8, 25.96111111111112: 8, 10.255555555555556: 8, 1.683333333333334: 8, -0.8333333333333334: 8, 11.633333333333333: 8, 29.122222222222224: 8, -6.066666666666667: 8, 6.594444444444443: 8, -3.211111111111112: 8, 6.472222222222221: 8, -3.677777777777779: 8, -5.872222222222223: 8, -3.161111111111112: 8, -1.4722222222222214: 8, -1.8666666666666665: 8, 4.666666666666666: 8, 1.466666666666667: 8, 1.4333333333333325: 8, 6.788888888888888: 8, 10.494444444444444: 8, 19.616666666666667: 8, 3.3888888888888897: 8, -2.8999999999999995: 8, -5.855555555555555: 8, 10.77777777777778: 8, 4.388888888888888: 8, -1.15: 8, 2.816666666666667: 8, -0.7722222222222226: 8, 27.466666666666665: 8, -0.5166666666666665: 8, 18.98888888888889: 8, 29.966666666666665: 8, 2.444444444444444: 8, 0.6944444444444444: 8, 6.6166666666666645: 8, -0.6611111111111119: 8, -0.5666666666666664: 8, -1.1722222222222218: 8, 5.455555555555556: 8, 0.944444444444446: 8, 1.3722222222222216: 8, 19.03333333333333: 8, 21.877777777777776: 8, -6.583333333333334: 8, 9.422222222222224: 8, 28.52777777777778: 8, 8.883333333333335: 8, -4.305555555555555: 8, -0.6722222222222227: 8, -6.183333333333333: 8, 8.649999999999999: 8, 0.6444444444444426: 8, 25.866666666666667: 8, -0.4222222222222231: 8, 29.02777777777778: 8, 19.111111111111114: 8, -5.161111111111111: 8, 28.183333333333337: 8, -3.4388888888888896: 8, 11.638888888888893: 8, 6.738888888888891: 8, 0.8777777777777769: 8, 12.411111111111111: 8, 22.677777777777774: 8, -0.3777777777777776: 8, 26.816666666666663: 8, -5.933333333333334: 8, 10.58888888888889: 8, -2.494444444444444: 8, 22.31666666666667: 8, 16.894444444444442: 8, -7.200000000000001: 8, -1.6277777777777775: 8, 8.527777777777779: 8, 12.427777777777775: 8, -4.622222222222223: 8, 23.122222222222224: 8, 20.20555555555556: 8, 22.3: 8, 12.766666666666664: 8, -5.622222222222224: 8, 1.7666666666666666: 8, 16.961111111111112: 8, 18.36111111111111: 8, -4.0: 8, 14.36111111111111: 8, 2.3666666666666654: 8, 0.2833333333333322: 8, 1.594444444444443: 8, 9.949999999999998: 8, 8.638888888888888: 8, -2.627777777777778: 8, 6.700000000000001: 8, 11.855555555555558: 8, 15.45: 8, -2.6333333333333324: 8, -1.3888888888888888: 8, 29.03333333333333: 8, 9.933333333333334: 8, -0.827777777777777: 8, 10.744444444444447: 8, 16.83888888888889: 8, -2.08888888888889: 8, 7.566666666666666: 8, -0.7333333333333335: 8, -3.683333333333332: 8, 2.4833333333333325: 8, 16.29444444444444: 8, 15.172222222222224: 8, -8.466666666666665: 8, 17.605555555555554: 8, 29.59444444444444: 8, 6.333333333333332: 8, 8.522222222222224: 8, 17.47222222222222: 8, -6.505555555555556: 8, 11.9: 8, 8.555555555555555: 8, 20.87222222222222: 8, 7.216666666666669: 8, 25.038888888888884: 8, 0.6666666666666683: 8, 2.833333333333334: 8, 10.45: 8, -1.1166666666666676: 8, 1.405555555555556: 8, 2.566666666666665: 8, -1.6722222222222232: 8, 25.933333333333337: 8, -8.127777777777776: 8, 31.727777777777774: 8, 26.33888888888889: 8, 8.133333333333333: 8, -5.288888888888888: 8, 7.844444444444444: 8, 8.844444444444445: 8, -2.183333333333333: 8, -3.138888888888888: 8, 28.433333333333337: 8, 27.17222222222222: 8, 25.18333333333333: 8, 23.761111111111106: 8, -1.3222222222222215: 8, 17.816666666666663: 8, 4.522222222222222: 8, 13.533333333333331: 8, 4.194444444444443: 8, -3.944444444444445: 8, 21.84444444444444: 8, 15.505555555555553: 8, 6.927777777777777: 8, -5.383333333333334: 8, 24.88888888888889: 8, 4.549999999999999: 8, 4.43888888888889: 8, 12.188888888888888: 8, -4.311111111111113: 8, 21.46111111111111: 8, 6.366666666666667: 8, -8.13888888888889: 8, 18.66111111111111: 8, 16.255555555555553: 8, 7.644444444444442: 8, 1.4444444444444453: 8, 0.9111111111111114: 8, -4.944444444444444: 8, 1.0777777777777766: 8, 7.411111111111113: 8, 12.327777777777776: 8, 10.6: 8, 11.916666666666668: 8, 13.377777777777776: 8, 3.605555555555557: 8, 6.122222222222224: 8, 1.1722222222222218: 8, 11.949999999999998: 8, -0.344444444444445: 8, 10.166666666666664: 8, 11.627777777777778: 8, -5.294444444444445: 8, -0.9277777777777788: 8, 9.044444444444444: 8, -7.411111111111111: 8, 6.027777777777779: 8, 0.255555555555556: 8, 29.33888888888889: 8, 2.511111111111113: 8, 18.316666666666663: 8, -4.055555555555555: 8, 4.527777777777777: 8, 7.955555555555555: 8, -3.1833333333333336: 8, 27.48888888888889: 8, -5.511111111111112: 8, 11.344444444444443: 8, -2.7722222222222213: 8, -1.5222222222222213: 8, 24.89444444444445: 8, 8.905555555555557: 8, 0.4333333333333339: 8, 14.566666666666666: 8, -2.438888888888889: 8, -3.7777777777777777: 8, -6.227777777777778: 8, -0.4277777777777775: 8, -2.955555555555556: 8, -6.388888888888889: 8, -0.2611111111111104: 8, 29.58888888888889: 8, -0.8000000000000007: 8, 2.3555555555555565: 8, -4.6000000000000005: 8, 8.72777777777778: 8, 8.577777777777776: 8, -3.494444444444444: 8, 15.25: 8, 7.88888888888889: 8, 6.883333333333334: 8, -3.1944444444444446: 8, -5.716666666666666: 8, 29.12777777777778: 8, 3.438888888888888: 8, -4.072222222222221: 8, 29.366666666666667: 8, 16.261111111111113: 8, 26.950000000000003: 8, 2.572222222222224: 8, -10.305555555555555: 8, 27.16666666666667: 8, -2.816666666666667: 8, 6.755555555555554: 8, 6.505555555555556: 8, 13.127777777777778: 8, 16.450000000000003: 8, -5.772222222222222: 8, 27.41111111111111: 8, 6.416666666666665: 8, -4.572222222222223: 8, 8.377777777777776: 8, -1.022222222222222: 8, -5.216666666666667: 8, 6.300000000000002: 8, 12.9: 8, 27.2: 8, 8.355555555555554: 8, -3.1722222222222225: 8, 25.86111111111111: 8, -4.833333333333333: 8, 2.677777777777778: 8, -0.7666666666666662: 8, 0.1500000000000017: 8, 27.788888888888884: 8, 2.4944444444444454: 8, 0.0777777777777781: 8, 27.71111111111111: 8, 15.344444444444443: 8, -5.061111111111111: 8, 28.77777777777778: 8, 5.5777777777777775: 8, 14.022222222222224: 8, -1.5166666666666668: 8, 17.516666666666666: 8, 21.927777777777777: 8, 19.372222222222224: 8, 23.66111111111111: 8, 21.48333333333333: 8, 14.744444444444444: 8, -10.444444444444445: 8, -4.249999999999999: 8, -3.188888888888888: 8, 2.183333333333333: 8, 27.027777777777786: 8, -2.311111111111112: 8, 15.227777777777776: 8, 6.694444444444443: 8, 22.25555555555556: 8, 1.4555555555555542: 8, -3.5277777777777786: 8, 8.699999999999998: 8, 16.37222222222222: 8, 26.71111111111111: 8, 10.111111111111112: 8, 2.1388888888888897: 8, 32.388888888888886: 8, 23.62777777777778: 8, 10.833333333333334: 8, -0.0666666666666672: 8, 1.5277777777777777: 8, -2.705555555555556: 8, 10.838888888888889: 8, 14.894444444444446: 8, -7.35: 8, 4.733333333333335: 8, 10.077777777777778: 8, 26.883333333333333: 8, -2.3888888888888893: 8, 15.4: 8, 0.1611111111111106: 8, 20.78888888888889: 8, 19.12777777777778: 8, -0.2833333333333342: 8, -0.7944444444444443: 8, -2.9611111111111104: 8, -5.361111111111111: 8, 20.39444444444444: 8, 14.05: 8, 8.261111111111111: 8, 3.427777777777779: 8, 0.2388888888888887: 8, 10.894444444444444: 8, 27.3: 8, 22.83888888888889: 8, -0.4999999999999992: 8, 14.266666666666667: 8, 7.494444444444446: 8, 1.0500000000000005: 8, 27.866666666666664: 8, 11.222222222222223: 8, -1.1944444444444438: 8, -0.7888888888888899: 8, 28.28333333333333: 8, -9.066666666666666: 8, -5.5777777777777775: 8, 11.255555555555553: 8, 17.21111111111111: 8, 17.372222222222224: 8, -2.8611111111111103: 8, 1.2666666666666673: 8, -5.583333333333333: 8, -2.638888888888889: 8, 18.62777777777778: 8, -1.5777777777777775: 8, -1.6611111111111103: 8, -6.927777777777777: 8, 6.861111111111112: 8, 13.35: 8, 3.672222222222222: 8, -4.227777777777778: 8, 3.0333333333333337: 8, 13.383333333333336: 8, 29.205555555555552: 8, 1.872222222222221: 8, -4.016666666666668: 8, 3.561111111111109: 8, -3.177777777777777: 8, 21.89444444444444: 8, 3.6666666666666674: 8, 3.811111111111111: 8, -5.366666666666666: 8, -3.6666666666666674: 8, 14.711111111111109: 8, 23.966666666666665: 8, 21.43888888888889: 8, 10.227777777777776: 8, 11.211111111111112: 8, 27.05: 8, 9.955555555555556: 8, -2.4555555555555566: 8, -6.35: 8, -3.6055555555555534: 8, 1.1999999999999982: 8, 27.1: 8, -4.827777777777778: 8, 15.788888888888891: 8, 29.35: 8, -5.333333333333334: 8, 2.999999999999999: 8, 23.35555555555556: 8, 3.06111111111111: 8, 27.366666666666667: 8, 13.927777777777775: 8, -0.6388888888888881: 8, 8.311111111111112: 8, -0.1777777777777779: 8, -0.3388888888888886: 8, 6.288888888888889: 8, -3.238888888888888: 8, 1.0999999999999983: 8, 24.766666666666666: 8, 11.27222222222222: 8, 4.683333333333334: 8, 7.300000000000001: 8, 12.911111111111111: 8, 2.616666666666667: 8, 22.649999999999995: 8, 0.1111111111111126: 8, 8.694444444444445: 8, 7.388888888888887: 8, 15.483333333333333: 8, 21.27777777777778: 8, 30.75: 8, -4.722222222222222: 8, -9.161111111111111: 8, -2.6611111111111105: 8, 7.577777777777778: 8, 5.38888888888889: 8, 20.75: 8, 2.4166666666666674: 8, 4.633333333333336: 8, 13.055555555555555: 8, 6.566666666666666: 8, 30.327777777777783: 8, -3.822222222222221: 8, 21.57777777777778: 8, 30.58888888888889: 8, -11.161111111111111: 8, 29.438888888888886: 8, 12.677777777777775: 8, -3.933333333333332: 8, -1.977777777777777: 8, 3.255555555555555: 8, -6.094444444444444: 8, -2.738888888888889: 8, -0.4944444444444447: 8, 3.572222222222222: 8, 16.355555555555554: 8, 27.37222222222222: 8, 16.544444444444444: 8, 0.166666666666665: 8, 5.799999999999999: 8, -4.8388888888888895: 8, -0.1944444444444452: 8, -0.3666666666666667: 8, 26.03333333333333: 8, 1.2833333333333343: 8, 13.833333333333334: 8, -1.8333333333333337: 8, -0.9388888888888896: 8, 27.87777777777778: 8, -5.794444444444444: 8, 12.47777777777778: 8, -2.844444444444445: 8, 9.86111111111111: 8, 8.983333333333334: 8, 6.388888888888889: 8, 28.25555555555556: 8, 19.683333333333337: 8, 5.627777777777779: 8, 29.038888888888884: 8, 18.077777777777783: 8, 27.48333333333333: 8, 29.105555555555554: 8, 6.377777777777776: 8, -5.650000000000001: 8, 26.100000000000005: 8, 23.833333333333336: 8, -6.683333333333334: 8, 8.677777777777777: 8, -3.227777777777777: 7, 25.827777777777776: 7, 3.755555555555554: 7, 7.73888888888889: 7, 8.11111111111111: 7, -4.8500000000000005: 7, 12.444444444444445: 7, 28.10555555555556: 7, -5.661111111111111: 7, -4.044444444444445: 7, 22.261111111111106: 7, 10.699999999999998: 7, 5.927777777777779: 7, 28.022222222222226: 7, 20.89444444444445: 7, 28.511111111111106: 7, 16.51111111111111: 7, 14.655555555555557: 7, -2.75: 7, 23.63333333333334: 7, 26.011111111111106: 7, 23.855555555555554: 7, 27.15555555555555: 7, 10.388888888888893: 7, 9.844444444444443: 7, 16.166666666666668: 7, 14.849999999999998: 7, 3.066666666666668: 7, 11.783333333333337: 7, -7.166666666666667: 7, -0.9500000000000004: 7, 25.083333333333336: 7, 24.72222222222222: 7, -6.25: 7, 8.266666666666667: 7, -8.33888888888889: 7, -4.099999999999999: 7, 0.5999999999999991: 7, 27.22222222222222: 7, 10.466666666666669: 7, -5.266666666666668: 7, 24.75: 7, 27.64444444444445: 7, -7.122222222222222: 7, 7.966666666666669: 7, 2.8611111111111103: 7, 23.672222222222224: 7, -7.26111111111111: 7, 3.1055555555555574: 7, 18.944444444444443: 7, 29.07222222222222: 7, -9.53888888888889: 7, -5.527777777777778: 7, -0.8666666666666659: 7, 3.627777777777778: 7, 23.994444444444444: 7, -3.8: 7, 15.894444444444446: 7, 3.3722222222222222: 7, 10.705555555555556: 7, 7.133333333333336: 7, 10.216666666666669: 7, -3.672222222222222: 7, 12.883333333333333: 7, -2.1388888888888897: 7, 29.11666666666666: 7, 17.861111111111114: 7, 4.0388888888888905: 7, 15.738888888888887: 7, 22.76666666666667: 7, 19.67777777777778: 7, 27.28888888888889: 7, 26.66111111111111: 7, -1.9944444444444445: 7, -0.4444444444444448: 7, -5.544444444444445: 7, -5.894444444444444: 7, 14.877777777777778: 7, 0.5722222222222229: 7, 26.700000000000003: 7, 17.9: 7, 13.105555555555558: 7, 26.8: 7, 14.000000000000002: 7, -1.338888888888889: 7, -3.4888888888888894: 7, -0.7388888888888879: 7, 1.7555555555555538: 7, 21.216666666666665: 7, -6.972222222222222: 7, 17.83333333333333: 7, -2.4166666666666674: 7, -6.372222222222222: 7, 15.255555555555556: 7, 11.533333333333331: 7, 15.633333333333333: 7, 28.35555555555556: 7, -6.955555555555555: 7, 31.88888888888889: 7, -7.566666666666667: 7, 8.594444444444443: 7, -6.166666666666668: 7, 1.783333333333334: 7, -3.966666666666667: 7, -3.344444444444444: 7, 22.48888888888889: 7, -0.6833333333333336: 7, -4.461111111111112: 7, 7.627777777777775: 7, 15.666666666666666: 7, 7.855555555555556: 7, 14.716666666666669: 7, -0.0777777777777781: 7, 15.177777777777775: 7, 6.933333333333332: 7, 29.688888888888886: 7, 3.461111111111109: 7, -5.433333333333334: 7, 14.683333333333334: 7, 6.8277777777777775: 7, 2.933333333333334: 7, 10.866666666666667: 7, -3.994444444444445: 7, 19.238888888888887: 7, 19.08888888888889: 7, 13.3: 7, 20.561111111111117: 7, 16.62777777777778: 7, 27.649999999999995: 7, 13.716666666666663: 7, 16.67777777777778: 7, 18.188888888888886: 7, 6.822222222222223: 7, 4.183333333333334: 7, 3.2333333333333334: 7, 12.405555555555557: 7, 14.011111111111113: 7, -1.0666666666666675: 7, 24.77777777777777: 7, -2.6722222222222216: 7, 15.47777777777778: 7, -7.466666666666667: 7, 20.28333333333333: 7, 9.038888888888891: 7, 27.24444444444445: 7, -7.5166666666666675: 7, 14.633333333333336: 7, 16.27777777777778: 7, 22.52777777777778: 7, 20.84444444444444: 7, 28.366666666666667: 7, -5.95: 7, 7.722222222222222: 7, 17.91111111111111: 7, -4.7: 7, 3.405555555555557: 7, 24.7: 7, 1.9944444444444465: 7, 26.2: 7, -1.3611111111111107: 7, 16.34444444444445: 7, -2.9777777777777774: 7, 22.27777777777777: 7, 1.961111111111112: 7, 13.499999999999998: 7, 17.58888888888889: 7, 3.944444444444445: 7, 20.72222222222222: 7, 25.977777777777774: 7, 15.32222222222222: 7, 4.361111111111112: 7, 29.35555555555556: 7, 6.988888888888888: 7, -7.144444444444444: 7, -5.961111111111112: 7, 13.11111111111111: 7, 23.805555555555557: 7, 27.31111111111111: 7, 14.827777777777776: 7, 9.02777777777778: 7, 29.422222222222217: 7, 32.01111111111111: 7, 25.777777777777786: 7, -7.550000000000001: 7, 23.65555555555555: 7, 0.3277777777777796: 7, -1.3055555555555562: 7, 6.93888888888889: 7, 18.950000000000003: 7, -2.4833333333333325: 7, -3.588888888888889: 7, 8.499999999999998: 7, -3.577777777777778: 7, 18.54444444444444: 7, -9.761111111111113: 7, 11.511111111111113: 7, 30.149999999999995: 7, -4.194444444444445: 7, 27.38333333333334: 7, 26.072222222222223: 7, 8.283333333333331: 7, 21.31666666666667: 7, 29.62222222222222: 7, 26.944444444444443: 7, -0.4111111111111102: 7, -1.3555555555555563: 7, 18.64444444444445: 7, 30.05555555555556: 7, 5.411111111111112: 7, 0.7500000000000008: 7, -5.127777777777778: 7, -5.572222222222223: 7, 11.827777777777776: 7, 24.038888888888884: 7, 20.294444444444444: 7, 24.07777777777778: 7, 22.5: 7, -3.922222222222222: 7, -4.566666666666666: 7, 6.405555555555556: 7, 1.8666666666666665: 7, -4.638888888888889: 7, 20.83888888888889: 7, 27.227777777777774: 7, 16.57222222222222: 7, 29.14444444444444: 7, 16.783333333333335: 7, 8.566666666666668: 7, 30.038888888888884: 7, 20.766666666666666: 7, 7.077777777777779: 7, -6.216666666666667: 7, 15.061111111111112: 7, 29.47222222222222: 7, 1.316666666666665: 7, 16.866666666666667: 7, 0.3500000000000014: 7, 22.855555555555554: 7, 13.738888888888887: 7, 21.3: 7, 4.133333333333332: 7, -4.694444444444445: 7, 2.9111111111111123: 7, 29.561111111111103: 7, 29.6: 7, 2.333333333333335: 7, 4.744444444444444: 7, -4.183333333333334: 7, 29.327777777777783: 7, 7.9944444444444445: 7, -4.144444444444445: 7, -3.7: 7, 14.47777777777778: 7, 18.56666666666667: 7, 9.022222222222224: 7, 1.338888888888887: 7, 7.794444444444445: 7, 16.86111111111111: 7, -4.522222222222222: 7, -1.2611111111111108: 7, 14.455555555555556: 7, 13.25: 7, 29.15: 7, 10.233333333333334: 7, 16.583333333333332: 7, -1.1777777777777785: 7, 5.316666666666666: 7, 11.466666666666669: 7, -8.333333333333334: 7, -0.6166666666666664: 7, 18.594444444444445: 7, 13.0: 7, 28.216666666666672: 7, 17.305555555555557: 7, -1.505555555555556: 7, 21.33888888888889: 7, 17.477777777777778: 7, 21.961111111111112: 7, 8.016666666666667: 7, 19.522222222222226: 7, 22.366666666666667: 7, 14.122222222222224: 7, 23.811111111111117: 7, 18.05555555555556: 7, 11.372222222222222: 7, -4.777777777777779: 7, 21.22222222222222: 7, -5.033333333333333: 7, 13.083333333333332: 7, 13.050000000000002: 7, 17.45: 7, 3.1666666666666683: 7, -4.238888888888888: 7, 15.133333333333336: 7, 13.016666666666667: 7, 20.11111111111111: 7, -4.577777777777777: 7, 12.422222222222222: 7, 26.53333333333333: 7, 17.583333333333332: 7, 15.5: 7, 17.983333333333334: 7, 10.916666666666666: 7, -2.966666666666667: 7, 28.53333333333333: 7, 0.8722222222222223: 7, 6.800000000000001: 7, 15.355555555555554: 7, 8.383333333333335: 7, -3.766666666666668: 7, 14.66111111111111: 7, 18.08888888888889: 7, -4.516666666666666: 7, -0.6111111111111119: 7, 18.68333333333333: 7, 6.283333333333335: 7, 8.011111111111113: 7, 0.7111111111111117: 7, 19.21666666666667: 7, 31.194444444444443: 7, 22.47777777777777: 7, 11.961111111111112: 7, -1.988888888888888: 7, 8.461111111111109: 7, -2.144444444444444: 7, 13.144444444444442: 7, 22.30555555555556: 7, 18.61111111111111: 7, 18.55555555555556: 7, 26.9: 7, -4.400000000000001: 7, 23.466666666666665: 7, 17.349999999999998: 7, 14.07777777777778: 7, 27.272222222222226: 7, -1.9333333333333336: 7, -0.816666666666666: 7, -0.8111111111111116: 7, -3.316666666666666: 7, 7.416666666666667: 7, 22.011111111111116: 7, 7.811111111111113: 7, 28.79444444444444: 7, -8.805555555555555: 7, -2.411111111111111: 7, 6.722222222222223: 7, -5.177777777777778: 7, 20.822222222222223: 7, 11.944444444444445: 7, -5.561111111111113: 7, -0.7500000000000008: 7, 3.111111111111112: 7, 10.033333333333337: 7, 0.56111111111111: 7, 23.922222222222224: 7, 27.61666666666666: 7, 0.4666666666666685: 7, 22.788888888888884: 7, -0.2166666666666669: 7, 24.70555555555556: 7, 27.89444444444444: 7, 8.361111111111109: 7, 7.33888888888889: 7, -6.716666666666667: 7, 28.188888888888886: 7, 31.605555555555554: 7, 10.2: 7, 2.5: 7, 19.21111111111111: 7, -0.7111111111111117: 7, 27.84444444444445: 7, -3.1222222222222227: 7, 14.533333333333331: 7, -2.461111111111111: 7, 7.511111111111114: 7, -3.250000000000001: 7, -3.011111111111112: 7, 18.033333333333328: 7, 0.0666666666666652: 7, 28.56666666666667: 7, 8.538888888888888: 7, 3.966666666666667: 7, 12.92777777777778: 7, 3.055555555555556: 7, -3.3888888888888897: 7, 3.127777777777779: 7, 24.61111111111111: 7, 7.838888888888889: 7, 3.1611111111111097: 7, 5.155555555555556: 7, 16.81666666666667: 7, 23.244444444444447: 7, 14.255555555555553: 7, 0.8277777777777788: 7, 14.405555555555557: 7, 31.17777777777778: 7, 11.93888888888889: 7, 22.09444444444444: 7, 16.238888888888887: 7, 21.03333333333333: 7, -7.355555555555554: 7, 11.300000000000002: 7, 1.93888888888889: 7, 12.583333333333334: 7, 12.07222222222222: 7, -3.8333333333333326: 7, 7.03888888888889: 7, 6.866666666666666: 7, 19.05555555555556: 7, 1.9222222222222227: 7, 29.97777777777777: 7, 14.805555555555555: 7, 6.488888888888889: 7, 23.62222222222222: 7, 27.772222222222226: 7, -5.644444444444444: 7, 17.72222222222222: 7, 12.955555555555556: 7, 21.48888888888889: 7, 19.61111111111111: 7, -3.0388888888888883: 7, 15.405555555555551: 7, -6.161111111111111: 7, 22.555555555555557: 7, 15.916666666666666: 7, 28.000000000000004: 7, -6.127777777777778: 7, -4.561111111111112: 7, 13.16111111111111: 7, 5.055555555555556: 7, -6.666666666666667: 7, 0.6611111111111099: 7, -2.488888888888889: 7, 28.133333333333333: 7, 4.61111111111111: 7, 28.16111111111111: 7, 22.322222222222223: 7, 4.461111111111112: 7, -7.266666666666666: 7, 14.733333333333336: 7, 15.550000000000002: 7, 5.233333333333334: 7, -3.811111111111111: 7, 26.955555555555552: 7, -1.6499999999999997: 7, 1.977777777777779: 7, 8.472222222222221: 7, -7.455555555555557: 7, 20.777777777777786: 7, 3.4111111111111114: 7, -1.9555555555555555: 7, 12.305555555555555: 7, 7.011111111111109: 7, -4.122222222222224: 7, -3.9: 7, -2.838888888888889: 7, 2.7: 7, 27.40555555555555: 7, 27.90555555555556: 7, 28.3: 7, -1.4555555555555562: 7, 26.0: 7, 8.02222222222222: 7, 24.966666666666665: 7, 11.338888888888889: 7, 3.494444444444444: 7, -1.6999999999999993: 7, 18.47222222222222: 7, 11.288888888888888: 7, 14.394444444444442: 7, 17.977777777777778: 7, -11.81111111111111: 7, 0.8999999999999986: 7, 27.344444444444445: 7, 19.53333333333333: 7, 18.377777777777776: 7, -4.883333333333333: 7, -3.061111111111112: 7, 16.71111111111111: 7, 1.3333333333333326: 7, 2.555555555555556: 7, -4.772222222222222: 7, -8.166666666666666: 7, 20.12222222222222: 7, 21.71666666666667: 7, 27.30555555555556: 7, 12.472222222222223: 7, -2.0500000000000007: 7, 15.616666666666667: 7, 12.577777777777778: 7, 12.494444444444447: 7, 26.02777777777777: 7, 19.96111111111112: 7, 11.833333333333332: 7, 11.588888888888889: 7, 19.33333333333333: 7, 24.21666666666667: 7, -7.305555555555555: 7, -3.566666666666668: 7, 25.944444444444443: 7, -4.01111111111111: 7, 8.42222222222222: 7, 26.022222222222226: 7, 2.1000000000000005: 7, 4.33888888888889: 7, -0.2388888888888887: 7, 11.216666666666663: 7, 28.83333333333333: 7, -4.98888888888889: 7, 0.2777777777777778: 7, 6.716666666666669: 7, 11.905555555555557: 7, 28.316666666666663: 7, 19.511111111111116: 7, 8.238888888888887: 7, 20.166666666666668: 7, -0.4611111111111101: 7, -3.805555555555556: 7, 22.47222222222222: 7, -0.5388888888888883: 7, -5.316666666666666: 7, 17.522222222222222: 7, 27.52777777777778: 7, 19.71111111111112: 7, 5.833333333333333: 7, 14.233333333333333: 7, 1.2722222222222217: 7, -6.027777777777779: 7, 18.227777777777774: 7, -5.9833333333333325: 7, 15.694444444444445: 7, 0.3666666666666647: 7, 24.827777777777776: 7, 13.172222222222224: 7, 6.305555555555556: 7, -5.338888888888889: 7, -0.3499999999999994: 7, 32.75: 7, -3.622222222222222: 7, 6.344444444444445: 7, 27.577777777777776: 7, -3.6000000000000005: 7, 24.855555555555554: 6, -1.3833333333333324: 6, -6.205555555555557: 6, 19.5: 6, 23.87222222222222: 6, -3.1444444444444444: 6, -10.072222222222225: 6, -7.899999999999999: 6, 19.688888888888886: 6, 3.522222222222224: 6, 21.47777777777777: 6, -7.422222222222222: 6, 6.455555555555554: 6, 13.294444444444444: 6, -7.005555555555556: 6, 18.061111111111117: 6, 23.56666666666667: 6, 0.8666666666666679: 6, 14.15: 6, -5.955555555555555: 6, -2.511111111111111: 6, 20.37777777777778: 6, 27.76111111111111: 6, 11.355555555555554: 6, 10.961111111111109: 6, 30.688888888888886: 6, 31.622222222222224: 6, 0.3999999999999993: 6, 16.122222222222224: 6, 27.933333333333334: 6, 9.566666666666666: 6, 22.28333333333333: 6, -2.061111111111112: 6, 16.427777777777777: 6, -7.811111111111111: 6, 8.116666666666667: 6, 21.938888888888886: 6, -7.627777777777778: 6, 26.12222222222222: 6, -7.433333333333333: 6, 22.811111111111117: 6, 29.67777777777778: 6, -5.594444444444445: 6, 27.78333333333333: 6, 13.06666666666667: 6, -2.394444444444444: 6, -8.022222222222222: 6, 23.127777777777776: 6, 8.06666666666667: 6, -2.422222222222222: 6, 19.122222222222224: 6, 31.54444444444444: 6, 14.727777777777776: 6, 20.22777777777777: 6, 27.927777777777774: 6, -3.555555555555555: 6, -3.2333333333333334: 6, 29.41111111111111: 6, 27.338888888888885: 6, 11.883333333333333: 6, 4.561111111111112: 6, -3.505555555555554: 6, 22.13888888888889: 6, 29.16111111111111: 6, 18.5: 6, 17.927777777777774: 6, 21.333333333333336: 6, -3.694444444444444: 6, 19.60555555555556: 6, -7.227777777777779: 6, 31.59444444444445: 6, 27.77777777777778: 6, 12.511111111111113: 6, 18.200000000000003: 6, -7.077777777777777: 6, 4.716666666666668: 6, 24.73888888888889: 6, 20.744444444444447: 6, 18.672222222222224: 6, -5.144444444444446: 6, -8.872222222222222: 6, 19.78333333333333: 6, 26.48888888888889: 6, 12.95: 6, 5.594444444444445: 6, 13.672222222222222: 6, -7.483333333333332: 6, 11.72222222222222: 6, 4.616666666666668: 6, 9.055555555555554: 6, 19.47222222222222: 6, 16.79444444444444: 6, 28.61111111111111: 6, 22.96666666666667: 6, 15.783333333333331: 6, -8.216666666666665: 6, -5.672222222222223: 6, 18.005555555555553: 6, 27.022222222222226: 6, 12.538888888888888: 6, -8.627777777777778: 6, 0.8944444444444442: 6, 14.766666666666664: 6, 15.27777777777778: 6, 4.533333333333331: 6, 28.39444444444445: 6, -6.9944444444444445: 6, 9.81111111111111: 6, 24.727777777777774: 6, 14.427777777777775: 6, 22.716666666666665: 6, -0.1555555555555562: 6, 8.272222222222222: 6, 31.46111111111111: 6, 14.105555555555556: 6, 15.544444444444444: 6, 10.872222222222222: 6, 2.550000000000002: 6, 8.488888888888889: 6, -2.361111111111111: 6, 28.71111111111112: 6, 10.47222222222222: 6, 22.694444444444443: 6, 32.416666666666664: 6, -9.47222222222222: 6, 30.727777777777774: 6, 10.455555555555556: 6, 16.283333333333335: 6, 22.955555555555552: 6, 26.51666666666667: 6, 29.166666666666668: 6, 27.944444444444443: 6, 8.988888888888889: 6, 3.355555555555555: 6, 13.283333333333331: 6, 27.744444444444444: 6, -5.116666666666667: 6, 1.188888888888889: 6, 29.96111111111112: 6, -5.394444444444445: 6, 16.483333333333334: 6, 21.405555555555555: 6, 28.038888888888888: 6, 21.822222222222223: 6, 27.10555555555556: 6, -5.888888888888889: 6, 21.14444444444445: 6, 28.84444444444445: 6, -2.4666666666666672: 6, 14.183333333333334: 6, 19.70555555555556: 6, 20.85: 6, 7.983333333333332: 6, 2.944444444444443: 6, 5.9611111111111095: 6, 1.2555555555555544: 6, -0.9833333333333332: 6, 28.066666666666663: 6, -6.300000000000001: 6, 16.88888888888889: 6, -3.627777777777778: 6, -6.177777777777779: 6, 23.05555555555556: 6, 16.77777777777778: 6, -7.988888888888888: 6, 4.605555555555555: 6, 0.1722222222222235: 6, 20.794444444444448: 6, 27.83333333333333: 6, 18.994444444444444: 6, -5.044444444444443: 6, 7.488888888888886: 6, 0.7277777777777791: 6, -6.8277777777777775: 6, 27.47777777777777: 6, 10.150000000000002: 6, 30.73333333333333: 6, 15.416666666666666: 6, 19.27777777777778: 6, -3.105555555555556: 6, 21.45555555555556: 6, -9.877777777777778: 6, 12.488888888888887: 6, 20.73333333333333: 6, -4.916666666666668: 6, 1.477777777777776: 6, -6.155555555555555: 6, 1.7888888888888883: 6, 3.694444444444444: 6, 8.572222222222223: 6, 1.2944444444444434: 6, 12.483333333333333: 6, 5.444444444444443: 6, 1.4166666666666652: 6, 30.12777777777778: 6, 10.677777777777775: 6, 27.16111111111111: 6, 27.127777777777776: 6, -8.405555555555555: 6, -6.005555555555556: 6, -1.9166666666666663: 6, 3.65: 6, 13.255555555555556: 6, 15.283333333333331: 6, 20.65555555555556: 6, 15.377777777777778: 6, -1.222222222222222: 6, 10.311111111111112: 6, 26.077777777777776: 6, 3.505555555555557: 6, 0.3111111111111124: 6, -3.1555555555555554: 6, -6.561111111111111: 6, -5.022222222222222: 6, -5.861111111111111: 6, 27.23888888888889: 6, 17.02777777777778: 6, 9.07777777777778: 6, 22.50555555555556: 6, 28.82222222222222: 6, -4.822222222222222: 6, 10.42222222222222: 6, -5.833333333333333: 6, 14.294444444444444: 6, 13.694444444444445: 6, 2.061111111111112: 6, 0.2999999999999995: 6, -6.905555555555555: 6, -7.788888888888888: 6, -4.483333333333333: 6, -6.900000000000001: 6, 11.616666666666664: 6, 25.272222222222226: 6, 8.800000000000002: 6, 15.761111111111113: 6, -5.877777777777776: 6, 19.561111111111103: 6, 27.03333333333333: 6, 27.73333333333333: 6, 16.461111111111112: 6, 13.55: 6, 15.11111111111111: 6, 15.838888888888889: 6, -0.3555555555555558: 6, 6.166666666666668: 6, 10.261111111111113: 6, 23.133333333333333: 6, -5.172222222222222: 6, 28.377777777777776: 6, 11.683333333333334: 6, 4.622222222222223: 6, -6.283333333333333: 6, 17.483333333333334: 6, 28.649999999999995: 6, 18.10555555555556: 6, 16.700000000000003: 6, -0.5888888888888881: 6, 28.627777777777776: 6, 7.750000000000002: 6, 23.22222222222222: 6, 20.26111111111111: 6, 1.3555555555555543: 6, -0.1888888888888888: 6, -0.1444444444444453: 6, -4.16111111111111: 6, 20.38888888888889: 6, -2.538888888888889: 6, 7.911111111111113: 6, 21.188888888888886: 6, 28.30555555555556: 6, 15.86111111111111: 6, -7.655555555555556: 6, 8.0: 6, 16.3: 6, -7.683333333333333: 6, 16.333333333333332: 6, 16.833333333333332: 6, -3.266666666666666: 6, 7.466666666666665: 6, 0.9333333333333332: 6, -0.7000000000000008: 6, 20.616666666666667: 6, 11.983333333333333: 6, -6.861111111111112: 6, 13.95: 6, 6.783333333333334: 6, -4.938888888888889: 6, 26.450000000000003: 6, 28.75: 6, 16.883333333333333: 6, 23.061111111111117: 6, 20.538888888888888: 6, 14.5: 6, -6.338888888888889: 6, 28.1: 6, -6.938888888888887: 6, 11.794444444444444: 6, 23.588888888888885: 6, 18.42777777777778: 6, -7.872222222222224: 6, -4.349999999999999: 6, -2.111111111111112: 6, 2.6500000000000017: 6, -1.2388888888888892: 6, 27.811111111111117: 6, -5.533333333333334: 6, 6.077777777777777: 6, 8.477777777777776: 6, 20.061111111111117: 6, 0.68888888888889: 6, 18.45555555555556: 6, 22.355555555555554: 6, 27.327777777777776: 6, -7.044444444444444: 6, -4.961111111111111: 6, 29.3: 6, 24.683333333333337: 6, 11.477777777777776: 6, 36.00555555555556: 6, 28.850000000000005: 6, 18.172222222222217: 6, -8.488888888888889: 6, -7.322222222222223: 6, 8.672222222222222: 6, 28.194444444444443: 6, -10.272222222222224: 6, 3.7055555555555566: 6, 8.744444444444447: 6, 24.899999999999995: 6, 14.694444444444445: 6, 21.57222222222222: 6, 10.538888888888888: 6, 1.3611111111111127: 6, -2.35: 6, 23.694444444444446: 6, -6.344444444444445: 6, 14.605555555555554: 6, 21.59444444444445: 6, 27.399999999999995: 6, 25.161111111111115: 6, 28.45: 6, -8.983333333333334: 6, -3.783333333333333: 6, -9.705555555555556: 6, 9.911111111111111: 6, 7.927777777777781: 6, 7.461111111111112: 6, 1.2388888888888872: 6, 27.36111111111111: 6, 3.2833333333333314: 6, -11.127777777777778: 6, -5.599999999999999: 6, 30.666666666666668: 6, 20.80555555555556: 6, 22.88888888888889: 6, 20.14444444444445: 6, 20.472222222222214: 6, 24.98888888888889: 6, 31.166666666666668: 6, 28.872222222222224: 6, 6.905555555555555: 6, 7.5: 6, 28.577777777777776: 6, 13.32777777777778: 6, 10.372222222222224: 6, -7.716666666666667: 6, 18.4: 6, 6.9722222222222205: 6, 19.72222222222222: 6, 26.827777777777783: 6, -3.055555555555556: 6, -6.705555555555556: 6, 30.25555555555555: 6, 29.416666666666668: 6, -4.472222222222222: 6, 23.70555555555556: 6, 31.350000000000005: 6, 9.822222222222225: 6, 8.61111111111111: 6, 6.35: 6, 7.694444444444445: 6, 9.905555555555557: 6, -5.311111111111111: 6, 1.772222222222221: 6, 24.65: 6, 26.694444444444443: 6, 16.766666666666666: 6, 27.29444444444444: 6, 2.1222222222222222: 6, 15.42222222222222: 6, 23.899999999999995: 6, 22.605555555555554: 6, -0.7611111111111116: 6, 31.772222222222226: 6, 26.116666666666667: 6, 20.18333333333333: 6, 23.54444444444444: 6, -6.544444444444445: 6, 8.144444444444442: 6, -1.7777777777777777: 6, 22.23333333333333: 6, 28.55: 6, -1.877777777777777: 6, 17.538888888888888: 6, 7.055555555555557: 6, 6.261111111111113: 6, 11.522222222222224: 6, 11.422222222222224: 6, 7.555555555555555: 6, 23.64444444444445: 6, -0.2444444444444451: 6, 26.738888888888887: 6, 8.777777777777777: 6, 29.48333333333333: 6, 27.75555555555555: 6, 11.361111111111112: 6, 0.1944444444444452: 6, 25.85: 6, 27.09444444444444: 6, 12.02777777777778: 6, -5.349999999999999: 6, -2.677777777777778: 6, -3.594444444444444: 6, 8.944444444444445: 6, 27.45555555555556: 6, -5.005555555555556: 6, 9.261111111111113: 6, 22.933333333333334: 6, 20.105555555555554: 6, 21.29444444444444: 6, 29.66111111111111: 6, 9.05: 6, 16.81111111111111: 6, -6.1000000000000005: 6, 7.349999999999998: 6, 19.416666666666668: 6, 20.30555555555556: 6, 24.255555555555556: 6, 24.022222222222226: 6, 24.916666666666664: 6, 8.350000000000001: 6, -5.233333333333334: 6, 0.4222222222222211: 6, -5.905555555555555: 6, 28.227777777777774: 6, 6.7944444444444425: 6, -7.344444444444444: 6, -7.105555555555555: 6, 20.21111111111111: 6, -3.077777777777777: 6, 7.377777777777778: 6, 9.194444444444445: 6, -6.538888888888888: 6, 11.788888888888888: 6, -1.0111111111111113: 6, 10.633333333333333: 6, 7.933333333333334: 6, -8.094444444444443: 6, -5.4: 6, 29.40555555555556: 6, -9.444444444444445: 6, 25.761111111111116: 6, 20.666666666666668: 6, 26.927777777777777: 6, -7.638888888888889: 6, 20.58333333333333: 6, 8.633333333333333: 6, 12.366666666666664: 6, 0.8333333333333334: 6, -1.8277777777777773: 6, -5.088888888888889: 6, -2.45: 6, 11.594444444444443: 6, 31.71111111111111: 6, 27.716666666666665: 6, -6.105555555555554: 6, 8.783333333333335: 6, 29.294444444444448: 6, -7.03888888888889: 6, 10.68888888888889: 6, -9.555555555555555: 6, -6.572222222222221: 6, 16.405555555555555: 6, 27.82222222222222: 6, 0.4888888888888903: 6, 11.35: 6, -5.538888888888888: 6, 25.155555555555555: 6, -0.7555555555555552: 6, -5.444444444444445: 6, -7.172222222222222: 6, 8.15: 6, 8.344444444444447: 6, -4.75: 6, 13.166666666666668: 6, 21.36666666666666: 6, 21.922222222222217: 6, 16.75: 6, -5.755555555555556: 6, 16.38888888888889: 6, 10.761111111111113: 6, 10.411111111111111: 6, 7.433333333333334: 6, 10.68333333333333: 6, 21.53333333333333: 6, 24.01111111111111: 6, 24.67222222222222: 6, 21.85555555555556: 6, 16.36111111111111: 6, 22.027777777777786: 6, 27.73888888888889: 6, -8.47777777777778: 6, 15.122222222222222: 6, 12.96111111111111: 6, -6.555555555555555: 6, 29.25555555555555: 6, -11.805555555555555: 6, -4.688888888888889: 6, 29.772222222222226: 6, 0.2666666666666649: 6, 28.855555555555554: 6, 10.18888888888889: 6, 20.866666666666667: 6, 27.96666666666667: 6, 23.68333333333333: 6, 12.233333333333336: 6, 8.394444444444444: 6, -9.166666666666666: 6, 14.43888888888889: 6, 9.961111111111112: 6, 15.383333333333333: 6, 27.62222222222222: 6, 17.4: 6, -4.877777777777778: 6, -4.716666666666665: 6, -4.633333333333334: 6, 18.694444444444446: 6, -2.338888888888889: 6, -3.405555555555555: 6, 18.09444444444444: 6, 7.883333333333332: 6, 21.288888888888884: 6, 30.8: 6, 20.272222222222226: 6, -2.1222222222222222: 6, 23.111111111111107: 6, -5.238888888888889: 6, 23.200000000000003: 6, 3.633333333333333: 6, 9.333333333333332: 6, -8.816666666666668: 6, 27.50555555555556: 6, 28.072222222222223: 6, 21.350000000000005: 6, 15.244444444444444: 6, 18.01666666666667: 5, 20.03333333333333: 5, 19.727777777777774: 5, 29.822222222222223: 5, -8.277777777777779: 5, 2.716666666666667: 5, -5.066666666666667: 5, 18.044444444444448: 5, 19.544444444444448: 5, 13.155555555555557: 5, 8.966666666666667: 5, -6.355555555555556: 5, 33.46111111111112: 5, 11.305555555555555: 5, -7.016666666666666: 5, 22.922222222222224: 5, -7.866666666666666: 5, 27.355555555555554: 5, -8.933333333333332: 5, 22.37777777777778: 5, 10.505555555555553: 5, -1.4944444444444451: 5, 10.75: 5, -0.4666666666666665: 5, -4.338888888888889: 5, 21.700000000000003: 5, 32.72222222222222: 5, 13.572222222222225: 5, -5.3: 5, 14.188888888888888: 5, -8.86111111111111: 5, 27.600000000000005: 5, 25.91111111111111: 5, 21.85: 5, 20.48333333333333: 5, 19.227777777777774: 5, -3.2444444444444445: 5, 25.60555555555556: 5, 9.005555555555556: 5, 19.105555555555554: 5, 29.30555555555556: 5, 18.716666666666665: 5, 26.761111111111116: 5, 19.66111111111111: 5, -1.4999999999999996: 5, 7.972222222222222: 5, 23.177777777777777: 5, 29.177777777777774: 5, -2.983333333333334: 5, 23.55: 5, -7.538888888888888: 5, -4.500000000000001: 5, 28.38888888888889: 5, 31.100000000000005: 5, -7.727777777777778: 5, -6.272222222222222: 5, 19.516666666666666: 5, -7.705555555555557: 5, -5.938888888888889: 5, 22.350000000000005: 5, 0.5166666666666665: 5, -10.52222222222222: 5, 18.23333333333333: 5, 13.338888888888889: 5, 22.39444444444445: 5, 23.73888888888889: 5, -2.0444444444444443: 5, 11.172222222222222: 5, 16.516666666666666: 5, -6.527777777777778: 5, 22.583333333333336: 5, -8.600000000000001: 5, 14.33888888888889: 5, 28.116666666666667: 5, 26.36111111111111: 5, 3.305555555555557: 5, -6.5: 5, 28.14444444444444: 5, 23.49444444444445: 5, -6.422222222222222: 5, 9.305555555555555: 5, 10.794444444444444: 5, -5.1944444444444455: 5, 27.57222222222222: 5, -9.02777777777778: 5, 32.9388888888889: 5, 14.6: 5, 7.166666666666667: 5, 14.288888888888888: 5, 21.416666666666668: 5, 13.27777777777778: 5, 21.872222222222224: 5, -9.238888888888887: 5, 9.283333333333337: 5, 15.655555555555557: 5, 28.522222222222226: 5, 13.461111111111109: 5, 29.011111111111116: 5, 32.25: 5, -4.616666666666666: 5, 29.377777777777776: 5, -6.844444444444445: 5, -12.22222222222222: 5, 29.261111111111116: 5, 13.455555555555556: 5, 27.655555555555555: 5, 30.61111111111111: 5, 30.02777777777778: 5, 28.55555555555556: 5, 20.216666666666665: 5, 30.794444444444448: 5, 28.322222222222223: 5, 21.077777777777776: 5, 15.266666666666664: 5, 18.56111111111111: 5, 19.7: 5, 19.311111111111117: 5, 29.34444444444444: 5, 3.3500000000000005: 5, 27.633333333333333: 5, 1.0555555555555547: 5, -6.738888888888888: 5, 18.511111111111106: 5, -7.383333333333332: 5, 27.08888888888889: 5, 13.58888888888889: 5, 27.666666666666668: 5, 13.444444444444446: 5, 32.11666666666667: 5, -10.06111111111111: 5, 20.938888888888886: 5, -7.5: 5, 27.13888888888889: 5, 25.46666666666667: 5, 11.238888888888887: 5, 10.194444444444445: 5, -2.1888888888888896: 5, 9.611111111111107: 5, -6.916666666666667: 5, 21.12222222222222: 5, -4.683333333333334: 5, 16.91111111111111: 5, 8.444444444444446: 5, 28.33333333333333: 5, -6.883333333333334: 5, 16.416666666666668: 5, 26.272222222222226: 5, 13.42222222222222: 5, 26.57777777777778: 5, 9.994444444444447: 5, -8.066666666666666: 5, -4.755555555555556: 5, 19.494444444444447: 5, 31.23888888888889: 5, 20.761111111111116: 5, 16.22222222222222: 5, 20.622222222222224: 5, 9.983333333333333: 5, -8.344444444444443: 5, 19.15: 5, 18.45: 5, 26.605555555555554: 5, 7.638888888888889: 5, 30.738888888888887: 5, 8.127777777777778: 5, -5.283333333333335: 5, -7.133333333333334: 5, 11.405555555555557: 5, 31.66111111111111: 5, -10.416666666666666: 5, 13.644444444444446: 5, 16.33888888888889: 5, 19.566666666666663: 5, 9.000000000000002: 5, 14.083333333333334: 5, 11.91111111111111: 5, 31.61666666666666: 5, 21.272222222222226: 5, 0.2111111111111125: 5, 14.133333333333333: 5, 0.6111111111111119: 5, 2.577777777777778: 5, -3.366666666666666: 5, 31.077777777777776: 5, 22.561111111111117: 5, 15.2: 5, 18.37222222222222: 5, -9.0: 5, 26.91111111111111: 5, 18.35: 5, 29.0: 5, 28.261111111111116: 5, 3.699999999999998: 5, -4.783333333333333: 5, 13.133333333333333: 5, 20.222222222222225: 5, -7.7666666666666675: 5, 16.400000000000002: 5, 17.494444444444447: 5, -2.344444444444444: 5, 12.416666666666666: 5, 17.166666666666668: 5, 10.238888888888887: 5, 23.972222222222225: 5, 19.66666666666667: 5, 21.83333333333333: 5, 22.9: 5, -7.283333333333333: 5, 19.716666666666665: 5, 18.516666666666666: 5, -8.255555555555555: 5, 17.438888888888886: 5, 21.166666666666664: 5, 13.42777777777778: 5, 16.561111111111114: 5, -5.83888888888889: 5, -5.372222222222224: 5, -18.366666666666667: 5, 16.48888888888889: 5, -6.777777777777778: 5, -5.272222222222221: 5, -8.305555555555555: 5, 30.40555555555556: 5, -3.755555555555557: 5, 26.00555555555556: 5, -3.5166666666666657: 5, -5.377777777777777: 5, 17.54444444444444: 5, 28.75555555555556: 5, -12.77777777777778: 5, 29.15555555555556: 5, 27.516666666666666: 5, 8.805555555555555: 5, 8.294444444444444: 5, 21.883333333333333: 5, 31.63888888888889: 5, 28.37222222222222: 5, 0.9388888888888876: 5, 8.255555555555555: 5, -5.761111111111112: 5, -7.849999999999999: 5, -13.88888888888889: 5, 32.23888888888889: 5, 28.661111111111115: 5, 19.572222222222223: 5, 6.922222222222223: 5, 30.63888888888889: 5, 19.55: 5, 13.361111111111107: 5, -1.9722222222222223: 5, 16.422222222222224: 5, 28.294444444444448: 5, 27.5: 5, 8.994444444444444: 5, 0.8055555555555571: 5, 19.288888888888888: 5, 24.66111111111111: 5, 13.616666666666664: 5, 27.677777777777774: 5, -5.766666666666666: 5, -7.2555555555555555: 5, -6.294444444444443: 5, -5.866666666666666: 5, 14.688888888888888: 5, 28.72222222222222: 5, 1.5666666666666669: 5, 22.988888888888887: 5, 20.827777777777776: 5, 29.666666666666668: 5, 28.81666666666667: 5, -8.272222222222222: 5, 16.87777777777778: 5, 8.738888888888887: 5, 32.81666666666666: 5, -1.938888888888888: 5, 22.183333333333337: 5, 27.522222222222226: 5, 26.34444444444445: 5, 4.722222222222222: 5, 13.22777777777778: 5, -4.405555555555555: 5, 12.43888888888889: 5, 11.955555555555556: 5, -4.872222222222222: 5, 8.855555555555554: 5, 15.316666666666666: 5, -3.466666666666666: 5, 22.83333333333333: 5, 15.150000000000002: 5, 14.644444444444446: 5, 31.20555555555556: 5, 28.98333333333333: 5, 13.272222222222222: 5, 26.83888888888889: 5, 21.383333333333333: 5, 3.5999999999999983: 5, 8.877777777777775: 5, 10.5: 5, -4.383333333333334: 5, 0.7166666666666662: 5, 32.849999999999994: 5, 15.68888888888889: 5, 13.072222222222225: 5, 32.12777777777777: 5, -11.733333333333333: 5, -4.58888888888889: 5, 19.48333333333333: 5, -8.877777777777778: 5, -2.283333333333333: 5, 14.038888888888891: 5, -2.372222222222222: 5, -8.422222222222222: 5, 25.03333333333333: 5, -13.444444444444445: 5, 27.17777777777778: 5, -4.438888888888887: 5, 13.06111111111111: 5, -5.199999999999999: 5, 19.73333333333333: 5, 21.6: 5, 30.75555555555556: 5, 10.344444444444443: 5, 8.277777777777779: 5, -16.58888888888889: 5, 21.605555555555554: 5, -3.027777777777777: 5, 20.683333333333337: 5, 15.272222222222224: 5, -7.572222222222221: 5, -4.611111111111111: 5, 22.494444444444444: 5, 26.877777777777776: 5, -5.7444444444444445: 5, 4.766666666666666: 5, 10.338888888888889: 5, 28.47222222222222: 5, 28.672222222222224: 5, 8.91111111111111: 5, -7.061111111111112: 5, 23.41666666666667: 5, 14.088888888888889: 5, -11.216666666666663: 5, -10.555555555555555: 5, 18.366666666666667: 5, 32.538888888888884: 5, 30.33888888888889: 5, 29.050000000000004: 5, 28.97222222222222: 5, 26.14444444444445: 5, -4.911111111111111: 5, 29.39444444444444: 5, 20.672222222222217: 5, 10.755555555555556: 5, 18.34444444444444: 5, 9.816666666666668: 5, 0.6722222222222227: 5, -0.3111111111111104: 5, 14.72222222222222: 5, -6.849999999999999: 5, 21.71111111111111: 5, 28.005555555555556: 5, -7.983333333333334: 5, -4.255555555555556: 5, 9.888888888888888: 5, 28.02777777777778: 5, 8.122222222222222: 5, 29.28888888888889: 5, 12.52222222222222: 5, 11.77777777777778: 5, 27.883333333333333: 5, 8.972222222222221: 5, -8.005555555555555: 5, -3.0166666666666666: 5, -4.188888888888888: 5, 11.055555555555555: 5, 27.68333333333333: 5, 2.561111111111111: 5, 8.405555555555557: 5, 29.65555555555555: 5, 26.550000000000004: 5, 28.666666666666668: 5, 25.88888888888889: 5, 33.74444444444444: 5, -4.088888888888889: 5, 1.3277777777777782: 5, 28.41666666666667: 5, 18.166666666666668: 5, 31.522222222222226: 5, -3.5388888888888896: 5, 12.466666666666663: 5, -0.6333333333333336: 5, -5.477777777777778: 5, -4.166666666666667: 5, 26.633333333333333: 5, -9.83888888888889: 5, 27.661111111111115: 5, 14.52222222222222: 5, 20.366666666666664: 5, 7.588888888888887: 5, 30.455555555555552: 5, 28.96111111111111: 5, 32.327777777777776: 5, 17.466666666666665: 5, 11.755555555555553: 5, -7.622222222222222: 5, 8.616666666666665: 5, 27.416666666666664: 5, 13.655555555555557: 5, 9.583333333333334: 5, 11.500000000000002: 5, 29.238888888888887: 5, 3.327777777777779: 5, 22.45: 5, 21.933333333333337: 5, 30.00555555555556: 5, 20.711111111111112: 5, 10.272222222222224: 5, 28.35: 5, 32.294444444444444: 5, 16.194444444444443: 5, -8.994444444444444: 5, 30.383333333333333: 5, 16.172222222222224: 5, 28.166666666666668: 5, -4.661111111111111: 5, 14.461111111111112: 5, 16.922222222222224: 5, 28.50555555555556: 5, 21.311111111111117: 5, -8.677777777777779: 5, 24.96111111111112: 5, -6.244444444444444: 5, -4.216666666666667: 5, 16.983333333333334: 5, 28.28888888888889: 5, 29.572222222222223: 5, 26.666666666666668: 5, 3.683333333333335: 5, 28.744444444444444: 5, -11.13888888888889: 5, 10.666666666666668: 5, 27.216666666666665: 5, 30.988888888888887: 5, 25.8: 5, 13.13888888888889: 5, 23.87777777777778: 5, -3.0444444444444447: 5, -6.194444444444444: 5, 24.050000000000004: 5, 10.133333333333336: 5, 22.62777777777778: 5, -5.822222222222223: 5, 26.90555555555556: 5, 32.25555555555556: 5, 28.883333333333333: 5, 11.544444444444444: 5, 27.494444444444444: 5, 19.361111111111107: 5, 28.59444444444445: 5, 22.466666666666665: 5, 21.90555555555556: 5, 21.36111111111111: 5, 28.061111111111117: 5, 15.811111111111112: 5, 15.033333333333337: 5, 28.111111111111107: 5, -7.1000000000000005: 5, 8.466666666666669: 5, 1.211111111111111: 5, -5.683333333333334: 5, 15.766666666666667: 5, 29.522222222222226: 5, 31.744444444444444: 5, 23.15555555555556: 5, 7.394444444444446: 5, 31.65: 5, 27.044444444444448: 5, 25.11111111111111: 5, 12.433333333333334: 5, 29.18333333333333: 5, 15.261111111111113: 5, -8.055555555555555: 5, 23.36111111111111: 5, 17.561111111111114: 5, -0.5499999999999992: 5, 16.87222222222222: 5, 10.366666666666664: 5, -5.46111111111111: 5, 9.327777777777776: 5, -8.766666666666667: 5, -9.094444444444443: 5, 1.655555555555554: 5, 26.938888888888886: 5, -8.188888888888888: 5, 15.411111111111111: 5, 18.46111111111112: 5, -1.861111111111112: 5, -1.849999999999999: 5, 23.000000000000004: 5, 29.627777777777776: 5, 33.18888888888889: 5, 1.2611111111111128: 5, 21.37222222222222: 5, 16.522222222222226: 5, -7.438888888888889: 5, 22.46111111111112: 5, 19.63888888888889: 5, -9.422222222222224: 5, 29.716666666666665: 5, 8.094444444444443: 5, -6.677777777777777: 5, 21.194444444444446: 5, 13.02777777777778: 5, 27.42777777777778: 5, 1.2166666666666657: 5, 1.033333333333333: 5, 13.466666666666669: 5, -3.455555555555555: 5, -1.966666666666666: 5, 23.716666666666665: 5, 8.68888888888889: 5, 23.63888888888889: 5, 9.36111111111111: 5, -3.088888888888888: 5, 33.42222222222222: 5, 12.544444444444444: 5, 25.811111111111103: 5, -4.794444444444443: 5, 13.61111111111111: 5, 24.238888888888887: 5, -1.5111111111111104: 5, 12.461111111111112: 5, 28.78333333333333: 5, -5.227777777777778: 5, 28.272222222222226: 5, -4.111111111111111: 5, 28.466666666666665: 5, 26.416666666666668: 5, 8.58888888888889: 5, 8.244444444444447: 5, 15.211111111111112: 5, 7.611111111111112: 5, -5.549999999999999: 5, 31.75555555555555: 5, 30.766666666666666: 5, 1.933333333333332: 5, -3.277777777777777: 5, -3.544444444444444: 5, 12.005555555555556: 5, 4.7111111111111095: 5, 23.766666666666666: 5, 24.105555555555554: 5, 8.922222222222224: 5, 18.40555555555555: 5, 0.127777777777776: 5, -3.0666666666666664: 5, 11.877777777777778: 5, 1.35: 5, 22.516666666666666: 5, 9.8: 5, 20.66111111111111: 5, -13.86111111111111: 5, 20.60555555555556: 5, 22.772222222222226: 5, 23.005555555555556: 5, 31.172222222222224: 5, 13.02222222222222: 5, 22.511111111111106: 5, 6.483333333333334: 5, -6.811111111111113: 5, -5.750000000000001: 5, 18.33888888888889: 5, -2.694444444444445: 5, 12.394444444444446: 5, -8.222222222222221: 5, -4.8055555555555545: 5, 30.716666666666672: 5, 1.5777777777777795: 5, 27.722222222222225: 5, 19.39444444444444: 5, -7.183333333333334: 5, 6.91111111111111: 5, 25.061111111111117: 5, -0.9000000000000006: 5, -4.455555555555555: 5, -5.122222222222222: 5, 22.422222222222224: 5, -3.572222222222222: 5, 27.56666666666667: 5, 28.488888888888887: 5, 21.149999999999995: 5, 18.42222222222222: 5, 23.14444444444444: 5, 28.383333333333336: 5, -8.394444444444444: 5, 11.333333333333334: 5, -8.294444444444444: 5, 4.2944444444444425: 5, 8.81111111111111: 5, -0.777777777777777: 5, 2.622222222222222: 5, 10.938888888888888: 5, 28.516666666666666: 5, -5.255555555555556: 5, 26.688888888888894: 5, 15.794444444444444: 5, 19.205555555555552: 5, -5.944444444444445: 5, 4.566666666666666: 5, -4.73888888888889: 5, 26.494444444444444: 5, 25.105555555555554: 5, 15.516666666666667: 5, 10.622222222222222: 5, 10.711111111111112: 5, -1.4499999999999995: 5, 12.833333333333334: 5, 32.727777777777774: 5, -1.4888888888888887: 5, 20.64444444444444: 5, 29.672222222222217: 5, -9.52777777777778: 5, -5.222222222222221: 5, 14.161111111111111: 5, 3.511111111111111: 5, 28.45555555555556: 5, 24.15: 5, -8.233333333333333: 5, -7.427777777777779: 5, 21.28333333333333: 5, 29.71111111111112: 5, 11.294444444444444: 4, 27.188888888888886: 4, 30.416666666666668: 4, 14.57777777777778: 4, 26.25555555555556: 4, 27.05555555555556: 4, 11.727777777777778: 4, 24.116666666666664: 4, 12.372222222222224: 4, -4.15: 4, -3.2222222222222228: 4, 19.34444444444444: 4, -10.133333333333336: 4, 23.022222222222226: 4, -7.844444444444445: 4, 29.838888888888885: 4, -12.45: 4, 26.52777777777778: 4, 30.57222222222222: 4, 25.84444444444444: 4, -6.733333333333334: 4, -4.533333333333333: 4, 8.177777777777777: 4, 28.811111111111117: 4, -6.833333333333333: 4, 25.83333333333333: 4, 0.1999999999999996: 4, 26.783333333333328: 4, 9.094444444444443: 4, 15.216666666666663: 4, 27.61111111111111: 4, -9.688888888888888: 4, -8.205555555555556: 4, -8.633333333333333: 4, 19.633333333333336: 4, 16.65555555555555: 4, 29.727777777777774: 4, 21.783333333333328: 4, 27.261111111111106: 4, 21.76666666666667: 4, 18.477777777777774: 4, 11.83888888888889: 4, -10.27777777777778: 4, 6.466666666666667: 4, 23.311111111111103: 4, 16.93888888888889: 4, 26.750000000000004: 4, 17.488888888888887: 4, 29.33333333333333: 4, 21.861111111111107: 4, 29.74444444444445: 4, -9.822222222222225: 4, -4.477777777777778: 4, 4.31111111111111: 4, 32.0611111111111: 4, 25.294444444444444: 4, 23.594444444444445: 4, 25.98888888888889: 4, 9.377777777777778: 4, 8.75: 4, -7.688888888888889: 4, -7.905555555555556: 4, -9.016666666666667: 4, 23.011111111111116: 4, 33.672222222222224: 4, 18.53888888888889: 4, -11.872222222222222: 4, 15.716666666666663: 4, 31.80555555555556: 4, -1.872222222222223: 4, 20.716666666666672: 4, 31.161111111111115: 4, 21.38888888888889: 4, 30.133333333333333: 4, -13.705555555555556: 4, -12.466666666666663: 4, 10.844444444444449: 4, 28.54444444444444: 4, 31.52777777777778: 4, 10.82777777777778: 4, 9.088888888888889: 4, -8.15: 4, -8.577777777777778: 4, 9.916666666666666: 4, -6.644444444444445: 4, 25.288888888888884: 4, 25.21111111111111: 4, -8.194444444444445: 4, 13.32222222222222: 4, 27.43333333333333: 4, -8.788888888888888: 4, 13.483333333333336: 4, 21.52777777777778: 4, 13.605555555555558: 4, -9.366666666666667: 4, 22.927777777777774: 4, 25.58333333333333: 4, 21.550000000000004: 4, 8.56111111111111: 4, 21.566666666666663: 4, -6.116666666666668: 4, -10.394444444444446: 4, 8.072222222222223: 4, 31.13333333333334: 4, -3.633333333333333: 4, 11.85: 4, 25.25: 4, -6.866666666666666: 4, 34.49444444444445: 4, -7.605555555555556: 4, 16.216666666666665: 4, 26.216666666666665: 4, -8.977777777777778: 4, 28.62222222222222: 4, -7.733333333333334: 4, 11.327777777777778: 4, 27.14444444444445: 4, 23.138888888888893: 4, 28.5: 4, 24.716666666666665: 4, 24.74444444444445: 4, -6.633333333333334: 4, 26.166666666666664: 4, 27.194444444444443: 4, -7.177777777777779: 4, 10.127777777777776: 4, -5.516666666666667: 4, 27.988888888888887: 4, 8.222222222222221: 4, 13.18888888888889: 4, 26.80555555555556: 4, -4.427777777777777: 4, 15.56666666666667: 4, 16.61111111111111: 4, 7.944444444444443: 4, -7.48888888888889: 4, 32.41111111111112: 4, 11.494444444444444: 4, 24.26666666666667: 4, 21.23333333333333: 4, 14.016666666666664: 4, -8.43888888888889: 4, 26.933333333333337: 4, -5.277777777777778: 4, -7.666666666666667: 4, 22.077777777777776: 4, 31.2: 4, 3.3444444444444463: 4, -8.744444444444444: 4, 9.238888888888887: 4, 15.644444444444442: 4, 33.56666666666667: 4, 15.72777777777778: 4, -7.522222222222221: 4, 21.683333333333334: 4, 15.711111111111112: 4, 26.55555555555556: 4, -7.155555555555555: 4, 11.41111111111111: 4, 11.872222222222222: 4, 13.544444444444444: 4, 26.772222222222226: 4, 30.827777777777776: 4, 24.633333333333336: 4, 13.122222222222222: 4, 24.1: 4, 20.633333333333333: 4, 30.105555555555554: 4, 14.583333333333334: 4, 18.127777777777776: 4, 8.977777777777776: 4, 13.555555555555555: 4, 21.916666666666668: 4, 29.216666666666672: 4, 18.327777777777776: 4, 20.91666666666667: 4, 19.55555555555556: 4, 20.700000000000003: 4, 12.56111111111111: 4, 23.1: 4, 22.950000000000003: 4, 21.266666666666666: 4, -6.044444444444443: 4, 15.66111111111111: 4, 8.316666666666666: 4, -4.344444444444445: 4, 15.816666666666666: 4, 22.43333333333333: 4, 21.83888888888889: 4, 9.405555555555557: 4, -10.466666666666669: 4, 16.616666666666664: 4, -3.022222222222223: 4, 16.53888888888889: 4, 10.42777777777778: 4, 30.194444444444443: 4, 27.511111111111106: 4, -3.1333333333333337: 4, -7.316666666666667: 4, 14.116666666666664: 4, 24.688888888888886: 4, 15.47222222222222: 4, 31.450000000000003: 4, 29.916666666666668: 4, 28.42222222222222: 4, 31.816666666666663: 4, 24.694444444444443: 4, 25.244444444444444: 4, -8.511111111111111: 4, 11.65: 4, 17.283333333333335: 4, 26.05555555555556: 4, 30.272222222222226: 4, -5.711111111111112: 4, -4.650000000000001: 4, -6.477777777777778: 4, 19.244444444444444: 4, 14.344444444444443: 4, -6.772222222222222: 4, 8.761111111111113: 4, 7.422222222222222: 4, 12.627777777777776: 4, -6.122222222222222: 4, 23.05: 4, 23.28888888888889: 4, -10.155555555555557: 4, 32.266666666666666: 4, 33.48888888888889: 4, -8.716666666666667: 4, 11.45: 4, -5.827777777777777: 4, 24.377777777777776: 4, 25.533333333333328: 4, 24.261111111111116: 4, 9.1: 4, 9.033333333333331: 4, -9.655555555555557: 4, 19.166666666666668: 4, -11.827777777777776: 4, 30.244444444444444: 4, 16.311111111111114: 4, 8.055555555555555: 4, 24.14444444444444: 4, 32.87222222222223: 4, 32.06666666666667: 4, 30.38888888888889: 4, 8.683333333333334: 4, 8.050000000000002: 4, 28.41111111111111: 4, 27.9: 4, 10.56666666666667: 4, 18.116666666666667: 4, 27.82777777777778: 4, 10.172222222222224: 4, 31.12222222222222: 4, 10.655555555555557: 4, 29.7: 4, 18.41666666666667: 4, 18.444444444444443: 4, 18.15: 4, 30.561111111111117: 4, -1.900000000000001: 4, -8.183333333333334: 4, 7.699999999999999: 4, -6.016666666666666: 4, 18.111111111111107: 4, 30.077777777777776: 4, 18.322222222222223: 4, -5.688888888888887: 4, 30.511111111111116: 4, -8.944444444444445: 4, 28.87777777777778: 4, 25.744444444444447: 4, -4.333333333333333: 4, -3.988888888888889: 4, 8.666666666666666: 4, 24.78333333333333: 4, -4.583333333333333: 4, 28.40555555555555: 4, -3.083333333333334: 4, -6.766666666666667: 4, -8.927777777777777: 4, 29.022222222222226: 4, 19.450000000000003: 4, 8.661111111111113: 4, -6.55: 4, 21.738888888888887: 4, -8.55: 4, 11.38888888888889: 4, 23.444444444444443: 4, 18.25: 4, 26.32222222222222: 4, 8.233333333333333: 4, 21.672222222222224: 4, 21.494444444444444: 4, 20.172222222222224: 4, 15.42777777777778: 4, 11.47222222222222: 4, 11.7: 4, 0.3222222222222213: 4, 24.07222222222222: 4, 23.166666666666668: 4, 1.2333333333333327: 4, 20.355555555555554: 4, 25.938888888888886: 4, 22.399999999999995: 4, -7.23888888888889: 4, 24.80555555555556: 4, 0.777777777777777: 4, 20.316666666666663: 4, 9.733333333333336: 4, 31.988888888888887: 4, 27.583333333333336: 4, 3.444444444444446: 4, 30.672222222222217: 4, -5.111111111111111: 4, 14.2: 4, 21.98333333333333: 4, -7.9944444444444445: 4, 19.038888888888884: 4, -9.07222222222222: 4, 28.36111111111111: 4, 6.355555555555554: 4, 10.72222222222222: 4, 27.45: 4, 16.377777777777776: 4, 25.91666666666667: 4, 27.444444444444446: 4, 26.422222222222224: 4, 8.38888888888889: 4, 28.238888888888887: 4, 20.35: 4, -6.794444444444445: 4, 31.688888888888894: 4, -7.111111111111111: 4, 29.95555555555556: 4, 29.73333333333333: 4, -3.733333333333333: 4, -5.677777777777777: 4, 10.61111111111111: 4, 9.083333333333334: 4, 13.316666666666666: 4, 18.138888888888893: 4, -6.605555555555556: 4, -14.372222222222222: 4, 19.200000000000003: 4, 19.67222222222222: 4, 15.572222222222225: 4, 20.500000000000004: 4, -7.755555555555556: 4, 19.183333333333334: 4, 28.200000000000003: 4, 8.766666666666667: 4, 28.838888888888885: 4, 26.21111111111112: 4, 16.366666666666667: 4, 10.52222222222222: 4, -7.08888888888889: 4, 17.422222222222224: 4, -7.855555555555556: 4, 9.4: 4, 10.738888888888887: 4, 14.761111111111113: 4, -7.161111111111111: 4, 11.922222222222224: 4, 8.450000000000001: 4, 29.04444444444444: 4, -10.644444444444444: 4, 15.194444444444445: 4, -5.105555555555556: 4, 26.188888888888886: 4, -8.494444444444444: 4, 14.25: 4, -3.761111111111111: 4, 18.616666666666667: 4, 32.05: 4, 29.46111111111111: 4, -10.194444444444445: 4, -6.638888888888889: 4, 21.5: 4, 23.216666666666672: 4, 16.727777777777778: 4, 8.900000000000002: 4, -3.416666666666666: 4, 20.200000000000003: 4, 23.577777777777776: 4, -3.150000000000001: 4, -5.183333333333333: 4, -20.0: 4, 32.21666666666667: 4, 31.21111111111112: 4, 28.438888888888886: 4, 19.09444444444445: 4, 32.90555555555556: 4, 24.188888888888894: 4, -7.394444444444444: 4, 6.855555555555558: 4, 21.888888888888893: 4, 22.416666666666664: 4, 24.23333333333333: 4, 10.594444444444443: 4, 27.59444444444445: 4, 31.18333333333333: 4, 27.011111111111116: 4, 21.65: 4, 29.55555555555556: 4, 29.08333333333333: 4, 10.82222222222222: 4, 10.32222222222222: 4, 18.48333333333333: 4, 33.70555555555556: 4, -7.327777777777778: 4, -9.433333333333334: 4, -7.083333333333333: 4, 13.45: 4, 18.122222222222224: 4, 21.355555555555554: 4, -8.722222222222221: 4, 17.07777777777778: 4, 22.227777777777774: 4, 30.088888888888885: 4, 1.4944444444444431: 4, 24.122222222222224: 4, 31.85555555555556: 4, 29.172222222222224: 4, 15.33888888888889: 4, 20.55: 4, 10.550000000000002: 4, -9.4: 4, 15.433333333333334: 4, 24.73333333333333: 4, -8.77222222222222: 4, 24.938888888888886: 4, -7.772222222222221: 4, 9.788888888888888: 4, 12.816666666666666: 4, -8.533333333333333: 4, -0.8388888888888898: 4, -3.522222222222222: 4, -7.377777777777778: 4, 32.800000000000004: 4, 30.95: 4, -8.622222222222222: 4, 18.972222222222225: 4, 26.683333333333334: 4, 29.65: 4, 21.950000000000003: 4, 10.205555555555556: 4, 25.13888888888889: 4, 23.511111111111106: 4, -8.988888888888889: 4, 20.33333333333333: 4, 11.93333333333333: 4, 21.21111111111112: 4, 30.83333333333333: 4, -4.155555555555556: 4, 31.127777777777776: 4, 29.56666666666667: 4, -8.427777777777779: 4, 21.327777777777776: 4, 8.833333333333334: 4, -8.794444444444444: 4, 28.211111111111112: 4, -8.283333333333333: 4, 26.97222222222222: 4, 30.77777777777778: 4, 20.6: 4, 30.35: 4, -7.300000000000001: 4, 30.772222222222226: 4, 20.566666666666663: 4, 21.172222222222224: 4, 33.41111111111111: 4, 15.58888888888889: 4, 28.4: 4, 20.41111111111111: 4, 29.994444444444444: 4, -13.08888888888889: 4, 26.43888888888889: 4, 25.30555555555556: 4, 22.522222222222226: 4, -8.883333333333333: 4, 13.433333333333334: 4, 20.627777777777776: 4, 11.86111111111111: 4, 10.616666666666667: 4, -4.411111111111111: 4, -3.716666666666667: 4, 27.694444444444443: 4, 30.011111111111106: 4, 18.63333333333334: 4, 16.849999999999998: 4, -9.005555555555556: 4, 20.727777777777774: 4, 23.02777777777778: 4, 16.47222222222222: 4, 16.099999999999998: 4, 13.411111111111111: 4, -9.011111111111113: 4, 10.383333333333333: 4, -8.566666666666668: 4, 31.061111111111103: 4, 12.97222222222222: 4, 21.91111111111111: 4, 32.24444444444445: 4, 2.322222222222222: 4, 30.23333333333333: 4, 18.438888888888886: 4, 13.622222222222224: 4, 22.42777777777778: 4, 29.466666666666672: 4, 11.461111111111112: 4, 30.74444444444445: 4, 30.11111111111111: 4, 20.738888888888887: 4, -4.816666666666667: 4, 27.266666666666666: 4, 30.09444444444445: 4, 14.63888888888889: 4, 16.244444444444447: 4, 23.98888888888889: 4, 14.244444444444444: 4, 24.63888888888889: 4, 29.58333333333333: 4, -7.127777777777776: 4, -7.072222222222223: 4, 18.53333333333333: 4, 17.444444444444443: 4, 19.255555555555556: 4, 14.41111111111111: 4, -4.711111111111112: 4, -10.977777777777776: 4, 15.333333333333334: 4, 34.42222222222222: 4, 35.50555555555555: 4, 19.827777777777776: 4, 23.572222222222223: 4, 26.288888888888884: 4, 26.616666666666664: 4, 29.444444444444443: 4, 9.27222222222222: 4, 30.43333333333333: 4, 16.444444444444443: 4, 29.77777777777778: 4, 22.48333333333333: 4, 17.416666666666668: 4, 14.155555555555551: 4, -5.705555555555555: 4, -6.438888888888889: 4, 25.511111111111116: 4, 6.983333333333333: 4, 23.40555555555555: 4, 28.966666666666665: 4, 22.538888888888884: 4, 1.5499999999999996: 4, 18.649999999999995: 4, 30.6: 4, -7.677777777777777: 4, -1.9055555555555557: 4, 31.48888888888889: 4, 8.627777777777778: 4, 22.444444444444446: 4, -4.277777777777778: 4, -9.755555555555556: 4, 19.172222222222224: 4, -5.627777777777776: 4, -8.36111111111111: 4, -5.638888888888888: 4, 32.733333333333334: 4, 22.14444444444445: 4, -6.699999999999999: 4, 24.527777777777786: 4, 8.505555555555556: 4, 26.266666666666666: 4, 31.03888888888889: 4, 28.90555555555555: 4, 28.561111111111103: 4, 23.47222222222222: 4, 21.755555555555556: 4, -13.0: 4, 2.383333333333333: 4, 30.80555555555556: 4, -7.461111111111112: 4, 8.583333333333336: 4, 29.38888888888889: 4, 30.761111111111116: 4, 26.63888888888889: 4, 23.172222222222217: 4, -9.15: 4, -2.0222222222222226: 4, 31.23333333333333: 4, 29.616666666666667: 4, 8.416666666666666: 4, 9.127777777777778: 4, 2.055555555555557: 4, 15.311111111111112: 4, 24.35555555555556: 4, 26.46111111111111: 4, 18.522222222222226: 4, -6.983333333333333: 4, 18.600000000000005: 4, 26.794444444444448: 4, -7.722222222222222: 4, 26.888888888888893: 4, -8.155555555555557: 4, 23.01666666666667: 4, 10.305555555555554: 4, 31.411111111111115: 4, 11.566666666666666: 4, 27.072222222222223: 4, -8.122222222222224: 4, 1.122222222222224: 4, 26.472222222222225: 4, -9.088888888888889: 4, -5.816666666666666: 4, 9.783333333333331: 4, -8.5: 4, 28.266666666666666: 4, 30.65555555555556: 4, 13.627777777777778: 4, 27.70555555555556: 4, 8.25: 4, 14.322222222222225: 4, -9.77777777777778: 4, 3.922222222222224: 4, -5.844444444444444: 4, 2.6722222222222234: 4, 18.16111111111111: 4, 9.288888888888888: 4, 31.783333333333328: 4, 28.42777777777778: 4, 9.016666666666664: 4, -2.4333333333333327: 4, 14.544444444444444: 4, 21.761111111111116: 4, 8.605555555555558: 4, 22.722222222222225: 4, -5.25: 4, -6.449999999999999: 4, -6.211111111111111: 4, -6.26111111111111: 4, -3.3722222222222222: 4, 13.522222222222224: 4, 8.494444444444444: 4, 8.788888888888888: 4, 24.250000000000004: 4, 30.122222222222224: 4, -7.861111111111111: 4, 14.127777777777778: 4, -9.983333333333333: 4, -8.850000000000001: 4, -8.844444444444445: 4, 16.855555555555558: 4, 20.32222222222222: 4, -4.655555555555555: 4, -8.72777777777778: 4, 32.81111111111111: 4, 26.36666666666666: 4, 31.61111111111111: 4, 31.327777777777776: 4, 28.044444444444448: 4, 19.322222222222223: 4, 30.633333333333333: 4, 26.83333333333333: 4, 8.722222222222223: 4, 27.605555555555554: 4, 26.71666666666667: 4, 28.97777777777777: 4, 29.98333333333333: 4, -3.311111111111112: 4, 19.761111111111106: 4, 31.48333333333333: 4, 19.294444444444448: 4, 32.17777777777778: 4, 14.505555555555556: 4, 29.25: 4, 8.483333333333336: 4, 11.766666666666667: 4, 8.105555555555558: 4, 19.16111111111111: 4, 28.34444444444444: 3, -8.705555555555556: 3, 14.27777777777778: 3, 26.350000000000005: 3, 8.411111111111111: 3, -11.038888888888888: 3, 25.78333333333333: 3, 28.800000000000004: 3, 31.55555555555556: 3, -7.949999999999999: 3, 26.788888888888888: 3, -6.222222222222222: 3, -6.727777777777778: 3, -10.966666666666669: 3, 22.38888888888889: 3, 30.29444444444444: 3, -9.566666666666666: 3, -12.333333333333334: 3, 26.38888888888889: 3, 17.994444444444444: 3, -6.311111111111111: 3, 33.55: 3, -5.694444444444445: 3, 23.238888888888887: 3, 20.611111111111107: 3, -5.083333333333332: 3, 26.727777777777774: 3, 25.27777777777778: 3, 34.02777777777778: 3, 33.96666666666667: 3, -11.794444444444444: 3, 29.200000000000003: 3, 20.75555555555556: 3, 10.288888888888891: 3, 30.23888888888889: 3, 9.416666666666668: 3, 14.55: 3, 30.36111111111111: 3, 26.65555555555556: 3, 35.12222222222223: 3, -7.583333333333333: 3, 28.08888888888889: 3, 27.977777777777774: 3, 17.005555555555556: 3, 8.13888888888889: 3, 21.866666666666667: 3, -8.200000000000001: 3, -16.11111111111111: 3, 25.85555555555556: 3, 24.16111111111111: 3, 24.58333333333333: 3, -6.433333333333333: 3, -9.455555555555556: 3, 28.277777777777786: 3, -5.727777777777778: 3, 9.988888888888887: 3, 26.722222222222214: 3, 32.30555555555556: 3, 10.405555555555551: 3, 10.355555555555556: 3, 25.25555555555555: 3, 9.11111111111111: 3, 35.67777777777778: 3, 25.38888888888889: 3, 19.061111111111117: 3, 20.477777777777774: 3, -5.422222222222223: 3, -7.405555555555555: 3, 29.86111111111111: 3, -7.649999999999999: 3, 3.611111111111111: 3, 16.916666666666668: 3, -3.5000000000000004: 3, 31.088888888888885: 3, -12.205555555555556: 3, 35.44444444444444: 3, 33.48333333333333: 3, -12.044444444444444: 3, -17.955555555555556: 3, 8.516666666666666: 3, 15.72222222222222: 3, 25.727777777777774: 3, 31.677777777777774: 3, -7.938888888888887: 3, 10.36111111111111: 3, 20.23333333333333: 3, -19.422222222222224: 3, -6.922222222222223: 3, 9.383333333333333: 3, 32.93333333333333: 3, 18.55: 3, 30.627777777777776: 3, 11.283333333333337: 3, -7.66111111111111: 3, 27.55: 3, 9.17777777777778: 3, 13.1: 3, -10.116666666666667: 3, 28.600000000000005: 3, 29.4: 3, 35.25: 3, -14.483333333333333: 3, -6.65: 3, -6.822222222222223: 3, 31.09444444444445: 3, 16.394444444444442: 3, 26.561111111111117: 3, -9.133333333333333: 3, 27.794444444444444: 3, 34.06111111111111: 3, 16.466666666666665: 3, 25.55555555555556: 3, 26.57222222222222: 3, 20.694444444444443: 3, -3.361111111111112: 3, 9.188888888888888: 3, -6.366666666666667: 3, 31.65555555555556: 3, -7.75: 3, 33.361111111111114: 3, 28.23333333333333: 3, 35.40555555555556: 3, 27.00555555555556: 3, -7.138888888888889: 3, -10.672222222222224: 3, -9.033333333333331: 3, 15.705555555555556: 3, 30.83888888888889: 3, 20.433333333333334: 3, 11.427777777777775: 3, -7.555555555555555: 3, 8.32222222222222: 3, 20.27777777777778: 3, 30.522222222222226: 3, 25.14444444444445: 3, 21.466666666666665: 3, 23.044444444444448: 3, 25.177777777777774: 3, -7.633333333333332: 3, 29.866666666666667: 3, 31.33333333333333: 3, 32.78333333333333: 3, 24.66666666666667: 3, 14.205555555555556: 3, 10.294444444444444: 3, 33.644444444444446: 3, 30.06666666666667: 3, 22.91111111111111: 3, 8.427777777777779: 3, 11.538888888888891: 3, 8.544444444444444: 3, 15.35: 3, -6.694444444444445: 3, 30.07222222222222: 3, 29.13888888888889: 3, 19.59444444444444: 3, 29.53888888888889: 3, -10.577777777777776: 3, -6.577777777777778: 3, 32.738888888888894: 3, 30.21111111111111: 3, 10.377777777777778: 3, 33.45: 3, -11.066666666666668: 3, -13.094444444444443: 3, 33.416666666666664: 3, 34.916666666666664: 3, 11.366666666666667: 3, -10.8: 3, 8.038888888888888: 3, 23.48333333333333: 3, -9.077777777777778: 3, 11.61111111111111: 3, -6.4: 3, -3.7277777777777774: 3, 14.22777777777778: 3, 19.316666666666663: 3, 26.89444444444444: 3, 8.716666666666665: 3, 26.43333333333333: 3, 32.05555555555556: 3, -8.416666666666666: 3, 25.816666666666663: 3, -5.611111111111112: 3, 27.994444444444444: 3, 33.49444444444445: 3, 13.52777777777778: 3, 20.427777777777774: 3, 26.399999999999995: 3, 25.172222222222224: 3, -7.366666666666668: 3, 15.22222222222222: 3, -14.327777777777776: 3, 25.65: 3, -10.383333333333333: 3, 28.86111111111111: 3, -6.627777777777777: 3, 16.322222222222223: 3, 31.13888888888889: 3, 31.04444444444444: 3, 25.011111111111106: 3, 11.57222222222222: 3, 8.077777777777776: 3, 23.227777777777774: 3, 28.48333333333333: 3, 36.05555555555556: 3, -10.65: 3, -15.0: 3, 33.20555555555555: 3, 32.82777777777778: 3, 30.300000000000004: 3, 29.93333333333333: 3, 18.02777777777778: 3, 27.28333333333333: 3, 16.900000000000002: 3, -7.699999999999999: 3, -8.655555555555555: 3, 20.816666666666663: 3, 28.944444444444443: 3, -7.372222222222222: 3, 14.594444444444449: 3, 31.64444444444444: 3, 31.00555555555556: 3, 9.522222222222222: 3, 28.927777777777774: 3, -4.627777777777776: 3, -8.28888888888889: 3, 19.627777777777776: 3, -7.533333333333333: 3, 29.00555555555555: 3, -8.899999999999999: 3, -9.266666666666667: 3, 26.327777777777776: 3, 18.52777777777777: 3, -5.205555555555557: 3, -6.755555555555556: 3, 8.827777777777778: 3, 32.69444444444444: 3, 24.48333333333333: 3, 21.77777777777778: 3, 23.438888888888886: 3, -8.049999999999999: 3, -7.294444444444443: 3, 15.699999999999998: 3, 11.67777777777778: 3, -14.927777777777775: 3, 21.34444444444445: 3, -9.81111111111111: 3, -5.616666666666666: 3, -8.083333333333334: 3, 18.133333333333333: 3, -5.26111111111111: 3, 19.14444444444444: 3, 29.09444444444445: 3, 8.55: 3, -3.111111111111112: 3, 33.5611111111111: 3, 31.372222222222224: 3, 8.927777777777777: 3, 30.28333333333333: 3, 24.388888888888893: 3, 26.994444444444447: 3, 28.605555555555554: 3, 14.138888888888893: 3, -5.15: 3, 9.138888888888893: 3, 10.250000000000002: 3, 24.30555555555556: 3, 9.505555555555556: 3, 34.31111111111111: 3, 19.33888888888889: 3, -6.172222222222222: 3, 23.927777777777774: 3, 32.150000000000006: 3, 32.56666666666667: 3, 9.966666666666663: 3, 18.572222222222223: 3, 21.51666666666667: 3, 13.38888888888889: 3, 26.29444444444444: 3, 22.972222222222214: 3, 22.40555555555555: 3, -7.066666666666666: 3, 29.90555555555555: 3, 13.65: 3, -4.844444444444444: 3, 11.444444444444445: 3, 19.222222222222214: 3, 20.12777777777778: 3, 29.683333333333337: 3, 23.077777777777783: 3, 21.43333333333333: 3, 10.433333333333334: 3, -5.777777777777777: 3, 14.67222222222222: 3, -6.977777777777778: 3, 9.183333333333334: 3, 15.61111111111111: 3, 30.694444444444443: 3, -4.855555555555554: 3, 22.816666666666663: 3, 21.51111111111111: 3, 24.194444444444443: 3, -8.91111111111111: 3, 24.616666666666667: 3, 24.34444444444444: 3, 31.58333333333333: 3, -10.32222222222222: 3, -6.011111111111111: 3, -6.655555555555556: 3, -13.655555555555557: 3, 20.52777777777778: 3, -4.7333333333333325: 3, -16.15: 3, -3.5500000000000003: 3, 32.38333333333334: 3, 7.538888888888888: 3, 23.56111111111111: 3, 33.894444444444446: 3, -2.4000000000000004: 3, 13.438888888888888: 3, -6.144444444444444: 3, 9.627777777777776: 3, 21.422222222222224: 3, 26.866666666666667: 3, -5.077777777777778: 3, 33.138888888888886: 3, 30.705555555555552: 3, 18.211111111111112: 3, 16.58888888888889: 3, 28.80555555555556: 3, -9.43888888888889: 3, 11.800000000000002: 3, 9.72222222222222: 3, -12.272222222222222: 3, -3.661111111111112: 3, 24.200000000000003: 3, 24.866666666666667: 3, -7.211111111111112: 3, 19.65555555555555: 3, 13.18333333333333: 3, 19.366666666666667: 3, 24.516666666666666: 3, 31.383333333333333: 3, 20.494444444444444: 3, -10.427777777777775: 3, -8.616666666666667: 3, 30.488888888888887: 3, -8.444444444444445: 3, 32.7: 3, 25.311111111111117: 3, -6.933333333333334: 3, -6.672222222222223: 3, 28.694444444444443: 3, -6.4444444444444455: 3, -19.50555555555556: 3, -3.200000000000001: 3, 31.916666666666668: 3, 31.58888888888889: 3, 9.794444444444444: 3, 28.922222222222224: 3, -6.522222222222221: 3, 23.522222222222226: 3, -10.13888888888889: 3, 8.755555555555553: 3, 27.0: 3, 11.655555555555551: 3, 28.58333333333333: 3, -7.022222222222222: 3, 26.23333333333333: 3, 0.6555555555555554: 3, -8.161111111111111: 3, -5.155555555555556: 3, 30.177777777777774: 3, 30.016666666666666: 3, 24.71111111111112: 3, -12.05: 3, 34.92777777777778: 3, 22.21111111111112: 3, 31.511111111111116: 3, 35.75555555555556: 3, 21.58333333333333: 3, 16.93333333333333: 3, 26.28333333333333: 3, -8.366666666666667: 3, 19.50555555555556: 3, 11.705555555555556: 3, 25.200000000000003: 3, -10.316666666666666: 3, -12.65: 3, 31.86111111111111: 3, 26.84444444444444: 3, 19.3: 3, 32.15555555555555: 3, 30.64444444444444: 3, 23.53333333333333: 3, 32.794444444444444: 3, 29.01666666666667: 3, 29.89444444444445: 3, 28.916666666666668: 3, 21.73333333333333: 3, 21.694444444444443: 3, 31.11111111111111: 3, -6.033333333333333: 3, 29.87222222222222: 3, 9.394444444444442: 3, -9.144444444444446: 3, 28.64444444444445: 3, 31.8: 3, -13.183333333333334: 3, -6.805555555555555: 3, 28.477777777777774: 3, 29.766666666666666: 3, 19.694444444444443: 3, 9.744444444444444: 3, 10.544444444444444: 3, 30.33333333333333: 3, -8.53888888888889: 3, -8.544444444444444: 3, 23.16111111111111: 3, 19.455555555555552: 3, -5.41111111111111: 3, -1.888888888888888: 3, 33.46666666666667: 3, 34.349999999999994: 3, 29.383333333333333: 3, 9.43888888888889: 3, 26.149999999999995: 3, 31.427777777777774: 3, 31.84444444444444: 3, 24.09444444444445: 3, -5.522222222222222: 3, -7.055555555555555: 3, 31.794444444444448: 3, -9.544444444444444: 3, 30.288888888888884: 3, 24.488888888888887: 3, 9.07222222222222: 3, 33.2: 3, -7.444444444444445: 3, -6.622222222222224: 3, 32.4: 3, -6.599999999999999: 3, 33.43888888888889: 3, -21.11111111111111: 3, 30.37777777777778: 3, 24.133333333333333: 3, 10.8: 3, 25.26111111111111: 3, 15.8: 3, 24.850000000000005: 3, -11.416666666666666: 3, -7.116666666666666: 3, -16.988888888888887: 3, -9.116666666666667: 3, -8.93888888888889: 3, 7.605555555555554: 3, -9.227777777777778: 3, 8.155555555555557: 3, 11.261111111111113: 3, -19.01111111111111: 3, -7.150000000000001: 3, 32.16111111111111: 3, 21.611111111111114: 3, 11.433333333333332: 3, -13.733333333333333: 3, -4.2444444444444445: 3, 28.788888888888884: 3, 9.25: 3, -9.85: 3, 34.166666666666664: 3, 22.438888888888886: 3, 19.23333333333333: 3, 7.861111111111111: 3, -8.311111111111112: 3, 19.133333333333333: 3, 6.872222222222221: 3, 30.822222222222223: 3, -9.633333333333333: 3, 24.166666666666668: 3, 15.3: 3, 26.50555555555555: 3, 16.822222222222223: 3, 30.100000000000005: 3, -6.072222222222222: 3, -9.31111111111111: 3, 32.111111111111114: 3, -6.966666666666666: 3, -13.877777777777778: 3, -4.677777777777779: 3, 11.866666666666667: 3, 31.561111111111117: 3, -1.311111111111111: 3, 25.87222222222222: 3, -10.183333333333332: 3, 19.64444444444445: 3, -8.072222222222223: 3, -12.366666666666664: 3, 31.05: 3, -7.494444444444444: 3, 23.46111111111112: 3, 28.716666666666665: 3, 31.34444444444445: 3, 26.466666666666665: 3, 10.572222222222225: 3, 29.84444444444445: 3, -8.027777777777779: 3, -9.47777777777778: 3, 27.555555555555557: 3, 23.950000000000003: 3, -10.616666666666667: 3, 23.383333333333336: 3, 22.994444444444444: 3, -8.261111111111113: 3, -5.488888888888888: 3, 18.41111111111111: 3, -7.561111111111111: 3, -5.633333333333334: 3, 18.588888888888885: 3, -0.7166666666666662: 3, -3.73888888888889: 3, 8.18333333333333: 3, 27.25: 3, 19.194444444444443: 3, 31.494444444444444: 3, 19.461111111111112: 3, 34.99444444444444: 3, 18.466666666666665: 3, 15.844444444444449: 3, -6.377777777777778: 3, 32.07222222222222: 3, 21.444444444444443: 3, 23.211111111111112: 3, 31.51666666666667: 3, 10.72777777777778: 3, 29.227777777777774: 3, 25.705555555555552: 3, -9.55: 3, 11.88888888888889: 3, 28.950000000000003: 3, 15.36111111111111: 3, -8.855555555555556: 3, 26.755555555555556: 3, 33.511111111111106: 3, 16.327777777777776: 3, 26.544444444444444: 3, -4.205555555555556: 3, -6.316666666666667: 3, 29.283333333333328: 3, 30.88888888888889: 3, 19.477777777777774: 3, 26.383333333333333: 3, 34.099999999999994: 3, 27.27777777777777: 3, 19.066666666666663: 3, 18.38888888888889: 3, 27.38888888888889: 3, 21.62777777777778: 3, 25.455555555555552: 3, 30.427777777777774: 3, 23.28333333333333: 3, -7.927777777777777: 3, -7.977777777777778: 3, -6.455555555555557: 3, 11.488888888888887: 3, -8.649999999999999: 3, -15.22777777777778: 3, -14.627777777777776: 3, -6.466666666666667: 3, 30.20555555555556: 3, -7.472222222222222: 3, 20.51666666666667: 3, -6.277777777777778: 3, 24.566666666666663: 3, 30.311111111111117: 3, 32.422222222222224: 3, 29.761111111111106: 3, 29.27777777777778: 3, 26.45555555555556: 3, 29.78888888888889: 3, 26.444444444444443: 3, 30.51666666666667: 3, 29.488888888888887: 3, 30.41111111111111: 3, -9.93888888888889: 3, -7.233333333333332: 3, 20.288888888888884: 3, -4.672222222222222: 3, 11.277777777777777: 3, 30.22222222222222: 3, -8.11111111111111: 3, -6.872222222222224: 3, -6.749999999999999: 3, 20.33888888888889: 3, 9.83888888888889: 3, -8.822222222222221: 3, -6.888888888888888: 3, -9.75: 3, -6.788888888888888: 3, 30.683333333333337: 3, -7.011111111111112: 3, -4.994444444444444: 3, 33.638888888888886: 3, 31.36111111111111: 3, 25.666666666666668: 3, 13.205555555555556: 3, 8.95: 3, -9.055555555555555: 3, 32.138888888888886: 3, 23.08333333333333: 3, -7.922222222222223: 3, 24.627777777777776: 3, -3.4500000000000006: 3, -10.227777777777778: 3, -6.394444444444446: 3, -9.061111111111112: 3, 33.733333333333334: 3, -8.1: 3, 31.694444444444443: 3, -8.105555555555556: 3, 8.455555555555556: 3, -8.25: 3, 24.761111111111106: 3, 8.533333333333333: 3, 31.73333333333333: 3, 9.322222222222225: 3, -6.305555555555556: 3, 32.36666666666667: 3, 34.66111111111111: 3, -8.350000000000001: 3, 15.733333333333333: 3, -8.661111111111111: 3, 30.616666666666667: 3, 14.17777777777778: 3, -8.133333333333333: 3, 24.64444444444445: 3, 32.75555555555555: 3, 30.59444444444444: 3, 30.13888888888889: 3, 24.3: 3, -7.6: 3, -17.77777777777778: 3, 31.62777777777778: 3, 23.42777777777778: 3, 14.622222222222222: 3, 18.966666666666665: 3, 28.15: 3, 0.1333333333333344: 3, 31.08333333333333: 3, -7.361111111111111: 3, -6.944444444444445: 3, -7.7444444444444445: 3, 30.18333333333333: 3, 23.788888888888884: 3, 9.47222222222222: 3, 32.86666666666666: 3, -17.22222222222222: 3, 32.62777777777778: 3, 21.827777777777783: 3, 13.47222222222222: 3, 29.450000000000003: 3, 15.82777777777778: 3, 29.511111111111116: 3, 28.7: 3, 31.47222222222222: 3, 8.622222222222225: 3, -9.905555555555557: 3, 31.872222222222224: 3, 30.444444444444443: 3, 25.18888888888889: 3, 14.366666666666667: 3, 15.594444444444443: 3, 35.46666666666667: 3, -6.46111111111111: 3, 29.11111111111111: 3, -5.700000000000001: 3, 15.872222222222222: 3, 33.12222222222223: 3, 29.88333333333334: 3, 21.305555555555557: 3, 19.6: 3, 17.972222222222218: 3, -9.866666666666664: 3, 20.8: 3, 28.08333333333333: 3, 14.783333333333337: 3, 31.15555555555555: 3, 30.85: 3, 13.372222222222222: 3, 34.72222222222222: 3, 8.172222222222224: 3, -17.08888888888889: 3, 27.20555555555556: 3, 28.70555555555556: 3, -7.094444444444444: 3, 26.62777777777778: 3, 32.84444444444445: 3, 9.488888888888887: 3, 20.450000000000003: 3, -9.194444444444445: 3, -6.7444444444444445: 3, 29.133333333333333: 3, 31.672222222222224: 3, 9.833333333333336: 3, 10.32777777777778: 3, 21.538888888888884: 3, 14.43333333333333: 3, 19.427777777777777: 3, -7.449999999999999: 3, 9.244444444444444: 3, -15.97222222222222: 3, 31.28333333333333: 3, -10.288888888888888: 3, 14.627777777777776: 3, 33.00555555555555: 3, 23.15: 3, -11.72222222222222: 3, 32.261111111111106: 3, -9.594444444444443: 3, 24.477777777777774: 3, 28.011111111111116: 3, 32.32222222222222: 3, 30.966666666666665: 3, 36.25: 3, -15.27777777777778: 3, 23.5: 3, -9.344444444444443: 3, 24.05555555555556: 3, 19.527777777777786: 3, 25.450000000000003: 3, 18.30555555555556: 3, 10.266666666666664: 3, 14.38888888888889: 3, 26.47777777777777: 3, 16.744444444444444: 3, 32.18888888888889: 3, 30.577777777777783: 3, 29.63888888888889: 3, 9.761111111111113: 3, 27.53333333333333: 3, 33.3111111111111: 3, -15.711111111111112: 3, 9.516666666666667: 3, 28.138888888888893: 3, 31.83333333333333: 3, 33.77777777777778: 3, -6.516666666666668: 3, 28.588888888888885: 3, 21.411111111111115: 3, 31.68333333333333: 3, 30.11666666666666: 3, 7.922222222222221: 3, -6.894444444444444: 3, -9.727777777777776: 3, 24.55: 3, -5.055555555555556: 3, 16.844444444444445: 2, 32.12222222222222: 2, 10.66111111111111: 2, 32.166666666666664: 2, -19.322222222222223: 2, 27.322222222222223: 2, 20.705555555555552: 2, -8.833333333333334: 2, 25.33333333333333: 2, 25.627777777777776: 2, 9.427777777777775: 2, 28.53888888888889: 2, 21.23888888888889: 2, 24.111111111111114: 2, 33.34444444444444: 2, 13.599999999999998: 2, 16.43333333333333: 2, 33.69444444444444: 2, -13.93888888888889: 2, 25.80555555555556: 2, 33.75555555555556: 2, -6.855555555555556: 2, 30.811111111111103: 2, -12.433333333333334: 2, -8.411111111111111: 2, 30.877777777777776: 2, 30.86111111111111: 2, 28.327777777777776: 2, 8.211111111111112: 2, 20.23888888888889: 2, 26.22222222222222: 2, 33.81666666666667: 2, 25.51666666666667: 2, -4.394444444444444: 2, -23.7: 2, -9.33888888888889: 2, -7.611111111111111: 2, 33.07222222222222: 2, 24.327777777777783: 2, -10.82777777777778: 2, -13.011111111111113: 2, 33.21666666666667: 2, 31.105555555555554: 2, 24.50555555555556: 2, 25.472222222222214: 2, 8.083333333333332: 2, 21.58888888888889: 2, -11.288888888888888: 2, 34.150000000000006: 2, 9.57222222222222: 2, -10.216666666666669: 2, 34.172222222222224: 2, 30.922222222222217: 2, 31.37777777777778: 2, -12.27777777777778: 2, -16.62777777777778: 2, -13.18888888888889: 2, 25.133333333333333: 2, -6.688888888888888: 2, 25.78888888888889: 2, -17.505555555555556: 2, 33.03333333333333: 2, 35.25555555555555: 2, 11.844444444444443: 2, 32.77222222222222: 2, -10.088888888888889: 2, -5.805555555555555: 2, -7.51111111111111: 2, 25.700000000000003: 2, 37.53888888888888: 2, 28.73333333333333: 2, 16.63888888888889: 2, 24.59444444444444: 2, 34.68333333333334: 2, 34.22777777777778: 2, -8.838888888888889: 2, -10.955555555555556: 2, 29.533333333333328: 2, 36.53888888888888: 2, 16.41111111111111: 2, 35.388888888888886: 2, 19.58333333333333: 2, 36.077777777777776: 2, 34.15555555555556: 2, -4.966666666666667: 2, 23.08888888888889: 2, 0.4999999999999992: 2, -9.21111111111111: 2, -9.461111111111112: 2, 20.26666666666667: 2, -13.594444444444443: 2, 26.31666666666667: 2, -9.872222222222222: 2, -10.366666666666667: 2, 26.622222222222224: 2, -9.233333333333333: 2, -12.255555555555556: 2, -9.27777777777778: 2, 9.205555555555556: 2, 31.883333333333333: 2, 35.66111111111111: 2, 9.749999999999998: 2, -10.066666666666666: 2, -10.566666666666666: 2, 35.09444444444445: 2, 36.19444444444444: 2, -12.355555555555558: 2, -10.083333333333334: 2, 35.227777777777774: 2, -13.55: 2, 25.444444444444443: 2, 13.494444444444444: 2, 34.88333333333334: 2, -9.183333333333334: 2, 31.98333333333333: 2, 25.794444444444448: 2, -13.377777777777776: 2, -15.116666666666667: 2, 29.433333333333337: 2, 32.099999999999994: 2, 24.5: 2, -7.000000000000001: 2, -9.944444444444445: 2, 25.89444444444445: 2, 9.344444444444443: 2, 16.72222222222222: 2, 30.46111111111111: 2, 28.911111111111115: 2, 29.311111111111117: 2, -10.46111111111111: 2, 29.22222222222222: 2, 12.994444444444444: 2, 9.57777777777778: 2, 26.77777777777778: 2, 33.53888888888889: 2, -7.822222222222221: 2, 23.033333333333328: 2, -13.711111111111112: 2, 19.13888888888889: 2, -12.8: 2, 9.227777777777778: 2, -11.083333333333334: 2, 31.02777777777778: 2, 9.67777777777778: 2, -11.044444444444444: 2, 35.02777777777778: 2, 33.31666666666667: 2, 14.27222222222222: 2, 31.90555555555556: 2, 36.08888888888888: 2, 31.355555555555554: 2, 26.27777777777778: 2, 29.83333333333333: 2, 25.477777777777774: 2, -5.483333333333334: 2, 9.53888888888889: 2, 31.761111111111116: 2, -10.622222222222222: 2, 26.961111111111112: 2, -11.9: 2, 30.85555555555556: 2, -4.450000000000001: 2, 9.116666666666664: 2, 21.616666666666664: 2, 29.188888888888894: 2, 36.62777777777778: 2, -11.25: 2, 21.788888888888888: 2, 26.677777777777774: 2, -11.211111111111112: 2, -11.155555555555557: 2, 31.31666666666667: 2, 33.605555555555554: 2, 34.988888888888894: 2, 34.55555555555556: 2, 15.77777777777778: 2, 29.8: 2, 32.18333333333334: 2, 34.21111111111111: 2, 32.43333333333333: 2, -9.11111111111111: 2, -10.127777777777778: 2, 24.438888888888886: 2, 35.78888888888889: 2, 19.26666666666667: 2, -12.172222222222222: 2, 9.683333333333334: 2, -20.133333333333336: 2, 23.25: 2, 28.67777777777778: 2, 14.31666666666667: 2, 16.66111111111111: 2, 9.55: 2, 10.3: 2, -7.594444444444445: 2, 18.1: 2, 35.044444444444444: 2, -9.644444444444444: 2, 35.349999999999994: 2, 31.272222222222226: 2, -10.411111111111111: 2, 9.661111111111111: 2, 12.516666666666667: 2, 18.49444444444445: 2, 28.88888888888889: 2, 23.433333333333337: 2, 16.683333333333334: 2, 33.72222222222222: 2, -9.783333333333331: 2, 32.788888888888884: 2, 31.03333333333333: 2, -11.238888888888887: 2, 27.15: 2, -13.455555555555556: 2, 34.70555555555556: 2, 31.633333333333333: 2, -7.916666666666667: 2, 26.23888888888889: 2, 16.633333333333333: 2, -11.561111111111112: 2, -12.261111111111113: 2, -8.116666666666667: 2, 24.561111111111103: 2, -12.52777777777778: 2, -5.427777777777777: 2, 31.76666666666667: 2, 33.28888888888889: 2, -3.7222222222222223: 2, -8.922222222222224: 2, 36.016666666666666: 2, 34.48333333333333: 2, -6.427777777777778: 2, -21.66111111111111: 2, 21.677777777777774: 2, 35.72222222222222: 2, 30.4: 2, 30.355555555555554: 2, 30.88333333333334: 2, -15.255555555555556: 2, -8.383333333333333: 2, -10.97222222222222: 2, -11.522222222222224: 2, 29.88888888888889: 2, -6.483333333333334: 2, -8.894444444444442: 2, -9.244444444444444: 2, 15.68333333333333: 2, 32.016666666666666: 2, -6.877777777777776: 2, 24.53888888888889: 2, 16.827777777777776: 2, -11.65: 2, -5.811111111111112: 2, 33.86666666666666: 2, -9.022222222222224: 2, 25.73333333333333: 2, -13.866666666666667: 2, 21.772222222222226: 2, 36.76111111111111: 2, 8.366666666666667: 2, 10.63888888888889: 2, 31.116666666666667: 2, 25.55: 2, 20.311111111111117: 2, -9.083333333333334: 2, 14.483333333333333: 2, 8.1: 2, -5.455555555555556: 2, 24.494444444444447: 2, -7.972222222222222: 2, 31.99444444444445: 2, 9.855555555555558: 2, 32.550000000000004: 2, 29.544444444444448: 2, 36.36111111111112: 2, -11.422222222222224: 2, 30.477777777777774: 2, -8.827777777777778: 2, -7.672222222222222: 2, -11.261111111111113: 2, 33.83888888888888: 2, -9.88888888888889: 2, 32.96666666666667: 2, -7.783333333333335: 2, 26.705555555555552: 2, -9.488888888888887: 2, 26.405555555555555: 2, -6.411111111111111: 2, 29.850000000000005: 2, -6.722222222222223: 2, 30.99444444444445: 2, -20.78333333333333: 2, 31.6: 2, -7.588888888888889: 2, -11.172222222222222: 2, 33.08888888888889: 2, 32.91111111111111: 2, 20.688888888888886: 2, 9.47777777777778: 2, 15.238888888888887: 2, 9.944444444444445: 2, -12.655555555555557: 2, 33.166666666666664: 2, 30.71111111111111: 2, 31.43333333333333: 2, 32.42777777777778: 2, 23.33888888888889: 2, 25.75: 2, 34.43888888888889: 2, 20.244444444444444: 2, 36.62222222222223: 2, 8.372222222222222: 2, -7.388888888888889: 2, 21.39444444444445: 2, 30.84444444444444: 2, -11.97777777777778: 2, 32.95555555555555: 2, 30.81666666666667: 2, 33.55555555555556: 2, -9.794444444444444: 2, 29.26666666666667: 2, 28.994444444444444: 2, 33.5: 2, -10.52777777777778: 2, 25.35: 2, 31.466666666666665: 2, 15.755555555555556: 2, 30.544444444444448: 2, 34.42777777777778: 2, 35.0: 2, -11.194444444444445: 2, -5.038888888888889: 2, 33.01111111111111: 2, -10.772222222222222: 2, 21.472222222222225: 2, -9.86111111111111: 2, 26.922222222222217: 2, 29.694444444444443: 2, -8.916666666666666: 2, -10.58888888888889: 2, 31.955555555555552: 2, 25.222222222222225: 2, 9.5: 2, -11.683333333333334: 2, 22.977777777777774: 2, 36.22222222222222: 2, 26.58888888888889: 2, -7.277777777777778: 2, 25.58888888888889: 2, -4.53888888888889: 2, -4.544444444444444: 2, 33.88333333333333: 2, 11.31111111111111: 2, -10.144444444444442: 2, 21.261111111111106: 2, 28.86666666666666: 2, 13.394444444444444: 2, -8.033333333333335: 2, 13.233333333333333: 2, 34.37222222222223: 2, 34.21666666666667: 2, 30.95555555555556: 2, 14.57222222222222: 2, -14.583333333333334: 2, 26.65: 2, -6.594444444444445: 2, -9.833333333333334: 2, -14.016666666666667: 2, -12.933333333333334: 2, -15.61111111111111: 2, -5.733333333333333: 2, 24.13888888888889: 2, 29.80555555555556: 2, -8.172222222222224: 2, 29.922222222222224: 2, -9.038888888888888: 2, 33.583333333333336: 2, 30.172222222222224: 2, -9.516666666666667: 2, -6.361111111111111: 2, -10.094444444444443: 2, -9.261111111111113: 2, 24.172222222222224: 2, 32.03888888888889: 2, 30.944444444444443: 2, 21.244444444444444: 2, -9.8: 2, 24.08333333333333: 2, -7.799999999999999: 2, -9.17222222222222: 2, 12.144444444444444: 2, -10.166666666666666: 2, 30.67777777777778: 2, 33.14444444444444: 2, 35.17777777777778: 2, 9.705555555555556: 2, 31.577777777777783: 2, 9.161111111111111: 2, 8.216666666666665: 2, 24.416666666666668: 2, -8.483333333333333: 2, 32.22222222222222: 2, -10.122222222222222: 2, 18.183333333333337: 2, 23.50555555555556: 2, 21.80555555555556: 2, -12.95: 2, 32.23333333333333: 2, -10.177777777777775: 2, 30.52777777777778: 2, 31.05555555555556: 2, -7.794444444444445: 2, 13.477777777777776: 2, 20.25555555555555: 2, -13.11111111111111: 2, 36.6: 2, -10.572222222222225: 2, 10.22222222222222: 2, 30.26666666666667: 2, 26.861111111111107: 2, 11.744444444444444: 2, 34.855555555555554: 2, -14.0: 2, 26.76666666666667: 2, -9.533333333333331: 2, 21.63888888888889: 2, 8.511111111111111: 2, 9.255555555555553: 2, 24.283333333333328: 2, -8.972222222222221: 2, -12.188888888888888: 2, 25.12777777777778: 2, 34.13333333333333: 2, -13.066666666666666: 2, 32.77777777777778: 2, -12.216666666666669: 2, -8.961111111111112: 2, -11.355555555555554: 2, 9.22222222222222: 2, 34.11666666666666: 2, -10.755555555555556: 2, 24.08888888888889: 2, -5.916666666666666: 2, 31.877777777777776: 2, -12.166666666666666: 2, -6.23888888888889: 2, 32.67777777777778: 2, 20.300000000000004: 2, 23.649999999999995: 2, 34.19444444444444: 2, 8.599999999999998: 2, -9.13888888888889: 2, 23.35: 2, -13.633333333333333: 2, -10.311111111111112: 2, -6.566666666666666: 2, 29.64444444444445: 2, 31.22777777777777: 2, 33.37777777777777: 2, 13.488888888888887: 2, 10.772222222222222: 2, -15.744444444444444: 2, -10.905555555555557: 2, 33.388888888888886: 2, 28.772222222222226: 2, -7.194444444444445: 2, 11.383333333333336: 2, -5.21111111111111: 2, 28.05: 2, 30.87222222222222: 2, -19.72777777777777: 2, 23.39444444444445: 2, -8.866666666666667: 2, -10.961111111111112: 2, -9.788888888888888: 2, 24.60555555555556: 2, 23.477777777777774: 2, 9.41111111111111: 2, -6.327777777777778: 2, 16.772222222222222: 2, 29.21111111111111: 2, 15.77222222222222: 2, -8.522222222222222: 2, -8.572222222222223: 2, 34.25555555555555: 2, 9.216666666666669: 2, -7.527777777777778: 2, 28.63333333333334: 2, 25.216666666666665: 2, 36.29444444444445: 2, -8.7: 2, 30.55555555555556: 2, 30.39444444444444: 2, 21.794444444444448: 2, -11.91111111111111: 2, -13.416666666666666: 2, -10.711111111111112: 2, 24.222222222222214: 2, 32.34444444444445: 2, -10.344444444444443: 2, 21.65555555555556: 2, -10.044444444444444: 2, 32.58888888888888: 2, 11.400000000000002: 2, 20.383333333333333: 2, 32.083333333333336: 2, -21.14444444444445: 2, 33.18333333333334: 2, -9.666666666666666: 2, -22.73888888888889: 2, 29.97222222222222: 2, 25.46111111111111: 2, 31.311111111111117: 2, 30.783333333333328: 2, 29.60555555555556: 2, -16.13888888888889: 2, 29.577777777777776: 2, -4.761111111111111: 2, 19.62222222222222: 2, -15.983333333333333: 2, 33.327777777777776: 2, 29.70555555555556: 2, -9.394444444444444: 2, 29.944444444444443: 2, 31.738888888888887: 2, -14.494444444444444: 2, -8.8: 2, -7.888888888888889: 2, 34.28888888888889: 2, 18.205555555555552: 2, -10.6: 2, 25.65555555555556: 2, 23.072222222222223: 2, -10.683333333333334: 2, 34.46666666666667: 2, 33.11666666666667: 2, 32.95: 2, 32.37777777777777: 2, 31.338888888888885: 2, -10.172222222222224: 2, 20.78333333333333: 2, -12.544444444444444: 2, -11.927777777777775: 2, 30.36666666666666: 2, 8.033333333333335: 2, 33.36666666666667: 2, 34.97222222222222: 2, 30.466666666666672: 2, 35.47222222222222: 2, -8.583333333333334: 2, -9.127777777777778: 2, -12.4: 2, -20.82777777777778: 2, -10.05: 2, -11.105555555555558: 2, -10.511111111111113: 2, 31.011111111111106: 2, -11.961111111111112: 2, -6.188888888888889: 2, -9.41111111111111: 2, -4.316666666666666: 2, 29.05555555555556: 2, 9.061111111111112: 2, 31.72222222222222: 2, 33.15555555555556: 2, 35.766666666666666: 2, 24.15555555555556: 2, -9.305555555555555: 2, 11.81111111111111: 2, -11.55: 2, 33.81111111111111: 2, 26.58333333333333: 2, -11.333333333333334: 2, 35.97222222222222: 2, 32.82222222222222: 2, 33.45555555555556: 2, 25.366666666666664: 2, -12.238888888888887: 2, 30.216666666666665: 2, -8.455555555555556: 2, -9.961111111111112: 2, 8.433333333333334: 2, 31.244444444444444: 2, 30.188888888888894: 2, 28.311111111111103: 2, 32.13333333333334: 2, -10.477777777777778: 2, -8.755555555555556: 2, 32.916666666666664: 2, 36.46666666666667: 2, -10.72222222222222: 2, 31.14444444444445: 2, 31.422222222222224: 2, 30.90555555555555: 2, -10.933333333333334: 2, 11.81666666666667: 2, -11.31111111111111: 2, 32.52777777777778: 2, -8.038888888888888: 2, 35.47777777777778: 2, 24.422222222222217: 2, 33.66111111111112: 2, 32.97222222222222: 2, -11.116666666666664: 2, 25.372222222222224: 2, 33.988888888888894: 2, 36.5: 2, -8.527777777777779: 2, -8.266666666666666: 2, 18.58333333333333: 2, 32.6: 2, -10.677777777777775: 2, -9.988888888888887: 2, -11.63888888888889: 2, 9.461111111111112: 2, 9.266666666666667: 2, 25.22777777777777: 2, 31.22222222222222: 2, -7.272222222222222: 2, 30.53888888888889: 2, -6.083333333333333: 2, 31.25: 2, -11.22777777777778: 2, 34.27222222222222: 2, 19.40555555555556: 2, 9.605555555555554: 2, 18.50555555555556: 2, 25.055555555555557: 2, 32.10555555555556: 2, 32.09444444444444: 2, 13.211111111111112: 2, -13.788888888888888: 2, 33.17222222222222: 2, -9.316666666666666: 2, 31.261111111111106: 2, 30.97222222222222: 2, -10.11111111111111: 2, -7.966666666666667: 2, -9.511111111111113: 2, -8.63888888888889: 2, -10.338888888888889: 2, -12.344444444444443: 2, -10.705555555555556: 2, 30.14444444444445: 2, -10.22222222222222: 2, -10.983333333333333: 2, -12.383333333333333: 2, 24.67777777777778: 2, 19.15555555555556: 2, 29.516666666666666: 2, 32.272222222222226: 2, 33.29444444444445: 2, 36.477777777777774: 2, 20.4: 2, 32.45555555555556: 2, 26.427777777777774: 2, -9.216666666666669: 2, 19.58888888888889: 2, 13.08888888888889: 2, 29.75: 2, 31.444444444444443: 2, 34.71666666666667: 2, -16.799999999999997: 2, 8.166666666666668: 2, -8.555555555555555: 2, 24.33333333333333: 2, 26.538888888888884: 2, -11.016666666666666: 2, -9.744444444444444: 2, 35.2: 2, -9.283333333333337: 2, -12.094444444444443: 2, 23.52777777777777: 2, 25.20555555555556: 2, -9.844444444444443: 2, 36.227777777777774: 2, 31.188888888888886: 2, 31.666666666666668: 2, -6.66111111111111: 2, -5.016666666666668: 2, -15.033333333333331: 2, 23.55555555555556: 2, 31.216666666666665: 2, 29.272222222222226: 2, 19.272222222222226: 2, -10.5: 2, 13.044444444444444: 2, -13.050000000000002: 2, -9.561111111111112: 2, 32.89444444444444: 2, 9.772222222222224: 2, -7.416666666666667: 2, 33.21111111111111: 2, 32.45: 2, 28.93333333333333: 2, 32.04444444444445: 2, -12.866666666666667: 2, -7.216666666666665: 2, 34.67222222222222: 2, -10.238888888888887: 2, 18.294444444444448: 2, 21.427777777777774: 2, -15.816666666666666: 2, 9.872222222222224: 2, 26.311111111111117: 2, 11.661111111111111: 2, -10.550000000000002: 2, 30.533333333333328: 2, 32.522222222222226: 2, 34.8: 2, 33.05: 2, 32.44444444444444: 2, -8.244444444444445: 2, -10.538888888888888: 2, -17.744444444444447: 2, 11.75: 2, 31.82222222222222: 2, 8.399999999999999: 2, 25.694444444444443: 2, -5.188888888888889: 2, 31.399999999999995: 2, -8.516666666666666: 2, 9.594444444444449: 2, 15.52222222222222: 2, 25.383333333333333: 2, 20.361111111111114: 2, 33.25: 2, 33.37222222222222: 2, -8.672222222222222: 2, 29.50555555555556: 2, 36.93333333333334: 2, 33.68888888888889: 2, 31.39444444444445: 2, 13.633333333333333: 2, 21.811111111111117: 2, -13.294444444444444: 2, 8.655555555555555: 2, 34.17777777777778: 2, -10.377777777777778: 2, 14.67777777777778: 2, 33.57222222222222: 2, 31.57222222222222: 2, 22.37222222222222: 2, 34.07222222222222: 2, 21.522222222222226: 2, 28.205555555555552: 2, 9.77777777777778: 2, 19.65: 2, 11.516666666666664: 2, 32.68333333333333: 2, 20.58888888888889: 2, -8.605555555555554: 2, 29.98888888888889: 2, -9.27222222222222: 2, 32.76666666666667: 2, -10.4: 2, 29.49444444444445: 2, 34.06666666666666: 2, 23.61111111111111: 2, 13.511111111111113: 2, 9.894444444444446: 2, 35.32777777777778: 2, 21.633333333333333: 2, 24.522222222222226: 2, 32.83888888888889: 2, 33.96111111111111: 2, 31.77777777777778: 2, -7.188888888888889: 2, -9.044444444444444: 2, -6.383333333333332: 2, 35.79444444444445: 2, 34.34444444444444: 2, -12.17777777777778: 2, 22.944444444444443: 2, -2.377777777777778: 2, 9.922222222222222: 2, 22.41111111111111: 2, -7.827777777777778: 2, 28.73888888888889: 2, 9.494444444444447: 2, -10.45: 2, 14.616666666666667: 2, 15.455555555555556: 2, -12.894444444444446: 2, -16.311111111111114: 2, 32.88333333333333: 2, -11.627777777777778: 2, -9.38888888888889: 2, -9.588888888888889: 2, -8.016666666666667: 2, 32.511111111111106: 2, -10.433333333333334: 2, 35.53333333333333: 2, -11.433333333333332: 2, 23.09444444444444: 2, -8.81111111111111: 2, 24.066666666666663: 2, -8.56111111111111: 2, 30.372222222222224: 2, -10.38888888888889: 2, -7.33888888888889: 2, 34.08888888888889: 2, -6.616666666666666: 2, 25.633333333333333: 2, -7.76111111111111: 2, -13.316666666666666: 2, 28.63888888888889: 2, 34.67777777777778: 2, 9.105555555555556: 2, 26.51111111111111: 2, -11.505555555555556: 2, 34.41111111111111: 2, -12.116666666666667: 2, 36.18333333333333: 2, -9.97222222222222: 2, 31.438888888888894: 2, 28.938888888888894: 2, 33.47222222222222: 2, 23.600000000000005: 2, -7.505555555555556: 2, -12.766666666666667: 2, -8.505555555555555: 2, -5.966666666666665: 2, 9.38888888888889: 2, 16.788888888888888: 2, -11.822222222222225: 2, -5.722222222222222: 2, 20.133333333333333: 2, 9.67222222222222: 2, -14.288888888888888: 1, -10.405555555555557: 1, -13.61111111111111: 1, 31.45555555555556: 1, -15.061111111111112: 1, 34.138888888888886: 1, -9.805555555555555: 1, -11.094444444444443: 1, 9.300000000000002: 1, -11.788888888888888: 1, 35.92222222222222: 1, -18.855555555555554: 1, -7.050000000000001: 1, 24.427777777777777: 1, -14.550000000000002: 1, 23.188888888888886: 1, 33.544444444444444: 1, -17.85: 1, 14.588888888888889: 1, 23.45555555555556: 1, -11.477777777777778: 1, -9.322222222222225: 1, -18.20555555555556: 1, 18.48888888888889: 1, 9.65: 1, 35.050000000000004: 1, 33.23888888888889: 1, -12.727777777777778: 1, 34.62777777777777: 1, -16.77777777777778: 1, -17.005555555555556: 1, 35.166666666666664: 1, -17.216666666666665: 1, 9.716666666666669: 1, 35.4388888888889: 1, -6.588888888888889: 1, -7.833333333333333: 1, 31.89444444444444: 1, 30.78888888888889: 1, 32.03333333333333: 1, -14.022222222222224: 1, -13.16111111111111: 1, -14.86111111111111: 1, 26.261111111111106: 1, -11.011111111111113: 1, -11.75: 1, 37.41111111111112: 1, -12.911111111111111: 1, -14.85: 1, 25.26666666666667: 1, 35.49444444444444: 1, 37.91666666666666: 1, 9.294444444444444: 1, -11.05: 1, -11.533333333333331: 1, 34.888888888888886: 1, -20.149999999999995: 1, -18.86111111111111: 1, -15.77222222222222: 1, -21.41111111111111: 1, -10.822222222222225: 1, 8.06111111111111: 1, -15.11111111111111: 1, 30.98333333333333: 1, 32.55555555555556: 1, 37.03888888888889: 1, 23.038888888888888: 1, 36.333333333333336: 1, 31.5: 1, 9.066666666666666: 1, -17.294444444444444: 1, -17.933333333333334: 1, -10.733333333333333: 1, 31.416666666666668: 1, 9.633333333333336: 1, -20.55555555555556: 1, 35.638888888888886: 1, -11.41111111111111: 1, -14.6: 1, 27.938888888888894: 1, -9.733333333333333: 1, 34.833333333333336: 1, -11.555555555555555: 1, 31.266666666666666: 1, -10.944444444444445: 1, 35.56666666666666: 1, -13.477777777777776: 1, -13.333333333333334: 1, -16.1: 1, -10.92777777777778: 1, 18.15555555555556: 1, 33.349999999999994: 1, -19.427777777777777: 1, 23.266666666666666: 1, 32.888888888888886: 1, 33.10555555555556: 1, 36.11666666666667: 1, -14.744444444444444: 1, 32.98888888888889: 1, -9.933333333333334: 1, -11.583333333333334: 1, 25.766666666666666: 1, 35.11666666666666: 1, 26.566666666666663: 1, 25.683333333333337: 1, -10.15: 1, 35.74444444444445: 1, -12.7: 1, -15.655555555555557: 1, -8.761111111111111: 1, 35.28333333333333: 1, 36.31666666666667: 1, 32.56111111111111: 1, -11.52777777777778: 1, 29.455555555555552: 1, -15.977777777777776: 1, -11.15: 1, 32.666666666666664: 1, -15.38888888888889: 1, -7.25: 1, -9.772222222222222: 1, 34.28333333333333: 1, 36.56666666666666: 1, -13.005555555555556: 1, 33.01666666666667: 1, 35.8111111111111: 1, 25.433333333333334: 1, 29.42777777777778: 1, 35.06111111111111: 1, 36.52777777777778: 1, -11.566666666666666: 1, 35.68333333333334: 1, 34.73333333333333: 1, -5.499999999999999: 1, -12.36111111111111: 1, 28.95555555555556: 1, 8.16111111111111: 1, 36.35: 1, -19.07777777777778: 1, -10.872222222222222: 1, 20.40555555555556: 1, -11.86111111111111: 1, 35.599999999999994: 1, 34.93888888888889: 1, -10.77777777777778: 1, -16.438888888888886: 1, 10.766666666666667: 1, 32.3: 1, 32.65555555555555: 1, -16.333333333333332: 1, -9.522222222222222: 1, -13.694444444444445: 1, 30.47222222222222: 1, -5.416666666666667: 1, -11.244444444444447: 1, 25.32777777777778: 1, 32.33888888888888: 1, -18.577777777777776: 1, -14.2: 1, 25.538888888888888: 1, -12.288888888888888: 1, -7.333333333333333: 1, -16.755555555555556: 1, -23.266666666666666: 1, -20.65: 1, -18.42777777777778: 1, 35.7: 1, 36.75555555555555: 1, 26.39444444444445: 1, 25.638888888888893: 1, -13.65: 1, -8.238888888888887: 1, 31.47777777777777: 1, 24.40555555555556: 1, 35.00555555555556: 1, 33.266666666666666: 1, 28.616666666666667: 1, 31.933333333333337: 1, -17.32777777777778: 1, -11.06111111111111: 1, -14.427777777777775: 1, 35.73888888888889: 1, -10.333333333333334: 1, -12.738888888888887: 1, 34.09444444444445: 1, 23.53888888888889: 1, 37.88333333333333: 1, -12.088888888888889: 1, -11.83888888888889: 1, -14.761111111111113: 1, 23.10555555555556: 1, 9.93888888888889: 1, -14.11111111111111: 1, -12.022222222222222: 1, 25.300000000000004: 1, -12.416666666666666: 1, -18.14444444444444: 1, 37.12777777777777: 1, 9.622222222222222: 1, -14.27777777777778: 1, -13.083333333333334: 1, 32.333333333333336: 1, 35.32222222222222: 1, -15.394444444444446: 1, -13.15: 1, -15.205555555555556: 1, 34.599999999999994: 1, 34.60555555555556: 1, 16.305555555555557: 1, 34.90555555555555: 1, 25.566666666666663: 1, 29.23333333333333: 1, 37.07222222222222: 1, -8.377777777777776: 1, -12.877777777777778: 1, -11.427777777777775: 1, 34.2: 1, 33.727777777777774: 1, -23.616666666666664: 1, 38.66111111111112: 1, -13.45: 1, -15.666666666666666: 1, -13.433333333333334: 1, 33.99444444444444: 1, 36.09444444444445: 1, 31.811111111111117: 1, 32.80555555555556: 1, -12.011111111111113: 1, 33.099999999999994: 1, 37.78333333333333: 1, -10.605555555555556: 1, -13.966666666666669: 1, 30.622222222222224: 1, 36.30555555555556: 1, -12.955555555555556: 1, 34.038888888888884: 1, -7.96111111111111: 1, 34.650000000000006: 1, 32.22777777777778: 1, 35.416666666666664: 1, 36.105555555555554: 1, -12.061111111111112: 1, 36.51666666666667: 1, 37.11111111111112: 1, 29.938888888888886: 1, -13.127777777777778: 1, -18.827777777777776: 1, -13.505555555555556: 1, 32.20555555555556: 1, 31.700000000000003: 1, 9.15: 1, -12.627777777777778: 1, -14.933333333333334: 1, 32.861111111111114: 1, -10.261111111111113: 1, 33.09444444444444: 1, 35.59444444444444: 1, 31.938888888888886: 1, -13.672222222222222: 1, 33.61666666666667: 1, 29.738888888888887: 1, -10.938888888888888: 1, -11.27222222222222: 1, 21.816666666666663: 1, -14.02777777777778: 1, 35.22222222222222: 1, 9.849999999999998: 1, 25.4: 1, -15.266666666666667: 1, -12.927777777777775: 1, 35.333333333333336: 1, -8.088888888888889: 1, 31.29444444444444: 1, 35.94444444444444: 1, -16.855555555555554: 1, -10.077777777777778: 1, 28.899999999999995: 1, -12.811111111111112: 1, 33.95555555555556: 1, 32.02222222222222: 1, 25.149999999999995: 1, 25.28333333333333: 1, -12.644444444444442: 1, 36.63333333333333: 1, 24.294444444444448: 1, -8.783333333333333: 1, -16.29444444444444: 1, 31.25555555555556: 1, -11.577777777777778: 1, -14.322222222222225: 1, -8.077777777777776: 1, -11.744444444444444: 1, 9.655555555555557: 1, -13.666666666666666: 1, 25.500000000000004: 1, -8.68888888888889: 1, -10.033333333333337: 1, -18.79444444444444: 1, 33.84444444444445: 1, 8.32777777777778: 1, 34.983333333333334: 1, 9.9: 1, -10.838888888888889: 1, -6.266666666666668: 1, -8.061111111111112: 1, -16.61111111111111: 1, 9.133333333333333: 1, -8.75: 1, 36.38333333333333: 1, -10.61111111111111: 1, 37.083333333333336: 1, 34.95: 1, -9.416666666666666: 1, 33.27222222222222: 1, -14.1: 1, -11.755555555555556: 1, -11.344444444444443: 1, 30.58333333333333: 1, 25.72222222222222: 1, -11.461111111111112: 1, 34.31666666666666: 1, -11.738888888888887: 1, -17.072222222222223: 1, 24.572222222222223: 1, -16.577777777777776: 1, -20.35: 1, 31.50555555555555: 1, -15.466666666666663: 1, 34.24444444444444: 1, 25.622222222222224: 1, 33.888888888888886: 1, 9.31111111111111: 1, -15.5: 1, 29.372222222222224: 1, 13.077777777777776: 1, -12.944444444444445: 1, 34.333333333333336: 1, -16.0: 1, -11.444444444444445: 1, -7.816666666666666: 1, -6.911111111111111: 1, -14.133333333333333: 1, -15.105555555555558: 1, 26.822222222222223: 1, 9.616666666666667: 1, -10.105555555555554: 1, 9.166666666666666: 1, -12.422222222222222: 1, -9.155555555555557: 1, 32.672222222222224: 1, -14.633333333333333: 1, -18.51111111111111: 1, 34.51111111111111: 1, -16.63888888888889: 1, 24.544444444444448: 1, -11.166666666666666: 1, -12.555555555555555: 1, 24.65555555555555: 1, -21.77777777777778: 1, 32.00555555555556: 1, -15.038888888888888: 1, -18.47222222222222: 1, -14.349999999999998: 1, -15.822222222222225: 1, 36.95: 1, 33.38333333333334: 1, -7.877777777777778: 1, -13.927777777777775: 1, -23.13888888888889: 1, 20.772222222222226: 1, 34.72777777777778: 1, 31.977777777777774: 1, 8.644444444444446: 1, 36.03333333333333: 1, -14.333333333333334: 1, -10.594444444444443: 1, -8.144444444444444: 1, -15.622222222222222: 1, -13.466666666666669: 1, 20.149999999999995: 1, -21.977777777777774: 1, -11.022222222222222: 1, 36.488888888888894: 1, -18.88888888888889: 1, 33.06666666666666: 1, 29.811111111111103: 1, -20.022222222222226: 1, -17.82777777777778: 1, 31.827777777777783: 1, 35.583333333333336: 1, 23.322222222222223: 1, -12.96111111111111: 1, 25.738888888888887: 1, 23.34444444444444: 1, -25.072222222222223: 1, 25.422222222222224: 1, 35.03333333333333: 1, -6.783333333333334: 1, 29.55: 1, -12.92222222222222: 1, 27.98333333333333: 1, -1.9222222222222227: 1, 35.70555555555555: 1, -21.922222222222224: 1, -20.005555555555556: 1, 36.8: 1, -16.322222222222223: 1, -10.016666666666667: 1, 25.59444444444444: 1, 28.688888888888886: 1, 35.12777777777778: 1, -19.05: 1, 29.52777777777778: 1, -7.944444444444445: 1, -6.71111111111111: 1, 15.288888888888891: 1, 33.12777777777777: 1, -17.950000000000003: 1, -13.583333333333334: 1, 29.899999999999995: 1, -9.483333333333333: 1, 33.16111111111111: 1, 30.27777777777778: 1, -11.866666666666667: 1, -8.666666666666666: 1, -14.25: 1, 35.39444444444444: 1, 35.24444444444444: 1, -8.472222222222221: 1, 32.74444444444444: 1, 9.33888888888889: 1, -17.705555555555556: 1, -11.955555555555556: 1, 32.08888888888889: 1, -14.77222222222222: 1, 24.461111111111112: 1, 37.6: 1, -13.22222222222222: 1, 25.66111111111111: 1, 36.46111111111111: 1, 11.77222222222222: 1, -10.85: 1, -14.166666666666666: 1, -16.977777777777774: 1, 34.5: 1, -12.327777777777776: 1, -20.355555555555554: 1, 32.355555555555554: 1, 35.15555555555555: 1, -6.488888888888889: 1, 31.300000000000004: 1, -13.055555555555555: 1, -6.4944444444444445: 1, -12.538888888888888: 1, 33.861111111111114: 1, 31.53333333333333: 1, 37.94444444444444: 1, 14.52777777777778: 1, 34.827777777777776: 1, 37.09444444444444: 1, 15.677777777777775: 1, 16.705555555555556: 1, 35.64444444444444: 1, -13.533333333333331: 1, 23.377777777777776: 1, 35.67222222222222: 1, -16.938888888888886: 1, 36.172222222222224: 1, 35.916666666666664: 1, -10.744444444444444: 1, 37.26111111111111: 1, -17.133333333333333: 1, -16.405555555555555: 1, 34.577777777777776: 1, -13.983333333333334: 1, 24.361111111111107: 1, 36.03888888888889: 1, -16.33888888888889: 1, 35.849999999999994: 1, 33.6: 1, 36.355555555555554: 1, -11.816666666666666: 1, 33.922222222222224: 1, -7.694444444444445: 1, 33.25555555555556: 1, -10.2: 1, 36.0611111111111: 1, 34.69444444444444: 1, -12.494444444444447: 1, 19.388888888888893: 1, -6.472222222222221: 1, -12.43888888888889: 1, -11.905555555555557: 1, 32.19444444444444: 1, -8.58888888888889: 1, -19.77777777777778: 1, -13.255555555555556: 1, -5.449999999999999: 1, 33.7: 1, -21.55555555555556: 1, 30.66111111111111: 1, 9.727777777777776: 1, 25.316666666666663: 1, 14.65: 1, -12.31111111111111: 1, 32.583333333333336: 1, -18.788888888888888: 1, -16.116666666666664: 1, 32.544444444444444: 1, 35.1888888888889: 1, -6.838888888888889: 1, -11.716666666666669: 1, -9.766666666666666: 1, 18.08333333333333: 1, 32.144444444444446: 1, 18.605555555555554: 1, 33.67777777777778: 1, -7.71111111111111: 1, -10.716666666666663: 1, 25.427777777777774: 1, 33.87777777777778: 1, 34.16111111111111: 1, -25.200000000000003: 1, -14.088888888888889: 1, -10.005555555555553: 1, -11.61111111111111: 1, 36.70555555555555: 1, 36.583333333333336: 1, -21.15555555555555: 1, -10.455555555555556: 1, -17.016666666666666: 1, 33.71666666666667: 1, -8.777777777777779: 1, 34.25: 1, -17.26111111111111: 1, 26.355555555555554: 1, -9.65: 1, 11.822222222222225: 1, -12.705555555555556: 1, -13.77222222222222: 1, -9.67777777777778: 1, -9.605555555555554: 1, -14.216666666666669: 1, -10.16111111111111: 1, 31.75: 1, 24.01666666666667: 1, 37.11666666666667: 1, -6.416666666666667: 1, -13.72777777777778: 1, -13.155555555555557: 1, -16.5: 1, 29.911111111111115: 1, -17.033333333333335: 1, -8.227777777777778: 1, -13.85: 1, -12.35: 1, 9.6: 1, 28.761111111111106: 1, -11.372222222222222: 1, 33.43333333333334: 1, -22.96666666666667: 1, -18.11111111111111: 1, -14.038888888888888: 1, 36.83888888888889: 1, -15.13888888888889: 1, -12.883333333333333: 1, 36.12222222222222: 1, -9.855555555555558: 1, 34.86666666666667: 1, 35.86666666666667: 1, -15.083333333333334: 1, 24.33888888888889: 1, 29.78333333333333: 1, -10.18888888888889: 1, 34.35555555555556: 1, 9.122222222222224: 1, 23.58333333333333: 1, 25.40555555555556: 1, 31.016666666666666: 1, -21.48333333333333: 1, -11.072222222222225: 1, 32.53333333333333: 1, 9.511111111111113: 1, 24.433333333333337: 1, -10.505555555555556: 1, -9.9: 1, 33.833333333333336: 1, 13.56111111111111: 1, -19.02777777777778: 1, -9.916666666666666: 1, 25.98333333333333: 1, -10.211111111111112: 1, -17.46666666666667: 1, -9.405555555555557: 1, 35.92777777777778: 1, 24.244444444444444: 1, 32.46666666666667: 1, -17.1: 1, 29.244444444444444: 1, 32.97777777777778: 1, -15.72222222222222: 1, 37.17222222222222: 1, -18.97777777777777: 1, -9.1: 1, 33.577777777777776: 1, 36.66666666666666: 1, -17.67222222222222: 1, 34.84444444444445: 1, -17.583333333333332: 1, 31.91111111111111: 1, 9.43333333333333: 1, -18.316666666666663: 1, 33.13333333333333: 1, -15.433333333333334: 1, 32.63333333333333: 1, -10.438888888888888: 1, -12.133333333333333: 1, -8.38888888888889: 1, 24.383333333333333: 1, 36.56111111111111: 1, 37.01111111111111: 1, -20.96666666666667: 1, 35.42777777777778: 1, 14.666666666666666: 1, -14.88888888888889: 1, 37.150000000000006: 1, -12.72222222222222: 1, 37.22777777777778: 1, 33.71111111111112: 1, -13.32777777777778: 1, 34.03333333333333: 1, -16.416666666666668: 1, 36.57777777777778: 1, 25.716666666666672: 1, 35.77222222222222: 1, 26.5: 1, 33.87222222222223: 1, 9.561111111111112: 1, 14.300000000000002: 1, 23.116666666666667: 1, -12.461111111111112: 1, -13.5: 1, 32.0: 1, 32.43888888888889: 1, -14.8: 1, 35.93333333333334: 1, 29.477777777777774: 1, -17.977777777777778: 1, 34.95555555555556: 1, 34.62222222222222: 1, 34.27777777777778: 1, 34.53888888888889: 1, -9.622222222222222: 1, 36.06666666666667: 1, 34.105555555555554: 1, 31.30555555555556: 1, -10.35: 1, 26.59444444444445: 1, -19.63888888888889: 1, 36.85555555555556: 1, 34.46111111111111: 1, 36.394444444444446: 1, -7.933333333333334: 1, -21.194444444444443: 1, -11.644444444444446: 1, 34.922222222222224: 1, -10.894444444444444: 1, -12.744444444444444: 1, -12.577777777777778: 1, 35.077777777777776: 1, 33.04444444444445: 1, -11.36111111111111: 1, -14.588888888888889: 1, -23.866666666666667: 1, 31.538888888888884: 1, -10.738888888888887: 1, -10.922222222222222: 1, 34.82222222222222: 1, -11.077777777777776: 1, 31.9: 1, 26.194444444444446: 1, -14.97777777777778: 1, 24.288888888888888: 1, 34.20555555555555: 1, -10.42222222222222: 1, -22.09444444444444: 1, 32.611111111111114: 1, 33.62777777777777: 1, 31.38888888888889: 1, 36.93888888888889: 1, 36.82222222222222: 1, 32.65: 1, 32.50555555555556: 1, -13.172222222222224: 1, -12.616666666666667: 1, 30.916666666666668: 1, -14.177777777777775: 1, -22.072222222222223: 1, 25.6: 1, 35.111111111111114: 1, -17.272222222222222: 1, 33.44444444444444: 1, 30.22777777777777: 1, -12.155555555555557: 1, 13.094444444444443: 1, -16.616666666666667: 1, 33.42777777777778: 1, -14.9: 1, 29.827777777777776: 1, -18.405555555555555: 1, 23.4: 1, -12.938888888888888: 1, 34.1888888888889: 1, 9.877777777777778: 1, -14.17222222222222: 1, 36.73888888888889: 1, -13.683333333333332: 1, 32.394444444444446: 1, 18.3: 1, 34.68888888888889: 1, -10.88888888888889: 1, 32.638888888888886: 1, -10.68888888888889: 1, 28.01666666666667: 1, 29.316666666666663: 1, 31.83888888888889: 1, 35.72777777777778: 1, 26.37222222222222: 1, 35.300000000000004: 1, 20.505555555555556: 1, 25.32222222222222: 1, -17.077777777777776: 1, 25.616666666666667: 1, 33.97222222222222: 1, 32.6888888888889: 1, -10.72777777777778: 1, 34.23888888888889: 1, 28.33888888888889: 1, 34.638888888888886: 1, 30.866666666666667: 1, -12.694444444444445: 1, -19.744444444444444: 1, 30.89444444444445: 1, 30.450000000000003: 1, 24.511111111111116: 1, -11.855555555555556: 1, -8.355555555555554: 1, 23.605555555555554: 1, -24.166666666666668: 1, 32.17222222222222: 1, 32.644444444444446: 1, 34.12222222222223: 1, -15.694444444444445: 1, 33.22777777777778: 1, -15.63888888888889: 1, -10.488888888888887: 1, 18.577777777777776: 1, 13.516666666666666: 1, -9.694444444444445: 1, 35.41111111111111: 1, 30.65: 1, -20.64444444444444: 1, -12.983333333333333: 1, 36.11111111111112: 1, -8.644444444444444: 1, -14.055555555555555: 1, 25.488888888888887: 1, 35.95555555555556: 1, -12.844444444444443: 1, -10.877777777777776: 1, -13.038888888888888: 1, 13.416666666666666: 1, 32.516666666666666: 1, 30.494444444444444: 1, -10.866666666666667: 1, 30.48333333333333: 1, 39.34444444444444: 1, -10.783333333333331: 1, 30.72222222222222: 1, 26.37777777777778: 1, -21.399999999999995: 1, 29.79444444444444: 1, 37.19444444444444: 1, 24.03333333333333: 1, -16.66111111111111: 1, 36.32222222222222: 1, 37.77222222222222: 1, -20.78888888888889: 1, -9.122222222222224: 1, -12.244444444444444: 1, 9.805555555555555: 1, -10.627777777777778: 1, 24.183333333333334: 1, 36.59444444444445: 1, -10.699999999999998: 1, 35.888888888888886: 1, 32.983333333333334: 1, -12.227777777777776: 1, 36.4: 1, 32.3111111111111: 1, -13.405555555555557: 1, 15.63888888888889: 1, -12.633333333333336: 1, 34.33888888888889: 1, 9.483333333333333: 1, 22.90555555555556: 1, 25.494444444444444: 1, 36.26111111111111: 1, -10.516666666666667: 1, 36.96111111111111: 1, 34.233333333333334: 1, 32.28888888888889: 1, 35.13333333333333: 1, 24.55555555555556: 1, -16.455555555555556: 1, 34.516666666666666: 1, -12.827777777777778: 1, 23.516666666666666: 1, 34.29444444444445: 1, -17.92222222222222: 1, -15.511111111111113: 1, 34.54444444444445: 1, 36.69444444444444: 1, 26.172222222222224: 1, 32.71666666666667: 1, 34.32777777777778: 1, 24.366666666666667: 1, -11.97222222222222: 1, 35.16111111111112: 1, -9.955555555555556: 1, -6.799999999999999: 1, 34.85: 1, -9.177777777777775: 1, 38.11666666666667: 1, -20.18333333333333: 1, -20.12222222222222: 1, 37.46111111111112: 1, -13.02222222222222: 1, 25.166666666666668: 1, -12.211111111111112: 1, -11.949999999999998: 1, 37.99444444444444: 1, -21.81111111111111: 1, 19.438888888888886: 1, -12.405555555555557: 1, -10.233333333333334: 1, -11.47222222222222: 1, -13.072222222222225: 1, 30.9: 1, -13.905555555555557: 1, 36.25555555555556: 1, 23.261111111111116: 1, 29.63333333333334: 1, 9.827777777777776: 1, 25.23888888888889: 1, -11.35: 1, -13.555555555555555: 1, 33.91111111111112: 1, 21.450000000000003: 1, 36.833333333333336: 1, 35.27222222222222: 1, 35.76111111111111: 1, 30.25: 1, -17.355555555555554: 1, 35.52777777777778: 1, 30.700000000000003: 1, 37.54444444444445: 1, -17.82222222222222: 1, 30.316666666666663: 1, 25.577777777777783: 1, -13.838888888888889: 1, 34.26111111111111: 1, 9.694444444444446: 1, 37.71666666666667: 1, 35.46111111111111: 1, -17.944444444444443: 1, -21.75: 1, 35.93888888888889: 1, 31.716666666666672: 1, -14.47222222222222: 1, 16.383333333333336: 1, 33.59444444444445: 1, -11.266666666666667: 1, 35.55: 1, -9.97777777777778: 1, 36.80555555555556: 1, 31.149999999999995: 1, -14.68888888888889: 1, -12.716666666666669: 1, 31.950000000000003: 1, -10.283333333333331: 1, 24.205555555555552: 1, 35.37222222222223: 1, -15.355555555555554: 1, -14.305555555555555: 1, -14.755555555555553: 1, -9.300000000000002: 1, -10.816666666666666: 1, -11.622222222222224: 1, -15.455555555555556: 1, -16.666666666666668: 1, 23.066666666666663: 1, 25.64444444444444: 1, 20.544444444444448: 1, -15.86111111111111: 1, 19.250000000000004: 1, 26.6: 1, 9.52777777777778: 1, 33.916666666666664: 1, 33.522222222222226: 1, 33.30555555555556: 1, -10.244444444444444: 1, 35.26666666666667: 1, -11.6: 1, 33.516666666666666: 1, -12.533333333333337: 1, 19.08333333333333: 1, 23.23333333333333: 1, 32.92777777777778: 1, 36.85: 1, -19.961111111111112: 1, 30.566666666666663: 1, -16.811111111111114: 1, 33.083333333333336: 1, 30.96111111111112: 1, 24.35: 1, -16.005555555555553: 1, 24.316666666666663: 1, 34.87222222222222: 1, -10.533333333333337: 1, 32.76111111111111: 1, 9.455555555555556: 1, -13.577777777777778: 1, 34.45555555555555: 1, -9.6: 1, -26.227777777777774: 1, -12.916666666666666: 1, 36.388888888888886: 1, 32.577777777777776: 1, -11.666666666666666: 1, -11.3: 1, -14.994444444444447: 1, -11.2: 1, 36.75: 1, 31.022222222222226: 1, 34.47222222222222: 1, -10.583333333333334: 1, 34.00555555555555: 1, -10.761111111111113: 1, -9.572222222222225: 1, 32.28333333333333: 1, -10.011111111111113: 1, 35.355555555555554: 1, -13.122222222222222: 1, 36.91666666666666: 1, 31.0: 1, 9.449999999999998: 1, 33.983333333333334: 1, 32.077777777777776: 1, -8.738888888888889: 1, 37.18888888888889: 1, 36.74444444444444: 1, -12.711111111111112: 1, 32.57222222222222: 1, 34.26666666666667: 1, -14.044444444444444: 1, -10.86111111111111: 1, -11.494444444444444: 1, -18.05: 1, -11.633333333333333: 1, 20.59444444444444: 1, 35.31666666666666: 1, -12.394444444444446: 1, 33.02777777777778: 1, -23.87222222222222: 1, 15.82222222222222: 1, 28.89444444444445: 1, 23.316666666666663: 1, 36.672222222222224: 1, 30.022222222222226: 1, 38.12222222222223: 1, 36.77777777777778: 1, 30.55: 1, 36.92222222222222: 1, 34.71111111111112: 1, -13.7: 1, -7.91111111111111: 1, -13.383333333333333: 1, -14.644444444444446: 1, 23.277777777777786: 1, 34.644444444444446: 1, -27.716666666666665: 1, -17.76111111111111: 1, 9.738888888888887: 1, 37.38333333333334: 1, -8.011111111111113: 1, -16.461111111111112: 1, -7.544444444444443: 1, 36.888888888888886: 1, -13.044444444444444: 1, -11.1: 1, 9.155555555555551: 1, -13.36111111111111: 1, -12.68888888888889: 1, 25.33888888888889: 1, -15.877777777777776: 1, 19.433333333333337: 1, -11.71111111111111: 1, -15.866666666666664: 1, 37.08888888888889: 1, 34.12777777777778: 1, 37.23333333333333: 1, 9.544444444444444: 1, 34.91111111111112: 1, 23.38888888888889: 1, 30.261111111111116: 1, -14.511111111111113: 1, 33.47777777777778: 1, 35.78333333333333: 1, 24.62222222222222: 1, 37.8: 1, -19.522222222222226: 1, -8.694444444444445: 1, 9.17222222222222: 1, -8.327777777777776: 1, -11.205555555555556: 1, 36.34444444444445: 1, 33.19444444444444: 1, -14.294444444444444: 1, -9.966666666666663: 1, -9.333333333333334: 1, -12.183333333333334: 1, 34.96111111111112: 1, 33.93333333333333: 1, 20.572222222222223: 1, -12.772222222222224: 1, 35.900000000000006: 1, 35.62777777777777: 1, 24.27777777777778: 1, -15.766666666666667: 1, 33.90555555555555: 1, 34.5611111111111: 1, 30.60555555555556: 1, -19.444444444444443: 1, 10.333333333333334: 1, -8.211111111111112: 1, -15.461111111111109: 1, -9.883333333333333: 1, -5.78888888888889: 1, 34.77777777777778: 1, 32.40555555555555: 1, 34.75555555555556: 1, -12.105555555555554: 1, -8.450000000000001: 1, -19.00555555555556: 1, 24.450000000000003: 1, -12.455555555555556: 1, -16.805555555555557: 1, -13.06111111111111: 1, 33.32222222222222: 1, 38.41666666666666: 1, 30.91111111111111: 1, -21.08333333333333: 1, 35.53888888888889: 1, 14.22222222222222: 1, 35.60555555555556: 1, -10.633333333333333: 1, 32.488888888888894: 1, -14.444444444444445: 1, 23.45: 1, 16.8: 1, 37.16111111111111: 1, -13.67777777777778: 1, -14.561111111111112: 1, -13.266666666666667: 1, -15.738888888888887: 1, -11.45: 1, -10.883333333333333: 1, -23.716666666666665: 1, -14.066666666666666: 1, -9.927777777777775: 1, -13.1: 1, 29.194444444444443: 1, 25.883333333333336: 1, 21.727777777777774: 1, 32.99444444444444: 1, -16.12222222222222: 1, -11.57222222222222: 1, -12.127777777777776: 1, -10.327777777777778: 1, 23.41111111111111: 1, -14.7: 1, 37.03333333333333: 1, -16.544444444444444: 1, 10.733333333333333: 1, -10.855555555555554: 1, -9.288888888888888: 1, 26.916666666666668: 1, -12.03888888888889: 1, 32.31666666666667: 1, -16.47222222222222: 1, -9.61111111111111: 1, -13.944444444444445: 1, 14.555555555555555: 1, -16.91111111111111: 1, -11.844444444444443: 1, 25.39444444444444: 1, -10.794444444444444: 1, -21.71666666666667: 1, 34.361111111111114: 1, 25.37777777777778: 1, -10.63888888888889: 1, 9.233333333333333: 1, -17.766666666666666: 1, 36.3: 1, 35.8: 1, -11.005555555555556: 1, -10.95: 1, -11.4: 1, -12.47222222222222: 1, -11.994444444444444: 1, -15.055555555555555: 1, 9.144444444444446: 1, 35.56111111111111: 1, 33.666666666666664: 1, 33.26111111111111: 1, -15.533333333333337: 1, 32.37222222222222: 1, -5.305555555555555: 1, 31.966666666666672: 1, 35.1: 1, -14.005555555555556: 1, 24.577777777777776: 1, -6.816666666666666: 1, 34.57222222222222: 1, 32.94444444444444: 1, -14.466666666666663: 1, 35.233333333333334: 1, 9.7: 1, 33.977777777777774: 1, 34.43333333333334: 1, 34.07777777777778: 1, 23.944444444444443: 1, -21.822222222222223: 1, -13.105555555555556: 1, -9.105555555555556: 1, -15.82777777777778: 1, 24.272222222222226: 1, -11.316666666666666: 1, 18.277777777777786: 1, -8.0: 1, -15.844444444444443: 1, 35.011111111111106: 1, -11.327777777777778: 1, 13.116666666666667: 1, -10.544444444444444: 1, -13.58888888888889: 1, 31.40555555555555: 1, 33.05555555555556: 1, 9.644444444444444: 1, -14.894444444444442: 1, -10.766666666666667: 1, -14.344444444444443: 1, -15.316666666666666: 1, -15.211111111111112: 1, -21.9: 1, -9.355555555555556: 1, -6.405555555555556: 1, -15.605555555555554: 1, 30.30555555555556: 1, 35.30555555555556: 1, 9.588888888888889: 1, -13.3: 1, -8.461111111111112: 1, 20.677777777777777: 1, 32.61666666666666: 1, -5.883333333333334: 1, -14.983333333333333: 1, -15.905555555555557: 1, -13.461111111111112: 1, -9.711111111111112: 1, -7.73888888888889: 1, -9.05: 1, 25.12222222222222: 1, -10.66111111111111: 1, -22.416666666666668: 1, 9.688888888888888: 1, 36.98888888888889: 1, 10.805555555555555: 1, 24.466666666666672: 1, 38.37777777777777: 1, -17.655555555555555: 1, -11.655555555555557: 1, -9.57777777777778: 1, -9.816666666666668: 1, 33.333333333333336: 1, -11.7: 1, 33.827777777777776: 1, 30.34444444444445: 1, 35.43333333333333: 1, -10.9: 1, 33.150000000000006: 1, -15.016666666666667: 1, 33.22222222222222: 1, 23.183333333333337: 1, 25.611111111111107: 1, 35.27777777777778: 1, -10.78888888888889: 1, 25.822222222222223: 1, 32.35: 1, -13.544444444444444: 1, 37.93333333333333: 1, -10.038888888888888: 1, 32.855555555555554: 1, 34.400000000000006: 1, 35.85555555555556: 1})\n"
     ]
    },
    {
     "ename": "ValueError",
     "evalue": "Unknown label type: 'continuous'",
     "output_type": "error",
     "traceback": [
      "\u001b[1;31m---------------------------------------------------------------------------\u001b[0m",
      "\u001b[1;31mValueError\u001b[0m                                Traceback (most recent call last)",
      "\u001b[1;32m<ipython-input-207-ebd4ff5aac69>\u001b[0m in \u001b[0;36m<module>\u001b[1;34m\u001b[0m\n\u001b[0;32m     10\u001b[0m \u001b[1;33m\u001b[0m\u001b[0m\n\u001b[0;32m     11\u001b[0m \u001b[0moversample\u001b[0m \u001b[1;33m=\u001b[0m \u001b[0mSMOTE\u001b[0m\u001b[1;33m(\u001b[0m\u001b[1;33m)\u001b[0m\u001b[1;33m\u001b[0m\u001b[1;33m\u001b[0m\u001b[0m\n\u001b[1;32m---> 12\u001b[1;33m \u001b[0mX_train\u001b[0m\u001b[1;33m,\u001b[0m \u001b[0my_train\u001b[0m \u001b[1;33m=\u001b[0m \u001b[0moversample\u001b[0m\u001b[1;33m.\u001b[0m\u001b[0mfit_resample\u001b[0m\u001b[1;33m(\u001b[0m\u001b[0mX_train\u001b[0m\u001b[1;33m,\u001b[0m \u001b[0my_train\u001b[0m\u001b[1;33m)\u001b[0m\u001b[1;33m\u001b[0m\u001b[1;33m\u001b[0m\u001b[0m\n\u001b[0m\u001b[0;32m     13\u001b[0m \u001b[1;33m\u001b[0m\u001b[0m\n\u001b[0;32m     14\u001b[0m \u001b[1;33m\u001b[0m\u001b[0m\n",
      "\u001b[1;32m~\\anaconda3\\lib\\site-packages\\imblearn\\base.py\u001b[0m in \u001b[0;36mfit_resample\u001b[1;34m(self, X, y)\u001b[0m\n\u001b[0;32m     73\u001b[0m             \u001b[0mThe\u001b[0m \u001b[0mcorresponding\u001b[0m \u001b[0mlabel\u001b[0m \u001b[0mof\u001b[0m\u001b[0;31m \u001b[0m\u001b[0;31m`\u001b[0m\u001b[0mX_resampled\u001b[0m\u001b[0;31m`\u001b[0m\u001b[1;33m.\u001b[0m\u001b[1;33m\u001b[0m\u001b[1;33m\u001b[0m\u001b[0m\n\u001b[0;32m     74\u001b[0m         \"\"\"\n\u001b[1;32m---> 75\u001b[1;33m         \u001b[0mcheck_classification_targets\u001b[0m\u001b[1;33m(\u001b[0m\u001b[0my\u001b[0m\u001b[1;33m)\u001b[0m\u001b[1;33m\u001b[0m\u001b[1;33m\u001b[0m\u001b[0m\n\u001b[0m\u001b[0;32m     76\u001b[0m         \u001b[0marrays_transformer\u001b[0m \u001b[1;33m=\u001b[0m \u001b[0mArraysTransformer\u001b[0m\u001b[1;33m(\u001b[0m\u001b[0mX\u001b[0m\u001b[1;33m,\u001b[0m \u001b[0my\u001b[0m\u001b[1;33m)\u001b[0m\u001b[1;33m\u001b[0m\u001b[1;33m\u001b[0m\u001b[0m\n\u001b[0;32m     77\u001b[0m         \u001b[0mX\u001b[0m\u001b[1;33m,\u001b[0m \u001b[0my\u001b[0m\u001b[1;33m,\u001b[0m \u001b[0mbinarize_y\u001b[0m \u001b[1;33m=\u001b[0m \u001b[0mself\u001b[0m\u001b[1;33m.\u001b[0m\u001b[0m_check_X_y\u001b[0m\u001b[1;33m(\u001b[0m\u001b[0mX\u001b[0m\u001b[1;33m,\u001b[0m \u001b[0my\u001b[0m\u001b[1;33m)\u001b[0m\u001b[1;33m\u001b[0m\u001b[1;33m\u001b[0m\u001b[0m\n",
      "\u001b[1;32m~\\anaconda3\\lib\\site-packages\\sklearn\\utils\\multiclass.py\u001b[0m in \u001b[0;36mcheck_classification_targets\u001b[1;34m(y)\u001b[0m\n\u001b[0;32m    195\u001b[0m         \u001b[1;34m\"multilabel-sequences\"\u001b[0m\u001b[1;33m,\u001b[0m\u001b[1;33m\u001b[0m\u001b[1;33m\u001b[0m\u001b[0m\n\u001b[0;32m    196\u001b[0m     ]:\n\u001b[1;32m--> 197\u001b[1;33m         \u001b[1;32mraise\u001b[0m \u001b[0mValueError\u001b[0m\u001b[1;33m(\u001b[0m\u001b[1;34m\"Unknown label type: %r\"\u001b[0m \u001b[1;33m%\u001b[0m \u001b[0my_type\u001b[0m\u001b[1;33m)\u001b[0m\u001b[1;33m\u001b[0m\u001b[1;33m\u001b[0m\u001b[0m\n\u001b[0m\u001b[0;32m    198\u001b[0m \u001b[1;33m\u001b[0m\u001b[0m\n\u001b[0;32m    199\u001b[0m \u001b[1;33m\u001b[0m\u001b[0m\n",
      "\u001b[1;31mValueError\u001b[0m: Unknown label type: 'continuous'"
     ]
    }
   ],
   "source": [
    "from collections import Counter\n",
    "# from sklearn.datasets import make_classification\n",
    "from imblearn.over_sampling import SMOTE\n",
    "from matplotlib import pyplot\n",
    "from numpy import where\n",
    "\n",
    "# summarize class distribution\n",
    "counter = Counter(y_train)\n",
    "print(counter)\n",
    "\n",
    "oversample = SMOTE()\n",
    "X_train, y_train = oversample.fit_resample(X_train, y_train)\n",
    "\n",
    "\n",
    "counter = Counter(y_train)\n",
    "print(counter)\n",
    "\n",
    "# scatter plot of examples by class label\n",
    "for label, _ in counter.items():\n",
    "    row_ix = where(y_train == label)[0]\n",
    "    pyplot.scatter(X_train[row_ix, 0], X_train[row_ix, 1], label=str(label))\n",
    "pyplot.legend()\n",
    "pyplot.show()"
   ]
  },
  {
   "cell_type": "markdown",
   "id": "53077ba3",
   "metadata": {},
   "source": [
    "## dummy model"
   ]
  },
  {
   "cell_type": "code",
   "execution_count": null,
   "id": "7ceed314",
   "metadata": {},
   "outputs": [],
   "source": [
    "from sklearn.dummy import DummyRegressor\n",
    "\n",
    "from sklearn.metrics import mean_absolute_error as MAE\n",
    "\n"
   ]
  },
  {
   "cell_type": "code",
   "execution_count": null,
   "id": "569cce37",
   "metadata": {
    "scrolled": true
   },
   "outputs": [],
   "source": [
    "dummy_regr = DummyRegressor(strategy=\"mean\")\n",
    "dummy_regr.fit(X_train, y_train)\n",
    "R2_score = dummy_regr.score(X_test, y_test)\n",
    "y_predict = dummy_regr.predict(X_test)\n",
    "mae = MAE(y_test, y_predict)\n",
    "\n",
    "errors = mean_squared_error(y_test, y_predict,squared=False)\n",
    "print ('The dummy model have a mean squared error of '+ str(errors) )"
   ]
  },
  {
   "cell_type": "code",
   "execution_count": null,
   "id": "c56b77b7",
   "metadata": {},
   "outputs": [],
   "source": [
    "print('The dummy model have a R2 score of ' + str(R2_score)[:6] + \" as expected (around 0), and mean absolute error of \" + str(mae)[:4])"
   ]
  },
  {
   "cell_type": "code",
   "execution_count": null,
   "id": "7cddfb96",
   "metadata": {},
   "outputs": [],
   "source": [
    "# dummy_regr = DummyRegressor(strategy=\"mean\")\n",
    "# dummy_regr.fit(X_train, y_train)\n",
    "# dummy_regr.predict(X_train, y_train)\n",
    "# dummy_regr.score(X_train, y_train)"
   ]
  },
  {
   "cell_type": "markdown",
   "id": "abbf4e92",
   "metadata": {},
   "source": [
    "my dummy model\n",
    "\n",
    "the mean of the Apparent Temperatures"
   ]
  },
  {
   "cell_type": "code",
   "execution_count": null,
   "id": "19589233",
   "metadata": {},
   "outputs": [],
   "source": [
    "weather['Apparent Temperature (C)'].mean()"
   ]
  },
  {
   "cell_type": "markdown",
   "id": "1a98f23b",
   "metadata": {},
   "source": [
    "# comparing different Regression Models"
   ]
  },
  {
   "cell_type": "markdown",
   "id": "7f52b4c8",
   "metadata": {},
   "source": [
    "*cross validation allows us to compare different machine learning methods and get a sense of how well they will work in practice. the advantage here, is that it uses different blocks of data for train and test, and by that, \"prepare\" the model in the best way to predict outcome for new data  "
   ]
  },
  {
   "cell_type": "code",
   "execution_count": null,
   "id": "5fe4b6db",
   "metadata": {},
   "outputs": [],
   "source": [
    "from sklearn.linear_model import LinearRegression\n",
    "from sklearn.model_selection import KFold\n",
    "from sklearn.model_selection import cross_val_predict\n",
    "from sklearn.model_selection import cross_val_score"
   ]
  },
  {
   "cell_type": "code",
   "execution_count": null,
   "id": "144591f7",
   "metadata": {},
   "outputs": [],
   "source": [
    "LR = LinearRegression()"
   ]
  },
  {
   "cell_type": "code",
   "execution_count": null,
   "id": "be16941c",
   "metadata": {},
   "outputs": [],
   "source": [
    "y_train"
   ]
  },
  {
   "cell_type": "code",
   "execution_count": null,
   "id": "4604b03c",
   "metadata": {},
   "outputs": [],
   "source": [
    "kf = KFold(n_splits=10, random_state=42, shuffle=True)\n",
    "\n",
    "R2_scores_standardized = cross_val_score(LR, X_train_standardized, y_train, cv=kf)\n",
    "y_predict_standardized = cross_val_predict(LR, X_train_standardized, y_train, cv=kf)\n",
    "mae_standarsized = MAE(y_train, y_predict_standardized)\n",
    "\n",
    "R2_scores_normalized = cross_val_score(LR, X_train_normalized, y_train, cv=kf)\n",
    "y_predict_normalized = cross_val_predict(LR, X_train_normalized, y_train, cv=kf)\n",
    "mae_normalized = MAE(y_train, y_predict_normalized)"
   ]
  },
  {
   "cell_type": "code",
   "execution_count": null,
   "id": "09bde279",
   "metadata": {},
   "outputs": [],
   "source": [
    "fig, axes = plt.subplots(1,2)\n",
    "((ax1, ax2)) = axes\n",
    "\n",
    "y_predicted = cross_val_predict(LR, X_train_standardized, y_train, cv=kf)\n",
    "ax1.scatter(y_train, y_predicted, alpha=0.3, color='orange')\n",
    "ax1.plot([y_train.min(), y_train.max()], [y_train.min(), y_train.max()], 'k--', lw=4)\n",
    "ax1.set_xlabel('Actual')\n",
    "ax1.set_ylabel('Predicted')\n",
    "ax1.set_title('standardized:')\n",
    "\n",
    "y_predicted = cross_val_predict(LR, X_train_normalized, y_train, cv=kf)\n",
    "ax2.scatter(y_train, y_predicted, alpha=0.3, color='red')\n",
    "ax2.plot([y_train.min(), y_train.max()], [y_train.min(), y_train.max()], 'k--', lw=4)\n",
    "ax2.set_xlabel('Actual')\n",
    "ax2.set_ylabel('Predicted')\n",
    "ax2.set_title('normalized:')\n",
    "\n",
    "plt.show()"
   ]
  },
  {
   "cell_type": "code",
   "execution_count": null,
   "id": "cabb72a4",
   "metadata": {},
   "outputs": [],
   "source": [
    "#standadized train set cross validation:"
   ]
  },
  {
   "cell_type": "code",
   "execution_count": null,
   "id": "2b6bbc96",
   "metadata": {},
   "outputs": [],
   "source": [
    "print(\"the scores of cross validation are:\")\n",
    "print(R2_scores_standardized)\n",
    "print()\n",
    "print(\"mean R2 is: \" + str(R2_scores_standardized.mean())[:5] + \" with std of  \" + str(R2_scores_standardized.std())[:5] + \" and MAE of \" + str(mae_standarsized)[:6])"
   ]
  },
  {
   "cell_type": "code",
   "execution_count": null,
   "id": "e8c92f4b",
   "metadata": {},
   "outputs": [],
   "source": [
    "#normalized train set cross validation:"
   ]
  },
  {
   "cell_type": "code",
   "execution_count": null,
   "id": "20454da2",
   "metadata": {},
   "outputs": [],
   "source": [
    "print(\"the scores of cross validation are:\")\n",
    " print(R2_scores_normalized)\n",
    "print()\n",
    "print(\"mean R2 is: \" + str(R2_scores_normalized.mean())[:5] + \" with std of  \" + str(R2_scores_normalized.std())[:5] + \" and MAE of \" + str(mae_normalized)[:6])"
   ]
  },
  {
   "cell_type": "markdown",
   "id": "0d17fa3e",
   "metadata": {},
   "source": [
    "although the results are the same with normalized and standardized,\n",
    "we can see below that the feature values are definetly different "
   ]
  },
  {
   "cell_type": "code",
   "execution_count": null,
   "id": "cc8510b9",
   "metadata": {},
   "outputs": [],
   "source": [
    "X_train_normalized"
   ]
  },
  {
   "cell_type": "code",
   "execution_count": null,
   "id": "fffdcb39",
   "metadata": {},
   "outputs": [],
   "source": [
    "X_train_standardized"
   ]
  },
  {
   "cell_type": "code",
   "execution_count": null,
   "id": "dec9f7e9",
   "metadata": {},
   "outputs": [],
   "source": []
  }
 ],
 "metadata": {
  "kernelspec": {
   "display_name": "Python 3",
   "language": "python",
   "name": "python3"
  },
  "language_info": {
   "codemirror_mode": {
    "name": "ipython",
    "version": 3
   },
   "file_extension": ".py",
   "mimetype": "text/x-python",
   "name": "python",
   "nbconvert_exporter": "python",
   "pygments_lexer": "ipython3",
   "version": "3.8.8"
  }
 },
 "nbformat": 4,
 "nbformat_minor": 5
}
