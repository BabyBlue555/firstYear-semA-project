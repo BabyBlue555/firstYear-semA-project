{
 "cells": [
  {
   "cell_type": "markdown",
   "id": "7167f3c2",
   "metadata": {},
   "source": [
    "# Regression Problem - Predicting the Apparent Temperature"
   ]
  },
  {
   "cell_type": "markdown",
   "id": "38320441",
   "metadata": {},
   "source": [
    "*data leakage is going to be prevented by using a large amount of data (weather reports) in the train and test sets"
   ]
  },
  {
   "cell_type": "markdown",
   "id": "237ba109",
   "metadata": {},
   "source": [
    "our dummy model - ?"
   ]
  },
  {
   "cell_type": "code",
   "execution_count": 625,
   "id": "3818cd2a",
   "metadata": {},
   "outputs": [],
   "source": [
    "import pandas as pd\n",
    "import numpy as np"
   ]
  },
  {
   "cell_type": "code",
   "execution_count": 626,
   "id": "4c7e29f1",
   "metadata": {},
   "outputs": [],
   "source": [
    "import matplotlib\n",
    "import seaborn as sns\n",
    "import matplotlib.pyplot as plt\n",
    "import plotly.express as px\n",
    "%matplotlib inline\n"
   ]
  },
  {
   "cell_type": "code",
   "execution_count": 627,
   "id": "a84d45a9",
   "metadata": {},
   "outputs": [],
   "source": [
    "# read the dataset \n",
    "weather =pd.read_csv(\"weatherHistory[1].csv\")"
   ]
  },
  {
   "cell_type": "code",
   "execution_count": 628,
   "id": "13785ad1",
   "metadata": {},
   "outputs": [
    {
     "data": {
      "text/html": [
       "<div>\n",
       "<style scoped>\n",
       "    .dataframe tbody tr th:only-of-type {\n",
       "        vertical-align: middle;\n",
       "    }\n",
       "\n",
       "    .dataframe tbody tr th {\n",
       "        vertical-align: top;\n",
       "    }\n",
       "\n",
       "    .dataframe thead th {\n",
       "        text-align: right;\n",
       "    }\n",
       "</style>\n",
       "<table border=\"1\" class=\"dataframe\">\n",
       "  <thead>\n",
       "    <tr style=\"text-align: right;\">\n",
       "      <th></th>\n",
       "      <th>Formatted Date</th>\n",
       "      <th>Summary</th>\n",
       "      <th>Precip Type</th>\n",
       "      <th>Temperature (C)</th>\n",
       "      <th>Apparent Temperature (C)</th>\n",
       "      <th>Humidity</th>\n",
       "      <th>Wind Speed (km/h)</th>\n",
       "      <th>Wind Bearing (degrees)</th>\n",
       "      <th>Visibility (km)</th>\n",
       "      <th>Loud Cover</th>\n",
       "      <th>Pressure (millibars)</th>\n",
       "      <th>Daily Summary</th>\n",
       "    </tr>\n",
       "  </thead>\n",
       "  <tbody>\n",
       "    <tr>\n",
       "      <th>0</th>\n",
       "      <td>2006-04-01 00:00:00.000 +0200</td>\n",
       "      <td>Partly Cloudy</td>\n",
       "      <td>rain</td>\n",
       "      <td>9.472222</td>\n",
       "      <td>7.388889</td>\n",
       "      <td>0.89</td>\n",
       "      <td>14.1197</td>\n",
       "      <td>251.0</td>\n",
       "      <td>15.8263</td>\n",
       "      <td>0.0</td>\n",
       "      <td>1015.13</td>\n",
       "      <td>Partly cloudy throughout the day.</td>\n",
       "    </tr>\n",
       "    <tr>\n",
       "      <th>1</th>\n",
       "      <td>2006-04-01 01:00:00.000 +0200</td>\n",
       "      <td>Partly Cloudy</td>\n",
       "      <td>rain</td>\n",
       "      <td>9.355556</td>\n",
       "      <td>7.227778</td>\n",
       "      <td>0.86</td>\n",
       "      <td>14.2646</td>\n",
       "      <td>259.0</td>\n",
       "      <td>15.8263</td>\n",
       "      <td>0.0</td>\n",
       "      <td>1015.63</td>\n",
       "      <td>Partly cloudy throughout the day.</td>\n",
       "    </tr>\n",
       "    <tr>\n",
       "      <th>2</th>\n",
       "      <td>2006-04-01 02:00:00.000 +0200</td>\n",
       "      <td>Mostly Cloudy</td>\n",
       "      <td>rain</td>\n",
       "      <td>9.377778</td>\n",
       "      <td>9.377778</td>\n",
       "      <td>0.89</td>\n",
       "      <td>3.9284</td>\n",
       "      <td>204.0</td>\n",
       "      <td>14.9569</td>\n",
       "      <td>0.0</td>\n",
       "      <td>1015.94</td>\n",
       "      <td>Partly cloudy throughout the day.</td>\n",
       "    </tr>\n",
       "    <tr>\n",
       "      <th>3</th>\n",
       "      <td>2006-04-01 03:00:00.000 +0200</td>\n",
       "      <td>Partly Cloudy</td>\n",
       "      <td>rain</td>\n",
       "      <td>8.288889</td>\n",
       "      <td>5.944444</td>\n",
       "      <td>0.83</td>\n",
       "      <td>14.1036</td>\n",
       "      <td>269.0</td>\n",
       "      <td>15.8263</td>\n",
       "      <td>0.0</td>\n",
       "      <td>1016.41</td>\n",
       "      <td>Partly cloudy throughout the day.</td>\n",
       "    </tr>\n",
       "    <tr>\n",
       "      <th>4</th>\n",
       "      <td>2006-04-01 04:00:00.000 +0200</td>\n",
       "      <td>Mostly Cloudy</td>\n",
       "      <td>rain</td>\n",
       "      <td>8.755556</td>\n",
       "      <td>6.977778</td>\n",
       "      <td>0.83</td>\n",
       "      <td>11.0446</td>\n",
       "      <td>259.0</td>\n",
       "      <td>15.8263</td>\n",
       "      <td>0.0</td>\n",
       "      <td>1016.51</td>\n",
       "      <td>Partly cloudy throughout the day.</td>\n",
       "    </tr>\n",
       "    <tr>\n",
       "      <th>...</th>\n",
       "      <td>...</td>\n",
       "      <td>...</td>\n",
       "      <td>...</td>\n",
       "      <td>...</td>\n",
       "      <td>...</td>\n",
       "      <td>...</td>\n",
       "      <td>...</td>\n",
       "      <td>...</td>\n",
       "      <td>...</td>\n",
       "      <td>...</td>\n",
       "      <td>...</td>\n",
       "      <td>...</td>\n",
       "    </tr>\n",
       "    <tr>\n",
       "      <th>96448</th>\n",
       "      <td>2016-09-09 19:00:00.000 +0200</td>\n",
       "      <td>Partly Cloudy</td>\n",
       "      <td>rain</td>\n",
       "      <td>26.016667</td>\n",
       "      <td>26.016667</td>\n",
       "      <td>0.43</td>\n",
       "      <td>10.9963</td>\n",
       "      <td>31.0</td>\n",
       "      <td>16.1000</td>\n",
       "      <td>0.0</td>\n",
       "      <td>1014.36</td>\n",
       "      <td>Partly cloudy starting in the morning.</td>\n",
       "    </tr>\n",
       "    <tr>\n",
       "      <th>96449</th>\n",
       "      <td>2016-09-09 20:00:00.000 +0200</td>\n",
       "      <td>Partly Cloudy</td>\n",
       "      <td>rain</td>\n",
       "      <td>24.583333</td>\n",
       "      <td>24.583333</td>\n",
       "      <td>0.48</td>\n",
       "      <td>10.0947</td>\n",
       "      <td>20.0</td>\n",
       "      <td>15.5526</td>\n",
       "      <td>0.0</td>\n",
       "      <td>1015.16</td>\n",
       "      <td>Partly cloudy starting in the morning.</td>\n",
       "    </tr>\n",
       "    <tr>\n",
       "      <th>96450</th>\n",
       "      <td>2016-09-09 21:00:00.000 +0200</td>\n",
       "      <td>Partly Cloudy</td>\n",
       "      <td>rain</td>\n",
       "      <td>22.038889</td>\n",
       "      <td>22.038889</td>\n",
       "      <td>0.56</td>\n",
       "      <td>8.9838</td>\n",
       "      <td>30.0</td>\n",
       "      <td>16.1000</td>\n",
       "      <td>0.0</td>\n",
       "      <td>1015.66</td>\n",
       "      <td>Partly cloudy starting in the morning.</td>\n",
       "    </tr>\n",
       "    <tr>\n",
       "      <th>96451</th>\n",
       "      <td>2016-09-09 22:00:00.000 +0200</td>\n",
       "      <td>Partly Cloudy</td>\n",
       "      <td>rain</td>\n",
       "      <td>21.522222</td>\n",
       "      <td>21.522222</td>\n",
       "      <td>0.60</td>\n",
       "      <td>10.5294</td>\n",
       "      <td>20.0</td>\n",
       "      <td>16.1000</td>\n",
       "      <td>0.0</td>\n",
       "      <td>1015.95</td>\n",
       "      <td>Partly cloudy starting in the morning.</td>\n",
       "    </tr>\n",
       "    <tr>\n",
       "      <th>96452</th>\n",
       "      <td>2016-09-09 23:00:00.000 +0200</td>\n",
       "      <td>Partly Cloudy</td>\n",
       "      <td>rain</td>\n",
       "      <td>20.438889</td>\n",
       "      <td>20.438889</td>\n",
       "      <td>0.61</td>\n",
       "      <td>5.8765</td>\n",
       "      <td>39.0</td>\n",
       "      <td>15.5204</td>\n",
       "      <td>0.0</td>\n",
       "      <td>1016.16</td>\n",
       "      <td>Partly cloudy starting in the morning.</td>\n",
       "    </tr>\n",
       "  </tbody>\n",
       "</table>\n",
       "<p>96453 rows × 12 columns</p>\n",
       "</div>"
      ],
      "text/plain": [
       "                      Formatted Date        Summary Precip Type  \\\n",
       "0      2006-04-01 00:00:00.000 +0200  Partly Cloudy        rain   \n",
       "1      2006-04-01 01:00:00.000 +0200  Partly Cloudy        rain   \n",
       "2      2006-04-01 02:00:00.000 +0200  Mostly Cloudy        rain   \n",
       "3      2006-04-01 03:00:00.000 +0200  Partly Cloudy        rain   \n",
       "4      2006-04-01 04:00:00.000 +0200  Mostly Cloudy        rain   \n",
       "...                              ...            ...         ...   \n",
       "96448  2016-09-09 19:00:00.000 +0200  Partly Cloudy        rain   \n",
       "96449  2016-09-09 20:00:00.000 +0200  Partly Cloudy        rain   \n",
       "96450  2016-09-09 21:00:00.000 +0200  Partly Cloudy        rain   \n",
       "96451  2016-09-09 22:00:00.000 +0200  Partly Cloudy        rain   \n",
       "96452  2016-09-09 23:00:00.000 +0200  Partly Cloudy        rain   \n",
       "\n",
       "       Temperature (C)  Apparent Temperature (C)  Humidity  Wind Speed (km/h)  \\\n",
       "0             9.472222                  7.388889      0.89            14.1197   \n",
       "1             9.355556                  7.227778      0.86            14.2646   \n",
       "2             9.377778                  9.377778      0.89             3.9284   \n",
       "3             8.288889                  5.944444      0.83            14.1036   \n",
       "4             8.755556                  6.977778      0.83            11.0446   \n",
       "...                ...                       ...       ...                ...   \n",
       "96448        26.016667                 26.016667      0.43            10.9963   \n",
       "96449        24.583333                 24.583333      0.48            10.0947   \n",
       "96450        22.038889                 22.038889      0.56             8.9838   \n",
       "96451        21.522222                 21.522222      0.60            10.5294   \n",
       "96452        20.438889                 20.438889      0.61             5.8765   \n",
       "\n",
       "       Wind Bearing (degrees)  Visibility (km)  Loud Cover  \\\n",
       "0                       251.0          15.8263         0.0   \n",
       "1                       259.0          15.8263         0.0   \n",
       "2                       204.0          14.9569         0.0   \n",
       "3                       269.0          15.8263         0.0   \n",
       "4                       259.0          15.8263         0.0   \n",
       "...                       ...              ...         ...   \n",
       "96448                    31.0          16.1000         0.0   \n",
       "96449                    20.0          15.5526         0.0   \n",
       "96450                    30.0          16.1000         0.0   \n",
       "96451                    20.0          16.1000         0.0   \n",
       "96452                    39.0          15.5204         0.0   \n",
       "\n",
       "       Pressure (millibars)                           Daily Summary  \n",
       "0                   1015.13       Partly cloudy throughout the day.  \n",
       "1                   1015.63       Partly cloudy throughout the day.  \n",
       "2                   1015.94       Partly cloudy throughout the day.  \n",
       "3                   1016.41       Partly cloudy throughout the day.  \n",
       "4                   1016.51       Partly cloudy throughout the day.  \n",
       "...                     ...                                     ...  \n",
       "96448               1014.36  Partly cloudy starting in the morning.  \n",
       "96449               1015.16  Partly cloudy starting in the morning.  \n",
       "96450               1015.66  Partly cloudy starting in the morning.  \n",
       "96451               1015.95  Partly cloudy starting in the morning.  \n",
       "96452               1016.16  Partly cloudy starting in the morning.  \n",
       "\n",
       "[96453 rows x 12 columns]"
      ]
     },
     "execution_count": 628,
     "metadata": {},
     "output_type": "execute_result"
    }
   ],
   "source": [
    "weather"
   ]
  },
  {
   "cell_type": "code",
   "execution_count": 629,
   "id": "190ad593",
   "metadata": {
    "scrolled": true
   },
   "outputs": [
    {
     "data": {
      "text/html": [
       "<div>\n",
       "<style scoped>\n",
       "    .dataframe tbody tr th:only-of-type {\n",
       "        vertical-align: middle;\n",
       "    }\n",
       "\n",
       "    .dataframe tbody tr th {\n",
       "        vertical-align: top;\n",
       "    }\n",
       "\n",
       "    .dataframe thead th {\n",
       "        text-align: right;\n",
       "    }\n",
       "</style>\n",
       "<table border=\"1\" class=\"dataframe\">\n",
       "  <thead>\n",
       "    <tr style=\"text-align: right;\">\n",
       "      <th></th>\n",
       "      <th>Formatted Date</th>\n",
       "      <th>Summary</th>\n",
       "      <th>Precip Type</th>\n",
       "      <th>Temperature (C)</th>\n",
       "      <th>Apparent Temperature (C)</th>\n",
       "      <th>Humidity</th>\n",
       "      <th>Wind Speed (km/h)</th>\n",
       "      <th>Wind Bearing (degrees)</th>\n",
       "      <th>Visibility (km)</th>\n",
       "      <th>Loud Cover</th>\n",
       "      <th>Pressure (millibars)</th>\n",
       "      <th>Daily Summary</th>\n",
       "    </tr>\n",
       "  </thead>\n",
       "  <tbody>\n",
       "    <tr>\n",
       "      <th>0</th>\n",
       "      <td>2006-04-01 00:00:00.000 +0200</td>\n",
       "      <td>Partly Cloudy</td>\n",
       "      <td>rain</td>\n",
       "      <td>9.472222</td>\n",
       "      <td>7.388889</td>\n",
       "      <td>0.89</td>\n",
       "      <td>14.1197</td>\n",
       "      <td>251.0</td>\n",
       "      <td>15.8263</td>\n",
       "      <td>0.0</td>\n",
       "      <td>1015.13</td>\n",
       "      <td>Partly cloudy throughout the day.</td>\n",
       "    </tr>\n",
       "    <tr>\n",
       "      <th>1</th>\n",
       "      <td>2006-04-01 01:00:00.000 +0200</td>\n",
       "      <td>Partly Cloudy</td>\n",
       "      <td>rain</td>\n",
       "      <td>9.355556</td>\n",
       "      <td>7.227778</td>\n",
       "      <td>0.86</td>\n",
       "      <td>14.2646</td>\n",
       "      <td>259.0</td>\n",
       "      <td>15.8263</td>\n",
       "      <td>0.0</td>\n",
       "      <td>1015.63</td>\n",
       "      <td>Partly cloudy throughout the day.</td>\n",
       "    </tr>\n",
       "    <tr>\n",
       "      <th>2</th>\n",
       "      <td>2006-04-01 02:00:00.000 +0200</td>\n",
       "      <td>Mostly Cloudy</td>\n",
       "      <td>rain</td>\n",
       "      <td>9.377778</td>\n",
       "      <td>9.377778</td>\n",
       "      <td>0.89</td>\n",
       "      <td>3.9284</td>\n",
       "      <td>204.0</td>\n",
       "      <td>14.9569</td>\n",
       "      <td>0.0</td>\n",
       "      <td>1015.94</td>\n",
       "      <td>Partly cloudy throughout the day.</td>\n",
       "    </tr>\n",
       "    <tr>\n",
       "      <th>3</th>\n",
       "      <td>2006-04-01 03:00:00.000 +0200</td>\n",
       "      <td>Partly Cloudy</td>\n",
       "      <td>rain</td>\n",
       "      <td>8.288889</td>\n",
       "      <td>5.944444</td>\n",
       "      <td>0.83</td>\n",
       "      <td>14.1036</td>\n",
       "      <td>269.0</td>\n",
       "      <td>15.8263</td>\n",
       "      <td>0.0</td>\n",
       "      <td>1016.41</td>\n",
       "      <td>Partly cloudy throughout the day.</td>\n",
       "    </tr>\n",
       "    <tr>\n",
       "      <th>4</th>\n",
       "      <td>2006-04-01 04:00:00.000 +0200</td>\n",
       "      <td>Mostly Cloudy</td>\n",
       "      <td>rain</td>\n",
       "      <td>8.755556</td>\n",
       "      <td>6.977778</td>\n",
       "      <td>0.83</td>\n",
       "      <td>11.0446</td>\n",
       "      <td>259.0</td>\n",
       "      <td>15.8263</td>\n",
       "      <td>0.0</td>\n",
       "      <td>1016.51</td>\n",
       "      <td>Partly cloudy throughout the day.</td>\n",
       "    </tr>\n",
       "    <tr>\n",
       "      <th>...</th>\n",
       "      <td>...</td>\n",
       "      <td>...</td>\n",
       "      <td>...</td>\n",
       "      <td>...</td>\n",
       "      <td>...</td>\n",
       "      <td>...</td>\n",
       "      <td>...</td>\n",
       "      <td>...</td>\n",
       "      <td>...</td>\n",
       "      <td>...</td>\n",
       "      <td>...</td>\n",
       "      <td>...</td>\n",
       "    </tr>\n",
       "    <tr>\n",
       "      <th>96448</th>\n",
       "      <td>2016-09-09 19:00:00.000 +0200</td>\n",
       "      <td>Partly Cloudy</td>\n",
       "      <td>rain</td>\n",
       "      <td>26.016667</td>\n",
       "      <td>26.016667</td>\n",
       "      <td>0.43</td>\n",
       "      <td>10.9963</td>\n",
       "      <td>31.0</td>\n",
       "      <td>16.1000</td>\n",
       "      <td>0.0</td>\n",
       "      <td>1014.36</td>\n",
       "      <td>Partly cloudy starting in the morning.</td>\n",
       "    </tr>\n",
       "    <tr>\n",
       "      <th>96449</th>\n",
       "      <td>2016-09-09 20:00:00.000 +0200</td>\n",
       "      <td>Partly Cloudy</td>\n",
       "      <td>rain</td>\n",
       "      <td>24.583333</td>\n",
       "      <td>24.583333</td>\n",
       "      <td>0.48</td>\n",
       "      <td>10.0947</td>\n",
       "      <td>20.0</td>\n",
       "      <td>15.5526</td>\n",
       "      <td>0.0</td>\n",
       "      <td>1015.16</td>\n",
       "      <td>Partly cloudy starting in the morning.</td>\n",
       "    </tr>\n",
       "    <tr>\n",
       "      <th>96450</th>\n",
       "      <td>2016-09-09 21:00:00.000 +0200</td>\n",
       "      <td>Partly Cloudy</td>\n",
       "      <td>rain</td>\n",
       "      <td>22.038889</td>\n",
       "      <td>22.038889</td>\n",
       "      <td>0.56</td>\n",
       "      <td>8.9838</td>\n",
       "      <td>30.0</td>\n",
       "      <td>16.1000</td>\n",
       "      <td>0.0</td>\n",
       "      <td>1015.66</td>\n",
       "      <td>Partly cloudy starting in the morning.</td>\n",
       "    </tr>\n",
       "    <tr>\n",
       "      <th>96451</th>\n",
       "      <td>2016-09-09 22:00:00.000 +0200</td>\n",
       "      <td>Partly Cloudy</td>\n",
       "      <td>rain</td>\n",
       "      <td>21.522222</td>\n",
       "      <td>21.522222</td>\n",
       "      <td>0.60</td>\n",
       "      <td>10.5294</td>\n",
       "      <td>20.0</td>\n",
       "      <td>16.1000</td>\n",
       "      <td>0.0</td>\n",
       "      <td>1015.95</td>\n",
       "      <td>Partly cloudy starting in the morning.</td>\n",
       "    </tr>\n",
       "    <tr>\n",
       "      <th>96452</th>\n",
       "      <td>2016-09-09 23:00:00.000 +0200</td>\n",
       "      <td>Partly Cloudy</td>\n",
       "      <td>rain</td>\n",
       "      <td>20.438889</td>\n",
       "      <td>20.438889</td>\n",
       "      <td>0.61</td>\n",
       "      <td>5.8765</td>\n",
       "      <td>39.0</td>\n",
       "      <td>15.5204</td>\n",
       "      <td>0.0</td>\n",
       "      <td>1016.16</td>\n",
       "      <td>Partly cloudy starting in the morning.</td>\n",
       "    </tr>\n",
       "  </tbody>\n",
       "</table>\n",
       "<p>96453 rows × 12 columns</p>\n",
       "</div>"
      ],
      "text/plain": [
       "                      Formatted Date        Summary Precip Type  \\\n",
       "0      2006-04-01 00:00:00.000 +0200  Partly Cloudy        rain   \n",
       "1      2006-04-01 01:00:00.000 +0200  Partly Cloudy        rain   \n",
       "2      2006-04-01 02:00:00.000 +0200  Mostly Cloudy        rain   \n",
       "3      2006-04-01 03:00:00.000 +0200  Partly Cloudy        rain   \n",
       "4      2006-04-01 04:00:00.000 +0200  Mostly Cloudy        rain   \n",
       "...                              ...            ...         ...   \n",
       "96448  2016-09-09 19:00:00.000 +0200  Partly Cloudy        rain   \n",
       "96449  2016-09-09 20:00:00.000 +0200  Partly Cloudy        rain   \n",
       "96450  2016-09-09 21:00:00.000 +0200  Partly Cloudy        rain   \n",
       "96451  2016-09-09 22:00:00.000 +0200  Partly Cloudy        rain   \n",
       "96452  2016-09-09 23:00:00.000 +0200  Partly Cloudy        rain   \n",
       "\n",
       "       Temperature (C)  Apparent Temperature (C)  Humidity  Wind Speed (km/h)  \\\n",
       "0             9.472222                  7.388889      0.89            14.1197   \n",
       "1             9.355556                  7.227778      0.86            14.2646   \n",
       "2             9.377778                  9.377778      0.89             3.9284   \n",
       "3             8.288889                  5.944444      0.83            14.1036   \n",
       "4             8.755556                  6.977778      0.83            11.0446   \n",
       "...                ...                       ...       ...                ...   \n",
       "96448        26.016667                 26.016667      0.43            10.9963   \n",
       "96449        24.583333                 24.583333      0.48            10.0947   \n",
       "96450        22.038889                 22.038889      0.56             8.9838   \n",
       "96451        21.522222                 21.522222      0.60            10.5294   \n",
       "96452        20.438889                 20.438889      0.61             5.8765   \n",
       "\n",
       "       Wind Bearing (degrees)  Visibility (km)  Loud Cover  \\\n",
       "0                       251.0          15.8263         0.0   \n",
       "1                       259.0          15.8263         0.0   \n",
       "2                       204.0          14.9569         0.0   \n",
       "3                       269.0          15.8263         0.0   \n",
       "4                       259.0          15.8263         0.0   \n",
       "...                       ...              ...         ...   \n",
       "96448                    31.0          16.1000         0.0   \n",
       "96449                    20.0          15.5526         0.0   \n",
       "96450                    30.0          16.1000         0.0   \n",
       "96451                    20.0          16.1000         0.0   \n",
       "96452                    39.0          15.5204         0.0   \n",
       "\n",
       "       Pressure (millibars)                           Daily Summary  \n",
       "0                   1015.13       Partly cloudy throughout the day.  \n",
       "1                   1015.63       Partly cloudy throughout the day.  \n",
       "2                   1015.94       Partly cloudy throughout the day.  \n",
       "3                   1016.41       Partly cloudy throughout the day.  \n",
       "4                   1016.51       Partly cloudy throughout the day.  \n",
       "...                     ...                                     ...  \n",
       "96448               1014.36  Partly cloudy starting in the morning.  \n",
       "96449               1015.16  Partly cloudy starting in the morning.  \n",
       "96450               1015.66  Partly cloudy starting in the morning.  \n",
       "96451               1015.95  Partly cloudy starting in the morning.  \n",
       "96452               1016.16  Partly cloudy starting in the morning.  \n",
       "\n",
       "[96453 rows x 12 columns]"
      ]
     },
     "execution_count": 629,
     "metadata": {},
     "output_type": "execute_result"
    }
   ],
   "source": [
    "weather "
   ]
  },
  {
   "cell_type": "code",
   "execution_count": 630,
   "id": "6df9613b",
   "metadata": {},
   "outputs": [],
   "source": [
    "#change misprint\n",
    "weather=weather.rename(columns={'Loud Cover': 'Cloud Cover'})"
   ]
  },
  {
   "cell_type": "markdown",
   "id": "db3c52b8",
   "metadata": {},
   "source": [
    "# 1. getting to know the data"
   ]
  },
  {
   "cell_type": "code",
   "execution_count": 631,
   "id": "38324a4b",
   "metadata": {},
   "outputs": [
    {
     "data": {
      "text/html": [
       "<div>\n",
       "<style scoped>\n",
       "    .dataframe tbody tr th:only-of-type {\n",
       "        vertical-align: middle;\n",
       "    }\n",
       "\n",
       "    .dataframe tbody tr th {\n",
       "        vertical-align: top;\n",
       "    }\n",
       "\n",
       "    .dataframe thead th {\n",
       "        text-align: right;\n",
       "    }\n",
       "</style>\n",
       "<table border=\"1\" class=\"dataframe\">\n",
       "  <thead>\n",
       "    <tr style=\"text-align: right;\">\n",
       "      <th></th>\n",
       "      <th>Temperature (C)</th>\n",
       "      <th>Apparent Temperature (C)</th>\n",
       "      <th>Humidity</th>\n",
       "      <th>Wind Speed (km/h)</th>\n",
       "      <th>Wind Bearing (degrees)</th>\n",
       "      <th>Visibility (km)</th>\n",
       "      <th>Cloud Cover</th>\n",
       "      <th>Pressure (millibars)</th>\n",
       "    </tr>\n",
       "  </thead>\n",
       "  <tbody>\n",
       "    <tr>\n",
       "      <th>count</th>\n",
       "      <td>96453.000000</td>\n",
       "      <td>96453.000000</td>\n",
       "      <td>96453.000000</td>\n",
       "      <td>96453.000000</td>\n",
       "      <td>96453.000000</td>\n",
       "      <td>96453.000000</td>\n",
       "      <td>96453.0</td>\n",
       "      <td>96453.000000</td>\n",
       "    </tr>\n",
       "    <tr>\n",
       "      <th>mean</th>\n",
       "      <td>11.932678</td>\n",
       "      <td>10.855029</td>\n",
       "      <td>0.734899</td>\n",
       "      <td>10.810640</td>\n",
       "      <td>187.509232</td>\n",
       "      <td>10.347325</td>\n",
       "      <td>0.0</td>\n",
       "      <td>1003.235956</td>\n",
       "    </tr>\n",
       "    <tr>\n",
       "      <th>std</th>\n",
       "      <td>9.551546</td>\n",
       "      <td>10.696847</td>\n",
       "      <td>0.195473</td>\n",
       "      <td>6.913571</td>\n",
       "      <td>107.383428</td>\n",
       "      <td>4.192123</td>\n",
       "      <td>0.0</td>\n",
       "      <td>116.969906</td>\n",
       "    </tr>\n",
       "    <tr>\n",
       "      <th>min</th>\n",
       "      <td>-21.822222</td>\n",
       "      <td>-27.716667</td>\n",
       "      <td>0.000000</td>\n",
       "      <td>0.000000</td>\n",
       "      <td>0.000000</td>\n",
       "      <td>0.000000</td>\n",
       "      <td>0.0</td>\n",
       "      <td>0.000000</td>\n",
       "    </tr>\n",
       "    <tr>\n",
       "      <th>25%</th>\n",
       "      <td>4.688889</td>\n",
       "      <td>2.311111</td>\n",
       "      <td>0.600000</td>\n",
       "      <td>5.828200</td>\n",
       "      <td>116.000000</td>\n",
       "      <td>8.339800</td>\n",
       "      <td>0.0</td>\n",
       "      <td>1011.900000</td>\n",
       "    </tr>\n",
       "    <tr>\n",
       "      <th>50%</th>\n",
       "      <td>12.000000</td>\n",
       "      <td>12.000000</td>\n",
       "      <td>0.780000</td>\n",
       "      <td>9.965900</td>\n",
       "      <td>180.000000</td>\n",
       "      <td>10.046400</td>\n",
       "      <td>0.0</td>\n",
       "      <td>1016.450000</td>\n",
       "    </tr>\n",
       "    <tr>\n",
       "      <th>75%</th>\n",
       "      <td>18.838889</td>\n",
       "      <td>18.838889</td>\n",
       "      <td>0.890000</td>\n",
       "      <td>14.135800</td>\n",
       "      <td>290.000000</td>\n",
       "      <td>14.812000</td>\n",
       "      <td>0.0</td>\n",
       "      <td>1021.090000</td>\n",
       "    </tr>\n",
       "    <tr>\n",
       "      <th>max</th>\n",
       "      <td>39.905556</td>\n",
       "      <td>39.344444</td>\n",
       "      <td>1.000000</td>\n",
       "      <td>63.852600</td>\n",
       "      <td>359.000000</td>\n",
       "      <td>16.100000</td>\n",
       "      <td>0.0</td>\n",
       "      <td>1046.380000</td>\n",
       "    </tr>\n",
       "  </tbody>\n",
       "</table>\n",
       "</div>"
      ],
      "text/plain": [
       "       Temperature (C)  Apparent Temperature (C)      Humidity  \\\n",
       "count     96453.000000              96453.000000  96453.000000   \n",
       "mean         11.932678                 10.855029      0.734899   \n",
       "std           9.551546                 10.696847      0.195473   \n",
       "min         -21.822222                -27.716667      0.000000   \n",
       "25%           4.688889                  2.311111      0.600000   \n",
       "50%          12.000000                 12.000000      0.780000   \n",
       "75%          18.838889                 18.838889      0.890000   \n",
       "max          39.905556                 39.344444      1.000000   \n",
       "\n",
       "       Wind Speed (km/h)  Wind Bearing (degrees)  Visibility (km)  \\\n",
       "count       96453.000000            96453.000000     96453.000000   \n",
       "mean           10.810640              187.509232        10.347325   \n",
       "std             6.913571              107.383428         4.192123   \n",
       "min             0.000000                0.000000         0.000000   \n",
       "25%             5.828200              116.000000         8.339800   \n",
       "50%             9.965900              180.000000        10.046400   \n",
       "75%            14.135800              290.000000        14.812000   \n",
       "max            63.852600              359.000000        16.100000   \n",
       "\n",
       "       Cloud Cover  Pressure (millibars)  \n",
       "count      96453.0          96453.000000  \n",
       "mean           0.0           1003.235956  \n",
       "std            0.0            116.969906  \n",
       "min            0.0              0.000000  \n",
       "25%            0.0           1011.900000  \n",
       "50%            0.0           1016.450000  \n",
       "75%            0.0           1021.090000  \n",
       "max            0.0           1046.380000  "
      ]
     },
     "execution_count": 631,
     "metadata": {},
     "output_type": "execute_result"
    }
   ],
   "source": [
    "weather.describe()"
   ]
  },
  {
   "cell_type": "markdown",
   "id": "31dad687",
   "metadata": {},
   "source": [
    "### the numeric variables histogramas:"
   ]
  },
  {
   "cell_type": "code",
   "execution_count": 632,
   "id": "ce3a3dc0",
   "metadata": {},
   "outputs": [
    {
     "data": {
      "text/plain": [
       "array([[<AxesSubplot:title={'center':'Temperature (C)'}>,\n",
       "        <AxesSubplot:title={'center':'Apparent Temperature (C)'}>],\n",
       "       [<AxesSubplot:title={'center':'Wind Speed (km/h)'}>,\n",
       "        <AxesSubplot:title={'center':'Pressure (millibars)'}>],\n",
       "       [<AxesSubplot:title={'center':'Cloud Cover'}>, <AxesSubplot:>]],\n",
       "      dtype=object)"
      ]
     },
     "execution_count": 632,
     "metadata": {},
     "output_type": "execute_result"
    },
    {
     "data": {
      "image/png": "[encoded data removed]",
      "text/plain": [
       "<Figure size 1440x1080 with 6 Axes>"
      ]
     },
     "metadata": {
      "needs_background": "light"
     },
     "output_type": "display_data"
    }
   ],
   "source": [
    "atttibutes_hist = weather[[\"Temperature (C)\", \"Apparent Temperature (C)\", \"Wind Speed (km/h)\", \"Pressure (millibars)\",'Cloud Cover']].hist(bins=50, figsize=(20,15))\n",
    "atttibutes_hist"
   ]
  },
  {
   "cell_type": "markdown",
   "id": "11ce7618",
   "metadata": {},
   "source": [
    "as we can see, cloud cover has only values of 0 , so we should delete it "
   ]
  },
  {
   "cell_type": "code",
   "execution_count": 633,
   "id": "3d6ec9a0",
   "metadata": {},
   "outputs": [],
   "source": [
    "del weather['Cloud Cover']"
   ]
  },
  {
   "cell_type": "markdown",
   "id": "ee0eb50f",
   "metadata": {},
   "source": [
    "### What are the features?\n",
    "*Formatted Date - includes day, week , month, year\n",
    "\n",
    "*Summary - sum up of the weather\n",
    "\n",
    "*Precip Type - which type of raindrops \n",
    "\n",
    "*Temperature (C)\n",
    "\n",
    "*Humidity - Humidity depends on the temperature and pressure .\n",
    "\n",
    "*Wind Speed (km/h)\t\n",
    "\n",
    "*Wind Bearing (degrees)\t- direction of the wind\n",
    "\n",
    "*Visibility (km) - visibility is a measure of the distance at which an object or light can be clearly discerned.\t\n",
    "\n",
    "*Cloud Cover\t(loud cover- misprint)\n",
    "\n",
    "*Pressure (millibars) - High pressure means the air is heavy . Under high pressure you can generally expect sunny skies and calm weather , whereas Low pressure systems lead to active weather like wind and rain, and also severe weather.\n",
    "\n",
    "*Daily Summary - daily sum up of the weather\n",
    "\n",
    "\n",
    "## What is the target variable?\n",
    "\n",
    "Apparent Temperature : in simple words, Apparent Temperature is the temperature humans percieve, mostly outdoors, as a combination or the actual air temperature, humidity and wind. \n",
    "\n",
    "What else do we know?\n",
    "\n",
    "\n",
    "*we are starting with 12 variables (including the dependent)\n",
    "\n",
    "\n",
    "\n",
    "<!-- is The perceived temperature in degrees Fahrenheit derived from either a combination of temperature and wind (Wind Chill) or temperature and humidity (Heat Index) for the indicated hour. -\n",
    "->\n",
    "\n",
    "\n",
    "\n",
    "\n",
    "<!-- 1. Because the response variable is continuous, this is a regression problem.\n",
    "2.There are 96453 observations (represented by the rows), and each observation is a weather report from a different date.\n",
    " -->"
   ]
  },
  {
   "cell_type": "markdown",
   "id": "f9f27c2a",
   "metadata": {},
   "source": [
    "# 2. preprocessing of the data"
   ]
  },
  {
   "cell_type": "code",
   "execution_count": 634,
   "id": "65e9d058",
   "metadata": {},
   "outputs": [
    {
     "data": {
      "text/html": [
       "<div>\n",
       "<style scoped>\n",
       "    .dataframe tbody tr th:only-of-type {\n",
       "        vertical-align: middle;\n",
       "    }\n",
       "\n",
       "    .dataframe tbody tr th {\n",
       "        vertical-align: top;\n",
       "    }\n",
       "\n",
       "    .dataframe thead th {\n",
       "        text-align: right;\n",
       "    }\n",
       "</style>\n",
       "<table border=\"1\" class=\"dataframe\">\n",
       "  <thead>\n",
       "    <tr style=\"text-align: right;\">\n",
       "      <th></th>\n",
       "      <th>Formatted Date</th>\n",
       "      <th>Summary</th>\n",
       "      <th>Precip Type</th>\n",
       "      <th>Temperature (C)</th>\n",
       "      <th>Apparent Temperature (C)</th>\n",
       "      <th>Humidity</th>\n",
       "      <th>Wind Speed (km/h)</th>\n",
       "      <th>Wind Bearing (degrees)</th>\n",
       "      <th>Visibility (km)</th>\n",
       "      <th>Pressure (millibars)</th>\n",
       "      <th>Daily Summary</th>\n",
       "    </tr>\n",
       "  </thead>\n",
       "  <tbody>\n",
       "    <tr>\n",
       "      <th>0</th>\n",
       "      <td>2006-04-01 00:00:00.000 +0200</td>\n",
       "      <td>Partly Cloudy</td>\n",
       "      <td>rain</td>\n",
       "      <td>9.472222</td>\n",
       "      <td>7.388889</td>\n",
       "      <td>0.89</td>\n",
       "      <td>14.1197</td>\n",
       "      <td>251.0</td>\n",
       "      <td>15.8263</td>\n",
       "      <td>1015.13</td>\n",
       "      <td>Partly cloudy throughout the day.</td>\n",
       "    </tr>\n",
       "    <tr>\n",
       "      <th>1</th>\n",
       "      <td>2006-04-01 01:00:00.000 +0200</td>\n",
       "      <td>Partly Cloudy</td>\n",
       "      <td>rain</td>\n",
       "      <td>9.355556</td>\n",
       "      <td>7.227778</td>\n",
       "      <td>0.86</td>\n",
       "      <td>14.2646</td>\n",
       "      <td>259.0</td>\n",
       "      <td>15.8263</td>\n",
       "      <td>1015.63</td>\n",
       "      <td>Partly cloudy throughout the day.</td>\n",
       "    </tr>\n",
       "    <tr>\n",
       "      <th>2</th>\n",
       "      <td>2006-04-01 02:00:00.000 +0200</td>\n",
       "      <td>Mostly Cloudy</td>\n",
       "      <td>rain</td>\n",
       "      <td>9.377778</td>\n",
       "      <td>9.377778</td>\n",
       "      <td>0.89</td>\n",
       "      <td>3.9284</td>\n",
       "      <td>204.0</td>\n",
       "      <td>14.9569</td>\n",
       "      <td>1015.94</td>\n",
       "      <td>Partly cloudy throughout the day.</td>\n",
       "    </tr>\n",
       "    <tr>\n",
       "      <th>3</th>\n",
       "      <td>2006-04-01 03:00:00.000 +0200</td>\n",
       "      <td>Partly Cloudy</td>\n",
       "      <td>rain</td>\n",
       "      <td>8.288889</td>\n",
       "      <td>5.944444</td>\n",
       "      <td>0.83</td>\n",
       "      <td>14.1036</td>\n",
       "      <td>269.0</td>\n",
       "      <td>15.8263</td>\n",
       "      <td>1016.41</td>\n",
       "      <td>Partly cloudy throughout the day.</td>\n",
       "    </tr>\n",
       "    <tr>\n",
       "      <th>4</th>\n",
       "      <td>2006-04-01 04:00:00.000 +0200</td>\n",
       "      <td>Mostly Cloudy</td>\n",
       "      <td>rain</td>\n",
       "      <td>8.755556</td>\n",
       "      <td>6.977778</td>\n",
       "      <td>0.83</td>\n",
       "      <td>11.0446</td>\n",
       "      <td>259.0</td>\n",
       "      <td>15.8263</td>\n",
       "      <td>1016.51</td>\n",
       "      <td>Partly cloudy throughout the day.</td>\n",
       "    </tr>\n",
       "    <tr>\n",
       "      <th>...</th>\n",
       "      <td>...</td>\n",
       "      <td>...</td>\n",
       "      <td>...</td>\n",
       "      <td>...</td>\n",
       "      <td>...</td>\n",
       "      <td>...</td>\n",
       "      <td>...</td>\n",
       "      <td>...</td>\n",
       "      <td>...</td>\n",
       "      <td>...</td>\n",
       "      <td>...</td>\n",
       "    </tr>\n",
       "    <tr>\n",
       "      <th>96448</th>\n",
       "      <td>2016-09-09 19:00:00.000 +0200</td>\n",
       "      <td>Partly Cloudy</td>\n",
       "      <td>rain</td>\n",
       "      <td>26.016667</td>\n",
       "      <td>26.016667</td>\n",
       "      <td>0.43</td>\n",
       "      <td>10.9963</td>\n",
       "      <td>31.0</td>\n",
       "      <td>16.1000</td>\n",
       "      <td>1014.36</td>\n",
       "      <td>Partly cloudy starting in the morning.</td>\n",
       "    </tr>\n",
       "    <tr>\n",
       "      <th>96449</th>\n",
       "      <td>2016-09-09 20:00:00.000 +0200</td>\n",
       "      <td>Partly Cloudy</td>\n",
       "      <td>rain</td>\n",
       "      <td>24.583333</td>\n",
       "      <td>24.583333</td>\n",
       "      <td>0.48</td>\n",
       "      <td>10.0947</td>\n",
       "      <td>20.0</td>\n",
       "      <td>15.5526</td>\n",
       "      <td>1015.16</td>\n",
       "      <td>Partly cloudy starting in the morning.</td>\n",
       "    </tr>\n",
       "    <tr>\n",
       "      <th>96450</th>\n",
       "      <td>2016-09-09 21:00:00.000 +0200</td>\n",
       "      <td>Partly Cloudy</td>\n",
       "      <td>rain</td>\n",
       "      <td>22.038889</td>\n",
       "      <td>22.038889</td>\n",
       "      <td>0.56</td>\n",
       "      <td>8.9838</td>\n",
       "      <td>30.0</td>\n",
       "      <td>16.1000</td>\n",
       "      <td>1015.66</td>\n",
       "      <td>Partly cloudy starting in the morning.</td>\n",
       "    </tr>\n",
       "    <tr>\n",
       "      <th>96451</th>\n",
       "      <td>2016-09-09 22:00:00.000 +0200</td>\n",
       "      <td>Partly Cloudy</td>\n",
       "      <td>rain</td>\n",
       "      <td>21.522222</td>\n",
       "      <td>21.522222</td>\n",
       "      <td>0.60</td>\n",
       "      <td>10.5294</td>\n",
       "      <td>20.0</td>\n",
       "      <td>16.1000</td>\n",
       "      <td>1015.95</td>\n",
       "      <td>Partly cloudy starting in the morning.</td>\n",
       "    </tr>\n",
       "    <tr>\n",
       "      <th>96452</th>\n",
       "      <td>2016-09-09 23:00:00.000 +0200</td>\n",
       "      <td>Partly Cloudy</td>\n",
       "      <td>rain</td>\n",
       "      <td>20.438889</td>\n",
       "      <td>20.438889</td>\n",
       "      <td>0.61</td>\n",
       "      <td>5.8765</td>\n",
       "      <td>39.0</td>\n",
       "      <td>15.5204</td>\n",
       "      <td>1016.16</td>\n",
       "      <td>Partly cloudy starting in the morning.</td>\n",
       "    </tr>\n",
       "  </tbody>\n",
       "</table>\n",
       "<p>95936 rows × 11 columns</p>\n",
       "</div>"
      ],
      "text/plain": [
       "                      Formatted Date        Summary Precip Type  \\\n",
       "0      2006-04-01 00:00:00.000 +0200  Partly Cloudy        rain   \n",
       "1      2006-04-01 01:00:00.000 +0200  Partly Cloudy        rain   \n",
       "2      2006-04-01 02:00:00.000 +0200  Mostly Cloudy        rain   \n",
       "3      2006-04-01 03:00:00.000 +0200  Partly Cloudy        rain   \n",
       "4      2006-04-01 04:00:00.000 +0200  Mostly Cloudy        rain   \n",
       "...                              ...            ...         ...   \n",
       "96448  2016-09-09 19:00:00.000 +0200  Partly Cloudy        rain   \n",
       "96449  2016-09-09 20:00:00.000 +0200  Partly Cloudy        rain   \n",
       "96450  2016-09-09 21:00:00.000 +0200  Partly Cloudy        rain   \n",
       "96451  2016-09-09 22:00:00.000 +0200  Partly Cloudy        rain   \n",
       "96452  2016-09-09 23:00:00.000 +0200  Partly Cloudy        rain   \n",
       "\n",
       "       Temperature (C)  Apparent Temperature (C)  Humidity  Wind Speed (km/h)  \\\n",
       "0             9.472222                  7.388889      0.89            14.1197   \n",
       "1             9.355556                  7.227778      0.86            14.2646   \n",
       "2             9.377778                  9.377778      0.89             3.9284   \n",
       "3             8.288889                  5.944444      0.83            14.1036   \n",
       "4             8.755556                  6.977778      0.83            11.0446   \n",
       "...                ...                       ...       ...                ...   \n",
       "96448        26.016667                 26.016667      0.43            10.9963   \n",
       "96449        24.583333                 24.583333      0.48            10.0947   \n",
       "96450        22.038889                 22.038889      0.56             8.9838   \n",
       "96451        21.522222                 21.522222      0.60            10.5294   \n",
       "96452        20.438889                 20.438889      0.61             5.8765   \n",
       "\n",
       "       Wind Bearing (degrees)  Visibility (km)  Pressure (millibars)  \\\n",
       "0                       251.0          15.8263               1015.13   \n",
       "1                       259.0          15.8263               1015.63   \n",
       "2                       204.0          14.9569               1015.94   \n",
       "3                       269.0          15.8263               1016.41   \n",
       "4                       259.0          15.8263               1016.51   \n",
       "...                       ...              ...                   ...   \n",
       "96448                    31.0          16.1000               1014.36   \n",
       "96449                    20.0          15.5526               1015.16   \n",
       "96450                    30.0          16.1000               1015.66   \n",
       "96451                    20.0          16.1000               1015.95   \n",
       "96452                    39.0          15.5204               1016.16   \n",
       "\n",
       "                                Daily Summary  \n",
       "0           Partly cloudy throughout the day.  \n",
       "1           Partly cloudy throughout the day.  \n",
       "2           Partly cloudy throughout the day.  \n",
       "3           Partly cloudy throughout the day.  \n",
       "4           Partly cloudy throughout the day.  \n",
       "...                                       ...  \n",
       "96448  Partly cloudy starting in the morning.  \n",
       "96449  Partly cloudy starting in the morning.  \n",
       "96450  Partly cloudy starting in the morning.  \n",
       "96451  Partly cloudy starting in the morning.  \n",
       "96452  Partly cloudy starting in the morning.  \n",
       "\n",
       "[95936 rows x 11 columns]"
      ]
     },
     "execution_count": 634,
     "metadata": {},
     "output_type": "execute_result"
    }
   ],
   "source": [
    "weather.dropna()"
   ]
  },
  {
   "cell_type": "code",
   "execution_count": 635,
   "id": "af7a53f2",
   "metadata": {},
   "outputs": [
    {
     "data": {
      "text/plain": [
       "Formatted Date              False\n",
       "Summary                     False\n",
       "Precip Type                  True\n",
       "Temperature (C)             False\n",
       "Apparent Temperature (C)    False\n",
       "Humidity                    False\n",
       "Wind Speed (km/h)           False\n",
       "Wind Bearing (degrees)      False\n",
       "Visibility (km)             False\n",
       "Pressure (millibars)        False\n",
       "Daily Summary               False\n",
       "dtype: bool"
      ]
     },
     "execution_count": 635,
     "metadata": {},
     "output_type": "execute_result"
    }
   ],
   "source": [
    "weather.isnull().any()"
   ]
  },
  {
   "cell_type": "markdown",
   "id": "e22fd1ca",
   "metadata": {},
   "source": [
    "as we can see, there is still nan values in the Precip Type column.\n",
    "\n",
    "we will handle this by fill in the most common catagory of this feature (rain) instead of the nan values "
   ]
  },
  {
   "cell_type": "code",
   "execution_count": 636,
   "id": "e30fea49",
   "metadata": {},
   "outputs": [
    {
     "name": "stdout",
     "output_type": "stream",
     "text": [
      "rain    85224\n",
      "snow    10712\n",
      "Name: Precip Type, dtype: int64\n"
     ]
    }
   ],
   "source": [
    "print(weather['Precip Type'].value_counts())"
   ]
  },
  {
   "cell_type": "code",
   "execution_count": 637,
   "id": "7e4563cd",
   "metadata": {},
   "outputs": [],
   "source": [
    "import pandas as pd\n",
    "pd.options.mode.chained_assignment = None  # default='warn'\n",
    "weather['Precip Type'] = weather['Precip Type'].fillna(\"rain\")"
   ]
  },
  {
   "cell_type": "markdown",
   "id": "6be4d79f",
   "metadata": {},
   "source": [
    "\n",
    "#### Precip Type, Temperature, wind speed , Wind Bearing, pressure are features that supposed to be  linked very strongly with the Apparent Temperature (according to the information we read), they are crucial for the prediction of the Apparent Temperature. \n",
    "\n",
    "on the other hand, daily summary is not that beneficial,  since we have the column Precip Type and also Summary.\n",
    "\n",
    "*The term \"wind direction\" is defined as the compass heading FROM which the wind is blowing"
   ]
  },
  {
   "cell_type": "code",
   "execution_count": 638,
   "id": "4ed19638",
   "metadata": {},
   "outputs": [],
   "source": [
    "del weather['Daily Summary']"
   ]
  },
  {
   "cell_type": "code",
   "execution_count": 639,
   "id": "8457b61e",
   "metadata": {},
   "outputs": [
    {
     "data": {
      "text/html": [
       "<div>\n",
       "<style scoped>\n",
       "    .dataframe tbody tr th:only-of-type {\n",
       "        vertical-align: middle;\n",
       "    }\n",
       "\n",
       "    .dataframe tbody tr th {\n",
       "        vertical-align: top;\n",
       "    }\n",
       "\n",
       "    .dataframe thead th {\n",
       "        text-align: right;\n",
       "    }\n",
       "</style>\n",
       "<table border=\"1\" class=\"dataframe\">\n",
       "  <thead>\n",
       "    <tr style=\"text-align: right;\">\n",
       "      <th></th>\n",
       "      <th>Formatted Date</th>\n",
       "      <th>Summary</th>\n",
       "      <th>Precip Type</th>\n",
       "      <th>Temperature (C)</th>\n",
       "      <th>Apparent Temperature (C)</th>\n",
       "      <th>Humidity</th>\n",
       "      <th>Wind Speed (km/h)</th>\n",
       "      <th>Wind Bearing (degrees)</th>\n",
       "      <th>Visibility (km)</th>\n",
       "      <th>Pressure (millibars)</th>\n",
       "    </tr>\n",
       "  </thead>\n",
       "  <tbody>\n",
       "    <tr>\n",
       "      <th>0</th>\n",
       "      <td>2006-04-01 00:00:00.000 +0200</td>\n",
       "      <td>Partly Cloudy</td>\n",
       "      <td>rain</td>\n",
       "      <td>9.472222</td>\n",
       "      <td>7.388889</td>\n",
       "      <td>0.89</td>\n",
       "      <td>14.1197</td>\n",
       "      <td>251.0</td>\n",
       "      <td>15.8263</td>\n",
       "      <td>1015.13</td>\n",
       "    </tr>\n",
       "    <tr>\n",
       "      <th>1</th>\n",
       "      <td>2006-04-01 01:00:00.000 +0200</td>\n",
       "      <td>Partly Cloudy</td>\n",
       "      <td>rain</td>\n",
       "      <td>9.355556</td>\n",
       "      <td>7.227778</td>\n",
       "      <td>0.86</td>\n",
       "      <td>14.2646</td>\n",
       "      <td>259.0</td>\n",
       "      <td>15.8263</td>\n",
       "      <td>1015.63</td>\n",
       "    </tr>\n",
       "    <tr>\n",
       "      <th>2</th>\n",
       "      <td>2006-04-01 02:00:00.000 +0200</td>\n",
       "      <td>Mostly Cloudy</td>\n",
       "      <td>rain</td>\n",
       "      <td>9.377778</td>\n",
       "      <td>9.377778</td>\n",
       "      <td>0.89</td>\n",
       "      <td>3.9284</td>\n",
       "      <td>204.0</td>\n",
       "      <td>14.9569</td>\n",
       "      <td>1015.94</td>\n",
       "    </tr>\n",
       "    <tr>\n",
       "      <th>3</th>\n",
       "      <td>2006-04-01 03:00:00.000 +0200</td>\n",
       "      <td>Partly Cloudy</td>\n",
       "      <td>rain</td>\n",
       "      <td>8.288889</td>\n",
       "      <td>5.944444</td>\n",
       "      <td>0.83</td>\n",
       "      <td>14.1036</td>\n",
       "      <td>269.0</td>\n",
       "      <td>15.8263</td>\n",
       "      <td>1016.41</td>\n",
       "    </tr>\n",
       "    <tr>\n",
       "      <th>4</th>\n",
       "      <td>2006-04-01 04:00:00.000 +0200</td>\n",
       "      <td>Mostly Cloudy</td>\n",
       "      <td>rain</td>\n",
       "      <td>8.755556</td>\n",
       "      <td>6.977778</td>\n",
       "      <td>0.83</td>\n",
       "      <td>11.0446</td>\n",
       "      <td>259.0</td>\n",
       "      <td>15.8263</td>\n",
       "      <td>1016.51</td>\n",
       "    </tr>\n",
       "    <tr>\n",
       "      <th>...</th>\n",
       "      <td>...</td>\n",
       "      <td>...</td>\n",
       "      <td>...</td>\n",
       "      <td>...</td>\n",
       "      <td>...</td>\n",
       "      <td>...</td>\n",
       "      <td>...</td>\n",
       "      <td>...</td>\n",
       "      <td>...</td>\n",
       "      <td>...</td>\n",
       "    </tr>\n",
       "    <tr>\n",
       "      <th>96448</th>\n",
       "      <td>2016-09-09 19:00:00.000 +0200</td>\n",
       "      <td>Partly Cloudy</td>\n",
       "      <td>rain</td>\n",
       "      <td>26.016667</td>\n",
       "      <td>26.016667</td>\n",
       "      <td>0.43</td>\n",
       "      <td>10.9963</td>\n",
       "      <td>31.0</td>\n",
       "      <td>16.1000</td>\n",
       "      <td>1014.36</td>\n",
       "    </tr>\n",
       "    <tr>\n",
       "      <th>96449</th>\n",
       "      <td>2016-09-09 20:00:00.000 +0200</td>\n",
       "      <td>Partly Cloudy</td>\n",
       "      <td>rain</td>\n",
       "      <td>24.583333</td>\n",
       "      <td>24.583333</td>\n",
       "      <td>0.48</td>\n",
       "      <td>10.0947</td>\n",
       "      <td>20.0</td>\n",
       "      <td>15.5526</td>\n",
       "      <td>1015.16</td>\n",
       "    </tr>\n",
       "    <tr>\n",
       "      <th>96450</th>\n",
       "      <td>2016-09-09 21:00:00.000 +0200</td>\n",
       "      <td>Partly Cloudy</td>\n",
       "      <td>rain</td>\n",
       "      <td>22.038889</td>\n",
       "      <td>22.038889</td>\n",
       "      <td>0.56</td>\n",
       "      <td>8.9838</td>\n",
       "      <td>30.0</td>\n",
       "      <td>16.1000</td>\n",
       "      <td>1015.66</td>\n",
       "    </tr>\n",
       "    <tr>\n",
       "      <th>96451</th>\n",
       "      <td>2016-09-09 22:00:00.000 +0200</td>\n",
       "      <td>Partly Cloudy</td>\n",
       "      <td>rain</td>\n",
       "      <td>21.522222</td>\n",
       "      <td>21.522222</td>\n",
       "      <td>0.60</td>\n",
       "      <td>10.5294</td>\n",
       "      <td>20.0</td>\n",
       "      <td>16.1000</td>\n",
       "      <td>1015.95</td>\n",
       "    </tr>\n",
       "    <tr>\n",
       "      <th>96452</th>\n",
       "      <td>2016-09-09 23:00:00.000 +0200</td>\n",
       "      <td>Partly Cloudy</td>\n",
       "      <td>rain</td>\n",
       "      <td>20.438889</td>\n",
       "      <td>20.438889</td>\n",
       "      <td>0.61</td>\n",
       "      <td>5.8765</td>\n",
       "      <td>39.0</td>\n",
       "      <td>15.5204</td>\n",
       "      <td>1016.16</td>\n",
       "    </tr>\n",
       "  </tbody>\n",
       "</table>\n",
       "<p>96453 rows × 10 columns</p>\n",
       "</div>"
      ],
      "text/plain": [
       "                      Formatted Date        Summary Precip Type  \\\n",
       "0      2006-04-01 00:00:00.000 +0200  Partly Cloudy        rain   \n",
       "1      2006-04-01 01:00:00.000 +0200  Partly Cloudy        rain   \n",
       "2      2006-04-01 02:00:00.000 +0200  Mostly Cloudy        rain   \n",
       "3      2006-04-01 03:00:00.000 +0200  Partly Cloudy        rain   \n",
       "4      2006-04-01 04:00:00.000 +0200  Mostly Cloudy        rain   \n",
       "...                              ...            ...         ...   \n",
       "96448  2016-09-09 19:00:00.000 +0200  Partly Cloudy        rain   \n",
       "96449  2016-09-09 20:00:00.000 +0200  Partly Cloudy        rain   \n",
       "96450  2016-09-09 21:00:00.000 +0200  Partly Cloudy        rain   \n",
       "96451  2016-09-09 22:00:00.000 +0200  Partly Cloudy        rain   \n",
       "96452  2016-09-09 23:00:00.000 +0200  Partly Cloudy        rain   \n",
       "\n",
       "       Temperature (C)  Apparent Temperature (C)  Humidity  Wind Speed (km/h)  \\\n",
       "0             9.472222                  7.388889      0.89            14.1197   \n",
       "1             9.355556                  7.227778      0.86            14.2646   \n",
       "2             9.377778                  9.377778      0.89             3.9284   \n",
       "3             8.288889                  5.944444      0.83            14.1036   \n",
       "4             8.755556                  6.977778      0.83            11.0446   \n",
       "...                ...                       ...       ...                ...   \n",
       "96448        26.016667                 26.016667      0.43            10.9963   \n",
       "96449        24.583333                 24.583333      0.48            10.0947   \n",
       "96450        22.038889                 22.038889      0.56             8.9838   \n",
       "96451        21.522222                 21.522222      0.60            10.5294   \n",
       "96452        20.438889                 20.438889      0.61             5.8765   \n",
       "\n",
       "       Wind Bearing (degrees)  Visibility (km)  Pressure (millibars)  \n",
       "0                       251.0          15.8263               1015.13  \n",
       "1                       259.0          15.8263               1015.63  \n",
       "2                       204.0          14.9569               1015.94  \n",
       "3                       269.0          15.8263               1016.41  \n",
       "4                       259.0          15.8263               1016.51  \n",
       "...                       ...              ...                   ...  \n",
       "96448                    31.0          16.1000               1014.36  \n",
       "96449                    20.0          15.5526               1015.16  \n",
       "96450                    30.0          16.1000               1015.66  \n",
       "96451                    20.0          16.1000               1015.95  \n",
       "96452                    39.0          15.5204               1016.16  \n",
       "\n",
       "[96453 rows x 10 columns]"
      ]
     },
     "execution_count": 639,
     "metadata": {},
     "output_type": "execute_result"
    }
   ],
   "source": [
    "weather"
   ]
  },
  {
   "cell_type": "markdown",
   "id": "896d511c",
   "metadata": {},
   "source": [
    "now , we will split the 'Formatted Date' feature to 4 different numeric attributes in order to get a better understanding of the data  "
   ]
  },
  {
   "cell_type": "code",
   "execution_count": 640,
   "id": "2756cfbe",
   "metadata": {},
   "outputs": [],
   "source": [
    "import datetime"
   ]
  },
  {
   "cell_type": "code",
   "execution_count": 641,
   "id": "038cb71c",
   "metadata": {},
   "outputs": [],
   "source": [
    "weather['Formatted Date'] = pd.to_datetime(weather['Formatted Date'],utc=True)"
   ]
  },
  {
   "cell_type": "code",
   "execution_count": 642,
   "id": "33a529a4",
   "metadata": {},
   "outputs": [],
   "source": [
    "weather['year'] = weather['Formatted Date'].dt.year\n",
    "weather['month'] = weather['Formatted Date'].dt.month\n",
    "weather['day'] = weather['Formatted Date'].dt.day\n",
    "weather['weekday'] = weather['Formatted Date'].dt.weekday"
   ]
  },
  {
   "cell_type": "code",
   "execution_count": 643,
   "id": "972fecfe",
   "metadata": {},
   "outputs": [],
   "source": [
    "del weather['Formatted Date']"
   ]
  },
  {
   "cell_type": "code",
   "execution_count": 644,
   "id": "6f42d124",
   "metadata": {},
   "outputs": [
    {
     "data": {
      "text/html": [
       "<div>\n",
       "<style scoped>\n",
       "    .dataframe tbody tr th:only-of-type {\n",
       "        vertical-align: middle;\n",
       "    }\n",
       "\n",
       "    .dataframe tbody tr th {\n",
       "        vertical-align: top;\n",
       "    }\n",
       "\n",
       "    .dataframe thead th {\n",
       "        text-align: right;\n",
       "    }\n",
       "</style>\n",
       "<table border=\"1\" class=\"dataframe\">\n",
       "  <thead>\n",
       "    <tr style=\"text-align: right;\">\n",
       "      <th></th>\n",
       "      <th>Summary</th>\n",
       "      <th>Precip Type</th>\n",
       "      <th>Temperature (C)</th>\n",
       "      <th>Apparent Temperature (C)</th>\n",
       "      <th>Humidity</th>\n",
       "      <th>Wind Speed (km/h)</th>\n",
       "      <th>Wind Bearing (degrees)</th>\n",
       "      <th>Visibility (km)</th>\n",
       "      <th>Pressure (millibars)</th>\n",
       "      <th>year</th>\n",
       "      <th>month</th>\n",
       "      <th>day</th>\n",
       "      <th>weekday</th>\n",
       "    </tr>\n",
       "  </thead>\n",
       "  <tbody>\n",
       "    <tr>\n",
       "      <th>0</th>\n",
       "      <td>Partly Cloudy</td>\n",
       "      <td>rain</td>\n",
       "      <td>9.472222</td>\n",
       "      <td>7.388889</td>\n",
       "      <td>0.89</td>\n",
       "      <td>14.1197</td>\n",
       "      <td>251.0</td>\n",
       "      <td>15.8263</td>\n",
       "      <td>1015.13</td>\n",
       "      <td>2006</td>\n",
       "      <td>3</td>\n",
       "      <td>31</td>\n",
       "      <td>4</td>\n",
       "    </tr>\n",
       "    <tr>\n",
       "      <th>1</th>\n",
       "      <td>Partly Cloudy</td>\n",
       "      <td>rain</td>\n",
       "      <td>9.355556</td>\n",
       "      <td>7.227778</td>\n",
       "      <td>0.86</td>\n",
       "      <td>14.2646</td>\n",
       "      <td>259.0</td>\n",
       "      <td>15.8263</td>\n",
       "      <td>1015.63</td>\n",
       "      <td>2006</td>\n",
       "      <td>3</td>\n",
       "      <td>31</td>\n",
       "      <td>4</td>\n",
       "    </tr>\n",
       "    <tr>\n",
       "      <th>2</th>\n",
       "      <td>Mostly Cloudy</td>\n",
       "      <td>rain</td>\n",
       "      <td>9.377778</td>\n",
       "      <td>9.377778</td>\n",
       "      <td>0.89</td>\n",
       "      <td>3.9284</td>\n",
       "      <td>204.0</td>\n",
       "      <td>14.9569</td>\n",
       "      <td>1015.94</td>\n",
       "      <td>2006</td>\n",
       "      <td>4</td>\n",
       "      <td>1</td>\n",
       "      <td>5</td>\n",
       "    </tr>\n",
       "    <tr>\n",
       "      <th>3</th>\n",
       "      <td>Partly Cloudy</td>\n",
       "      <td>rain</td>\n",
       "      <td>8.288889</td>\n",
       "      <td>5.944444</td>\n",
       "      <td>0.83</td>\n",
       "      <td>14.1036</td>\n",
       "      <td>269.0</td>\n",
       "      <td>15.8263</td>\n",
       "      <td>1016.41</td>\n",
       "      <td>2006</td>\n",
       "      <td>4</td>\n",
       "      <td>1</td>\n",
       "      <td>5</td>\n",
       "    </tr>\n",
       "    <tr>\n",
       "      <th>4</th>\n",
       "      <td>Mostly Cloudy</td>\n",
       "      <td>rain</td>\n",
       "      <td>8.755556</td>\n",
       "      <td>6.977778</td>\n",
       "      <td>0.83</td>\n",
       "      <td>11.0446</td>\n",
       "      <td>259.0</td>\n",
       "      <td>15.8263</td>\n",
       "      <td>1016.51</td>\n",
       "      <td>2006</td>\n",
       "      <td>4</td>\n",
       "      <td>1</td>\n",
       "      <td>5</td>\n",
       "    </tr>\n",
       "    <tr>\n",
       "      <th>...</th>\n",
       "      <td>...</td>\n",
       "      <td>...</td>\n",
       "      <td>...</td>\n",
       "      <td>...</td>\n",
       "      <td>...</td>\n",
       "      <td>...</td>\n",
       "      <td>...</td>\n",
       "      <td>...</td>\n",
       "      <td>...</td>\n",
       "      <td>...</td>\n",
       "      <td>...</td>\n",
       "      <td>...</td>\n",
       "      <td>...</td>\n",
       "    </tr>\n",
       "    <tr>\n",
       "      <th>96448</th>\n",
       "      <td>Partly Cloudy</td>\n",
       "      <td>rain</td>\n",
       "      <td>26.016667</td>\n",
       "      <td>26.016667</td>\n",
       "      <td>0.43</td>\n",
       "      <td>10.9963</td>\n",
       "      <td>31.0</td>\n",
       "      <td>16.1000</td>\n",
       "      <td>1014.36</td>\n",
       "      <td>2016</td>\n",
       "      <td>9</td>\n",
       "      <td>9</td>\n",
       "      <td>4</td>\n",
       "    </tr>\n",
       "    <tr>\n",
       "      <th>96449</th>\n",
       "      <td>Partly Cloudy</td>\n",
       "      <td>rain</td>\n",
       "      <td>24.583333</td>\n",
       "      <td>24.583333</td>\n",
       "      <td>0.48</td>\n",
       "      <td>10.0947</td>\n",
       "      <td>20.0</td>\n",
       "      <td>15.5526</td>\n",
       "      <td>1015.16</td>\n",
       "      <td>2016</td>\n",
       "      <td>9</td>\n",
       "      <td>9</td>\n",
       "      <td>4</td>\n",
       "    </tr>\n",
       "    <tr>\n",
       "      <th>96450</th>\n",
       "      <td>Partly Cloudy</td>\n",
       "      <td>rain</td>\n",
       "      <td>22.038889</td>\n",
       "      <td>22.038889</td>\n",
       "      <td>0.56</td>\n",
       "      <td>8.9838</td>\n",
       "      <td>30.0</td>\n",
       "      <td>16.1000</td>\n",
       "      <td>1015.66</td>\n",
       "      <td>2016</td>\n",
       "      <td>9</td>\n",
       "      <td>9</td>\n",
       "      <td>4</td>\n",
       "    </tr>\n",
       "    <tr>\n",
       "      <th>96451</th>\n",
       "      <td>Partly Cloudy</td>\n",
       "      <td>rain</td>\n",
       "      <td>21.522222</td>\n",
       "      <td>21.522222</td>\n",
       "      <td>0.60</td>\n",
       "      <td>10.5294</td>\n",
       "      <td>20.0</td>\n",
       "      <td>16.1000</td>\n",
       "      <td>1015.95</td>\n",
       "      <td>2016</td>\n",
       "      <td>9</td>\n",
       "      <td>9</td>\n",
       "      <td>4</td>\n",
       "    </tr>\n",
       "    <tr>\n",
       "      <th>96452</th>\n",
       "      <td>Partly Cloudy</td>\n",
       "      <td>rain</td>\n",
       "      <td>20.438889</td>\n",
       "      <td>20.438889</td>\n",
       "      <td>0.61</td>\n",
       "      <td>5.8765</td>\n",
       "      <td>39.0</td>\n",
       "      <td>15.5204</td>\n",
       "      <td>1016.16</td>\n",
       "      <td>2016</td>\n",
       "      <td>9</td>\n",
       "      <td>9</td>\n",
       "      <td>4</td>\n",
       "    </tr>\n",
       "  </tbody>\n",
       "</table>\n",
       "<p>96453 rows × 13 columns</p>\n",
       "</div>"
      ],
      "text/plain": [
       "             Summary Precip Type  Temperature (C)  Apparent Temperature (C)  \\\n",
       "0      Partly Cloudy        rain         9.472222                  7.388889   \n",
       "1      Partly Cloudy        rain         9.355556                  7.227778   \n",
       "2      Mostly Cloudy        rain         9.377778                  9.377778   \n",
       "3      Partly Cloudy        rain         8.288889                  5.944444   \n",
       "4      Mostly Cloudy        rain         8.755556                  6.977778   \n",
       "...              ...         ...              ...                       ...   \n",
       "96448  Partly Cloudy        rain        26.016667                 26.016667   \n",
       "96449  Partly Cloudy        rain        24.583333                 24.583333   \n",
       "96450  Partly Cloudy        rain        22.038889                 22.038889   \n",
       "96451  Partly Cloudy        rain        21.522222                 21.522222   \n",
       "96452  Partly Cloudy        rain        20.438889                 20.438889   \n",
       "\n",
       "       Humidity  Wind Speed (km/h)  Wind Bearing (degrees)  Visibility (km)  \\\n",
       "0          0.89            14.1197                   251.0          15.8263   \n",
       "1          0.86            14.2646                   259.0          15.8263   \n",
       "2          0.89             3.9284                   204.0          14.9569   \n",
       "3          0.83            14.1036                   269.0          15.8263   \n",
       "4          0.83            11.0446                   259.0          15.8263   \n",
       "...         ...                ...                     ...              ...   \n",
       "96448      0.43            10.9963                    31.0          16.1000   \n",
       "96449      0.48            10.0947                    20.0          15.5526   \n",
       "96450      0.56             8.9838                    30.0          16.1000   \n",
       "96451      0.60            10.5294                    20.0          16.1000   \n",
       "96452      0.61             5.8765                    39.0          15.5204   \n",
       "\n",
       "       Pressure (millibars)  year  month  day  weekday  \n",
       "0                   1015.13  2006      3   31        4  \n",
       "1                   1015.63  2006      3   31        4  \n",
       "2                   1015.94  2006      4    1        5  \n",
       "3                   1016.41  2006      4    1        5  \n",
       "4                   1016.51  2006      4    1        5  \n",
       "...                     ...   ...    ...  ...      ...  \n",
       "96448               1014.36  2016      9    9        4  \n",
       "96449               1015.16  2016      9    9        4  \n",
       "96450               1015.66  2016      9    9        4  \n",
       "96451               1015.95  2016      9    9        4  \n",
       "96452               1016.16  2016      9    9        4  \n",
       "\n",
       "[96453 rows x 13 columns]"
      ]
     },
     "execution_count": 644,
     "metadata": {},
     "output_type": "execute_result"
    }
   ],
   "source": [
    "weather"
   ]
  },
  {
   "cell_type": "markdown",
   "id": "f5ed24c7",
   "metadata": {},
   "source": [
    "# checking the relations between humidity and pressure, according to information we've read"
   ]
  },
  {
   "cell_type": "markdown",
   "id": "d97cfddf",
   "metadata": {},
   "source": [
    "As humidity increases pressure decreases"
   ]
  },
  {
   "cell_type": "code",
   "execution_count": 645,
   "id": "f6800c5a",
   "metadata": {},
   "outputs": [
    {
     "data": {
      "text/html": [
       "<div>\n",
       "<style scoped>\n",
       "    .dataframe tbody tr th:only-of-type {\n",
       "        vertical-align: middle;\n",
       "    }\n",
       "\n",
       "    .dataframe tbody tr th {\n",
       "        vertical-align: top;\n",
       "    }\n",
       "\n",
       "    .dataframe thead th {\n",
       "        text-align: right;\n",
       "    }\n",
       "</style>\n",
       "<table border=\"1\" class=\"dataframe\">\n",
       "  <thead>\n",
       "    <tr style=\"text-align: right;\">\n",
       "      <th></th>\n",
       "      <th>Apparent Temperature (C)</th>\n",
       "      <th>Humidity</th>\n",
       "      <th>Visibility (km)</th>\n",
       "      <th>Wind Speed (km/h)</th>\n",
       "    </tr>\n",
       "  </thead>\n",
       "  <tbody>\n",
       "    <tr>\n",
       "      <th>0</th>\n",
       "      <td>7.388889</td>\n",
       "      <td>0.89</td>\n",
       "      <td>15.8263</td>\n",
       "      <td>14.1197</td>\n",
       "    </tr>\n",
       "    <tr>\n",
       "      <th>1</th>\n",
       "      <td>7.227778</td>\n",
       "      <td>0.86</td>\n",
       "      <td>15.8263</td>\n",
       "      <td>14.2646</td>\n",
       "    </tr>\n",
       "    <tr>\n",
       "      <th>2</th>\n",
       "      <td>9.377778</td>\n",
       "      <td>0.89</td>\n",
       "      <td>14.9569</td>\n",
       "      <td>3.9284</td>\n",
       "    </tr>\n",
       "    <tr>\n",
       "      <th>3</th>\n",
       "      <td>5.944444</td>\n",
       "      <td>0.83</td>\n",
       "      <td>15.8263</td>\n",
       "      <td>14.1036</td>\n",
       "    </tr>\n",
       "    <tr>\n",
       "      <th>4</th>\n",
       "      <td>6.977778</td>\n",
       "      <td>0.83</td>\n",
       "      <td>15.8263</td>\n",
       "      <td>11.0446</td>\n",
       "    </tr>\n",
       "    <tr>\n",
       "      <th>...</th>\n",
       "      <td>...</td>\n",
       "      <td>...</td>\n",
       "      <td>...</td>\n",
       "      <td>...</td>\n",
       "    </tr>\n",
       "    <tr>\n",
       "      <th>96448</th>\n",
       "      <td>26.016667</td>\n",
       "      <td>0.43</td>\n",
       "      <td>16.1000</td>\n",
       "      <td>10.9963</td>\n",
       "    </tr>\n",
       "    <tr>\n",
       "      <th>96449</th>\n",
       "      <td>24.583333</td>\n",
       "      <td>0.48</td>\n",
       "      <td>15.5526</td>\n",
       "      <td>10.0947</td>\n",
       "    </tr>\n",
       "    <tr>\n",
       "      <th>96450</th>\n",
       "      <td>22.038889</td>\n",
       "      <td>0.56</td>\n",
       "      <td>16.1000</td>\n",
       "      <td>8.9838</td>\n",
       "    </tr>\n",
       "    <tr>\n",
       "      <th>96451</th>\n",
       "      <td>21.522222</td>\n",
       "      <td>0.60</td>\n",
       "      <td>16.1000</td>\n",
       "      <td>10.5294</td>\n",
       "    </tr>\n",
       "    <tr>\n",
       "      <th>96452</th>\n",
       "      <td>20.438889</td>\n",
       "      <td>0.61</td>\n",
       "      <td>15.5204</td>\n",
       "      <td>5.8765</td>\n",
       "    </tr>\n",
       "  </tbody>\n",
       "</table>\n",
       "<p>96453 rows × 4 columns</p>\n",
       "</div>"
      ],
      "text/plain": [
       "       Apparent Temperature (C)  Humidity  Visibility (km)  Wind Speed (km/h)\n",
       "0                      7.388889      0.89          15.8263            14.1197\n",
       "1                      7.227778      0.86          15.8263            14.2646\n",
       "2                      9.377778      0.89          14.9569             3.9284\n",
       "3                      5.944444      0.83          15.8263            14.1036\n",
       "4                      6.977778      0.83          15.8263            11.0446\n",
       "...                         ...       ...              ...                ...\n",
       "96448                 26.016667      0.43          16.1000            10.9963\n",
       "96449                 24.583333      0.48          15.5526            10.0947\n",
       "96450                 22.038889      0.56          16.1000             8.9838\n",
       "96451                 21.522222      0.60          16.1000            10.5294\n",
       "96452                 20.438889      0.61          15.5204             5.8765\n",
       "\n",
       "[96453 rows x 4 columns]"
      ]
     },
     "execution_count": 645,
     "metadata": {},
     "output_type": "execute_result"
    }
   ],
   "source": [
    "weather[['Apparent Temperature (C)','Humidity','Visibility (km)','Wind Speed (km/h)']]"
   ]
  },
  {
   "cell_type": "markdown",
   "id": "7d222ea1",
   "metadata": {},
   "source": [
    "getting rid of outliers:\n"
   ]
  },
  {
   "cell_type": "code",
   "execution_count": 646,
   "id": "44023cd0",
   "metadata": {},
   "outputs": [
    {
     "name": "stdout",
     "output_type": "stream",
     "text": [
      "Partly Cloudy                          31733\n",
      "Mostly Cloudy                          28094\n",
      "Overcast                               16597\n",
      "Clear                                  10890\n",
      "Foggy                                   7148\n",
      "Breezy and Overcast                      528\n",
      "Breezy and Mostly Cloudy                 516\n",
      "Breezy and Partly Cloudy                 386\n",
      "Dry and Partly Cloudy                     86\n",
      "Windy and Partly Cloudy                   67\n",
      "Light Rain                                63\n",
      "Breezy                                    54\n",
      "Windy and Overcast                        45\n",
      "Humid and Mostly Cloudy                   40\n",
      "Drizzle                                   39\n",
      "Windy and Mostly Cloudy                   35\n",
      "Breezy and Foggy                          35\n",
      "Dry                                       34\n",
      "Humid and Partly Cloudy                   17\n",
      "Dry and Mostly Cloudy                     14\n",
      "Rain                                      10\n",
      "Windy                                      8\n",
      "Humid and Overcast                         7\n",
      "Windy and Foggy                            4\n",
      "Dangerously Windy and Partly Cloudy        1\n",
      "Breezy and Dry                             1\n",
      "Windy and Dry                              1\n",
      "Name: Summary, dtype: int64\n"
     ]
    }
   ],
   "source": [
    "print(weather['Summary'].value_counts())"
   ]
  },
  {
   "cell_type": "code",
   "execution_count": 647,
   "id": "229f8840",
   "metadata": {},
   "outputs": [
    {
     "name": "stdout",
     "output_type": "stream",
     "text": [
      "Partly Cloudy               31733\n",
      "Mostly Cloudy               28094\n",
      "Overcast                    16597\n",
      "Clear                       10890\n",
      "Foggy                        7148\n",
      "Breezy and Overcast           528\n",
      "Breezy and Mostly Cloudy      516\n",
      "Breezy and Partly Cloudy      386\n",
      "Dry and Partly Cloudy          86\n",
      "Windy and Partly Cloudy        67\n",
      "Light Rain                     63\n",
      "Breezy                         54\n",
      "Windy and Overcast             45\n",
      "Humid and Mostly Cloudy        40\n",
      "Drizzle                        39\n",
      "Windy and Mostly Cloudy        35\n",
      "Breezy and Foggy               35\n",
      "Dry                            34\n",
      "Humid and Partly Cloudy        17\n",
      "Dry and Mostly Cloudy          14\n",
      "Rain                           10\n",
      "Windy                           8\n",
      "Humid and Overcast              7\n",
      "Windy and Foggy                 4\n",
      "Name: Summary, dtype: int64\n"
     ]
    }
   ],
   "source": [
    "weather = weather[(weather['Summary'] != \"Dangerously Windy and Partly Cloudy\") &( weather['Summary'] != \"Breezy and Dry\") & (weather['Summary']!=\"Windy and Dry\") ]\n",
    "print(weather['Summary'].value_counts())"
   ]
  },
  {
   "cell_type": "code",
   "execution_count": 648,
   "id": "248cedc6",
   "metadata": {},
   "outputs": [
    {
     "data": {
      "text/plain": [
       "0        False\n",
       "1        False\n",
       "2        False\n",
       "3        False\n",
       "4        False\n",
       "         ...  \n",
       "96448    False\n",
       "96449    False\n",
       "96450    False\n",
       "96451    False\n",
       "96452    False\n",
       "Name: Summary, Length: 96450, dtype: bool"
      ]
     },
     "execution_count": 648,
     "metadata": {},
     "output_type": "execute_result"
    }
   ],
   "source": [
    "weather['Summary']=='Foggy'"
   ]
  },
  {
   "cell_type": "markdown",
   "id": "67e7ecb7",
   "metadata": {},
   "source": [
    "### replacing a feature with a better one"
   ]
  },
  {
   "cell_type": "code",
   "execution_count": 649,
   "id": "d01e59f1",
   "metadata": {},
   "outputs": [
    {
     "data": {
      "text/plain": [
       "array([[<AxesSubplot:title={'center':'Temperature (C)'}>,\n",
       "        <AxesSubplot:title={'center':'month'}>],\n",
       "       [<AxesSubplot:title={'center':'Humidity'}>, <AxesSubplot:>]],\n",
       "      dtype=object)"
      ]
     },
     "execution_count": 649,
     "metadata": {},
     "output_type": "execute_result"
    },
    {
     "data": {
      "image/png": "[encoded data removed]",
      "text/plain": [
       "<Figure size 1440x1080 with 4 Axes>"
      ]
     },
     "metadata": {
      "needs_background": "light"
     },
     "output_type": "display_data"
    }
   ],
   "source": [
    "atttibutes_hist = weather[[\"Temperature (C)\",\"month\",'Humidity']].hist(bins=50, figsize=(20,15))\n",
    "atttibutes_hist"
   ]
  },
  {
   "cell_type": "code",
   "execution_count": 650,
   "id": "7569efca",
   "metadata": {
    "scrolled": true
   },
   "outputs": [
    {
     "data": {
      "text/plain": [
       "<seaborn.axisgrid.PairGrid at 0x19a813a6dc0>"
      ]
     },
     "execution_count": 650,
     "metadata": {},
     "output_type": "execute_result"
    },
    {
     "data": {
      "image/png": "[encoded data removed]",
      "text/plain": [
       "<Figure size 352.8x504 with 1 Axes>"
      ]
     },
     "metadata": {
      "needs_background": "light"
     },
     "output_type": "display_data"
    }
   ],
   "source": [
    "sns.pairplot(weather, x_vars=['month'], y_vars='Apparent Temperature (C)', height=7, aspect=0.7, kind='reg')"
   ]
  },
  {
   "cell_type": "code",
   "execution_count": 651,
   "id": "9e2192d7",
   "metadata": {},
   "outputs": [
    {
     "data": {
      "text/plain": [
       "<matplotlib.collections.PathCollection at 0x19a813396a0>"
      ]
     },
     "execution_count": 651,
     "metadata": {},
     "output_type": "execute_result"
    },
    {
     "data": {
      "image/png": "[encoded data removed]",
      "text/plain": [
       "<Figure size 432x288 with 1 Axes>"
      ]
     },
     "metadata": {
      "needs_background": "light"
     },
     "output_type": "display_data"
    }
   ],
   "source": [
    "plt.scatter(weather['Humidity'], weather['Visibility (km)'])"
   ]
  },
  {
   "cell_type": "code",
   "execution_count": 652,
   "id": "606f09a8",
   "metadata": {
    "scrolled": true
   },
   "outputs": [
    {
     "data": {
      "image/png": "[encoded data removed]",
      "text/plain": [
       "<Figure size 432x288 with 1 Axes>"
      ]
     },
     "metadata": {},
     "output_type": "display_data"
    }
   ],
   "source": [
    "import seaborn as sns; sns.set_theme(color_codes=True)\n",
    "ax = sns.regplot(x='Humidity', y=\"Pressure (millibars)\", data=weather)"
   ]
  },
  {
   "cell_type": "code",
   "execution_count": 653,
   "id": "91557fa0",
   "metadata": {},
   "outputs": [
    {
     "data": {
      "text/plain": [
       "'Pressure (millibars)'"
      ]
     },
     "execution_count": 653,
     "metadata": {},
     "output_type": "execute_result"
    }
   ],
   "source": [
    "'Pressure (millibars)'"
   ]
  },
  {
   "cell_type": "code",
   "execution_count": 654,
   "id": "2ba97a22",
   "metadata": {
    "scrolled": false
   },
   "outputs": [
    {
     "data": {
      "text/plain": [
       "<seaborn.axisgrid.PairGrid at 0x19aa7af14f0>"
      ]
     },
     "execution_count": 654,
     "metadata": {},
     "output_type": "execute_result"
    },
    {
     "data": {
      "image/png": "[encoded data removed]",
      "text/plain": [
       "<Figure size 352.8x504 with 1 Axes>"
      ]
     },
     "metadata": {},
     "output_type": "display_data"
    }
   ],
   "source": [
    "#plt.plot(weather['Pressure (millibars)'], weather['Apparent Temperature (C)'])#, 'b') # 'b' is for blue color -- Shift+Tab for more options\n",
    "# We can add labels and title\n",
    "# plt.xlabel('X Axis Title')\n",
    "# plt.ylabel('Y Axis Title')\n",
    "# plt.title('Figure/plot Title')\n",
    "#plt.scatter(weather['Pressure (millibars)'], weather['Humidity'])\n",
    "sns.pairplot(weather, x_vars='Wind Speed (km/h)', y_vars='Visibility (km)', height=7, aspect=0.7, kind='reg')"
   ]
  },
  {
   "cell_type": "markdown",
   "id": "54349cd8",
   "metadata": {},
   "source": [
    "conclusion: when humidity is low, pressure is high"
   ]
  },
  {
   "cell_type": "markdown",
   "id": "8dc68b81",
   "metadata": {},
   "source": [
    "#### as we can see above, the Apparent Temperature  is higher in the months that are in the middle of the year.\n",
    "\n",
    "####  so, we can create a feature that checks if the month is in the middle of the year , or the beggining or the end - we will set the beggining of the middle to be the 5th month, and the end of the middle to be the 9th month\n",
    "\n",
    "#### this feature will be called: \"middle of year\" and will have yes/no values.\n",
    "\n",
    "#### this is a good idea to replace this feature with the \"month\" feature , since it's giving us a more intuitive relation with the Apparent Temperature, and it probably has a  stronger correlation to it."
   ]
  },
  {
   "cell_type": "code",
   "execution_count": 655,
   "id": "2caa95a9",
   "metadata": {},
   "outputs": [],
   "source": [
    "weather['middle of year']=(weather['month']>5) & (weather['month']<9)"
   ]
  },
  {
   "cell_type": "code",
   "execution_count": 656,
   "id": "4753891a",
   "metadata": {
    "scrolled": true
   },
   "outputs": [
    {
     "data": {
      "text/plain": [
       "<seaborn.axisgrid.PairGrid at 0x19ab104d640>"
      ]
     },
     "execution_count": 656,
     "metadata": {},
     "output_type": "execute_result"
    },
    {
     "data": {
      "image/png": "[encoded data removed]",
      "text/plain": [
       "<Figure size 352.8x504 with 1 Axes>"
      ]
     },
     "metadata": {},
     "output_type": "display_data"
    }
   ],
   "source": [
    "sns.pairplot(weather, x_vars=['middle of year'], y_vars='Apparent Temperature (C)', height=7, aspect=0.7, kind='reg')"
   ]
  },
  {
   "cell_type": "code",
   "execution_count": 657,
   "id": "1fda2e1c",
   "metadata": {},
   "outputs": [],
   "source": [
    "#del weather['month']"
   ]
  },
  {
   "cell_type": "markdown",
   "id": "ba4c758c",
   "metadata": {},
   "source": [
    "as we can see in the correlation below:"
   ]
  },
  {
   "cell_type": "code",
   "execution_count": 658,
   "id": "b4a290f7",
   "metadata": {
    "scrolled": true
   },
   "outputs": [
    {
     "data": {
      "text/plain": [
       "Apparent Temperature (C)    1.000000\n",
       "Temperature (C)             0.992629\n",
       "middle of year              0.605518\n",
       "Visibility (km)             0.381730\n",
       "month                       0.158002\n",
       "Wind Bearing (degrees)      0.029040\n",
       "year                        0.017155\n",
       "day                         0.001729\n",
       "weekday                     0.000391\n",
       "Pressure (millibars)       -0.000222\n",
       "Wind Speed (km/h)          -0.056719\n",
       "Humidity                   -0.602572\n",
       "Name: Apparent Temperature (C), dtype: float64"
      ]
     },
     "execution_count": 658,
     "metadata": {},
     "output_type": "execute_result"
    }
   ],
   "source": [
    "corr_matrix = weather.corr()\n",
    "corr_matrix['Apparent Temperature (C)'].sort_values(ascending=False)"
   ]
  },
  {
   "cell_type": "markdown",
   "id": "235f90af",
   "metadata": {},
   "source": [
    "## 1.2 encoding catagorial data"
   ]
  },
  {
   "cell_type": "markdown",
   "id": "bf19594c",
   "metadata": {},
   "source": [
    "we need to encode Summary, Precip Type and middle of year to numeric columns"
   ]
  },
  {
   "cell_type": "code",
   "execution_count": 659,
   "id": "b5ba947b",
   "metadata": {},
   "outputs": [],
   "source": [
    "# i will save the original dataFrame for a later use, for example , for the data visualization.\n",
    "weather_copy=weather.copy()"
   ]
  },
  {
   "cell_type": "code",
   "execution_count": 660,
   "id": "54e76a61",
   "metadata": {},
   "outputs": [
    {
     "data": {
      "text/plain": [
       "array(['rain', 'snow'], dtype=object)"
      ]
     },
     "execution_count": 660,
     "metadata": {},
     "output_type": "execute_result"
    }
   ],
   "source": [
    "weather['Precip Type'].unique()"
   ]
  },
  {
   "cell_type": "code",
   "execution_count": 661,
   "id": "c9460baa",
   "metadata": {},
   "outputs": [
    {
     "name": "stdout",
     "output_type": "stream",
     "text": [
      "False    72141\n",
      "True     24309\n",
      "Name: middle of year, dtype: int64\n"
     ]
    }
   ],
   "source": [
    "print(weather['middle of year'].value_counts())"
   ]
  },
  {
   "cell_type": "code",
   "execution_count": 662,
   "id": "1eff03c7",
   "metadata": {},
   "outputs": [
    {
     "name": "stdout",
     "output_type": "stream",
     "text": [
      "rain    85738\n",
      "snow    10712\n",
      "Name: Precip Type, dtype: int64\n"
     ]
    }
   ],
   "source": [
    "# or \n",
    "print(weather['Precip Type'].value_counts())"
   ]
  },
  {
   "cell_type": "markdown",
   "id": "dc5cb65b",
   "metadata": {},
   "source": [
    "If a categorical column has just two categories (it's called a binary category), then we can replace their values with 0 and 1. and because the 'Precip Type' column has only 2 catagoreis:"
   ]
  },
  {
   "cell_type": "code",
   "execution_count": 663,
   "id": "7743cc9d",
   "metadata": {},
   "outputs": [],
   "source": [
    "precip_types = {'rain':0,'snow':1}\n",
    "weather['precip_type']= weather['Precip Type'].map(precip_types)"
   ]
  },
  {
   "cell_type": "code",
   "execution_count": 664,
   "id": "b8df467b",
   "metadata": {},
   "outputs": [
    {
     "data": {
      "text/plain": [
       "0        0\n",
       "1        0\n",
       "2        0\n",
       "3        0\n",
       "4        0\n",
       "        ..\n",
       "96448    0\n",
       "96449    0\n",
       "96450    0\n",
       "96451    0\n",
       "96452    0\n",
       "Name: precip_type, Length: 96450, dtype: int64"
      ]
     },
     "execution_count": 664,
     "metadata": {},
     "output_type": "execute_result"
    }
   ],
   "source": [
    "weather['precip_type']"
   ]
  },
  {
   "cell_type": "code",
   "execution_count": 665,
   "id": "ec4c8dab",
   "metadata": {},
   "outputs": [
    {
     "data": {
      "text/plain": [
       "array(['Partly Cloudy', 'Mostly Cloudy', 'Overcast', 'Foggy',\n",
       "       'Breezy and Mostly Cloudy', 'Clear', 'Breezy and Partly Cloudy',\n",
       "       'Breezy and Overcast', 'Humid and Mostly Cloudy',\n",
       "       'Humid and Partly Cloudy', 'Windy and Foggy', 'Windy and Overcast',\n",
       "       'Breezy and Foggy', 'Windy and Partly Cloudy', 'Breezy',\n",
       "       'Dry and Partly Cloudy', 'Windy and Mostly Cloudy', 'Dry', 'Windy',\n",
       "       'Humid and Overcast', 'Light Rain', 'Drizzle',\n",
       "       'Dry and Mostly Cloudy', 'Rain'], dtype=object)"
      ]
     },
     "execution_count": 665,
     "metadata": {},
     "output_type": "execute_result"
    }
   ],
   "source": [
    "weather['Summary'].unique()"
   ]
  },
  {
   "cell_type": "markdown",
   "id": "a62db4e3",
   "metadata": {},
   "source": [
    "In contrast to the 'precip_type' column , the Summary column has a lot of catagories, so we will use labelEncoder in order to transform the non-numerical labels to numerical labels  \n"
   ]
  },
  {
   "cell_type": "code",
   "execution_count": 666,
   "id": "d802416e",
   "metadata": {},
   "outputs": [
    {
     "data": {
      "text/plain": [
       "array([17, 15, 16, 10,  2,  5,  4,  3, 11, 13, 20, 22,  1, 23,  0,  9, 21,\n",
       "        7, 19, 12, 14,  6,  8, 18])"
      ]
     },
     "execution_count": 666,
     "metadata": {},
     "output_type": "execute_result"
    }
   ],
   "source": [
    "from sklearn import preprocessing\n",
    "lbl_encoder=preprocessing.LabelEncoder()\n",
    "weather['summary'] = lbl_encoder.fit_transform(weather['Summary'])\n",
    "weather['summary'].unique()"
   ]
  },
  {
   "cell_type": "markdown",
   "id": "3e37beb5",
   "metadata": {},
   "source": [
    "now, after we encoded these values, we need to handle another problem:\n",
    "the machine learning model may assume that there is some correlation between these variables, which will produce the wrong output. So to remove this issue, we will use dummy encoding."
   ]
  },
  {
   "cell_type": "markdown",
   "id": "880e8195",
   "metadata": {},
   "source": [
    "For Dummy Encoding, we will use OneHotEncoder class of preprocessing library."
   ]
  },
  {
   "cell_type": "code",
   "execution_count": 667,
   "id": "500e9e88",
   "metadata": {},
   "outputs": [],
   "source": [
    "# #for Country Variable  \n",
    "# from sklearn.preprocessing import LabelEncoder, OneHotEncoder  \n",
    "# label_encoder_x= LabelEncoder()  \n",
    "# weather['Precip Type']= label_encoder_x.fit_transform(weather['Precip Type'])  \n",
    "# #Encoding for dummy variables  \n",
    "# onehot_encoder= OneHotEncoder(categories=weather['Precip Type'])    \n",
    "\n",
    "\n",
    "# pre= onehot_encoder.fit_transform(pre).toarray()  "
   ]
  },
  {
   "cell_type": "code",
   "execution_count": 668,
   "id": "705436a0",
   "metadata": {},
   "outputs": [],
   "source": [
    "# dummy encoding of categorical features\n",
    "from sklearn.preprocessing import OneHotEncoder\n",
    "ohe = OneHotEncoder(sparse=False)\n"
   ]
  },
  {
   "cell_type": "code",
   "execution_count": 669,
   "id": "ec8da2cf",
   "metadata": {},
   "outputs": [
    {
     "data": {
      "text/plain": [
       "array([[0., 0., 0., ..., 0., 0., 0.],\n",
       "       [0., 0., 0., ..., 0., 0., 0.],\n",
       "       [0., 0., 0., ..., 0., 0., 0.],\n",
       "       ...,\n",
       "       [0., 0., 0., ..., 0., 0., 0.],\n",
       "       [0., 0., 0., ..., 0., 0., 0.],\n",
       "       [0., 0., 0., ..., 0., 0., 0.]])"
      ]
     },
     "execution_count": 669,
     "metadata": {},
     "output_type": "execute_result"
    }
   ],
   "source": [
    "ohe.fit_transform(weather[['summary']])"
   ]
  },
  {
   "cell_type": "code",
   "execution_count": 670,
   "id": "2ce612f1",
   "metadata": {},
   "outputs": [
    {
     "data": {
      "text/plain": [
       "[array([ 0,  1,  2,  3,  4,  5,  6,  7,  8,  9, 10, 11, 12, 13, 14, 15, 16,\n",
       "        17, 18, 19, 20, 21, 22, 23])]"
      ]
     },
     "execution_count": 670,
     "metadata": {},
     "output_type": "execute_result"
    }
   ],
   "source": [
    "ohe.categories_"
   ]
  },
  {
   "cell_type": "code",
   "execution_count": 671,
   "id": "5c67846d",
   "metadata": {},
   "outputs": [
    {
     "data": {
      "text/plain": [
       "array([[1., 0.],\n",
       "       [1., 0.],\n",
       "       [1., 0.],\n",
       "       ...,\n",
       "       [1., 0.],\n",
       "       [1., 0.],\n",
       "       [1., 0.]])"
      ]
     },
     "execution_count": 671,
     "metadata": {},
     "output_type": "execute_result"
    }
   ],
   "source": [
    "ohe.fit_transform(weather[['precip_type']])"
   ]
  },
  {
   "cell_type": "code",
   "execution_count": 672,
   "id": "7f91ef12",
   "metadata": {},
   "outputs": [
    {
     "data": {
      "text/plain": [
       "array([[1., 0.],\n",
       "       [1., 0.],\n",
       "       [1., 0.],\n",
       "       ...,\n",
       "       [1., 0.],\n",
       "       [1., 0.],\n",
       "       [1., 0.]])"
      ]
     },
     "execution_count": 672,
     "metadata": {},
     "output_type": "execute_result"
    }
   ],
   "source": [
    "ohe.fit_transform(weather[['middle of year']])"
   ]
  },
  {
   "cell_type": "code",
   "execution_count": 673,
   "id": "44dceaf6",
   "metadata": {},
   "outputs": [
    {
     "data": {
      "text/plain": [
       "precip_type    96450\n",
       "dtype: int64"
      ]
     },
     "execution_count": 673,
     "metadata": {},
     "output_type": "execute_result"
    }
   ],
   "source": [
    "(weather[['precip_type']]==1.).count()"
   ]
  },
  {
   "cell_type": "code",
   "execution_count": 674,
   "id": "c26156b4",
   "metadata": {},
   "outputs": [
    {
     "data": {
      "text/html": [
       "<div>\n",
       "<style scoped>\n",
       "    .dataframe tbody tr th:only-of-type {\n",
       "        vertical-align: middle;\n",
       "    }\n",
       "\n",
       "    .dataframe tbody tr th {\n",
       "        vertical-align: top;\n",
       "    }\n",
       "\n",
       "    .dataframe thead th {\n",
       "        text-align: right;\n",
       "    }\n",
       "</style>\n",
       "<table border=\"1\" class=\"dataframe\">\n",
       "  <thead>\n",
       "    <tr style=\"text-align: right;\">\n",
       "      <th></th>\n",
       "      <th>Summary</th>\n",
       "      <th>Precip Type</th>\n",
       "      <th>Temperature (C)</th>\n",
       "      <th>Apparent Temperature (C)</th>\n",
       "      <th>Humidity</th>\n",
       "      <th>Wind Speed (km/h)</th>\n",
       "      <th>Wind Bearing (degrees)</th>\n",
       "      <th>Visibility (km)</th>\n",
       "      <th>Pressure (millibars)</th>\n",
       "      <th>year</th>\n",
       "      <th>month</th>\n",
       "      <th>day</th>\n",
       "      <th>weekday</th>\n",
       "      <th>middle of year</th>\n",
       "      <th>precip_type</th>\n",
       "      <th>summary</th>\n",
       "    </tr>\n",
       "  </thead>\n",
       "  <tbody>\n",
       "    <tr>\n",
       "      <th>0</th>\n",
       "      <td>Partly Cloudy</td>\n",
       "      <td>rain</td>\n",
       "      <td>9.472222</td>\n",
       "      <td>7.388889</td>\n",
       "      <td>0.89</td>\n",
       "      <td>14.1197</td>\n",
       "      <td>251.0</td>\n",
       "      <td>15.8263</td>\n",
       "      <td>1015.13</td>\n",
       "      <td>2006</td>\n",
       "      <td>3</td>\n",
       "      <td>31</td>\n",
       "      <td>4</td>\n",
       "      <td>False</td>\n",
       "      <td>0</td>\n",
       "      <td>17</td>\n",
       "    </tr>\n",
       "    <tr>\n",
       "      <th>1</th>\n",
       "      <td>Partly Cloudy</td>\n",
       "      <td>rain</td>\n",
       "      <td>9.355556</td>\n",
       "      <td>7.227778</td>\n",
       "      <td>0.86</td>\n",
       "      <td>14.2646</td>\n",
       "      <td>259.0</td>\n",
       "      <td>15.8263</td>\n",
       "      <td>1015.63</td>\n",
       "      <td>2006</td>\n",
       "      <td>3</td>\n",
       "      <td>31</td>\n",
       "      <td>4</td>\n",
       "      <td>False</td>\n",
       "      <td>0</td>\n",
       "      <td>17</td>\n",
       "    </tr>\n",
       "    <tr>\n",
       "      <th>2</th>\n",
       "      <td>Mostly Cloudy</td>\n",
       "      <td>rain</td>\n",
       "      <td>9.377778</td>\n",
       "      <td>9.377778</td>\n",
       "      <td>0.89</td>\n",
       "      <td>3.9284</td>\n",
       "      <td>204.0</td>\n",
       "      <td>14.9569</td>\n",
       "      <td>1015.94</td>\n",
       "      <td>2006</td>\n",
       "      <td>4</td>\n",
       "      <td>1</td>\n",
       "      <td>5</td>\n",
       "      <td>False</td>\n",
       "      <td>0</td>\n",
       "      <td>15</td>\n",
       "    </tr>\n",
       "    <tr>\n",
       "      <th>3</th>\n",
       "      <td>Partly Cloudy</td>\n",
       "      <td>rain</td>\n",
       "      <td>8.288889</td>\n",
       "      <td>5.944444</td>\n",
       "      <td>0.83</td>\n",
       "      <td>14.1036</td>\n",
       "      <td>269.0</td>\n",
       "      <td>15.8263</td>\n",
       "      <td>1016.41</td>\n",
       "      <td>2006</td>\n",
       "      <td>4</td>\n",
       "      <td>1</td>\n",
       "      <td>5</td>\n",
       "      <td>False</td>\n",
       "      <td>0</td>\n",
       "      <td>17</td>\n",
       "    </tr>\n",
       "    <tr>\n",
       "      <th>4</th>\n",
       "      <td>Mostly Cloudy</td>\n",
       "      <td>rain</td>\n",
       "      <td>8.755556</td>\n",
       "      <td>6.977778</td>\n",
       "      <td>0.83</td>\n",
       "      <td>11.0446</td>\n",
       "      <td>259.0</td>\n",
       "      <td>15.8263</td>\n",
       "      <td>1016.51</td>\n",
       "      <td>2006</td>\n",
       "      <td>4</td>\n",
       "      <td>1</td>\n",
       "      <td>5</td>\n",
       "      <td>False</td>\n",
       "      <td>0</td>\n",
       "      <td>15</td>\n",
       "    </tr>\n",
       "    <tr>\n",
       "      <th>...</th>\n",
       "      <td>...</td>\n",
       "      <td>...</td>\n",
       "      <td>...</td>\n",
       "      <td>...</td>\n",
       "      <td>...</td>\n",
       "      <td>...</td>\n",
       "      <td>...</td>\n",
       "      <td>...</td>\n",
       "      <td>...</td>\n",
       "      <td>...</td>\n",
       "      <td>...</td>\n",
       "      <td>...</td>\n",
       "      <td>...</td>\n",
       "      <td>...</td>\n",
       "      <td>...</td>\n",
       "      <td>...</td>\n",
       "    </tr>\n",
       "    <tr>\n",
       "      <th>96448</th>\n",
       "      <td>Partly Cloudy</td>\n",
       "      <td>rain</td>\n",
       "      <td>26.016667</td>\n",
       "      <td>26.016667</td>\n",
       "      <td>0.43</td>\n",
       "      <td>10.9963</td>\n",
       "      <td>31.0</td>\n",
       "      <td>16.1000</td>\n",
       "      <td>1014.36</td>\n",
       "      <td>2016</td>\n",
       "      <td>9</td>\n",
       "      <td>9</td>\n",
       "      <td>4</td>\n",
       "      <td>False</td>\n",
       "      <td>0</td>\n",
       "      <td>17</td>\n",
       "    </tr>\n",
       "    <tr>\n",
       "      <th>96449</th>\n",
       "      <td>Partly Cloudy</td>\n",
       "      <td>rain</td>\n",
       "      <td>24.583333</td>\n",
       "      <td>24.583333</td>\n",
       "      <td>0.48</td>\n",
       "      <td>10.0947</td>\n",
       "      <td>20.0</td>\n",
       "      <td>15.5526</td>\n",
       "      <td>1015.16</td>\n",
       "      <td>2016</td>\n",
       "      <td>9</td>\n",
       "      <td>9</td>\n",
       "      <td>4</td>\n",
       "      <td>False</td>\n",
       "      <td>0</td>\n",
       "      <td>17</td>\n",
       "    </tr>\n",
       "    <tr>\n",
       "      <th>96450</th>\n",
       "      <td>Partly Cloudy</td>\n",
       "      <td>rain</td>\n",
       "      <td>22.038889</td>\n",
       "      <td>22.038889</td>\n",
       "      <td>0.56</td>\n",
       "      <td>8.9838</td>\n",
       "      <td>30.0</td>\n",
       "      <td>16.1000</td>\n",
       "      <td>1015.66</td>\n",
       "      <td>2016</td>\n",
       "      <td>9</td>\n",
       "      <td>9</td>\n",
       "      <td>4</td>\n",
       "      <td>False</td>\n",
       "      <td>0</td>\n",
       "      <td>17</td>\n",
       "    </tr>\n",
       "    <tr>\n",
       "      <th>96451</th>\n",
       "      <td>Partly Cloudy</td>\n",
       "      <td>rain</td>\n",
       "      <td>21.522222</td>\n",
       "      <td>21.522222</td>\n",
       "      <td>0.60</td>\n",
       "      <td>10.5294</td>\n",
       "      <td>20.0</td>\n",
       "      <td>16.1000</td>\n",
       "      <td>1015.95</td>\n",
       "      <td>2016</td>\n",
       "      <td>9</td>\n",
       "      <td>9</td>\n",
       "      <td>4</td>\n",
       "      <td>False</td>\n",
       "      <td>0</td>\n",
       "      <td>17</td>\n",
       "    </tr>\n",
       "    <tr>\n",
       "      <th>96452</th>\n",
       "      <td>Partly Cloudy</td>\n",
       "      <td>rain</td>\n",
       "      <td>20.438889</td>\n",
       "      <td>20.438889</td>\n",
       "      <td>0.61</td>\n",
       "      <td>5.8765</td>\n",
       "      <td>39.0</td>\n",
       "      <td>15.5204</td>\n",
       "      <td>1016.16</td>\n",
       "      <td>2016</td>\n",
       "      <td>9</td>\n",
       "      <td>9</td>\n",
       "      <td>4</td>\n",
       "      <td>False</td>\n",
       "      <td>0</td>\n",
       "      <td>17</td>\n",
       "    </tr>\n",
       "  </tbody>\n",
       "</table>\n",
       "<p>96450 rows × 16 columns</p>\n",
       "</div>"
      ],
      "text/plain": [
       "             Summary Precip Type  Temperature (C)  Apparent Temperature (C)  \\\n",
       "0      Partly Cloudy        rain         9.472222                  7.388889   \n",
       "1      Partly Cloudy        rain         9.355556                  7.227778   \n",
       "2      Mostly Cloudy        rain         9.377778                  9.377778   \n",
       "3      Partly Cloudy        rain         8.288889                  5.944444   \n",
       "4      Mostly Cloudy        rain         8.755556                  6.977778   \n",
       "...              ...         ...              ...                       ...   \n",
       "96448  Partly Cloudy        rain        26.016667                 26.016667   \n",
       "96449  Partly Cloudy        rain        24.583333                 24.583333   \n",
       "96450  Partly Cloudy        rain        22.038889                 22.038889   \n",
       "96451  Partly Cloudy        rain        21.522222                 21.522222   \n",
       "96452  Partly Cloudy        rain        20.438889                 20.438889   \n",
       "\n",
       "       Humidity  Wind Speed (km/h)  Wind Bearing (degrees)  Visibility (km)  \\\n",
       "0          0.89            14.1197                   251.0          15.8263   \n",
       "1          0.86            14.2646                   259.0          15.8263   \n",
       "2          0.89             3.9284                   204.0          14.9569   \n",
       "3          0.83            14.1036                   269.0          15.8263   \n",
       "4          0.83            11.0446                   259.0          15.8263   \n",
       "...         ...                ...                     ...              ...   \n",
       "96448      0.43            10.9963                    31.0          16.1000   \n",
       "96449      0.48            10.0947                    20.0          15.5526   \n",
       "96450      0.56             8.9838                    30.0          16.1000   \n",
       "96451      0.60            10.5294                    20.0          16.1000   \n",
       "96452      0.61             5.8765                    39.0          15.5204   \n",
       "\n",
       "       Pressure (millibars)  year  month  day  weekday  middle of year  \\\n",
       "0                   1015.13  2006      3   31        4           False   \n",
       "1                   1015.63  2006      3   31        4           False   \n",
       "2                   1015.94  2006      4    1        5           False   \n",
       "3                   1016.41  2006      4    1        5           False   \n",
       "4                   1016.51  2006      4    1        5           False   \n",
       "...                     ...   ...    ...  ...      ...             ...   \n",
       "96448               1014.36  2016      9    9        4           False   \n",
       "96449               1015.16  2016      9    9        4           False   \n",
       "96450               1015.66  2016      9    9        4           False   \n",
       "96451               1015.95  2016      9    9        4           False   \n",
       "96452               1016.16  2016      9    9        4           False   \n",
       "\n",
       "       precip_type  summary  \n",
       "0                0       17  \n",
       "1                0       17  \n",
       "2                0       15  \n",
       "3                0       17  \n",
       "4                0       15  \n",
       "...            ...      ...  \n",
       "96448            0       17  \n",
       "96449            0       17  \n",
       "96450            0       17  \n",
       "96451            0       17  \n",
       "96452            0       17  \n",
       "\n",
       "[96450 rows x 16 columns]"
      ]
     },
     "execution_count": 674,
     "metadata": {},
     "output_type": "execute_result"
    }
   ],
   "source": [
    "weather"
   ]
  },
  {
   "cell_type": "markdown",
   "id": "700f6033",
   "metadata": {},
   "source": [
    "## 1.3 doing onehotencoding at the same time on both of the categorial columns\n"
   ]
  },
  {
   "cell_type": "code",
   "execution_count": 675,
   "id": "d43535fc",
   "metadata": {},
   "outputs": [],
   "source": [
    "# X= weather_copy.loc[:, ['Summary','middle of year'] ]"
   ]
  },
  {
   "cell_type": "code",
   "execution_count": 676,
   "id": "f9a2665f",
   "metadata": {},
   "outputs": [],
   "source": [
    "# X"
   ]
  },
  {
   "cell_type": "code",
   "execution_count": 677,
   "id": "86911edf",
   "metadata": {},
   "outputs": [],
   "source": [
    "weather['middle of year']=pd.get_dummies(weather['middle of year'])"
   ]
  },
  {
   "cell_type": "code",
   "execution_count": 678,
   "id": "744ea2be",
   "metadata": {},
   "outputs": [],
   "source": [
    "# use when different features need different preprocessing\n",
    "from sklearn.compose import make_column_transformer\n",
    "\n"
   ]
  },
  {
   "cell_type": "code",
   "execution_count": 679,
   "id": "805b2565",
   "metadata": {},
   "outputs": [],
   "source": [
    "column_trans = make_column_transformer(\n",
    "    (OneHotEncoder(), ['Summary','middle of year']),\n",
    "    remainder='passthrough')"
   ]
  },
  {
   "cell_type": "code",
   "execution_count": 715,
   "id": "2ab2a5d0",
   "metadata": {},
   "outputs": [],
   "source": [
    "# X=column_trans.fit_transform(X)"
   ]
  },
  {
   "cell_type": "code",
   "execution_count": null,
   "id": "d7c19fe9",
   "metadata": {},
   "outputs": [],
   "source": [
    "X"
   ]
  },
  {
   "cell_type": "markdown",
   "id": "90680647",
   "metadata": {},
   "source": [
    "now, we will remove Summary and Precip Type columns, cause we alredy made the numeric version of them(summary,precip_type)"
   ]
  },
  {
   "cell_type": "code",
   "execution_count": null,
   "id": "55d8de82",
   "metadata": {},
   "outputs": [],
   "source": [
    "del weather['Summary']\n",
    "del weather['Precip Type']"
   ]
  },
  {
   "cell_type": "code",
   "execution_count": null,
   "id": "6e5d8b2d",
   "metadata": {
    "scrolled": true
   },
   "outputs": [],
   "source": [
    "weather"
   ]
  },
  {
   "cell_type": "code",
   "execution_count": null,
   "id": "dbb4b0ef",
   "metadata": {},
   "outputs": [],
   "source": [
    "pd.DataFrame(data={'features': weather.columns})"
   ]
  },
  {
   "cell_type": "code",
   "execution_count": null,
   "id": "1412a17e",
   "metadata": {},
   "outputs": [],
   "source": [
    "weather"
   ]
  },
  {
   "cell_type": "markdown",
   "id": "7ea8a2af",
   "metadata": {},
   "source": [
    "# 3. data visualization"
   ]
  },
  {
   "cell_type": "markdown",
   "id": "e8eea100",
   "metadata": {},
   "source": [
    " using the preproccessed dataFrame, before scaling, \n",
    "in order to get meaningful and clear picture of the data"
   ]
  },
  {
   "cell_type": "code",
   "execution_count": null,
   "id": "b97cda03",
   "metadata": {},
   "outputs": [],
   "source": [
    "# import matplotlib.pyplot as plt\n",
    "# weather.plot(x='Apparent Temperature (C)', y=[\"precip_type\"])\n",
    "# plt.show()"
   ]
  },
  {
   "cell_type": "code",
   "execution_count": null,
   "id": "b04001f6",
   "metadata": {},
   "outputs": [],
   "source": [
    "AT_column = weather['Apparent Temperature (C)']"
   ]
  },
  {
   "cell_type": "code",
   "execution_count": null,
   "id": "fbdafd20",
   "metadata": {
    "scrolled": true
   },
   "outputs": [],
   "source": [
    "AT_column.plot(kind=\"hist\")\n",
    "AxesSubplot='Frequency'"
   ]
  },
  {
   "cell_type": "markdown",
   "id": "2d4d4f56",
   "metadata": {},
   "source": [
    "##### this means that the most frequent Apparent Temperature is in the range between 10 to 20 celcius"
   ]
  },
  {
   "cell_type": "code",
   "execution_count": null,
   "id": "16b852ce",
   "metadata": {},
   "outputs": [],
   "source": [
    "# import matplotlib\n",
    "# import seaborn as sns\n",
    "# import matplotlib.pyplot as plt\n",
    "# import plotly.express as px\n",
    "# %matplotlib inline\n"
   ]
  },
  {
   "cell_type": "code",
   "execution_count": null,
   "id": "2f861a8f",
   "metadata": {},
   "outputs": [],
   "source": [
    "# import matplotlib\n",
    "# import seaborn as sns\n",
    "# import matplotlib.pyplot as plt\n",
    "# import plotly.express as px\n",
    "# %matplotlib inline\n",
    "\n",
    "# fig , axs = plt.subplots(ncols=7,nrows=2, figsize=(20,10))\n",
    "# index=0\n",
    "# axs= axs.flatten()\n",
    "# for k ,v in weather.items():\n",
    "#     sns.boxplot(y=k, data=weather , ax=axs[index])\n",
    "#     index +=1\n",
    "# plt.tight_layout(pad=0.4, w_pad=0.5, h_pad=5.0)"
   ]
  },
  {
   "cell_type": "code",
   "execution_count": null,
   "id": "5e804978",
   "metadata": {},
   "outputs": [],
   "source": [
    "# fig , axs = plt.subplots(ncols=7,nrows=2, figsize=(20,10))\n",
    "# index=0\n",
    "# axs= axs.flatten()\n",
    "# for k ,v in weather.items():\n",
    "#     sns.boxplot(y=k, data=weather , ax=axs[index])\n",
    "#     index +=1\n",
    "# plt.tight_layout(pad=0.4, w_pad=0.5, h_pad=5.0)"
   ]
  },
  {
   "cell_type": "markdown",
   "id": "04f4f331",
   "metadata": {},
   "source": [
    "# correlations"
   ]
  },
  {
   "cell_type": "markdown",
   "id": "3004e893",
   "metadata": {},
   "source": [
    "### correlation matrix"
   ]
  },
  {
   "cell_type": "code",
   "execution_count": null,
   "id": "e3ce795b",
   "metadata": {},
   "outputs": [],
   "source": [
    "weather['pressure-humidity-ratio']=weather['Humidity']/weather['Pressure (millibars)']"
   ]
  },
  {
   "cell_type": "code",
   "execution_count": null,
   "id": "7b6e0892",
   "metadata": {},
   "outputs": [],
   "source": [
    "weather['pressure-humidity-ratio']"
   ]
  },
  {
   "cell_type": "code",
   "execution_count": null,
   "id": "f5f5a985",
   "metadata": {},
   "outputs": [],
   "source": [
    "weather['humidity-wind-ratio']=weather['Wind Speed (km/h)']/weather['Humidity']"
   ]
  },
  {
   "cell_type": "code",
   "execution_count": null,
   "id": "6fa815a1",
   "metadata": {},
   "outputs": [],
   "source": [
    "weather['wind-visibility-ratio']=weather['Wind Speed (km/h)']/weather['Visibility (km)']"
   ]
  },
  {
   "cell_type": "code",
   "execution_count": null,
   "id": "51a843ef",
   "metadata": {},
   "outputs": [],
   "source": [
    "plt.figure(figsize=(12,12))\n",
    "sns.heatmap((weather['pressure-humidity-ratio'],weather['Apparent Temperature (C)']).corr(),annot=True);"
   ]
  },
  {
   "cell_type": "code",
   "execution_count": null,
   "id": "01a1496b",
   "metadata": {},
   "outputs": [],
   "source": [
    "weather.describe()[['humidity-wind-ratio', 'wind-visibility-ratio','Visibility (km)']]"
   ]
  },
  {
   "cell_type": "code",
   "execution_count": null,
   "id": "1f9bff10",
   "metadata": {
    "scrolled": false
   },
   "outputs": [],
   "source": [
    "plt.figure(figsize=(20,10))\n",
    "sns.heatmap(weather.corr(),annot=True);"
   ]
  },
  {
   "cell_type": "code",
   "execution_count": null,
   "id": "a3e4ca1e",
   "metadata": {},
   "outputs": [],
   "source": [
    "sns.pairplot(df[['Selling_Price', 'Present_Price_Age_ratio', 'Present_Price_KMs_ratio', 'KMs_Per_year']], kind='reg')"
   ]
  },
  {
   "cell_type": "markdown",
   "id": "5c8cd8d4",
   "metadata": {},
   "source": [
    "as we can see from the heatmap above, the correlation between the Apparent Temperature to the pressure is very low"
   ]
  },
  {
   "cell_type": "code",
   "execution_count": null,
   "id": "4e6d0c1a",
   "metadata": {},
   "outputs": [],
   "source": [
    "# del weather['Pressure (millibars)']\n",
    "del weather['weekday']\n",
    "del weather['day']"
   ]
  },
  {
   "cell_type": "code",
   "execution_count": null,
   "id": "063595aa",
   "metadata": {},
   "outputs": [],
   "source": [
    "# numerical  features correlation:"
   ]
  },
  {
   "cell_type": "code",
   "execution_count": null,
   "id": "f1f740ea",
   "metadata": {
    "scrolled": true
   },
   "outputs": [],
   "source": [
    "# visualize the relationship between the features and the response using scatterplots\n",
    "sns.pairplot(weather, x_vars=['Temperature (C)','Humidity','Wind Speed (km/h)','Wind Bearing (degrees)','Visibility (km)'], y_vars='Apparent Temperature (C)', height=7, aspect=0.7, kind='reg')"
   ]
  },
  {
   "cell_type": "code",
   "execution_count": null,
   "id": "e32b1b21",
   "metadata": {},
   "outputs": [],
   "source": [
    "# categorial features correlation:"
   ]
  },
  {
   "cell_type": "code",
   "execution_count": null,
   "id": "6cdb1646",
   "metadata": {},
   "outputs": [],
   "source": [
    "fig, axes = plt.subplots(2, 2, figsize=(15, 15))\n",
    "fig.suptitle('categorial features:')\n",
    "\n",
    "sns.swarmplot(ax=axes[0,0], x=\"Temperature (C)\", y=\"Apparent Temperature (C)\", data=weather_copy)\n",
    "sns.swarmplot(ax=axes[0,1], x=\"Humidity\", y=\"Apparent Temperature (C)\", data=weather_copy)\n",
    "sns.swarmplot(ax=axes[1,0], x=\"Wind Speed (km/h)\", y=\"Apparent Temperature (C)\", data=weather_copy)\n",
    "sns.swarmplot(ax=axes[1,1], x=\"Wind Bearing (degrees)\", y=\"Apparent Temperature (C)s\", data=weather_copy)"
   ]
  },
  {
   "cell_type": "markdown",
   "id": "6baf9981",
   "metadata": {},
   "source": [
    "# 4. choosing a regression metric -"
   ]
  },
  {
   "cell_type": "markdown",
   "id": "0aadda44",
   "metadata": {},
   "source": [
    "### We chose Mean abs error as a metric due to the explanations below and also beacause of the following dummy model results   (mae had a better result than rmse)"
   ]
  },
  {
   "cell_type": "markdown",
   "id": "8621df5e",
   "metadata": {},
   "source": [
    "##### Mean Squared Error (MSE)"
   ]
  },
  {
   "cell_type": "markdown",
   "id": "40985d7b",
   "metadata": {},
   "source": [
    "The MSE is calculated as the mean or average of the squared differences between predicted and expected target values in a dataset\n",
    "\n",
    "when MSE is used as a loss function (regression metric), a lot of weight is given to larger errors because of the square\n",
    "The units of the MSE are squared units.\n",
    "\n",
    "A model that achieves an MSE better than the MSE for the naive model has skill."
   ]
  },
  {
   "cell_type": "code",
   "execution_count": null,
   "id": "3b9c92dd",
   "metadata": {},
   "outputs": [],
   "source": [
    "from matplotlib import pyplot\n",
    "from sklearn.metrics import mean_squared_error"
   ]
  },
  {
   "cell_type": "code",
   "execution_count": null,
   "id": "3db6ec4c",
   "metadata": {},
   "outputs": [],
   "source": [
    "# example of calculate the mean squared error\n",
    "# real value\n",
    "expected = [1.0, 1.0, 1.0, 1.0, 1.0, 1.0, 1.0, 1.0, 1.0, 1.0, 1.0]\n",
    "# predicted value\n",
    "predicted = [1.0, 0.9, 0.8, 0.7, 0.6, 0.5, 0.4, 0.3, 0.2, 0.1, 0.0]\n",
    "# calculate errors\n",
    "errors = mean_squared_error(expected, predicted)\n",
    "# report error\n",
    "print(errors)"
   ]
  },
  {
   "cell_type": "markdown",
   "id": "81127412",
   "metadata": {},
   "source": [
    "##### Root Mean Squared Error"
   ]
  },
  {
   "cell_type": "markdown",
   "id": "e897b312",
   "metadata": {},
   "source": [
    "the units of the RMSE are the same as the original units of the target value that is being predicted, in contrast to MSE.\n",
    "this is the advantage comapring to MSE."
   ]
  },
  {
   "cell_type": "code",
   "execution_count": null,
   "id": "584198b8",
   "metadata": {},
   "outputs": [],
   "source": [
    "mean_squared_error(y_true, y_pred, squared=False)"
   ]
  },
  {
   "cell_type": "markdown",
   "id": "e8a9815e",
   "metadata": {},
   "source": [
    "#### Mean abs error"
   ]
  },
  {
   "cell_type": "markdown",
   "id": "f305a9d4",
   "metadata": {},
   "source": [
    "like RMSE, the units of the error score match the units of the target value that is being predicted.\n",
    "\n",
    "Unlike the RMSE, the changes in MAE are linear and therefore intuitive."
   ]
  },
  {
   "cell_type": "code",
   "execution_count": null,
   "id": "c3f008be",
   "metadata": {},
   "outputs": [],
   "source": [
    "# example of calculate the mean absolute error\n",
    "from sklearn.metrics import mean_absolute_error\n",
    "# real value\n",
    "expected = [1.0, 1.0, 1.0, 1.0, 1.0, 1.0, 1.0, 1.0, 1.0, 1.0, 1.0]\n",
    "# predicted value\n",
    "predicted = [1.0, 0.9, 0.8, 0.7, 0.6, 0.5, 0.4, 0.3, 0.2, 0.1, 0.0]\n",
    "# calculate errors\n",
    "errors = mean_absolute_error(expected, predicted)\n",
    "# report error\n",
    "print(errors)"
   ]
  },
  {
   "cell_type": "markdown",
   "id": "9e71ba03",
   "metadata": {},
   "source": [
    "# 5. Split the data to train and test"
   ]
  },
  {
   "cell_type": "code",
   "execution_count": null,
   "id": "791723b9",
   "metadata": {},
   "outputs": [],
   "source": [
    "X = weather.drop(['Apparent Temperature (C)'],axis=1)\n",
    "y = weather['Apparent Temperature (C)']"
   ]
  },
  {
   "cell_type": "code",
   "execution_count": null,
   "id": "8a382909",
   "metadata": {},
   "outputs": [],
   "source": [
    "from sklearn.model_selection import train_test_split\n",
    "\n",
    "\n",
    "X_train,X_test,y_train,y_test = train_test_split(X,y,test_size=0.20,random_state=42)"
   ]
  },
  {
   "cell_type": "code",
   "execution_count": null,
   "id": "5cd6a3c9",
   "metadata": {},
   "outputs": [],
   "source": [
    "#train=X_train"
   ]
  },
  {
   "cell_type": "code",
   "execution_count": null,
   "id": "f5d98e55",
   "metadata": {},
   "outputs": [],
   "source": [
    "X_train"
   ]
  },
  {
   "cell_type": "code",
   "execution_count": null,
   "id": "f8c84cb7",
   "metadata": {},
   "outputs": [],
   "source": [
    "X_test.shape"
   ]
  },
  {
   "cell_type": "code",
   "execution_count": null,
   "id": "81325a27",
   "metadata": {},
   "outputs": [],
   "source": [
    "y_train"
   ]
  },
  {
   "cell_type": "markdown",
   "id": "5dccd8c6",
   "metadata": {},
   "source": [
    "## Scaling\n"
   ]
  },
  {
   "cell_type": "markdown",
   "id": "76879f22",
   "metadata": {},
   "source": [
    "את הנירמול לא נעשה על משתנים קטגרויאליים ושמיים שעשינו עליהם כבר encoding  \n",
    ",כי אין אפשרות להשוות\n",
    "ניצור גאטא פריים חדש מנורמל\n",
    "את הויזואליצזיה של הדאטא נעשה על הדאטא פריים המקורי, הלא מנורמל, כדי שנראה את המידע בצורה ברורה ונראה מה המספרים מייצגים"
   ]
  },
  {
   "cell_type": "markdown",
   "id": "9636f0a5",
   "metadata": {},
   "source": [
    "we will do the scaling only on numeric variables i.e not on the categorial . \n",
    "we will creaze a normalized dataFrame "
   ]
  },
  {
   "cell_type": "code",
   "execution_count": null,
   "id": "98d95db0",
   "metadata": {
    "scrolled": true
   },
   "outputs": [],
   "source": [
    "X_train.head()\n",
    "# delete presure , day month weekday ...\n",
    "#percip type and summary are catagorials"
   ]
  },
  {
   "cell_type": "markdown",
   "id": "c0f3fd45",
   "metadata": {},
   "source": [
    "*we are scaling only the numrical features, i.e , the features we didn't encoded"
   ]
  },
  {
   "cell_type": "code",
   "execution_count": null,
   "id": "b2048347",
   "metadata": {},
   "outputs": [],
   "source": [
    "from sklearn.preprocessing import StandardScaler\n",
    "from sklearn.preprocessing import MinMaxScaler"
   ]
  },
  {
   "cell_type": "code",
   "execution_count": null,
   "id": "e4da1724",
   "metadata": {},
   "outputs": [],
   "source": [
    "scaler_standard = StandardScaler()\n",
    "scaler_MinMax = MinMaxScaler()"
   ]
  },
  {
   "cell_type": "code",
   "execution_count": null,
   "id": "14740b51",
   "metadata": {},
   "outputs": [],
   "source": [
    "X_train_standardized = X_train.copy()\n",
    "X_test_standardized = X_test.copy()\n",
    "X_train_normalized = X_train.copy()\n",
    "X_test_normalized = X_test.copy()"
   ]
  },
  {
   "cell_type": "code",
   "execution_count": null,
   "id": "f664a940",
   "metadata": {},
   "outputs": [],
   "source": [
    "numerical_features = [\"Temperature (C)\",\"Humidity\",\"Wind Speed (km/h)\",\"Visibility (km)\",\"month\"]"
   ]
  },
  {
   "cell_type": "code",
   "execution_count": null,
   "id": "2741d90d",
   "metadata": {},
   "outputs": [],
   "source": [
    "# Standardization:\n",
    "scaler_standard.fit(X_train[numerical_features])\n",
    "X_train_standardized[numerical_features] = scaler_standard.transform(X_train_standardized[numerical_features])\n",
    "\n",
    "# the scaling is with the the same fitted scaler (by the train data)\n",
    "#only transform on the test data\n",
    "X_test_standardized[numerical_features] = scaler_standard.transform(X_test_standardized[numerical_features])"
   ]
  },
  {
   "cell_type": "code",
   "execution_count": null,
   "id": "833de946",
   "metadata": {},
   "outputs": [],
   "source": [
    "print('note: the mean is 0 and std is 1')\n",
    "X_train_standardized.describe()[numerical_features].iloc[[1, 2]]"
   ]
  },
  {
   "cell_type": "code",
   "execution_count": null,
   "id": "bce6ca61",
   "metadata": {},
   "outputs": [],
   "source": [
    "# Normalization:\n",
    "scaler_MinMax.fit(X_train[numerical_features])\n",
    "X_train_normalized[numerical_features] = scaler_MinMax.transform(X_train_normalized[numerical_features])\n",
    "\n",
    "# the scaling is with the the same fitted scaler (by the train data)\n",
    "#only transform on the test data\n",
    "X_test_normalized[numerical_features] = scaler_MinMax.transform(X_test_normalized[numerical_features])"
   ]
  },
  {
   "cell_type": "code",
   "execution_count": null,
   "id": "65643176",
   "metadata": {},
   "outputs": [],
   "source": [
    "print('note: the mean is 0 and std is 1')\n",
    "X_train_standardized.describe()[numerical_features].iloc[[1, 2]]"
   ]
  },
  {
   "cell_type": "code",
   "execution_count": null,
   "id": "789db6a9",
   "metadata": {},
   "outputs": [],
   "source": [
    "X_train_scale=X_train.copy()\n",
    "y_train_scale=y_train.copy()"
   ]
  },
  {
   "cell_type": "markdown",
   "id": "d7f7d4b4",
   "metadata": {},
   "source": [
    "deleting the encoded variables (categorials)"
   ]
  },
  {
   "cell_type": "code",
   "execution_count": null,
   "id": "39cb6ec5",
   "metadata": {},
   "outputs": [],
   "source": [
    "# del X_train_scale['summary']\n",
    "# del X_train_scale['precip_type']"
   ]
  },
  {
   "cell_type": "code",
   "execution_count": null,
   "id": "d0dbaa06",
   "metadata": {},
   "outputs": [],
   "source": [
    "# from sklearn.preprocessing import MinMaxScaler"
   ]
  },
  {
   "cell_type": "code",
   "execution_count": null,
   "id": "7eb5e7a1",
   "metadata": {},
   "outputs": [],
   "source": [
    "# scaling= MinMaxScaler()"
   ]
  },
  {
   "cell_type": "markdown",
   "id": "070122ef",
   "metadata": {},
   "source": [
    "*on the train set -fit and transform "
   ]
  },
  {
   "cell_type": "code",
   "execution_count": null,
   "id": "82a271b4",
   "metadata": {
    "scrolled": true
   },
   "outputs": [],
   "source": [
    "#scaling.fit_transform(X_train_scale)"
   ]
  },
  {
   "cell_type": "code",
   "execution_count": null,
   "id": "a245d60e",
   "metadata": {},
   "outputs": [],
   "source": [
    "#arr_y_train=np.array(y_train_scale)"
   ]
  },
  {
   "cell_type": "code",
   "execution_count": null,
   "id": "ae2ef504",
   "metadata": {},
   "outputs": [],
   "source": [
    "#scaling.fit_transform(arr_y_train.reshape(-1,1))"
   ]
  },
  {
   "cell_type": "code",
   "execution_count": null,
   "id": "e70d4c92",
   "metadata": {},
   "outputs": [],
   "source": [
    "#arr_x_test=np.array(X_train_scale)"
   ]
  },
  {
   "cell_type": "markdown",
   "id": "5c647d0a",
   "metadata": {},
   "source": [
    "*on the test set -transform only "
   ]
  },
  {
   "cell_type": "code",
   "execution_count": null,
   "id": "6f2f967d",
   "metadata": {
    "scrolled": true
   },
   "outputs": [],
   "source": [
    "#scaling.transform(arr_x_test.reshape(-1,1))"
   ]
  },
  {
   "cell_type": "code",
   "execution_count": null,
   "id": "1c7d4b47",
   "metadata": {},
   "outputs": [],
   "source": [
    "#arr_y_test=np.array(y_train_scale)"
   ]
  },
  {
   "cell_type": "code",
   "execution_count": null,
   "id": "f4eca243",
   "metadata": {
    "scrolled": true
   },
   "outputs": [],
   "source": [
    "#scaling.transform(arr_y_test.reshape(-1,1))"
   ]
  },
  {
   "cell_type": "markdown",
   "id": "45e4e705",
   "metadata": {},
   "source": [
    "## dealing with imbalanced data"
   ]
  },
  {
   "cell_type": "markdown",
   "id": "fc5806a2",
   "metadata": {},
   "source": [
    "*** in this part we do not touch the test set!\n",
    " \n",
    " \n",
    " we will only use the test set for the dummy model , and after the cross validation"
   ]
  },
  {
   "cell_type": "markdown",
   "id": "08c2c479",
   "metadata": {},
   "source": [
    "the data is imbalanced as we can see from the histogram below"
   ]
  },
  {
   "cell_type": "code",
   "execution_count": null,
   "id": "e0bce331",
   "metadata": {},
   "outputs": [],
   "source": [
    "X_train"
   ]
  },
  {
   "cell_type": "code",
   "execution_count": null,
   "id": "39791e77",
   "metadata": {},
   "outputs": [],
   "source": [
    "plt.hist(weather, range=(1,100))"
   ]
  },
  {
   "cell_type": "code",
   "execution_count": null,
   "id": "c571e471",
   "metadata": {},
   "outputs": [],
   "source": [
    "# Histogram \n",
    "# from random import sample\n",
    "# data = sample(range(1, 1000), 100)\n",
    "plt.hist(train) # see if i can change "
   ]
  },
  {
   "cell_type": "code",
   "execution_count": null,
   "id": "803fe03e",
   "metadata": {},
   "outputs": [],
   "source": [
    "# Histogram \n",
    "plt.hist(X_train)"
   ]
  },
  {
   "cell_type": "code",
   "execution_count": null,
   "id": "844a1f34",
   "metadata": {},
   "outputs": [],
   "source": [
    "X_train_scale= X_train_standardized"
   ]
  },
  {
   "cell_type": "code",
   "execution_count": null,
   "id": "c620aa7c",
   "metadata": {},
   "outputs": [],
   "source": [
    "y_train_scale = y_train"
   ]
  },
  {
   "cell_type": "code",
   "execution_count": null,
   "id": "092740b9",
   "metadata": {},
   "outputs": [],
   "source": [
    "from imblearn.over_sampling import SMOTE"
   ]
  },
  {
   "cell_type": "code",
   "execution_count": null,
   "id": "c232b316",
   "metadata": {},
   "outputs": [],
   "source": [
    "from collections import Counter\n",
    "# from sklearn.datasets import make_classification\n",
    "from imblearn.over_sampling import SMOTE\n",
    "from matplotlib import pyplot\n",
    "from numpy import where\n",
    "\n",
    "# summarize class distribution\n",
    "counter = Counter(y_train)\n",
    "print(counter)\n",
    "\n",
    "oversample = SMOTE()\n",
    "X_train, y_train = oversample.fit_resample(X_train, y_train)\n",
    "\n",
    "\n",
    "counter = Counter(y_train)\n",
    "print(counter)\n",
    "\n",
    "# scatter plot of examples by class label\n",
    "for label, _ in counter.items():\n",
    "    row_ix = where(y_train == label)[0]\n",
    "    pyplot.scatter(X_train[row_ix, 0], X_train[row_ix, 1], label=str(label))\n",
    "pyplot.legend()\n",
    "pyplot.show()"
   ]
  },
  {
   "cell_type": "markdown",
   "id": "53077ba3",
   "metadata": {},
   "source": [
    "## dummy model"
   ]
  },
  {
   "cell_type": "code",
   "execution_count": 681,
   "id": "7ceed314",
   "metadata": {},
   "outputs": [],
   "source": [
    "from sklearn.dummy import DummyRegressor\n",
    "\n",
    "from sklearn.metrics import mean_absolute_error as MAE\n",
    "\n"
   ]
  },
  {
   "cell_type": "code",
   "execution_count": 691,
   "id": "569cce37",
   "metadata": {
    "scrolled": true
   },
   "outputs": [
    {
     "name": "stdout",
     "output_type": "stream",
     "text": [
      "The dummy model have a root mean squared error of 10.716362\n"
     ]
    }
   ],
   "source": [
    "dummy_regr = DummyRegressor(strategy=\"mean\")\n",
    "dummy_regr.fit(X_train, y_train)\n",
    "R2_score = dummy_regr.score(X_test, y_test)\n",
    "y_predict = dummy_regr.predict(X_test)\n",
    "mae = MAE(y_test, y_predict)\n",
    "rmse= mean_squared_error(y_test, y_predict, squared=False)\n",
    "\n",
    "\n",
    "print ('The dummy model have a root mean squared error of '+ str(rmse) )\n",
    "\n",
    "# errorsRMSE"
   ]
  },
  {
   "cell_type": "code",
   "execution_count": 687,
   "id": "c56b77b7",
   "metadata": {
    "scrolled": false
   },
   "outputs": [
    {
     "name": "stdout",
     "output_type": "stream",
     "text": [
      "The dummy model have a R2 score of -7.151 as expected (around 0), and mean absolute error of 9.02\n"
     ]
    }
   ],
   "source": [
    "print('The dummy model have a R2 score of ' + str(R2_score)[:6] + \" as expected (around 0), and mean absolute error of \" + str(mae)[:4])"
   ]
  },
  {
   "cell_type": "markdown",
   "id": "99a411d1",
   "metadata": {},
   "source": [
    "# The dummy model have a R2 score of -7.151 as expected (around 0), and mean absolute error of 9.02"
   ]
  },
  {
   "cell_type": "code",
   "execution_count": 684,
   "id": "7cddfb96",
   "metadata": {},
   "outputs": [],
   "source": [
    "# dummy_regr = DummyRegressor(strategy=\"mean\")\n",
    "# dummy_regr.fit(X_train, y_train)\n",
    "# dummy_regr.predict(X_train, y_train)\n",
    "# dummy_regr.score(X_train, y_train)"
   ]
  },
  {
   "cell_type": "markdown",
   "id": "abbf4e92",
   "metadata": {},
   "source": [
    "my dummy model\n",
    "\n",
    "the mean of the Apparent Temperatures"
   ]
  },
  {
   "cell_type": "code",
   "execution_count": 714,
   "id": "19589233",
   "metadata": {},
   "outputs": [],
   "source": [
    "mean=weather['Apparent Temperature (C)'].mean()"
   ]
  },
  {
   "cell_type": "markdown",
   "id": "1a98f23b",
   "metadata": {},
   "source": [
    "# comparing different Regression Models"
   ]
  },
  {
   "cell_type": "markdown",
   "id": "7f52b4c8",
   "metadata": {},
   "source": [
    "*cross validation allows us to compare different machine learning methods and get a sense of how well they will work in practice. the advantage here, is that it uses different blocks of data for train and test, and by that, \"prepare\" the model in the best way to predict outcome for new data  "
   ]
  },
  {
   "cell_type": "markdown",
   "id": "ffff1569",
   "metadata": {},
   "source": [
    " # Linear Regression"
   ]
  },
  {
   "cell_type": "code",
   "execution_count": null,
   "id": "5fe4b6db",
   "metadata": {},
   "outputs": [],
   "source": [
    "from sklearn.linear_model import LinearRegression\n",
    "from sklearn.model_selection import KFold\n",
    "from sklearn.model_selection import cross_val_predict\n",
    "from sklearn.model_selection import cross_val_score"
   ]
  },
  {
   "cell_type": "code",
   "execution_count": null,
   "id": "144591f7",
   "metadata": {},
   "outputs": [],
   "source": [
    "LR = LinearRegression()"
   ]
  },
  {
   "cell_type": "code",
   "execution_count": null,
   "id": "be16941c",
   "metadata": {},
   "outputs": [],
   "source": [
    "y_train"
   ]
  },
  {
   "cell_type": "code",
   "execution_count": null,
   "id": "4604b03c",
   "metadata": {},
   "outputs": [],
   "source": [
    "kf = KFold(n_splits=10, random_state=42, shuffle=True)\n",
    "\n",
    "R2_scores_standardized = cross_val_score(LR, X_train_standardized, y_train, cv=kf)\n",
    "y_predict_standardized = cross_val_predict(LR, X_train_standardized, y_train, cv=kf)\n",
    "mae_standarsized = MAE(y_train, y_predict_standardized)\n",
    "\n",
    "R2_scores_normalized = cross_val_score(LR, X_train_normalized, y_train, cv=kf)\n",
    "y_predict_normalized = cross_val_predict(LR, X_train_normalized, y_train, cv=kf)\n",
    "mae_normalized = MAE(y_train, y_predict_normalized)"
   ]
  },
  {
   "cell_type": "code",
   "execution_count": null,
   "id": "09bde279",
   "metadata": {},
   "outputs": [],
   "source": [
    "fig, axes = plt.subplots(1,2)\n",
    "((ax1, ax2)) = axes\n",
    "\n",
    "y_predicted = cross_val_predict(LR, X_train_standardized, y_train, cv=kf)\n",
    "ax1.scatter(y_train, y_predicted, alpha=0.3, color='orange')\n",
    "ax1.plot([y_train.min(), y_train.max()], [y_train.min(), y_train.max()], 'k--', lw=4)\n",
    "ax1.set_xlabel('Actual')\n",
    "ax1.set_ylabel('Predicted')\n",
    "ax1.set_title('standardized:')\n",
    "\n",
    "y_predicted = cross_val_predict(LR, X_train_normalized, y_train, cv=kf)\n",
    "ax2.scatter(y_train, y_predicted, alpha=0.3, color='red')\n",
    "ax2.plot([y_train.min(), y_train.max()], [y_train.min(), y_train.max()], 'k--', lw=4)\n",
    "ax2.set_xlabel('Actual')\n",
    "ax2.set_ylabel('Predicted')\n",
    "ax2.set_title('normalized:')\n",
    "\n",
    "plt.show()"
   ]
  },
  {
   "cell_type": "code",
   "execution_count": null,
   "id": "cabb72a4",
   "metadata": {},
   "outputs": [],
   "source": [
    "#standadized train set cross validation:"
   ]
  },
  {
   "cell_type": "code",
   "execution_count": null,
   "id": "2b6bbc96",
   "metadata": {},
   "outputs": [],
   "source": [
    "print(\"the scores of cross validation are:\")\n",
    "print(R2_scores_standardized)\n",
    "print()\n",
    "print(\"mean R2 is: \" + str(R2_scores_standardized.mean())[:5] + \" with std of  \" + str(R2_scores_standardized.std())[:5] + \" and MAE of \" + str(mae_standarsized)[:6])"
   ]
  },
  {
   "cell_type": "code",
   "execution_count": null,
   "id": "e8c92f4b",
   "metadata": {},
   "outputs": [],
   "source": [
    "#normalized train set cross validation:"
   ]
  },
  {
   "cell_type": "code",
   "execution_count": null,
   "id": "20454da2",
   "metadata": {},
   "outputs": [],
   "source": [
    "print(\"the scores of cross validation are:\")\n",
    " print(R2_scores_normalized)\n",
    "print()\n",
    "print(\"mean R2 is: \" + str(R2_scores_normalized.mean())[:5] + \" with std of  \" + str(R2_scores_normalized.std())[:5] + \" and MAE of \" + str(mae_normalized)[:6])"
   ]
  },
  {
   "cell_type": "markdown",
   "id": "0d17fa3e",
   "metadata": {},
   "source": [
    "although the results are the same with normalized and standardized,\n",
    "we can see below that the feature values are definetly different "
   ]
  },
  {
   "cell_type": "code",
   "execution_count": null,
   "id": "cc8510b9",
   "metadata": {},
   "outputs": [],
   "source": [
    "X_train_normalized"
   ]
  },
  {
   "cell_type": "code",
   "execution_count": null,
   "id": "fffdcb39",
   "metadata": {},
   "outputs": [],
   "source": [
    "X_train_standardized"
   ]
  },
  {
   "cell_type": "markdown",
   "id": "3ea25bd4",
   "metadata": {},
   "source": [
    "# Random Forest Regressor"
   ]
  },
  {
   "cell_type": "code",
   "execution_count": 693,
   "id": "4426c9d8",
   "metadata": {},
   "outputs": [],
   "source": [
    "from sklearn.ensemble import RandomForestRegressor\n",
    "from sklearn.model_selection import cross_val_score\n",
    "from sklearn.model_selection import cross_val_predict"
   ]
  },
  {
   "cell_type": "code",
   "execution_count": 694,
   "id": "e314f5ab",
   "metadata": {},
   "outputs": [],
   "source": [
    "RFR = RandomForestRegressor()"
   ]
  },
  {
   "cell_type": "code",
   "execution_count": 700,
   "id": "729e4f8f",
   "metadata": {},
   "outputs": [
    {
     "data": {
      "text/plain": [
       "RandomForestRegressor(max_depth=2, random_state=0)"
      ]
     },
     "execution_count": 700,
     "metadata": {},
     "output_type": "execute_result"
    }
   ],
   "source": [
    "regr = RandomForestRegressor(max_depth=2, random_state=0)\n",
    "regr.fit(X_train, y_train)"
   ]
  },
  {
   "cell_type": "code",
   "execution_count": null,
   "id": "de12fcc6",
   "metadata": {},
   "outputs": [],
   "source": [
    "kf = KFold(n_splits=10, random_state=42, shuffle=True)"
   ]
  },
  {
   "cell_type": "code",
   "execution_count": 702,
   "id": "085b95e7",
   "metadata": {},
   "outputs": [],
   "source": [
    "R2_scores_standardized = cross_val_score(regr, X_train_standardized, y_train, cv=kf)\n",
    "y_predict_standardized = cross_val_predict(regr, X_train_standardized, y_train, cv=kf)\n",
    "mae_standarsized = MAE(y_train, y_predict_standardized)"
   ]
  },
  {
   "cell_type": "code",
   "execution_count": 704,
   "id": "8796b909",
   "metadata": {},
   "outputs": [],
   "source": [
    "R2_scores_normalized = cross_val_score(regr, X_train_normalized, y_train, cv=kf)\n",
    "y_predict_normalized = cross_val_predict(regr, X_train_normalized, y_train, cv=kf)\n",
    "mae_normalized = MAE(y_train, y_predict_normalized)"
   ]
  },
  {
   "cell_type": "code",
   "execution_count": 709,
   "id": "552036dd",
   "metadata": {},
   "outputs": [
    {
     "name": "stdout",
     "output_type": "stream",
     "text": [
      "the scores of cross validation are:\n",
      "[0.906155   0.90619885 0.90545287 0.9035816  0.90932135 0.90566268\n",
      " 0.904728   0.90665612 0.9073574  0.90812116]\n",
      "\n",
      "mean R2 is: 0.906 with std of  0.001 and MAE of 2.6576\n"
     ]
    }
   ],
   "source": [
    "print(\"the scores of cross validation are:\")\n",
    "print(R2_scores_standardized)\n",
    "print()\n",
    "print(\"mean R2 is: \" + str(R2_scores_standardized.mean())[:5] + \" with std of  \" + str(R2_scores_standardized.std())[:5] + \" and MAE of \" + str(mae_standarsized)[:6])"
   ]
  },
  {
   "cell_type": "markdown",
   "id": "d60478a5",
   "metadata": {},
   "source": [
    "# Keras Regressions"
   ]
  },
  {
   "cell_type": "code",
   "execution_count": null,
   "id": "8a125099",
   "metadata": {},
   "outputs": [],
   "source": [
    "#! pip install keras"
   ]
  },
  {
   "cell_type": "code",
   "execution_count": null,
   "id": "57fe33f4",
   "metadata": {},
   "outputs": [],
   "source": [
    "#! pip install tensorflow"
   ]
  },
  {
   "cell_type": "code",
   "execution_count": null,
   "id": "5f692a05",
   "metadata": {},
   "outputs": [],
   "source": [
    "X_train\n"
   ]
  },
  {
   "cell_type": "code",
   "execution_count": null,
   "id": "95e25e5b",
   "metadata": {},
   "outputs": [],
   "source": [
    "\n",
    "import tensorflow as tf"
   ]
  },
  {
   "cell_type": "code",
   "execution_count": null,
   "id": "929a20b6",
   "metadata": {},
   "outputs": [],
   "source": [
    "from keras.models import Sequential\n",
    "from keras.layers import Dense\n",
    "from keras.wrappers.scikit_learn import KerasRegressor\n",
    "from sklearn.model_selection import cross_val_score\n",
    "from sklearn.model_selection import KFold"
   ]
  },
  {
   "cell_type": "code",
   "execution_count": null,
   "id": "5e9485dd",
   "metadata": {},
   "outputs": [],
   "source": [
    "from tensorflow.keras.models import Sequential\n",
    "from tensorflow.keras.layers import Dense, Activation\n",
    "from tensorflow.keras.optimizers import Adam\n",
    "# Also, ADAM optimization algorithm is used for optimizing loss function (Mean squared error)"
   ]
  },
  {
   "cell_type": "code",
   "execution_count": null,
   "id": "227b7550",
   "metadata": {},
   "outputs": [],
   "source": [
    "keras.metrics.RootMeanSquaredError()"
   ]
  },
  {
   "cell_type": "code",
   "execution_count": null,
   "id": "0ad2c5f2",
   "metadata": {},
   "outputs": [],
   "source": [
    "model = Sequential()\n",
    "model.add(Dense(11,activation='relu'))\n",
    "model.add(Dense(11,activation='relu'))\n",
    "model.add(Dense(11,activation='relu'))\n",
    "model.add(Dense(11,activation='relu'))\n",
    "model.compile(loss='mean_squared_error', optimizer='adam', metrics=['mse', 'mae',tf.keras.metrics.RootMeanSquaredError()])"
   ]
  },
  {
   "cell_type": "code",
   "execution_count": null,
   "id": "cc9606dd",
   "metadata": {},
   "outputs": [],
   "source": [
    "y_test"
   ]
  },
  {
   "cell_type": "code",
   "execution_count": null,
   "id": "c253e2a9",
   "metadata": {},
   "outputs": [],
   "source": [
    "X_train = np.asarray(X_train).astype(np.float32)\n",
    "y_train = np.asarray(y_train).astype(np.float32)\n",
    "X_test= np.asarray(X_test).astype(np.float32)\n",
    "y_test= np.asarray(y_test).astype(np.float32)"
   ]
  },
  {
   "cell_type": "code",
   "execution_count": null,
   "id": "0e8db9d4",
   "metadata": {},
   "outputs": [],
   "source": [
    "model.fit(x=X_train,y=y_train,\n",
    "          validation_data=(X_test,y_test),\n",
    "          batch_size=128,epochs=400)\n",
    "model.summary()"
   ]
  },
  {
   "cell_type": "code",
   "execution_count": null,
   "id": "0ca852a7",
   "metadata": {},
   "outputs": [],
   "source": [
    "loss_df = pd.DataFrame(model.history.history)\n",
    "loss_df.plot(figsize=(12,8))"
   ]
  },
  {
   "cell_type": "code",
   "execution_count": null,
   "id": "e1e8a26a",
   "metadata": {},
   "outputs": [],
   "source": [
    "model.history.history['val_mse']"
   ]
  },
  {
   "cell_type": "code",
   "execution_count": null,
   "id": "b12866f9",
   "metadata": {},
   "outputs": [],
   "source": [
    "model.history.history['val_mae']"
   ]
  },
  {
   "cell_type": "code",
   "execution_count": null,
   "id": "5e93e96d",
   "metadata": {},
   "outputs": [],
   "source": [
    "model.history.history['val_root_mean_squared_error']"
   ]
  },
  {
   "cell_type": "code",
   "execution_count": null,
   "id": "7ca7b1b5",
   "metadata": {},
   "outputs": [],
   "source": [
    "# plot metrics\n",
    "pyplot.plot(loss_df ['mse'])\n"
   ]
  },
  {
   "cell_type": "code",
   "execution_count": null,
   "id": "7e56bfe6",
   "metadata": {},
   "outputs": [],
   "source": [
    "pyplot.plot(loss_df ['mae'])\n"
   ]
  },
  {
   "cell_type": "code",
   "execution_count": null,
   "id": "e1229150",
   "metadata": {},
   "outputs": [],
   "source": [
    "pyplot.plot(loss_df ['root_mean_squared_error'])"
   ]
  },
  {
   "cell_type": "code",
   "execution_count": null,
   "id": "ccc35239",
   "metadata": {},
   "outputs": [],
   "source": [
    "\n",
    "print(loss_df.keys())"
   ]
  },
  {
   "cell_type": "code",
   "execution_count": null,
   "id": "ba7c0c85",
   "metadata": {},
   "outputs": [],
   "source": []
  },
  {
   "cell_type": "markdown",
   "id": "ec22f4f1",
   "metadata": {},
   "source": [
    "# hyperparameter tuning \n",
    "I will try to increase the R2 score and the MAE of the Random Forest Regressor model by choosing the best hyperparams."
   ]
  },
  {
   "cell_type": "markdown",
   "id": "eeffacc3",
   "metadata": {},
   "source": [
    "## random search "
   ]
  },
  {
   "cell_type": "markdown",
   "id": "99ed30dd",
   "metadata": {},
   "source": [
    "With small data sets and lots of resources, Grid Search will produce accurate results. However, with large data sets, the high dimensions will greatly slow down computation time and be very costly. Therefore, we chose to use random search for "
   ]
  },
  {
   "cell_type": "code",
   "execution_count": null,
   "id": "862130cc",
   "metadata": {},
   "outputs": [],
   "source": []
  }
 ],
 "metadata": {
  "kernelspec": {
   "display_name": "Python 3",
   "language": "python",
   "name": "python3"
  },
  "language_info": {
   "codemirror_mode": {
    "name": "ipython",
    "version": 3
   },
   "file_extension": ".py",
   "mimetype": "text/x-python",
   "name": "python",
   "nbconvert_exporter": "python",
   "pygments_lexer": "ipython3",
   "version": "3.8.8"
  }
 },
 "nbformat": 4,
 "nbformat_minor": 5
}
