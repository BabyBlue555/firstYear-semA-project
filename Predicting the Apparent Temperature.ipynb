{
 "cells": [
  {
   "cell_type": "markdown",
   "id": "7167f3c2",
   "metadata": {},
   "source": [
    "# Regression Problem - Predicting the Apparent Temperature"
   ]
  },
  {
   "cell_type": "markdown",
   "id": "237ba109",
   "metadata": {},
   "source": [
    "our dummy model - ?\n",
    "\n",
    "tommorow:\n",
    "\n",
    "## 3.random search, going over the models again\n",
    "\n",
    "1.visualization , understanding and improving, writing better documentation after.\n",
    "\n",
    "## 2.metrics - choosing mae/r2 , better understanding of the meaning\n",
    "check out AUC!\n",
    "\n",
    "4. catagorial features\n",
    "\n",
    "## 5. feature selection, new features \n",
    "\n",
    "6. summing up and trying to explain to myself about the project\n",
    "\n",
    "\n",
    "\n",
    "*** probability questions!\n",
    "*** in friday and saturday explaining to someone else!"
   ]
  },
  {
   "cell_type": "code",
   "execution_count": 1,
   "id": "3818cd2a",
   "metadata": {},
   "outputs": [],
   "source": [
    "import pandas as pd\n",
    "import numpy as np"
   ]
  },
  {
   "cell_type": "code",
   "execution_count": 2,
   "id": "b7e3d411",
   "metadata": {},
   "outputs": [],
   "source": [
    "import matplotlib\n",
    "import seaborn as sns\n",
    "import matplotlib.pyplot as plt\n",
    "import plotly.express as px\n",
    "%matplotlib inline\n",
    "\n",
    "#for preprocessing part\n",
    "from scipy import stats"
   ]
  },
  {
   "cell_type": "code",
   "execution_count": 3,
   "id": "a84d45a9",
   "metadata": {},
   "outputs": [],
   "source": [
    "# read the dataset \n",
    "weather =pd.read_csv(\"weatherHistory[1].csv\")"
   ]
  },
  {
   "cell_type": "code",
   "execution_count": 4,
   "id": "13785ad1",
   "metadata": {},
   "outputs": [
    {
     "data": {
      "text/html": [
       "<div>\n",
       "<style scoped>\n",
       "    .dataframe tbody tr th:only-of-type {\n",
       "        vertical-align: middle;\n",
       "    }\n",
       "\n",
       "    .dataframe tbody tr th {\n",
       "        vertical-align: top;\n",
       "    }\n",
       "\n",
       "    .dataframe thead th {\n",
       "        text-align: right;\n",
       "    }\n",
       "</style>\n",
       "<table border=\"1\" class=\"dataframe\">\n",
       "  <thead>\n",
       "    <tr style=\"text-align: right;\">\n",
       "      <th></th>\n",
       "      <th>Formatted Date</th>\n",
       "      <th>Summary</th>\n",
       "      <th>Precip Type</th>\n",
       "      <th>Temperature (C)</th>\n",
       "      <th>Apparent Temperature (C)</th>\n",
       "      <th>Humidity</th>\n",
       "      <th>Wind Speed (km/h)</th>\n",
       "      <th>Wind Bearing (degrees)</th>\n",
       "      <th>Visibility (km)</th>\n",
       "      <th>Loud Cover</th>\n",
       "      <th>Pressure (millibars)</th>\n",
       "      <th>Daily Summary</th>\n",
       "    </tr>\n",
       "  </thead>\n",
       "  <tbody>\n",
       "    <tr>\n",
       "      <th>0</th>\n",
       "      <td>2006-04-01 00:00:00.000 +0200</td>\n",
       "      <td>Partly Cloudy</td>\n",
       "      <td>rain</td>\n",
       "      <td>9.472222</td>\n",
       "      <td>7.388889</td>\n",
       "      <td>0.89</td>\n",
       "      <td>14.1197</td>\n",
       "      <td>251.0</td>\n",
       "      <td>15.8263</td>\n",
       "      <td>0.0</td>\n",
       "      <td>1015.13</td>\n",
       "      <td>Partly cloudy throughout the day.</td>\n",
       "    </tr>\n",
       "    <tr>\n",
       "      <th>1</th>\n",
       "      <td>2006-04-01 01:00:00.000 +0200</td>\n",
       "      <td>Partly Cloudy</td>\n",
       "      <td>rain</td>\n",
       "      <td>9.355556</td>\n",
       "      <td>7.227778</td>\n",
       "      <td>0.86</td>\n",
       "      <td>14.2646</td>\n",
       "      <td>259.0</td>\n",
       "      <td>15.8263</td>\n",
       "      <td>0.0</td>\n",
       "      <td>1015.63</td>\n",
       "      <td>Partly cloudy throughout the day.</td>\n",
       "    </tr>\n",
       "    <tr>\n",
       "      <th>2</th>\n",
       "      <td>2006-04-01 02:00:00.000 +0200</td>\n",
       "      <td>Mostly Cloudy</td>\n",
       "      <td>rain</td>\n",
       "      <td>9.377778</td>\n",
       "      <td>9.377778</td>\n",
       "      <td>0.89</td>\n",
       "      <td>3.9284</td>\n",
       "      <td>204.0</td>\n",
       "      <td>14.9569</td>\n",
       "      <td>0.0</td>\n",
       "      <td>1015.94</td>\n",
       "      <td>Partly cloudy throughout the day.</td>\n",
       "    </tr>\n",
       "    <tr>\n",
       "      <th>3</th>\n",
       "      <td>2006-04-01 03:00:00.000 +0200</td>\n",
       "      <td>Partly Cloudy</td>\n",
       "      <td>rain</td>\n",
       "      <td>8.288889</td>\n",
       "      <td>5.944444</td>\n",
       "      <td>0.83</td>\n",
       "      <td>14.1036</td>\n",
       "      <td>269.0</td>\n",
       "      <td>15.8263</td>\n",
       "      <td>0.0</td>\n",
       "      <td>1016.41</td>\n",
       "      <td>Partly cloudy throughout the day.</td>\n",
       "    </tr>\n",
       "    <tr>\n",
       "      <th>4</th>\n",
       "      <td>2006-04-01 04:00:00.000 +0200</td>\n",
       "      <td>Mostly Cloudy</td>\n",
       "      <td>rain</td>\n",
       "      <td>8.755556</td>\n",
       "      <td>6.977778</td>\n",
       "      <td>0.83</td>\n",
       "      <td>11.0446</td>\n",
       "      <td>259.0</td>\n",
       "      <td>15.8263</td>\n",
       "      <td>0.0</td>\n",
       "      <td>1016.51</td>\n",
       "      <td>Partly cloudy throughout the day.</td>\n",
       "    </tr>\n",
       "    <tr>\n",
       "      <th>...</th>\n",
       "      <td>...</td>\n",
       "      <td>...</td>\n",
       "      <td>...</td>\n",
       "      <td>...</td>\n",
       "      <td>...</td>\n",
       "      <td>...</td>\n",
       "      <td>...</td>\n",
       "      <td>...</td>\n",
       "      <td>...</td>\n",
       "      <td>...</td>\n",
       "      <td>...</td>\n",
       "      <td>...</td>\n",
       "    </tr>\n",
       "    <tr>\n",
       "      <th>96448</th>\n",
       "      <td>2016-09-09 19:00:00.000 +0200</td>\n",
       "      <td>Partly Cloudy</td>\n",
       "      <td>rain</td>\n",
       "      <td>26.016667</td>\n",
       "      <td>26.016667</td>\n",
       "      <td>0.43</td>\n",
       "      <td>10.9963</td>\n",
       "      <td>31.0</td>\n",
       "      <td>16.1000</td>\n",
       "      <td>0.0</td>\n",
       "      <td>1014.36</td>\n",
       "      <td>Partly cloudy starting in the morning.</td>\n",
       "    </tr>\n",
       "    <tr>\n",
       "      <th>96449</th>\n",
       "      <td>2016-09-09 20:00:00.000 +0200</td>\n",
       "      <td>Partly Cloudy</td>\n",
       "      <td>rain</td>\n",
       "      <td>24.583333</td>\n",
       "      <td>24.583333</td>\n",
       "      <td>0.48</td>\n",
       "      <td>10.0947</td>\n",
       "      <td>20.0</td>\n",
       "      <td>15.5526</td>\n",
       "      <td>0.0</td>\n",
       "      <td>1015.16</td>\n",
       "      <td>Partly cloudy starting in the morning.</td>\n",
       "    </tr>\n",
       "    <tr>\n",
       "      <th>96450</th>\n",
       "      <td>2016-09-09 21:00:00.000 +0200</td>\n",
       "      <td>Partly Cloudy</td>\n",
       "      <td>rain</td>\n",
       "      <td>22.038889</td>\n",
       "      <td>22.038889</td>\n",
       "      <td>0.56</td>\n",
       "      <td>8.9838</td>\n",
       "      <td>30.0</td>\n",
       "      <td>16.1000</td>\n",
       "      <td>0.0</td>\n",
       "      <td>1015.66</td>\n",
       "      <td>Partly cloudy starting in the morning.</td>\n",
       "    </tr>\n",
       "    <tr>\n",
       "      <th>96451</th>\n",
       "      <td>2016-09-09 22:00:00.000 +0200</td>\n",
       "      <td>Partly Cloudy</td>\n",
       "      <td>rain</td>\n",
       "      <td>21.522222</td>\n",
       "      <td>21.522222</td>\n",
       "      <td>0.60</td>\n",
       "      <td>10.5294</td>\n",
       "      <td>20.0</td>\n",
       "      <td>16.1000</td>\n",
       "      <td>0.0</td>\n",
       "      <td>1015.95</td>\n",
       "      <td>Partly cloudy starting in the morning.</td>\n",
       "    </tr>\n",
       "    <tr>\n",
       "      <th>96452</th>\n",
       "      <td>2016-09-09 23:00:00.000 +0200</td>\n",
       "      <td>Partly Cloudy</td>\n",
       "      <td>rain</td>\n",
       "      <td>20.438889</td>\n",
       "      <td>20.438889</td>\n",
       "      <td>0.61</td>\n",
       "      <td>5.8765</td>\n",
       "      <td>39.0</td>\n",
       "      <td>15.5204</td>\n",
       "      <td>0.0</td>\n",
       "      <td>1016.16</td>\n",
       "      <td>Partly cloudy starting in the morning.</td>\n",
       "    </tr>\n",
       "  </tbody>\n",
       "</table>\n",
       "<p>96453 rows × 12 columns</p>\n",
       "</div>"
      ],
      "text/plain": [
       "                      Formatted Date        Summary Precip Type  \\\n",
       "0      2006-04-01 00:00:00.000 +0200  Partly Cloudy        rain   \n",
       "1      2006-04-01 01:00:00.000 +0200  Partly Cloudy        rain   \n",
       "2      2006-04-01 02:00:00.000 +0200  Mostly Cloudy        rain   \n",
       "3      2006-04-01 03:00:00.000 +0200  Partly Cloudy        rain   \n",
       "4      2006-04-01 04:00:00.000 +0200  Mostly Cloudy        rain   \n",
       "...                              ...            ...         ...   \n",
       "96448  2016-09-09 19:00:00.000 +0200  Partly Cloudy        rain   \n",
       "96449  2016-09-09 20:00:00.000 +0200  Partly Cloudy        rain   \n",
       "96450  2016-09-09 21:00:00.000 +0200  Partly Cloudy        rain   \n",
       "96451  2016-09-09 22:00:00.000 +0200  Partly Cloudy        rain   \n",
       "96452  2016-09-09 23:00:00.000 +0200  Partly Cloudy        rain   \n",
       "\n",
       "       Temperature (C)  Apparent Temperature (C)  Humidity  Wind Speed (km/h)  \\\n",
       "0             9.472222                  7.388889      0.89            14.1197   \n",
       "1             9.355556                  7.227778      0.86            14.2646   \n",
       "2             9.377778                  9.377778      0.89             3.9284   \n",
       "3             8.288889                  5.944444      0.83            14.1036   \n",
       "4             8.755556                  6.977778      0.83            11.0446   \n",
       "...                ...                       ...       ...                ...   \n",
       "96448        26.016667                 26.016667      0.43            10.9963   \n",
       "96449        24.583333                 24.583333      0.48            10.0947   \n",
       "96450        22.038889                 22.038889      0.56             8.9838   \n",
       "96451        21.522222                 21.522222      0.60            10.5294   \n",
       "96452        20.438889                 20.438889      0.61             5.8765   \n",
       "\n",
       "       Wind Bearing (degrees)  Visibility (km)  Loud Cover  \\\n",
       "0                       251.0          15.8263         0.0   \n",
       "1                       259.0          15.8263         0.0   \n",
       "2                       204.0          14.9569         0.0   \n",
       "3                       269.0          15.8263         0.0   \n",
       "4                       259.0          15.8263         0.0   \n",
       "...                       ...              ...         ...   \n",
       "96448                    31.0          16.1000         0.0   \n",
       "96449                    20.0          15.5526         0.0   \n",
       "96450                    30.0          16.1000         0.0   \n",
       "96451                    20.0          16.1000         0.0   \n",
       "96452                    39.0          15.5204         0.0   \n",
       "\n",
       "       Pressure (millibars)                           Daily Summary  \n",
       "0                   1015.13       Partly cloudy throughout the day.  \n",
       "1                   1015.63       Partly cloudy throughout the day.  \n",
       "2                   1015.94       Partly cloudy throughout the day.  \n",
       "3                   1016.41       Partly cloudy throughout the day.  \n",
       "4                   1016.51       Partly cloudy throughout the day.  \n",
       "...                     ...                                     ...  \n",
       "96448               1014.36  Partly cloudy starting in the morning.  \n",
       "96449               1015.16  Partly cloudy starting in the morning.  \n",
       "96450               1015.66  Partly cloudy starting in the morning.  \n",
       "96451               1015.95  Partly cloudy starting in the morning.  \n",
       "96452               1016.16  Partly cloudy starting in the morning.  \n",
       "\n",
       "[96453 rows x 12 columns]"
      ]
     },
     "execution_count": 4,
     "metadata": {},
     "output_type": "execute_result"
    }
   ],
   "source": [
    "weather"
   ]
  },
  {
   "cell_type": "code",
   "execution_count": 5,
   "id": "5e6b3a95",
   "metadata": {
    "scrolled": true
   },
   "outputs": [
    {
     "data": {
      "text/html": [
       "<div>\n",
       "<style scoped>\n",
       "    .dataframe tbody tr th:only-of-type {\n",
       "        vertical-align: middle;\n",
       "    }\n",
       "\n",
       "    .dataframe tbody tr th {\n",
       "        vertical-align: top;\n",
       "    }\n",
       "\n",
       "    .dataframe thead th {\n",
       "        text-align: right;\n",
       "    }\n",
       "</style>\n",
       "<table border=\"1\" class=\"dataframe\">\n",
       "  <thead>\n",
       "    <tr style=\"text-align: right;\">\n",
       "      <th></th>\n",
       "      <th>Formatted Date</th>\n",
       "      <th>Summary</th>\n",
       "      <th>Precip Type</th>\n",
       "      <th>Temperature (C)</th>\n",
       "      <th>Apparent Temperature (C)</th>\n",
       "      <th>Humidity</th>\n",
       "      <th>Wind Speed (km/h)</th>\n",
       "      <th>Wind Bearing (degrees)</th>\n",
       "      <th>Visibility (km)</th>\n",
       "      <th>Loud Cover</th>\n",
       "      <th>Pressure (millibars)</th>\n",
       "      <th>Daily Summary</th>\n",
       "    </tr>\n",
       "  </thead>\n",
       "  <tbody>\n",
       "    <tr>\n",
       "      <th>0</th>\n",
       "      <td>2006-04-01 00:00:00.000 +0200</td>\n",
       "      <td>Partly Cloudy</td>\n",
       "      <td>rain</td>\n",
       "      <td>9.472222</td>\n",
       "      <td>7.388889</td>\n",
       "      <td>0.89</td>\n",
       "      <td>14.1197</td>\n",
       "      <td>251.0</td>\n",
       "      <td>15.8263</td>\n",
       "      <td>0.0</td>\n",
       "      <td>1015.13</td>\n",
       "      <td>Partly cloudy throughout the day.</td>\n",
       "    </tr>\n",
       "    <tr>\n",
       "      <th>1</th>\n",
       "      <td>2006-04-01 01:00:00.000 +0200</td>\n",
       "      <td>Partly Cloudy</td>\n",
       "      <td>rain</td>\n",
       "      <td>9.355556</td>\n",
       "      <td>7.227778</td>\n",
       "      <td>0.86</td>\n",
       "      <td>14.2646</td>\n",
       "      <td>259.0</td>\n",
       "      <td>15.8263</td>\n",
       "      <td>0.0</td>\n",
       "      <td>1015.63</td>\n",
       "      <td>Partly cloudy throughout the day.</td>\n",
       "    </tr>\n",
       "    <tr>\n",
       "      <th>2</th>\n",
       "      <td>2006-04-01 02:00:00.000 +0200</td>\n",
       "      <td>Mostly Cloudy</td>\n",
       "      <td>rain</td>\n",
       "      <td>9.377778</td>\n",
       "      <td>9.377778</td>\n",
       "      <td>0.89</td>\n",
       "      <td>3.9284</td>\n",
       "      <td>204.0</td>\n",
       "      <td>14.9569</td>\n",
       "      <td>0.0</td>\n",
       "      <td>1015.94</td>\n",
       "      <td>Partly cloudy throughout the day.</td>\n",
       "    </tr>\n",
       "    <tr>\n",
       "      <th>3</th>\n",
       "      <td>2006-04-01 03:00:00.000 +0200</td>\n",
       "      <td>Partly Cloudy</td>\n",
       "      <td>rain</td>\n",
       "      <td>8.288889</td>\n",
       "      <td>5.944444</td>\n",
       "      <td>0.83</td>\n",
       "      <td>14.1036</td>\n",
       "      <td>269.0</td>\n",
       "      <td>15.8263</td>\n",
       "      <td>0.0</td>\n",
       "      <td>1016.41</td>\n",
       "      <td>Partly cloudy throughout the day.</td>\n",
       "    </tr>\n",
       "    <tr>\n",
       "      <th>4</th>\n",
       "      <td>2006-04-01 04:00:00.000 +0200</td>\n",
       "      <td>Mostly Cloudy</td>\n",
       "      <td>rain</td>\n",
       "      <td>8.755556</td>\n",
       "      <td>6.977778</td>\n",
       "      <td>0.83</td>\n",
       "      <td>11.0446</td>\n",
       "      <td>259.0</td>\n",
       "      <td>15.8263</td>\n",
       "      <td>0.0</td>\n",
       "      <td>1016.51</td>\n",
       "      <td>Partly cloudy throughout the day.</td>\n",
       "    </tr>\n",
       "    <tr>\n",
       "      <th>...</th>\n",
       "      <td>...</td>\n",
       "      <td>...</td>\n",
       "      <td>...</td>\n",
       "      <td>...</td>\n",
       "      <td>...</td>\n",
       "      <td>...</td>\n",
       "      <td>...</td>\n",
       "      <td>...</td>\n",
       "      <td>...</td>\n",
       "      <td>...</td>\n",
       "      <td>...</td>\n",
       "      <td>...</td>\n",
       "    </tr>\n",
       "    <tr>\n",
       "      <th>96448</th>\n",
       "      <td>2016-09-09 19:00:00.000 +0200</td>\n",
       "      <td>Partly Cloudy</td>\n",
       "      <td>rain</td>\n",
       "      <td>26.016667</td>\n",
       "      <td>26.016667</td>\n",
       "      <td>0.43</td>\n",
       "      <td>10.9963</td>\n",
       "      <td>31.0</td>\n",
       "      <td>16.1000</td>\n",
       "      <td>0.0</td>\n",
       "      <td>1014.36</td>\n",
       "      <td>Partly cloudy starting in the morning.</td>\n",
       "    </tr>\n",
       "    <tr>\n",
       "      <th>96449</th>\n",
       "      <td>2016-09-09 20:00:00.000 +0200</td>\n",
       "      <td>Partly Cloudy</td>\n",
       "      <td>rain</td>\n",
       "      <td>24.583333</td>\n",
       "      <td>24.583333</td>\n",
       "      <td>0.48</td>\n",
       "      <td>10.0947</td>\n",
       "      <td>20.0</td>\n",
       "      <td>15.5526</td>\n",
       "      <td>0.0</td>\n",
       "      <td>1015.16</td>\n",
       "      <td>Partly cloudy starting in the morning.</td>\n",
       "    </tr>\n",
       "    <tr>\n",
       "      <th>96450</th>\n",
       "      <td>2016-09-09 21:00:00.000 +0200</td>\n",
       "      <td>Partly Cloudy</td>\n",
       "      <td>rain</td>\n",
       "      <td>22.038889</td>\n",
       "      <td>22.038889</td>\n",
       "      <td>0.56</td>\n",
       "      <td>8.9838</td>\n",
       "      <td>30.0</td>\n",
       "      <td>16.1000</td>\n",
       "      <td>0.0</td>\n",
       "      <td>1015.66</td>\n",
       "      <td>Partly cloudy starting in the morning.</td>\n",
       "    </tr>\n",
       "    <tr>\n",
       "      <th>96451</th>\n",
       "      <td>2016-09-09 22:00:00.000 +0200</td>\n",
       "      <td>Partly Cloudy</td>\n",
       "      <td>rain</td>\n",
       "      <td>21.522222</td>\n",
       "      <td>21.522222</td>\n",
       "      <td>0.60</td>\n",
       "      <td>10.5294</td>\n",
       "      <td>20.0</td>\n",
       "      <td>16.1000</td>\n",
       "      <td>0.0</td>\n",
       "      <td>1015.95</td>\n",
       "      <td>Partly cloudy starting in the morning.</td>\n",
       "    </tr>\n",
       "    <tr>\n",
       "      <th>96452</th>\n",
       "      <td>2016-09-09 23:00:00.000 +0200</td>\n",
       "      <td>Partly Cloudy</td>\n",
       "      <td>rain</td>\n",
       "      <td>20.438889</td>\n",
       "      <td>20.438889</td>\n",
       "      <td>0.61</td>\n",
       "      <td>5.8765</td>\n",
       "      <td>39.0</td>\n",
       "      <td>15.5204</td>\n",
       "      <td>0.0</td>\n",
       "      <td>1016.16</td>\n",
       "      <td>Partly cloudy starting in the morning.</td>\n",
       "    </tr>\n",
       "  </tbody>\n",
       "</table>\n",
       "<p>96453 rows × 12 columns</p>\n",
       "</div>"
      ],
      "text/plain": [
       "                      Formatted Date        Summary Precip Type  \\\n",
       "0      2006-04-01 00:00:00.000 +0200  Partly Cloudy        rain   \n",
       "1      2006-04-01 01:00:00.000 +0200  Partly Cloudy        rain   \n",
       "2      2006-04-01 02:00:00.000 +0200  Mostly Cloudy        rain   \n",
       "3      2006-04-01 03:00:00.000 +0200  Partly Cloudy        rain   \n",
       "4      2006-04-01 04:00:00.000 +0200  Mostly Cloudy        rain   \n",
       "...                              ...            ...         ...   \n",
       "96448  2016-09-09 19:00:00.000 +0200  Partly Cloudy        rain   \n",
       "96449  2016-09-09 20:00:00.000 +0200  Partly Cloudy        rain   \n",
       "96450  2016-09-09 21:00:00.000 +0200  Partly Cloudy        rain   \n",
       "96451  2016-09-09 22:00:00.000 +0200  Partly Cloudy        rain   \n",
       "96452  2016-09-09 23:00:00.000 +0200  Partly Cloudy        rain   \n",
       "\n",
       "       Temperature (C)  Apparent Temperature (C)  Humidity  Wind Speed (km/h)  \\\n",
       "0             9.472222                  7.388889      0.89            14.1197   \n",
       "1             9.355556                  7.227778      0.86            14.2646   \n",
       "2             9.377778                  9.377778      0.89             3.9284   \n",
       "3             8.288889                  5.944444      0.83            14.1036   \n",
       "4             8.755556                  6.977778      0.83            11.0446   \n",
       "...                ...                       ...       ...                ...   \n",
       "96448        26.016667                 26.016667      0.43            10.9963   \n",
       "96449        24.583333                 24.583333      0.48            10.0947   \n",
       "96450        22.038889                 22.038889      0.56             8.9838   \n",
       "96451        21.522222                 21.522222      0.60            10.5294   \n",
       "96452        20.438889                 20.438889      0.61             5.8765   \n",
       "\n",
       "       Wind Bearing (degrees)  Visibility (km)  Loud Cover  \\\n",
       "0                       251.0          15.8263         0.0   \n",
       "1                       259.0          15.8263         0.0   \n",
       "2                       204.0          14.9569         0.0   \n",
       "3                       269.0          15.8263         0.0   \n",
       "4                       259.0          15.8263         0.0   \n",
       "...                       ...              ...         ...   \n",
       "96448                    31.0          16.1000         0.0   \n",
       "96449                    20.0          15.5526         0.0   \n",
       "96450                    30.0          16.1000         0.0   \n",
       "96451                    20.0          16.1000         0.0   \n",
       "96452                    39.0          15.5204         0.0   \n",
       "\n",
       "       Pressure (millibars)                           Daily Summary  \n",
       "0                   1015.13       Partly cloudy throughout the day.  \n",
       "1                   1015.63       Partly cloudy throughout the day.  \n",
       "2                   1015.94       Partly cloudy throughout the day.  \n",
       "3                   1016.41       Partly cloudy throughout the day.  \n",
       "4                   1016.51       Partly cloudy throughout the day.  \n",
       "...                     ...                                     ...  \n",
       "96448               1014.36  Partly cloudy starting in the morning.  \n",
       "96449               1015.16  Partly cloudy starting in the morning.  \n",
       "96450               1015.66  Partly cloudy starting in the morning.  \n",
       "96451               1015.95  Partly cloudy starting in the morning.  \n",
       "96452               1016.16  Partly cloudy starting in the morning.  \n",
       "\n",
       "[96453 rows x 12 columns]"
      ]
     },
     "execution_count": 5,
     "metadata": {},
     "output_type": "execute_result"
    }
   ],
   "source": [
    "weather "
   ]
  },
  {
   "cell_type": "code",
   "execution_count": 6,
   "id": "6df9613b",
   "metadata": {},
   "outputs": [],
   "source": [
    "#change misprint\n",
    "weather=weather.rename(columns={'Loud Cover': 'Cloud Cover'})"
   ]
  },
  {
   "cell_type": "markdown",
   "id": "db3c52b8",
   "metadata": {},
   "source": [
    "# 1. getting to know the data"
   ]
  },
  {
   "cell_type": "code",
   "execution_count": 7,
   "id": "38324a4b",
   "metadata": {
    "scrolled": true
   },
   "outputs": [
    {
     "data": {
      "text/html": [
       "<div>\n",
       "<style scoped>\n",
       "    .dataframe tbody tr th:only-of-type {\n",
       "        vertical-align: middle;\n",
       "    }\n",
       "\n",
       "    .dataframe tbody tr th {\n",
       "        vertical-align: top;\n",
       "    }\n",
       "\n",
       "    .dataframe thead th {\n",
       "        text-align: right;\n",
       "    }\n",
       "</style>\n",
       "<table border=\"1\" class=\"dataframe\">\n",
       "  <thead>\n",
       "    <tr style=\"text-align: right;\">\n",
       "      <th></th>\n",
       "      <th>Temperature (C)</th>\n",
       "      <th>Apparent Temperature (C)</th>\n",
       "      <th>Humidity</th>\n",
       "      <th>Wind Speed (km/h)</th>\n",
       "      <th>Wind Bearing (degrees)</th>\n",
       "      <th>Visibility (km)</th>\n",
       "      <th>Cloud Cover</th>\n",
       "      <th>Pressure (millibars)</th>\n",
       "    </tr>\n",
       "  </thead>\n",
       "  <tbody>\n",
       "    <tr>\n",
       "      <th>count</th>\n",
       "      <td>96453.000000</td>\n",
       "      <td>96453.000000</td>\n",
       "      <td>96453.000000</td>\n",
       "      <td>96453.000000</td>\n",
       "      <td>96453.000000</td>\n",
       "      <td>96453.000000</td>\n",
       "      <td>96453.0</td>\n",
       "      <td>96453.000000</td>\n",
       "    </tr>\n",
       "    <tr>\n",
       "      <th>mean</th>\n",
       "      <td>11.932678</td>\n",
       "      <td>10.855029</td>\n",
       "      <td>0.734899</td>\n",
       "      <td>10.810640</td>\n",
       "      <td>187.509232</td>\n",
       "      <td>10.347325</td>\n",
       "      <td>0.0</td>\n",
       "      <td>1003.235956</td>\n",
       "    </tr>\n",
       "    <tr>\n",
       "      <th>std</th>\n",
       "      <td>9.551546</td>\n",
       "      <td>10.696847</td>\n",
       "      <td>0.195473</td>\n",
       "      <td>6.913571</td>\n",
       "      <td>107.383428</td>\n",
       "      <td>4.192123</td>\n",
       "      <td>0.0</td>\n",
       "      <td>116.969906</td>\n",
       "    </tr>\n",
       "    <tr>\n",
       "      <th>min</th>\n",
       "      <td>-21.822222</td>\n",
       "      <td>-27.716667</td>\n",
       "      <td>0.000000</td>\n",
       "      <td>0.000000</td>\n",
       "      <td>0.000000</td>\n",
       "      <td>0.000000</td>\n",
       "      <td>0.0</td>\n",
       "      <td>0.000000</td>\n",
       "    </tr>\n",
       "    <tr>\n",
       "      <th>25%</th>\n",
       "      <td>4.688889</td>\n",
       "      <td>2.311111</td>\n",
       "      <td>0.600000</td>\n",
       "      <td>5.828200</td>\n",
       "      <td>116.000000</td>\n",
       "      <td>8.339800</td>\n",
       "      <td>0.0</td>\n",
       "      <td>1011.900000</td>\n",
       "    </tr>\n",
       "    <tr>\n",
       "      <th>50%</th>\n",
       "      <td>12.000000</td>\n",
       "      <td>12.000000</td>\n",
       "      <td>0.780000</td>\n",
       "      <td>9.965900</td>\n",
       "      <td>180.000000</td>\n",
       "      <td>10.046400</td>\n",
       "      <td>0.0</td>\n",
       "      <td>1016.450000</td>\n",
       "    </tr>\n",
       "    <tr>\n",
       "      <th>75%</th>\n",
       "      <td>18.838889</td>\n",
       "      <td>18.838889</td>\n",
       "      <td>0.890000</td>\n",
       "      <td>14.135800</td>\n",
       "      <td>290.000000</td>\n",
       "      <td>14.812000</td>\n",
       "      <td>0.0</td>\n",
       "      <td>1021.090000</td>\n",
       "    </tr>\n",
       "    <tr>\n",
       "      <th>max</th>\n",
       "      <td>39.905556</td>\n",
       "      <td>39.344444</td>\n",
       "      <td>1.000000</td>\n",
       "      <td>63.852600</td>\n",
       "      <td>359.000000</td>\n",
       "      <td>16.100000</td>\n",
       "      <td>0.0</td>\n",
       "      <td>1046.380000</td>\n",
       "    </tr>\n",
       "  </tbody>\n",
       "</table>\n",
       "</div>"
      ],
      "text/plain": [
       "       Temperature (C)  Apparent Temperature (C)      Humidity  \\\n",
       "count     96453.000000              96453.000000  96453.000000   \n",
       "mean         11.932678                 10.855029      0.734899   \n",
       "std           9.551546                 10.696847      0.195473   \n",
       "min         -21.822222                -27.716667      0.000000   \n",
       "25%           4.688889                  2.311111      0.600000   \n",
       "50%          12.000000                 12.000000      0.780000   \n",
       "75%          18.838889                 18.838889      0.890000   \n",
       "max          39.905556                 39.344444      1.000000   \n",
       "\n",
       "       Wind Speed (km/h)  Wind Bearing (degrees)  Visibility (km)  \\\n",
       "count       96453.000000            96453.000000     96453.000000   \n",
       "mean           10.810640              187.509232        10.347325   \n",
       "std             6.913571              107.383428         4.192123   \n",
       "min             0.000000                0.000000         0.000000   \n",
       "25%             5.828200              116.000000         8.339800   \n",
       "50%             9.965900              180.000000        10.046400   \n",
       "75%            14.135800              290.000000        14.812000   \n",
       "max            63.852600              359.000000        16.100000   \n",
       "\n",
       "       Cloud Cover  Pressure (millibars)  \n",
       "count      96453.0          96453.000000  \n",
       "mean           0.0           1003.235956  \n",
       "std            0.0            116.969906  \n",
       "min            0.0              0.000000  \n",
       "25%            0.0           1011.900000  \n",
       "50%            0.0           1016.450000  \n",
       "75%            0.0           1021.090000  \n",
       "max            0.0           1046.380000  "
      ]
     },
     "execution_count": 7,
     "metadata": {},
     "output_type": "execute_result"
    }
   ],
   "source": [
    "weather.describe()"
   ]
  },
  {
   "cell_type": "markdown",
   "id": "80fd82bd",
   "metadata": {},
   "source": [
    "### What are the features?\n",
    "*Formatted Date - includes day, week , month, year\n",
    "\n",
    "*Summary - sum up of the weather in words\n",
    "\n",
    "*Precip Type - which type of raindrops there are\n",
    "\n",
    "*Temperature (C) - temp in celcius\n",
    "\n",
    "*Humidity - Humidity depends on the temperature and pressure .\n",
    "\n",
    "*Wind Speed (km/h)\t\n",
    "\n",
    "*Wind Bearing (degrees)\t- direction of the wind in degrees. For example , a wind blowing from the north has a wind direction referred to as 0° (360°); a wind blowing from the east has a wind direction referred to as 90°, etc.\n",
    "<!-- The term \"wind direction\" is defined as the compass heading FROM which the wind is blowing -->\n",
    "\n",
    "*Visibility (km) - visibility is a measure of the distance at which an object or light can be clearly discerned.\t\n",
    "\n",
    "*Cloud Cover\t(loud cover- misprint)\n",
    "\n",
    "*Pressure (millibars) - High pressure means the air is heavy . Under high pressure you can generally expect sunny skies and calm weather , whereas Low pressure systems lead to active weather like wind and rain, and also severe weather.\n",
    "\n",
    "*Daily Summary - daily sum up of the weather in words\n",
    "\n",
    "\n",
    "## What is the target variable?\n",
    "\n",
    "Apparent Temperature : in simple words, Apparent Temperature is the temperature humans percieve, mostly outdoors, as a combination or the actual air temperature, humidity and wind. \n",
    "\n",
    "What else do we know?\n",
    "\n",
    "\n",
    "*we are starting with 12 variables (including the dependent)\n",
    "\n",
    "\n",
    "\n",
    "<!-- is The perceived temperature in degrees Fahrenheit derived from either a combination of temperature and wind (Wind Chill) or temperature and humidity (Heat Index) for the indicated hour. -\n",
    "->\n",
    "\n",
    "\n",
    "\n",
    "\n",
    "<!-- 1. Because the response variable is continuous, this is a regression problem.\n",
    "2.There are 96453 observations (represented by the rows), and each observation is a weather report from a different date.\n",
    " -->"
   ]
  },
  {
   "cell_type": "markdown",
   "id": "31dad687",
   "metadata": {},
   "source": [
    "### the numeric variables histogramas:"
   ]
  },
  {
   "cell_type": "markdown",
   "id": "462915ed",
   "metadata": {},
   "source": [
    "here we can see the distribution of the numeric features, and approximately understand the most frequent values of each feature "
   ]
  },
  {
   "cell_type": "code",
   "execution_count": 8,
   "id": "ce3a3dc0",
   "metadata": {},
   "outputs": [
    {
     "data": {
      "text/plain": [
       "array([[<AxesSubplot:title={'center':'Temperature (C)'}>,\n",
       "        <AxesSubplot:title={'center':'Apparent Temperature (C)'}>,\n",
       "        <AxesSubplot:title={'center':'Wind Speed (km/h)'}>],\n",
       "       [<AxesSubplot:title={'center':'Wind Bearing (degrees)'}>,\n",
       "        <AxesSubplot:title={'center':'Visibility (km)'}>,\n",
       "        <AxesSubplot:title={'center':'Pressure (millibars)'}>],\n",
       "       [<AxesSubplot:title={'center':'Cloud Cover'}>, <AxesSubplot:>,\n",
       "        <AxesSubplot:>]], dtype=object)"
      ]
     },
     "execution_count": 8,
     "metadata": {},
     "output_type": "execute_result"
    },
    {
     "data": {
      "image/png": "[encoded data removed]",
      "text/plain": [
       "<Figure size 1440x1080 with 9 Axes>"
      ]
     },
     "metadata": {
      "needs_background": "light"
     },
     "output_type": "display_data"
    }
   ],
   "source": [
    "atttibutes_hist = weather[[\"Temperature (C)\", \"Apparent Temperature (C)\", \"Wind Speed (km/h)\",\"Wind Bearing (degrees)\",'Visibility (km)', \"Pressure (millibars)\",'Cloud Cover']].hist(bins=50, figsize=(20,15))\n",
    "atttibutes_hist"
   ]
  },
  {
   "cell_type": "markdown",
   "id": "11ce7618",
   "metadata": {},
   "source": [
    "as we can see, cloud cover has only values of 0 , so we should delete it "
   ]
  },
  {
   "cell_type": "code",
   "execution_count": 9,
   "id": "3d6ec9a0",
   "metadata": {},
   "outputs": [],
   "source": [
    "del weather['Cloud Cover']"
   ]
  },
  {
   "cell_type": "markdown",
   "id": "f9f27c2a",
   "metadata": {},
   "source": [
    "# 2. preprocessing of the data"
   ]
  },
  {
   "cell_type": "code",
   "execution_count": 10,
   "id": "65e9d058",
   "metadata": {},
   "outputs": [],
   "source": [
    "weather=weather.dropna()"
   ]
  },
  {
   "cell_type": "code",
   "execution_count": 11,
   "id": "af7a53f2",
   "metadata": {},
   "outputs": [
    {
     "data": {
      "text/plain": [
       "Formatted Date              False\n",
       "Summary                     False\n",
       "Precip Type                 False\n",
       "Temperature (C)             False\n",
       "Apparent Temperature (C)    False\n",
       "Humidity                    False\n",
       "Wind Speed (km/h)           False\n",
       "Wind Bearing (degrees)      False\n",
       "Visibility (km)             False\n",
       "Pressure (millibars)        False\n",
       "Daily Summary               False\n",
       "dtype: bool"
      ]
     },
     "execution_count": 11,
     "metadata": {},
     "output_type": "execute_result"
    }
   ],
   "source": [
    "weather.isnull().any()"
   ]
  },
  {
   "cell_type": "markdown",
   "id": "e22fd1ca",
   "metadata": {},
   "source": [
    "as we can see, there is still nan values in the Precip Type column, but the percentage of it is low.\n",
    "\n",
    "we will handle this by fill in the most common catagory of this feature (rain) instead of the nan values "
   ]
  },
  {
   "cell_type": "code",
   "execution_count": 12,
   "id": "e30fea49",
   "metadata": {},
   "outputs": [
    {
     "name": "stdout",
     "output_type": "stream",
     "text": [
      "rain    85224\n",
      "snow    10712\n",
      "Name: Precip Type, dtype: int64\n"
     ]
    }
   ],
   "source": [
    "print(weather['Precip Type'].value_counts())"
   ]
  },
  {
   "cell_type": "code",
   "execution_count": 13,
   "id": "7e4563cd",
   "metadata": {},
   "outputs": [],
   "source": [
    "pd.options.mode.chained_assignment = None  # default='warn'\n",
    "weather['Precip Type'] = weather['Precip Type'].fillna(\"rain\")"
   ]
  },
  {
   "cell_type": "markdown",
   "id": "6be4d79f",
   "metadata": {},
   "source": [
    "\n",
    "#### Precip Type, Temperature, wind speed , Wind Bearing, pressure are features that supposed to be  linked very strongly with the Apparent Temperature (according to the information we read), they are crucial for the prediction of the Apparent Temperature. \n",
    "\n",
    "on the other hand, daily summary is not that beneficial,  since we have the column Precip Type and also Summary.\n",
    "\n"
   ]
  },
  {
   "cell_type": "markdown",
   "id": "6df6dda4",
   "metadata": {},
   "source": [
    "Since Formatted Date is a unique value and Daily Summary is not a numerical value and it has so many different values we can drop them both."
   ]
  },
  {
   "cell_type": "code",
   "execution_count": 14,
   "id": "35b8e0d5",
   "metadata": {},
   "outputs": [
    {
     "data": {
      "text/html": [
       "<div>\n",
       "<style scoped>\n",
       "    .dataframe tbody tr th:only-of-type {\n",
       "        vertical-align: middle;\n",
       "    }\n",
       "\n",
       "    .dataframe tbody tr th {\n",
       "        vertical-align: top;\n",
       "    }\n",
       "\n",
       "    .dataframe thead th {\n",
       "        text-align: right;\n",
       "    }\n",
       "</style>\n",
       "<table border=\"1\" class=\"dataframe\">\n",
       "  <thead>\n",
       "    <tr style=\"text-align: right;\">\n",
       "      <th></th>\n",
       "      <th>Formatted Date</th>\n",
       "      <th>Summary</th>\n",
       "      <th>Precip Type</th>\n",
       "      <th>Temperature (C)</th>\n",
       "      <th>Apparent Temperature (C)</th>\n",
       "      <th>Humidity</th>\n",
       "      <th>Wind Speed (km/h)</th>\n",
       "      <th>Wind Bearing (degrees)</th>\n",
       "      <th>Visibility (km)</th>\n",
       "      <th>Pressure (millibars)</th>\n",
       "      <th>Daily Summary</th>\n",
       "    </tr>\n",
       "  </thead>\n",
       "  <tbody>\n",
       "    <tr>\n",
       "      <th>0</th>\n",
       "      <td>2006-04-01 00:00:00.000 +0200</td>\n",
       "      <td>Partly Cloudy</td>\n",
       "      <td>rain</td>\n",
       "      <td>9.472222</td>\n",
       "      <td>7.388889</td>\n",
       "      <td>0.89</td>\n",
       "      <td>14.1197</td>\n",
       "      <td>251.0</td>\n",
       "      <td>15.8263</td>\n",
       "      <td>1015.13</td>\n",
       "      <td>Partly cloudy throughout the day.</td>\n",
       "    </tr>\n",
       "    <tr>\n",
       "      <th>1</th>\n",
       "      <td>2006-04-01 01:00:00.000 +0200</td>\n",
       "      <td>Partly Cloudy</td>\n",
       "      <td>rain</td>\n",
       "      <td>9.355556</td>\n",
       "      <td>7.227778</td>\n",
       "      <td>0.86</td>\n",
       "      <td>14.2646</td>\n",
       "      <td>259.0</td>\n",
       "      <td>15.8263</td>\n",
       "      <td>1015.63</td>\n",
       "      <td>Partly cloudy throughout the day.</td>\n",
       "    </tr>\n",
       "    <tr>\n",
       "      <th>2</th>\n",
       "      <td>2006-04-01 02:00:00.000 +0200</td>\n",
       "      <td>Mostly Cloudy</td>\n",
       "      <td>rain</td>\n",
       "      <td>9.377778</td>\n",
       "      <td>9.377778</td>\n",
       "      <td>0.89</td>\n",
       "      <td>3.9284</td>\n",
       "      <td>204.0</td>\n",
       "      <td>14.9569</td>\n",
       "      <td>1015.94</td>\n",
       "      <td>Partly cloudy throughout the day.</td>\n",
       "    </tr>\n",
       "    <tr>\n",
       "      <th>3</th>\n",
       "      <td>2006-04-01 03:00:00.000 +0200</td>\n",
       "      <td>Partly Cloudy</td>\n",
       "      <td>rain</td>\n",
       "      <td>8.288889</td>\n",
       "      <td>5.944444</td>\n",
       "      <td>0.83</td>\n",
       "      <td>14.1036</td>\n",
       "      <td>269.0</td>\n",
       "      <td>15.8263</td>\n",
       "      <td>1016.41</td>\n",
       "      <td>Partly cloudy throughout the day.</td>\n",
       "    </tr>\n",
       "    <tr>\n",
       "      <th>4</th>\n",
       "      <td>2006-04-01 04:00:00.000 +0200</td>\n",
       "      <td>Mostly Cloudy</td>\n",
       "      <td>rain</td>\n",
       "      <td>8.755556</td>\n",
       "      <td>6.977778</td>\n",
       "      <td>0.83</td>\n",
       "      <td>11.0446</td>\n",
       "      <td>259.0</td>\n",
       "      <td>15.8263</td>\n",
       "      <td>1016.51</td>\n",
       "      <td>Partly cloudy throughout the day.</td>\n",
       "    </tr>\n",
       "    <tr>\n",
       "      <th>...</th>\n",
       "      <td>...</td>\n",
       "      <td>...</td>\n",
       "      <td>...</td>\n",
       "      <td>...</td>\n",
       "      <td>...</td>\n",
       "      <td>...</td>\n",
       "      <td>...</td>\n",
       "      <td>...</td>\n",
       "      <td>...</td>\n",
       "      <td>...</td>\n",
       "      <td>...</td>\n",
       "    </tr>\n",
       "    <tr>\n",
       "      <th>96448</th>\n",
       "      <td>2016-09-09 19:00:00.000 +0200</td>\n",
       "      <td>Partly Cloudy</td>\n",
       "      <td>rain</td>\n",
       "      <td>26.016667</td>\n",
       "      <td>26.016667</td>\n",
       "      <td>0.43</td>\n",
       "      <td>10.9963</td>\n",
       "      <td>31.0</td>\n",
       "      <td>16.1000</td>\n",
       "      <td>1014.36</td>\n",
       "      <td>Partly cloudy starting in the morning.</td>\n",
       "    </tr>\n",
       "    <tr>\n",
       "      <th>96449</th>\n",
       "      <td>2016-09-09 20:00:00.000 +0200</td>\n",
       "      <td>Partly Cloudy</td>\n",
       "      <td>rain</td>\n",
       "      <td>24.583333</td>\n",
       "      <td>24.583333</td>\n",
       "      <td>0.48</td>\n",
       "      <td>10.0947</td>\n",
       "      <td>20.0</td>\n",
       "      <td>15.5526</td>\n",
       "      <td>1015.16</td>\n",
       "      <td>Partly cloudy starting in the morning.</td>\n",
       "    </tr>\n",
       "    <tr>\n",
       "      <th>96450</th>\n",
       "      <td>2016-09-09 21:00:00.000 +0200</td>\n",
       "      <td>Partly Cloudy</td>\n",
       "      <td>rain</td>\n",
       "      <td>22.038889</td>\n",
       "      <td>22.038889</td>\n",
       "      <td>0.56</td>\n",
       "      <td>8.9838</td>\n",
       "      <td>30.0</td>\n",
       "      <td>16.1000</td>\n",
       "      <td>1015.66</td>\n",
       "      <td>Partly cloudy starting in the morning.</td>\n",
       "    </tr>\n",
       "    <tr>\n",
       "      <th>96451</th>\n",
       "      <td>2016-09-09 22:00:00.000 +0200</td>\n",
       "      <td>Partly Cloudy</td>\n",
       "      <td>rain</td>\n",
       "      <td>21.522222</td>\n",
       "      <td>21.522222</td>\n",
       "      <td>0.60</td>\n",
       "      <td>10.5294</td>\n",
       "      <td>20.0</td>\n",
       "      <td>16.1000</td>\n",
       "      <td>1015.95</td>\n",
       "      <td>Partly cloudy starting in the morning.</td>\n",
       "    </tr>\n",
       "    <tr>\n",
       "      <th>96452</th>\n",
       "      <td>2016-09-09 23:00:00.000 +0200</td>\n",
       "      <td>Partly Cloudy</td>\n",
       "      <td>rain</td>\n",
       "      <td>20.438889</td>\n",
       "      <td>20.438889</td>\n",
       "      <td>0.61</td>\n",
       "      <td>5.8765</td>\n",
       "      <td>39.0</td>\n",
       "      <td>15.5204</td>\n",
       "      <td>1016.16</td>\n",
       "      <td>Partly cloudy starting in the morning.</td>\n",
       "    </tr>\n",
       "  </tbody>\n",
       "</table>\n",
       "<p>95936 rows × 11 columns</p>\n",
       "</div>"
      ],
      "text/plain": [
       "                      Formatted Date        Summary Precip Type  \\\n",
       "0      2006-04-01 00:00:00.000 +0200  Partly Cloudy        rain   \n",
       "1      2006-04-01 01:00:00.000 +0200  Partly Cloudy        rain   \n",
       "2      2006-04-01 02:00:00.000 +0200  Mostly Cloudy        rain   \n",
       "3      2006-04-01 03:00:00.000 +0200  Partly Cloudy        rain   \n",
       "4      2006-04-01 04:00:00.000 +0200  Mostly Cloudy        rain   \n",
       "...                              ...            ...         ...   \n",
       "96448  2016-09-09 19:00:00.000 +0200  Partly Cloudy        rain   \n",
       "96449  2016-09-09 20:00:00.000 +0200  Partly Cloudy        rain   \n",
       "96450  2016-09-09 21:00:00.000 +0200  Partly Cloudy        rain   \n",
       "96451  2016-09-09 22:00:00.000 +0200  Partly Cloudy        rain   \n",
       "96452  2016-09-09 23:00:00.000 +0200  Partly Cloudy        rain   \n",
       "\n",
       "       Temperature (C)  Apparent Temperature (C)  Humidity  Wind Speed (km/h)  \\\n",
       "0             9.472222                  7.388889      0.89            14.1197   \n",
       "1             9.355556                  7.227778      0.86            14.2646   \n",
       "2             9.377778                  9.377778      0.89             3.9284   \n",
       "3             8.288889                  5.944444      0.83            14.1036   \n",
       "4             8.755556                  6.977778      0.83            11.0446   \n",
       "...                ...                       ...       ...                ...   \n",
       "96448        26.016667                 26.016667      0.43            10.9963   \n",
       "96449        24.583333                 24.583333      0.48            10.0947   \n",
       "96450        22.038889                 22.038889      0.56             8.9838   \n",
       "96451        21.522222                 21.522222      0.60            10.5294   \n",
       "96452        20.438889                 20.438889      0.61             5.8765   \n",
       "\n",
       "       Wind Bearing (degrees)  Visibility (km)  Pressure (millibars)  \\\n",
       "0                       251.0          15.8263               1015.13   \n",
       "1                       259.0          15.8263               1015.63   \n",
       "2                       204.0          14.9569               1015.94   \n",
       "3                       269.0          15.8263               1016.41   \n",
       "4                       259.0          15.8263               1016.51   \n",
       "...                       ...              ...                   ...   \n",
       "96448                    31.0          16.1000               1014.36   \n",
       "96449                    20.0          15.5526               1015.16   \n",
       "96450                    30.0          16.1000               1015.66   \n",
       "96451                    20.0          16.1000               1015.95   \n",
       "96452                    39.0          15.5204               1016.16   \n",
       "\n",
       "                                Daily Summary  \n",
       "0           Partly cloudy throughout the day.  \n",
       "1           Partly cloudy throughout the day.  \n",
       "2           Partly cloudy throughout the day.  \n",
       "3           Partly cloudy throughout the day.  \n",
       "4           Partly cloudy throughout the day.  \n",
       "...                                       ...  \n",
       "96448  Partly cloudy starting in the morning.  \n",
       "96449  Partly cloudy starting in the morning.  \n",
       "96450  Partly cloudy starting in the morning.  \n",
       "96451  Partly cloudy starting in the morning.  \n",
       "96452  Partly cloudy starting in the morning.  \n",
       "\n",
       "[95936 rows x 11 columns]"
      ]
     },
     "execution_count": 14,
     "metadata": {},
     "output_type": "execute_result"
    }
   ],
   "source": [
    "weather"
   ]
  },
  {
   "cell_type": "code",
   "execution_count": 15,
   "id": "9a8b0e26",
   "metadata": {
    "scrolled": true
   },
   "outputs": [],
   "source": [
    "weather = weather.drop(columns=['Daily Summary','Formatted Date'])"
   ]
  },
  {
   "cell_type": "code",
   "execution_count": 16,
   "id": "6f42d124",
   "metadata": {
    "scrolled": true
   },
   "outputs": [
    {
     "data": {
      "text/html": [
       "<div>\n",
       "<style scoped>\n",
       "    .dataframe tbody tr th:only-of-type {\n",
       "        vertical-align: middle;\n",
       "    }\n",
       "\n",
       "    .dataframe tbody tr th {\n",
       "        vertical-align: top;\n",
       "    }\n",
       "\n",
       "    .dataframe thead th {\n",
       "        text-align: right;\n",
       "    }\n",
       "</style>\n",
       "<table border=\"1\" class=\"dataframe\">\n",
       "  <thead>\n",
       "    <tr style=\"text-align: right;\">\n",
       "      <th></th>\n",
       "      <th>Summary</th>\n",
       "      <th>Precip Type</th>\n",
       "      <th>Temperature (C)</th>\n",
       "      <th>Apparent Temperature (C)</th>\n",
       "      <th>Humidity</th>\n",
       "      <th>Wind Speed (km/h)</th>\n",
       "      <th>Wind Bearing (degrees)</th>\n",
       "      <th>Visibility (km)</th>\n",
       "      <th>Pressure (millibars)</th>\n",
       "    </tr>\n",
       "  </thead>\n",
       "  <tbody>\n",
       "    <tr>\n",
       "      <th>0</th>\n",
       "      <td>Partly Cloudy</td>\n",
       "      <td>rain</td>\n",
       "      <td>9.472222</td>\n",
       "      <td>7.388889</td>\n",
       "      <td>0.89</td>\n",
       "      <td>14.1197</td>\n",
       "      <td>251.0</td>\n",
       "      <td>15.8263</td>\n",
       "      <td>1015.13</td>\n",
       "    </tr>\n",
       "    <tr>\n",
       "      <th>1</th>\n",
       "      <td>Partly Cloudy</td>\n",
       "      <td>rain</td>\n",
       "      <td>9.355556</td>\n",
       "      <td>7.227778</td>\n",
       "      <td>0.86</td>\n",
       "      <td>14.2646</td>\n",
       "      <td>259.0</td>\n",
       "      <td>15.8263</td>\n",
       "      <td>1015.63</td>\n",
       "    </tr>\n",
       "    <tr>\n",
       "      <th>2</th>\n",
       "      <td>Mostly Cloudy</td>\n",
       "      <td>rain</td>\n",
       "      <td>9.377778</td>\n",
       "      <td>9.377778</td>\n",
       "      <td>0.89</td>\n",
       "      <td>3.9284</td>\n",
       "      <td>204.0</td>\n",
       "      <td>14.9569</td>\n",
       "      <td>1015.94</td>\n",
       "    </tr>\n",
       "    <tr>\n",
       "      <th>3</th>\n",
       "      <td>Partly Cloudy</td>\n",
       "      <td>rain</td>\n",
       "      <td>8.288889</td>\n",
       "      <td>5.944444</td>\n",
       "      <td>0.83</td>\n",
       "      <td>14.1036</td>\n",
       "      <td>269.0</td>\n",
       "      <td>15.8263</td>\n",
       "      <td>1016.41</td>\n",
       "    </tr>\n",
       "    <tr>\n",
       "      <th>4</th>\n",
       "      <td>Mostly Cloudy</td>\n",
       "      <td>rain</td>\n",
       "      <td>8.755556</td>\n",
       "      <td>6.977778</td>\n",
       "      <td>0.83</td>\n",
       "      <td>11.0446</td>\n",
       "      <td>259.0</td>\n",
       "      <td>15.8263</td>\n",
       "      <td>1016.51</td>\n",
       "    </tr>\n",
       "    <tr>\n",
       "      <th>...</th>\n",
       "      <td>...</td>\n",
       "      <td>...</td>\n",
       "      <td>...</td>\n",
       "      <td>...</td>\n",
       "      <td>...</td>\n",
       "      <td>...</td>\n",
       "      <td>...</td>\n",
       "      <td>...</td>\n",
       "      <td>...</td>\n",
       "    </tr>\n",
       "    <tr>\n",
       "      <th>96448</th>\n",
       "      <td>Partly Cloudy</td>\n",
       "      <td>rain</td>\n",
       "      <td>26.016667</td>\n",
       "      <td>26.016667</td>\n",
       "      <td>0.43</td>\n",
       "      <td>10.9963</td>\n",
       "      <td>31.0</td>\n",
       "      <td>16.1000</td>\n",
       "      <td>1014.36</td>\n",
       "    </tr>\n",
       "    <tr>\n",
       "      <th>96449</th>\n",
       "      <td>Partly Cloudy</td>\n",
       "      <td>rain</td>\n",
       "      <td>24.583333</td>\n",
       "      <td>24.583333</td>\n",
       "      <td>0.48</td>\n",
       "      <td>10.0947</td>\n",
       "      <td>20.0</td>\n",
       "      <td>15.5526</td>\n",
       "      <td>1015.16</td>\n",
       "    </tr>\n",
       "    <tr>\n",
       "      <th>96450</th>\n",
       "      <td>Partly Cloudy</td>\n",
       "      <td>rain</td>\n",
       "      <td>22.038889</td>\n",
       "      <td>22.038889</td>\n",
       "      <td>0.56</td>\n",
       "      <td>8.9838</td>\n",
       "      <td>30.0</td>\n",
       "      <td>16.1000</td>\n",
       "      <td>1015.66</td>\n",
       "    </tr>\n",
       "    <tr>\n",
       "      <th>96451</th>\n",
       "      <td>Partly Cloudy</td>\n",
       "      <td>rain</td>\n",
       "      <td>21.522222</td>\n",
       "      <td>21.522222</td>\n",
       "      <td>0.60</td>\n",
       "      <td>10.5294</td>\n",
       "      <td>20.0</td>\n",
       "      <td>16.1000</td>\n",
       "      <td>1015.95</td>\n",
       "    </tr>\n",
       "    <tr>\n",
       "      <th>96452</th>\n",
       "      <td>Partly Cloudy</td>\n",
       "      <td>rain</td>\n",
       "      <td>20.438889</td>\n",
       "      <td>20.438889</td>\n",
       "      <td>0.61</td>\n",
       "      <td>5.8765</td>\n",
       "      <td>39.0</td>\n",
       "      <td>15.5204</td>\n",
       "      <td>1016.16</td>\n",
       "    </tr>\n",
       "  </tbody>\n",
       "</table>\n",
       "<p>95936 rows × 9 columns</p>\n",
       "</div>"
      ],
      "text/plain": [
       "             Summary Precip Type  Temperature (C)  Apparent Temperature (C)  \\\n",
       "0      Partly Cloudy        rain         9.472222                  7.388889   \n",
       "1      Partly Cloudy        rain         9.355556                  7.227778   \n",
       "2      Mostly Cloudy        rain         9.377778                  9.377778   \n",
       "3      Partly Cloudy        rain         8.288889                  5.944444   \n",
       "4      Mostly Cloudy        rain         8.755556                  6.977778   \n",
       "...              ...         ...              ...                       ...   \n",
       "96448  Partly Cloudy        rain        26.016667                 26.016667   \n",
       "96449  Partly Cloudy        rain        24.583333                 24.583333   \n",
       "96450  Partly Cloudy        rain        22.038889                 22.038889   \n",
       "96451  Partly Cloudy        rain        21.522222                 21.522222   \n",
       "96452  Partly Cloudy        rain        20.438889                 20.438889   \n",
       "\n",
       "       Humidity  Wind Speed (km/h)  Wind Bearing (degrees)  Visibility (km)  \\\n",
       "0          0.89            14.1197                   251.0          15.8263   \n",
       "1          0.86            14.2646                   259.0          15.8263   \n",
       "2          0.89             3.9284                   204.0          14.9569   \n",
       "3          0.83            14.1036                   269.0          15.8263   \n",
       "4          0.83            11.0446                   259.0          15.8263   \n",
       "...         ...                ...                     ...              ...   \n",
       "96448      0.43            10.9963                    31.0          16.1000   \n",
       "96449      0.48            10.0947                    20.0          15.5526   \n",
       "96450      0.56             8.9838                    30.0          16.1000   \n",
       "96451      0.60            10.5294                    20.0          16.1000   \n",
       "96452      0.61             5.8765                    39.0          15.5204   \n",
       "\n",
       "       Pressure (millibars)  \n",
       "0                   1015.13  \n",
       "1                   1015.63  \n",
       "2                   1015.94  \n",
       "3                   1016.41  \n",
       "4                   1016.51  \n",
       "...                     ...  \n",
       "96448               1014.36  \n",
       "96449               1015.16  \n",
       "96450               1015.66  \n",
       "96451               1015.95  \n",
       "96452               1016.16  \n",
       "\n",
       "[95936 rows x 9 columns]"
      ]
     },
     "execution_count": 16,
     "metadata": {},
     "output_type": "execute_result"
    }
   ],
   "source": [
    "weather"
   ]
  },
  {
   "cell_type": "markdown",
   "id": "7d222ea1",
   "metadata": {},
   "source": [
    "# getting rid of outliers and checking  for  anomalies:\n"
   ]
  },
  {
   "cell_type": "code",
   "execution_count": 17,
   "id": "93948eb7",
   "metadata": {},
   "outputs": [
    {
     "data": {
      "text/plain": [
       "<AxesSubplot:>"
      ]
     },
     "execution_count": 17,
     "metadata": {},
     "output_type": "execute_result"
    },
    {
     "data": {
      "image/png": "[encoded data removed]",
      "text/plain": [
       "<Figure size 1296x576 with 1 Axes>"
      ]
     },
     "metadata": {
      "needs_background": "light"
     },
     "output_type": "display_data"
    }
   ],
   "source": [
    "weather.boxplot(figsize=(18,8))"
   ]
  },
  {
   "cell_type": "code",
   "execution_count": 18,
   "id": "5f2a8078",
   "metadata": {},
   "outputs": [
    {
     "data": {
      "text/plain": [
       "1288"
      ]
     },
     "execution_count": 18,
     "metadata": {},
     "output_type": "execute_result"
    }
   ],
   "source": [
    "weather[weather['Pressure (millibars)'] == 0].shape[0]"
   ]
  },
  {
   "cell_type": "code",
   "execution_count": 19,
   "id": "57f44eff",
   "metadata": {},
   "outputs": [
    {
     "name": "stderr",
     "output_type": "stream",
     "text": [
      "<ipython-input-19-ad536d9daaf5>:2: MatplotlibDeprecationWarning: Passing the pad parameter of tight_layout() positionally is deprecated since Matplotlib 3.3; the parameter will become keyword-only two minor releases later.\n",
      "  plt.tight_layout(0.2)\n",
      "C:\\Users\\User\\anaconda3\\lib\\site-packages\\seaborn\\_decorators.py:36: FutureWarning: Pass the following variable as a keyword arg: x. From version 0.12, the only valid positional argument will be `data`, and passing other arguments without an explicit keyword will result in an error or misinterpretation.\n",
      "  warnings.warn(\n",
      "C:\\Users\\User\\anaconda3\\lib\\site-packages\\seaborn\\_core.py:1319: UserWarning: Vertical orientation ignored with only `x` specified.\n",
      "  warnings.warn(single_var_warning.format(\"Vertical\", \"x\"))\n",
      "C:\\Users\\User\\anaconda3\\lib\\site-packages\\seaborn\\_decorators.py:36: FutureWarning: Pass the following variable as a keyword arg: x. From version 0.12, the only valid positional argument will be `data`, and passing other arguments without an explicit keyword will result in an error or misinterpretation.\n",
      "  warnings.warn(\n",
      "C:\\Users\\User\\anaconda3\\lib\\site-packages\\seaborn\\_core.py:1319: UserWarning: Vertical orientation ignored with only `x` specified.\n",
      "  warnings.warn(single_var_warning.format(\"Vertical\", \"x\"))\n"
     ]
    },
    {
     "name": "stdout",
     "output_type": "stream",
     "text": [
      "Previous Shape With Outlier:  (95936, 9)\n",
      "1011.89 1021.05\n",
      "9.159999999999968\n",
      "998.1500000000001 1034.79\n",
      "Shape After Removing Outliers: (95936, 9)\n"
     ]
    },
    {
     "data": {
      "image/png": "[encoded data removed]",
      "text/plain": [
       "<Figure size 432x288 with 2 Axes>"
      ]
     },
     "metadata": {
      "needs_background": "light"
     },
     "output_type": "display_data"
    }
   ],
   "source": [
    "fig, axes = plt.subplots(1,2)\n",
    "plt.tight_layout(0.2)\n",
    "print(\"Previous Shape With Outlier: \",weather.shape)\n",
    "sns.boxplot(weather['Pressure (millibars)'],orient='v',ax=axes[0])\n",
    "axes[0].title.set_text(\"Before\")\n",
    "Q1 = weather[\"Pressure (millibars)\"].quantile(0.25)\n",
    "Q3 = weather[\"Pressure (millibars)\"].quantile(0.75)\n",
    "print(Q1,Q3)\n",
    "IQR = Q3-Q1\n",
    "print(IQR)\n",
    "lower_limit = Q1 - 1.5*IQR\n",
    "upper_limit = Q3 + 1.5*IQR\n",
    "print(lower_limit,upper_limit)\n",
    "X2 = weather\n",
    "X2['Pressure (millibars)'] = np.where(X2['Pressure (millibars)']>upper_limit,upper_limit,X2['Pressure (millibars)'])\n",
    "X2['Pressure (millibars)'] = np.where(X2['Pressure (millibars)'] <lower_limit,lower_limit,X2['Pressure (millibars)'])\n",
    "print(\"Shape After Removing Outliers:\", X2.shape)\n",
    "sns.boxplot(X2['Pressure (millibars)'],orient='v',ax=axes[1])\n",
    "axes[1].title.set_text(\"After\")\n",
    "plt.show()"
   ]
  },
  {
   "cell_type": "code",
   "execution_count": 20,
   "id": "e7a36ddd",
   "metadata": {},
   "outputs": [
    {
     "data": {
      "text/plain": [
       "22"
      ]
     },
     "execution_count": 20,
     "metadata": {},
     "output_type": "execute_result"
    }
   ],
   "source": [
    "weather[weather['Humidity'] == 0].shape[0]"
   ]
  },
  {
   "cell_type": "markdown",
   "id": "f1090221",
   "metadata": {},
   "source": [
    "Then we need to check outliers or anomalies in Humidity by plotting the box plot."
   ]
  },
  {
   "cell_type": "code",
   "execution_count": 21,
   "id": "e10ce4f9",
   "metadata": {},
   "outputs": [
    {
     "data": {
      "text/plain": [
       "<AxesSubplot:>"
      ]
     },
     "execution_count": 21,
     "metadata": {},
     "output_type": "execute_result"
    },
    {
     "data": {
      "image/png": "[encoded data removed]",
      "text/plain": [
       "<Figure size 432x288 with 1 Axes>"
      ]
     },
     "metadata": {
      "needs_background": "light"
     },
     "output_type": "display_data"
    }
   ],
   "source": [
    "humidity_df = pd.DataFrame(X2[\"Humidity\"])\n",
    "humidity_df.boxplot()"
   ]
  },
  {
   "cell_type": "markdown",
   "id": "eb65efa5",
   "metadata": {},
   "source": [
    "We can see there is 0.0 humidity. So we should check how many data values are 0.0."
   ]
  },
  {
   "cell_type": "code",
   "execution_count": 22,
   "id": "84667315",
   "metadata": {},
   "outputs": [
    {
     "data": {
      "text/plain": [
       "22"
      ]
     },
     "execution_count": 22,
     "metadata": {},
     "output_type": "execute_result"
    }
   ],
   "source": [
    "X2[X2['Humidity'] == 0].shape[0]\n"
   ]
  },
  {
   "cell_type": "markdown",
   "id": "4a694d7d",
   "metadata": {},
   "source": [
    "Given Earth’s climate and weather conditions, it’s impossible for humidity to be zero. And the number of data points with this anomaly is also very less so we can simply drop them."
   ]
  },
  {
   "cell_type": "code",
   "execution_count": 23,
   "id": "d41c9e6c",
   "metadata": {},
   "outputs": [],
   "source": [
    "X2 = X2.drop(X2[X2['Humidity'] == 0].index)\n"
   ]
  },
  {
   "cell_type": "markdown",
   "id": "c533e320",
   "metadata": {},
   "source": [
    "# dealing with skews in data\n",
    "a skew is when the values of a feature tend to be one side, which makes the data unbalanced.  "
   ]
  },
  {
   "cell_type": "code",
   "execution_count": 24,
   "id": "b12a7af0",
   "metadata": {},
   "outputs": [],
   "source": [
    "#weather_copy=weather"
   ]
  },
  {
   "cell_type": "code",
   "execution_count": 25,
   "id": "a8031d9c",
   "metadata": {
    "scrolled": false
   },
   "outputs": [
    {
     "name": "stdout",
     "output_type": "stream",
     "text": [
      "Temperature (C)             0.091797\n",
      "Apparent Temperature (C)   -0.059040\n",
      "Humidity                   -0.715026\n",
      "Wind Speed (km/h)           1.115995\n",
      "Wind Bearing (degrees)     -0.154793\n",
      "Visibility (km)            -0.492114\n",
      "Pressure (millibars)        0.012571\n",
      "dtype: float64\n"
     ]
    }
   ],
   "source": [
    "#Finding out the skew for each attribute\n",
    "skew=weather.skew()\n",
    "print(skew)"
   ]
  },
  {
   "cell_type": "markdown",
   "id": "d65a56dd",
   "metadata": {},
   "source": [
    "We can see that Humidity is left-skewed and Wind Speed is right-skewed. Visibility also shows some left-skewness but after applying transformations, it did not show a normal distribution. So we did not apply transformations for Visibility.\n",
    "For right-skewed data, we apply logarithmic transformations and for left-skewed data, we can apply exponential transformations."
   ]
  },
  {
   "cell_type": "markdown",
   "id": "dd1732a1",
   "metadata": {},
   "source": [
    "Here we have used np.log1p since Wind Speed has 0.0 values, and np.log is only for positive numbers."
   ]
  },
  {
   "cell_type": "code",
   "execution_count": 26,
   "id": "0a1e4511",
   "metadata": {},
   "outputs": [],
   "source": [
    "from sklearn import preprocessing\n",
    "from sklearn.decomposition import PCA\n",
    "from sklearn.preprocessing import StandardScaler\n",
    "from sklearn.preprocessing import KBinsDiscretizer\n",
    "from sklearn import linear_model\n",
    "from sklearn.preprocessing import FunctionTransformer"
   ]
  },
  {
   "cell_type": "code",
   "execution_count": 27,
   "id": "ccab8f56",
   "metadata": {
    "scrolled": true
   },
   "outputs": [
    {
     "name": "stdout",
     "output_type": "stream",
     "text": [
      "Histogram for Wind Speed after applying logarithm transformations\n"
     ]
    },
    {
     "data": {
      "image/png": "[encoded data removed]",
      "text/plain": [
       "<Figure size 432x288 with 1 Axes>"
      ]
     },
     "metadata": {
      "needs_background": "light"
     },
     "output_type": "display_data"
    }
   ],
   "source": [
    "logarithm_transformer = FunctionTransformer(np.log1p)\n",
    "data_new1 = logarithm_transformer.transform(weather['Wind Speed (km/h)'])\n",
    "weather['Wind Speed (km/h)']=data_new1\n",
    "weather['Wind Speed (km/h)'].hist()\n",
    "print(\"Histogram for Wind Speed after applying logarithm transformations\")"
   ]
  },
  {
   "cell_type": "code",
   "execution_count": 28,
   "id": "ecbf32f5",
   "metadata": {
    "scrolled": true
   },
   "outputs": [
    {
     "name": "stdout",
     "output_type": "stream",
     "text": [
      "Histogram for Humidity after applying exponential transformations\n"
     ]
    },
    {
     "data": {
      "image/png": "[encoded data removed]",
      "text/plain": [
       "<Figure size 432x288 with 1 Axes>"
      ]
     },
     "metadata": {
      "needs_background": "light"
     },
     "output_type": "display_data"
    }
   ],
   "source": [
    "exp_transformer = FunctionTransformer(np.exp)\n",
    "data_new2 = exp_transformer.transform(weather['Humidity'])\n",
    "weather['Humidity']=data_new2\n",
    "weather['Humidity'].hist()\n",
    "print(\"Histogram for Humidity after applying exponential transformations\")"
   ]
  },
  {
   "cell_type": "markdown",
   "id": "d632f84f",
   "metadata": {},
   "source": [
    "we will remove the skew of the most unbalanced features"
   ]
  },
  {
   "cell_type": "code",
   "execution_count": 29,
   "id": "324cb776",
   "metadata": {},
   "outputs": [
    {
     "name": "stdout",
     "output_type": "stream",
     "text": [
      "Temperature (C)             0.091797\n",
      "Apparent Temperature (C)   -0.059040\n",
      "Humidity                   -0.428884\n",
      "Wind Speed (km/h)          -0.799401\n",
      "Wind Bearing (degrees)     -0.154793\n",
      "Visibility (km)            -0.492114\n",
      "Pressure (millibars)        0.012571\n",
      "dtype: float64\n"
     ]
    }
   ],
   "source": [
    "#Finding out the skew for each attribute\n",
    "skew=weather.skew()\n",
    "print(skew)"
   ]
  },
  {
   "cell_type": "code",
   "execution_count": 30,
   "id": "2534eb3a",
   "metadata": {
    "scrolled": true
   },
   "outputs": [
    {
     "data": {
      "text/plain": [
       "array([[<AxesSubplot:title={'center':'Temperature (C)'}>,\n",
       "        <AxesSubplot:title={'center':'Apparent Temperature (C)'}>,\n",
       "        <AxesSubplot:title={'center':'Humidity'}>],\n",
       "       [<AxesSubplot:title={'center':'Wind Speed (km/h)'}>,\n",
       "        <AxesSubplot:title={'center':'Wind Bearing (degrees)'}>,\n",
       "        <AxesSubplot:title={'center':'Visibility (km)'}>],\n",
       "       [<AxesSubplot:title={'center':'Pressure (millibars)'}>,\n",
       "        <AxesSubplot:>, <AxesSubplot:>]], dtype=object)"
      ]
     },
     "execution_count": 30,
     "metadata": {},
     "output_type": "execute_result"
    },
    {
     "data": {
      "image/png": "[encoded data removed]",
      "text/plain": [
       "<Figure size 1080x720 with 9 Axes>"
      ]
     },
     "metadata": {
      "needs_background": "light"
     },
     "output_type": "display_data"
    }
   ],
   "source": [
    "weather.hist(figsize=(15,10))"
   ]
  },
  {
   "cell_type": "markdown",
   "id": "c6fc4e82",
   "metadata": {},
   "source": [
    "# checking the relations between humidity and pressure, according to information we've read"
   ]
  },
  {
   "cell_type": "markdown",
   "id": "f2defc91",
   "metadata": {},
   "source": [
    "As humidity increases pressure decreases"
   ]
  },
  {
   "cell_type": "markdown",
   "id": "b05e8ad4",
   "metadata": {},
   "source": [
    "There is a Linear Relation between “Apparent Temperature ” and “Humidity” with a negative slope. As air temperature increases, air can hold more water molecules, and its relative humidity decreases. When temperatures drop, relative humidity increases."
   ]
  },
  {
   "cell_type": "code",
   "execution_count": null,
   "id": "77b88b01",
   "metadata": {},
   "outputs": [],
   "source": [
    "# sns.pairplot(weather, kind='scatter')"
   ]
  },
  {
   "cell_type": "code",
   "execution_count": null,
   "id": "e5b68e43",
   "metadata": {},
   "outputs": [],
   "source": [
    "#weather.boxplot(figsize=(18,8))"
   ]
  },
  {
   "cell_type": "code",
   "execution_count": null,
   "id": "2046f6e0",
   "metadata": {},
   "outputs": [],
   "source": [
    "#weather['wind-visibility-ratio']=weather['Wind Speed (km/h)']/weather['Visibility (km)']"
   ]
  },
  {
   "cell_type": "code",
   "execution_count": null,
   "id": "965d0c36",
   "metadata": {},
   "outputs": [],
   "source": [
    "# atttibutes_hist = weather[[\"Temperature (C)\",\"month\",'Humidity']].hist(bins=50, figsize=(20,15))\n",
    "# atttibutes_hist"
   ]
  },
  {
   "cell_type": "code",
   "execution_count": null,
   "id": "7569efca",
   "metadata": {
    "scrolled": true
   },
   "outputs": [],
   "source": [
    "#sns.pairplot(weather, x_vars=['month'], y_vars='Apparent Temperature (C)', height=7, aspect=0.7, kind='reg')"
   ]
  },
  {
   "cell_type": "markdown",
   "id": "c52ba94e",
   "metadata": {},
   "source": [
    "conclusion: when humidity is low, pressure is high"
   ]
  },
  {
   "cell_type": "code",
   "execution_count": null,
   "id": "9bd38893",
   "metadata": {},
   "outputs": [],
   "source": [
    "# <!-- #### as we can see above, the Apparent Temperature  is higher in the months that are in the middle of the year.\n",
    "\n",
    "# ####  so, we can create a feature that checks if the month is in the middle of the year , or the beggining or the end - we will set the beggining of the middle to be the 5th month, and the end of the middle to be the 9th month\n",
    "\n",
    "# #### this feature will be called: \"middle of year\" and will have yes/no values.\n",
    "\n",
    "# #### this is a good idea to replace this feature with the \"month\" feature , since it's giving us a more intuitive relation with the Apparent Temperature, and it probably has a  stronger correlation to it. -->"
   ]
  },
  {
   "cell_type": "code",
   "execution_count": null,
   "id": "2caa95a9",
   "metadata": {},
   "outputs": [],
   "source": [
    "#weather['middle of year']=(weather['month']>5) & (weather['month']<9)"
   ]
  },
  {
   "cell_type": "code",
   "execution_count": null,
   "id": "4753891a",
   "metadata": {
    "scrolled": false
   },
   "outputs": [],
   "source": [
    "#sns.pairplot(weather, x_vars=['middle of year'], y_vars='Apparent Temperature (C)', height=7, aspect=0.7, kind='reg')"
   ]
  },
  {
   "cell_type": "markdown",
   "id": "ba4c758c",
   "metadata": {},
   "source": [
    "as we can see in the correlation below:"
   ]
  },
  {
   "cell_type": "code",
   "execution_count": 31,
   "id": "b4a290f7",
   "metadata": {
    "scrolled": false
   },
   "outputs": [
    {
     "data": {
      "text/plain": [
       "Apparent Temperature (C)    1.000000\n",
       "Temperature (C)             0.992637\n",
       "Visibility (km)             0.382589\n",
       "Wind Bearing (degrees)      0.028951\n",
       "Wind Speed (km/h)          -0.038266\n",
       "Pressure (millibars)       -0.273892\n",
       "Humidity                   -0.594489\n",
       "Name: Apparent Temperature (C), dtype: float64"
      ]
     },
     "execution_count": 31,
     "metadata": {},
     "output_type": "execute_result"
    }
   ],
   "source": [
    "corr_matrix = weather.corr()\n",
    "corr_matrix['Apparent Temperature (C)'].sort_values(ascending=False)"
   ]
  },
  {
   "cell_type": "markdown",
   "id": "235f90af",
   "metadata": {},
   "source": [
    "## 1.2 encoding catagorial data\n"
   ]
  },
  {
   "cell_type": "markdown",
   "id": "76feb8dc",
   "metadata": {},
   "source": [
    "One-Hot encoding:\n",
    "\n",
    "The basic strategy is to convert each category value into a new column and assign a 1 or 0 (True/False) value to the column. This has the benefit of not weighting a value improperly.\n",
    "\n",
    "There are many libraries out there that support one-hot encoding but the simplest one is using pandas' .get_dummies() method."
   ]
  },
  {
   "cell_type": "markdown",
   "id": "cbee9451",
   "metadata": {},
   "source": [
    "For linear models, One-hot Encoding is more suitable. If we apply Lable Encoding for such a situation, then the model will try to identify an order since the feature values are like 0,1,2,3, etc. But if it is a binary category we can use Label Encoding."
   ]
  },
  {
   "cell_type": "markdown",
   "id": "bf19594c",
   "metadata": {},
   "source": [
    "we need to encode Summary and Precip Type  to numeric columns"
   ]
  },
  {
   "cell_type": "code",
   "execution_count": 32,
   "id": "2cf33962",
   "metadata": {},
   "outputs": [],
   "source": [
    "# i will save the original dataFrame for a later use, for example , for the data visualization.\n",
    "weather_copy=weather.copy()"
   ]
  },
  {
   "cell_type": "code",
   "execution_count": 33,
   "id": "fac2c428",
   "metadata": {},
   "outputs": [
    {
     "data": {
      "text/html": [
       "<div>\n",
       "<style scoped>\n",
       "    .dataframe tbody tr th:only-of-type {\n",
       "        vertical-align: middle;\n",
       "    }\n",
       "\n",
       "    .dataframe tbody tr th {\n",
       "        vertical-align: top;\n",
       "    }\n",
       "\n",
       "    .dataframe thead th {\n",
       "        text-align: right;\n",
       "    }\n",
       "</style>\n",
       "<table border=\"1\" class=\"dataframe\">\n",
       "  <thead>\n",
       "    <tr style=\"text-align: right;\">\n",
       "      <th></th>\n",
       "      <th>Summary</th>\n",
       "      <th>Precip Type</th>\n",
       "      <th>Temperature (C)</th>\n",
       "      <th>Apparent Temperature (C)</th>\n",
       "      <th>Humidity</th>\n",
       "      <th>Wind Speed (km/h)</th>\n",
       "      <th>Wind Bearing (degrees)</th>\n",
       "      <th>Visibility (km)</th>\n",
       "      <th>Pressure (millibars)</th>\n",
       "    </tr>\n",
       "  </thead>\n",
       "  <tbody>\n",
       "    <tr>\n",
       "      <th>0</th>\n",
       "      <td>Partly Cloudy</td>\n",
       "      <td>rain</td>\n",
       "      <td>9.472222</td>\n",
       "      <td>7.388889</td>\n",
       "      <td>2.435130</td>\n",
       "      <td>2.715999</td>\n",
       "      <td>251.0</td>\n",
       "      <td>15.8263</td>\n",
       "      <td>1015.13</td>\n",
       "    </tr>\n",
       "    <tr>\n",
       "      <th>1</th>\n",
       "      <td>Partly Cloudy</td>\n",
       "      <td>rain</td>\n",
       "      <td>9.355556</td>\n",
       "      <td>7.227778</td>\n",
       "      <td>2.363161</td>\n",
       "      <td>2.725536</td>\n",
       "      <td>259.0</td>\n",
       "      <td>15.8263</td>\n",
       "      <td>1015.63</td>\n",
       "    </tr>\n",
       "    <tr>\n",
       "      <th>2</th>\n",
       "      <td>Mostly Cloudy</td>\n",
       "      <td>rain</td>\n",
       "      <td>9.377778</td>\n",
       "      <td>9.377778</td>\n",
       "      <td>2.435130</td>\n",
       "      <td>1.595014</td>\n",
       "      <td>204.0</td>\n",
       "      <td>14.9569</td>\n",
       "      <td>1015.94</td>\n",
       "    </tr>\n",
       "    <tr>\n",
       "      <th>3</th>\n",
       "      <td>Partly Cloudy</td>\n",
       "      <td>rain</td>\n",
       "      <td>8.288889</td>\n",
       "      <td>5.944444</td>\n",
       "      <td>2.293319</td>\n",
       "      <td>2.714933</td>\n",
       "      <td>269.0</td>\n",
       "      <td>15.8263</td>\n",
       "      <td>1016.41</td>\n",
       "    </tr>\n",
       "    <tr>\n",
       "      <th>4</th>\n",
       "      <td>Mostly Cloudy</td>\n",
       "      <td>rain</td>\n",
       "      <td>8.755556</td>\n",
       "      <td>6.977778</td>\n",
       "      <td>2.293319</td>\n",
       "      <td>2.488616</td>\n",
       "      <td>259.0</td>\n",
       "      <td>15.8263</td>\n",
       "      <td>1016.51</td>\n",
       "    </tr>\n",
       "    <tr>\n",
       "      <th>...</th>\n",
       "      <td>...</td>\n",
       "      <td>...</td>\n",
       "      <td>...</td>\n",
       "      <td>...</td>\n",
       "      <td>...</td>\n",
       "      <td>...</td>\n",
       "      <td>...</td>\n",
       "      <td>...</td>\n",
       "      <td>...</td>\n",
       "    </tr>\n",
       "    <tr>\n",
       "      <th>96448</th>\n",
       "      <td>Partly Cloudy</td>\n",
       "      <td>rain</td>\n",
       "      <td>26.016667</td>\n",
       "      <td>26.016667</td>\n",
       "      <td>1.537258</td>\n",
       "      <td>2.484598</td>\n",
       "      <td>31.0</td>\n",
       "      <td>16.1000</td>\n",
       "      <td>1014.36</td>\n",
       "    </tr>\n",
       "    <tr>\n",
       "      <th>96449</th>\n",
       "      <td>Partly Cloudy</td>\n",
       "      <td>rain</td>\n",
       "      <td>24.583333</td>\n",
       "      <td>24.583333</td>\n",
       "      <td>1.616074</td>\n",
       "      <td>2.406468</td>\n",
       "      <td>20.0</td>\n",
       "      <td>15.5526</td>\n",
       "      <td>1015.16</td>\n",
       "    </tr>\n",
       "    <tr>\n",
       "      <th>96450</th>\n",
       "      <td>Partly Cloudy</td>\n",
       "      <td>rain</td>\n",
       "      <td>22.038889</td>\n",
       "      <td>22.038889</td>\n",
       "      <td>1.750673</td>\n",
       "      <td>2.300964</td>\n",
       "      <td>30.0</td>\n",
       "      <td>16.1000</td>\n",
       "      <td>1015.66</td>\n",
       "    </tr>\n",
       "    <tr>\n",
       "      <th>96451</th>\n",
       "      <td>Partly Cloudy</td>\n",
       "      <td>rain</td>\n",
       "      <td>21.522222</td>\n",
       "      <td>21.522222</td>\n",
       "      <td>1.822119</td>\n",
       "      <td>2.444900</td>\n",
       "      <td>20.0</td>\n",
       "      <td>16.1000</td>\n",
       "      <td>1015.95</td>\n",
       "    </tr>\n",
       "    <tr>\n",
       "      <th>96452</th>\n",
       "      <td>Partly Cloudy</td>\n",
       "      <td>rain</td>\n",
       "      <td>20.438889</td>\n",
       "      <td>20.438889</td>\n",
       "      <td>1.840431</td>\n",
       "      <td>1.928110</td>\n",
       "      <td>39.0</td>\n",
       "      <td>15.5204</td>\n",
       "      <td>1016.16</td>\n",
       "    </tr>\n",
       "  </tbody>\n",
       "</table>\n",
       "<p>95936 rows × 9 columns</p>\n",
       "</div>"
      ],
      "text/plain": [
       "             Summary Precip Type  Temperature (C)  Apparent Temperature (C)  \\\n",
       "0      Partly Cloudy        rain         9.472222                  7.388889   \n",
       "1      Partly Cloudy        rain         9.355556                  7.227778   \n",
       "2      Mostly Cloudy        rain         9.377778                  9.377778   \n",
       "3      Partly Cloudy        rain         8.288889                  5.944444   \n",
       "4      Mostly Cloudy        rain         8.755556                  6.977778   \n",
       "...              ...         ...              ...                       ...   \n",
       "96448  Partly Cloudy        rain        26.016667                 26.016667   \n",
       "96449  Partly Cloudy        rain        24.583333                 24.583333   \n",
       "96450  Partly Cloudy        rain        22.038889                 22.038889   \n",
       "96451  Partly Cloudy        rain        21.522222                 21.522222   \n",
       "96452  Partly Cloudy        rain        20.438889                 20.438889   \n",
       "\n",
       "       Humidity  Wind Speed (km/h)  Wind Bearing (degrees)  Visibility (km)  \\\n",
       "0      2.435130           2.715999                   251.0          15.8263   \n",
       "1      2.363161           2.725536                   259.0          15.8263   \n",
       "2      2.435130           1.595014                   204.0          14.9569   \n",
       "3      2.293319           2.714933                   269.0          15.8263   \n",
       "4      2.293319           2.488616                   259.0          15.8263   \n",
       "...         ...                ...                     ...              ...   \n",
       "96448  1.537258           2.484598                    31.0          16.1000   \n",
       "96449  1.616074           2.406468                    20.0          15.5526   \n",
       "96450  1.750673           2.300964                    30.0          16.1000   \n",
       "96451  1.822119           2.444900                    20.0          16.1000   \n",
       "96452  1.840431           1.928110                    39.0          15.5204   \n",
       "\n",
       "       Pressure (millibars)  \n",
       "0                   1015.13  \n",
       "1                   1015.63  \n",
       "2                   1015.94  \n",
       "3                   1016.41  \n",
       "4                   1016.51  \n",
       "...                     ...  \n",
       "96448               1014.36  \n",
       "96449               1015.16  \n",
       "96450               1015.66  \n",
       "96451               1015.95  \n",
       "96452               1016.16  \n",
       "\n",
       "[95936 rows x 9 columns]"
      ]
     },
     "execution_count": 33,
     "metadata": {},
     "output_type": "execute_result"
    }
   ],
   "source": [
    "weather_copy"
   ]
  },
  {
   "cell_type": "code",
   "execution_count": 34,
   "id": "54e76a61",
   "metadata": {},
   "outputs": [
    {
     "data": {
      "text/plain": [
       "array(['rain', 'snow'], dtype=object)"
      ]
     },
     "execution_count": 34,
     "metadata": {},
     "output_type": "execute_result"
    }
   ],
   "source": [
    "weather['Precip Type'].unique()"
   ]
  },
  {
   "cell_type": "code",
   "execution_count": 35,
   "id": "729f3f04",
   "metadata": {},
   "outputs": [
    {
     "name": "stdout",
     "output_type": "stream",
     "text": [
      "rain    85224\n",
      "snow    10712\n",
      "Name: Precip Type, dtype: int64\n"
     ]
    }
   ],
   "source": [
    "# or \n",
    "print(weather['Precip Type'].value_counts())"
   ]
  },
  {
   "cell_type": "markdown",
   "id": "ebe377e1",
   "metadata": {},
   "source": [
    "converting Precip Type to a category dtype:"
   ]
  },
  {
   "cell_type": "code",
   "execution_count": 36,
   "id": "01629d07",
   "metadata": {},
   "outputs": [],
   "source": [
    "weather['Precip Type']=weather['Precip Type'].astype('category')\n",
    "weather['Precip Type']=weather['Precip Type'].cat.codes"
   ]
  },
  {
   "cell_type": "markdown",
   "id": "01ea0a3e",
   "metadata": {},
   "source": [
    "So we need to do One-hot Encoding for the Summary column. pd.get_dummies will make new feature columns according to each category and then we need to merge new feature columns and drop the Summary column as shown in the below code."
   ]
  },
  {
   "cell_type": "code",
   "execution_count": 37,
   "id": "f2a6874a",
   "metadata": {
    "scrolled": true
   },
   "outputs": [
    {
     "data": {
      "text/html": [
       "<div>\n",
       "<style scoped>\n",
       "    .dataframe tbody tr th:only-of-type {\n",
       "        vertical-align: middle;\n",
       "    }\n",
       "\n",
       "    .dataframe tbody tr th {\n",
       "        vertical-align: top;\n",
       "    }\n",
       "\n",
       "    .dataframe thead th {\n",
       "        text-align: right;\n",
       "    }\n",
       "</style>\n",
       "<table border=\"1\" class=\"dataframe\">\n",
       "  <thead>\n",
       "    <tr style=\"text-align: right;\">\n",
       "      <th></th>\n",
       "      <th>Precip Type</th>\n",
       "      <th>Temperature (C)</th>\n",
       "      <th>Apparent Temperature (C)</th>\n",
       "      <th>Humidity</th>\n",
       "      <th>Wind Speed (km/h)</th>\n",
       "      <th>Wind Bearing (degrees)</th>\n",
       "      <th>Visibility (km)</th>\n",
       "      <th>Pressure (millibars)</th>\n",
       "      <th>Breezy</th>\n",
       "      <th>Breezy and Dry</th>\n",
       "      <th>...</th>\n",
       "      <th>Mostly Cloudy</th>\n",
       "      <th>Overcast</th>\n",
       "      <th>Partly Cloudy</th>\n",
       "      <th>Rain</th>\n",
       "      <th>Windy</th>\n",
       "      <th>Windy and Dry</th>\n",
       "      <th>Windy and Foggy</th>\n",
       "      <th>Windy and Mostly Cloudy</th>\n",
       "      <th>Windy and Overcast</th>\n",
       "      <th>Windy and Partly Cloudy</th>\n",
       "    </tr>\n",
       "  </thead>\n",
       "  <tbody>\n",
       "    <tr>\n",
       "      <th>0</th>\n",
       "      <td>0</td>\n",
       "      <td>9.472222</td>\n",
       "      <td>7.388889</td>\n",
       "      <td>2.435130</td>\n",
       "      <td>2.715999</td>\n",
       "      <td>251.0</td>\n",
       "      <td>15.8263</td>\n",
       "      <td>1015.13</td>\n",
       "      <td>0</td>\n",
       "      <td>0</td>\n",
       "      <td>...</td>\n",
       "      <td>0</td>\n",
       "      <td>0</td>\n",
       "      <td>1</td>\n",
       "      <td>0</td>\n",
       "      <td>0</td>\n",
       "      <td>0</td>\n",
       "      <td>0</td>\n",
       "      <td>0</td>\n",
       "      <td>0</td>\n",
       "      <td>0</td>\n",
       "    </tr>\n",
       "    <tr>\n",
       "      <th>1</th>\n",
       "      <td>0</td>\n",
       "      <td>9.355556</td>\n",
       "      <td>7.227778</td>\n",
       "      <td>2.363161</td>\n",
       "      <td>2.725536</td>\n",
       "      <td>259.0</td>\n",
       "      <td>15.8263</td>\n",
       "      <td>1015.63</td>\n",
       "      <td>0</td>\n",
       "      <td>0</td>\n",
       "      <td>...</td>\n",
       "      <td>0</td>\n",
       "      <td>0</td>\n",
       "      <td>1</td>\n",
       "      <td>0</td>\n",
       "      <td>0</td>\n",
       "      <td>0</td>\n",
       "      <td>0</td>\n",
       "      <td>0</td>\n",
       "      <td>0</td>\n",
       "      <td>0</td>\n",
       "    </tr>\n",
       "    <tr>\n",
       "      <th>2</th>\n",
       "      <td>0</td>\n",
       "      <td>9.377778</td>\n",
       "      <td>9.377778</td>\n",
       "      <td>2.435130</td>\n",
       "      <td>1.595014</td>\n",
       "      <td>204.0</td>\n",
       "      <td>14.9569</td>\n",
       "      <td>1015.94</td>\n",
       "      <td>0</td>\n",
       "      <td>0</td>\n",
       "      <td>...</td>\n",
       "      <td>1</td>\n",
       "      <td>0</td>\n",
       "      <td>0</td>\n",
       "      <td>0</td>\n",
       "      <td>0</td>\n",
       "      <td>0</td>\n",
       "      <td>0</td>\n",
       "      <td>0</td>\n",
       "      <td>0</td>\n",
       "      <td>0</td>\n",
       "    </tr>\n",
       "    <tr>\n",
       "      <th>3</th>\n",
       "      <td>0</td>\n",
       "      <td>8.288889</td>\n",
       "      <td>5.944444</td>\n",
       "      <td>2.293319</td>\n",
       "      <td>2.714933</td>\n",
       "      <td>269.0</td>\n",
       "      <td>15.8263</td>\n",
       "      <td>1016.41</td>\n",
       "      <td>0</td>\n",
       "      <td>0</td>\n",
       "      <td>...</td>\n",
       "      <td>0</td>\n",
       "      <td>0</td>\n",
       "      <td>1</td>\n",
       "      <td>0</td>\n",
       "      <td>0</td>\n",
       "      <td>0</td>\n",
       "      <td>0</td>\n",
       "      <td>0</td>\n",
       "      <td>0</td>\n",
       "      <td>0</td>\n",
       "    </tr>\n",
       "    <tr>\n",
       "      <th>4</th>\n",
       "      <td>0</td>\n",
       "      <td>8.755556</td>\n",
       "      <td>6.977778</td>\n",
       "      <td>2.293319</td>\n",
       "      <td>2.488616</td>\n",
       "      <td>259.0</td>\n",
       "      <td>15.8263</td>\n",
       "      <td>1016.51</td>\n",
       "      <td>0</td>\n",
       "      <td>0</td>\n",
       "      <td>...</td>\n",
       "      <td>1</td>\n",
       "      <td>0</td>\n",
       "      <td>0</td>\n",
       "      <td>0</td>\n",
       "      <td>0</td>\n",
       "      <td>0</td>\n",
       "      <td>0</td>\n",
       "      <td>0</td>\n",
       "      <td>0</td>\n",
       "      <td>0</td>\n",
       "    </tr>\n",
       "    <tr>\n",
       "      <th>...</th>\n",
       "      <td>...</td>\n",
       "      <td>...</td>\n",
       "      <td>...</td>\n",
       "      <td>...</td>\n",
       "      <td>...</td>\n",
       "      <td>...</td>\n",
       "      <td>...</td>\n",
       "      <td>...</td>\n",
       "      <td>...</td>\n",
       "      <td>...</td>\n",
       "      <td>...</td>\n",
       "      <td>...</td>\n",
       "      <td>...</td>\n",
       "      <td>...</td>\n",
       "      <td>...</td>\n",
       "      <td>...</td>\n",
       "      <td>...</td>\n",
       "      <td>...</td>\n",
       "      <td>...</td>\n",
       "      <td>...</td>\n",
       "      <td>...</td>\n",
       "    </tr>\n",
       "    <tr>\n",
       "      <th>96448</th>\n",
       "      <td>0</td>\n",
       "      <td>26.016667</td>\n",
       "      <td>26.016667</td>\n",
       "      <td>1.537258</td>\n",
       "      <td>2.484598</td>\n",
       "      <td>31.0</td>\n",
       "      <td>16.1000</td>\n",
       "      <td>1014.36</td>\n",
       "      <td>0</td>\n",
       "      <td>0</td>\n",
       "      <td>...</td>\n",
       "      <td>0</td>\n",
       "      <td>0</td>\n",
       "      <td>1</td>\n",
       "      <td>0</td>\n",
       "      <td>0</td>\n",
       "      <td>0</td>\n",
       "      <td>0</td>\n",
       "      <td>0</td>\n",
       "      <td>0</td>\n",
       "      <td>0</td>\n",
       "    </tr>\n",
       "    <tr>\n",
       "      <th>96449</th>\n",
       "      <td>0</td>\n",
       "      <td>24.583333</td>\n",
       "      <td>24.583333</td>\n",
       "      <td>1.616074</td>\n",
       "      <td>2.406468</td>\n",
       "      <td>20.0</td>\n",
       "      <td>15.5526</td>\n",
       "      <td>1015.16</td>\n",
       "      <td>0</td>\n",
       "      <td>0</td>\n",
       "      <td>...</td>\n",
       "      <td>0</td>\n",
       "      <td>0</td>\n",
       "      <td>1</td>\n",
       "      <td>0</td>\n",
       "      <td>0</td>\n",
       "      <td>0</td>\n",
       "      <td>0</td>\n",
       "      <td>0</td>\n",
       "      <td>0</td>\n",
       "      <td>0</td>\n",
       "    </tr>\n",
       "    <tr>\n",
       "      <th>96450</th>\n",
       "      <td>0</td>\n",
       "      <td>22.038889</td>\n",
       "      <td>22.038889</td>\n",
       "      <td>1.750673</td>\n",
       "      <td>2.300964</td>\n",
       "      <td>30.0</td>\n",
       "      <td>16.1000</td>\n",
       "      <td>1015.66</td>\n",
       "      <td>0</td>\n",
       "      <td>0</td>\n",
       "      <td>...</td>\n",
       "      <td>0</td>\n",
       "      <td>0</td>\n",
       "      <td>1</td>\n",
       "      <td>0</td>\n",
       "      <td>0</td>\n",
       "      <td>0</td>\n",
       "      <td>0</td>\n",
       "      <td>0</td>\n",
       "      <td>0</td>\n",
       "      <td>0</td>\n",
       "    </tr>\n",
       "    <tr>\n",
       "      <th>96451</th>\n",
       "      <td>0</td>\n",
       "      <td>21.522222</td>\n",
       "      <td>21.522222</td>\n",
       "      <td>1.822119</td>\n",
       "      <td>2.444900</td>\n",
       "      <td>20.0</td>\n",
       "      <td>16.1000</td>\n",
       "      <td>1015.95</td>\n",
       "      <td>0</td>\n",
       "      <td>0</td>\n",
       "      <td>...</td>\n",
       "      <td>0</td>\n",
       "      <td>0</td>\n",
       "      <td>1</td>\n",
       "      <td>0</td>\n",
       "      <td>0</td>\n",
       "      <td>0</td>\n",
       "      <td>0</td>\n",
       "      <td>0</td>\n",
       "      <td>0</td>\n",
       "      <td>0</td>\n",
       "    </tr>\n",
       "    <tr>\n",
       "      <th>96452</th>\n",
       "      <td>0</td>\n",
       "      <td>20.438889</td>\n",
       "      <td>20.438889</td>\n",
       "      <td>1.840431</td>\n",
       "      <td>1.928110</td>\n",
       "      <td>39.0</td>\n",
       "      <td>15.5204</td>\n",
       "      <td>1016.16</td>\n",
       "      <td>0</td>\n",
       "      <td>0</td>\n",
       "      <td>...</td>\n",
       "      <td>0</td>\n",
       "      <td>0</td>\n",
       "      <td>1</td>\n",
       "      <td>0</td>\n",
       "      <td>0</td>\n",
       "      <td>0</td>\n",
       "      <td>0</td>\n",
       "      <td>0</td>\n",
       "      <td>0</td>\n",
       "      <td>0</td>\n",
       "    </tr>\n",
       "  </tbody>\n",
       "</table>\n",
       "<p>95936 rows × 35 columns</p>\n",
       "</div>"
      ],
      "text/plain": [
       "       Precip Type  Temperature (C)  Apparent Temperature (C)  Humidity  \\\n",
       "0                0         9.472222                  7.388889  2.435130   \n",
       "1                0         9.355556                  7.227778  2.363161   \n",
       "2                0         9.377778                  9.377778  2.435130   \n",
       "3                0         8.288889                  5.944444  2.293319   \n",
       "4                0         8.755556                  6.977778  2.293319   \n",
       "...            ...              ...                       ...       ...   \n",
       "96448            0        26.016667                 26.016667  1.537258   \n",
       "96449            0        24.583333                 24.583333  1.616074   \n",
       "96450            0        22.038889                 22.038889  1.750673   \n",
       "96451            0        21.522222                 21.522222  1.822119   \n",
       "96452            0        20.438889                 20.438889  1.840431   \n",
       "\n",
       "       Wind Speed (km/h)  Wind Bearing (degrees)  Visibility (km)  \\\n",
       "0               2.715999                   251.0          15.8263   \n",
       "1               2.725536                   259.0          15.8263   \n",
       "2               1.595014                   204.0          14.9569   \n",
       "3               2.714933                   269.0          15.8263   \n",
       "4               2.488616                   259.0          15.8263   \n",
       "...                  ...                     ...              ...   \n",
       "96448           2.484598                    31.0          16.1000   \n",
       "96449           2.406468                    20.0          15.5526   \n",
       "96450           2.300964                    30.0          16.1000   \n",
       "96451           2.444900                    20.0          16.1000   \n",
       "96452           1.928110                    39.0          15.5204   \n",
       "\n",
       "       Pressure (millibars)  Breezy  Breezy and Dry  ...  Mostly Cloudy  \\\n",
       "0                   1015.13       0               0  ...              0   \n",
       "1                   1015.63       0               0  ...              0   \n",
       "2                   1015.94       0               0  ...              1   \n",
       "3                   1016.41       0               0  ...              0   \n",
       "4                   1016.51       0               0  ...              1   \n",
       "...                     ...     ...             ...  ...            ...   \n",
       "96448               1014.36       0               0  ...              0   \n",
       "96449               1015.16       0               0  ...              0   \n",
       "96450               1015.66       0               0  ...              0   \n",
       "96451               1015.95       0               0  ...              0   \n",
       "96452               1016.16       0               0  ...              0   \n",
       "\n",
       "       Overcast  Partly Cloudy  Rain  Windy  Windy and Dry  Windy and Foggy  \\\n",
       "0             0              1     0      0              0                0   \n",
       "1             0              1     0      0              0                0   \n",
       "2             0              0     0      0              0                0   \n",
       "3             0              1     0      0              0                0   \n",
       "4             0              0     0      0              0                0   \n",
       "...         ...            ...   ...    ...            ...              ...   \n",
       "96448         0              1     0      0              0                0   \n",
       "96449         0              1     0      0              0                0   \n",
       "96450         0              1     0      0              0                0   \n",
       "96451         0              1     0      0              0                0   \n",
       "96452         0              1     0      0              0                0   \n",
       "\n",
       "       Windy and Mostly Cloudy  Windy and Overcast  Windy and Partly Cloudy  \n",
       "0                            0                   0                        0  \n",
       "1                            0                   0                        0  \n",
       "2                            0                   0                        0  \n",
       "3                            0                   0                        0  \n",
       "4                            0                   0                        0  \n",
       "...                        ...                 ...                      ...  \n",
       "96448                        0                   0                        0  \n",
       "96449                        0                   0                        0  \n",
       "96450                        0                   0                        0  \n",
       "96451                        0                   0                        0  \n",
       "96452                        0                   0                        0  \n",
       "\n",
       "[95936 rows x 35 columns]"
      ]
     },
     "execution_count": 37,
     "metadata": {},
     "output_type": "execute_result"
    }
   ],
   "source": [
    "dummies_summary = pd.get_dummies(weather['Summary'])\n",
    "merged_summary = pd.concat([weather,dummies_summary],axis='columns')\n",
    "weather = merged_summary.drop(['Summary'], axis='columns')\n",
    "weather"
   ]
  },
  {
   "cell_type": "markdown",
   "id": "dc5cb65b",
   "metadata": {},
   "source": [
    "<!-- If a categorical column has just two categories (it's called a binary category), then we can replace their values with 0 and 1. and because the 'Precip Type' column has only 2 catagoreis: -->"
   ]
  },
  {
   "cell_type": "code",
   "execution_count": 38,
   "id": "7743cc9d",
   "metadata": {},
   "outputs": [],
   "source": [
    "# precip_types = {'rain':0,'snow':1}\n",
    "# weather['precip_type']= weather['Precip Type'].map(precip_types)"
   ]
  },
  {
   "cell_type": "code",
   "execution_count": 39,
   "id": "d0c9d581",
   "metadata": {},
   "outputs": [
    {
     "data": {
      "text/plain": [
       "0        0\n",
       "1        0\n",
       "2        0\n",
       "3        0\n",
       "4        0\n",
       "        ..\n",
       "96448    0\n",
       "96449    0\n",
       "96450    0\n",
       "96451    0\n",
       "96452    0\n",
       "Name: Precip Type, Length: 95936, dtype: int8"
      ]
     },
     "execution_count": 39,
     "metadata": {},
     "output_type": "execute_result"
    }
   ],
   "source": [
    "weather['Precip Type']"
   ]
  },
  {
   "cell_type": "code",
   "execution_count": 40,
   "id": "ec4c8dab",
   "metadata": {},
   "outputs": [
    {
     "data": {
      "text/html": [
       "<div>\n",
       "<style scoped>\n",
       "    .dataframe tbody tr th:only-of-type {\n",
       "        vertical-align: middle;\n",
       "    }\n",
       "\n",
       "    .dataframe tbody tr th {\n",
       "        vertical-align: top;\n",
       "    }\n",
       "\n",
       "    .dataframe thead th {\n",
       "        text-align: right;\n",
       "    }\n",
       "</style>\n",
       "<table border=\"1\" class=\"dataframe\">\n",
       "  <thead>\n",
       "    <tr style=\"text-align: right;\">\n",
       "      <th></th>\n",
       "      <th>Precip Type</th>\n",
       "      <th>Temperature (C)</th>\n",
       "      <th>Apparent Temperature (C)</th>\n",
       "      <th>Humidity</th>\n",
       "      <th>Wind Speed (km/h)</th>\n",
       "      <th>Wind Bearing (degrees)</th>\n",
       "      <th>Visibility (km)</th>\n",
       "      <th>Pressure (millibars)</th>\n",
       "      <th>Breezy</th>\n",
       "      <th>Breezy and Dry</th>\n",
       "      <th>...</th>\n",
       "      <th>Mostly Cloudy</th>\n",
       "      <th>Overcast</th>\n",
       "      <th>Partly Cloudy</th>\n",
       "      <th>Rain</th>\n",
       "      <th>Windy</th>\n",
       "      <th>Windy and Dry</th>\n",
       "      <th>Windy and Foggy</th>\n",
       "      <th>Windy and Mostly Cloudy</th>\n",
       "      <th>Windy and Overcast</th>\n",
       "      <th>Windy and Partly Cloudy</th>\n",
       "    </tr>\n",
       "  </thead>\n",
       "  <tbody>\n",
       "    <tr>\n",
       "      <th>0</th>\n",
       "      <td>0</td>\n",
       "      <td>9.472222</td>\n",
       "      <td>7.388889</td>\n",
       "      <td>2.435130</td>\n",
       "      <td>2.715999</td>\n",
       "      <td>251.0</td>\n",
       "      <td>15.8263</td>\n",
       "      <td>1015.13</td>\n",
       "      <td>0</td>\n",
       "      <td>0</td>\n",
       "      <td>...</td>\n",
       "      <td>0</td>\n",
       "      <td>0</td>\n",
       "      <td>1</td>\n",
       "      <td>0</td>\n",
       "      <td>0</td>\n",
       "      <td>0</td>\n",
       "      <td>0</td>\n",
       "      <td>0</td>\n",
       "      <td>0</td>\n",
       "      <td>0</td>\n",
       "    </tr>\n",
       "    <tr>\n",
       "      <th>1</th>\n",
       "      <td>0</td>\n",
       "      <td>9.355556</td>\n",
       "      <td>7.227778</td>\n",
       "      <td>2.363161</td>\n",
       "      <td>2.725536</td>\n",
       "      <td>259.0</td>\n",
       "      <td>15.8263</td>\n",
       "      <td>1015.63</td>\n",
       "      <td>0</td>\n",
       "      <td>0</td>\n",
       "      <td>...</td>\n",
       "      <td>0</td>\n",
       "      <td>0</td>\n",
       "      <td>1</td>\n",
       "      <td>0</td>\n",
       "      <td>0</td>\n",
       "      <td>0</td>\n",
       "      <td>0</td>\n",
       "      <td>0</td>\n",
       "      <td>0</td>\n",
       "      <td>0</td>\n",
       "    </tr>\n",
       "    <tr>\n",
       "      <th>2</th>\n",
       "      <td>0</td>\n",
       "      <td>9.377778</td>\n",
       "      <td>9.377778</td>\n",
       "      <td>2.435130</td>\n",
       "      <td>1.595014</td>\n",
       "      <td>204.0</td>\n",
       "      <td>14.9569</td>\n",
       "      <td>1015.94</td>\n",
       "      <td>0</td>\n",
       "      <td>0</td>\n",
       "      <td>...</td>\n",
       "      <td>1</td>\n",
       "      <td>0</td>\n",
       "      <td>0</td>\n",
       "      <td>0</td>\n",
       "      <td>0</td>\n",
       "      <td>0</td>\n",
       "      <td>0</td>\n",
       "      <td>0</td>\n",
       "      <td>0</td>\n",
       "      <td>0</td>\n",
       "    </tr>\n",
       "    <tr>\n",
       "      <th>3</th>\n",
       "      <td>0</td>\n",
       "      <td>8.288889</td>\n",
       "      <td>5.944444</td>\n",
       "      <td>2.293319</td>\n",
       "      <td>2.714933</td>\n",
       "      <td>269.0</td>\n",
       "      <td>15.8263</td>\n",
       "      <td>1016.41</td>\n",
       "      <td>0</td>\n",
       "      <td>0</td>\n",
       "      <td>...</td>\n",
       "      <td>0</td>\n",
       "      <td>0</td>\n",
       "      <td>1</td>\n",
       "      <td>0</td>\n",
       "      <td>0</td>\n",
       "      <td>0</td>\n",
       "      <td>0</td>\n",
       "      <td>0</td>\n",
       "      <td>0</td>\n",
       "      <td>0</td>\n",
       "    </tr>\n",
       "    <tr>\n",
       "      <th>4</th>\n",
       "      <td>0</td>\n",
       "      <td>8.755556</td>\n",
       "      <td>6.977778</td>\n",
       "      <td>2.293319</td>\n",
       "      <td>2.488616</td>\n",
       "      <td>259.0</td>\n",
       "      <td>15.8263</td>\n",
       "      <td>1016.51</td>\n",
       "      <td>0</td>\n",
       "      <td>0</td>\n",
       "      <td>...</td>\n",
       "      <td>1</td>\n",
       "      <td>0</td>\n",
       "      <td>0</td>\n",
       "      <td>0</td>\n",
       "      <td>0</td>\n",
       "      <td>0</td>\n",
       "      <td>0</td>\n",
       "      <td>0</td>\n",
       "      <td>0</td>\n",
       "      <td>0</td>\n",
       "    </tr>\n",
       "    <tr>\n",
       "      <th>...</th>\n",
       "      <td>...</td>\n",
       "      <td>...</td>\n",
       "      <td>...</td>\n",
       "      <td>...</td>\n",
       "      <td>...</td>\n",
       "      <td>...</td>\n",
       "      <td>...</td>\n",
       "      <td>...</td>\n",
       "      <td>...</td>\n",
       "      <td>...</td>\n",
       "      <td>...</td>\n",
       "      <td>...</td>\n",
       "      <td>...</td>\n",
       "      <td>...</td>\n",
       "      <td>...</td>\n",
       "      <td>...</td>\n",
       "      <td>...</td>\n",
       "      <td>...</td>\n",
       "      <td>...</td>\n",
       "      <td>...</td>\n",
       "      <td>...</td>\n",
       "    </tr>\n",
       "    <tr>\n",
       "      <th>96448</th>\n",
       "      <td>0</td>\n",
       "      <td>26.016667</td>\n",
       "      <td>26.016667</td>\n",
       "      <td>1.537258</td>\n",
       "      <td>2.484598</td>\n",
       "      <td>31.0</td>\n",
       "      <td>16.1000</td>\n",
       "      <td>1014.36</td>\n",
       "      <td>0</td>\n",
       "      <td>0</td>\n",
       "      <td>...</td>\n",
       "      <td>0</td>\n",
       "      <td>0</td>\n",
       "      <td>1</td>\n",
       "      <td>0</td>\n",
       "      <td>0</td>\n",
       "      <td>0</td>\n",
       "      <td>0</td>\n",
       "      <td>0</td>\n",
       "      <td>0</td>\n",
       "      <td>0</td>\n",
       "    </tr>\n",
       "    <tr>\n",
       "      <th>96449</th>\n",
       "      <td>0</td>\n",
       "      <td>24.583333</td>\n",
       "      <td>24.583333</td>\n",
       "      <td>1.616074</td>\n",
       "      <td>2.406468</td>\n",
       "      <td>20.0</td>\n",
       "      <td>15.5526</td>\n",
       "      <td>1015.16</td>\n",
       "      <td>0</td>\n",
       "      <td>0</td>\n",
       "      <td>...</td>\n",
       "      <td>0</td>\n",
       "      <td>0</td>\n",
       "      <td>1</td>\n",
       "      <td>0</td>\n",
       "      <td>0</td>\n",
       "      <td>0</td>\n",
       "      <td>0</td>\n",
       "      <td>0</td>\n",
       "      <td>0</td>\n",
       "      <td>0</td>\n",
       "    </tr>\n",
       "    <tr>\n",
       "      <th>96450</th>\n",
       "      <td>0</td>\n",
       "      <td>22.038889</td>\n",
       "      <td>22.038889</td>\n",
       "      <td>1.750673</td>\n",
       "      <td>2.300964</td>\n",
       "      <td>30.0</td>\n",
       "      <td>16.1000</td>\n",
       "      <td>1015.66</td>\n",
       "      <td>0</td>\n",
       "      <td>0</td>\n",
       "      <td>...</td>\n",
       "      <td>0</td>\n",
       "      <td>0</td>\n",
       "      <td>1</td>\n",
       "      <td>0</td>\n",
       "      <td>0</td>\n",
       "      <td>0</td>\n",
       "      <td>0</td>\n",
       "      <td>0</td>\n",
       "      <td>0</td>\n",
       "      <td>0</td>\n",
       "    </tr>\n",
       "    <tr>\n",
       "      <th>96451</th>\n",
       "      <td>0</td>\n",
       "      <td>21.522222</td>\n",
       "      <td>21.522222</td>\n",
       "      <td>1.822119</td>\n",
       "      <td>2.444900</td>\n",
       "      <td>20.0</td>\n",
       "      <td>16.1000</td>\n",
       "      <td>1015.95</td>\n",
       "      <td>0</td>\n",
       "      <td>0</td>\n",
       "      <td>...</td>\n",
       "      <td>0</td>\n",
       "      <td>0</td>\n",
       "      <td>1</td>\n",
       "      <td>0</td>\n",
       "      <td>0</td>\n",
       "      <td>0</td>\n",
       "      <td>0</td>\n",
       "      <td>0</td>\n",
       "      <td>0</td>\n",
       "      <td>0</td>\n",
       "    </tr>\n",
       "    <tr>\n",
       "      <th>96452</th>\n",
       "      <td>0</td>\n",
       "      <td>20.438889</td>\n",
       "      <td>20.438889</td>\n",
       "      <td>1.840431</td>\n",
       "      <td>1.928110</td>\n",
       "      <td>39.0</td>\n",
       "      <td>15.5204</td>\n",
       "      <td>1016.16</td>\n",
       "      <td>0</td>\n",
       "      <td>0</td>\n",
       "      <td>...</td>\n",
       "      <td>0</td>\n",
       "      <td>0</td>\n",
       "      <td>1</td>\n",
       "      <td>0</td>\n",
       "      <td>0</td>\n",
       "      <td>0</td>\n",
       "      <td>0</td>\n",
       "      <td>0</td>\n",
       "      <td>0</td>\n",
       "      <td>0</td>\n",
       "    </tr>\n",
       "  </tbody>\n",
       "</table>\n",
       "<p>95936 rows × 35 columns</p>\n",
       "</div>"
      ],
      "text/plain": [
       "       Precip Type  Temperature (C)  Apparent Temperature (C)  Humidity  \\\n",
       "0                0         9.472222                  7.388889  2.435130   \n",
       "1                0         9.355556                  7.227778  2.363161   \n",
       "2                0         9.377778                  9.377778  2.435130   \n",
       "3                0         8.288889                  5.944444  2.293319   \n",
       "4                0         8.755556                  6.977778  2.293319   \n",
       "...            ...              ...                       ...       ...   \n",
       "96448            0        26.016667                 26.016667  1.537258   \n",
       "96449            0        24.583333                 24.583333  1.616074   \n",
       "96450            0        22.038889                 22.038889  1.750673   \n",
       "96451            0        21.522222                 21.522222  1.822119   \n",
       "96452            0        20.438889                 20.438889  1.840431   \n",
       "\n",
       "       Wind Speed (km/h)  Wind Bearing (degrees)  Visibility (km)  \\\n",
       "0               2.715999                   251.0          15.8263   \n",
       "1               2.725536                   259.0          15.8263   \n",
       "2               1.595014                   204.0          14.9569   \n",
       "3               2.714933                   269.0          15.8263   \n",
       "4               2.488616                   259.0          15.8263   \n",
       "...                  ...                     ...              ...   \n",
       "96448           2.484598                    31.0          16.1000   \n",
       "96449           2.406468                    20.0          15.5526   \n",
       "96450           2.300964                    30.0          16.1000   \n",
       "96451           2.444900                    20.0          16.1000   \n",
       "96452           1.928110                    39.0          15.5204   \n",
       "\n",
       "       Pressure (millibars)  Breezy  Breezy and Dry  ...  Mostly Cloudy  \\\n",
       "0                   1015.13       0               0  ...              0   \n",
       "1                   1015.63       0               0  ...              0   \n",
       "2                   1015.94       0               0  ...              1   \n",
       "3                   1016.41       0               0  ...              0   \n",
       "4                   1016.51       0               0  ...              1   \n",
       "...                     ...     ...             ...  ...            ...   \n",
       "96448               1014.36       0               0  ...              0   \n",
       "96449               1015.16       0               0  ...              0   \n",
       "96450               1015.66       0               0  ...              0   \n",
       "96451               1015.95       0               0  ...              0   \n",
       "96452               1016.16       0               0  ...              0   \n",
       "\n",
       "       Overcast  Partly Cloudy  Rain  Windy  Windy and Dry  Windy and Foggy  \\\n",
       "0             0              1     0      0              0                0   \n",
       "1             0              1     0      0              0                0   \n",
       "2             0              0     0      0              0                0   \n",
       "3             0              1     0      0              0                0   \n",
       "4             0              0     0      0              0                0   \n",
       "...         ...            ...   ...    ...            ...              ...   \n",
       "96448         0              1     0      0              0                0   \n",
       "96449         0              1     0      0              0                0   \n",
       "96450         0              1     0      0              0                0   \n",
       "96451         0              1     0      0              0                0   \n",
       "96452         0              1     0      0              0                0   \n",
       "\n",
       "       Windy and Mostly Cloudy  Windy and Overcast  Windy and Partly Cloudy  \n",
       "0                            0                   0                        0  \n",
       "1                            0                   0                        0  \n",
       "2                            0                   0                        0  \n",
       "3                            0                   0                        0  \n",
       "4                            0                   0                        0  \n",
       "...                        ...                 ...                      ...  \n",
       "96448                        0                   0                        0  \n",
       "96449                        0                   0                        0  \n",
       "96450                        0                   0                        0  \n",
       "96451                        0                   0                        0  \n",
       "96452                        0                   0                        0  \n",
       "\n",
       "[95936 rows x 35 columns]"
      ]
     },
     "execution_count": 40,
     "metadata": {},
     "output_type": "execute_result"
    }
   ],
   "source": [
    "weather"
   ]
  },
  {
   "cell_type": "markdown",
   "id": "a62db4e3",
   "metadata": {},
   "source": [
    "<!-- In contrast to the 'precip_type' column , the Summary column has a lot of catagories, so we will use labelEncoder in order to transform the non-numerical labels to numerical labels  \n",
    " -->"
   ]
  },
  {
   "cell_type": "code",
   "execution_count": 41,
   "id": "d802416e",
   "metadata": {},
   "outputs": [],
   "source": [
    "# from sklearn import preprocessing\n",
    "# lbl_encoder=preprocessing.LabelEncoder()\n",
    "# weather['summary'] = lbl_encoder.fit_transform(weather['Summary'])\n",
    "# weather['summary'].unique()"
   ]
  },
  {
   "cell_type": "markdown",
   "id": "3e37beb5",
   "metadata": {},
   "source": [
    "now, after we encoded these values, we need to handle another problem:\n",
    "the machine learning model may assume that there is some correlation between these variables, which will produce the wrong output. So to remove this issue, we will use dummy encoding."
   ]
  },
  {
   "cell_type": "markdown",
   "id": "880e8195",
   "metadata": {},
   "source": [
    "For Dummy Encoding, we will use OneHotEncoder class of preprocessing library."
   ]
  },
  {
   "cell_type": "code",
   "execution_count": null,
   "id": "500e9e88",
   "metadata": {},
   "outputs": [],
   "source": [
    "# #for Country Variable  \n",
    "# from sklearn.preprocessing import LabelEncoder, OneHotEncoder  \n",
    "# label_encoder_x= LabelEncoder()  \n",
    "# weather['Precip Type']= label_encoder_x.fit_transform(weather['Precip Type'])  \n",
    "# #Encoding for dummy variables  \n",
    "# onehot_encoder= OneHotEncoder(categories=weather['Precip Type'])    \n",
    "\n",
    "\n",
    "# pre= onehot_encoder.fit_transform(pre).toarray()  "
   ]
  },
  {
   "cell_type": "code",
   "execution_count": null,
   "id": "705436a0",
   "metadata": {},
   "outputs": [],
   "source": [
    "# dummy encoding of categorical features\n",
    "#from sklearn.preprocessing import OneHotEncoder\n",
    "#ohe = OneHotEncoder(sparse=False)\n"
   ]
  },
  {
   "cell_type": "code",
   "execution_count": null,
   "id": "ec8da2cf",
   "metadata": {},
   "outputs": [],
   "source": [
    "#ohe.fit_transform(weather[['summary']])"
   ]
  },
  {
   "cell_type": "code",
   "execution_count": null,
   "id": "2ce612f1",
   "metadata": {},
   "outputs": [],
   "source": [
    "#ohe.categories_"
   ]
  },
  {
   "cell_type": "code",
   "execution_count": null,
   "id": "5c67846d",
   "metadata": {},
   "outputs": [],
   "source": [
    "#ohe.fit_transform(weather[['precip_type']])"
   ]
  },
  {
   "cell_type": "code",
   "execution_count": null,
   "id": "0517b224",
   "metadata": {},
   "outputs": [],
   "source": [
    "#weather['precip_type']"
   ]
  },
  {
   "cell_type": "code",
   "execution_count": null,
   "id": "44dceaf6",
   "metadata": {},
   "outputs": [],
   "source": [
    "#(weather[['precip_type']]==1.).count()"
   ]
  },
  {
   "cell_type": "code",
   "execution_count": null,
   "id": "c23f926e",
   "metadata": {},
   "outputs": [],
   "source": [
    "#weather"
   ]
  },
  {
   "cell_type": "markdown",
   "id": "700f6033",
   "metadata": {},
   "source": [
    "## 1.3 doing onehotencoding at the same time on both of the categorial columns\n"
   ]
  },
  {
   "cell_type": "markdown",
   "id": "90680647",
   "metadata": {},
   "source": [
    "now, we will remove Summary and Precip Type columns, cause we alredy made the numeric version of them(summary,precip_type)"
   ]
  },
  {
   "cell_type": "code",
   "execution_count": null,
   "id": "dbb4b0ef",
   "metadata": {},
   "outputs": [],
   "source": [
    "pd.DataFrame(data={'features': weather.columns})"
   ]
  },
  {
   "cell_type": "code",
   "execution_count": null,
   "id": "b97cda03",
   "metadata": {},
   "outputs": [],
   "source": [
    "# import matplotlib.pyplot as plt\n",
    "# weather.plot(x='Apparent Temperature (C)', y=[\"precip_type\"])\n",
    "# plt.show()"
   ]
  },
  {
   "cell_type": "code",
   "execution_count": null,
   "id": "b04001f6",
   "metadata": {},
   "outputs": [],
   "source": [
    "AT_column = weather['Apparent Temperature (C)']"
   ]
  },
  {
   "cell_type": "code",
   "execution_count": null,
   "id": "fbdafd20",
   "metadata": {
    "scrolled": true
   },
   "outputs": [],
   "source": [
    "AT_column.plot(kind=\"hist\")\n",
    "AxesSubplot='Frequency'"
   ]
  },
  {
   "cell_type": "markdown",
   "id": "2d4d4f56",
   "metadata": {},
   "source": [
    "##### this means that the most frequent Apparent Temperature is in the range between 10 to 20 celcius"
   ]
  },
  {
   "cell_type": "code",
   "execution_count": null,
   "id": "16b852ce",
   "metadata": {},
   "outputs": [],
   "source": [
    "import matplotlib\n",
    "import seaborn as sns\n",
    "import matplotlib.pyplot as plt\n",
    "import plotly.express as px\n",
    "%matplotlib inline\n"
   ]
  },
  {
   "cell_type": "code",
   "execution_count": null,
   "id": "04355fda",
   "metadata": {},
   "outputs": [],
   "source": [
    "# *temperature ,apparant temperature and humidity features has outliers after the min, but not a lot\n",
    "\n",
    "# *wind speed and summary - a lot of outliers , varies less and therefore, easier to predict\n",
    "\n",
    "# *most of  the values of wind bearing and visibility features are in the top 50% - the higher values , in contrast to apparant temperature and humidity.\n",
    "\n",
    "# *middle of year and precif type doesn't have a median "
   ]
  },
  {
   "cell_type": "markdown",
   "id": "04f4f331",
   "metadata": {},
   "source": [
    "# correlations old!"
   ]
  },
  {
   "cell_type": "markdown",
   "id": "3004e893",
   "metadata": {},
   "source": [
    "### correlation matrix"
   ]
  },
  {
   "cell_type": "code",
   "execution_count": null,
   "id": "d2de941e",
   "metadata": {},
   "outputs": [],
   "source": [
    "#weather['wind-visibility-ratio']=weather['Wind Speed (km/h)']/weather['Visibility (km)']"
   ]
  },
  {
   "cell_type": "code",
   "execution_count": null,
   "id": "025bed82",
   "metadata": {},
   "outputs": [],
   "source": [
    "#weather.describe()[['humidity-wind-ratio', 'wind-visibility-ratio','Visibility (km)']]"
   ]
  },
  {
   "cell_type": "code",
   "execution_count": null,
   "id": "78ae0a9d",
   "metadata": {},
   "outputs": [],
   "source": [
    "weather"
   ]
  },
  {
   "cell_type": "code",
   "execution_count": null,
   "id": "c9c38fff",
   "metadata": {},
   "outputs": [],
   "source": [
    "X="
   ]
  },
  {
   "cell_type": "code",
   "execution_count": null,
   "id": "1f9bff10",
   "metadata": {
    "scrolled": false
   },
   "outputs": [],
   "source": [
    "# plt.figure(figsize=(20,10))\n",
    "# sns.heatmap(weather.corr(),annot=True);"
   ]
  },
  {
   "cell_type": "markdown",
   "id": "1ac9b1c8",
   "metadata": {},
   "source": [
    "as we can see from the heatmap above, the correlation between the Apparent Temperature to the pressure is very low"
   ]
  },
  {
   "cell_type": "code",
   "execution_count": null,
   "id": "4e6d0c1a",
   "metadata": {},
   "outputs": [],
   "source": [
    "# del weather['Pressure (millibars)']\n",
    "# del weather['weekday']\n",
    "# del weather['day']\n",
    "# del weather['year']"
   ]
  },
  {
   "cell_type": "markdown",
   "id": "fa08fbc5",
   "metadata": {},
   "source": [
    "# numerical  features correlation old!"
   ]
  },
  {
   "cell_type": "markdown",
   "id": "f0d3446c",
   "metadata": {},
   "source": [
    "*we can see clearly that there's a strong correlation between temperature and apparent temperatue, \n",
    "* "
   ]
  },
  {
   "cell_type": "code",
   "execution_count": null,
   "id": "42079275",
   "metadata": {
    "scrolled": true
   },
   "outputs": [],
   "source": [
    "import seaborn as sns; #sns.set_theme(color_codes=True)\n",
    "ax = sns.regplot(x='Wind Speed (km/h)', y=\"Apparent Temperature (C)\", data=weather)"
   ]
  },
  {
   "cell_type": "code",
   "execution_count": null,
   "id": "68021a0d",
   "metadata": {
    "scrolled": true
   },
   "outputs": [],
   "source": [
    "# import seaborn as sns\n",
    "# sns.set_theme(style=\"whitegrid\")\n",
    "# ax = sns.boxplot(x=\"Visibility (km)\", y=\"Wind Speed (km/h)\", data=weather)"
   ]
  },
  {
   "cell_type": "markdown",
   "id": "620f36c7",
   "metadata": {},
   "source": [
    "# categorial features correlation old!"
   ]
  },
  {
   "cell_type": "markdown",
   "id": "5282d775",
   "metadata": {},
   "source": [
    "we took samples of catagories from the \"Summary\" feature, in order to see the relations between this feature and the \"Precip Type\" feature with Wind Speed"
   ]
  },
  {
   "cell_type": "code",
   "execution_count": null,
   "id": "48dcce69",
   "metadata": {},
   "outputs": [],
   "source": [
    "sns.set_theme(style=\"whitegrid\")\n",
    "ax = sns.stripplot(x=\"Summary\", y='Apparent Temperature (C)',hue='Precip Type',order=['Rain','Partly Cloudy','Overcast','Foggy','Breezy'], data=weather_copy , linewidth= 1, size=5)"
   ]
  },
  {
   "cell_type": "markdown",
   "id": "d7a57344",
   "metadata": {},
   "source": [
    "*here we can see what we think intuitively - the apparent temperature, i.e., the temperature we as humans feel is higher when there's snow comparing to when it rains. \n",
    "\n",
    "*We assumed that if there's an overcast, the apparent temperatue is lower, but here we can see that it's not neccesarily the case, so we can't say there's a strong correlation between the overcast catagory in Summary and the apparent temperatue.\n",
    "\n",
    "*another thing we see here is that when it rains, the apparent temperature can vary from 0 to 40 approximately, which means that it's hard to predict what temperature  we would feel when the precip type is rain. "
   ]
  },
  {
   "cell_type": "code",
   "execution_count": null,
   "id": "ec363dbd",
   "metadata": {},
   "outputs": [],
   "source": []
  },
  {
   "cell_type": "code",
   "execution_count": null,
   "id": "51d63b86",
   "metadata": {},
   "outputs": [],
   "source": [
    "sns.set_theme(style=\"whitegrid\")\n",
    "ax = sns.stripplot(x=\"Summary\", y=\"Wind Speed (km/h)\",hue='Precip Type',order=['Rain','Partly Cloudy','Overcast','Foggy','Breezy','Dry'], data=weather_copy , linewidth= 1, size=5)"
   ]
  },
  {
   "cell_type": "code",
   "execution_count": null,
   "id": "645722b1",
   "metadata": {},
   "outputs": [],
   "source": [
    "# fig, axes = plt.subplots(2, 2, figsize=(15, 15))\n",
    "# fig.suptitle('categorial features:')\n",
    "# ax = sns.swarmplot(x=weather_copy[\"Summary\"])"
   ]
  },
  {
   "cell_type": "markdown",
   "id": "1ca47367",
   "metadata": {},
   "source": [
    "now let's see the correlation between the features after the few changes we did:"
   ]
  },
  {
   "cell_type": "code",
   "execution_count": null,
   "id": "7b3ae1e5",
   "metadata": {
    "scrolled": true
   },
   "outputs": [],
   "source": [
    "corr_matrix = weather.corr()\n",
    "corr_matrix['Apparent Temperature (C)'].sort_values(ascending=False)"
   ]
  },
  {
   "cell_type": "markdown",
   "id": "6baf9981",
   "metadata": {},
   "source": [
    "# 4. choosing a regression metric -"
   ]
  },
  {
   "cell_type": "markdown",
   "id": "f5a9dca4",
   "metadata": {},
   "source": [
    "### We chose Mean abs error and R square as  metrics due to the explanations below and also beacause of the following dummy model results   (mae had a better result than rmse)\n",
    "### later on we will choose one of them as a metric to our best model for the data, depending on how well it works with each model"
   ]
  },
  {
   "cell_type": "markdown",
   "id": "8621df5e",
   "metadata": {},
   "source": [
    "##### Mean Squared Error (MSE)"
   ]
  },
  {
   "cell_type": "markdown",
   "id": "032ec1bf",
   "metadata": {},
   "source": [
    "The MSE is calculated as the mean or average of the squared differences between predicted and expected target values in a dataset\n",
    "\n",
    "when MSE is used as a loss function (regression metric), a lot of weight is given to larger errors because of the square\n",
    "The units of the MSE are squared units.\n",
    "\n",
    "A model that achieves an MSE better than the MSE for the naive model has skill."
   ]
  },
  {
   "cell_type": "code",
   "execution_count": 42,
   "id": "3b9c92dd",
   "metadata": {},
   "outputs": [],
   "source": [
    "from matplotlib import pyplot\n",
    "from sklearn.metrics import mean_squared_error\n",
    "from sklearn.metrics import mean_absolute_error"
   ]
  },
  {
   "cell_type": "markdown",
   "id": "81127412",
   "metadata": {},
   "source": [
    "##### Root Mean Squared Error"
   ]
  },
  {
   "cell_type": "markdown",
   "id": "f8f3a74c",
   "metadata": {},
   "source": [
    "the units of the RMSE are the same as the original units of the target value that is being predicted, in contrast to MSE.\n",
    "this is the advantage comapring to MSE."
   ]
  },
  {
   "cell_type": "code",
   "execution_count": null,
   "id": "c2b11ff9",
   "metadata": {},
   "outputs": [],
   "source": [
    "# mean_squared_error(y_true, y_pred, squared=False)"
   ]
  },
  {
   "cell_type": "markdown",
   "id": "e8a9815e",
   "metadata": {},
   "source": [
    "#### Mean abs error"
   ]
  },
  {
   "cell_type": "markdown",
   "id": "b109bdf1",
   "metadata": {},
   "source": [
    "like RMSE, the units of the error score match the units of the target value that is being predicted.\n",
    "\n",
    "Unlike the RMSE, the changes in MAE are linear and therefore intuitive."
   ]
  },
  {
   "cell_type": "markdown",
   "id": "4db47b11",
   "metadata": {},
   "source": [
    "*The lower value of MAE, MSE, and RMSE implies higher accuracy of a regression model. However, a higher value of R square is considered desirable."
   ]
  },
  {
   "cell_type": "markdown",
   "id": "048b849a",
   "metadata": {},
   "source": [
    "#### R Square"
   ]
  },
  {
   "cell_type": "markdown",
   "id": "e9d15049",
   "metadata": {},
   "source": [
    "R Squared & Adjusted R Squared are used for explaining how well the independent variables in the linear regression model explains the variability in the dependent variable.\n",
    "\n",
    "R-squared (R2) is a statistical measure that represents the proportion of the variance for a dependent variable that's explained by an independent variable or variables in a regression model.\n",
    "\n",
    "in  simple words, R2 is the percentage of variation explaind by the relationship between two variables"
   ]
  },
  {
   "cell_type": "markdown",
   "id": "9e71ba03",
   "metadata": {},
   "source": [
    "# 5. Split the data to train and test"
   ]
  },
  {
   "cell_type": "code",
   "execution_count": 43,
   "id": "791723b9",
   "metadata": {},
   "outputs": [],
   "source": [
    "X = weather.drop(['Apparent Temperature (C)'],axis=1)\n",
    "y = weather['Apparent Temperature (C)']"
   ]
  },
  {
   "cell_type": "code",
   "execution_count": 44,
   "id": "8a382909",
   "metadata": {},
   "outputs": [],
   "source": [
    "from sklearn.model_selection import train_test_split\n",
    "X_train,X_test,y_train,y_test = train_test_split(X,y,test_size=0.20,random_state=42)"
   ]
  },
  {
   "cell_type": "code",
   "execution_count": null,
   "id": "5cd6a3c9",
   "metadata": {},
   "outputs": [],
   "source": [
    "#train=X_train"
   ]
  },
  {
   "cell_type": "code",
   "execution_count": null,
   "id": "f5d98e55",
   "metadata": {},
   "outputs": [],
   "source": [
    "X_train"
   ]
  },
  {
   "cell_type": "code",
   "execution_count": null,
   "id": "f8c84cb7",
   "metadata": {},
   "outputs": [],
   "source": [
    "X_test.shape"
   ]
  },
  {
   "cell_type": "code",
   "execution_count": null,
   "id": "81325a27",
   "metadata": {},
   "outputs": [],
   "source": [
    "y_train"
   ]
  },
  {
   "cell_type": "markdown",
   "id": "5dccd8c6",
   "metadata": {},
   "source": [
    "# 6. Scaling\n"
   ]
  },
  {
   "cell_type": "markdown",
   "id": "76879f22",
   "metadata": {},
   "source": [
    "את הנירמול לא נעשה על משתנים קטגרויאליים ושמיים שעשינו עליהם כבר encoding  \n",
    ",כי אין אפשרות להשוות\n",
    "ניצור גאטא פריים חדש מנורמל\n",
    "את הויזואליצזיה של הדאטא נעשה על הדאטא פריים המקורי, הלא מנורמל, כדי שנראה את המידע בצורה ברורה ונראה מה המספרים מייצגים"
   ]
  },
  {
   "cell_type": "markdown",
   "id": "9636f0a5",
   "metadata": {},
   "source": [
    "we will do the scaling only on numerical features i.e not on the categorial . \n",
    " i.e , the features we didn't encoded"
   ]
  },
  {
   "cell_type": "code",
   "execution_count": 45,
   "id": "bcd2693f",
   "metadata": {},
   "outputs": [],
   "source": [
    "from sklearn.preprocessing import StandardScaler\n",
    "from sklearn.preprocessing import MinMaxScaler"
   ]
  },
  {
   "cell_type": "code",
   "execution_count": 46,
   "id": "09d691b7",
   "metadata": {},
   "outputs": [
    {
     "data": {
      "text/plain": [
       "Precip Type                            False\n",
       "Temperature (C)                        False\n",
       "Humidity                               False\n",
       "Wind Speed (km/h)                      False\n",
       "Wind Bearing (degrees)                 False\n",
       "Visibility (km)                        False\n",
       "Pressure (millibars)                   False\n",
       "Breezy                                 False\n",
       "Breezy and Dry                         False\n",
       "Breezy and Foggy                       False\n",
       "Breezy and Mostly Cloudy               False\n",
       "Breezy and Overcast                    False\n",
       "Breezy and Partly Cloudy               False\n",
       "Clear                                  False\n",
       "Dangerously Windy and Partly Cloudy    False\n",
       "Drizzle                                False\n",
       "Dry                                    False\n",
       "Dry and Mostly Cloudy                  False\n",
       "Dry and Partly Cloudy                  False\n",
       "Foggy                                  False\n",
       "Humid and Mostly Cloudy                False\n",
       "Humid and Overcast                     False\n",
       "Humid and Partly Cloudy                False\n",
       "Light Rain                             False\n",
       "Mostly Cloudy                          False\n",
       "Overcast                               False\n",
       "Partly Cloudy                          False\n",
       "Rain                                   False\n",
       "Windy                                  False\n",
       "Windy and Dry                          False\n",
       "Windy and Foggy                        False\n",
       "Windy and Mostly Cloudy                False\n",
       "Windy and Overcast                     False\n",
       "Windy and Partly Cloudy                False\n",
       "dtype: bool"
      ]
     },
     "execution_count": 46,
     "metadata": {},
     "output_type": "execute_result"
    }
   ],
   "source": [
    "X_train.isnull().any()"
   ]
  },
  {
   "cell_type": "code",
   "execution_count": 47,
   "id": "9fcd6b44",
   "metadata": {},
   "outputs": [],
   "source": [
    "X_train2 = X_train.copy()\n",
    "X_test2 = X_test.copy()"
   ]
  },
  {
   "cell_type": "code",
   "execution_count": 48,
   "id": "62d5ec6a",
   "metadata": {},
   "outputs": [],
   "source": [
    "X_train_standardized = X_train.copy()\n",
    "X_test_standardized = X_test.copy()\n",
    "X_train_normalized = X_train.copy()\n",
    "X_test_normalized = X_test.copy()"
   ]
  },
  {
   "cell_type": "code",
   "execution_count": 49,
   "id": "34cff90e",
   "metadata": {},
   "outputs": [],
   "source": [
    "scaler_standard = StandardScaler()\n",
    "scaler_MinMax = MinMaxScaler()"
   ]
  },
  {
   "cell_type": "code",
   "execution_count": 50,
   "id": "2d1fd0a0",
   "metadata": {},
   "outputs": [],
   "source": [
    "numerical_features = [\"Temperature (C)\",\"Humidity\",\"Wind Speed (km/h)\",\"Wind Bearing (degrees)\",\"Visibility (km)\",\"Pressure (millibars)\"]"
   ]
  },
  {
   "cell_type": "code",
   "execution_count": 51,
   "id": "1a4a1536",
   "metadata": {},
   "outputs": [],
   "source": [
    "# Standardization:\n",
    "scaler_standard.fit(X_train[numerical_features])\n",
    "X_train_standardized[numerical_features] = scaler_standard.transform(X_train_standardized[numerical_features])\n",
    "\n",
    "# the scaling is with the the same fitted scaler (by the train data)\n",
    "#only transform on the test data\n",
    "X_test_standardized[numerical_features] = scaler_standard.transform(X_test_standardized[numerical_features])\n",
    "\n",
    "# Normalization:\n",
    "scaler_MinMax.fit(X_train[numerical_features])\n",
    "X_train_normalized[numerical_features] = scaler_MinMax.transform(X_train_normalized[numerical_features])\n",
    "\n",
    "# the scaling is with the the same fitted scaler (by the train data)\n",
    "#only transform on the test data\n",
    "X_test_normalized[numerical_features] = scaler_MinMax.transform(X_test_normalized[numerical_features])"
   ]
  },
  {
   "cell_type": "code",
   "execution_count": 52,
   "id": "95dfb898",
   "metadata": {},
   "outputs": [
    {
     "name": "stdout",
     "output_type": "stream",
     "text": [
      "note: the mean is 0 and std is 1\n"
     ]
    },
    {
     "data": {
      "text/html": [
       "<div>\n",
       "<style scoped>\n",
       "    .dataframe tbody tr th:only-of-type {\n",
       "        vertical-align: middle;\n",
       "    }\n",
       "\n",
       "    .dataframe tbody tr th {\n",
       "        vertical-align: top;\n",
       "    }\n",
       "\n",
       "    .dataframe thead th {\n",
       "        text-align: right;\n",
       "    }\n",
       "</style>\n",
       "<table border=\"1\" class=\"dataframe\">\n",
       "  <thead>\n",
       "    <tr style=\"text-align: right;\">\n",
       "      <th></th>\n",
       "      <th>Temperature (C)</th>\n",
       "      <th>Humidity</th>\n",
       "      <th>Wind Speed (km/h)</th>\n",
       "      <th>Wind Bearing (degrees)</th>\n",
       "      <th>Visibility (km)</th>\n",
       "      <th>Pressure (millibars)</th>\n",
       "    </tr>\n",
       "  </thead>\n",
       "  <tbody>\n",
       "    <tr>\n",
       "      <th>mean</th>\n",
       "      <td>4.621541e-17</td>\n",
       "      <td>1.621199e-15</td>\n",
       "      <td>1.531222e-16</td>\n",
       "      <td>8.322912e-17</td>\n",
       "      <td>-1.141163e-15</td>\n",
       "      <td>-2.443617e-14</td>\n",
       "    </tr>\n",
       "    <tr>\n",
       "      <th>std</th>\n",
       "      <td>1.000007e+00</td>\n",
       "      <td>1.000007e+00</td>\n",
       "      <td>1.000007e+00</td>\n",
       "      <td>1.000007e+00</td>\n",
       "      <td>1.000007e+00</td>\n",
       "      <td>1.000007e+00</td>\n",
       "    </tr>\n",
       "  </tbody>\n",
       "</table>\n",
       "</div>"
      ],
      "text/plain": [
       "      Temperature (C)      Humidity  Wind Speed (km/h)  \\\n",
       "mean     4.621541e-17  1.621199e-15       1.531222e-16   \n",
       "std      1.000007e+00  1.000007e+00       1.000007e+00   \n",
       "\n",
       "      Wind Bearing (degrees)  Visibility (km)  Pressure (millibars)  \n",
       "mean            8.322912e-17    -1.141163e-15         -2.443617e-14  \n",
       "std             1.000007e+00     1.000007e+00          1.000007e+00  "
      ]
     },
     "execution_count": 52,
     "metadata": {},
     "output_type": "execute_result"
    }
   ],
   "source": [
    "print('note: the mean is 0 and std is 1')\n",
    "X_train_standardized.describe()[numerical_features].iloc[[1, 2]]"
   ]
  },
  {
   "cell_type": "code",
   "execution_count": 53,
   "id": "563ca738",
   "metadata": {},
   "outputs": [
    {
     "name": "stdout",
     "output_type": "stream",
     "text": [
      "note: the mean is 0 and std is 1\n"
     ]
    },
    {
     "data": {
      "text/html": [
       "<div>\n",
       "<style scoped>\n",
       "    .dataframe tbody tr th:only-of-type {\n",
       "        vertical-align: middle;\n",
       "    }\n",
       "\n",
       "    .dataframe tbody tr th {\n",
       "        vertical-align: top;\n",
       "    }\n",
       "\n",
       "    .dataframe thead th {\n",
       "        text-align: right;\n",
       "    }\n",
       "</style>\n",
       "<table border=\"1\" class=\"dataframe\">\n",
       "  <thead>\n",
       "    <tr style=\"text-align: right;\">\n",
       "      <th></th>\n",
       "      <th>Temperature (C)</th>\n",
       "      <th>Humidity</th>\n",
       "      <th>Wind Speed (km/h)</th>\n",
       "      <th>Wind Bearing (degrees)</th>\n",
       "      <th>Visibility (km)</th>\n",
       "      <th>Pressure (millibars)</th>\n",
       "    </tr>\n",
       "  </thead>\n",
       "  <tbody>\n",
       "    <tr>\n",
       "      <th>mean</th>\n",
       "      <td>4.621541e-17</td>\n",
       "      <td>1.621199e-15</td>\n",
       "      <td>1.531222e-16</td>\n",
       "      <td>8.322912e-17</td>\n",
       "      <td>-1.141163e-15</td>\n",
       "      <td>-2.443617e-14</td>\n",
       "    </tr>\n",
       "    <tr>\n",
       "      <th>std</th>\n",
       "      <td>1.000007e+00</td>\n",
       "      <td>1.000007e+00</td>\n",
       "      <td>1.000007e+00</td>\n",
       "      <td>1.000007e+00</td>\n",
       "      <td>1.000007e+00</td>\n",
       "      <td>1.000007e+00</td>\n",
       "    </tr>\n",
       "  </tbody>\n",
       "</table>\n",
       "</div>"
      ],
      "text/plain": [
       "      Temperature (C)      Humidity  Wind Speed (km/h)  \\\n",
       "mean     4.621541e-17  1.621199e-15       1.531222e-16   \n",
       "std      1.000007e+00  1.000007e+00       1.000007e+00   \n",
       "\n",
       "      Wind Bearing (degrees)  Visibility (km)  Pressure (millibars)  \n",
       "mean            8.322912e-17    -1.141163e-15         -2.443617e-14  \n",
       "std             1.000007e+00     1.000007e+00          1.000007e+00  "
      ]
     },
     "execution_count": 53,
     "metadata": {},
     "output_type": "execute_result"
    }
   ],
   "source": [
    "print('note: the mean is 0 and std is 1')\n",
    "X_train_standardized.describe()[numerical_features].iloc[[1, 2]]"
   ]
  },
  {
   "cell_type": "code",
   "execution_count": 54,
   "id": "11ed9a32",
   "metadata": {},
   "outputs": [
    {
     "data": {
      "text/html": [
       "<div>\n",
       "<style scoped>\n",
       "    .dataframe tbody tr th:only-of-type {\n",
       "        vertical-align: middle;\n",
       "    }\n",
       "\n",
       "    .dataframe tbody tr th {\n",
       "        vertical-align: top;\n",
       "    }\n",
       "\n",
       "    .dataframe thead th {\n",
       "        text-align: right;\n",
       "    }\n",
       "</style>\n",
       "<table border=\"1\" class=\"dataframe\">\n",
       "  <thead>\n",
       "    <tr style=\"text-align: right;\">\n",
       "      <th></th>\n",
       "      <th>Precip Type</th>\n",
       "      <th>Temperature (C)</th>\n",
       "      <th>Humidity</th>\n",
       "      <th>Wind Speed (km/h)</th>\n",
       "      <th>Wind Bearing (degrees)</th>\n",
       "      <th>Visibility (km)</th>\n",
       "      <th>Pressure (millibars)</th>\n",
       "      <th>Breezy</th>\n",
       "      <th>Breezy and Dry</th>\n",
       "      <th>Breezy and Foggy</th>\n",
       "      <th>...</th>\n",
       "      <th>Mostly Cloudy</th>\n",
       "      <th>Overcast</th>\n",
       "      <th>Partly Cloudy</th>\n",
       "      <th>Rain</th>\n",
       "      <th>Windy</th>\n",
       "      <th>Windy and Dry</th>\n",
       "      <th>Windy and Foggy</th>\n",
       "      <th>Windy and Mostly Cloudy</th>\n",
       "      <th>Windy and Overcast</th>\n",
       "      <th>Windy and Partly Cloudy</th>\n",
       "    </tr>\n",
       "  </thead>\n",
       "  <tbody>\n",
       "    <tr>\n",
       "      <th>49839</th>\n",
       "      <td>0</td>\n",
       "      <td>0.925481</td>\n",
       "      <td>-0.871737</td>\n",
       "      <td>0.982444</td>\n",
       "      <td>1.223295</td>\n",
       "      <td>0.220327</td>\n",
       "      <td>-0.674807</td>\n",
       "      <td>0</td>\n",
       "      <td>0</td>\n",
       "      <td>0</td>\n",
       "      <td>...</td>\n",
       "      <td>1</td>\n",
       "      <td>0</td>\n",
       "      <td>0</td>\n",
       "      <td>0</td>\n",
       "      <td>0</td>\n",
       "      <td>0</td>\n",
       "      <td>0</td>\n",
       "      <td>0</td>\n",
       "      <td>0</td>\n",
       "      <td>0</td>\n",
       "    </tr>\n",
       "    <tr>\n",
       "      <th>23605</th>\n",
       "      <td>0</td>\n",
       "      <td>1.568290</td>\n",
       "      <td>-1.669177</td>\n",
       "      <td>1.193141</td>\n",
       "      <td>0.329556</td>\n",
       "      <td>0.000663</td>\n",
       "      <td>-0.769524</td>\n",
       "      <td>0</td>\n",
       "      <td>0</td>\n",
       "      <td>0</td>\n",
       "      <td>...</td>\n",
       "      <td>1</td>\n",
       "      <td>0</td>\n",
       "      <td>0</td>\n",
       "      <td>0</td>\n",
       "      <td>0</td>\n",
       "      <td>0</td>\n",
       "      <td>0</td>\n",
       "      <td>0</td>\n",
       "      <td>0</td>\n",
       "      <td>0</td>\n",
       "    </tr>\n",
       "    <tr>\n",
       "      <th>26053</th>\n",
       "      <td>0</td>\n",
       "      <td>0.425389</td>\n",
       "      <td>-0.825422</td>\n",
       "      <td>1.307751</td>\n",
       "      <td>-1.290344</td>\n",
       "      <td>0.220327</td>\n",
       "      <td>0.945768</td>\n",
       "      <td>0</td>\n",
       "      <td>0</td>\n",
       "      <td>0</td>\n",
       "      <td>...</td>\n",
       "      <td>1</td>\n",
       "      <td>0</td>\n",
       "      <td>0</td>\n",
       "      <td>0</td>\n",
       "      <td>0</td>\n",
       "      <td>0</td>\n",
       "      <td>0</td>\n",
       "      <td>0</td>\n",
       "      <td>0</td>\n",
       "      <td>0</td>\n",
       "    </tr>\n",
       "    <tr>\n",
       "      <th>3299</th>\n",
       "      <td>1</td>\n",
       "      <td>-1.996750</td>\n",
       "      <td>0.205142</td>\n",
       "      <td>-0.689594</td>\n",
       "      <td>0.217839</td>\n",
       "      <td>-1.282638</td>\n",
       "      <td>2.367826</td>\n",
       "      <td>0</td>\n",
       "      <td>0</td>\n",
       "      <td>0</td>\n",
       "      <td>...</td>\n",
       "      <td>0</td>\n",
       "      <td>0</td>\n",
       "      <td>1</td>\n",
       "      <td>0</td>\n",
       "      <td>0</td>\n",
       "      <td>0</td>\n",
       "      <td>0</td>\n",
       "      <td>0</td>\n",
       "      <td>0</td>\n",
       "      <td>0</td>\n",
       "    </tr>\n",
       "    <tr>\n",
       "      <th>90469</th>\n",
       "      <td>0</td>\n",
       "      <td>-0.606123</td>\n",
       "      <td>-0.487918</td>\n",
       "      <td>0.131234</td>\n",
       "      <td>1.577066</td>\n",
       "      <td>0.054615</td>\n",
       "      <td>1.248085</td>\n",
       "      <td>0</td>\n",
       "      <td>0</td>\n",
       "      <td>0</td>\n",
       "      <td>...</td>\n",
       "      <td>1</td>\n",
       "      <td>0</td>\n",
       "      <td>0</td>\n",
       "      <td>0</td>\n",
       "      <td>0</td>\n",
       "      <td>0</td>\n",
       "      <td>0</td>\n",
       "      <td>0</td>\n",
       "      <td>0</td>\n",
       "      <td>0</td>\n",
       "    </tr>\n",
       "    <tr>\n",
       "      <th>...</th>\n",
       "      <td>...</td>\n",
       "      <td>...</td>\n",
       "      <td>...</td>\n",
       "      <td>...</td>\n",
       "      <td>...</td>\n",
       "      <td>...</td>\n",
       "      <td>...</td>\n",
       "      <td>...</td>\n",
       "      <td>...</td>\n",
       "      <td>...</td>\n",
       "      <td>...</td>\n",
       "      <td>...</td>\n",
       "      <td>...</td>\n",
       "      <td>...</td>\n",
       "      <td>...</td>\n",
       "      <td>...</td>\n",
       "      <td>...</td>\n",
       "      <td>...</td>\n",
       "      <td>...</td>\n",
       "      <td>...</td>\n",
       "      <td>...</td>\n",
       "    </tr>\n",
       "    <tr>\n",
       "      <th>6265</th>\n",
       "      <td>0</td>\n",
       "      <td>0.267587</td>\n",
       "      <td>0.496632</td>\n",
       "      <td>-0.701421</td>\n",
       "      <td>-0.471084</td>\n",
       "      <td>1.014200</td>\n",
       "      <td>0.215277</td>\n",
       "      <td>0</td>\n",
       "      <td>0</td>\n",
       "      <td>0</td>\n",
       "      <td>...</td>\n",
       "      <td>1</td>\n",
       "      <td>0</td>\n",
       "      <td>0</td>\n",
       "      <td>0</td>\n",
       "      <td>0</td>\n",
       "      <td>0</td>\n",
       "      <td>0</td>\n",
       "      <td>0</td>\n",
       "      <td>0</td>\n",
       "      <td>0</td>\n",
       "    </tr>\n",
       "    <tr>\n",
       "      <th>54964</th>\n",
       "      <td>1</td>\n",
       "      <td>-2.488140</td>\n",
       "      <td>0.556700</td>\n",
       "      <td>0.278527</td>\n",
       "      <td>0.134051</td>\n",
       "      <td>-1.621768</td>\n",
       "      <td>-0.586577</td>\n",
       "      <td>0</td>\n",
       "      <td>0</td>\n",
       "      <td>0</td>\n",
       "      <td>...</td>\n",
       "      <td>0</td>\n",
       "      <td>1</td>\n",
       "      <td>0</td>\n",
       "      <td>0</td>\n",
       "      <td>0</td>\n",
       "      <td>0</td>\n",
       "      <td>0</td>\n",
       "      <td>0</td>\n",
       "      <td>0</td>\n",
       "      <td>0</td>\n",
       "    </tr>\n",
       "    <tr>\n",
       "      <th>76963</th>\n",
       "      <td>0</td>\n",
       "      <td>-0.542306</td>\n",
       "      <td>0.866215</td>\n",
       "      <td>0.274394</td>\n",
       "      <td>-0.350057</td>\n",
       "      <td>1.068153</td>\n",
       "      <td>-0.472397</td>\n",
       "      <td>0</td>\n",
       "      <td>0</td>\n",
       "      <td>0</td>\n",
       "      <td>...</td>\n",
       "      <td>1</td>\n",
       "      <td>0</td>\n",
       "      <td>0</td>\n",
       "      <td>0</td>\n",
       "      <td>0</td>\n",
       "      <td>0</td>\n",
       "      <td>0</td>\n",
       "      <td>0</td>\n",
       "      <td>0</td>\n",
       "      <td>0</td>\n",
       "    </tr>\n",
       "    <tr>\n",
       "      <th>860</th>\n",
       "      <td>0</td>\n",
       "      <td>0.753175</td>\n",
       "      <td>0.378285</td>\n",
       "      <td>-2.565402</td>\n",
       "      <td>-0.620041</td>\n",
       "      <td>-0.087974</td>\n",
       "      <td>-0.532082</td>\n",
       "      <td>0</td>\n",
       "      <td>0</td>\n",
       "      <td>0</td>\n",
       "      <td>...</td>\n",
       "      <td>1</td>\n",
       "      <td>0</td>\n",
       "      <td>0</td>\n",
       "      <td>0</td>\n",
       "      <td>0</td>\n",
       "      <td>0</td>\n",
       "      <td>0</td>\n",
       "      <td>0</td>\n",
       "      <td>0</td>\n",
       "      <td>0</td>\n",
       "    </tr>\n",
       "    <tr>\n",
       "      <th>15795</th>\n",
       "      <td>0</td>\n",
       "      <td>-0.725635</td>\n",
       "      <td>0.866215</td>\n",
       "      <td>0.288809</td>\n",
       "      <td>0.329556</td>\n",
       "      <td>0.894734</td>\n",
       "      <td>-0.137643</td>\n",
       "      <td>0</td>\n",
       "      <td>0</td>\n",
       "      <td>0</td>\n",
       "      <td>...</td>\n",
       "      <td>0</td>\n",
       "      <td>1</td>\n",
       "      <td>0</td>\n",
       "      <td>0</td>\n",
       "      <td>0</td>\n",
       "      <td>0</td>\n",
       "      <td>0</td>\n",
       "      <td>0</td>\n",
       "      <td>0</td>\n",
       "      <td>0</td>\n",
       "    </tr>\n",
       "  </tbody>\n",
       "</table>\n",
       "<p>76748 rows × 34 columns</p>\n",
       "</div>"
      ],
      "text/plain": [
       "       Precip Type  Temperature (C)  Humidity  Wind Speed (km/h)  \\\n",
       "49839            0         0.925481 -0.871737           0.982444   \n",
       "23605            0         1.568290 -1.669177           1.193141   \n",
       "26053            0         0.425389 -0.825422           1.307751   \n",
       "3299             1        -1.996750  0.205142          -0.689594   \n",
       "90469            0        -0.606123 -0.487918           0.131234   \n",
       "...            ...              ...       ...                ...   \n",
       "6265             0         0.267587  0.496632          -0.701421   \n",
       "54964            1        -2.488140  0.556700           0.278527   \n",
       "76963            0        -0.542306  0.866215           0.274394   \n",
       "860              0         0.753175  0.378285          -2.565402   \n",
       "15795            0        -0.725635  0.866215           0.288809   \n",
       "\n",
       "       Wind Bearing (degrees)  Visibility (km)  Pressure (millibars)  Breezy  \\\n",
       "49839                1.223295         0.220327             -0.674807       0   \n",
       "23605                0.329556         0.000663             -0.769524       0   \n",
       "26053               -1.290344         0.220327              0.945768       0   \n",
       "3299                 0.217839        -1.282638              2.367826       0   \n",
       "90469                1.577066         0.054615              1.248085       0   \n",
       "...                       ...              ...                   ...     ...   \n",
       "6265                -0.471084         1.014200              0.215277       0   \n",
       "54964                0.134051        -1.621768             -0.586577       0   \n",
       "76963               -0.350057         1.068153             -0.472397       0   \n",
       "860                 -0.620041        -0.087974             -0.532082       0   \n",
       "15795                0.329556         0.894734             -0.137643       0   \n",
       "\n",
       "       Breezy and Dry  Breezy and Foggy  ...  Mostly Cloudy  Overcast  \\\n",
       "49839               0                 0  ...              1         0   \n",
       "23605               0                 0  ...              1         0   \n",
       "26053               0                 0  ...              1         0   \n",
       "3299                0                 0  ...              0         0   \n",
       "90469               0                 0  ...              1         0   \n",
       "...               ...               ...  ...            ...       ...   \n",
       "6265                0                 0  ...              1         0   \n",
       "54964               0                 0  ...              0         1   \n",
       "76963               0                 0  ...              1         0   \n",
       "860                 0                 0  ...              1         0   \n",
       "15795               0                 0  ...              0         1   \n",
       "\n",
       "       Partly Cloudy  Rain  Windy  Windy and Dry  Windy and Foggy  \\\n",
       "49839              0     0      0              0                0   \n",
       "23605              0     0      0              0                0   \n",
       "26053              0     0      0              0                0   \n",
       "3299               1     0      0              0                0   \n",
       "90469              0     0      0              0                0   \n",
       "...              ...   ...    ...            ...              ...   \n",
       "6265               0     0      0              0                0   \n",
       "54964              0     0      0              0                0   \n",
       "76963              0     0      0              0                0   \n",
       "860                0     0      0              0                0   \n",
       "15795              0     0      0              0                0   \n",
       "\n",
       "       Windy and Mostly Cloudy  Windy and Overcast  Windy and Partly Cloudy  \n",
       "49839                        0                   0                        0  \n",
       "23605                        0                   0                        0  \n",
       "26053                        0                   0                        0  \n",
       "3299                         0                   0                        0  \n",
       "90469                        0                   0                        0  \n",
       "...                        ...                 ...                      ...  \n",
       "6265                         0                   0                        0  \n",
       "54964                        0                   0                        0  \n",
       "76963                        0                   0                        0  \n",
       "860                          0                   0                        0  \n",
       "15795                        0                   0                        0  \n",
       "\n",
       "[76748 rows x 34 columns]"
      ]
     },
     "execution_count": 54,
     "metadata": {},
     "output_type": "execute_result"
    }
   ],
   "source": [
    "X_train_standardized"
   ]
  },
  {
   "cell_type": "code",
   "execution_count": null,
   "id": "aaf7f20d",
   "metadata": {},
   "outputs": [],
   "source": [
    "X_train_normalized"
   ]
  },
  {
   "cell_type": "code",
   "execution_count": null,
   "id": "507db886",
   "metadata": {},
   "outputs": [],
   "source": [
    "X_train2.isnull().any()"
   ]
  },
  {
   "cell_type": "code",
   "execution_count": null,
   "id": "6bda1b15",
   "metadata": {},
   "outputs": [],
   "source": [
    "# y_train"
   ]
  },
  {
   "cell_type": "markdown",
   "id": "948e6fe8",
   "metadata": {},
   "source": [
    "# 7. data visualization"
   ]
  },
  {
   "cell_type": "markdown",
   "id": "b6e9a2a1",
   "metadata": {},
   "source": [
    " using the preproccessed dataFrame, before scaling, \n",
    "in order to get meaningful and clear picture of the data"
   ]
  },
  {
   "cell_type": "markdown",
   "id": "d1c9bc95",
   "metadata": {},
   "source": [
    " using the preproccessed dataFrame, before scaling, \n",
    "in order to get meaningful and clear picture of the data"
   ]
  },
  {
   "cell_type": "code",
   "execution_count": 55,
   "id": "bf71a4bc",
   "metadata": {},
   "outputs": [],
   "source": [
    "train=X_train2.copy()"
   ]
  },
  {
   "cell_type": "code",
   "execution_count": 56,
   "id": "f7374bcd",
   "metadata": {},
   "outputs": [],
   "source": [
    "train_numeric=train[numerical_features]"
   ]
  },
  {
   "cell_type": "code",
   "execution_count": 57,
   "id": "7ab41388",
   "metadata": {},
   "outputs": [],
   "source": [
    "train_numeric['Apparent Temperature (C)']=y_train"
   ]
  },
  {
   "cell_type": "markdown",
   "id": "16e79bf7",
   "metadata": {},
   "source": [
    "# correlations"
   ]
  },
  {
   "cell_type": "markdown",
   "id": "122a0c82",
   "metadata": {},
   "source": [
    "### correlation matrix"
   ]
  },
  {
   "cell_type": "code",
   "execution_count": 58,
   "id": "13d92981",
   "metadata": {
    "scrolled": true
   },
   "outputs": [
    {
     "data": {
      "image/png": "[encoded data removed]",
      "text/plain": [
       "<Figure size 1440x720 with 2 Axes>"
      ]
     },
     "metadata": {
      "needs_background": "light"
     },
     "output_type": "display_data"
    }
   ],
   "source": [
    "plt.figure(figsize=(20,10))\n",
    "sns.heatmap(train_numeric.corr(),annot=True);"
   ]
  },
  {
   "cell_type": "markdown",
   "id": "603f33aa",
   "metadata": {},
   "source": [
    "as we can see from the heatmap above, the correlation between the Apparent Temperature to the pressure is very low"
   ]
  },
  {
   "cell_type": "markdown",
   "id": "1d72ef49",
   "metadata": {},
   "source": [
    "Numerical input variables may have a highly skewed or non-standard distribution.\n",
    "\n",
    "This could be caused by outliers in the data, multi-modal distributions, highly exponential distributions, and more."
   ]
  },
  {
   "cell_type": "code",
   "execution_count": 59,
   "id": "6927118f",
   "metadata": {},
   "outputs": [],
   "source": [
    "#doing fit only on the train, transform on both\n",
    "X2=X_train.copy()\n",
    "Y2=X_test.copy()"
   ]
  },
  {
   "cell_type": "code",
   "execution_count": 60,
   "id": "e306100b",
   "metadata": {},
   "outputs": [
    {
     "data": {
      "text/plain": [
       "array([[<AxesSubplot:title={'center':'0'}>]], dtype=object)"
      ]
     },
     "execution_count": 60,
     "metadata": {},
     "output_type": "execute_result"
    },
    {
     "data": {
      "image/png": "[encoded data removed]",
      "text/plain": [
       "<Figure size 432x288 with 1 Axes>"
      ]
     },
     "metadata": {
      "needs_background": "light"
     },
     "output_type": "display_data"
    }
   ],
   "source": [
    "\n",
    "data1 = pd.DataFrame(X2, columns=['Wind Bearing (degrees)'])\n",
    "data1 = data1.dropna()\n",
    "data2 = pd.DataFrame(Y2, columns=['Wind Bearing (degrees)'])\n",
    "data2 = data2.dropna()\n",
    "discretizer = KBinsDiscretizer(n_bins=8, encode='ordinal', strategy='uniform')\n",
    "discretizer.fit(data1)\n",
    "_discretize1 = discretizer.transform(data1)\n",
    "_discretize2 = discretizer.transform(data2)\n",
    "X_dis = pd.DataFrame(_discretize1)\n",
    "Y_dis = pd.DataFrame(_discretize2)\n",
    "X_dis.hist()"
   ]
  },
  {
   "cell_type": "markdown",
   "id": "a1dff9e7",
   "metadata": {},
   "source": [
    "checking out which features have the highest correlation with the target variable - Apparent Temperature\n"
   ]
  },
  {
   "cell_type": "code",
   "execution_count": 61,
   "id": "7cb64583",
   "metadata": {},
   "outputs": [
    {
     "data": {
      "text/plain": [
       "Index(['Apparent Temperature (C)', 'Temperature (C)', 'Visibility (km)',\n",
       "       'Pressure (millibars)', 'Humidity'],\n",
       "      dtype='object')"
      ]
     },
     "execution_count": 61,
     "metadata": {},
     "output_type": "execute_result"
    }
   ],
   "source": [
    "corr_matrix = train_numeric.corr()\n",
    "corralations = corr_matrix['Apparent Temperature (C)'].sort_values(ascending = False) \n",
    "high_corr = (corralations > 0.2)|(corralations < -0.2)\n",
    "pd.DataFrame(corralations[high_corr])\n",
    "corralations[high_corr].index"
   ]
  },
  {
   "cell_type": "code",
   "execution_count": 62,
   "id": "cdeffd00",
   "metadata": {},
   "outputs": [
    {
     "name": "stdout",
     "output_type": "stream",
     "text": [
      "heatmap of the high correlations with  Apparent Temperature:\n"
     ]
    },
    {
     "data": {
      "image/png": "[encoded data removed]",
      "text/plain": [
       "<Figure size 864x864 with 2 Axes>"
      ]
     },
     "metadata": {
      "needs_background": "light"
     },
     "output_type": "display_data"
    }
   ],
   "source": [
    "# cmap = sns.diverging_palette(30, 230, 90, 20, as_cmap=True)\n",
    "print(\"heatmap of the high correlations with  Apparent Temperature:\")\n",
    "fig, ax = plt.subplots(figsize=(12,12))\n",
    "sns.heatmap(train_numeric[corralations[high_corr].index].corr(),annot=True)\n",
    "sns.set(font_scale=1)"
   ]
  },
  {
   "cell_type": "code",
   "execution_count": 63,
   "id": "23369f42",
   "metadata": {},
   "outputs": [
    {
     "data": {
      "text/html": [
       "<div>\n",
       "<style scoped>\n",
       "    .dataframe tbody tr th:only-of-type {\n",
       "        vertical-align: middle;\n",
       "    }\n",
       "\n",
       "    .dataframe tbody tr th {\n",
       "        vertical-align: top;\n",
       "    }\n",
       "\n",
       "    .dataframe thead th {\n",
       "        text-align: right;\n",
       "    }\n",
       "</style>\n",
       "<table border=\"1\" class=\"dataframe\">\n",
       "  <thead>\n",
       "    <tr style=\"text-align: right;\">\n",
       "      <th></th>\n",
       "      <th>Temperature (C)</th>\n",
       "      <th>Humidity</th>\n",
       "      <th>Wind Speed (km/h)</th>\n",
       "      <th>Wind Bearing (degrees)</th>\n",
       "      <th>Visibility (km)</th>\n",
       "      <th>Pressure (millibars)</th>\n",
       "      <th>Apparent Temperature (C)</th>\n",
       "    </tr>\n",
       "  </thead>\n",
       "  <tbody>\n",
       "    <tr>\n",
       "      <th>49839</th>\n",
       "      <td>20.811111</td>\n",
       "      <td>1.786038</td>\n",
       "      <td>2.930778</td>\n",
       "      <td>319.0</td>\n",
       "      <td>11.2700</td>\n",
       "      <td>1011.34</td>\n",
       "      <td>20.811111</td>\n",
       "    </tr>\n",
       "    <tr>\n",
       "      <th>23605</th>\n",
       "      <td>26.966667</td>\n",
       "      <td>1.476981</td>\n",
       "      <td>3.070826</td>\n",
       "      <td>223.0</td>\n",
       "      <td>10.3523</td>\n",
       "      <td>1010.61</td>\n",
       "      <td>26.777778</td>\n",
       "    </tr>\n",
       "    <tr>\n",
       "      <th>26053</th>\n",
       "      <td>16.022222</td>\n",
       "      <td>1.803988</td>\n",
       "      <td>3.147006</td>\n",
       "      <td>49.0</td>\n",
       "      <td>11.2700</td>\n",
       "      <td>1023.83</td>\n",
       "      <td>16.022222</td>\n",
       "    </tr>\n",
       "    <tr>\n",
       "      <th>3299</th>\n",
       "      <td>-7.172222</td>\n",
       "      <td>2.203396</td>\n",
       "      <td>1.819391</td>\n",
       "      <td>211.0</td>\n",
       "      <td>4.9910</td>\n",
       "      <td>1034.79</td>\n",
       "      <td>-9.805556</td>\n",
       "    </tr>\n",
       "    <tr>\n",
       "      <th>90469</th>\n",
       "      <td>6.144444</td>\n",
       "      <td>1.934792</td>\n",
       "      <td>2.364987</td>\n",
       "      <td>357.0</td>\n",
       "      <td>10.5777</td>\n",
       "      <td>1026.16</td>\n",
       "      <td>4.116667</td>\n",
       "    </tr>\n",
       "    <tr>\n",
       "      <th>...</th>\n",
       "      <td>...</td>\n",
       "      <td>...</td>\n",
       "      <td>...</td>\n",
       "      <td>...</td>\n",
       "      <td>...</td>\n",
       "      <td>...</td>\n",
       "      <td>...</td>\n",
       "    </tr>\n",
       "    <tr>\n",
       "      <th>6265</th>\n",
       "      <td>14.511111</td>\n",
       "      <td>2.316367</td>\n",
       "      <td>1.811529</td>\n",
       "      <td>137.0</td>\n",
       "      <td>14.5866</td>\n",
       "      <td>1018.20</td>\n",
       "      <td>14.511111</td>\n",
       "    </tr>\n",
       "    <tr>\n",
       "      <th>54964</th>\n",
       "      <td>-11.877778</td>\n",
       "      <td>2.339647</td>\n",
       "      <td>2.462891</td>\n",
       "      <td>202.0</td>\n",
       "      <td>3.5742</td>\n",
       "      <td>1012.02</td>\n",
       "      <td>-17.744444</td>\n",
       "    </tr>\n",
       "    <tr>\n",
       "      <th>76963</th>\n",
       "      <td>6.755556</td>\n",
       "      <td>2.459603</td>\n",
       "      <td>2.460144</td>\n",
       "      <td>150.0</td>\n",
       "      <td>14.8120</td>\n",
       "      <td>1012.90</td>\n",
       "      <td>4.633333</td>\n",
       "    </tr>\n",
       "    <tr>\n",
       "      <th>860</th>\n",
       "      <td>19.161111</td>\n",
       "      <td>2.270500</td>\n",
       "      <td>0.572560</td>\n",
       "      <td>121.0</td>\n",
       "      <td>9.9820</td>\n",
       "      <td>1012.44</td>\n",
       "      <td>19.161111</td>\n",
       "    </tr>\n",
       "    <tr>\n",
       "      <th>15795</th>\n",
       "      <td>5.000000</td>\n",
       "      <td>2.459603</td>\n",
       "      <td>2.469725</td>\n",
       "      <td>223.0</td>\n",
       "      <td>14.0875</td>\n",
       "      <td>1015.48</td>\n",
       "      <td>2.500000</td>\n",
       "    </tr>\n",
       "  </tbody>\n",
       "</table>\n",
       "<p>76748 rows × 7 columns</p>\n",
       "</div>"
      ],
      "text/plain": [
       "       Temperature (C)  Humidity  Wind Speed (km/h)  Wind Bearing (degrees)  \\\n",
       "49839        20.811111  1.786038           2.930778                   319.0   \n",
       "23605        26.966667  1.476981           3.070826                   223.0   \n",
       "26053        16.022222  1.803988           3.147006                    49.0   \n",
       "3299         -7.172222  2.203396           1.819391                   211.0   \n",
       "90469         6.144444  1.934792           2.364987                   357.0   \n",
       "...                ...       ...                ...                     ...   \n",
       "6265         14.511111  2.316367           1.811529                   137.0   \n",
       "54964       -11.877778  2.339647           2.462891                   202.0   \n",
       "76963         6.755556  2.459603           2.460144                   150.0   \n",
       "860          19.161111  2.270500           0.572560                   121.0   \n",
       "15795         5.000000  2.459603           2.469725                   223.0   \n",
       "\n",
       "       Visibility (km)  Pressure (millibars)  Apparent Temperature (C)  \n",
       "49839          11.2700               1011.34                 20.811111  \n",
       "23605          10.3523               1010.61                 26.777778  \n",
       "26053          11.2700               1023.83                 16.022222  \n",
       "3299            4.9910               1034.79                 -9.805556  \n",
       "90469          10.5777               1026.16                  4.116667  \n",
       "...                ...                   ...                       ...  \n",
       "6265           14.5866               1018.20                 14.511111  \n",
       "54964           3.5742               1012.02                -17.744444  \n",
       "76963          14.8120               1012.90                  4.633333  \n",
       "860             9.9820               1012.44                 19.161111  \n",
       "15795          14.0875               1015.48                  2.500000  \n",
       "\n",
       "[76748 rows x 7 columns]"
      ]
     },
     "execution_count": 63,
     "metadata": {},
     "output_type": "execute_result"
    }
   ],
   "source": [
    "train_numeric"
   ]
  },
  {
   "cell_type": "code",
   "execution_count": 64,
   "id": "19888b9d",
   "metadata": {},
   "outputs": [],
   "source": [
    "# sns.pairplot(weather,hue='Wind Bearing (degrees)', kind='scatter')"
   ]
  },
  {
   "cell_type": "code",
   "execution_count": 65,
   "id": "24be4caf",
   "metadata": {
    "scrolled": true
   },
   "outputs": [
    {
     "data": {
      "text/plain": [
       "49839    319.0\n",
       "23605    223.0\n",
       "26053     49.0\n",
       "3299     211.0\n",
       "90469    357.0\n",
       "         ...  \n",
       "6265     137.0\n",
       "54964    202.0\n",
       "76963    150.0\n",
       "860      121.0\n",
       "15795    223.0\n",
       "Name: Wind Bearing (degrees), Length: 76748, dtype: float64"
      ]
     },
     "execution_count": 65,
     "metadata": {},
     "output_type": "execute_result"
    }
   ],
   "source": [
    "X_train2['Wind Bearing (degrees)']"
   ]
  },
  {
   "cell_type": "code",
   "execution_count": 66,
   "id": "e675944a",
   "metadata": {
    "scrolled": false
   },
   "outputs": [
    {
     "data": {
      "text/plain": [
       "<seaborn.axisgrid.PairGrid at 0x1ac3299d310>"
      ]
     },
     "execution_count": 66,
     "metadata": {},
     "output_type": "execute_result"
    },
    {
     "data": {
      "image/png": "[encoded data removed]",
      "text/plain": [
       "<Figure size 1764x504 with 5 Axes>"
      ]
     },
     "metadata": {},
     "output_type": "display_data"
    }
   ],
   "source": [
    "# visualize the relationship between the features and the response using scatterplots\n",
    "sns.pairplot(train_numeric, x_vars=['Temperature (C)','Humidity','Wind Speed (km/h)','Wind Bearing (degrees)','Visibility (km)'], y_vars='Apparent Temperature (C)', height=7, aspect=0.7, kind='reg')"
   ]
  },
  {
   "cell_type": "code",
   "execution_count": 67,
   "id": "22fc39e5",
   "metadata": {
    "scrolled": false
   },
   "outputs": [],
   "source": [
    "# sns.scatterplot(data=train_numeric, x='Temperature (C)', y= 'Wind Speed (km/h)')"
   ]
  },
  {
   "cell_type": "markdown",
   "id": "9067264e",
   "metadata": {},
   "source": [
    " we can see that temperature, humidity and visibility are highly correlated to the apparent temperature in comparison to other features"
   ]
  },
  {
   "cell_type": "markdown",
   "id": "fe6888c3",
   "metadata": {},
   "source": [
    "### replacing a feature with a better one - \n",
    "we tried to create 2 more features, but they didn't improved our dataset in order to predict the apparent temperature.\n",
    "the features:\n",
    "1. middle of year -  checks if the month is in the middle of the year , or the beggining or the end - we have set the beggining of the middle to be the 5th month, and the end of the middle to be the 9th month ( if its in the middle of the year - true, if it isn't - false.\n",
    "2. weather['wind-visibility-ratio']=weather['Wind Speed (km/h)']/weather['Visibility (km)'] - it gave a higher correlation than wind speed, but it didn't improved anything since we had to get rid of one of the features that we assumed is very beneficial to the prediction\n"
   ]
  },
  {
   "cell_type": "code",
   "execution_count": null,
   "id": "57556ce6",
   "metadata": {
    "scrolled": false
   },
   "outputs": [],
   "source": [
    "sns.scatterplot(data=weather, x='Visibility (km)', y=\"Wind Speed (km/h)\")"
   ]
  },
  {
   "cell_type": "markdown",
   "id": "00e16c15",
   "metadata": {},
   "source": [
    "# categorial features correlation:"
   ]
  },
  {
   "cell_type": "code",
   "execution_count": null,
   "id": "10fd9790",
   "metadata": {
    "scrolled": false
   },
   "outputs": [],
   "source": [
    "weather_copy"
   ]
  },
  {
   "cell_type": "markdown",
   "id": "f93415ec",
   "metadata": {},
   "source": [
    "we took samples of catagories from the \"Summary\" feature, in order to see the relations between this feature and the \"Precip Type\" feature with the target"
   ]
  },
  {
   "cell_type": "code",
   "execution_count": null,
   "id": "4921719e",
   "metadata": {},
   "outputs": [],
   "source": [
    "sns.set_theme(style=\"whitegrid\")\n",
    "ax = sns.stripplot(x=\"Summary\", y='Apparent Temperature (C)',hue='Precip Type',order=['Rain','Partly Cloudy','Overcast','Foggy','Breezy'], data=weather_copy , linewidth= 1, size=5)"
   ]
  },
  {
   "cell_type": "markdown",
   "id": "d4a3ce0e",
   "metadata": {},
   "source": [
    "*here we can see what we think intuitively - the apparent temperature, i.e., the temperature we as humans feel is higher when there's snow comparing to when it rains. \n",
    "\n",
    "*We assumed that if there's an overcast, the apparent temperatue is lower, but here we can see that it's not neccesarily the case, so we can't say there's a strong correlation between the overcast catagory in Summary and the apparent temperatue.\n",
    "\n",
    "*another thing we see here is that when it rains, the apparent temperature can vary from 0 to 40 approximately, which means that it's hard to predict what temperature  we would feel when the precip type is rain. "
   ]
  },
  {
   "cell_type": "code",
   "execution_count": null,
   "id": "4e19d1ce",
   "metadata": {},
   "outputs": [],
   "source": [
    "# import matplotlib.pyplot as plt\n",
    "# weather.plot(x='Apparent Temperature (C)', y=[\"precip_type\"])\n",
    "# plt.show()"
   ]
  },
  {
   "cell_type": "code",
   "execution_count": null,
   "id": "cafd4e65",
   "metadata": {},
   "outputs": [],
   "source": [
    "# AT_column = train['Apparent Temperature (C)']"
   ]
  },
  {
   "cell_type": "code",
   "execution_count": null,
   "id": "f6dc736e",
   "metadata": {
    "scrolled": true
   },
   "outputs": [],
   "source": [
    "# AT_column.plot(kind=\"hist\")\n",
    "# AxesSubplot='Frequency'"
   ]
  },
  {
   "cell_type": "markdown",
   "id": "bd6cf790",
   "metadata": {},
   "source": [
    "##### this means that the most frequent Apparent Temperature is in the range between 10 to 20 celcius"
   ]
  },
  {
   "cell_type": "code",
   "execution_count": null,
   "id": "fdc2ca98",
   "metadata": {},
   "outputs": [],
   "source": []
  },
  {
   "cell_type": "markdown",
   "id": "cfad377c",
   "metadata": {},
   "source": [
    "# numerical  features correlation:"
   ]
  },
  {
   "cell_type": "code",
   "execution_count": null,
   "id": "a7b4d1a4",
   "metadata": {
    "scrolled": true
   },
   "outputs": [],
   "source": [
    "# fig , axs = plt.subplots(ncols=7,nrows=2, figsize=(20,10))\n",
    "# index=0\n",
    "# axs= axs.flatten()\n",
    "# for k ,v in weather.items():\n",
    "#     sns.boxplot(y=k, data=weather , ax=axs[index])\n",
    "#     index +=1\n",
    "# plt.tight_layout(pad=0.4, w_pad=0.5, h_pad=5.0)"
   ]
  },
  {
   "cell_type": "code",
   "execution_count": null,
   "id": "c6285c2a",
   "metadata": {},
   "outputs": [],
   "source": [
    "# *temperature ,apparant temperature and humidity features has outliers after the min, but not a lot\n",
    "\n",
    "# *wind speed - a lot of outliers , varies less and therefore, easier to predict\n",
    "\n",
    "# *most of  the values of wind bearing and visibility features are in the top 50% - the higher values , in contrast to apparant temperature and humidity.\n"
   ]
  },
  {
   "cell_type": "code",
   "execution_count": null,
   "id": "7e4ad45b",
   "metadata": {},
   "outputs": [],
   "source": [
    "# sns.pairplot(df[['Selling_Price', 'Present_Price', 'Kms_Driven', 'Car_Age']], kind='reg')"
   ]
  },
  {
   "cell_type": "code",
   "execution_count": null,
   "id": "d8012bd6",
   "metadata": {
    "scrolled": true
   },
   "outputs": [],
   "source": [
    "# visualize the relationship between the features and the response using scatterplots\n",
    "# sns.pairplot(train_numeric, height=7, aspect=0.7, kind='reg')"
   ]
  },
  {
   "cell_type": "code",
   "execution_count": null,
   "id": "350c1de5",
   "metadata": {
    "scrolled": true
   },
   "outputs": [],
   "source": [
    "import seaborn as sns; #sns.set_theme(color_codes=True)\n",
    "ax = sns.regplot(x='Wind Speed (km/h)', y=\"Apparent Temperature (C)\", data=weather)"
   ]
  },
  {
   "cell_type": "code",
   "execution_count": null,
   "id": "3a9848b3",
   "metadata": {
    "scrolled": true
   },
   "outputs": [],
   "source": [
    "# import seaborn as sns\n",
    "# sns.set_theme(style=\"whitegrid\")\n",
    "# ax = sns.boxplot(x=\"Visibility (km)\", y=\"Wind Speed (km/h)\", data=weather)"
   ]
  },
  {
   "cell_type": "code",
   "execution_count": null,
   "id": "ed58ff96",
   "metadata": {},
   "outputs": [],
   "source": [
    "# fig, axes = plt.subplots(2, 2, figsize=(15, 15))\n",
    "# fig.suptitle('categorial features:')\n",
    "# ax = sns.swarmplot(x=weather_copy[\"Summary\"])"
   ]
  },
  {
   "cell_type": "markdown",
   "id": "df912fec",
   "metadata": {},
   "source": [
    "now let's see the correlation between the features after the few changes we did:"
   ]
  },
  {
   "cell_type": "code",
   "execution_count": null,
   "id": "953bd826",
   "metadata": {
    "scrolled": true
   },
   "outputs": [],
   "source": [
    "corr_matrix = weather.corr()\n",
    "corr_matrix['Apparent Temperature (C)'].sort_values(ascending=False)"
   ]
  },
  {
   "cell_type": "code",
   "execution_count": null,
   "id": "7f57b746",
   "metadata": {
    "scrolled": true
   },
   "outputs": [],
   "source": [
    "#['Apparent Temperature (C)']=y_train\n",
    "# sns.heatmap(X_train2.corr(),annot=True);\n"
   ]
  },
  {
   "cell_type": "code",
   "execution_count": null,
   "id": "98d95db0",
   "metadata": {
    "scrolled": true
   },
   "outputs": [],
   "source": [
    "X_train.head()\n",
    "# delete presure , day month weekday ...\n",
    "#percip type and summary are catagorials"
   ]
  },
  {
   "cell_type": "code",
   "execution_count": null,
   "id": "e4da1724",
   "metadata": {},
   "outputs": [],
   "source": [
    "# scaler_standard = StandardScaler()\n"
   ]
  },
  {
   "cell_type": "code",
   "execution_count": null,
   "id": "bce6ca61",
   "metadata": {},
   "outputs": [],
   "source": []
  },
  {
   "cell_type": "code",
   "execution_count": null,
   "id": "65643176",
   "metadata": {},
   "outputs": [],
   "source": [
    "print('note: the mean is 0 and std is 1')\n",
    "X_train_standardized.describe()[numerical_features].iloc[[1, 2]]"
   ]
  },
  {
   "cell_type": "code",
   "execution_count": null,
   "id": "789db6a9",
   "metadata": {},
   "outputs": [],
   "source": [
    "X_train_scale=X_train.copy()\n",
    "y_train_scale=y_train.copy()"
   ]
  },
  {
   "cell_type": "markdown",
   "id": "d7f7d4b4",
   "metadata": {},
   "source": [
    "deleting the encoded variables (categorials)"
   ]
  },
  {
   "cell_type": "markdown",
   "id": "070122ef",
   "metadata": {},
   "source": [
    "*on the train set -fit and transform "
   ]
  },
  {
   "cell_type": "markdown",
   "id": "5c647d0a",
   "metadata": {},
   "source": [
    "*on the test set -transform only "
   ]
  },
  {
   "cell_type": "markdown",
   "id": "45e4e705",
   "metadata": {},
   "source": [
    "## old version of scALING"
   ]
  },
  {
   "cell_type": "code",
   "execution_count": null,
   "id": "14740b51",
   "metadata": {},
   "outputs": [],
   "source": [
    "X_train_standardized = X_train.copy()\n",
    "X_test_standardized = X_test.copy()\n",
    "# X_train_normalized = X_train.copy()\n",
    "# X_test_normalized = X_test.copy()"
   ]
  },
  {
   "cell_type": "code",
   "execution_count": null,
   "id": "f664a940",
   "metadata": {},
   "outputs": [],
   "source": [
    "numerical_features = [\"Temperature (C)\",\"Humidity\",\"Wind Speed (km/h)\",\"Wind Bearing (degrees)\",\"Visibility (km)\",\"Pressure (millibars)\"]"
   ]
  },
  {
   "cell_type": "code",
   "execution_count": null,
   "id": "2741d90d",
   "metadata": {},
   "outputs": [],
   "source": [
    "# # Standardization:\n",
    "# scaler_standard.fit(X_train[numerical_features])\n",
    "# X_train_standardized[numerical_features] = scaler_standard.transform(X_train_standardized[numerical_features])\n",
    "\n",
    "# # the scaling is with the the same fitted scaler (by the train data)\n",
    "# #only transform on the test data\n",
    "# X_test_standardized[numerical_features] = scaler_standard.transform(X_test_standardized[numerical_features])"
   ]
  },
  {
   "cell_type": "code",
   "execution_count": null,
   "id": "833de946",
   "metadata": {},
   "outputs": [],
   "source": [
    "print('note: the mean is 0 and std is 1')\n",
    "X_train_standardized.describe()[numerical_features].iloc[[1, 2]]"
   ]
  },
  {
   "cell_type": "markdown",
   "id": "fc5806a2",
   "metadata": {},
   "source": [
    "*** in this part we do not touch the test set!\n",
    " \n",
    " \n",
    " we will only use the test set for the dummy model , and after the cross validation"
   ]
  },
  {
   "cell_type": "markdown",
   "id": "08c2c479",
   "metadata": {},
   "source": [
    "the data is imbalanced as we can see from the histogram below"
   ]
  },
  {
   "cell_type": "markdown",
   "id": "53077ba3",
   "metadata": {},
   "source": [
    "## dummy model"
   ]
  },
  {
   "cell_type": "code",
   "execution_count": 68,
   "id": "7ceed314",
   "metadata": {},
   "outputs": [],
   "source": [
    "from sklearn.dummy import DummyRegressor\n",
    "\n",
    "from sklearn.metrics import mean_absolute_error as MAE\n",
    "\n",
    "from matplotlib import pyplot\n",
    "from sklearn.metrics import mean_squared_error\n",
    "\n"
   ]
  },
  {
   "cell_type": "code",
   "execution_count": 69,
   "id": "569cce37",
   "metadata": {
    "scrolled": true
   },
   "outputs": [
    {
     "name": "stdout",
     "output_type": "stream",
     "text": [
      "The dummy model have a root mean squared error of 10.71242142413828\n"
     ]
    }
   ],
   "source": [
    "dummy_regr = DummyRegressor(strategy=\"mean\")\n",
    "dummy_regr.fit(X_train, y_train)\n",
    "R2_score = dummy_regr.score(X_test, y_test)\n",
    "y_predict = dummy_regr.predict(X_test)\n",
    "mae = MAE(y_test, y_predict)\n",
    "rmse= mean_squared_error(y_test, y_predict, squared=False)\n",
    "\n",
    "\n",
    "print ('The dummy model have a root mean squared error of '+ str(rmse) )\n",
    "\n",
    "# errorsRMSE"
   ]
  },
  {
   "cell_type": "code",
   "execution_count": 70,
   "id": "c56b77b7",
   "metadata": {
    "scrolled": false
   },
   "outputs": [
    {
     "name": "stdout",
     "output_type": "stream",
     "text": [
      "The dummy model have a R2 score of -2.208 as expected (around 0), and mean absolute error of 9.01\n"
     ]
    }
   ],
   "source": [
    "print('The dummy model have a R2 score of ' + str(R2_score)[:6] + \" as expected (around 0), and mean absolute error of \" + str(mae)[:4])"
   ]
  },
  {
   "cell_type": "markdown",
   "id": "c38ffab2",
   "metadata": {},
   "source": [
    "# The dummy model have a R2 score of -7.151 as expected (around 0), and mean absolute error of 9.02"
   ]
  },
  {
   "cell_type": "markdown",
   "id": "1a98f23b",
   "metadata": {},
   "source": [
    "# comparing different Regression Models"
   ]
  },
  {
   "cell_type": "markdown",
   "id": "7f52b4c8",
   "metadata": {},
   "source": [
    "*cross validation allows us to compare different machine learning methods and get a sense of how well they will work in practice. the advantage here, is that it uses different blocks of data for train and test, and by that, \"prepare\" the model in the best way to predict outcome for new data  "
   ]
  },
  {
   "cell_type": "markdown",
   "id": "67bf366d",
   "metadata": {},
   "source": [
    " # Linear Regression"
   ]
  },
  {
   "cell_type": "code",
   "execution_count": 74,
   "id": "f72d6be6",
   "metadata": {},
   "outputs": [
    {
     "data": {
      "text/plain": [
       "Precip Type                            False\n",
       "Temperature (C)                        False\n",
       "Humidity                               False\n",
       "Wind Speed (km/h)                      False\n",
       "Wind Bearing (degrees)                 False\n",
       "Visibility (km)                        False\n",
       "Pressure (millibars)                   False\n",
       "Breezy                                 False\n",
       "Breezy and Dry                         False\n",
       "Breezy and Foggy                       False\n",
       "Breezy and Mostly Cloudy               False\n",
       "Breezy and Overcast                    False\n",
       "Breezy and Partly Cloudy               False\n",
       "Clear                                  False\n",
       "Dangerously Windy and Partly Cloudy    False\n",
       "Drizzle                                False\n",
       "Dry                                    False\n",
       "Dry and Mostly Cloudy                  False\n",
       "Dry and Partly Cloudy                  False\n",
       "Foggy                                  False\n",
       "Humid and Mostly Cloudy                False\n",
       "Humid and Overcast                     False\n",
       "Humid and Partly Cloudy                False\n",
       "Light Rain                             False\n",
       "Mostly Cloudy                          False\n",
       "Overcast                               False\n",
       "Partly Cloudy                          False\n",
       "Rain                                   False\n",
       "Windy                                  False\n",
       "Windy and Dry                          False\n",
       "Windy and Foggy                        False\n",
       "Windy and Mostly Cloudy                False\n",
       "Windy and Overcast                     False\n",
       "Windy and Partly Cloudy                False\n",
       "dtype: bool"
      ]
     },
     "execution_count": 74,
     "metadata": {},
     "output_type": "execute_result"
    }
   ],
   "source": [
    "X_train.isnull().any()"
   ]
  },
  {
   "cell_type": "code",
   "execution_count": 75,
   "id": "5fe4b6db",
   "metadata": {},
   "outputs": [],
   "source": [
    "from sklearn.linear_model import LinearRegression\n",
    "from sklearn.model_selection import KFold\n",
    "from sklearn.model_selection import cross_val_predict\n",
    "from sklearn.model_selection import cross_val_score"
   ]
  },
  {
   "cell_type": "code",
   "execution_count": 76,
   "id": "144591f7",
   "metadata": {},
   "outputs": [],
   "source": [
    "LR = LinearRegression()"
   ]
  },
  {
   "cell_type": "code",
   "execution_count": 77,
   "id": "be16941c",
   "metadata": {},
   "outputs": [
    {
     "data": {
      "text/plain": [
       "49839    20.811111\n",
       "23605    26.777778\n",
       "26053    16.022222\n",
       "3299     -9.805556\n",
       "90469     4.116667\n",
       "           ...    \n",
       "6265     14.511111\n",
       "54964   -17.744444\n",
       "76963     4.633333\n",
       "860      19.161111\n",
       "15795     2.500000\n",
       "Name: Apparent Temperature (C), Length: 76748, dtype: float64"
      ]
     },
     "execution_count": 77,
     "metadata": {},
     "output_type": "execute_result"
    }
   ],
   "source": [
    "y_train"
   ]
  },
  {
   "cell_type": "code",
   "execution_count": 78,
   "id": "4604b03c",
   "metadata": {},
   "outputs": [],
   "source": [
    "kf = KFold(n_splits=10, random_state=42, shuffle=True)\n",
    "\n",
    "R2_scores_standardized = cross_val_score(LR, X_train_standardized, y_train, cv=kf)\n",
    "y_predict_standardized = cross_val_predict(LR, X_train_standardized, y_train, cv=kf)\n",
    "mae_standarsized = MAE(y_train, y_predict_standardized)\n",
    "\n",
    "R2_scores_normalized = cross_val_score(LR, X_train_normalized, y_train, cv=kf)\n",
    "y_predict_normalized = cross_val_predict(LR, X_train_normalized, y_train, cv=kf)\n",
    "mae_normalized = MAE(y_train, y_predict_normalized)"
   ]
  },
  {
   "cell_type": "code",
   "execution_count": 79,
   "id": "09bde279",
   "metadata": {},
   "outputs": [
    {
     "data": {
      "image/png": "[encoded data removed]",
      "text/plain": [
       "<Figure size 432x288 with 2 Axes>"
      ]
     },
     "metadata": {},
     "output_type": "display_data"
    }
   ],
   "source": [
    "fig, axes = plt.subplots(1,2)\n",
    "((ax1, ax2)) = axes\n",
    "\n",
    "y_predicted = cross_val_predict(LR, X_train_standardized, y_train, cv=kf)\n",
    "ax1.scatter(y_train, y_predicted, alpha=0.3, color='orange')\n",
    "ax1.plot([y_train.min(), y_train.max()], [y_train.min(), y_train.max()], 'k--', lw=4)\n",
    "ax1.set_xlabel('Actual')\n",
    "ax1.set_ylabel('Predicted')\n",
    "ax1.set_title('standardized:')\n",
    "\n",
    "y_predicted = cross_val_predict(LR, X_train_normalized, y_train, cv=kf)\n",
    "ax2.scatter(y_train, y_predicted, alpha=0.3, color='red')\n",
    "ax2.plot([y_train.min(), y_train.max()], [y_train.min(), y_train.max()], 'k--', lw=4)\n",
    "ax2.set_xlabel('Actual')\n",
    "ax2.set_ylabel('Predicted')\n",
    "ax2.set_title('normalized:')\n",
    "\n",
    "plt.show()\n"
   ]
  },
  {
   "cell_type": "code",
   "execution_count": null,
   "id": "cabb72a4",
   "metadata": {},
   "outputs": [],
   "source": [
    "#standadized train set cross validation:"
   ]
  },
  {
   "cell_type": "code",
   "execution_count": 80,
   "id": "2b6bbc96",
   "metadata": {},
   "outputs": [
    {
     "name": "stdout",
     "output_type": "stream",
     "text": [
      "the scores of cross validation are:\n",
      "[0.99047373 0.99018814 0.99014182 0.99034582 0.99037989 0.99029444\n",
      " 0.99031879 0.99026783 0.99029438 0.99029465]\n",
      "\n",
      "mean R2 is: 0.990 with std of  8.813 and MAE of 0.8347\n"
     ]
    }
   ],
   "source": [
    "print(\"the scores of cross validation are:\")\n",
    "print(R2_scores_standardized)\n",
    "print()\n",
    "print(\"mean R2 is: \" + str(R2_scores_standardized.mean())[:5] + \" with std of  \" + str(R2_scores_standardized.std())[:5] + \" and MAE of \" + str(mae_standarsized)[:6])"
   ]
  },
  {
   "cell_type": "code",
   "execution_count": 81,
   "id": "e8c92f4b",
   "metadata": {},
   "outputs": [],
   "source": [
    "#normalized train set cross validation:"
   ]
  },
  {
   "cell_type": "code",
   "execution_count": 82,
   "id": "20454da2",
   "metadata": {},
   "outputs": [
    {
     "name": "stdout",
     "output_type": "stream",
     "text": [
      "the scores of cross validation are:\n",
      "[ 9.90473771e-01  9.90188127e-01  9.90141822e-01  9.90345825e-01\n",
      "  9.90379888e-01  9.90294438e-01  9.90318786e-01  9.90267830e-01\n",
      "  9.90294338e-01 -1.85485819e+15]\n",
      "\n",
      "mean R2 is: -1854 with std of  55645 and MAE of 531062\n"
     ]
    }
   ],
   "source": [
    "print(\"the scores of cross validation are:\")\n",
    "print(R2_scores_normalized)\n",
    "print()\n",
    "print(\"mean R2 is: \" + str(R2_scores_normalized.mean())[:5] + \" with std of  \" + str(R2_scores_normalized.std())[:5] + \" and MAE of \" + str(mae_normalized)[:6])"
   ]
  },
  {
   "cell_type": "markdown",
   "id": "0d17fa3e",
   "metadata": {},
   "source": [
    "although the results are the same with normalized and standardized,\n",
    "we can see below that the feature values are definetly different "
   ]
  },
  {
   "cell_type": "code",
   "execution_count": 83,
   "id": "cc8510b9",
   "metadata": {},
   "outputs": [
    {
     "data": {
      "text/html": [
       "<div>\n",
       "<style scoped>\n",
       "    .dataframe tbody tr th:only-of-type {\n",
       "        vertical-align: middle;\n",
       "    }\n",
       "\n",
       "    .dataframe tbody tr th {\n",
       "        vertical-align: top;\n",
       "    }\n",
       "\n",
       "    .dataframe thead th {\n",
       "        text-align: right;\n",
       "    }\n",
       "</style>\n",
       "<table border=\"1\" class=\"dataframe\">\n",
       "  <thead>\n",
       "    <tr style=\"text-align: right;\">\n",
       "      <th></th>\n",
       "      <th>Precip Type</th>\n",
       "      <th>Temperature (C)</th>\n",
       "      <th>Humidity</th>\n",
       "      <th>Wind Speed (km/h)</th>\n",
       "      <th>Wind Bearing (degrees)</th>\n",
       "      <th>Visibility (km)</th>\n",
       "      <th>Pressure (millibars)</th>\n",
       "      <th>Breezy</th>\n",
       "      <th>Breezy and Dry</th>\n",
       "      <th>Breezy and Foggy</th>\n",
       "      <th>...</th>\n",
       "      <th>Mostly Cloudy</th>\n",
       "      <th>Overcast</th>\n",
       "      <th>Partly Cloudy</th>\n",
       "      <th>Rain</th>\n",
       "      <th>Windy</th>\n",
       "      <th>Windy and Dry</th>\n",
       "      <th>Windy and Foggy</th>\n",
       "      <th>Windy and Mostly Cloudy</th>\n",
       "      <th>Windy and Overcast</th>\n",
       "      <th>Windy and Partly Cloudy</th>\n",
       "    </tr>\n",
       "  </thead>\n",
       "  <tbody>\n",
       "    <tr>\n",
       "      <th>49839</th>\n",
       "      <td>0</td>\n",
       "      <td>0.687062</td>\n",
       "      <td>0.457456</td>\n",
       "      <td>0.702468</td>\n",
       "      <td>0.888579</td>\n",
       "      <td>0.700</td>\n",
       "      <td>0.359989</td>\n",
       "      <td>0</td>\n",
       "      <td>0</td>\n",
       "      <td>0</td>\n",
       "      <td>...</td>\n",
       "      <td>1</td>\n",
       "      <td>0</td>\n",
       "      <td>0</td>\n",
       "      <td>0</td>\n",
       "      <td>0</td>\n",
       "      <td>0</td>\n",
       "      <td>0</td>\n",
       "      <td>0</td>\n",
       "      <td>0</td>\n",
       "      <td>0</td>\n",
       "    </tr>\n",
       "    <tr>\n",
       "      <th>23605</th>\n",
       "      <td>0</td>\n",
       "      <td>0.787945</td>\n",
       "      <td>0.277592</td>\n",
       "      <td>0.736035</td>\n",
       "      <td>0.621170</td>\n",
       "      <td>0.643</td>\n",
       "      <td>0.340066</td>\n",
       "      <td>0</td>\n",
       "      <td>0</td>\n",
       "      <td>0</td>\n",
       "      <td>...</td>\n",
       "      <td>1</td>\n",
       "      <td>0</td>\n",
       "      <td>0</td>\n",
       "      <td>0</td>\n",
       "      <td>0</td>\n",
       "      <td>0</td>\n",
       "      <td>0</td>\n",
       "      <td>0</td>\n",
       "      <td>0</td>\n",
       "      <td>0</td>\n",
       "    </tr>\n",
       "    <tr>\n",
       "      <th>26053</th>\n",
       "      <td>0</td>\n",
       "      <td>0.608577</td>\n",
       "      <td>0.467903</td>\n",
       "      <td>0.754295</td>\n",
       "      <td>0.136490</td>\n",
       "      <td>0.700</td>\n",
       "      <td>0.700873</td>\n",
       "      <td>0</td>\n",
       "      <td>0</td>\n",
       "      <td>0</td>\n",
       "      <td>...</td>\n",
       "      <td>1</td>\n",
       "      <td>0</td>\n",
       "      <td>0</td>\n",
       "      <td>0</td>\n",
       "      <td>0</td>\n",
       "      <td>0</td>\n",
       "      <td>0</td>\n",
       "      <td>0</td>\n",
       "      <td>0</td>\n",
       "      <td>0</td>\n",
       "    </tr>\n",
       "    <tr>\n",
       "      <th>3299</th>\n",
       "      <td>1</td>\n",
       "      <td>0.228444</td>\n",
       "      <td>0.700349</td>\n",
       "      <td>0.436083</td>\n",
       "      <td>0.587744</td>\n",
       "      <td>0.310</td>\n",
       "      <td>1.000000</td>\n",
       "      <td>0</td>\n",
       "      <td>0</td>\n",
       "      <td>0</td>\n",
       "      <td>...</td>\n",
       "      <td>0</td>\n",
       "      <td>0</td>\n",
       "      <td>1</td>\n",
       "      <td>0</td>\n",
       "      <td>0</td>\n",
       "      <td>0</td>\n",
       "      <td>0</td>\n",
       "      <td>0</td>\n",
       "      <td>0</td>\n",
       "      <td>0</td>\n",
       "    </tr>\n",
       "    <tr>\n",
       "      <th>90469</th>\n",
       "      <td>0</td>\n",
       "      <td>0.446690</td>\n",
       "      <td>0.544027</td>\n",
       "      <td>0.566855</td>\n",
       "      <td>0.994429</td>\n",
       "      <td>0.657</td>\n",
       "      <td>0.764465</td>\n",
       "      <td>0</td>\n",
       "      <td>0</td>\n",
       "      <td>0</td>\n",
       "      <td>...</td>\n",
       "      <td>1</td>\n",
       "      <td>0</td>\n",
       "      <td>0</td>\n",
       "      <td>0</td>\n",
       "      <td>0</td>\n",
       "      <td>0</td>\n",
       "      <td>0</td>\n",
       "      <td>0</td>\n",
       "      <td>0</td>\n",
       "      <td>0</td>\n",
       "    </tr>\n",
       "    <tr>\n",
       "      <th>...</th>\n",
       "      <td>...</td>\n",
       "      <td>...</td>\n",
       "      <td>...</td>\n",
       "      <td>...</td>\n",
       "      <td>...</td>\n",
       "      <td>...</td>\n",
       "      <td>...</td>\n",
       "      <td>...</td>\n",
       "      <td>...</td>\n",
       "      <td>...</td>\n",
       "      <td>...</td>\n",
       "      <td>...</td>\n",
       "      <td>...</td>\n",
       "      <td>...</td>\n",
       "      <td>...</td>\n",
       "      <td>...</td>\n",
       "      <td>...</td>\n",
       "      <td>...</td>\n",
       "      <td>...</td>\n",
       "      <td>...</td>\n",
       "      <td>...</td>\n",
       "    </tr>\n",
       "    <tr>\n",
       "      <th>6265</th>\n",
       "      <td>0</td>\n",
       "      <td>0.583811</td>\n",
       "      <td>0.766095</td>\n",
       "      <td>0.434199</td>\n",
       "      <td>0.381616</td>\n",
       "      <td>0.906</td>\n",
       "      <td>0.547216</td>\n",
       "      <td>0</td>\n",
       "      <td>0</td>\n",
       "      <td>0</td>\n",
       "      <td>...</td>\n",
       "      <td>1</td>\n",
       "      <td>0</td>\n",
       "      <td>0</td>\n",
       "      <td>0</td>\n",
       "      <td>0</td>\n",
       "      <td>0</td>\n",
       "      <td>0</td>\n",
       "      <td>0</td>\n",
       "      <td>0</td>\n",
       "      <td>0</td>\n",
       "    </tr>\n",
       "    <tr>\n",
       "      <th>54964</th>\n",
       "      <td>1</td>\n",
       "      <td>0.151325</td>\n",
       "      <td>0.779643</td>\n",
       "      <td>0.590322</td>\n",
       "      <td>0.562674</td>\n",
       "      <td>0.222</td>\n",
       "      <td>0.378548</td>\n",
       "      <td>0</td>\n",
       "      <td>0</td>\n",
       "      <td>0</td>\n",
       "      <td>...</td>\n",
       "      <td>0</td>\n",
       "      <td>1</td>\n",
       "      <td>0</td>\n",
       "      <td>0</td>\n",
       "      <td>0</td>\n",
       "      <td>0</td>\n",
       "      <td>0</td>\n",
       "      <td>0</td>\n",
       "      <td>0</td>\n",
       "      <td>0</td>\n",
       "    </tr>\n",
       "    <tr>\n",
       "      <th>76963</th>\n",
       "      <td>0</td>\n",
       "      <td>0.456706</td>\n",
       "      <td>0.849455</td>\n",
       "      <td>0.589663</td>\n",
       "      <td>0.417827</td>\n",
       "      <td>0.920</td>\n",
       "      <td>0.402566</td>\n",
       "      <td>0</td>\n",
       "      <td>0</td>\n",
       "      <td>0</td>\n",
       "      <td>...</td>\n",
       "      <td>1</td>\n",
       "      <td>0</td>\n",
       "      <td>0</td>\n",
       "      <td>0</td>\n",
       "      <td>0</td>\n",
       "      <td>0</td>\n",
       "      <td>0</td>\n",
       "      <td>0</td>\n",
       "      <td>0</td>\n",
       "      <td>0</td>\n",
       "    </tr>\n",
       "    <tr>\n",
       "      <th>860</th>\n",
       "      <td>0</td>\n",
       "      <td>0.660020</td>\n",
       "      <td>0.739401</td>\n",
       "      <td>0.137235</td>\n",
       "      <td>0.337047</td>\n",
       "      <td>0.620</td>\n",
       "      <td>0.390011</td>\n",
       "      <td>0</td>\n",
       "      <td>0</td>\n",
       "      <td>0</td>\n",
       "      <td>...</td>\n",
       "      <td>1</td>\n",
       "      <td>0</td>\n",
       "      <td>0</td>\n",
       "      <td>0</td>\n",
       "      <td>0</td>\n",
       "      <td>0</td>\n",
       "      <td>0</td>\n",
       "      <td>0</td>\n",
       "      <td>0</td>\n",
       "      <td>0</td>\n",
       "    </tr>\n",
       "    <tr>\n",
       "      <th>15795</th>\n",
       "      <td>0</td>\n",
       "      <td>0.427934</td>\n",
       "      <td>0.849455</td>\n",
       "      <td>0.591960</td>\n",
       "      <td>0.621170</td>\n",
       "      <td>0.875</td>\n",
       "      <td>0.472980</td>\n",
       "      <td>0</td>\n",
       "      <td>0</td>\n",
       "      <td>0</td>\n",
       "      <td>...</td>\n",
       "      <td>0</td>\n",
       "      <td>1</td>\n",
       "      <td>0</td>\n",
       "      <td>0</td>\n",
       "      <td>0</td>\n",
       "      <td>0</td>\n",
       "      <td>0</td>\n",
       "      <td>0</td>\n",
       "      <td>0</td>\n",
       "      <td>0</td>\n",
       "    </tr>\n",
       "  </tbody>\n",
       "</table>\n",
       "<p>76748 rows × 34 columns</p>\n",
       "</div>"
      ],
      "text/plain": [
       "       Precip Type  Temperature (C)  Humidity  Wind Speed (km/h)  \\\n",
       "49839            0         0.687062  0.457456           0.702468   \n",
       "23605            0         0.787945  0.277592           0.736035   \n",
       "26053            0         0.608577  0.467903           0.754295   \n",
       "3299             1         0.228444  0.700349           0.436083   \n",
       "90469            0         0.446690  0.544027           0.566855   \n",
       "...            ...              ...       ...                ...   \n",
       "6265             0         0.583811  0.766095           0.434199   \n",
       "54964            1         0.151325  0.779643           0.590322   \n",
       "76963            0         0.456706  0.849455           0.589663   \n",
       "860              0         0.660020  0.739401           0.137235   \n",
       "15795            0         0.427934  0.849455           0.591960   \n",
       "\n",
       "       Wind Bearing (degrees)  Visibility (km)  Pressure (millibars)  Breezy  \\\n",
       "49839                0.888579            0.700              0.359989       0   \n",
       "23605                0.621170            0.643              0.340066       0   \n",
       "26053                0.136490            0.700              0.700873       0   \n",
       "3299                 0.587744            0.310              1.000000       0   \n",
       "90469                0.994429            0.657              0.764465       0   \n",
       "...                       ...              ...                   ...     ...   \n",
       "6265                 0.381616            0.906              0.547216       0   \n",
       "54964                0.562674            0.222              0.378548       0   \n",
       "76963                0.417827            0.920              0.402566       0   \n",
       "860                  0.337047            0.620              0.390011       0   \n",
       "15795                0.621170            0.875              0.472980       0   \n",
       "\n",
       "       Breezy and Dry  Breezy and Foggy  ...  Mostly Cloudy  Overcast  \\\n",
       "49839               0                 0  ...              1         0   \n",
       "23605               0                 0  ...              1         0   \n",
       "26053               0                 0  ...              1         0   \n",
       "3299                0                 0  ...              0         0   \n",
       "90469               0                 0  ...              1         0   \n",
       "...               ...               ...  ...            ...       ...   \n",
       "6265                0                 0  ...              1         0   \n",
       "54964               0                 0  ...              0         1   \n",
       "76963               0                 0  ...              1         0   \n",
       "860                 0                 0  ...              1         0   \n",
       "15795               0                 0  ...              0         1   \n",
       "\n",
       "       Partly Cloudy  Rain  Windy  Windy and Dry  Windy and Foggy  \\\n",
       "49839              0     0      0              0                0   \n",
       "23605              0     0      0              0                0   \n",
       "26053              0     0      0              0                0   \n",
       "3299               1     0      0              0                0   \n",
       "90469              0     0      0              0                0   \n",
       "...              ...   ...    ...            ...              ...   \n",
       "6265               0     0      0              0                0   \n",
       "54964              0     0      0              0                0   \n",
       "76963              0     0      0              0                0   \n",
       "860                0     0      0              0                0   \n",
       "15795              0     0      0              0                0   \n",
       "\n",
       "       Windy and Mostly Cloudy  Windy and Overcast  Windy and Partly Cloudy  \n",
       "49839                        0                   0                        0  \n",
       "23605                        0                   0                        0  \n",
       "26053                        0                   0                        0  \n",
       "3299                         0                   0                        0  \n",
       "90469                        0                   0                        0  \n",
       "...                        ...                 ...                      ...  \n",
       "6265                         0                   0                        0  \n",
       "54964                        0                   0                        0  \n",
       "76963                        0                   0                        0  \n",
       "860                          0                   0                        0  \n",
       "15795                        0                   0                        0  \n",
       "\n",
       "[76748 rows x 34 columns]"
      ]
     },
     "execution_count": 83,
     "metadata": {},
     "output_type": "execute_result"
    }
   ],
   "source": [
    "X_train_normalized"
   ]
  },
  {
   "cell_type": "code",
   "execution_count": 84,
   "id": "fffdcb39",
   "metadata": {},
   "outputs": [
    {
     "data": {
      "text/html": [
       "<div>\n",
       "<style scoped>\n",
       "    .dataframe tbody tr th:only-of-type {\n",
       "        vertical-align: middle;\n",
       "    }\n",
       "\n",
       "    .dataframe tbody tr th {\n",
       "        vertical-align: top;\n",
       "    }\n",
       "\n",
       "    .dataframe thead th {\n",
       "        text-align: right;\n",
       "    }\n",
       "</style>\n",
       "<table border=\"1\" class=\"dataframe\">\n",
       "  <thead>\n",
       "    <tr style=\"text-align: right;\">\n",
       "      <th></th>\n",
       "      <th>Precip Type</th>\n",
       "      <th>Temperature (C)</th>\n",
       "      <th>Humidity</th>\n",
       "      <th>Wind Speed (km/h)</th>\n",
       "      <th>Wind Bearing (degrees)</th>\n",
       "      <th>Visibility (km)</th>\n",
       "      <th>Pressure (millibars)</th>\n",
       "      <th>Breezy</th>\n",
       "      <th>Breezy and Dry</th>\n",
       "      <th>Breezy and Foggy</th>\n",
       "      <th>...</th>\n",
       "      <th>Mostly Cloudy</th>\n",
       "      <th>Overcast</th>\n",
       "      <th>Partly Cloudy</th>\n",
       "      <th>Rain</th>\n",
       "      <th>Windy</th>\n",
       "      <th>Windy and Dry</th>\n",
       "      <th>Windy and Foggy</th>\n",
       "      <th>Windy and Mostly Cloudy</th>\n",
       "      <th>Windy and Overcast</th>\n",
       "      <th>Windy and Partly Cloudy</th>\n",
       "    </tr>\n",
       "  </thead>\n",
       "  <tbody>\n",
       "    <tr>\n",
       "      <th>49839</th>\n",
       "      <td>0</td>\n",
       "      <td>0.925481</td>\n",
       "      <td>-0.871737</td>\n",
       "      <td>0.982444</td>\n",
       "      <td>1.223295</td>\n",
       "      <td>0.220327</td>\n",
       "      <td>-0.674807</td>\n",
       "      <td>0</td>\n",
       "      <td>0</td>\n",
       "      <td>0</td>\n",
       "      <td>...</td>\n",
       "      <td>1</td>\n",
       "      <td>0</td>\n",
       "      <td>0</td>\n",
       "      <td>0</td>\n",
       "      <td>0</td>\n",
       "      <td>0</td>\n",
       "      <td>0</td>\n",
       "      <td>0</td>\n",
       "      <td>0</td>\n",
       "      <td>0</td>\n",
       "    </tr>\n",
       "    <tr>\n",
       "      <th>23605</th>\n",
       "      <td>0</td>\n",
       "      <td>1.568290</td>\n",
       "      <td>-1.669177</td>\n",
       "      <td>1.193141</td>\n",
       "      <td>0.329556</td>\n",
       "      <td>0.000663</td>\n",
       "      <td>-0.769524</td>\n",
       "      <td>0</td>\n",
       "      <td>0</td>\n",
       "      <td>0</td>\n",
       "      <td>...</td>\n",
       "      <td>1</td>\n",
       "      <td>0</td>\n",
       "      <td>0</td>\n",
       "      <td>0</td>\n",
       "      <td>0</td>\n",
       "      <td>0</td>\n",
       "      <td>0</td>\n",
       "      <td>0</td>\n",
       "      <td>0</td>\n",
       "      <td>0</td>\n",
       "    </tr>\n",
       "    <tr>\n",
       "      <th>26053</th>\n",
       "      <td>0</td>\n",
       "      <td>0.425389</td>\n",
       "      <td>-0.825422</td>\n",
       "      <td>1.307751</td>\n",
       "      <td>-1.290344</td>\n",
       "      <td>0.220327</td>\n",
       "      <td>0.945768</td>\n",
       "      <td>0</td>\n",
       "      <td>0</td>\n",
       "      <td>0</td>\n",
       "      <td>...</td>\n",
       "      <td>1</td>\n",
       "      <td>0</td>\n",
       "      <td>0</td>\n",
       "      <td>0</td>\n",
       "      <td>0</td>\n",
       "      <td>0</td>\n",
       "      <td>0</td>\n",
       "      <td>0</td>\n",
       "      <td>0</td>\n",
       "      <td>0</td>\n",
       "    </tr>\n",
       "    <tr>\n",
       "      <th>3299</th>\n",
       "      <td>1</td>\n",
       "      <td>-1.996750</td>\n",
       "      <td>0.205142</td>\n",
       "      <td>-0.689594</td>\n",
       "      <td>0.217839</td>\n",
       "      <td>-1.282638</td>\n",
       "      <td>2.367826</td>\n",
       "      <td>0</td>\n",
       "      <td>0</td>\n",
       "      <td>0</td>\n",
       "      <td>...</td>\n",
       "      <td>0</td>\n",
       "      <td>0</td>\n",
       "      <td>1</td>\n",
       "      <td>0</td>\n",
       "      <td>0</td>\n",
       "      <td>0</td>\n",
       "      <td>0</td>\n",
       "      <td>0</td>\n",
       "      <td>0</td>\n",
       "      <td>0</td>\n",
       "    </tr>\n",
       "    <tr>\n",
       "      <th>90469</th>\n",
       "      <td>0</td>\n",
       "      <td>-0.606123</td>\n",
       "      <td>-0.487918</td>\n",
       "      <td>0.131234</td>\n",
       "      <td>1.577066</td>\n",
       "      <td>0.054615</td>\n",
       "      <td>1.248085</td>\n",
       "      <td>0</td>\n",
       "      <td>0</td>\n",
       "      <td>0</td>\n",
       "      <td>...</td>\n",
       "      <td>1</td>\n",
       "      <td>0</td>\n",
       "      <td>0</td>\n",
       "      <td>0</td>\n",
       "      <td>0</td>\n",
       "      <td>0</td>\n",
       "      <td>0</td>\n",
       "      <td>0</td>\n",
       "      <td>0</td>\n",
       "      <td>0</td>\n",
       "    </tr>\n",
       "    <tr>\n",
       "      <th>...</th>\n",
       "      <td>...</td>\n",
       "      <td>...</td>\n",
       "      <td>...</td>\n",
       "      <td>...</td>\n",
       "      <td>...</td>\n",
       "      <td>...</td>\n",
       "      <td>...</td>\n",
       "      <td>...</td>\n",
       "      <td>...</td>\n",
       "      <td>...</td>\n",
       "      <td>...</td>\n",
       "      <td>...</td>\n",
       "      <td>...</td>\n",
       "      <td>...</td>\n",
       "      <td>...</td>\n",
       "      <td>...</td>\n",
       "      <td>...</td>\n",
       "      <td>...</td>\n",
       "      <td>...</td>\n",
       "      <td>...</td>\n",
       "      <td>...</td>\n",
       "    </tr>\n",
       "    <tr>\n",
       "      <th>6265</th>\n",
       "      <td>0</td>\n",
       "      <td>0.267587</td>\n",
       "      <td>0.496632</td>\n",
       "      <td>-0.701421</td>\n",
       "      <td>-0.471084</td>\n",
       "      <td>1.014200</td>\n",
       "      <td>0.215277</td>\n",
       "      <td>0</td>\n",
       "      <td>0</td>\n",
       "      <td>0</td>\n",
       "      <td>...</td>\n",
       "      <td>1</td>\n",
       "      <td>0</td>\n",
       "      <td>0</td>\n",
       "      <td>0</td>\n",
       "      <td>0</td>\n",
       "      <td>0</td>\n",
       "      <td>0</td>\n",
       "      <td>0</td>\n",
       "      <td>0</td>\n",
       "      <td>0</td>\n",
       "    </tr>\n",
       "    <tr>\n",
       "      <th>54964</th>\n",
       "      <td>1</td>\n",
       "      <td>-2.488140</td>\n",
       "      <td>0.556700</td>\n",
       "      <td>0.278527</td>\n",
       "      <td>0.134051</td>\n",
       "      <td>-1.621768</td>\n",
       "      <td>-0.586577</td>\n",
       "      <td>0</td>\n",
       "      <td>0</td>\n",
       "      <td>0</td>\n",
       "      <td>...</td>\n",
       "      <td>0</td>\n",
       "      <td>1</td>\n",
       "      <td>0</td>\n",
       "      <td>0</td>\n",
       "      <td>0</td>\n",
       "      <td>0</td>\n",
       "      <td>0</td>\n",
       "      <td>0</td>\n",
       "      <td>0</td>\n",
       "      <td>0</td>\n",
       "    </tr>\n",
       "    <tr>\n",
       "      <th>76963</th>\n",
       "      <td>0</td>\n",
       "      <td>-0.542306</td>\n",
       "      <td>0.866215</td>\n",
       "      <td>0.274394</td>\n",
       "      <td>-0.350057</td>\n",
       "      <td>1.068153</td>\n",
       "      <td>-0.472397</td>\n",
       "      <td>0</td>\n",
       "      <td>0</td>\n",
       "      <td>0</td>\n",
       "      <td>...</td>\n",
       "      <td>1</td>\n",
       "      <td>0</td>\n",
       "      <td>0</td>\n",
       "      <td>0</td>\n",
       "      <td>0</td>\n",
       "      <td>0</td>\n",
       "      <td>0</td>\n",
       "      <td>0</td>\n",
       "      <td>0</td>\n",
       "      <td>0</td>\n",
       "    </tr>\n",
       "    <tr>\n",
       "      <th>860</th>\n",
       "      <td>0</td>\n",
       "      <td>0.753175</td>\n",
       "      <td>0.378285</td>\n",
       "      <td>-2.565402</td>\n",
       "      <td>-0.620041</td>\n",
       "      <td>-0.087974</td>\n",
       "      <td>-0.532082</td>\n",
       "      <td>0</td>\n",
       "      <td>0</td>\n",
       "      <td>0</td>\n",
       "      <td>...</td>\n",
       "      <td>1</td>\n",
       "      <td>0</td>\n",
       "      <td>0</td>\n",
       "      <td>0</td>\n",
       "      <td>0</td>\n",
       "      <td>0</td>\n",
       "      <td>0</td>\n",
       "      <td>0</td>\n",
       "      <td>0</td>\n",
       "      <td>0</td>\n",
       "    </tr>\n",
       "    <tr>\n",
       "      <th>15795</th>\n",
       "      <td>0</td>\n",
       "      <td>-0.725635</td>\n",
       "      <td>0.866215</td>\n",
       "      <td>0.288809</td>\n",
       "      <td>0.329556</td>\n",
       "      <td>0.894734</td>\n",
       "      <td>-0.137643</td>\n",
       "      <td>0</td>\n",
       "      <td>0</td>\n",
       "      <td>0</td>\n",
       "      <td>...</td>\n",
       "      <td>0</td>\n",
       "      <td>1</td>\n",
       "      <td>0</td>\n",
       "      <td>0</td>\n",
       "      <td>0</td>\n",
       "      <td>0</td>\n",
       "      <td>0</td>\n",
       "      <td>0</td>\n",
       "      <td>0</td>\n",
       "      <td>0</td>\n",
       "    </tr>\n",
       "  </tbody>\n",
       "</table>\n",
       "<p>76748 rows × 34 columns</p>\n",
       "</div>"
      ],
      "text/plain": [
       "       Precip Type  Temperature (C)  Humidity  Wind Speed (km/h)  \\\n",
       "49839            0         0.925481 -0.871737           0.982444   \n",
       "23605            0         1.568290 -1.669177           1.193141   \n",
       "26053            0         0.425389 -0.825422           1.307751   \n",
       "3299             1        -1.996750  0.205142          -0.689594   \n",
       "90469            0        -0.606123 -0.487918           0.131234   \n",
       "...            ...              ...       ...                ...   \n",
       "6265             0         0.267587  0.496632          -0.701421   \n",
       "54964            1        -2.488140  0.556700           0.278527   \n",
       "76963            0        -0.542306  0.866215           0.274394   \n",
       "860              0         0.753175  0.378285          -2.565402   \n",
       "15795            0        -0.725635  0.866215           0.288809   \n",
       "\n",
       "       Wind Bearing (degrees)  Visibility (km)  Pressure (millibars)  Breezy  \\\n",
       "49839                1.223295         0.220327             -0.674807       0   \n",
       "23605                0.329556         0.000663             -0.769524       0   \n",
       "26053               -1.290344         0.220327              0.945768       0   \n",
       "3299                 0.217839        -1.282638              2.367826       0   \n",
       "90469                1.577066         0.054615              1.248085       0   \n",
       "...                       ...              ...                   ...     ...   \n",
       "6265                -0.471084         1.014200              0.215277       0   \n",
       "54964                0.134051        -1.621768             -0.586577       0   \n",
       "76963               -0.350057         1.068153             -0.472397       0   \n",
       "860                 -0.620041        -0.087974             -0.532082       0   \n",
       "15795                0.329556         0.894734             -0.137643       0   \n",
       "\n",
       "       Breezy and Dry  Breezy and Foggy  ...  Mostly Cloudy  Overcast  \\\n",
       "49839               0                 0  ...              1         0   \n",
       "23605               0                 0  ...              1         0   \n",
       "26053               0                 0  ...              1         0   \n",
       "3299                0                 0  ...              0         0   \n",
       "90469               0                 0  ...              1         0   \n",
       "...               ...               ...  ...            ...       ...   \n",
       "6265                0                 0  ...              1         0   \n",
       "54964               0                 0  ...              0         1   \n",
       "76963               0                 0  ...              1         0   \n",
       "860                 0                 0  ...              1         0   \n",
       "15795               0                 0  ...              0         1   \n",
       "\n",
       "       Partly Cloudy  Rain  Windy  Windy and Dry  Windy and Foggy  \\\n",
       "49839              0     0      0              0                0   \n",
       "23605              0     0      0              0                0   \n",
       "26053              0     0      0              0                0   \n",
       "3299               1     0      0              0                0   \n",
       "90469              0     0      0              0                0   \n",
       "...              ...   ...    ...            ...              ...   \n",
       "6265               0     0      0              0                0   \n",
       "54964              0     0      0              0                0   \n",
       "76963              0     0      0              0                0   \n",
       "860                0     0      0              0                0   \n",
       "15795              0     0      0              0                0   \n",
       "\n",
       "       Windy and Mostly Cloudy  Windy and Overcast  Windy and Partly Cloudy  \n",
       "49839                        0                   0                        0  \n",
       "23605                        0                   0                        0  \n",
       "26053                        0                   0                        0  \n",
       "3299                         0                   0                        0  \n",
       "90469                        0                   0                        0  \n",
       "...                        ...                 ...                      ...  \n",
       "6265                         0                   0                        0  \n",
       "54964                        0                   0                        0  \n",
       "76963                        0                   0                        0  \n",
       "860                          0                   0                        0  \n",
       "15795                        0                   0                        0  \n",
       "\n",
       "[76748 rows x 34 columns]"
      ]
     },
     "execution_count": 84,
     "metadata": {},
     "output_type": "execute_result"
    }
   ],
   "source": [
    "X_train_standardized"
   ]
  },
  {
   "cell_type": "markdown",
   "id": "210aa93b",
   "metadata": {},
   "source": [
    "# Random Forest Regressor"
   ]
  },
  {
   "cell_type": "code",
   "execution_count": 85,
   "id": "8fb1c66d",
   "metadata": {},
   "outputs": [],
   "source": [
    "from sklearn.ensemble import RandomForestRegressor\n",
    "from sklearn.model_selection import cross_val_score\n",
    "from sklearn.model_selection import cross_val_predict"
   ]
  },
  {
   "cell_type": "code",
   "execution_count": 86,
   "id": "9cd3d0d1",
   "metadata": {},
   "outputs": [],
   "source": [
    "#RFR = RandomForestRegressor()"
   ]
  },
  {
   "cell_type": "code",
   "execution_count": 87,
   "id": "5850f438",
   "metadata": {},
   "outputs": [
    {
     "data": {
      "text/plain": [
       "RandomForestRegressor(max_depth=2, random_state=42)"
      ]
     },
     "execution_count": 87,
     "metadata": {},
     "output_type": "execute_result"
    }
   ],
   "source": [
    "regr = RandomForestRegressor(max_depth=2, random_state=42)\n",
    "regr.fit(X_train_standardized, y_train)"
   ]
  },
  {
   "cell_type": "code",
   "execution_count": 88,
   "id": "40ae9da7",
   "metadata": {},
   "outputs": [],
   "source": [
    "kf = KFold(n_splits=10, random_state=42, shuffle=True)"
   ]
  },
  {
   "cell_type": "code",
   "execution_count": 89,
   "id": "0653504b",
   "metadata": {},
   "outputs": [],
   "source": [
    "R2_scores_standardized = cross_val_score(regr, X_train_standardized, y_train, cv=kf)\n",
    "y_predict_standardized = cross_val_predict(regr, X_train_standardized, y_train, cv=kf)\n",
    "mae_standarsized = MAE(y_train, y_predict_standardized)"
   ]
  },
  {
   "cell_type": "code",
   "execution_count": 90,
   "id": "b0d53635",
   "metadata": {},
   "outputs": [],
   "source": [
    "# R2_scores_normalized = cross_val_score(regr, X_train_normalized, y_train, cv=kf)\n",
    "# y_predict_normalized = cross_val_predict(regr, X_train_normalized, y_train, cv=kf)\n",
    "# mae_normalized = MAE(y_train, y_predict_normalized)"
   ]
  },
  {
   "cell_type": "code",
   "execution_count": 91,
   "id": "c64f5ca5",
   "metadata": {},
   "outputs": [
    {
     "name": "stdout",
     "output_type": "stream",
     "text": [
      "the scores of cross validation are:\n",
      "[0.90955918 0.90891527 0.90512238 0.90632496 0.90769555 0.90906687\n",
      " 0.90480143 0.90576264 0.90657192 0.90752096]\n",
      "\n",
      "mean R2 is: 0.907 with std of  0.001 and MAE of 2.6521\n"
     ]
    }
   ],
   "source": [
    "print(\"the scores of cross validation are:\")\n",
    "print(R2_scores_standardized)\n",
    "print()\n",
    "print(\"mean R2 is: \" + str(R2_scores_standardized.mean())[:5] + \" with std of  \" + str(R2_scores_standardized.std())[:5] + \" and MAE of \" + str(mae_standarsized)[:6])"
   ]
  },
  {
   "cell_type": "code",
   "execution_count": 92,
   "id": "45edf5bb",
   "metadata": {},
   "outputs": [],
   "source": [
    "# print(\"the scores of cross validation are:\")\n",
    "# print(R2_scores_normalized)\n",
    "# print()\n",
    "# print(\"mean R2 is: \" + str(R2_scores_normalized.mean())[:5] + \" with std of  \" + str(R2_scores_normalized.std())[:5] + \" and MAE of \" + str(mae_normalized)[:6])"
   ]
  },
  {
   "cell_type": "markdown",
   "id": "249e0407",
   "metadata": {},
   "source": [
    "the results are not so good with the MAE metric. we will try to decrese the MAE and increase the R2 with random search - choosing the best hyperparameter for the random forest model."
   ]
  },
  {
   "cell_type": "code",
   "execution_count": 93,
   "id": "dd58b760",
   "metadata": {},
   "outputs": [
    {
     "ename": "SyntaxError",
     "evalue": "invalid syntax (<ipython-input-93-dca66189d0bb>, line 1)",
     "output_type": "error",
     "traceback": [
      "\u001b[1;36m  File \u001b[1;32m\"<ipython-input-93-dca66189d0bb>\"\u001b[1;36m, line \u001b[1;32m1\u001b[0m\n\u001b[1;33m    FEATURE IMPORTANCE\u001b[0m\n\u001b[1;37m            ^\u001b[0m\n\u001b[1;31mSyntaxError\u001b[0m\u001b[1;31m:\u001b[0m invalid syntax\n"
     ]
    }
   ],
   "source": [
    "FEATURE IMPORTANCE"
   ]
  },
  {
   "cell_type": "markdown",
   "id": "6db140ac",
   "metadata": {},
   "source": [
    " for regression trees its variance. So when training a tree we can compute how much each feature contributes to decreasing the weighted impurity. feature_importances_ in Scikit-Learn is based on that logic, but in the case of Random Forest, we are talking about averaging the decrease in impurity over trees."
   ]
  },
  {
   "cell_type": "code",
   "execution_count": null,
   "id": "8f4d4a1a",
   "metadata": {},
   "outputs": [],
   "source": []
  },
  {
   "cell_type": "code",
   "execution_count": null,
   "id": "a18c6eae",
   "metadata": {},
   "outputs": [],
   "source": [
    "# feature_imp = pd.Series(regr.feature_importances_, index = X.columns).sort_values(ascending=False)\n",
    "# # multiplying by a hundred to see importance in percentage\n",
    "# feature_imp "
   ]
  },
  {
   "cell_type": "markdown",
   "id": "cfeceeb3",
   "metadata": {},
   "source": [
    "# random search random forest"
   ]
  },
  {
   "cell_type": "markdown",
   "id": "0080c717",
   "metadata": {},
   "source": [
    "# hyperparameter tuning \n",
    "I will try to increase the R2 score and the MAE of the Random Forest Regressor model by choosing the best hyperparams."
   ]
  },
  {
   "cell_type": "markdown",
   "id": "9fc41ab6",
   "metadata": {},
   "source": [
    "## random search "
   ]
  },
  {
   "cell_type": "markdown",
   "id": "a73e942f",
   "metadata": {},
   "source": [
    "With small data sets and lots of resources, Grid Search will produce accurate results. However, with large data sets, the high dimensions will greatly slow down computation time and be very costly. Therefore, we chose to use random search for "
   ]
  },
  {
   "cell_type": "markdown",
   "id": "59181ca6",
   "metadata": {},
   "source": [
    "random search requires two arguments. The first is the model that you are optimizing. This is an instance of the model with values of hyperparameters set that you want to optimize. \n",
    "The second is the search space:\n",
    "This is defined as a dictionary where the names are the hyperparameter arguments to the model and the values are discrete values or a distribution of values to sample in the case of a random search."
   ]
  },
  {
   "cell_type": "code",
   "execution_count": 96,
   "id": "cfe83d68",
   "metadata": {},
   "outputs": [],
   "source": [
    "from sklearn.model_selection import RandomizedSearchCV\n",
    "from sklearn.model_selection import KFold\n",
    "from rfpimp import permutation_importances\n",
    "from sklearn.metrics import r2_score\n"
   ]
  },
  {
   "cell_type": "code",
   "execution_count": 97,
   "id": "26a89d05",
   "metadata": {},
   "outputs": [],
   "source": [
    "kf = KFold(n_splits=10, random_state=42, shuffle=True)"
   ]
  },
  {
   "cell_type": "code",
   "execution_count": 120,
   "id": "3abb8d70",
   "metadata": {},
   "outputs": [
    {
     "name": "stdout",
     "output_type": "stream",
     "text": [
      "{'n_estimators': [10, 64, 118, 173, 227, 282, 336, 391, 445, 500], 'max_features': ['auto'], 'max_depth': [10, 20, 30, 40, 50, 60, 70, 80, 90, 100, 110, None], 'min_samples_split': [2, 5, 10], 'min_samples_leaf': [1, 2, 4], 'bootstrap': [True, False]}\n"
     ]
    }
   ],
   "source": [
    "# Number of trees in random forest\n",
    "# to get better resluts and hyperparameters , i increased the number of estimators.\n",
    "n_estimators = [int(x) for x in np.linspace(start = 10, stop = 500, num = 10)]\n",
    "\n",
    "# Number of features to consider at every split\n",
    "#If “auto”, then max_features=n_features.\n",
    "max_features = ['auto']\n",
    "\n",
    "# Maximum number of levels in tree\n",
    "# to get better resluts and hyperparameters , i made the depth wider.\n",
    "max_depth = [int(x) for x in np.linspace(10, 110, num = 11)]\n",
    "max_depth.append(None)\n",
    "\n",
    "# Minimum number of samples required to split a node\n",
    "min_samples_split = [2, 5, 10]\n",
    "\n",
    "# Minimum number of samples required at each leaf node\n",
    "min_samples_leaf = [1, 2, 4]\n",
    "\n",
    "# Method of selecting samples for training each tree\n",
    "bootstrap = [True, False]\n",
    "\n",
    "# Create the random grid\n",
    "random_grid = {'n_estimators': n_estimators,\n",
    "               'max_features': max_features,\n",
    "               'max_depth': max_depth,\n",
    "               'min_samples_split': min_samples_split,\n",
    "               'min_samples_leaf': min_samples_leaf,\n",
    "               'bootstrap': bootstrap}\n",
    "print(random_grid)"
   ]
  },
  {
   "cell_type": "code",
   "execution_count": 121,
   "id": "989c816a",
   "metadata": {
    "scrolled": true
   },
   "outputs": [
    {
     "name": "stdout",
     "output_type": "stream",
     "text": [
      "Fitting 10 folds for each of 10 candidates, totalling 100 fits\n"
     ]
    },
    {
     "data": {
      "text/plain": [
       "RandomizedSearchCV(cv=KFold(n_splits=10, random_state=42, shuffle=True),\n",
       "                   estimator=RandomForestRegressor(max_depth=2,\n",
       "                                                   random_state=42),\n",
       "                   n_jobs=4,\n",
       "                   param_distributions={'bootstrap': [True, False],\n",
       "                                        'max_depth': [10, 20, 30, 40, 50, 60,\n",
       "                                                      70, 80, 90, 100, 110,\n",
       "                                                      None],\n",
       "                                        'max_features': ['auto'],\n",
       "                                        'min_samples_leaf': [1, 2, 4],\n",
       "                                        'min_samples_split': [2, 5, 10],\n",
       "                                        'n_estimators': [10, 64, 118, 173, 227,\n",
       "                                                         282, 336, 391, 445,\n",
       "                                                         500]},\n",
       "                   random_state=42, refit='r2',\n",
       "                   scoring=['neg_mean_absolute_error', 'r2'], verbose=2)"
      ]
     },
     "execution_count": 121,
     "metadata": {},
     "output_type": "execute_result"
    }
   ],
   "source": [
    "# Use the random grid to search for best hyperparameters\n",
    "# First create the base model to tune\n",
    "\n",
    "# rf = regr\n",
    "# RandomForestRegressor()\n",
    "\n",
    "# Random search of parameters, using 3 fold cross validation, \n",
    "# search across 100 different combinations, and use 4 cores - according to my cpu\n",
    "# Setting refit='r2', refits an estimator on the whole dataset with the\n",
    "# parameter setting that has the best cross-validated r2 score.\n",
    "\n",
    "rf_random = RandomizedSearchCV(estimator = regr, param_distributions = random_grid, n_iter = 10, cv = kf,  scoring=['neg_mean_absolute_error','r2'] , refit='r2', verbose=2, random_state=42, n_jobs = 4)\n",
    "\n",
    "# Fit the random search model\n",
    "rf_random.fit(X_train_standardized, y_train)"
   ]
  },
  {
   "cell_type": "markdown",
   "id": "6c9bc973",
   "metadata": {},
   "source": [
    "ממה שעידן עשה:"
   ]
  },
  {
   "cell_type": "code",
   "execution_count": 103,
   "id": "17e3bb41",
   "metadata": {},
   "outputs": [
    {
     "data": {
      "text/plain": [
       "RandomForestRegressor(max_depth=60, min_samples_split=5, n_estimators=136,\n",
       "                      random_state=42)"
      ]
     },
     "execution_count": 103,
     "metadata": {},
     "output_type": "execute_result"
    }
   ],
   "source": [
    "# rf.fit(X_train_standardized, y_train)\n",
    "rf = rf_random.best_estimator_\n",
    "rf.fit(X_train_standardized, y_train)"
   ]
  },
  {
   "cell_type": "code",
   "execution_count": 104,
   "id": "56226db3",
   "metadata": {},
   "outputs": [
    {
     "name": "stdout",
     "output_type": "stream",
     "text": [
      "feature importances list:\n"
     ]
    },
    {
     "data": {
      "text/plain": [
       "Temperature (C)                        9.897603e-01\n",
       "Wind Speed (km/h)                      9.739321e-03\n",
       "Humidity                               4.850426e-04\n",
       "Pressure (millibars)                   5.165182e-06\n",
       "Wind Bearing (degrees)                 4.325148e-06\n",
       "Visibility (km)                        3.698044e-06\n",
       "Clear                                  4.331427e-07\n",
       "Overcast                               4.188603e-07\n",
       "Partly Cloudy                          4.174137e-07\n",
       "Mostly Cloudy                          3.716865e-07\n",
       "Precip Type                            1.643654e-07\n",
       "Foggy                                  1.570129e-07\n",
       "Breezy and Overcast                    4.691632e-08\n",
       "Windy and Overcast                     4.036833e-08\n",
       "Dry and Partly Cloudy                  2.735011e-08\n",
       "Windy and Partly Cloudy                2.630041e-08\n",
       "Breezy and Partly Cloudy               2.005423e-08\n",
       "Breezy and Mostly Cloudy               1.882684e-08\n",
       "Dry                                    9.417921e-09\n",
       "Breezy and Foggy                       8.498690e-09\n",
       "Windy and Foggy                        4.333393e-09\n",
       "Dry and Mostly Cloudy                  2.783221e-09\n",
       "Breezy                                 2.667169e-09\n",
       "Light Rain                             2.502008e-09\n",
       "Dangerously Windy and Partly Cloudy    1.608653e-09\n",
       "Windy and Mostly Cloudy                9.070843e-10\n",
       "Drizzle                                4.447881e-10\n",
       "Windy                                  1.583622e-10\n",
       "Rain                                   5.386893e-11\n",
       "Humid and Overcast                     1.246708e-13\n",
       "Humid and Mostly Cloudy                9.252472e-14\n",
       "Humid and Partly Cloudy                2.217625e-14\n",
       "Breezy and Dry                         0.000000e+00\n",
       "Windy and Dry                          0.000000e+00\n",
       "dtype: float64"
      ]
     },
     "execution_count": 104,
     "metadata": {},
     "output_type": "execute_result"
    }
   ],
   "source": [
    "rf.feature_importances_\n",
    "feature_imp = pd.Series(rf.feature_importances_,index=X_train_standardized.columns).sort_values(ascending=False)\n",
    "print(\"feature importances list:\")\n",
    "feature_imp"
   ]
  },
  {
   "cell_type": "markdown",
   "id": "73d83609",
   "metadata": {},
   "source": [
    "another option: try it if something goes wrong"
   ]
  },
  {
   "cell_type": "code",
   "execution_count": 122,
   "id": "5879d687",
   "metadata": {},
   "outputs": [],
   "source": [
    " from sklearn.feature_selection import RFECV"
   ]
  },
  {
   "cell_type": "code",
   "execution_count": null,
   "id": "3e0376fc",
   "metadata": {},
   "outputs": [],
   "source": [
    "# Feature ranking with recursive feature elimination.\n",
    "\n",
    "f_i = list(zip(features,rf.feature_importances_))\n",
    "f_i.sort(key = lambda x : x[1])\n",
    "plt.barh([x[0] for x in f_i],[x[1] for x in f_i])\n",
    "\n",
    "plt.show()\n",
    "\n",
    "\n",
    "\n",
    "\n",
    "rfe = RFECV(rf,cv=5,scoring=\"neg_mean_squared_error\")\n",
    "\n",
    "rfe.fit(X_train_standardized,y_train) # change to standarrized x!\n",
    "\n",
    "\n",
    "selected_features = np.array(features)[rfe.get_support()]\n"
   ]
  },
  {
   "cell_type": "code",
   "execution_count": null,
   "id": "7262e7c2",
   "metadata": {},
   "outputs": [],
   "source": []
  },
  {
   "cell_type": "code",
   "execution_count": null,
   "id": "b56f7844",
   "metadata": {},
   "outputs": [],
   "source": []
  },
  {
   "cell_type": "code",
   "execution_count": null,
   "id": "64a7dfe7",
   "metadata": {},
   "outputs": [],
   "source": []
  },
  {
   "cell_type": "code",
   "execution_count": null,
   "id": "bb409422",
   "metadata": {},
   "outputs": [],
   "source": [
    "# rf_fit=rf_random.fit(X_train_standardized, y_train)"
   ]
  },
  {
   "cell_type": "code",
   "execution_count": null,
   "id": "823d8ad5",
   "metadata": {},
   "outputs": [],
   "source": [
    "#  scoring =Strategy to evaluate the performance of the cross-validated model on the test set."
   ]
  },
  {
   "cell_type": "code",
   "execution_count": 107,
   "id": "04b6cd57",
   "metadata": {},
   "outputs": [
    {
     "data": {
      "text/plain": [
       "RandomForestRegressor(max_depth=60, min_samples_split=5, n_estimators=136,\n",
       "                      random_state=42)"
      ]
     },
     "execution_count": 107,
     "metadata": {},
     "output_type": "execute_result"
    }
   ],
   "source": [
    "# Estimator that was chosen by the search, i.e. estimator which gave highest score (or smallest loss if specified) on the left out data. \n",
    "rf_random.best_estimator_"
   ]
  },
  {
   "cell_type": "code",
   "execution_count": 105,
   "id": "6bf6b9e1",
   "metadata": {},
   "outputs": [
    {
     "data": {
      "text/plain": [
       "0.9999656117631153"
      ]
     },
     "execution_count": 105,
     "metadata": {},
     "output_type": "execute_result"
    }
   ],
   "source": [
    "#Mean cross-validated score of the best_estimator.\\\n",
    "# after checking the score of the mae, we saw that the the r2 score was better \n",
    "rf_random.best_score_\n",
    "\n"
   ]
  },
  {
   "cell_type": "code",
   "execution_count": 106,
   "id": "1e74bf33",
   "metadata": {
    "scrolled": true
   },
   "outputs": [
    {
     "data": {
      "text/plain": [
       "{'n_estimators': 136,\n",
       " 'min_samples_split': 5,\n",
       " 'min_samples_leaf': 1,\n",
       " 'max_features': 'auto',\n",
       " 'max_depth': 60,\n",
       " 'bootstrap': True}"
      ]
     },
     "execution_count": 106,
     "metadata": {},
     "output_type": "execute_result"
    }
   ],
   "source": [
    "# Parameter setting that gave the best results on the hold out data.\n",
    "rf_random.best_params_"
   ]
  },
  {
   "cell_type": "code",
   "execution_count": null,
   "id": "b0b6da34",
   "metadata": {},
   "outputs": [],
   "source": [
    "# rf.fit(X_train_standardized, y_train)"
   ]
  },
  {
   "cell_type": "markdown",
   "id": "85c491c2",
   "metadata": {},
   "source": [
    "פונקציה שמייצרת גרף למאפיינים ככה שניתן לראות את חשיבות כל מאפיין"
   ]
  },
  {
   "cell_type": "code",
   "execution_count": 108,
   "id": "31dc64b8",
   "metadata": {},
   "outputs": [],
   "source": [
    "# plotting a feature importance dataframe (horizontal barchart)\n",
    "def var_imp_plot(imp_df, title):\n",
    "    imp_df.columns = ['feature', 'feature_importance']\n",
    "    sns.set(font_scale = 0.7)\n",
    "    p=sns.barplot(x = 'feature_importance', y = 'feature', data = imp_df, orient = 'h', color = 'royalblue') \\\n",
    "       .set_title(title, fontsize = 20)\n",
    "#     p.set_ylabel(\"'feature'\", fontsize = 5)"
   ]
  },
  {
   "cell_type": "code",
   "execution_count": null,
   "id": "cbef27ca",
   "metadata": {},
   "outputs": [],
   "source": [
    "# def r2(rf, X_train, y_train):\n",
    "#     return r2_score(y_train, rf.predict(X_train))\n",
    "\n",
    "# perm_imp_rfpimp = permutation_importance(rf, X_train, y_train, scoring='r2')"
   ]
  },
  {
   "cell_type": "code",
   "execution_count": null,
   "id": "3248f0d9",
   "metadata": {
    "scrolled": true
   },
   "outputs": [],
   "source": [
    "# perm_imp_rfpimp.importances_mean"
   ]
  },
  {
   "cell_type": "code",
   "execution_count": null,
   "id": "b13f6e11",
   "metadata": {},
   "outputs": [],
   "source": [
    "# perm_imp_rfpimp.feature_importance"
   ]
  },
  {
   "cell_type": "code",
   "execution_count": null,
   "id": "2bc1dca8",
   "metadata": {
    "scrolled": true
   },
   "outputs": [],
   "source": [
    "# perm_imp_rfpimp.feature_importance"
   ]
  },
  {
   "cell_type": "code",
   "execution_count": 109,
   "id": "0d642f98",
   "metadata": {},
   "outputs": [],
   "source": [
    "def r2(rf, X_train_standardized, y_train):\n",
    "    return r2_score(y_train, rf.predict(X_train_standardized))\n",
    "\n",
    "perm_imp_rfpimp = permutation_importances(rf, X_train_standardized, y_train, r2)"
   ]
  },
  {
   "cell_type": "code",
   "execution_count": 110,
   "id": "821cc620",
   "metadata": {},
   "outputs": [],
   "source": [
    "perm_imp_rfpimp.reset_index(drop = False, inplace = True)"
   ]
  },
  {
   "cell_type": "code",
   "execution_count": 111,
   "id": "a3b01ca2",
   "metadata": {},
   "outputs": [
    {
     "data": {
      "image/png": "[encoded data removed]",
      "text/plain": [
       "<Figure size 432x288 with 1 Axes>"
      ]
     },
     "metadata": {},
     "output_type": "display_data"
    }
   ],
   "source": [
    "var_imp_plot(perm_imp_rfpimp, 'Permutation feature importance (rfpimp)')"
   ]
  },
  {
   "cell_type": "code",
   "execution_count": 112,
   "id": "d5144d7d",
   "metadata": {
    "scrolled": true
   },
   "outputs": [
    {
     "ename": "AttributeError",
     "evalue": "'DataFrame' object has no attribute 'importances_mean'",
     "output_type": "error",
     "traceback": [
      "\u001b[1;31m---------------------------------------------------------------------------\u001b[0m",
      "\u001b[1;31mAttributeError\u001b[0m                            Traceback (most recent call last)",
      "\u001b[1;32m<ipython-input-112-ef843d9737be>\u001b[0m in \u001b[0;36m<module>\u001b[1;34m\u001b[0m\n\u001b[1;32m----> 1\u001b[1;33m \u001b[0mperm_imp_rfpimp\u001b[0m\u001b[1;33m.\u001b[0m\u001b[0mimportances_mean\u001b[0m\u001b[1;33m\u001b[0m\u001b[1;33m\u001b[0m\u001b[0m\n\u001b[0m",
      "\u001b[1;32m~\\anaconda3\\lib\\site-packages\\pandas\\core\\generic.py\u001b[0m in \u001b[0;36m__getattr__\u001b[1;34m(self, name)\u001b[0m\n\u001b[0;32m   5463\u001b[0m             \u001b[1;32mif\u001b[0m \u001b[0mself\u001b[0m\u001b[1;33m.\u001b[0m\u001b[0m_info_axis\u001b[0m\u001b[1;33m.\u001b[0m\u001b[0m_can_hold_identifiers_and_holds_name\u001b[0m\u001b[1;33m(\u001b[0m\u001b[0mname\u001b[0m\u001b[1;33m)\u001b[0m\u001b[1;33m:\u001b[0m\u001b[1;33m\u001b[0m\u001b[1;33m\u001b[0m\u001b[0m\n\u001b[0;32m   5464\u001b[0m                 \u001b[1;32mreturn\u001b[0m \u001b[0mself\u001b[0m\u001b[1;33m[\u001b[0m\u001b[0mname\u001b[0m\u001b[1;33m]\u001b[0m\u001b[1;33m\u001b[0m\u001b[1;33m\u001b[0m\u001b[0m\n\u001b[1;32m-> 5465\u001b[1;33m             \u001b[1;32mreturn\u001b[0m \u001b[0mobject\u001b[0m\u001b[1;33m.\u001b[0m\u001b[0m__getattribute__\u001b[0m\u001b[1;33m(\u001b[0m\u001b[0mself\u001b[0m\u001b[1;33m,\u001b[0m \u001b[0mname\u001b[0m\u001b[1;33m)\u001b[0m\u001b[1;33m\u001b[0m\u001b[1;33m\u001b[0m\u001b[0m\n\u001b[0m\u001b[0;32m   5466\u001b[0m \u001b[1;33m\u001b[0m\u001b[0m\n\u001b[0;32m   5467\u001b[0m     \u001b[1;32mdef\u001b[0m \u001b[0m__setattr__\u001b[0m\u001b[1;33m(\u001b[0m\u001b[0mself\u001b[0m\u001b[1;33m,\u001b[0m \u001b[0mname\u001b[0m\u001b[1;33m:\u001b[0m \u001b[0mstr\u001b[0m\u001b[1;33m,\u001b[0m \u001b[0mvalue\u001b[0m\u001b[1;33m)\u001b[0m \u001b[1;33m->\u001b[0m \u001b[1;32mNone\u001b[0m\u001b[1;33m:\u001b[0m\u001b[1;33m\u001b[0m\u001b[1;33m\u001b[0m\u001b[0m\n",
      "\u001b[1;31mAttributeError\u001b[0m: 'DataFrame' object has no attribute 'importances_mean'"
     ]
    }
   ],
   "source": [
    "perm_imp_rfpimp.importances_mean"
   ]
  },
  {
   "cell_type": "code",
   "execution_count": 113,
   "id": "2444ea94",
   "metadata": {},
   "outputs": [],
   "source": [
    "def imp_df(column_names, importances):\n",
    "    df = pd.DataFrame({'feature': column_names,\n",
    "                       'feature_importance': importances}) \\\n",
    "           .sort_values('feature_importance', ascending = False) \\\n",
    "           .reset_index(drop = True)\n",
    "    return df\n"
   ]
  },
  {
   "cell_type": "markdown",
   "id": "45daa646",
   "metadata": {},
   "source": [
    "## finding the weight of the parametes"
   ]
  },
  {
   "cell_type": "code",
   "execution_count": 114,
   "id": "e6236390",
   "metadata": {},
   "outputs": [],
   "source": [
    "import eli5\n",
    "from eli5.sklearn import PermutationImportance\n",
    "\n",
    "# i deacresed the number of iterations so it will be easier to run\n",
    "perm = PermutationImportance(rf, cv = None, refit = False, n_iter = 10).fit(X_train_standardized,y_train)\n",
    "perm_imp_eli5 = imp_df(X_train_standardized.columns, perm.feature_importances_)\n"
   ]
  },
  {
   "cell_type": "code",
   "execution_count": 115,
   "id": "bbca72d7",
   "metadata": {},
   "outputs": [
    {
     "data": {
      "image/png": "[encoded data removed]",
      "text/plain": [
       "<Figure size 432x288 with 1 Axes>"
      ]
     },
     "metadata": {},
     "output_type": "display_data"
    }
   ],
   "source": [
    "var_imp_plot(perm_imp_eli5, 'Permutation feature importance (eli5)')"
   ]
  },
  {
   "cell_type": "markdown",
   "id": "a1500ec2",
   "metadata": {},
   "source": [
    "features with the highest importance:\n",
    "    temperature\n",
    "    wind speed\n",
    "    foggy\n",
    "    wind bearing\n",
    "    overcast\n",
    "    humidity\n",
    "\n",
    "features with the lowest importance:\n",
    "    visibility\n",
    "    Precip type\n",
    "    pressure\n",
    "    "
   ]
  },
  {
   "cell_type": "code",
   "execution_count": null,
   "id": "679b931a",
   "metadata": {},
   "outputs": [],
   "source": [
    "X_train_standardized"
   ]
  },
  {
   "cell_type": "code",
   "execution_count": 116,
   "id": "a5cd63e0",
   "metadata": {},
   "outputs": [],
   "source": [
    "features=pd.DataFrame(data={'features': X_train_standardized.columns})\n",
    "data={'features': X_train_standardized.columns}"
   ]
  },
  {
   "cell_type": "code",
   "execution_count": 117,
   "id": "40066ab0",
   "metadata": {},
   "outputs": [
    {
     "data": {
      "text/html": [
       "\n",
       "    <style>\n",
       "    table.eli5-weights tr:hover {\n",
       "        filter: brightness(85%);\n",
       "    }\n",
       "</style>\n",
       "\n",
       "\n",
       "\n",
       "    \n",
       "\n",
       "    \n",
       "\n",
       "    \n",
       "\n",
       "    \n",
       "\n",
       "    \n",
       "\n",
       "    \n",
       "\n",
       "\n",
       "    \n",
       "\n",
       "    \n",
       "\n",
       "    \n",
       "\n",
       "    \n",
       "\n",
       "    \n",
       "\n",
       "    \n",
       "\n",
       "\n",
       "    \n",
       "\n",
       "    \n",
       "\n",
       "    \n",
       "\n",
       "    \n",
       "\n",
       "    \n",
       "        <table class=\"eli5-weights eli5-feature-importances\" style=\"border-collapse: collapse; border: none; margin-top: 0em; table-layout: auto;\">\n",
       "    <thead>\n",
       "    <tr style=\"border: none;\">\n",
       "        <th style=\"padding: 0 1em 0 0.5em; text-align: right; border: none;\">Weight</th>\n",
       "        <th style=\"padding: 0 0.5em 0 0.5em; text-align: left; border: none;\">Feature</th>\n",
       "    </tr>\n",
       "    </thead>\n",
       "    <tbody>\n",
       "    \n",
       "        <tr style=\"background-color: hsl(120, 100.00%, 80.00%); border: none;\">\n",
       "            <td style=\"padding: 0 1em 0 0.5em; text-align: right; border: none;\">\n",
       "                2.0816\n",
       "                \n",
       "                    &plusmn; 0.0215\n",
       "                \n",
       "            </td>\n",
       "            <td style=\"padding: 0 0.5em 0 0.5em; text-align: left; border: none;\">\n",
       "                x1\n",
       "            </td>\n",
       "        </tr>\n",
       "    \n",
       "        <tr style=\"background-color: hsl(120, 100.00%, 99.19%); border: none;\">\n",
       "            <td style=\"padding: 0 1em 0 0.5em; text-align: right; border: none;\">\n",
       "                0.0215\n",
       "                \n",
       "                    &plusmn; 0.0003\n",
       "                \n",
       "            </td>\n",
       "            <td style=\"padding: 0 0.5em 0 0.5em; text-align: left; border: none;\">\n",
       "                x3\n",
       "            </td>\n",
       "        </tr>\n",
       "    \n",
       "        <tr style=\"background-color: hsl(120, 100.00%, 99.68%); border: none;\">\n",
       "            <td style=\"padding: 0 1em 0 0.5em; text-align: right; border: none;\">\n",
       "                0.0057\n",
       "                \n",
       "                    &plusmn; 0.0001\n",
       "                \n",
       "            </td>\n",
       "            <td style=\"padding: 0 0.5em 0 0.5em; text-align: left; border: none;\">\n",
       "                x2\n",
       "            </td>\n",
       "        </tr>\n",
       "    \n",
       "        <tr style=\"background-color: hsl(120, 100.00%, 100.00%); border: none;\">\n",
       "            <td style=\"padding: 0 1em 0 0.5em; text-align: right; border: none;\">\n",
       "                0.0000\n",
       "                \n",
       "                    &plusmn; 0.0000\n",
       "                \n",
       "            </td>\n",
       "            <td style=\"padding: 0 0.5em 0 0.5em; text-align: left; border: none;\">\n",
       "                x6\n",
       "            </td>\n",
       "        </tr>\n",
       "    \n",
       "        <tr style=\"background-color: hsl(120, 100.00%, 100.00%); border: none;\">\n",
       "            <td style=\"padding: 0 1em 0 0.5em; text-align: right; border: none;\">\n",
       "                0.0000\n",
       "                \n",
       "                    &plusmn; 0.0000\n",
       "                \n",
       "            </td>\n",
       "            <td style=\"padding: 0 0.5em 0 0.5em; text-align: left; border: none;\">\n",
       "                x4\n",
       "            </td>\n",
       "        </tr>\n",
       "    \n",
       "        <tr style=\"background-color: hsl(120, 100.00%, 100.00%); border: none;\">\n",
       "            <td style=\"padding: 0 1em 0 0.5em; text-align: right; border: none;\">\n",
       "                0.0000\n",
       "                \n",
       "                    &plusmn; 0.0000\n",
       "                \n",
       "            </td>\n",
       "            <td style=\"padding: 0 0.5em 0 0.5em; text-align: left; border: none;\">\n",
       "                x5\n",
       "            </td>\n",
       "        </tr>\n",
       "    \n",
       "        <tr style=\"background-color: hsl(120, 100.00%, 100.00%); border: none;\">\n",
       "            <td style=\"padding: 0 1em 0 0.5em; text-align: right; border: none;\">\n",
       "                0.0000\n",
       "                \n",
       "                    &plusmn; 0.0000\n",
       "                \n",
       "            </td>\n",
       "            <td style=\"padding: 0 0.5em 0 0.5em; text-align: left; border: none;\">\n",
       "                x13\n",
       "            </td>\n",
       "        </tr>\n",
       "    \n",
       "        <tr style=\"background-color: hsl(120, 100.00%, 100.00%); border: none;\">\n",
       "            <td style=\"padding: 0 1em 0 0.5em; text-align: right; border: none;\">\n",
       "                0.0000\n",
       "                \n",
       "                    &plusmn; 0.0000\n",
       "                \n",
       "            </td>\n",
       "            <td style=\"padding: 0 0.5em 0 0.5em; text-align: left; border: none;\">\n",
       "                x25\n",
       "            </td>\n",
       "        </tr>\n",
       "    \n",
       "        <tr style=\"background-color: hsl(120, 100.00%, 100.00%); border: none;\">\n",
       "            <td style=\"padding: 0 1em 0 0.5em; text-align: right; border: none;\">\n",
       "                0.0000\n",
       "                \n",
       "                    &plusmn; 0.0000\n",
       "                \n",
       "            </td>\n",
       "            <td style=\"padding: 0 0.5em 0 0.5em; text-align: left; border: none;\">\n",
       "                x26\n",
       "            </td>\n",
       "        </tr>\n",
       "    \n",
       "        <tr style=\"background-color: hsl(120, 100.00%, 100.00%); border: none;\">\n",
       "            <td style=\"padding: 0 1em 0 0.5em; text-align: right; border: none;\">\n",
       "                0.0000\n",
       "                \n",
       "                    &plusmn; 0.0000\n",
       "                \n",
       "            </td>\n",
       "            <td style=\"padding: 0 0.5em 0 0.5em; text-align: left; border: none;\">\n",
       "                x24\n",
       "            </td>\n",
       "        </tr>\n",
       "    \n",
       "        <tr style=\"background-color: hsl(120, 100.00%, 100.00%); border: none;\">\n",
       "            <td style=\"padding: 0 1em 0 0.5em; text-align: right; border: none;\">\n",
       "                0.0000\n",
       "                \n",
       "                    &plusmn; 0.0000\n",
       "                \n",
       "            </td>\n",
       "            <td style=\"padding: 0 0.5em 0 0.5em; text-align: left; border: none;\">\n",
       "                x19\n",
       "            </td>\n",
       "        </tr>\n",
       "    \n",
       "        <tr style=\"background-color: hsl(120, 100.00%, 100.00%); border: none;\">\n",
       "            <td style=\"padding: 0 1em 0 0.5em; text-align: right; border: none;\">\n",
       "                0.0000\n",
       "                \n",
       "                    &plusmn; 0.0000\n",
       "                \n",
       "            </td>\n",
       "            <td style=\"padding: 0 0.5em 0 0.5em; text-align: left; border: none;\">\n",
       "                x0\n",
       "            </td>\n",
       "        </tr>\n",
       "    \n",
       "        <tr style=\"background-color: hsl(120, 100.00%, 100.00%); border: none;\">\n",
       "            <td style=\"padding: 0 1em 0 0.5em; text-align: right; border: none;\">\n",
       "                0.0000\n",
       "                \n",
       "                    &plusmn; 0.0000\n",
       "                \n",
       "            </td>\n",
       "            <td style=\"padding: 0 0.5em 0 0.5em; text-align: left; border: none;\">\n",
       "                x11\n",
       "            </td>\n",
       "        </tr>\n",
       "    \n",
       "        <tr style=\"background-color: hsl(120, 100.00%, 100.00%); border: none;\">\n",
       "            <td style=\"padding: 0 1em 0 0.5em; text-align: right; border: none;\">\n",
       "                0.0000\n",
       "                \n",
       "                    &plusmn; 0.0000\n",
       "                \n",
       "            </td>\n",
       "            <td style=\"padding: 0 0.5em 0 0.5em; text-align: left; border: none;\">\n",
       "                x32\n",
       "            </td>\n",
       "        </tr>\n",
       "    \n",
       "        <tr style=\"background-color: hsl(120, 100.00%, 100.00%); border: none;\">\n",
       "            <td style=\"padding: 0 1em 0 0.5em; text-align: right; border: none;\">\n",
       "                0.0000\n",
       "                \n",
       "                    &plusmn; 0.0000\n",
       "                \n",
       "            </td>\n",
       "            <td style=\"padding: 0 0.5em 0 0.5em; text-align: left; border: none;\">\n",
       "                x33\n",
       "            </td>\n",
       "        </tr>\n",
       "    \n",
       "        <tr style=\"background-color: hsl(120, 100.00%, 100.00%); border: none;\">\n",
       "            <td style=\"padding: 0 1em 0 0.5em; text-align: right; border: none;\">\n",
       "                0.0000\n",
       "                \n",
       "                    &plusmn; 0.0000\n",
       "                \n",
       "            </td>\n",
       "            <td style=\"padding: 0 0.5em 0 0.5em; text-align: left; border: none;\">\n",
       "                x18\n",
       "            </td>\n",
       "        </tr>\n",
       "    \n",
       "        <tr style=\"background-color: hsl(120, 100.00%, 100.00%); border: none;\">\n",
       "            <td style=\"padding: 0 1em 0 0.5em; text-align: right; border: none;\">\n",
       "                0.0000\n",
       "                \n",
       "                    &plusmn; 0.0000\n",
       "                \n",
       "            </td>\n",
       "            <td style=\"padding: 0 0.5em 0 0.5em; text-align: left; border: none;\">\n",
       "                x10\n",
       "            </td>\n",
       "        </tr>\n",
       "    \n",
       "        <tr style=\"background-color: hsl(120, 100.00%, 100.00%); border: none;\">\n",
       "            <td style=\"padding: 0 1em 0 0.5em; text-align: right; border: none;\">\n",
       "                0.0000\n",
       "                \n",
       "                    &plusmn; 0.0000\n",
       "                \n",
       "            </td>\n",
       "            <td style=\"padding: 0 0.5em 0 0.5em; text-align: left; border: none;\">\n",
       "                x30\n",
       "            </td>\n",
       "        </tr>\n",
       "    \n",
       "        <tr style=\"background-color: hsl(120, 100.00%, 100.00%); border: none;\">\n",
       "            <td style=\"padding: 0 1em 0 0.5em; text-align: right; border: none;\">\n",
       "                0.0000\n",
       "                \n",
       "                    &plusmn; 0.0000\n",
       "                \n",
       "            </td>\n",
       "            <td style=\"padding: 0 0.5em 0 0.5em; text-align: left; border: none;\">\n",
       "                x12\n",
       "            </td>\n",
       "        </tr>\n",
       "    \n",
       "        <tr style=\"background-color: hsl(120, 100.00%, 100.00%); border: none;\">\n",
       "            <td style=\"padding: 0 1em 0 0.5em; text-align: right; border: none;\">\n",
       "                0.0000\n",
       "                \n",
       "                    &plusmn; 0.0000\n",
       "                \n",
       "            </td>\n",
       "            <td style=\"padding: 0 0.5em 0 0.5em; text-align: left; border: none;\">\n",
       "                x14\n",
       "            </td>\n",
       "        </tr>\n",
       "    \n",
       "    \n",
       "        \n",
       "            <tr style=\"background-color: hsl(120, 100.00%, 100.00%); border: none;\">\n",
       "                <td colspan=\"2\" style=\"padding: 0 0.5em 0 0.5em; text-align: center; border: none; white-space: nowrap;\">\n",
       "                    <i>&hellip; 14 more &hellip;</i>\n",
       "                </td>\n",
       "            </tr>\n",
       "        \n",
       "    \n",
       "    </tbody>\n",
       "</table>\n",
       "    \n",
       "\n",
       "    \n",
       "\n",
       "\n",
       "    \n",
       "\n",
       "    \n",
       "\n",
       "    \n",
       "\n",
       "    \n",
       "\n",
       "    \n",
       "\n",
       "    \n",
       "\n",
       "\n",
       "\n"
      ],
      "text/plain": [
       "<IPython.core.display.HTML object>"
      ]
     },
     "execution_count": 117,
     "metadata": {},
     "output_type": "execute_result"
    }
   ],
   "source": [
    " eli5.show_weights(perm, target_names =data)"
   ]
  },
  {
   "cell_type": "code",
   "execution_count": null,
   "id": "69ad671a",
   "metadata": {},
   "outputs": [],
   "source": []
  },
  {
   "cell_type": "code",
   "execution_count": null,
   "id": "f12c1790",
   "metadata": {},
   "outputs": [],
   "source": [
    "# after finding the best hypermeters:"
   ]
  },
  {
   "cell_type": "markdown",
   "id": "73036c2f",
   "metadata": {},
   "source": [
    "# Testing best Random forest Regressor model:"
   ]
  },
  {
   "cell_type": "code",
   "execution_count": null,
   "id": "d2fd4864",
   "metadata": {},
   "outputs": [],
   "source": [
    "rf = rf_random.best_estimator_\n",
    "rf.fit(X_train_normalized, y_train)\n",
    "\n",
    "R2_score = rf.score(X_test_normalized, y_test)\n",
    "y_predict = rf.predict(X_test_normalized)\n",
    "mae_score = MAE(y_test, y_predict)\n",
    "\n",
    "indexes = list(range(1, len(y_predict)+1))\n",
    "fig, axs = plt.subplots(1, 1, figsize=(9, 3), sharey=True)\n",
    "axs.plot(indexes, y_predict, label='target_predicted', color='orange')\n",
    "axs.plot(indexes, y_test, label='target_value', color='purple')\n",
    "axs.legend()\n",
    "axs.set_xlabel('targes indexes')\n",
    "axs.set_ylabel('Selling Price')\n",
    "fig.suptitle('Predicted values VS True Values:')\n",
    "plt.show()\n",
    "\n",
    "pd.DataFrame(index=['test RFR model'], data={'R2_score': R2_score, 'MAE score': mae_score}) "
   ]
  },
  {
   "cell_type": "markdown",
   "id": "80c05ef6",
   "metadata": {},
   "source": [
    "# Keras Regressions"
   ]
  },
  {
   "cell_type": "code",
   "execution_count": null,
   "id": "73bbbf9a",
   "metadata": {},
   "outputs": [],
   "source": [
    "Models in Keras are defined as a sequence of layers.\n",
    "\n",
    "We create a Sequential model and add layers one at a time until we are happy with our network architecture.\n",
    "\n"
   ]
  },
  {
   "cell_type": "code",
   "execution_count": null,
   "id": "9564c16a",
   "metadata": {},
   "outputs": [],
   "source": [
    "X_train\n"
   ]
  },
  {
   "cell_type": "code",
   "execution_count": null,
   "id": "acc16f90",
   "metadata": {},
   "outputs": [],
   "source": [
    "import tensorflow as tf"
   ]
  },
  {
   "cell_type": "code",
   "execution_count": null,
   "id": "121e0ddb",
   "metadata": {},
   "outputs": [],
   "source": [
    "from keras.models import Sequential\n",
    "from keras.layers import Dense\n",
    "from keras.wrappers.scikit_learn import KerasRegressor\n",
    "from sklearn.model_selection import cross_val_score\n",
    "from sklearn.model_selection import KFold"
   ]
  },
  {
   "cell_type": "code",
   "execution_count": null,
   "id": "4115421b",
   "metadata": {},
   "outputs": [],
   "source": [
    " we will use a fully-connected network structure with three layers.\n",
    "\n",
    "Fully connected layers are defined using the Dense class. We can specify the number of neurons or nodes in the layer as the first argument, and specify the activation function using the activation argument."
   ]
  },
  {
   "cell_type": "code",
   "execution_count": null,
   "id": "0e3bf43a",
   "metadata": {},
   "outputs": [],
   "source": [
    "from tensorflow.keras.models import Sequential\n",
    "from tensorflow.keras.layers import Dense, Activation\n",
    "from tensorflow.keras.optimizers import Adam\n",
    "# We will define the optimizer as the efficient stochastic gradient descent algorithm “adam“. This is a popular version of gradient descent because it automatically tunes itself and gives good results in a wide range of problems.\n",
    "# Also, ADAM optimization algorithm is used for optimizing loss function (Mean squared error)"
   ]
  },
  {
   "cell_type": "code",
   "execution_count": null,
   "id": "36d8e8f6",
   "metadata": {},
   "outputs": [],
   "source": [
    "keras.metrics.RootMeanSquaredError()"
   ]
  },
  {
   "cell_type": "code",
   "execution_count": null,
   "id": "0116e48b",
   "metadata": {},
   "outputs": [],
   "source": [
    "We will use the rectified linear unit activation function referred to as ReLU on all the 4 layers."
   ]
  },
  {
   "cell_type": "code",
   "execution_count": null,
   "id": "43055502",
   "metadata": {},
   "outputs": [],
   "source": [
    "model = Sequential()\n",
    "model.add(Dense(11,activation='relu'))\n",
    "model.add(Dense(11,activation='relu'))\n",
    "model.add(Dense(11,activation='relu'))\n",
    "model.add(Dense(11,activation='relu'))\n",
    "model.compile(loss='mean_squared_error', optimizer='adam', metrics=['mse', 'mae',tf.keras.metrics.RootMeanSquaredError()])"
   ]
  },
  {
   "cell_type": "code",
   "execution_count": null,
   "id": "6ad80418",
   "metadata": {},
   "outputs": [],
   "source": [
    "y_test"
   ]
  },
  {
   "cell_type": "code",
   "execution_count": null,
   "id": "a4828a9b",
   "metadata": {},
   "outputs": [],
   "source": [
    "X_train = np.asarray(X_train).astype(np.float32)\n",
    "y_train = np.asarray(y_train).astype(np.float32)\n",
    "X_test= np.asarray(X_test).astype(np.float32)\n",
    "y_test= np.asarray(y_test).astype(np.float32)"
   ]
  },
  {
   "cell_type": "code",
   "execution_count": null,
   "id": "0d42dbbb",
   "metadata": {},
   "outputs": [],
   "source": [
    "model.fit(x=X_train,y=y_train,\n",
    "          validation_data=(X_test,y_test),\n",
    "          batch_size=128,epochs=400)\n",
    "model.summary()"
   ]
  },
  {
   "cell_type": "code",
   "execution_count": null,
   "id": "3ae377c9",
   "metadata": {},
   "outputs": [],
   "source": [
    "loss_df = pd.DataFrame(model.history.history)\n",
    "loss_df.plot(figsize=(12,8))"
   ]
  },
  {
   "cell_type": "markdown",
   "id": "3b5b94ef",
   "metadata": {},
   "source": [
    "let's check the values of each metric"
   ]
  },
  {
   "cell_type": "code",
   "execution_count": null,
   "id": "ac264e3f",
   "metadata": {},
   "outputs": [],
   "source": [
    "model.history.history['val_mse']"
   ]
  },
  {
   "cell_type": "code",
   "execution_count": null,
   "id": "24053a91",
   "metadata": {},
   "outputs": [],
   "source": [
    "model.history.history['val_mae']"
   ]
  },
  {
   "cell_type": "code",
   "execution_count": null,
   "id": "8568f6bb",
   "metadata": {},
   "outputs": [],
   "source": [
    "model.history.history['val_root_mean_squared_error']"
   ]
  },
  {
   "cell_type": "markdown",
   "id": "784f1137",
   "metadata": {},
   "source": [
    "see the loss of each metric in a plot"
   ]
  },
  {
   "cell_type": "code",
   "execution_count": null,
   "id": "10a188ea",
   "metadata": {},
   "outputs": [],
   "source": [
    "# plot metrics\n",
    "pyplot.plot(loss_df ['mse'])\n"
   ]
  },
  {
   "cell_type": "code",
   "execution_count": null,
   "id": "0418216c",
   "metadata": {},
   "outputs": [],
   "source": [
    "pyplot.plot(loss_df ['mae'])\n"
   ]
  },
  {
   "cell_type": "code",
   "execution_count": null,
   "id": "5b11c226",
   "metadata": {},
   "outputs": [],
   "source": [
    "pyplot.plot(loss_df ['root_mean_squared_error'])"
   ]
  },
  {
   "cell_type": "code",
   "execution_count": null,
   "id": "26308a60",
   "metadata": {},
   "outputs": [],
   "source": [
    "\n",
    "print(loss_df.keys())"
   ]
  },
  {
   "cell_type": "code",
   "execution_count": null,
   "id": "52955c12",
   "metadata": {},
   "outputs": [],
   "source": []
  },
  {
   "cell_type": "code",
   "execution_count": null,
   "id": "f1c0fae9",
   "metadata": {},
   "outputs": [],
   "source": [
    "# cv = number of folds\n",
    "# n_iter - number of iterrations"
   ]
  },
  {
   "cell_type": "markdown",
   "id": "3caac216",
   "metadata": {},
   "source": [
    "For Conclusion:"
   ]
  },
  {
   "cell_type": "markdown",
   "id": "e744560c",
   "metadata": {},
   "source": [
    "what can we do better?\n",
    "\n",
    "*use SMOGN or SMOTER to balance the data\n",
    "*use other feature selection methods such as "
   ]
  },
  {
   "cell_type": "code",
   "execution_count": null,
   "id": "6d5d687c",
   "metadata": {},
   "outputs": [],
   "source": []
  }
 ],
 "metadata": {
  "kernelspec": {
   "display_name": "Python 3",
   "language": "python",
   "name": "python3"
  },
  "language_info": {
   "codemirror_mode": {
    "name": "ipython",
    "version": 3
   },
   "file_extension": ".py",
   "mimetype": "text/x-python",
   "name": "python",
   "nbconvert_exporter": "python",
   "pygments_lexer": "ipython3",
   "version": "3.8.8"
  }
 },
 "nbformat": 4,
 "nbformat_minor": 5
}
