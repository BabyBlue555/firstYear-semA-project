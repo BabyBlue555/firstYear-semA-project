{
 "cells": [
  {
   "cell_type": "code",
   "execution_count": 1,
   "id": "297bad3b",
   "metadata": {},
   "outputs": [],
   "source": [
    "from math import log\n",
    "def ChangeFromBase10(num):\n",
    "    numToChar={i:\"0123456789ABCDEF\" [i] for i in range (16)}\n",
    "    \n",
    "    #set power to largest\n",
    "    power2= int(log(num,2) )\n",
    "    power8=int(log(num,8) )\n",
    "    power16=int(log(num,16) )\n",
    "    \n",
    "    #saving the value of the original number\n",
    "    num8=num\n",
    "    num16=num\n",
    "    \n",
    "    #convert number\n",
    "    converted2=\" \"\n",
    "    for pow in range(power2, -1, -1 ):\n",
    "        # divide\n",
    "        converted2 += numToChar[num // (2**pow)]\n",
    "        # remainder\n",
    "        num %=2**pow\n",
    "    #return\n",
    "    print(converted2)\n",
    "   \n",
    "    converted8=\" \"\n",
    "    for pow in range(power8, -1, -1 ):\n",
    "        # divide\n",
    "        converted8 += numToChar[num8 // (8**pow)]\n",
    "        # remainder\n",
    "        num8 %=8**pow\n",
    "    #return\n",
    "    print(converted8)\n",
    "\n",
    "    converted16=\" \"\n",
    "    for pow in range(power16, -1, -1 ):\n",
    "        # divide\n",
    "        converted16 += numToChar[num16 // (16**pow)]\n",
    "        # remainder\n",
    "        num16 %=16**pow\n",
    "    #return\n",
    "    print(converted16)\n",
    "    return"
   ]
  },
  {
   "cell_type": "markdown",
   "id": "fe77e07d",
   "metadata": {},
   "source": [
    "### examples"
   ]
  },
  {
   "cell_type": "code",
   "execution_count": 5,
   "id": "e525aefa",
   "metadata": {},
   "outputs": [
    {
     "name": "stdout",
     "output_type": "stream",
     "text": [
      " 10110000110\n",
      " 2606\n",
      " 586\n"
     ]
    }
   ],
   "source": [
    "#ChangeFromBase10(1414)"
   ]
  },
  {
   "cell_type": "code",
   "execution_count": 6,
   "id": "a180bae5",
   "metadata": {},
   "outputs": [
    {
     "name": "stdout",
     "output_type": "stream",
     "text": [
      " 110101101\n",
      " 655\n",
      " 1AD\n"
     ]
    }
   ],
   "source": [
    "#ChangeFromBase10(429)"
   ]
  },
  {
   "cell_type": "code",
   "execution_count": 7,
   "id": "2a917a51",
   "metadata": {},
   "outputs": [
    {
     "name": "stdout",
     "output_type": "stream",
     "text": [
      " 100011100111110\n",
      " 43476\n",
      " 473E\n"
     ]
    }
   ],
   "source": [
    "#ChangeFromBase10(18238)"
   ]
  },
  {
   "cell_type": "code",
   "execution_count": null,
   "id": "8340d254",
   "metadata": {},
   "outputs": [],
   "source": []
  }
 ],
 "metadata": {
  "kernelspec": {
   "display_name": "Python 3",
   "language": "python",
   "name": "python3"
  },
  "language_info": {
   "codemirror_mode": {
    "name": "ipython",
    "version": 3
   },
   "file_extension": ".py",
   "mimetype": "text/x-python",
   "name": "python",
   "nbconvert_exporter": "python",
   "pygments_lexer": "ipython3",
   "version": "3.8.8"
  }
 },
 "nbformat": 4,
 "nbformat_minor": 5
}
